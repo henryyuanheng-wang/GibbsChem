{
 "cells": [
  {
   "cell_type": "code",
   "execution_count": 1,
   "metadata": {
    "collapsed": false
   },
   "outputs": [
    {
     "name": "stdout",
     "output_type": "stream",
     "text": [
      "Populating the interactive namespace from numpy and matplotlib\n"
     ]
    }
   ],
   "source": [
    "%pylab inline\n",
    "from Chempy.parameter import ModelParameters\n",
    "a=ModelParameters()"
   ]
  },
  {
   "cell_type": "code",
   "execution_count": 55,
   "metadata": {
    "collapsed": false
   },
   "outputs": [],
   "source": [
    "# Import proto-solar data\n",
    "data=np.load('Chempy/input/stars/Proto-sun_all.npy')\n",
    "el_names=[el for el in a.elements_to_trace if el!='H']\n",
    "means=data[el_names][0]\n",
    "errs=data[el_names][1]"
   ]
  },
  {
   "cell_type": "code",
   "execution_count": 56,
   "metadata": {
    "collapsed": false,
    "scrolled": true
   },
   "outputs": [],
   "source": [
    "def score_fun(abun):\n",
    "    from scipy.stats import norm\n",
    "    out=1.\n",
    "    for i in range(len(abun)):\n",
    "        out*=norm.pdf(abun[i],loc=means[i],scale=np.sqrt(2)*errs[i]) # score contribution\n",
    "    rescaled_out=out**(1./len(abun))\n",
    "    return rescaled_out"
   ]
  },
  {
   "cell_type": "code",
   "execution_count": 57,
   "metadata": {
    "collapsed": false
   },
   "outputs": [
    {
     "name": "stdout",
     "output_type": "stream",
     "text": [
      "0\n",
      "1000\n",
      "2000\n",
      "3000\n",
      "4000\n",
      "5000\n",
      "6000\n",
      "7000\n",
      "8000\n",
      "9000\n"
     ]
    }
   ],
   "source": [
    "scores=np.zeros(int(1e4))\n",
    "for j in range(int(1e4)):\n",
    "    if j % 1000 ==0:\n",
    "        print(j)\n",
    "    # Compute random realisation\n",
    "    abun=[np.random.normal(loc=means[i],scale=errs[i]) for i in range(len(means))]\n",
    "    scores[j]=score_fun(abun)"
   ]
  },
  {
   "cell_type": "code",
   "execution_count": 58,
   "metadata": {
    "collapsed": false
   },
   "outputs": [
    {
     "name": "stdout",
     "output_type": "stream",
     "text": [
      "0.632500495143 0.0535411229739\n",
      "0.6414 + 0.0423 - 0.0604\n"
     ]
    }
   ],
   "source": [
    "scores=np.log10(scores)\n",
    "sc_mean=np.mean(scores)\n",
    "sc_std=np.std(scores)\n",
    "sc_med=np.median(scores)\n",
    "sc_up=np.percentile(scores,100-15.865)\n",
    "sc_lo=np.percentile(scores,15.865)\n",
    "print(sc_mean,sc_std)\n",
    "print('%.4f + %.4f - %.4f' %(sc_med,sc_up-sc_med,sc_med-sc_lo))"
   ]
  },
  {
   "cell_type": "code",
   "execution_count": 60,
   "metadata": {
    "collapsed": false
   },
   "outputs": [
    {
     "data": {
      "image/png": "[encoded data removed]",
      "text/plain": [
       "<matplotlib.figure.Figure at 0x7f5356c73be0>"
      ]
     },
     "metadata": {},
     "output_type": "display_data"
    }
   ],
   "source": [
    "_=plt.hist(scores,bins=50)\n",
    "plt.ylabel('Frequency')\n",
    "plt.xlabel('log CV score')\n",
    "plt.title('LOO-CV Protosolar Self Scores')\n",
    "plt.savefig('Protosolar_self_scores.png')"
   ]
  },
  {
   "cell_type": "code",
   "execution_count": null,
   "metadata": {
    "collapsed": true
   },
   "outputs": [],
   "source": []
  }
 ],
 "metadata": {
  "anaconda-cloud": {},
  "kernelspec": {
   "display_name": "Python 3",
   "language": "python",
   "name": "python3"
  },
  "language_info": {
   "codemirror_mode": {
    "name": "ipython",
    "version": 3
   },
   "file_extension": ".py",
   "mimetype": "text/x-python",
   "name": "python",
   "nbconvert_exporter": "python",
   "pygments_lexer": "ipython3",
   "version": "3.5.2"
  }
 },
 "nbformat": 4,
 "nbformat_minor": 1
}
