{
 "cells": [
  {
   "cell_type": "code",
   "execution_count": 1,
   "metadata": {},
   "outputs": [
    {
     "name": "stdout",
     "output_type": "stream",
     "text": [
      "Populating the interactive namespace from numpy and matplotlib\n"
     ]
    }
   ],
   "source": [
    "%pylab inline"
   ]
  },
  {
   "cell_type": "code",
   "execution_count": 2,
   "metadata": {
    "collapsed": true
   },
   "outputs": [],
   "source": [
    "from Chempy.parameter import ModelParameters\n",
    "a = ModelParameters()"
   ]
  },
  {
   "cell_type": "code",
   "execution_count": 3,
   "metadata": {},
   "outputs": [
    {
     "data": {
      "text/plain": [
       "['N', 'Mn', 'Mg']"
      ]
     },
     "execution_count": 3,
     "metadata": {},
     "output_type": "execute_result"
    }
   ],
   "source": [
    "a.elements_to_trace"
   ]
  },
  {
   "cell_type": "code",
   "execution_count": 4,
   "metadata": {},
   "outputs": [
    {
     "data": {
      "text/plain": [
       "False"
      ]
     },
     "execution_count": 4,
     "metadata": {},
     "output_type": "execute_result"
    }
   ],
   "source": [
    "a.error_marginalization"
   ]
  },
  {
   "cell_type": "code",
   "execution_count": 5,
   "metadata": {},
   "outputs": [
    {
     "name": "stdout",
     "output_type": "stream",
     "text": [
      "['Proto-sun']\n",
      "first minimization for each star separately took:  1 seconds\n",
      "[4.5040176906621889]\n",
      "step 1 global minimization took: 13 seconds\n",
      "step 1 local minimization took:  0 seconds\n",
      "[4.5040176906621889, 4.58729059623633]\n",
      "step 2 global minimization took:  7 seconds\n",
      "step 2 local minimization took:  0 seconds\n",
      "[array([[-2.60789281, -2.70587413, -0.72917886, -0.32751694,  0.49923936,\n",
      "         0.50061233]]), 'initial minimization', (array([-2.78139503, -3.06404315, -0.66174537]), 4.5040176906621889), 'step 1 global minimization', array([[-2.78139503, -3.06404315, -0.66174537, -0.32751694,  0.52420133,\n",
      "         0.50061233]]), 'step 1 local minimization', (array([-2.79775933, -3.06386583, -0.67636146]), 4.58729059623633), 'step 2 global minimization', array([[-2.79775933, -3.06386583, -0.67636146, -0.32751694,  0.55041139,\n",
      "         0.50061233]]), 'step 2 local minimization', [4.5040176906621889, 4.58729059623633]]\n",
      "step  1 of  1000\n",
      "7.63086889597 7.62965342705\n",
      "calculation so far took 3.0945725440979004  seconds\n",
      "step  2 of  1000\n",
      "7.63086889597 7.62811920805\n",
      "calculation so far took 3.7966179847717285  seconds\n",
      "step  3 of  1000\n",
      "7.63086889597 7.62620621187\n",
      "calculation so far took 4.615392684936523  seconds\n",
      "step  4 of  1000\n",
      "7.63086889597 7.61889630898\n",
      "calculation so far took 5.312829256057739  seconds\n",
      "step  5 of  1000\n",
      "7.63086889597 7.61123361007\n",
      "calculation so far took 5.953696250915527  seconds\n",
      "step  6 of  1000\n",
      "7.63086889597 7.594466943\n",
      "calculation so far took 6.615033149719238  seconds\n",
      "step  7 of  1000\n",
      "7.63086889597 7.55200213132\n",
      "calculation so far took 7.2487475872039795  seconds\n",
      "step  8 of  1000\n",
      "7.63086889597 7.45569099375\n",
      "calculation so far took 7.879859209060669  seconds\n",
      "step  9 of  1000\n",
      "7.63086889597 7.16475339334\n",
      "calculation so far took 8.510565042495728  seconds\n",
      "step  10 of  1000\n",
      "7.63086889597 6.93215462558\n",
      "calculation so far took 9.147858619689941  seconds\n",
      "step  11 of  1000\n",
      "7.63086889597 6.75768398744\n",
      "calculation so far took 9.773700952529907  seconds\n",
      "step  12 of  1000\n",
      "7.63086889597 6.31542080789\n",
      "calculation so far took 10.397923231124878  seconds\n",
      "step  13 of  1000\n",
      "7.63086889597 6.01927411276\n",
      "calculation so far took 11.033782243728638  seconds\n",
      "step  14 of  1000\n",
      "7.63086889597 5.91280758997\n",
      "calculation so far took 11.840441942214966  seconds\n",
      "step  15 of  1000\n",
      "7.63086889597 5.47009632367\n",
      "calculation so far took 12.467031478881836  seconds\n",
      "step  16 of  1000\n",
      "7.63086889597 5.67713958776\n",
      "calculation so far took 13.091230154037476  seconds\n",
      "step  17 of  1000\n",
      "7.63086889597 5.66400134769\n",
      "calculation so far took 13.714960813522339  seconds\n",
      "step  18 of  1000\n",
      "7.63086889597 5.64396764147\n",
      "calculation so far took 14.542388916015625  seconds\n",
      "step  19 of  1000\n",
      "7.63086889597 5.2650859137\n",
      "calculation so far took 15.204012870788574  seconds\n",
      "step  20 of  1000\n",
      "7.63086889597 5.22056473765\n",
      "calculation so far took 15.829405307769775  seconds\n",
      "step  21 of  1000\n",
      "7.63086889597 5.14262410666\n",
      "calculation so far took 16.449530601501465  seconds\n",
      "step  22 of  1000\n",
      "7.63086889597 5.30154111936\n",
      "calculation so far took 17.071689128875732  seconds\n",
      "step  23 of  1000\n",
      "7.63086889597 5.23242496038\n",
      "calculation so far took 17.691662311553955  seconds\n",
      "step  24 of  1000\n",
      "7.63086889597 5.04861050718\n",
      "calculation so far took 18.320618391036987  seconds\n",
      "step  25 of  1000\n",
      "7.63086889597 5.41845521046\n",
      "calculation so far took 18.944872617721558  seconds\n",
      "step  26 of  1000\n",
      "7.63086889597 5.25680578803\n",
      "calculation so far took 19.57252049446106  seconds\n",
      "step  27 of  1000\n",
      "7.63086889597 5.0975721803\n",
      "calculation so far took 20.19611692428589  seconds\n",
      "step  28 of  1000\n",
      "7.63086889597 5.13040376828\n",
      "calculation so far took 20.819435358047485  seconds\n",
      "step  29 of  1000\n",
      "7.63086889597 5.12234502774\n",
      "calculation so far took 21.521819829940796  seconds\n",
      "step  30 of  1000\n",
      "7.63086889597 5.211717873\n",
      "calculation so far took 22.154022932052612  seconds\n",
      "step  31 of  1000\n",
      "7.63086889597 4.92890680894\n",
      "calculation so far took 22.808374166488647  seconds\n",
      "step  32 of  1000\n",
      "7.63086889597 4.99411300098\n",
      "calculation so far took 23.42799711227417  seconds\n",
      "step  33 of  1000\n",
      "7.63086889597 5.06613437368\n",
      "calculation so far took 24.054800748825073  seconds\n",
      "step  34 of  1000\n"
     ]
    },
    {
     "name": "stderr",
     "output_type": "stream",
     "text": [
      "Traceback (most recent call last):\n",
      "  File \"/home/philcox/Chempy/Chempy/cem_function.py\", line 882, in posterior_function_many_stars\n",
      "    posterior, blobs = posterior_function_many_stars_real(changing_parameter,error_list,elements)\n",
      "  File \"/home/philcox/Chempy/Chempy/cem_function.py\", line 920, in posterior_function_many_stars_real\n",
      "    abundance_list,element_list = posterior_function_returning_predictions(args)\n",
      "  File \"/home/philcox/Chempy/Chempy/cem_function.py\", line 482, in posterior_function_returning_predictions\n",
      "    posterior, abundance_list, element_list = posterior_function_predictions(changing_parameter,a)\n",
      "  File \"/home/philcox/Chempy/Chempy/cem_function.py\", line 492, in posterior_function_predictions\n",
      "    a = extract_parameters_and_priors(changing_parameter, a)\n",
      "  File \"/home/philcox/Chempy/Chempy/cem_function.py\", line 717, in extract_parameters_and_priors\n",
      "    assert False, '%s lower border is violated' %(name)\n",
      "AssertionError: outflow_feedback_fraction lower border is violated\n"
     ]
    },
    {
     "name": "stdout",
     "output_type": "stream",
     "text": [
      "7.63086889597 5.17569949804\n",
      "calculation so far took 24.70326519012451  seconds\n",
      "step  35 of  1000\n",
      "7.63086889597 4.95668848646\n",
      "calculation so far took 25.318390130996704  seconds\n",
      "step  36 of  1000\n"
     ]
    },
    {
     "name": "stderr",
     "output_type": "stream",
     "text": [
      "Traceback (most recent call last):\n",
      "  File \"/home/philcox/Chempy/Chempy/cem_function.py\", line 882, in posterior_function_many_stars\n",
      "    posterior, blobs = posterior_function_many_stars_real(changing_parameter,error_list,elements)\n",
      "  File \"/home/philcox/Chempy/Chempy/cem_function.py\", line 920, in posterior_function_many_stars_real\n",
      "    abundance_list,element_list = posterior_function_returning_predictions(args)\n",
      "  File \"/home/philcox/Chempy/Chempy/cem_function.py\", line 482, in posterior_function_returning_predictions\n",
      "    posterior, abundance_list, element_list = posterior_function_predictions(changing_parameter,a)\n",
      "  File \"/home/philcox/Chempy/Chempy/cem_function.py\", line 492, in posterior_function_predictions\n",
      "    a = extract_parameters_and_priors(changing_parameter, a)\n",
      "  File \"/home/philcox/Chempy/Chempy/cem_function.py\", line 719, in extract_parameters_and_priors\n",
      "    assert False, '%s upper border is violated' %(name)\n",
      "AssertionError: outflow_feedback_fraction upper border is violated\n"
     ]
    },
    {
     "name": "stdout",
     "output_type": "stream",
     "text": [
      "7.63086889597 5.06984618124\n",
      "calculation so far took 25.933613538742065  seconds\n",
      "step  37 of  1000\n"
     ]
    },
    {
     "name": "stderr",
     "output_type": "stream",
     "text": [
      "Traceback (most recent call last):\n",
      "  File \"/home/philcox/Chempy/Chempy/cem_function.py\", line 882, in posterior_function_many_stars\n",
      "    posterior, blobs = posterior_function_many_stars_real(changing_parameter,error_list,elements)\n",
      "  File \"/home/philcox/Chempy/Chempy/cem_function.py\", line 920, in posterior_function_many_stars_real\n",
      "    abundance_list,element_list = posterior_function_returning_predictions(args)\n",
      "  File \"/home/philcox/Chempy/Chempy/cem_function.py\", line 482, in posterior_function_returning_predictions\n",
      "    posterior, abundance_list, element_list = posterior_function_predictions(changing_parameter,a)\n",
      "  File \"/home/philcox/Chempy/Chempy/cem_function.py\", line 492, in posterior_function_predictions\n",
      "    a = extract_parameters_and_priors(changing_parameter, a)\n",
      "  File \"/home/philcox/Chempy/Chempy/cem_function.py\", line 719, in extract_parameters_and_priors\n",
      "    assert False, '%s upper border is violated' %(name)\n",
      "AssertionError: outflow_feedback_fraction upper border is violated\n"
     ]
    },
    {
     "name": "stdout",
     "output_type": "stream",
     "text": [
      "7.63086889597 5.04882774215\n",
      "calculation so far took 26.649935722351074  seconds\n",
      "step  38 of  1000\n",
      "7.63086889597 5.33311300524\n",
      "calculation so far took 27.33184313774109  seconds\n",
      "step  39 of  1000\n"
     ]
    },
    {
     "name": "stderr",
     "output_type": "stream",
     "text": [
      "Traceback (most recent call last):\n",
      "  File \"/home/philcox/Chempy/Chempy/cem_function.py\", line 882, in posterior_function_many_stars\n",
      "    posterior, blobs = posterior_function_many_stars_real(changing_parameter,error_list,elements)\n",
      "  File \"/home/philcox/Chempy/Chempy/cem_function.py\", line 920, in posterior_function_many_stars_real\n",
      "    abundance_list,element_list = posterior_function_returning_predictions(args)\n",
      "  File \"/home/philcox/Chempy/Chempy/cem_function.py\", line 482, in posterior_function_returning_predictions\n",
      "    posterior, abundance_list, element_list = posterior_function_predictions(changing_parameter,a)\n",
      "  File \"/home/philcox/Chempy/Chempy/cem_function.py\", line 492, in posterior_function_predictions\n",
      "    a = extract_parameters_and_priors(changing_parameter, a)\n",
      "  File \"/home/philcox/Chempy/Chempy/cem_function.py\", line 719, in extract_parameters_and_priors\n",
      "    assert False, '%s upper border is violated' %(name)\n",
      "AssertionError: log10_sn1a_time_delay upper border is violated\n",
      "Traceback (most recent call last):\n",
      "  File \"/home/philcox/Chempy/Chempy/cem_function.py\", line 882, in posterior_function_many_stars\n",
      "    posterior, blobs = posterior_function_many_stars_real(changing_parameter,error_list,elements)\n",
      "  File \"/home/philcox/Chempy/Chempy/cem_function.py\", line 920, in posterior_function_many_stars_real\n",
      "    abundance_list,element_list = posterior_function_returning_predictions(args)\n",
      "  File \"/home/philcox/Chempy/Chempy/cem_function.py\", line 482, in posterior_function_returning_predictions\n",
      "    posterior, abundance_list, element_list = posterior_function_predictions(changing_parameter,a)\n",
      "  File \"/home/philcox/Chempy/Chempy/cem_function.py\", line 492, in posterior_function_predictions\n",
      "    a = extract_parameters_and_priors(changing_parameter, a)\n",
      "  File \"/home/philcox/Chempy/Chempy/cem_function.py\", line 719, in extract_parameters_and_priors\n",
      "    assert False, '%s upper border is violated' %(name)\n",
      "AssertionError: outflow_feedback_fraction upper border is violated\n"
     ]
    },
    {
     "name": "stdout",
     "output_type": "stream",
     "text": [
      "7.63086889597 4.96105522611\n",
      "calculation so far took 27.97350549697876  seconds\n",
      "step  40 of  1000\n"
     ]
    },
    {
     "name": "stderr",
     "output_type": "stream",
     "text": [
      "Traceback (most recent call last):\n",
      "  File \"/home/philcox/Chempy/Chempy/cem_function.py\", line 882, in posterior_function_many_stars\n",
      "    posterior, blobs = posterior_function_many_stars_real(changing_parameter,error_list,elements)\n",
      "  File \"/home/philcox/Chempy/Chempy/cem_function.py\", line 920, in posterior_function_many_stars_real\n",
      "    abundance_list,element_list = posterior_function_returning_predictions(args)\n",
      "  File \"/home/philcox/Chempy/Chempy/cem_function.py\", line 482, in posterior_function_returning_predictions\n",
      "    posterior, abundance_list, element_list = posterior_function_predictions(changing_parameter,a)\n",
      "  File \"/home/philcox/Chempy/Chempy/cem_function.py\", line 492, in posterior_function_predictions\n",
      "    a = extract_parameters_and_priors(changing_parameter, a)\n",
      "  File \"/home/philcox/Chempy/Chempy/cem_function.py\", line 719, in extract_parameters_and_priors\n",
      "    assert False, '%s upper border is violated' %(name)\n",
      "AssertionError: log10_sn1a_time_delay upper border is violated\n"
     ]
    },
    {
     "name": "stdout",
     "output_type": "stream",
     "text": [
      "7.63086889597 5.14452739305\n",
      "calculation so far took 28.636287927627563  seconds\n",
      "step  41 of  1000\n",
      "7.63086889597 5.18147079493\n",
      "calculation so far took 29.254944324493408  seconds\n",
      "step  42 of  1000\n",
      "7.63086889597 5.12842693255\n",
      "calculation so far took 29.879055738449097  seconds\n",
      "step  43 of  1000\n",
      "7.63086889597 5.2287794227\n",
      "calculation so far took 30.507774591445923  seconds\n",
      "step  44 of  1000\n",
      "7.63086889597 5.44678647281\n",
      "calculation so far took 31.12138843536377  seconds\n",
      "step  45 of  1000\n"
     ]
    },
    {
     "name": "stderr",
     "output_type": "stream",
     "text": [
      "Traceback (most recent call last):\n",
      "  File \"/home/philcox/Chempy/Chempy/cem_function.py\", line 882, in posterior_function_many_stars\n",
      "    posterior, blobs = posterior_function_many_stars_real(changing_parameter,error_list,elements)\n",
      "  File \"/home/philcox/Chempy/Chempy/cem_function.py\", line 920, in posterior_function_many_stars_real\n",
      "    abundance_list,element_list = posterior_function_returning_predictions(args)\n",
      "  File \"/home/philcox/Chempy/Chempy/cem_function.py\", line 482, in posterior_function_returning_predictions\n",
      "    posterior, abundance_list, element_list = posterior_function_predictions(changing_parameter,a)\n",
      "  File \"/home/philcox/Chempy/Chempy/cem_function.py\", line 492, in posterior_function_predictions\n",
      "    a = extract_parameters_and_priors(changing_parameter, a)\n",
      "  File \"/home/philcox/Chempy/Chempy/cem_function.py\", line 719, in extract_parameters_and_priors\n",
      "    assert False, '%s upper border is violated' %(name)\n",
      "AssertionError: outflow_feedback_fraction upper border is violated\n"
     ]
    },
    {
     "name": "stdout",
     "output_type": "stream",
     "text": [
      "7.63086889597 5.22999810279\n",
      "calculation so far took 31.75099539756775  seconds\n",
      "step  46 of  1000\n"
     ]
    },
    {
     "name": "stderr",
     "output_type": "stream",
     "text": [
      "Traceback (most recent call last):\n",
      "  File \"/home/philcox/Chempy/Chempy/cem_function.py\", line 882, in posterior_function_many_stars\n",
      "    posterior, blobs = posterior_function_many_stars_real(changing_parameter,error_list,elements)\n",
      "  File \"/home/philcox/Chempy/Chempy/cem_function.py\", line 920, in posterior_function_many_stars_real\n",
      "    abundance_list,element_list = posterior_function_returning_predictions(args)\n",
      "  File \"/home/philcox/Chempy/Chempy/cem_function.py\", line 482, in posterior_function_returning_predictions\n",
      "    posterior, abundance_list, element_list = posterior_function_predictions(changing_parameter,a)\n",
      "  File \"/home/philcox/Chempy/Chempy/cem_function.py\", line 492, in posterior_function_predictions\n",
      "    a = extract_parameters_and_priors(changing_parameter, a)\n",
      "  File \"/home/philcox/Chempy/Chempy/cem_function.py\", line 719, in extract_parameters_and_priors\n",
      "    assert False, '%s upper border is violated' %(name)\n",
      "AssertionError: outflow_feedback_fraction upper border is violated\n"
     ]
    },
    {
     "name": "stdout",
     "output_type": "stream",
     "text": [
      "7.63086889597 5.43628985103\n",
      "calculation so far took 32.720300912857056  seconds\n",
      "step  47 of  1000\n",
      "7.63086889597 5.05795332696\n",
      "calculation so far took 33.34737420082092  seconds\n",
      "step  48 of  1000\n"
     ]
    },
    {
     "name": "stderr",
     "output_type": "stream",
     "text": [
      "Traceback (most recent call last):\n",
      "  File \"/home/philcox/Chempy/Chempy/cem_function.py\", line 882, in posterior_function_many_stars\n",
      "    posterior, blobs = posterior_function_many_stars_real(changing_parameter,error_list,elements)\n",
      "  File \"/home/philcox/Chempy/Chempy/cem_function.py\", line 920, in posterior_function_many_stars_real\n",
      "    abundance_list,element_list = posterior_function_returning_predictions(args)\n",
      "  File \"/home/philcox/Chempy/Chempy/cem_function.py\", line 482, in posterior_function_returning_predictions\n",
      "    posterior, abundance_list, element_list = posterior_function_predictions(changing_parameter,a)\n",
      "  File \"/home/philcox/Chempy/Chempy/cem_function.py\", line 492, in posterior_function_predictions\n",
      "    a = extract_parameters_and_priors(changing_parameter, a)\n",
      "  File \"/home/philcox/Chempy/Chempy/cem_function.py\", line 719, in extract_parameters_and_priors\n",
      "    assert False, '%s upper border is violated' %(name)\n",
      "AssertionError: log10_sfr_scale upper border is violated\n"
     ]
    },
    {
     "name": "stdout",
     "output_type": "stream",
     "text": [
      "7.63086889597 5.15843470779\n",
      "calculation so far took 33.991777658462524  seconds\n",
      "step  49 of  1000\n"
     ]
    },
    {
     "name": "stderr",
     "output_type": "stream",
     "text": [
      "Traceback (most recent call last):\n",
      "  File \"/home/philcox/Chempy/Chempy/cem_function.py\", line 882, in posterior_function_many_stars\n",
      "    posterior, blobs = posterior_function_many_stars_real(changing_parameter,error_list,elements)\n",
      "  File \"/home/philcox/Chempy/Chempy/cem_function.py\", line 920, in posterior_function_many_stars_real\n",
      "    abundance_list,element_list = posterior_function_returning_predictions(args)\n",
      "  File \"/home/philcox/Chempy/Chempy/cem_function.py\", line 482, in posterior_function_returning_predictions\n",
      "    posterior, abundance_list, element_list = posterior_function_predictions(changing_parameter,a)\n",
      "  File \"/home/philcox/Chempy/Chempy/cem_function.py\", line 492, in posterior_function_predictions\n",
      "    a = extract_parameters_and_priors(changing_parameter, a)\n",
      "  File \"/home/philcox/Chempy/Chempy/cem_function.py\", line 719, in extract_parameters_and_priors\n",
      "    assert False, '%s upper border is violated' %(name)\n",
      "AssertionError: outflow_feedback_fraction upper border is violated\n"
     ]
    },
    {
     "name": "stdout",
     "output_type": "stream",
     "text": [
      "7.63086889597 5.11964378784\n",
      "calculation so far took 34.813998222351074  seconds\n",
      "step  50 of  1000\n"
     ]
    },
    {
     "name": "stderr",
     "output_type": "stream",
     "text": [
      "Traceback (most recent call last):\n",
      "  File \"/home/philcox/Chempy/Chempy/cem_function.py\", line 882, in posterior_function_many_stars\n",
      "    posterior, blobs = posterior_function_many_stars_real(changing_parameter,error_list,elements)\n",
      "  File \"/home/philcox/Chempy/Chempy/cem_function.py\", line 920, in posterior_function_many_stars_real\n",
      "    abundance_list,element_list = posterior_function_returning_predictions(args)\n",
      "  File \"/home/philcox/Chempy/Chempy/cem_function.py\", line 482, in posterior_function_returning_predictions\n",
      "    posterior, abundance_list, element_list = posterior_function_predictions(changing_parameter,a)\n",
      "  File \"/home/philcox/Chempy/Chempy/cem_function.py\", line 492, in posterior_function_predictions\n",
      "    a = extract_parameters_and_priors(changing_parameter, a)\n",
      "  File \"/home/philcox/Chempy/Chempy/cem_function.py\", line 719, in extract_parameters_and_priors\n",
      "    assert False, '%s upper border is violated' %(name)\n",
      "AssertionError: outflow_feedback_fraction upper border is violated\n"
     ]
    },
    {
     "name": "stdout",
     "output_type": "stream",
     "text": [
      "7.63086889597 5.0959987941\n",
      "calculation so far took 35.64989614486694  seconds\n",
      "step  51 of  1000\n"
     ]
    },
    {
     "name": "stderr",
     "output_type": "stream",
     "text": [
      "Traceback (most recent call last):\n",
      "  File \"/home/philcox/Chempy/Chempy/cem_function.py\", line 882, in posterior_function_many_stars\n",
      "    posterior, blobs = posterior_function_many_stars_real(changing_parameter,error_list,elements)\n",
      "  File \"/home/philcox/Chempy/Chempy/cem_function.py\", line 920, in posterior_function_many_stars_real\n",
      "    abundance_list,element_list = posterior_function_returning_predictions(args)\n",
      "  File \"/home/philcox/Chempy/Chempy/cem_function.py\", line 482, in posterior_function_returning_predictions\n",
      "    posterior, abundance_list, element_list = posterior_function_predictions(changing_parameter,a)\n",
      "  File \"/home/philcox/Chempy/Chempy/cem_function.py\", line 492, in posterior_function_predictions\n",
      "    a = extract_parameters_and_priors(changing_parameter, a)\n",
      "  File \"/home/philcox/Chempy/Chempy/cem_function.py\", line 719, in extract_parameters_and_priors\n",
      "    assert False, '%s upper border is violated' %(name)\n",
      "AssertionError: outflow_feedback_fraction upper border is violated\n"
     ]
    },
    {
     "name": "stdout",
     "output_type": "stream",
     "text": [
      "7.63086889597 4.98158447213\n",
      "calculation so far took 36.296751260757446  seconds\n",
      "step  52 of  1000\n",
      "7.63086889597 4.92565309257\n",
      "calculation so far took 36.93160033226013  seconds\n",
      "step  53 of  1000\n",
      "7.63086889597 4.98532886635\n",
      "calculation so far took 37.561405181884766  seconds\n",
      "step  54 of  1000\n",
      "7.63086889597 4.99639380219\n",
      "calculation so far took 38.17840790748596  seconds\n",
      "step  55 of  1000\n",
      "7.63086889597 4.91364255048\n",
      "calculation so far took 38.797951221466064  seconds\n",
      "step  56 of  1000\n"
     ]
    },
    {
     "name": "stderr",
     "output_type": "stream",
     "text": [
      "Traceback (most recent call last):\n",
      "  File \"/home/philcox/Chempy/Chempy/cem_function.py\", line 882, in posterior_function_many_stars\n",
      "    posterior, blobs = posterior_function_many_stars_real(changing_parameter,error_list,elements)\n",
      "  File \"/home/philcox/Chempy/Chempy/cem_function.py\", line 920, in posterior_function_many_stars_real\n",
      "    abundance_list,element_list = posterior_function_returning_predictions(args)\n",
      "  File \"/home/philcox/Chempy/Chempy/cem_function.py\", line 482, in posterior_function_returning_predictions\n",
      "    posterior, abundance_list, element_list = posterior_function_predictions(changing_parameter,a)\n",
      "  File \"/home/philcox/Chempy/Chempy/cem_function.py\", line 492, in posterior_function_predictions\n",
      "    a = extract_parameters_and_priors(changing_parameter, a)\n",
      "  File \"/home/philcox/Chempy/Chempy/cem_function.py\", line 719, in extract_parameters_and_priors\n",
      "    assert False, '%s upper border is violated' %(name)\n",
      "AssertionError: log10_sfr_scale upper border is violated\n"
     ]
    },
    {
     "name": "stdout",
     "output_type": "stream",
     "text": [
      "7.63086889597 4.88009944581\n",
      "calculation so far took 39.460776805877686  seconds\n",
      "step  57 of  1000\n"
     ]
    },
    {
     "name": "stderr",
     "output_type": "stream",
     "text": [
      "Traceback (most recent call last):\n",
      "  File \"/home/philcox/Chempy/Chempy/cem_function.py\", line 882, in posterior_function_many_stars\n",
      "    posterior, blobs = posterior_function_many_stars_real(changing_parameter,error_list,elements)\n",
      "  File \"/home/philcox/Chempy/Chempy/cem_function.py\", line 920, in posterior_function_many_stars_real\n",
      "    abundance_list,element_list = posterior_function_returning_predictions(args)\n",
      "  File \"/home/philcox/Chempy/Chempy/cem_function.py\", line 482, in posterior_function_returning_predictions\n",
      "    posterior, abundance_list, element_list = posterior_function_predictions(changing_parameter,a)\n",
      "  File \"/home/philcox/Chempy/Chempy/cem_function.py\", line 492, in posterior_function_predictions\n",
      "    a = extract_parameters_and_priors(changing_parameter, a)\n",
      "  File \"/home/philcox/Chempy/Chempy/cem_function.py\", line 719, in extract_parameters_and_priors\n",
      "    assert False, '%s upper border is violated' %(name)\n",
      "AssertionError: log10_sfr_scale upper border is violated\n",
      "Traceback (most recent call last):\n",
      "  File \"/home/philcox/Chempy/Chempy/cem_function.py\", line 882, in posterior_function_many_stars\n",
      "    posterior, blobs = posterior_function_many_stars_real(changing_parameter,error_list,elements)\n",
      "  File \"/home/philcox/Chempy/Chempy/cem_function.py\", line 920, in posterior_function_many_stars_real\n",
      "    abundance_list,element_list = posterior_function_returning_predictions(args)\n",
      "  File \"/home/philcox/Chempy/Chempy/cem_function.py\", line 482, in posterior_function_returning_predictions\n",
      "    posterior, abundance_list, element_list = posterior_function_predictions(changing_parameter,a)\n",
      "  File \"/home/philcox/Chempy/Chempy/cem_function.py\", line 492, in posterior_function_predictions\n",
      "    a = extract_parameters_and_priors(changing_parameter, a)\n",
      "  File \"/home/philcox/Chempy/Chempy/cem_function.py\", line 719, in extract_parameters_and_priors\n",
      "    assert False, '%s upper border is violated' %(name)\n",
      "AssertionError: outflow_feedback_fraction upper border is violated\n"
     ]
    },
    {
     "name": "stdout",
     "output_type": "stream",
     "text": [
      "7.63086889597 5.1034152654\n",
      "calculation so far took 40.15624976158142  seconds\n",
      "step  58 of  1000\n",
      "7.63086889597 5.0946336078\n",
      "calculation so far took 40.77771592140198  seconds\n",
      "step  59 of  1000\n",
      "7.63086889597 4.98473247617\n",
      "calculation so far took 41.39335346221924  seconds\n",
      "step  60 of  1000\n",
      "7.63086889597 5.18036499241\n",
      "calculation so far took 42.018075704574585  seconds\n",
      "step  61 of  1000\n",
      "7.63086889597 5.10599000145\n",
      "calculation so far took 42.641510009765625  seconds\n",
      "step  62 of  1000\n",
      "7.63086889597 5.15203115178\n",
      "calculation so far took 43.26619243621826  seconds\n",
      "step  63 of  1000\n",
      "7.63086889597 5.13529502528\n",
      "calculation so far took 43.890812397003174  seconds\n",
      "step  64 of  1000\n",
      "7.63086889597 5.29175410375\n",
      "calculation so far took 44.5096755027771  seconds\n",
      "step  65 of  1000\n",
      "7.63086889597 5.23520257257\n",
      "calculation so far took 45.135891914367676  seconds\n",
      "step  66 of  1000\n"
     ]
    },
    {
     "name": "stderr",
     "output_type": "stream",
     "text": [
      "Traceback (most recent call last):\n",
      "  File \"/home/philcox/Chempy/Chempy/cem_function.py\", line 882, in posterior_function_many_stars\n",
      "    posterior, blobs = posterior_function_many_stars_real(changing_parameter,error_list,elements)\n",
      "  File \"/home/philcox/Chempy/Chempy/cem_function.py\", line 920, in posterior_function_many_stars_real\n",
      "    abundance_list,element_list = posterior_function_returning_predictions(args)\n",
      "  File \"/home/philcox/Chempy/Chempy/cem_function.py\", line 482, in posterior_function_returning_predictions\n",
      "    posterior, abundance_list, element_list = posterior_function_predictions(changing_parameter,a)\n",
      "  File \"/home/philcox/Chempy/Chempy/cem_function.py\", line 492, in posterior_function_predictions\n",
      "    a = extract_parameters_and_priors(changing_parameter, a)\n",
      "  File \"/home/philcox/Chempy/Chempy/cem_function.py\", line 719, in extract_parameters_and_priors\n",
      "    assert False, '%s upper border is violated' %(name)\n",
      "AssertionError: log10_sfr_scale upper border is violated\n"
     ]
    },
    {
     "name": "stdout",
     "output_type": "stream",
     "text": [
      "7.63086889597 5.16968960038\n",
      "calculation so far took 45.7903470993042  seconds\n",
      "step  67 of  1000\n",
      "7.63086889597 5.13593857242\n",
      "calculation so far took 46.417949199676514  seconds\n",
      "step  68 of  1000\n",
      "7.63086889597 5.2928678009\n",
      "calculation so far took 47.03808856010437  seconds\n",
      "step  69 of  1000\n",
      "7.63086889597 5.47272070454\n",
      "calculation so far took 47.74093723297119  seconds\n",
      "step  70 of  1000\n",
      "7.63086889597 5.30146714112\n",
      "calculation so far took 48.36610555648804  seconds\n",
      "step  71 of  1000\n",
      "7.63086889597 5.13669107442\n",
      "calculation so far took 48.98646831512451  seconds\n",
      "step  72 of  1000\n",
      "7.63086889597 5.34390086773\n",
      "calculation so far took 49.605464696884155  seconds\n",
      "step  73 of  1000\n"
     ]
    },
    {
     "name": "stderr",
     "output_type": "stream",
     "text": [
      "Traceback (most recent call last):\n",
      "  File \"/home/philcox/Chempy/Chempy/cem_function.py\", line 882, in posterior_function_many_stars\n",
      "    posterior, blobs = posterior_function_many_stars_real(changing_parameter,error_list,elements)\n",
      "  File \"/home/philcox/Chempy/Chempy/cem_function.py\", line 920, in posterior_function_many_stars_real\n",
      "    abundance_list,element_list = posterior_function_returning_predictions(args)\n",
      "  File \"/home/philcox/Chempy/Chempy/cem_function.py\", line 482, in posterior_function_returning_predictions\n",
      "    posterior, abundance_list, element_list = posterior_function_predictions(changing_parameter,a)\n",
      "  File \"/home/philcox/Chempy/Chempy/cem_function.py\", line 507, in posterior_function_predictions\n",
      "    abundance_list,elements_to_trace = cem_real2(a)\n",
      "  File \"/home/philcox/Chempy/Chempy/cem_function.py\", line 337, in cem_real2\n",
      "    a = shorten_sfr(a)\n",
      "  File \"/home/philcox/Chempy/Chempy/cem_function.py\", line 130, in shorten_sfr\n",
      "    assert fraction_of_mean_sfr > 0.05, ('The total SFR of the last age bin is below 5% of the mean SFR', 'stellar identifier = ', a.stellar_identifier, 'star time = ', star_time, 'model time = ', time_model )\n",
      "AssertionError: ('The total SFR of the last age bin is below 5% of the mean SFR', 'stellar identifier = ', 'Proto-sun', 'star time = ', 8.9400000000000013, 'model time = ', 9.0)\n"
     ]
    },
    {
     "name": "stdout",
     "output_type": "stream",
     "text": [
      "7.63086889597 5.57240278285\n",
      "calculation so far took 50.23228335380554  seconds\n",
      "step  74 of  1000\n",
      "7.63086889597 5.4526383984\n",
      "calculation so far took 50.97787690162659  seconds\n",
      "step  75 of  1000\n",
      "7.63086889597 5.27690371095\n",
      "calculation so far took 51.59579825401306  seconds\n",
      "step  76 of  1000\n",
      "7.63086889597 5.30081067878\n",
      "calculation so far took 52.21176338195801  seconds\n",
      "step  77 of  1000\n",
      "7.63086889597 5.36981761047\n",
      "calculation so far took 52.82895016670227  seconds\n",
      "step  78 of  1000\n"
     ]
    },
    {
     "name": "stderr",
     "output_type": "stream",
     "text": [
      "Traceback (most recent call last):\n",
      "  File \"/home/philcox/Chempy/Chempy/cem_function.py\", line 882, in posterior_function_many_stars\n",
      "    posterior, blobs = posterior_function_many_stars_real(changing_parameter,error_list,elements)\n",
      "  File \"/home/philcox/Chempy/Chempy/cem_function.py\", line 920, in posterior_function_many_stars_real\n",
      "    abundance_list,element_list = posterior_function_returning_predictions(args)\n",
      "  File \"/home/philcox/Chempy/Chempy/cem_function.py\", line 482, in posterior_function_returning_predictions\n",
      "    posterior, abundance_list, element_list = posterior_function_predictions(changing_parameter,a)\n",
      "  File \"/home/philcox/Chempy/Chempy/cem_function.py\", line 492, in posterior_function_predictions\n",
      "    a = extract_parameters_and_priors(changing_parameter, a)\n",
      "  File \"/home/philcox/Chempy/Chempy/cem_function.py\", line 719, in extract_parameters_and_priors\n",
      "    assert False, '%s upper border is violated' %(name)\n",
      "AssertionError: log10_sfr_scale upper border is violated\n"
     ]
    },
    {
     "name": "stdout",
     "output_type": "stream",
     "text": [
      "7.63086889597 5.31533808961\n",
      "calculation so far took 53.479438066482544  seconds\n",
      "step  79 of  1000\n"
     ]
    },
    {
     "name": "stderr",
     "output_type": "stream",
     "text": [
      "Traceback (most recent call last):\n",
      "  File \"/home/philcox/Chempy/Chempy/cem_function.py\", line 882, in posterior_function_many_stars\n",
      "    posterior, blobs = posterior_function_many_stars_real(changing_parameter,error_list,elements)\n",
      "  File \"/home/philcox/Chempy/Chempy/cem_function.py\", line 920, in posterior_function_many_stars_real\n",
      "    abundance_list,element_list = posterior_function_returning_predictions(args)\n",
      "  File \"/home/philcox/Chempy/Chempy/cem_function.py\", line 482, in posterior_function_returning_predictions\n",
      "    posterior, abundance_list, element_list = posterior_function_predictions(changing_parameter,a)\n",
      "  File \"/home/philcox/Chempy/Chempy/cem_function.py\", line 492, in posterior_function_predictions\n",
      "    a = extract_parameters_and_priors(changing_parameter, a)\n",
      "  File \"/home/philcox/Chempy/Chempy/cem_function.py\", line 719, in extract_parameters_and_priors\n",
      "    assert False, '%s upper border is violated' %(name)\n",
      "AssertionError: log10_sfr_scale upper border is violated\n"
     ]
    },
    {
     "name": "stdout",
     "output_type": "stream",
     "text": [
      "7.63086889597 5.28845085074\n",
      "calculation so far took 54.10077691078186  seconds\n",
      "step  80 of  1000\n",
      "7.63086889597 5.06949475608\n",
      "calculation so far took 54.742284297943115  seconds\n",
      "step  81 of  1000\n",
      "7.63086889597 5.15479488892\n",
      "calculation so far took 55.361567974090576  seconds\n",
      "step  82 of  1000\n",
      "7.63086889597 4.86101914307\n",
      "calculation so far took 55.97986078262329  seconds\n",
      "step  83 of  1000\n"
     ]
    },
    {
     "name": "stderr",
     "output_type": "stream",
     "text": [
      "Traceback (most recent call last):\n",
      "  File \"/home/philcox/Chempy/Chempy/cem_function.py\", line 882, in posterior_function_many_stars\n",
      "    posterior, blobs = posterior_function_many_stars_real(changing_parameter,error_list,elements)\n",
      "  File \"/home/philcox/Chempy/Chempy/cem_function.py\", line 920, in posterior_function_many_stars_real\n",
      "    abundance_list,element_list = posterior_function_returning_predictions(args)\n",
      "  File \"/home/philcox/Chempy/Chempy/cem_function.py\", line 482, in posterior_function_returning_predictions\n",
      "    posterior, abundance_list, element_list = posterior_function_predictions(changing_parameter,a)\n",
      "  File \"/home/philcox/Chempy/Chempy/cem_function.py\", line 492, in posterior_function_predictions\n",
      "    a = extract_parameters_and_priors(changing_parameter, a)\n",
      "  File \"/home/philcox/Chempy/Chempy/cem_function.py\", line 719, in extract_parameters_and_priors\n",
      "    assert False, '%s upper border is violated' %(name)\n",
      "AssertionError: log10_sfr_scale upper border is violated\n"
     ]
    },
    {
     "name": "stdout",
     "output_type": "stream",
     "text": [
      "7.63086889597 4.82079515833\n",
      "calculation so far took 56.59661841392517  seconds\n",
      "step  84 of  1000\n"
     ]
    },
    {
     "name": "stderr",
     "output_type": "stream",
     "text": [
      "Traceback (most recent call last):\n",
      "  File \"/home/philcox/Chempy/Chempy/cem_function.py\", line 882, in posterior_function_many_stars\n",
      "    posterior, blobs = posterior_function_many_stars_real(changing_parameter,error_list,elements)\n",
      "  File \"/home/philcox/Chempy/Chempy/cem_function.py\", line 920, in posterior_function_many_stars_real\n",
      "    abundance_list,element_list = posterior_function_returning_predictions(args)\n",
      "  File \"/home/philcox/Chempy/Chempy/cem_function.py\", line 482, in posterior_function_returning_predictions\n",
      "    posterior, abundance_list, element_list = posterior_function_predictions(changing_parameter,a)\n",
      "  File \"/home/philcox/Chempy/Chempy/cem_function.py\", line 492, in posterior_function_predictions\n",
      "    a = extract_parameters_and_priors(changing_parameter, a)\n",
      "  File \"/home/philcox/Chempy/Chempy/cem_function.py\", line 719, in extract_parameters_and_priors\n",
      "    assert False, '%s upper border is violated' %(name)\n",
      "AssertionError: log10_sfr_scale upper border is violated\n",
      "Traceback (most recent call last):\n",
      "  File \"/home/philcox/Chempy/Chempy/cem_function.py\", line 882, in posterior_function_many_stars\n",
      "    posterior, blobs = posterior_function_many_stars_real(changing_parameter,error_list,elements)\n",
      "  File \"/home/philcox/Chempy/Chempy/cem_function.py\", line 920, in posterior_function_many_stars_real\n",
      "    abundance_list,element_list = posterior_function_returning_predictions(args)\n",
      "  File \"/home/philcox/Chempy/Chempy/cem_function.py\", line 482, in posterior_function_returning_predictions\n",
      "    posterior, abundance_list, element_list = posterior_function_predictions(changing_parameter,a)\n",
      "  File \"/home/philcox/Chempy/Chempy/cem_function.py\", line 492, in posterior_function_predictions\n",
      "    a = extract_parameters_and_priors(changing_parameter, a)\n",
      "  File \"/home/philcox/Chempy/Chempy/cem_function.py\", line 719, in extract_parameters_and_priors\n",
      "    assert False, '%s upper border is violated' %(name)\n",
      "AssertionError: log10_sfr_scale upper border is violated\n",
      "Traceback (most recent call last):\n",
      "  File \"/home/philcox/Chempy/Chempy/cem_function.py\", line 882, in posterior_function_many_stars\n",
      "    posterior, blobs = posterior_function_many_stars_real(changing_parameter,error_list,elements)\n",
      "  File \"/home/philcox/Chempy/Chempy/cem_function.py\", line 920, in posterior_function_many_stars_real\n",
      "    abundance_list,element_list = posterior_function_returning_predictions(args)\n",
      "  File \"/home/philcox/Chempy/Chempy/cem_function.py\", line 482, in posterior_function_returning_predictions\n",
      "    posterior, abundance_list, element_list = posterior_function_predictions(changing_parameter,a)\n",
      "  File \"/home/philcox/Chempy/Chempy/cem_function.py\", line 492, in posterior_function_predictions\n",
      "    a = extract_parameters_and_priors(changing_parameter, a)\n",
      "  File \"/home/philcox/Chempy/Chempy/cem_function.py\", line 719, in extract_parameters_and_priors\n",
      "    assert False, '%s upper border is violated' %(name)\n",
      "AssertionError: log10_sfr_scale upper border is violated\n"
     ]
    },
    {
     "name": "stdout",
     "output_type": "stream",
     "text": [
      "7.63086889597 4.83797358576\n",
      "calculation so far took 57.26089382171631  seconds\n",
      "step  85 of  1000\n",
      "7.63086889597 5.10677934386\n",
      "calculation so far took 57.93615984916687  seconds\n",
      "step  86 of  1000\n"
     ]
    },
    {
     "name": "stderr",
     "output_type": "stream",
     "text": [
      "Traceback (most recent call last):\n",
      "  File \"/home/philcox/Chempy/Chempy/cem_function.py\", line 882, in posterior_function_many_stars\n",
      "    posterior, blobs = posterior_function_many_stars_real(changing_parameter,error_list,elements)\n",
      "  File \"/home/philcox/Chempy/Chempy/cem_function.py\", line 920, in posterior_function_many_stars_real\n",
      "    abundance_list,element_list = posterior_function_returning_predictions(args)\n",
      "  File \"/home/philcox/Chempy/Chempy/cem_function.py\", line 482, in posterior_function_returning_predictions\n",
      "    posterior, abundance_list, element_list = posterior_function_predictions(changing_parameter,a)\n",
      "  File \"/home/philcox/Chempy/Chempy/cem_function.py\", line 492, in posterior_function_predictions\n",
      "    a = extract_parameters_and_priors(changing_parameter, a)\n",
      "  File \"/home/philcox/Chempy/Chempy/cem_function.py\", line 719, in extract_parameters_and_priors\n",
      "    assert False, '%s upper border is violated' %(name)\n",
      "AssertionError: log10_sfr_scale upper border is violated\n",
      "Traceback (most recent call last):\n",
      "  File \"/home/philcox/Chempy/Chempy/cem_function.py\", line 882, in posterior_function_many_stars\n",
      "    posterior, blobs = posterior_function_many_stars_real(changing_parameter,error_list,elements)\n",
      "  File \"/home/philcox/Chempy/Chempy/cem_function.py\", line 920, in posterior_function_many_stars_real\n",
      "    abundance_list,element_list = posterior_function_returning_predictions(args)\n",
      "  File \"/home/philcox/Chempy/Chempy/cem_function.py\", line 482, in posterior_function_returning_predictions\n",
      "    posterior, abundance_list, element_list = posterior_function_predictions(changing_parameter,a)\n",
      "  File \"/home/philcox/Chempy/Chempy/cem_function.py\", line 492, in posterior_function_predictions\n",
      "    a = extract_parameters_and_priors(changing_parameter, a)\n",
      "  File \"/home/philcox/Chempy/Chempy/cem_function.py\", line 717, in extract_parameters_and_priors\n",
      "    assert False, '%s lower border is violated' %(name)\n",
      "AssertionError: outflow_feedback_fraction lower border is violated\n"
     ]
    },
    {
     "name": "stdout",
     "output_type": "stream",
     "text": [
      "7.63086889597 4.99029968882\n",
      "calculation so far took 58.55308699607849  seconds\n",
      "step  87 of  1000\n"
     ]
    },
    {
     "name": "stderr",
     "output_type": "stream",
     "text": [
      "Traceback (most recent call last):\n",
      "  File \"/home/philcox/Chempy/Chempy/cem_function.py\", line 882, in posterior_function_many_stars\n",
      "    posterior, blobs = posterior_function_many_stars_real(changing_parameter,error_list,elements)\n",
      "  File \"/home/philcox/Chempy/Chempy/cem_function.py\", line 920, in posterior_function_many_stars_real\n",
      "    abundance_list,element_list = posterior_function_returning_predictions(args)\n",
      "  File \"/home/philcox/Chempy/Chempy/cem_function.py\", line 482, in posterior_function_returning_predictions\n",
      "    posterior, abundance_list, element_list = posterior_function_predictions(changing_parameter,a)\n",
      "  File \"/home/philcox/Chempy/Chempy/cem_function.py\", line 492, in posterior_function_predictions\n",
      "    a = extract_parameters_and_priors(changing_parameter, a)\n",
      "  File \"/home/philcox/Chempy/Chempy/cem_function.py\", line 719, in extract_parameters_and_priors\n",
      "    assert False, '%s upper border is violated' %(name)\n",
      "AssertionError: log10_sfr_scale upper border is violated\n"
     ]
    },
    {
     "name": "stdout",
     "output_type": "stream",
     "text": [
      "7.63086889597 5.08929667599\n",
      "calculation so far took 59.237308979034424  seconds\n",
      "step  88 of  1000\n",
      "7.63086889597 5.09032051058\n",
      "calculation so far took 59.88431668281555  seconds\n",
      "step  89 of  1000\n"
     ]
    },
    {
     "name": "stderr",
     "output_type": "stream",
     "text": [
      "Traceback (most recent call last):\n",
      "  File \"/home/philcox/Chempy/Chempy/cem_function.py\", line 882, in posterior_function_many_stars\n",
      "    posterior, blobs = posterior_function_many_stars_real(changing_parameter,error_list,elements)\n",
      "  File \"/home/philcox/Chempy/Chempy/cem_function.py\", line 920, in posterior_function_many_stars_real\n",
      "    abundance_list,element_list = posterior_function_returning_predictions(args)\n",
      "  File \"/home/philcox/Chempy/Chempy/cem_function.py\", line 482, in posterior_function_returning_predictions\n",
      "    posterior, abundance_list, element_list = posterior_function_predictions(changing_parameter,a)\n",
      "  File \"/home/philcox/Chempy/Chempy/cem_function.py\", line 492, in posterior_function_predictions\n",
      "    a = extract_parameters_and_priors(changing_parameter, a)\n",
      "  File \"/home/philcox/Chempy/Chempy/cem_function.py\", line 719, in extract_parameters_and_priors\n",
      "    assert False, '%s upper border is violated' %(name)\n",
      "AssertionError: log10_sfr_scale upper border is violated\n"
     ]
    },
    {
     "name": "stdout",
     "output_type": "stream",
     "text": [
      "7.63086889597 5.02609435236\n",
      "calculation so far took 60.510958433151245  seconds\n",
      "step  90 of  1000\n",
      "7.63086889597 4.93998746568\n",
      "calculation so far took 61.14522838592529  seconds\n",
      "step  91 of  1000\n",
      "7.63086889597 4.99421124751\n",
      "calculation so far took 61.769745111465454  seconds\n",
      "step  92 of  1000\n",
      "7.63086889597 5.13566142389\n",
      "calculation so far took 62.39664340019226  seconds\n",
      "step  93 of  1000\n",
      "7.63086889597 5.09247640141\n",
      "calculation so far took 63.03165793418884  seconds\n",
      "step  94 of  1000\n",
      "7.63086889597 5.18246339049\n",
      "calculation so far took 63.74556612968445  seconds\n",
      "step  95 of  1000\n",
      "7.63086889597 4.92464537684\n",
      "calculation so far took 64.57699918746948  seconds\n",
      "step  96 of  1000\n",
      "7.63086889597 5.01651056207\n",
      "calculation so far took 65.31235432624817  seconds\n",
      "step  97 of  1000\n",
      "7.63086889597 4.99591546968\n",
      "calculation so far took 65.93564772605896  seconds\n",
      "step  98 of  1000\n"
     ]
    },
    {
     "name": "stderr",
     "output_type": "stream",
     "text": [
      "Traceback (most recent call last):\n",
      "  File \"/home/philcox/Chempy/Chempy/cem_function.py\", line 882, in posterior_function_many_stars\n",
      "    posterior, blobs = posterior_function_many_stars_real(changing_parameter,error_list,elements)\n",
      "  File \"/home/philcox/Chempy/Chempy/cem_function.py\", line 920, in posterior_function_many_stars_real\n",
      "    abundance_list,element_list = posterior_function_returning_predictions(args)\n",
      "  File \"/home/philcox/Chempy/Chempy/cem_function.py\", line 482, in posterior_function_returning_predictions\n",
      "    posterior, abundance_list, element_list = posterior_function_predictions(changing_parameter,a)\n",
      "  File \"/home/philcox/Chempy/Chempy/cem_function.py\", line 492, in posterior_function_predictions\n",
      "    a = extract_parameters_and_priors(changing_parameter, a)\n",
      "  File \"/home/philcox/Chempy/Chempy/cem_function.py\", line 719, in extract_parameters_and_priors\n",
      "    assert False, '%s upper border is violated' %(name)\n",
      "AssertionError: outflow_feedback_fraction upper border is violated\n"
     ]
    },
    {
     "name": "stdout",
     "output_type": "stream",
     "text": [
      "7.63086889597 5.08933631978\n",
      "calculation so far took 66.56272149085999  seconds\n",
      "step  99 of  1000\n"
     ]
    },
    {
     "name": "stderr",
     "output_type": "stream",
     "text": [
      "Traceback (most recent call last):\n",
      "  File \"/home/philcox/Chempy/Chempy/cem_function.py\", line 882, in posterior_function_many_stars\n",
      "    posterior, blobs = posterior_function_many_stars_real(changing_parameter,error_list,elements)\n",
      "  File \"/home/philcox/Chempy/Chempy/cem_function.py\", line 920, in posterior_function_many_stars_real\n",
      "    abundance_list,element_list = posterior_function_returning_predictions(args)\n",
      "  File \"/home/philcox/Chempy/Chempy/cem_function.py\", line 482, in posterior_function_returning_predictions\n",
      "    posterior, abundance_list, element_list = posterior_function_predictions(changing_parameter,a)\n",
      "  File \"/home/philcox/Chempy/Chempy/cem_function.py\", line 492, in posterior_function_predictions\n",
      "    a = extract_parameters_and_priors(changing_parameter, a)\n",
      "  File \"/home/philcox/Chempy/Chempy/cem_function.py\", line 719, in extract_parameters_and_priors\n",
      "    assert False, '%s upper border is violated' %(name)\n",
      "AssertionError: outflow_feedback_fraction upper border is violated\n"
     ]
    },
    {
     "name": "stdout",
     "output_type": "stream",
     "text": [
      "7.63086889597 5.04888139745\n",
      "calculation so far took 67.20226168632507  seconds\n",
      "step  100 of  1000\n"
     ]
    },
    {
     "name": "stderr",
     "output_type": "stream",
     "text": [
      "Traceback (most recent call last):\n",
      "  File \"/home/philcox/Chempy/Chempy/cem_function.py\", line 882, in posterior_function_many_stars\n",
      "    posterior, blobs = posterior_function_many_stars_real(changing_parameter,error_list,elements)\n",
      "  File \"/home/philcox/Chempy/Chempy/cem_function.py\", line 920, in posterior_function_many_stars_real\n",
      "    abundance_list,element_list = posterior_function_returning_predictions(args)\n",
      "  File \"/home/philcox/Chempy/Chempy/cem_function.py\", line 482, in posterior_function_returning_predictions\n",
      "    posterior, abundance_list, element_list = posterior_function_predictions(changing_parameter,a)\n",
      "  File \"/home/philcox/Chempy/Chempy/cem_function.py\", line 492, in posterior_function_predictions\n",
      "    a = extract_parameters_and_priors(changing_parameter, a)\n"
     ]
    },
    {
     "name": "stdout",
     "output_type": "stream",
     "text": [
      "7.63086889597 5.10023997855\n",
      "calculation so far took 67.83366417884827  seconds\n",
      "step  101 of  1000\n"
     ]
    },
    {
     "name": "stderr",
     "output_type": "stream",
     "text": [
      "  File \"/home/philcox/Chempy/Chempy/cem_function.py\", line 719, in extract_parameters_and_priors\n",
      "    assert False, '%s upper border is violated' %(name)\n",
      "AssertionError: outflow_feedback_fraction upper border is violated\n"
     ]
    },
    {
     "name": "stdout",
     "output_type": "stream",
     "text": [
      "7.63086889597 5.05234326121\n",
      "calculation so far took 68.47099423408508  seconds\n",
      "step  102 of  1000\n"
     ]
    },
    {
     "name": "stderr",
     "output_type": "stream",
     "text": [
      "Traceback (most recent call last):\n",
      "  File \"/home/philcox/Chempy/Chempy/cem_function.py\", line 882, in posterior_function_many_stars\n",
      "    posterior, blobs = posterior_function_many_stars_real(changing_parameter,error_list,elements)\n",
      "  File \"/home/philcox/Chempy/Chempy/cem_function.py\", line 920, in posterior_function_many_stars_real\n",
      "    abundance_list,element_list = posterior_function_returning_predictions(args)\n",
      "  File \"/home/philcox/Chempy/Chempy/cem_function.py\", line 482, in posterior_function_returning_predictions\n",
      "    posterior, abundance_list, element_list = posterior_function_predictions(changing_parameter,a)\n",
      "  File \"/home/philcox/Chempy/Chempy/cem_function.py\", line 492, in posterior_function_predictions\n",
      "    a = extract_parameters_and_priors(changing_parameter, a)\n",
      "  File \"/home/philcox/Chempy/Chempy/cem_function.py\", line 719, in extract_parameters_and_priors\n",
      "    assert False, '%s upper border is violated' %(name)\n",
      "AssertionError: log10_sfr_scale upper border is violated\n"
     ]
    },
    {
     "name": "stdout",
     "output_type": "stream",
     "text": [
      "7.63086889597 5.03061550629\n",
      "calculation so far took 69.1135926246643  seconds\n",
      "step  103 of  1000\n",
      "7.63086889597 4.86846171193\n",
      "calculation so far took 69.74815058708191  seconds\n",
      "step  104 of  1000\n",
      "7.63086889597 4.9229006234\n",
      "calculation so far took 70.37408757209778  seconds\n",
      "step  105 of  1000\n",
      "7.63086889597 5.04181754115\n",
      "calculation so far took 70.99408769607544  seconds\n",
      "step  106 of  1000\n",
      "7.63086889597 4.92488676212\n",
      "calculation so far took 71.6196961402893  seconds\n",
      "step  107 of  1000\n"
     ]
    },
    {
     "name": "stderr",
     "output_type": "stream",
     "text": [
      "Traceback (most recent call last):\n",
      "  File \"/home/philcox/Chempy/Chempy/cem_function.py\", line 882, in posterior_function_many_stars\n",
      "    posterior, blobs = posterior_function_many_stars_real(changing_parameter,error_list,elements)\n",
      "  File \"/home/philcox/Chempy/Chempy/cem_function.py\", line 920, in posterior_function_many_stars_real\n",
      "    abundance_list,element_list = posterior_function_returning_predictions(args)\n",
      "  File \"/home/philcox/Chempy/Chempy/cem_function.py\", line 482, in posterior_function_returning_predictions\n",
      "    posterior, abundance_list, element_list = posterior_function_predictions(changing_parameter,a)\n",
      "  File \"/home/philcox/Chempy/Chempy/cem_function.py\", line 507, in posterior_function_predictions\n",
      "    abundance_list,elements_to_trace = cem_real2(a)\n",
      "  File \"/home/philcox/Chempy/Chempy/cem_function.py\", line 337, in cem_real2\n",
      "    a = shorten_sfr(a)\n",
      "  File \"/home/philcox/Chempy/Chempy/cem_function.py\", line 130, in shorten_sfr\n",
      "    assert fraction_of_mean_sfr > 0.05, ('The total SFR of the last age bin is below 5% of the mean SFR', 'stellar identifier = ', a.stellar_identifier, 'star time = ', star_time, 'model time = ', time_model )\n",
      "AssertionError: ('The total SFR of the last age bin is below 5% of the mean SFR', 'stellar identifier = ', 'Proto-sun', 'star time = ', 8.9400000000000013, 'model time = ', 9.0)\n"
     ]
    },
    {
     "name": "stdout",
     "output_type": "stream",
     "text": [
      "7.63086889597 4.74944063364\n",
      "calculation so far took 72.26627922058105  seconds\n",
      "step  108 of  1000\n",
      "7.63086889597 4.71009935688\n",
      "calculation so far took 72.89325857162476  seconds\n",
      "step  109 of  1000\n"
     ]
    },
    {
     "name": "stderr",
     "output_type": "stream",
     "text": [
      "Traceback (most recent call last):\n",
      "  File \"/home/philcox/Chempy/Chempy/cem_function.py\", line 882, in posterior_function_many_stars\n",
      "    posterior, blobs = posterior_function_many_stars_real(changing_parameter,error_list,elements)\n",
      "  File \"/home/philcox/Chempy/Chempy/cem_function.py\", line 920, in posterior_function_many_stars_real\n",
      "    abundance_list,element_list = posterior_function_returning_predictions(args)\n",
      "  File \"/home/philcox/Chempy/Chempy/cem_function.py\", line 482, in posterior_function_returning_predictions\n",
      "    posterior, abundance_list, element_list = posterior_function_predictions(changing_parameter,a)\n",
      "  File \"/home/philcox/Chempy/Chempy/cem_function.py\", line 492, in posterior_function_predictions\n",
      "    a = extract_parameters_and_priors(changing_parameter, a)\n",
      "  File \"/home/philcox/Chempy/Chempy/cem_function.py\", line 719, in extract_parameters_and_priors\n",
      "    assert False, '%s upper border is violated' %(name)\n",
      "AssertionError: log10_sfr_scale upper border is violated\n"
     ]
    },
    {
     "name": "stdout",
     "output_type": "stream",
     "text": [
      "7.63086889597 4.74928738336\n",
      "calculation so far took 73.52005982398987  seconds\n",
      "step  110 of  1000\n"
     ]
    },
    {
     "name": "stderr",
     "output_type": "stream",
     "text": [
      "Traceback (most recent call last):\n",
      "  File \"/home/philcox/Chempy/Chempy/cem_function.py\", line 882, in posterior_function_many_stars\n",
      "    posterior, blobs = posterior_function_many_stars_real(changing_parameter,error_list,elements)\n",
      "  File \"/home/philcox/Chempy/Chempy/cem_function.py\", line 920, in posterior_function_many_stars_real\n",
      "    abundance_list,element_list = posterior_function_returning_predictions(args)\n",
      "  File \"/home/philcox/Chempy/Chempy/cem_function.py\", line 482, in posterior_function_returning_predictions\n",
      "    posterior, abundance_list, element_list = posterior_function_predictions(changing_parameter,a)\n",
      "  File \"/home/philcox/Chempy/Chempy/cem_function.py\", line 507, in posterior_function_predictions\n",
      "    abundance_list,elements_to_trace = cem_real2(a)\n",
      "  File \"/home/philcox/Chempy/Chempy/cem_function.py\", line 337, in cem_real2\n",
      "    a = shorten_sfr(a)\n",
      "  File \"/home/philcox/Chempy/Chempy/cem_function.py\", line 130, in shorten_sfr\n",
      "    assert fraction_of_mean_sfr > 0.05, ('The total SFR of the last age bin is below 5% of the mean SFR', 'stellar identifier = ', a.stellar_identifier, 'star time = ', star_time, 'model time = ', time_model )\n",
      "AssertionError: ('The total SFR of the last age bin is below 5% of the mean SFR', 'stellar identifier = ', 'Proto-sun', 'star time = ', 8.9400000000000013, 'model time = ', 9.0)\n"
     ]
    },
    {
     "name": "stdout",
     "output_type": "stream",
     "text": [
      "7.63086889597 4.94861792038\n",
      "calculation so far took 74.17597675323486  seconds\n",
      "step  111 of  1000\n",
      "7.63086889597 5.09606935546\n",
      "calculation so far took 74.8095600605011  seconds\n",
      "step  112 of  1000\n",
      "7.63086889597 5.09928604194\n",
      "calculation so far took 75.7093243598938  seconds\n",
      "step  113 of  1000\n"
     ]
    },
    {
     "name": "stderr",
     "output_type": "stream",
     "text": [
      "Traceback (most recent call last):\n",
      "  File \"/home/philcox/Chempy/Chempy/cem_function.py\", line 882, in posterior_function_many_stars\n",
      "    posterior, blobs = posterior_function_many_stars_real(changing_parameter,error_list,elements)\n",
      "  File \"/home/philcox/Chempy/Chempy/cem_function.py\", line 920, in posterior_function_many_stars_real\n",
      "    abundance_list,element_list = posterior_function_returning_predictions(args)\n",
      "  File \"/home/philcox/Chempy/Chempy/cem_function.py\", line 482, in posterior_function_returning_predictions\n",
      "    posterior, abundance_list, element_list = posterior_function_predictions(changing_parameter,a)\n",
      "  File \"/home/philcox/Chempy/Chempy/cem_function.py\", line 492, in posterior_function_predictions\n",
      "    a = extract_parameters_and_priors(changing_parameter, a)\n",
      "  File \"/home/philcox/Chempy/Chempy/cem_function.py\", line 717, in extract_parameters_and_priors\n",
      "    assert False, '%s lower border is violated' %(name)\n",
      "AssertionError: outflow_feedback_fraction lower border is violated\n"
     ]
    },
    {
     "name": "stdout",
     "output_type": "stream",
     "text": [
      "7.63086889597 5.06641266315\n",
      "calculation so far took 76.51974892616272  seconds\n",
      "step  114 of  1000\n",
      "7.63086889597 5.12376495571\n",
      "calculation so far took 77.1414098739624  seconds\n",
      "step  115 of  1000\n",
      "7.63086889597 4.99502490177\n",
      "calculation so far took 77.75822973251343  seconds\n",
      "step  116 of  1000\n",
      "7.63086889597 4.87673768128\n",
      "calculation so far took 78.37965178489685  seconds\n",
      "step  117 of  1000\n"
     ]
    },
    {
     "name": "stderr",
     "output_type": "stream",
     "text": [
      "Traceback (most recent call last):\n",
      "  File \"/home/philcox/Chempy/Chempy/cem_function.py\", line 882, in posterior_function_many_stars\n",
      "    posterior, blobs = posterior_function_many_stars_real(changing_parameter,error_list,elements)\n",
      "  File \"/home/philcox/Chempy/Chempy/cem_function.py\", line 920, in posterior_function_many_stars_real\n",
      "    abundance_list,element_list = posterior_function_returning_predictions(args)\n",
      "  File \"/home/philcox/Chempy/Chempy/cem_function.py\", line 482, in posterior_function_returning_predictions\n",
      "    posterior, abundance_list, element_list = posterior_function_predictions(changing_parameter,a)\n",
      "  File \"/home/philcox/Chempy/Chempy/cem_function.py\", line 492, in posterior_function_predictions\n",
      "    a = extract_parameters_and_priors(changing_parameter, a)\n",
      "  File \"/home/philcox/Chempy/Chempy/cem_function.py\", line 717, in extract_parameters_and_priors\n",
      "    assert False, '%s lower border is violated' %(name)\n",
      "AssertionError: outflow_feedback_fraction lower border is violated\n"
     ]
    },
    {
     "name": "stdout",
     "output_type": "stream",
     "text": [
      "7.63086889597 5.18342117515\n",
      "calculation so far took 79.02354645729065  seconds\n",
      "step  118 of  1000\n",
      "7.63086889597 4.89101427468\n",
      "calculation so far took 79.64031386375427  seconds\n",
      "step  119 of  1000\n"
     ]
    },
    {
     "name": "stderr",
     "output_type": "stream",
     "text": [
      "Traceback (most recent call last):\n",
      "  File \"/home/philcox/Chempy/Chempy/cem_function.py\", line 882, in posterior_function_many_stars\n",
      "    posterior, blobs = posterior_function_many_stars_real(changing_parameter,error_list,elements)\n",
      "  File \"/home/philcox/Chempy/Chempy/cem_function.py\", line 920, in posterior_function_many_stars_real\n",
      "    abundance_list,element_list = posterior_function_returning_predictions(args)\n",
      "  File \"/home/philcox/Chempy/Chempy/cem_function.py\", line 482, in posterior_function_returning_predictions\n",
      "    posterior, abundance_list, element_list = posterior_function_predictions(changing_parameter,a)\n",
      "  File \"/home/philcox/Chempy/Chempy/cem_function.py\", line 492, in posterior_function_predictions\n",
      "    a = extract_parameters_and_priors(changing_parameter, a)\n",
      "  File \"/home/philcox/Chempy/Chempy/cem_function.py\", line 717, in extract_parameters_and_priors\n",
      "    assert False, '%s lower border is violated' %(name)\n",
      "AssertionError: outflow_feedback_fraction lower border is violated\n",
      "Traceback (most recent call last):\n",
      "  File \"/home/philcox/Chempy/Chempy/cem_function.py\", line 882, in posterior_function_many_stars\n",
      "    posterior, blobs = posterior_function_many_stars_real(changing_parameter,error_list,elements)\n",
      "  File \"/home/philcox/Chempy/Chempy/cem_function.py\", line 920, in posterior_function_many_stars_real\n",
      "    abundance_list,element_list = posterior_function_returning_predictions(args)\n",
      "  File \"/home/philcox/Chempy/Chempy/cem_function.py\", line 482, in posterior_function_returning_predictions\n",
      "    posterior, abundance_list, element_list = posterior_function_predictions(changing_parameter,a)\n",
      "  File \"/home/philcox/Chempy/Chempy/cem_function.py\", line 492, in posterior_function_predictions\n",
      "    a = extract_parameters_and_priors(changing_parameter, a)\n",
      "  File \"/home/philcox/Chempy/Chempy/cem_function.py\", line 719, in extract_parameters_and_priors\n",
      "    assert False, '%s upper border is violated' %(name)\n",
      "AssertionError: outflow_feedback_fraction upper border is violated\n"
     ]
    },
    {
     "name": "stdout",
     "output_type": "stream",
     "text": [
      "7.63086889597 4.99176034199\n",
      "calculation so far took 80.30433416366577  seconds\n",
      "step  120 of  1000\n"
     ]
    },
    {
     "name": "stderr",
     "output_type": "stream",
     "text": [
      "Traceback (most recent call last):\n",
      "  File \"/home/philcox/Chempy/Chempy/cem_function.py\", line 882, in posterior_function_many_stars\n",
      "    posterior, blobs = posterior_function_many_stars_real(changing_parameter,error_list,elements)\n",
      "  File \"/home/philcox/Chempy/Chempy/cem_function.py\", line 920, in posterior_function_many_stars_real\n",
      "    abundance_list,element_list = posterior_function_returning_predictions(args)\n",
      "  File \"/home/philcox/Chempy/Chempy/cem_function.py\", line 482, in posterior_function_returning_predictions\n",
      "    posterior, abundance_list, element_list = posterior_function_predictions(changing_parameter,a)\n",
      "  File \"/home/philcox/Chempy/Chempy/cem_function.py\", line 507, in posterior_function_predictions\n",
      "    abundance_list,elements_to_trace = cem_real2(a)\n",
      "  File \"/home/philcox/Chempy/Chempy/cem_function.py\", line 337, in cem_real2\n",
      "    a = shorten_sfr(a)\n",
      "  File \"/home/philcox/Chempy/Chempy/cem_function.py\", line 130, in shorten_sfr\n",
      "    assert fraction_of_mean_sfr > 0.05, ('The total SFR of the last age bin is below 5% of the mean SFR', 'stellar identifier = ', a.stellar_identifier, 'star time = ', star_time, 'model time = ', time_model )\n",
      "AssertionError: ('The total SFR of the last age bin is below 5% of the mean SFR', 'stellar identifier = ', 'Proto-sun', 'star time = ', 8.9400000000000013, 'model time = ', 9.0)\n"
     ]
    },
    {
     "name": "stdout",
     "output_type": "stream",
     "text": [
      "7.63086889597 5.17359963242\n",
      "calculation so far took 80.92903184890747  seconds\n",
      "step  121 of  1000\n",
      "7.63086889597 5.01489417138\n",
      "calculation so far took 81.57256269454956  seconds\n",
      "step  122 of  1000\n"
     ]
    },
    {
     "name": "stderr",
     "output_type": "stream",
     "text": [
      "Traceback (most recent call last):\n",
      "  File \"/home/philcox/Chempy/Chempy/cem_function.py\", line 882, in posterior_function_many_stars\n",
      "    posterior, blobs = posterior_function_many_stars_real(changing_parameter,error_list,elements)\n",
      "  File \"/home/philcox/Chempy/Chempy/cem_function.py\", line 920, in posterior_function_many_stars_real\n",
      "    abundance_list,element_list = posterior_function_returning_predictions(args)\n",
      "  File \"/home/philcox/Chempy/Chempy/cem_function.py\", line 482, in posterior_function_returning_predictions\n",
      "    posterior, abundance_list, element_list = posterior_function_predictions(changing_parameter,a)\n",
      "  File \"/home/philcox/Chempy/Chempy/cem_function.py\", line 492, in posterior_function_predictions\n",
      "    a = extract_parameters_and_priors(changing_parameter, a)\n",
      "  File \"/home/philcox/Chempy/Chempy/cem_function.py\", line 719, in extract_parameters_and_priors\n",
      "    assert False, '%s upper border is violated' %(name)\n",
      "AssertionError: log10_sfr_scale upper border is violated\n"
     ]
    },
    {
     "name": "stdout",
     "output_type": "stream",
     "text": [
      "7.63086889597 4.86591874748\n",
      "calculation so far took 82.25632786750793  seconds\n",
      "step  123 of  1000\n",
      "7.63086889597 4.70945328188\n",
      "calculation so far took 82.88597989082336  seconds\n",
      "step  124 of  1000\n",
      "7.63086889597 4.90247536651\n",
      "calculation so far took 83.50729155540466  seconds\n",
      "step  125 of  1000\n"
     ]
    },
    {
     "name": "stderr",
     "output_type": "stream",
     "text": [
      "Traceback (most recent call last):\n",
      "  File \"/home/philcox/Chempy/Chempy/cem_function.py\", line 882, in posterior_function_many_stars\n",
      "    posterior, blobs = posterior_function_many_stars_real(changing_parameter,error_list,elements)\n",
      "  File \"/home/philcox/Chempy/Chempy/cem_function.py\", line 920, in posterior_function_many_stars_real\n",
      "    abundance_list,element_list = posterior_function_returning_predictions(args)\n",
      "  File \"/home/philcox/Chempy/Chempy/cem_function.py\", line 482, in posterior_function_returning_predictions\n",
      "    posterior, abundance_list, element_list = posterior_function_predictions(changing_parameter,a)\n",
      "  File \"/home/philcox/Chempy/Chempy/cem_function.py\", line 507, in posterior_function_predictions\n",
      "    abundance_list,elements_to_trace = cem_real2(a)\n",
      "  File \"/home/philcox/Chempy/Chempy/cem_function.py\", line 337, in cem_real2\n",
      "    a = shorten_sfr(a)\n",
      "  File \"/home/philcox/Chempy/Chempy/cem_function.py\", line 130, in shorten_sfr\n",
      "    assert fraction_of_mean_sfr > 0.05, ('The total SFR of the last age bin is below 5% of the mean SFR', 'stellar identifier = ', a.stellar_identifier, 'star time = ', star_time, 'model time = ', time_model )\n",
      "AssertionError: ('The total SFR of the last age bin is below 5% of the mean SFR', 'stellar identifier = ', 'Proto-sun', 'star time = ', 8.9400000000000013, 'model time = ', 9.0)\n"
     ]
    },
    {
     "name": "stdout",
     "output_type": "stream",
     "text": [
      "7.63086889597 4.84600328512\n",
      "calculation so far took 84.13259935379028  seconds\n",
      "step  126 of  1000\n",
      "7.63086889597 4.80012000177\n",
      "calculation so far took 84.8405659198761  seconds\n",
      "step  127 of  1000\n",
      "7.63086889597 4.56444711476\n",
      "calculation so far took 85.45805096626282  seconds\n",
      "step  128 of  1000\n",
      "7.63086889597 4.63138080802\n",
      "calculation so far took 86.07915902137756  seconds\n",
      "step  129 of  1000\n",
      "7.63086889597 4.55929765093\n",
      "calculation so far took 86.69624257087708  seconds\n",
      "step  130 of  1000\n"
     ]
    },
    {
     "name": "stderr",
     "output_type": "stream",
     "text": [
      "Traceback (most recent call last):\n",
      "  File \"/home/philcox/Chempy/Chempy/cem_function.py\", line 882, in posterior_function_many_stars\n",
      "    posterior, blobs = posterior_function_many_stars_real(changing_parameter,error_list,elements)\n",
      "  File \"/home/philcox/Chempy/Chempy/cem_function.py\", line 920, in posterior_function_many_stars_real\n",
      "    abundance_list,element_list = posterior_function_returning_predictions(args)\n",
      "  File \"/home/philcox/Chempy/Chempy/cem_function.py\", line 482, in posterior_function_returning_predictions\n",
      "    posterior, abundance_list, element_list = posterior_function_predictions(changing_parameter,a)\n",
      "  File \"/home/philcox/Chempy/Chempy/cem_function.py\", line 507, in posterior_function_predictions\n",
      "    abundance_list,elements_to_trace = cem_real2(a)\n",
      "  File \"/home/philcox/Chempy/Chempy/cem_function.py\", line 337, in cem_real2\n",
      "    a = shorten_sfr(a)\n",
      "  File \"/home/philcox/Chempy/Chempy/cem_function.py\", line 130, in shorten_sfr\n",
      "    assert fraction_of_mean_sfr > 0.05, ('The total SFR of the last age bin is below 5% of the mean SFR', 'stellar identifier = ', a.stellar_identifier, 'star time = ', star_time, 'model time = ', time_model )\n",
      "AssertionError: ('The total SFR of the last age bin is below 5% of the mean SFR', 'stellar identifier = ', 'Proto-sun', 'star time = ', 8.9400000000000013, 'model time = ', 9.0)\n"
     ]
    },
    {
     "name": "stdout",
     "output_type": "stream",
     "text": [
      "7.63086889597 4.77891845133\n",
      "calculation so far took 87.32593131065369  seconds\n",
      "step  131 of  1000\n"
     ]
    },
    {
     "name": "stderr",
     "output_type": "stream",
     "text": [
      "Traceback (most recent call last):\n",
      "  File \"/home/philcox/Chempy/Chempy/cem_function.py\", line 882, in posterior_function_many_stars\n",
      "    posterior, blobs = posterior_function_many_stars_real(changing_parameter,error_list,elements)\n",
      "  File \"/home/philcox/Chempy/Chempy/cem_function.py\", line 920, in posterior_function_many_stars_real\n",
      "    abundance_list,element_list = posterior_function_returning_predictions(args)\n",
      "  File \"/home/philcox/Chempy/Chempy/cem_function.py\", line 482, in posterior_function_returning_predictions\n",
      "    posterior, abundance_list, element_list = posterior_function_predictions(changing_parameter,a)\n",
      "  File \"/home/philcox/Chempy/Chempy/cem_function.py\", line 507, in posterior_function_predictions\n",
      "    abundance_list,elements_to_trace = cem_real2(a)\n",
      "  File \"/home/philcox/Chempy/Chempy/cem_function.py\", line 337, in cem_real2\n",
      "    a = shorten_sfr(a)\n",
      "  File \"/home/philcox/Chempy/Chempy/cem_function.py\", line 130, in shorten_sfr\n",
      "    assert fraction_of_mean_sfr > 0.05, ('The total SFR of the last age bin is below 5% of the mean SFR', 'stellar identifier = ', a.stellar_identifier, 'star time = ', star_time, 'model time = ', time_model )\n",
      "AssertionError: ('The total SFR of the last age bin is below 5% of the mean SFR', 'stellar identifier = ', 'Proto-sun', 'star time = ', 8.9400000000000013, 'model time = ', 9.0)\n"
     ]
    },
    {
     "name": "stdout",
     "output_type": "stream",
     "text": [
      "7.63086889597 4.74223587343\n",
      "calculation so far took 87.97041368484497  seconds\n",
      "step  132 of  1000\n",
      "7.63086889597 4.79179125308\n",
      "calculation so far took 88.62415790557861  seconds\n",
      "step  133 of  1000\n",
      "7.63086889597 5.05127263592\n",
      "calculation so far took 89.24731397628784  seconds\n",
      "step  134 of  1000\n",
      "7.63086889597 5.17609528036\n",
      "calculation so far took 89.86932015419006  seconds\n",
      "step  135 of  1000\n",
      "7.63086889597 4.88699009081\n",
      "calculation so far took 90.49789047241211  seconds\n",
      "step  136 of  1000\n",
      "7.63086889597 5.02830279175\n",
      "calculation so far took 91.12687373161316  seconds\n",
      "step  137 of  1000\n"
     ]
    },
    {
     "name": "stderr",
     "output_type": "stream",
     "text": [
      "Traceback (most recent call last):\n",
      "  File \"/home/philcox/Chempy/Chempy/cem_function.py\", line 882, in posterior_function_many_stars\n",
      "    posterior, blobs = posterior_function_many_stars_real(changing_parameter,error_list,elements)\n",
      "  File \"/home/philcox/Chempy/Chempy/cem_function.py\", line 920, in posterior_function_many_stars_real\n",
      "    abundance_list,element_list = posterior_function_returning_predictions(args)\n",
      "  File \"/home/philcox/Chempy/Chempy/cem_function.py\", line 482, in posterior_function_returning_predictions\n",
      "    posterior, abundance_list, element_list = posterior_function_predictions(changing_parameter,a)\n",
      "  File \"/home/philcox/Chempy/Chempy/cem_function.py\", line 492, in posterior_function_predictions\n",
      "    a = extract_parameters_and_priors(changing_parameter, a)\n",
      "  File \"/home/philcox/Chempy/Chempy/cem_function.py\", line 719, in extract_parameters_and_priors\n",
      "    assert False, '%s upper border is violated' %(name)\n",
      "AssertionError: log10_sfr_scale upper border is violated\n"
     ]
    },
    {
     "name": "stdout",
     "output_type": "stream",
     "text": [
      "7.63086889597 4.92369217418\n",
      "calculation so far took 91.74622225761414  seconds\n",
      "step  138 of  1000\n",
      "7.63086889597 4.72689639207\n",
      "calculation so far took 92.56500482559204  seconds\n",
      "step  139 of  1000\n",
      "7.63086889597 4.96602914174\n",
      "calculation so far took 93.18386816978455  seconds\n",
      "step  140 of  1000\n",
      "7.63086889597 5.36595841184\n",
      "calculation so far took 93.8101556301117  seconds\n",
      "step  141 of  1000\n",
      "7.63086889597 5.27846788824\n",
      "calculation so far took 94.42747902870178  seconds\n",
      "step  142 of  1000\n",
      "7.63086889597 5.11005291449\n",
      "calculation so far took 95.05090951919556  seconds\n",
      "step  143 of  1000\n"
     ]
    },
    {
     "name": "stderr",
     "output_type": "stream",
     "text": [
      "Traceback (most recent call last):\n",
      "  File \"/home/philcox/Chempy/Chempy/cem_function.py\", line 882, in posterior_function_many_stars\n",
      "    posterior, blobs = posterior_function_many_stars_real(changing_parameter,error_list,elements)\n",
      "  File \"/home/philcox/Chempy/Chempy/cem_function.py\", line 920, in posterior_function_many_stars_real\n",
      "    abundance_list,element_list = posterior_function_returning_predictions(args)\n",
      "  File \"/home/philcox/Chempy/Chempy/cem_function.py\", line 482, in posterior_function_returning_predictions\n",
      "    posterior, abundance_list, element_list = posterior_function_predictions(changing_parameter,a)\n",
      "  File \"/home/philcox/Chempy/Chempy/cem_function.py\", line 492, in posterior_function_predictions\n",
      "    a = extract_parameters_and_priors(changing_parameter, a)\n",
      "  File \"/home/philcox/Chempy/Chempy/cem_function.py\", line 719, in extract_parameters_and_priors\n",
      "    assert False, '%s upper border is violated' %(name)\n",
      "AssertionError: log10_sfr_scale upper border is violated\n"
     ]
    },
    {
     "name": "stdout",
     "output_type": "stream",
     "text": [
      "7.63086889597 5.15925421577\n",
      "calculation so far took 95.68967986106873  seconds\n",
      "step  144 of  1000\n",
      "7.63086889597 5.0897518409\n",
      "calculation so far took 96.31265807151794  seconds\n",
      "step  145 of  1000\n",
      "7.63086889597 5.18616048338\n",
      "calculation so far took 96.94160604476929  seconds\n",
      "step  146 of  1000\n",
      "7.63086889597 4.96506040425\n",
      "calculation so far took 97.56076550483704  seconds\n",
      "step  147 of  1000\n"
     ]
    },
    {
     "name": "stderr",
     "output_type": "stream",
     "text": [
      "Traceback (most recent call last):\n",
      "  File \"/home/philcox/Chempy/Chempy/cem_function.py\", line 882, in posterior_function_many_stars\n",
      "    posterior, blobs = posterior_function_many_stars_real(changing_parameter,error_list,elements)\n",
      "  File \"/home/philcox/Chempy/Chempy/cem_function.py\", line 920, in posterior_function_many_stars_real\n",
      "    abundance_list,element_list = posterior_function_returning_predictions(args)\n",
      "  File \"/home/philcox/Chempy/Chempy/cem_function.py\", line 482, in posterior_function_returning_predictions\n",
      "    posterior, abundance_list, element_list = posterior_function_predictions(changing_parameter,a)\n",
      "  File \"/home/philcox/Chempy/Chempy/cem_function.py\", line 492, in posterior_function_predictions\n",
      "    a = extract_parameters_and_priors(changing_parameter, a)\n",
      "  File \"/home/philcox/Chempy/Chempy/cem_function.py\", line 719, in extract_parameters_and_priors\n",
      "    assert False, '%s upper border is violated' %(name)\n",
      "AssertionError: log10_sfr_scale upper border is violated\n"
     ]
    },
    {
     "name": "stdout",
     "output_type": "stream",
     "text": [
      "7.63086889597 5.00188213634\n",
      "calculation so far took 98.22028923034668  seconds\n",
      "step  148 of  1000\n"
     ]
    },
    {
     "name": "stderr",
     "output_type": "stream",
     "text": [
      "Traceback (most recent call last):\n",
      "  File \"/home/philcox/Chempy/Chempy/cem_function.py\", line 882, in posterior_function_many_stars\n",
      "    posterior, blobs = posterior_function_many_stars_real(changing_parameter,error_list,elements)\n",
      "  File \"/home/philcox/Chempy/Chempy/cem_function.py\", line 920, in posterior_function_many_stars_real\n",
      "    abundance_list,element_list = posterior_function_returning_predictions(args)\n",
      "  File \"/home/philcox/Chempy/Chempy/cem_function.py\", line 482, in posterior_function_returning_predictions\n",
      "    posterior, abundance_list, element_list = posterior_function_predictions(changing_parameter,a)\n",
      "  File \"/home/philcox/Chempy/Chempy/cem_function.py\", line 492, in posterior_function_predictions\n",
      "    a = extract_parameters_and_priors(changing_parameter, a)\n",
      "  File \"/home/philcox/Chempy/Chempy/cem_function.py\", line 719, in extract_parameters_and_priors\n",
      "    assert False, '%s upper border is violated' %(name)\n",
      "AssertionError: outflow_feedback_fraction upper border is violated\n"
     ]
    },
    {
     "name": "stdout",
     "output_type": "stream",
     "text": [
      "7.63086889597 5.07837592577\n",
      "calculation so far took 98.90848755836487  seconds\n",
      "step  149 of  1000\n",
      "7.63086889597 4.90092918304\n",
      "calculation so far took 99.52841114997864  seconds\n",
      "step  150 of  1000\n",
      "7.63086889597 4.84828470317\n",
      "calculation so far took 100.22300577163696  seconds\n",
      "step  151 of  1000\n",
      "7.63086889597 4.97674345821\n",
      "calculation so far took 100.85360646247864  seconds\n",
      "step  152 of  1000\n",
      "7.63086889597 4.89018899965\n",
      "calculation so far took 101.47604036331177  seconds\n",
      "step  153 of  1000\n"
     ]
    },
    {
     "name": "stderr",
     "output_type": "stream",
     "text": [
      "Traceback (most recent call last):\n",
      "  File \"/home/philcox/Chempy/Chempy/cem_function.py\", line 882, in posterior_function_many_stars\n",
      "    posterior, blobs = posterior_function_many_stars_real(changing_parameter,error_list,elements)\n",
      "  File \"/home/philcox/Chempy/Chempy/cem_function.py\", line 920, in posterior_function_many_stars_real\n",
      "    abundance_list,element_list = posterior_function_returning_predictions(args)\n",
      "  File \"/home/philcox/Chempy/Chempy/cem_function.py\", line 482, in posterior_function_returning_predictions\n",
      "    posterior, abundance_list, element_list = posterior_function_predictions(changing_parameter,a)\n",
      "  File \"/home/philcox/Chempy/Chempy/cem_function.py\", line 507, in posterior_function_predictions\n",
      "    abundance_list,elements_to_trace = cem_real2(a)\n",
      "  File \"/home/philcox/Chempy/Chempy/cem_function.py\", line 337, in cem_real2\n",
      "    a = shorten_sfr(a)\n",
      "  File \"/home/philcox/Chempy/Chempy/cem_function.py\", line 130, in shorten_sfr\n",
      "    assert fraction_of_mean_sfr > 0.05, ('The total SFR of the last age bin is below 5% of the mean SFR', 'stellar identifier = ', a.stellar_identifier, 'star time = ', star_time, 'model time = ', time_model )\n",
      "AssertionError: ('The total SFR of the last age bin is below 5% of the mean SFR', 'stellar identifier = ', 'Proto-sun', 'star time = ', 8.9400000000000013, 'model time = ', 9.0)\n"
     ]
    },
    {
     "name": "stdout",
     "output_type": "stream",
     "text": [
      "7.63086889597 4.64976447023\n",
      "calculation so far took 102.09992814064026  seconds\n",
      "step  154 of  1000\n",
      "7.63086889597 4.72274914538\n",
      "calculation so far took 102.74675965309143  seconds\n",
      "step  155 of  1000\n"
     ]
    },
    {
     "name": "stderr",
     "output_type": "stream",
     "text": [
      "Traceback (most recent call last):\n",
      "  File \"/home/philcox/Chempy/Chempy/cem_function.py\", line 882, in posterior_function_many_stars\n",
      "    posterior, blobs = posterior_function_many_stars_real(changing_parameter,error_list,elements)\n",
      "  File \"/home/philcox/Chempy/Chempy/cem_function.py\", line 920, in posterior_function_many_stars_real\n",
      "    abundance_list,element_list = posterior_function_returning_predictions(args)\n",
      "  File \"/home/philcox/Chempy/Chempy/cem_function.py\", line 482, in posterior_function_returning_predictions\n",
      "    posterior, abundance_list, element_list = posterior_function_predictions(changing_parameter,a)\n",
      "  File \"/home/philcox/Chempy/Chempy/cem_function.py\", line 492, in posterior_function_predictions\n",
      "    a = extract_parameters_and_priors(changing_parameter, a)\n",
      "  File \"/home/philcox/Chempy/Chempy/cem_function.py\", line 719, in extract_parameters_and_priors\n",
      "    assert False, '%s upper border is violated' %(name)\n",
      "AssertionError: log10_sfr_scale upper border is violated\n",
      "Traceback (most recent call last):\n",
      "  File \"/home/philcox/Chempy/Chempy/cem_function.py\", line 882, in posterior_function_many_stars\n",
      "    posterior, blobs = posterior_function_many_stars_real(changing_parameter,error_list,elements)\n",
      "  File \"/home/philcox/Chempy/Chempy/cem_function.py\", line 920, in posterior_function_many_stars_real\n",
      "    abundance_list,element_list = posterior_function_returning_predictions(args)\n",
      "  File \"/home/philcox/Chempy/Chempy/cem_function.py\", line 482, in posterior_function_returning_predictions\n",
      "    posterior, abundance_list, element_list = posterior_function_predictions(changing_parameter,a)\n",
      "  File \"/home/philcox/Chempy/Chempy/cem_function.py\", line 492, in posterior_function_predictions\n",
      "    a = extract_parameters_and_priors(changing_parameter, a)\n",
      "  File \"/home/philcox/Chempy/Chempy/cem_function.py\", line 719, in extract_parameters_and_priors\n",
      "    assert False, '%s upper border is violated' %(name)\n",
      "AssertionError: log10_sfr_scale upper border is violated\n"
     ]
    },
    {
     "name": "stdout",
     "output_type": "stream",
     "text": [
      "7.63086889597 4.5287599819\n",
      "calculation so far took 103.50778698921204  seconds\n",
      "step  156 of  1000\n"
     ]
    },
    {
     "name": "stderr",
     "output_type": "stream",
     "text": [
      "Traceback (most recent call last):\n",
      "  File \"/home/philcox/Chempy/Chempy/cem_function.py\", line 882, in posterior_function_many_stars\n",
      "    posterior, blobs = posterior_function_many_stars_real(changing_parameter,error_list,elements)\n",
      "  File \"/home/philcox/Chempy/Chempy/cem_function.py\", line 920, in posterior_function_many_stars_real\n",
      "    abundance_list,element_list = posterior_function_returning_predictions(args)\n",
      "  File \"/home/philcox/Chempy/Chempy/cem_function.py\", line 482, in posterior_function_returning_predictions\n",
      "    posterior, abundance_list, element_list = posterior_function_predictions(changing_parameter,a)\n",
      "  File \"/home/philcox/Chempy/Chempy/cem_function.py\", line 492, in posterior_function_predictions\n",
      "    a = extract_parameters_and_priors(changing_parameter, a)\n",
      "  File \"/home/philcox/Chempy/Chempy/cem_function.py\", line 719, in extract_parameters_and_priors\n",
      "    assert False, '%s upper border is violated' %(name)\n",
      "AssertionError: outflow_feedback_fraction upper border is violated\n"
     ]
    },
    {
     "name": "stdout",
     "output_type": "stream",
     "text": [
      "7.63086889597 4.67217980074\n",
      "calculation so far took 104.21332883834839  seconds\n",
      "step  157 of  1000\n",
      "7.63086889597 4.8361031475\n",
      "calculation so far took 104.90248608589172  seconds\n",
      "step  158 of  1000\n",
      "7.63086889597 4.71835305695\n",
      "calculation so far took 105.52611827850342  seconds\n",
      "step  159 of  1000\n",
      "7.63086889597 4.85969275665\n",
      "calculation so far took 106.19528436660767  seconds\n",
      "step  160 of  1000\n"
     ]
    },
    {
     "name": "stderr",
     "output_type": "stream",
     "text": [
      "Traceback (most recent call last):\n",
      "  File \"/home/philcox/Chempy/Chempy/cem_function.py\", line 882, in posterior_function_many_stars\n",
      "    posterior, blobs = posterior_function_many_stars_real(changing_parameter,error_list,elements)\n",
      "  File \"/home/philcox/Chempy/Chempy/cem_function.py\", line 920, in posterior_function_many_stars_real\n",
      "    abundance_list,element_list = posterior_function_returning_predictions(args)\n",
      "  File \"/home/philcox/Chempy/Chempy/cem_function.py\", line 482, in posterior_function_returning_predictions\n",
      "    posterior, abundance_list, element_list = posterior_function_predictions(changing_parameter,a)\n",
      "  File \"/home/philcox/Chempy/Chempy/cem_function.py\", line 492, in posterior_function_predictions\n",
      "    a = extract_parameters_and_priors(changing_parameter, a)\n",
      "  File \"/home/philcox/Chempy/Chempy/cem_function.py\", line 719, in extract_parameters_and_priors\n",
      "    assert False, '%s upper border is violated' %(name)\n",
      "AssertionError: log10_sfr_scale upper border is violated\n"
     ]
    },
    {
     "name": "stdout",
     "output_type": "stream",
     "text": [
      "7.63086889597 4.85254387279\n",
      "calculation so far took 106.98112320899963  seconds\n",
      "step  161 of  1000\n",
      "7.63086889597 4.69701883285\n",
      "calculation so far took 107.60842204093933  seconds\n",
      "step  162 of  1000\n"
     ]
    },
    {
     "name": "stderr",
     "output_type": "stream",
     "text": [
      "Traceback (most recent call last):\n",
      "  File \"/home/philcox/Chempy/Chempy/cem_function.py\", line 882, in posterior_function_many_stars\n",
      "    posterior, blobs = posterior_function_many_stars_real(changing_parameter,error_list,elements)\n",
      "  File \"/home/philcox/Chempy/Chempy/cem_function.py\", line 920, in posterior_function_many_stars_real\n",
      "    abundance_list,element_list = posterior_function_returning_predictions(args)\n",
      "  File \"/home/philcox/Chempy/Chempy/cem_function.py\", line 482, in posterior_function_returning_predictions\n",
      "    posterior, abundance_list, element_list = posterior_function_predictions(changing_parameter,a)\n",
      "  File \"/home/philcox/Chempy/Chempy/cem_function.py\", line 492, in posterior_function_predictions\n",
      "    a = extract_parameters_and_priors(changing_parameter, a)\n",
      "  File \"/home/philcox/Chempy/Chempy/cem_function.py\", line 719, in extract_parameters_and_priors\n",
      "    assert False, '%s upper border is violated' %(name)\n",
      "AssertionError: outflow_feedback_fraction upper border is violated\n"
     ]
    },
    {
     "name": "stdout",
     "output_type": "stream",
     "text": [
      "7.63086889597 4.63530446262\n",
      "calculation so far took 108.27300453186035  seconds\n",
      "step  163 of  1000\n"
     ]
    },
    {
     "name": "stderr",
     "output_type": "stream",
     "text": [
      "Traceback (most recent call last):\n",
      "  File \"/home/philcox/Chempy/Chempy/cem_function.py\", line 882, in posterior_function_many_stars\n",
      "    posterior, blobs = posterior_function_many_stars_real(changing_parameter,error_list,elements)\n",
      "  File \"/home/philcox/Chempy/Chempy/cem_function.py\", line 920, in posterior_function_many_stars_real\n",
      "    abundance_list,element_list = posterior_function_returning_predictions(args)\n",
      "  File \"/home/philcox/Chempy/Chempy/cem_function.py\", line 482, in posterior_function_returning_predictions\n",
      "    posterior, abundance_list, element_list = posterior_function_predictions(changing_parameter,a)\n",
      "  File \"/home/philcox/Chempy/Chempy/cem_function.py\", line 507, in posterior_function_predictions\n",
      "    abundance_list,elements_to_trace = cem_real2(a)\n",
      "  File \"/home/philcox/Chempy/Chempy/cem_function.py\", line 337, in cem_real2\n",
      "    a = shorten_sfr(a)\n",
      "  File \"/home/philcox/Chempy/Chempy/cem_function.py\", line 130, in shorten_sfr\n",
      "    assert fraction_of_mean_sfr > 0.05, ('The total SFR of the last age bin is below 5% of the mean SFR', 'stellar identifier = ', a.stellar_identifier, 'star time = ', star_time, 'model time = ', time_model )\n",
      "AssertionError: ('The total SFR of the last age bin is below 5% of the mean SFR', 'stellar identifier = ', 'Proto-sun', 'star time = ', 8.9400000000000013, 'model time = ', 9.0)\n"
     ]
    },
    {
     "name": "stdout",
     "output_type": "stream",
     "text": [
      "7.63086889597 4.65895520996\n",
      "calculation so far took 108.92483568191528  seconds\n",
      "step  164 of  1000\n",
      "7.63086889597 4.74430593497\n",
      "calculation so far took 109.56063866615295  seconds\n",
      "step  165 of  1000\n",
      "7.63086889597 5.01050642846\n",
      "calculation so far took 110.2281506061554  seconds\n",
      "step  166 of  1000\n"
     ]
    },
    {
     "name": "stderr",
     "output_type": "stream",
     "text": [
      "Traceback (most recent call last):\n",
      "  File \"/home/philcox/Chempy/Chempy/cem_function.py\", line 882, in posterior_function_many_stars\n",
      "    posterior, blobs = posterior_function_many_stars_real(changing_parameter,error_list,elements)\n",
      "  File \"/home/philcox/Chempy/Chempy/cem_function.py\", line 920, in posterior_function_many_stars_real\n",
      "    abundance_list,element_list = posterior_function_returning_predictions(args)\n",
      "  File \"/home/philcox/Chempy/Chempy/cem_function.py\", line 482, in posterior_function_returning_predictions\n",
      "    posterior, abundance_list, element_list = posterior_function_predictions(changing_parameter,a)\n",
      "  File \"/home/philcox/Chempy/Chempy/cem_function.py\", line 492, in posterior_function_predictions\n",
      "    a = extract_parameters_and_priors(changing_parameter, a)\n",
      "  File \"/home/philcox/Chempy/Chempy/cem_function.py\", line 719, in extract_parameters_and_priors\n",
      "    assert False, '%s upper border is violated' %(name)\n",
      "AssertionError: outflow_feedback_fraction upper border is violated\n"
     ]
    },
    {
     "name": "stdout",
     "output_type": "stream",
     "text": [
      "7.63086889597 4.74637609786\n",
      "calculation so far took 110.85843133926392  seconds\n",
      "step  167 of  1000\n",
      "7.63086889597 4.60820139298\n",
      "calculation so far took 111.50260066986084  seconds\n",
      "step  168 of  1000\n"
     ]
    },
    {
     "name": "stderr",
     "output_type": "stream",
     "text": [
      "Traceback (most recent call last):\n",
      "  File \"/home/philcox/Chempy/Chempy/cem_function.py\", line 882, in posterior_function_many_stars\n",
      "    posterior, blobs = posterior_function_many_stars_real(changing_parameter,error_list,elements)\n",
      "  File \"/home/philcox/Chempy/Chempy/cem_function.py\", line 920, in posterior_function_many_stars_real\n",
      "    abundance_list,element_list = posterior_function_returning_predictions(args)\n",
      "  File \"/home/philcox/Chempy/Chempy/cem_function.py\", line 482, in posterior_function_returning_predictions\n",
      "    posterior, abundance_list, element_list = posterior_function_predictions(changing_parameter,a)\n",
      "  File \"/home/philcox/Chempy/Chempy/cem_function.py\", line 492, in posterior_function_predictions\n",
      "    a = extract_parameters_and_priors(changing_parameter, a)\n",
      "  File \"/home/philcox/Chempy/Chempy/cem_function.py\", line 719, in extract_parameters_and_priors\n",
      "    assert False, '%s upper border is violated' %(name)\n",
      "AssertionError: log10_sn1a_time_delay upper border is violated\n"
     ]
    },
    {
     "name": "stdout",
     "output_type": "stream",
     "text": [
      "7.63086889597 4.90004217267\n",
      "calculation so far took 112.14229965209961  seconds\n",
      "step  169 of  1000\n",
      "7.63086889597 4.68631829182\n",
      "calculation so far took 112.77978563308716  seconds\n",
      "step  170 of  1000\n",
      "7.63086889597 4.63531435682\n",
      "calculation so far took 113.40511751174927  seconds\n",
      "step  171 of  1000\n",
      "7.63086889597 4.88927736\n",
      "calculation so far took 114.03398108482361  seconds\n",
      "step  172 of  1000\n",
      "7.63086889597 4.95524802383\n",
      "calculation so far took 114.66651201248169  seconds\n",
      "step  173 of  1000\n",
      "7.63086889597 5.02889163766\n",
      "calculation so far took 115.28646898269653  seconds\n",
      "step  174 of  1000\n",
      "7.63086889597 4.88035789149\n",
      "calculation so far took 115.9224419593811  seconds\n",
      "step  175 of  1000\n"
     ]
    },
    {
     "name": "stderr",
     "output_type": "stream",
     "text": [
      "Traceback (most recent call last):\n",
      "  File \"/home/philcox/Chempy/Chempy/cem_function.py\", line 882, in posterior_function_many_stars\n",
      "    posterior, blobs = posterior_function_many_stars_real(changing_parameter,error_list,elements)\n",
      "  File \"/home/philcox/Chempy/Chempy/cem_function.py\", line 920, in posterior_function_many_stars_real\n",
      "    abundance_list,element_list = posterior_function_returning_predictions(args)\n",
      "  File \"/home/philcox/Chempy/Chempy/cem_function.py\", line 482, in posterior_function_returning_predictions\n",
      "    posterior, abundance_list, element_list = posterior_function_predictions(changing_parameter,a)\n",
      "  File \"/home/philcox/Chempy/Chempy/cem_function.py\", line 492, in posterior_function_predictions\n",
      "    a = extract_parameters_and_priors(changing_parameter, a)\n",
      "  File \"/home/philcox/Chempy/Chempy/cem_function.py\", line 719, in extract_parameters_and_priors\n",
      "    assert False, '%s upper border is violated' %(name)\n",
      "AssertionError: log10_sfr_scale upper border is violated\n"
     ]
    },
    {
     "name": "stdout",
     "output_type": "stream",
     "text": [
      "7.63086889597 4.9602809043\n",
      "calculation so far took 116.56615614891052  seconds\n",
      "step  176 of  1000\n",
      "7.63086889597 4.96576163654\n",
      "calculation so far took 117.18666529655457  seconds\n",
      "step  177 of  1000\n",
      "7.63086889597 4.81671781547\n",
      "calculation so far took 117.80779218673706  seconds\n",
      "step  178 of  1000\n"
     ]
    },
    {
     "name": "stderr",
     "output_type": "stream",
     "text": [
      "Traceback (most recent call last):\n",
      "  File \"/home/philcox/Chempy/Chempy/cem_function.py\", line 882, in posterior_function_many_stars\n",
      "    posterior, blobs = posterior_function_many_stars_real(changing_parameter,error_list,elements)\n",
      "  File \"/home/philcox/Chempy/Chempy/cem_function.py\", line 920, in posterior_function_many_stars_real\n",
      "    abundance_list,element_list = posterior_function_returning_predictions(args)\n",
      "  File \"/home/philcox/Chempy/Chempy/cem_function.py\", line 482, in posterior_function_returning_predictions\n",
      "    posterior, abundance_list, element_list = posterior_function_predictions(changing_parameter,a)\n",
      "  File \"/home/philcox/Chempy/Chempy/cem_function.py\", line 507, in posterior_function_predictions\n",
      "    abundance_list,elements_to_trace = cem_real2(a)\n",
      "  File \"/home/philcox/Chempy/Chempy/cem_function.py\", line 337, in cem_real2\n",
      "    a = shorten_sfr(a)\n",
      "  File \"/home/philcox/Chempy/Chempy/cem_function.py\", line 130, in shorten_sfr\n",
      "    assert fraction_of_mean_sfr > 0.05, ('The total SFR of the last age bin is below 5% of the mean SFR', 'stellar identifier = ', a.stellar_identifier, 'star time = ', star_time, 'model time = ', time_model )\n",
      "AssertionError: ('The total SFR of the last age bin is below 5% of the mean SFR', 'stellar identifier = ', 'Proto-sun', 'star time = ', 8.9400000000000013, 'model time = ', 9.0)\n",
      "Traceback (most recent call last):\n",
      "  File \"/home/philcox/Chempy/Chempy/cem_function.py\", line 882, in posterior_function_many_stars\n",
      "    posterior, blobs = posterior_function_many_stars_real(changing_parameter,error_list,elements)\n",
      "  File \"/home/philcox/Chempy/Chempy/cem_function.py\", line 920, in posterior_function_many_stars_real\n",
      "    abundance_list,element_list = posterior_function_returning_predictions(args)\n",
      "  File \"/home/philcox/Chempy/Chempy/cem_function.py\", line 482, in posterior_function_returning_predictions\n",
      "    posterior, abundance_list, element_list = posterior_function_predictions(changing_parameter,a)\n",
      "  File \"/home/philcox/Chempy/Chempy/cem_function.py\", line 507, in posterior_function_predictions\n",
      "    abundance_list,elements_to_trace = cem_real2(a)\n",
      "  File \"/home/philcox/Chempy/Chempy/cem_function.py\", line 337, in cem_real2\n",
      "    a = shorten_sfr(a)\n",
      "  File \"/home/philcox/Chempy/Chempy/cem_function.py\", line 130, in shorten_sfr\n",
      "    assert fraction_of_mean_sfr > 0.05, ('The total SFR of the last age bin is below 5% of the mean SFR', 'stellar identifier = ', a.stellar_identifier, 'star time = ', star_time, 'model time = ', time_model )\n",
      "AssertionError: ('The total SFR of the last age bin is below 5% of the mean SFR', 'stellar identifier = ', 'Proto-sun', 'star time = ', 8.9400000000000013, 'model time = ', 9.0)\n"
     ]
    },
    {
     "name": "stdout",
     "output_type": "stream",
     "text": [
      "7.63086889597 4.87725864814\n",
      "calculation so far took 118.43850588798523  seconds\n",
      "step  179 of  1000\n"
     ]
    },
    {
     "name": "stderr",
     "output_type": "stream",
     "text": [
      "Traceback (most recent call last):\n",
      "  File \"/home/philcox/Chempy/Chempy/cem_function.py\", line 882, in posterior_function_many_stars\n",
      "    posterior, blobs = posterior_function_many_stars_real(changing_parameter,error_list,elements)\n",
      "  File \"/home/philcox/Chempy/Chempy/cem_function.py\", line 920, in posterior_function_many_stars_real\n",
      "    abundance_list,element_list = posterior_function_returning_predictions(args)\n",
      "  File \"/home/philcox/Chempy/Chempy/cem_function.py\", line 482, in posterior_function_returning_predictions\n",
      "    posterior, abundance_list, element_list = posterior_function_predictions(changing_parameter,a)\n",
      "  File \"/home/philcox/Chempy/Chempy/cem_function.py\", line 492, in posterior_function_predictions\n",
      "    a = extract_parameters_and_priors(changing_parameter, a)\n",
      "  File \"/home/philcox/Chempy/Chempy/cem_function.py\", line 719, in extract_parameters_and_priors\n",
      "    assert False, '%s upper border is violated' %(name)\n",
      "AssertionError: log10_sfr_scale upper border is violated\n",
      "Traceback (most recent call last):\n",
      "  File \"/home/philcox/Chempy/Chempy/cem_function.py\", line 882, in posterior_function_many_stars\n",
      "    posterior, blobs = posterior_function_many_stars_real(changing_parameter,error_list,elements)\n",
      "  File \"/home/philcox/Chempy/Chempy/cem_function.py\", line 920, in posterior_function_many_stars_real\n",
      "    abundance_list,element_list = posterior_function_returning_predictions(args)\n",
      "  File \"/home/philcox/Chempy/Chempy/cem_function.py\", line 482, in posterior_function_returning_predictions\n",
      "    posterior, abundance_list, element_list = posterior_function_predictions(changing_parameter,a)\n",
      "  File \"/home/philcox/Chempy/Chempy/cem_function.py\", line 507, in posterior_function_predictions\n",
      "    abundance_list,elements_to_trace = cem_real2(a)\n",
      "  File \"/home/philcox/Chempy/Chempy/cem_function.py\", line 337, in cem_real2\n",
      "    a = shorten_sfr(a)\n",
      "  File \"/home/philcox/Chempy/Chempy/cem_function.py\", line 130, in shorten_sfr\n",
      "    assert fraction_of_mean_sfr > 0.05, ('The total SFR of the last age bin is below 5% of the mean SFR', 'stellar identifier = ', a.stellar_identifier, 'star time = ', star_time, 'model time = ', time_model )\n",
      "AssertionError: ('The total SFR of the last age bin is below 5% of the mean SFR', 'stellar identifier = ', 'Proto-sun', 'star time = ', 8.9400000000000013, 'model time = ', 9.0)\n"
     ]
    },
    {
     "name": "stdout",
     "output_type": "stream",
     "text": [
      "7.63086889597 4.7488767447\n",
      "calculation so far took 119.1653311252594  seconds\n",
      "step  180 of  1000\n"
     ]
    },
    {
     "name": "stderr",
     "output_type": "stream",
     "text": [
      "Traceback (most recent call last):\n",
      "  File \"/home/philcox/Chempy/Chempy/cem_function.py\", line 882, in posterior_function_many_stars\n",
      "    posterior, blobs = posterior_function_many_stars_real(changing_parameter,error_list,elements)\n",
      "  File \"/home/philcox/Chempy/Chempy/cem_function.py\", line 920, in posterior_function_many_stars_real\n",
      "    abundance_list,element_list = posterior_function_returning_predictions(args)\n",
      "  File \"/home/philcox/Chempy/Chempy/cem_function.py\", line 482, in posterior_function_returning_predictions\n",
      "    posterior, abundance_list, element_list = posterior_function_predictions(changing_parameter,a)\n",
      "  File \"/home/philcox/Chempy/Chempy/cem_function.py\", line 492, in posterior_function_predictions\n",
      "    a = extract_parameters_and_priors(changing_parameter, a)\n",
      "  File \"/home/philcox/Chempy/Chempy/cem_function.py\", line 719, in extract_parameters_and_priors\n",
      "    assert False, '%s upper border is violated' %(name)\n",
      "AssertionError: log10_sfr_scale upper border is violated\n"
     ]
    },
    {
     "name": "stdout",
     "output_type": "stream",
     "text": [
      "7.63086889597 4.79363279312\n",
      "calculation so far took 119.96208190917969  seconds\n",
      "step  181 of  1000\n"
     ]
    },
    {
     "name": "stderr",
     "output_type": "stream",
     "text": [
      "Traceback (most recent call last):\n",
      "  File \"/home/philcox/Chempy/Chempy/cem_function.py\", line 882, in posterior_function_many_stars\n",
      "    posterior, blobs = posterior_function_many_stars_real(changing_parameter,error_list,elements)\n",
      "  File \"/home/philcox/Chempy/Chempy/cem_function.py\", line 920, in posterior_function_many_stars_real\n",
      "    abundance_list,element_list = posterior_function_returning_predictions(args)\n",
      "  File \"/home/philcox/Chempy/Chempy/cem_function.py\", line 482, in posterior_function_returning_predictions\n",
      "    posterior, abundance_list, element_list = posterior_function_predictions(changing_parameter,a)\n",
      "  File \"/home/philcox/Chempy/Chempy/cem_function.py\", line 492, in posterior_function_predictions\n",
      "    a = extract_parameters_and_priors(changing_parameter, a)\n",
      "  File \"/home/philcox/Chempy/Chempy/cem_function.py\", line 719, in extract_parameters_and_priors\n",
      "    assert False, '%s upper border is violated' %(name)\n",
      "AssertionError: log10_sfr_scale upper border is violated\n"
     ]
    },
    {
     "name": "stdout",
     "output_type": "stream",
     "text": [
      "7.63086889597 4.82991333994\n",
      "calculation so far took 120.61118221282959  seconds\n",
      "step  182 of  1000\n",
      "7.63086889597 4.8179721011\n",
      "calculation so far took 121.2293643951416  seconds\n",
      "step  183 of  1000\n",
      "7.63086889597 4.86618114035\n",
      "calculation so far took 121.85561037063599  seconds\n",
      "step  184 of  1000\n",
      "7.63086889597 5.13996104971\n",
      "calculation so far took 122.47526001930237  seconds\n",
      "step  185 of  1000\n",
      "7.63086889597 5.11697829503\n",
      "calculation so far took 123.14395356178284  seconds\n",
      "step  186 of  1000\n"
     ]
    },
    {
     "name": "stderr",
     "output_type": "stream",
     "text": [
      "Traceback (most recent call last):\n",
      "  File \"/home/philcox/Chempy/Chempy/cem_function.py\", line 882, in posterior_function_many_stars\n",
      "    posterior, blobs = posterior_function_many_stars_real(changing_parameter,error_list,elements)\n",
      "  File \"/home/philcox/Chempy/Chempy/cem_function.py\", line 920, in posterior_function_many_stars_real\n",
      "    abundance_list,element_list = posterior_function_returning_predictions(args)\n",
      "  File \"/home/philcox/Chempy/Chempy/cem_function.py\", line 482, in posterior_function_returning_predictions\n",
      "    posterior, abundance_list, element_list = posterior_function_predictions(changing_parameter,a)\n",
      "  File \"/home/philcox/Chempy/Chempy/cem_function.py\", line 492, in posterior_function_predictions\n",
      "    a = extract_parameters_and_priors(changing_parameter, a)\n",
      "  File \"/home/philcox/Chempy/Chempy/cem_function.py\", line 719, in extract_parameters_and_priors\n",
      "    assert False, '%s upper border is violated' %(name)\n",
      "AssertionError: log10_sfr_scale upper border is violated\n",
      "Traceback (most recent call last):\n",
      "  File \"/home/philcox/Chempy/Chempy/cem_function.py\", line 882, in posterior_function_many_stars\n",
      "    posterior, blobs = posterior_function_many_stars_real(changing_parameter,error_list,elements)\n",
      "  File \"/home/philcox/Chempy/Chempy/cem_function.py\", line 920, in posterior_function_many_stars_real\n",
      "    abundance_list,element_list = posterior_function_returning_predictions(args)\n",
      "  File \"/home/philcox/Chempy/Chempy/cem_function.py\", line 482, in posterior_function_returning_predictions\n",
      "    posterior, abundance_list, element_list = posterior_function_predictions(changing_parameter,a)\n",
      "  File \"/home/philcox/Chempy/Chempy/cem_function.py\", line 507, in posterior_function_predictions\n",
      "    abundance_list,elements_to_trace = cem_real2(a)\n",
      "  File \"/home/philcox/Chempy/Chempy/cem_function.py\", line 337, in cem_real2\n",
      "    a = shorten_sfr(a)\n",
      "  File \"/home/philcox/Chempy/Chempy/cem_function.py\", line 130, in shorten_sfr\n",
      "    assert fraction_of_mean_sfr > 0.05, ('The total SFR of the last age bin is below 5% of the mean SFR', 'stellar identifier = ', a.stellar_identifier, 'star time = ', star_time, 'model time = ', time_model )\n",
      "AssertionError: ('The total SFR of the last age bin is below 5% of the mean SFR', 'stellar identifier = ', 'Proto-sun', 'star time = ', 8.9400000000000013, 'model time = ', 9.0)\n"
     ]
    },
    {
     "name": "stdout",
     "output_type": "stream",
     "text": [
      "7.63086889597 4.97688364357\n",
      "calculation so far took 123.80186223983765  seconds\n",
      "step  187 of  1000\n",
      "7.63086889597 5.04851021682\n",
      "calculation so far took 124.518723487854  seconds\n",
      "step  188 of  1000\n",
      "7.63086889597 4.93328232262\n",
      "calculation so far took 125.14413857460022  seconds\n",
      "step  189 of  1000\n",
      "7.63086889597 4.81549982228\n",
      "calculation so far took 125.77391648292542  seconds\n",
      "step  190 of  1000\n"
     ]
    },
    {
     "name": "stderr",
     "output_type": "stream",
     "text": [
      "Traceback (most recent call last):\n",
      "  File \"/home/philcox/Chempy/Chempy/cem_function.py\", line 882, in posterior_function_many_stars\n",
      "    posterior, blobs = posterior_function_many_stars_real(changing_parameter,error_list,elements)\n",
      "  File \"/home/philcox/Chempy/Chempy/cem_function.py\", line 920, in posterior_function_many_stars_real\n",
      "    abundance_list,element_list = posterior_function_returning_predictions(args)\n",
      "  File \"/home/philcox/Chempy/Chempy/cem_function.py\", line 482, in posterior_function_returning_predictions\n",
      "    posterior, abundance_list, element_list = posterior_function_predictions(changing_parameter,a)\n",
      "  File \"/home/philcox/Chempy/Chempy/cem_function.py\", line 492, in posterior_function_predictions\n",
      "    a = extract_parameters_and_priors(changing_parameter, a)\n",
      "  File \"/home/philcox/Chempy/Chempy/cem_function.py\", line 719, in extract_parameters_and_priors\n",
      "    assert False, '%s upper border is violated' %(name)\n",
      "AssertionError: log10_sfr_scale upper border is violated\n"
     ]
    },
    {
     "name": "stdout",
     "output_type": "stream",
     "text": [
      "7.63086889597 4.6407574529\n",
      "calculation so far took 126.42544794082642  seconds\n",
      "step  191 of  1000\n"
     ]
    },
    {
     "name": "stderr",
     "output_type": "stream",
     "text": [
      "Traceback (most recent call last):\n",
      "  File \"/home/philcox/Chempy/Chempy/cem_function.py\", line 882, in posterior_function_many_stars\n",
      "    posterior, blobs = posterior_function_many_stars_real(changing_parameter,error_list,elements)\n",
      "  File \"/home/philcox/Chempy/Chempy/cem_function.py\", line 920, in posterior_function_many_stars_real\n",
      "    abundance_list,element_list = posterior_function_returning_predictions(args)\n",
      "  File \"/home/philcox/Chempy/Chempy/cem_function.py\", line 482, in posterior_function_returning_predictions\n",
      "    posterior, abundance_list, element_list = posterior_function_predictions(changing_parameter,a)\n",
      "  File \"/home/philcox/Chempy/Chempy/cem_function.py\", line 507, in posterior_function_predictions\n",
      "    abundance_list,elements_to_trace = cem_real2(a)\n",
      "  File \"/home/philcox/Chempy/Chempy/cem_function.py\", line 337, in cem_real2\n",
      "    a = shorten_sfr(a)\n",
      "  File \"/home/philcox/Chempy/Chempy/cem_function.py\", line 130, in shorten_sfr\n",
      "    assert fraction_of_mean_sfr > 0.05, ('The total SFR of the last age bin is below 5% of the mean SFR', 'stellar identifier = ', a.stellar_identifier, 'star time = ', star_time, 'model time = ', time_model )\n",
      "AssertionError: ('The total SFR of the last age bin is below 5% of the mean SFR', 'stellar identifier = ', 'Proto-sun', 'star time = ', 8.9400000000000013, 'model time = ', 9.0)\n"
     ]
    },
    {
     "name": "stdout",
     "output_type": "stream",
     "text": [
      "7.63086889597 4.62017144341\n",
      "calculation so far took 127.05128908157349  seconds\n",
      "step  192 of  1000\n"
     ]
    },
    {
     "name": "stderr",
     "output_type": "stream",
     "text": [
      "Traceback (most recent call last):\n",
      "  File \"/home/philcox/Chempy/Chempy/cem_function.py\", line 882, in posterior_function_many_stars\n",
      "    posterior, blobs = posterior_function_many_stars_real(changing_parameter,error_list,elements)\n",
      "  File \"/home/philcox/Chempy/Chempy/cem_function.py\", line 920, in posterior_function_many_stars_real\n",
      "    abundance_list,element_list = posterior_function_returning_predictions(args)\n",
      "  File \"/home/philcox/Chempy/Chempy/cem_function.py\", line 482, in posterior_function_returning_predictions\n",
      "    posterior, abundance_list, element_list = posterior_function_predictions(changing_parameter,a)\n",
      "  File \"/home/philcox/Chempy/Chempy/cem_function.py\", line 492, in posterior_function_predictions\n",
      "    a = extract_parameters_and_priors(changing_parameter, a)\n",
      "  File \"/home/philcox/Chempy/Chempy/cem_function.py\", line 719, in extract_parameters_and_priors\n",
      "    assert False, '%s upper border is violated' %(name)\n",
      "AssertionError: log10_sfr_scale upper border is violated\n"
     ]
    },
    {
     "name": "stdout",
     "output_type": "stream",
     "text": [
      "7.63086889597 4.84018098394\n",
      "calculation so far took 127.7553198337555  seconds\n",
      "step  193 of  1000\n"
     ]
    },
    {
     "name": "stderr",
     "output_type": "stream",
     "text": [
      "Traceback (most recent call last):\n",
      "  File \"/home/philcox/Chempy/Chempy/cem_function.py\", line 882, in posterior_function_many_stars\n",
      "    posterior, blobs = posterior_function_many_stars_real(changing_parameter,error_list,elements)\n",
      "  File \"/home/philcox/Chempy/Chempy/cem_function.py\", line 920, in posterior_function_many_stars_real\n",
      "    abundance_list,element_list = posterior_function_returning_predictions(args)\n",
      "  File \"/home/philcox/Chempy/Chempy/cem_function.py\", line 482, in posterior_function_returning_predictions\n",
      "    posterior, abundance_list, element_list = posterior_function_predictions(changing_parameter,a)\n",
      "  File \"/home/philcox/Chempy/Chempy/cem_function.py\", line 492, in posterior_function_predictions\n",
      "    a = extract_parameters_and_priors(changing_parameter, a)\n",
      "  File \"/home/philcox/Chempy/Chempy/cem_function.py\", line 719, in extract_parameters_and_priors\n",
      "    assert False, '%s upper border is violated' %(name)\n",
      "AssertionError: log10_sfr_scale upper border is violated\n"
     ]
    },
    {
     "name": "stdout",
     "output_type": "stream",
     "text": [
      "7.63086889597 4.76771470127\n",
      "calculation so far took 128.40400958061218  seconds\n",
      "step  194 of  1000\n"
     ]
    },
    {
     "name": "stderr",
     "output_type": "stream",
     "text": [
      "Traceback (most recent call last):\n",
      "  File \"/home/philcox/Chempy/Chempy/cem_function.py\", line 882, in posterior_function_many_stars\n",
      "    posterior, blobs = posterior_function_many_stars_real(changing_parameter,error_list,elements)\n",
      "  File \"/home/philcox/Chempy/Chempy/cem_function.py\", line 920, in posterior_function_many_stars_real\n",
      "    abundance_list,element_list = posterior_function_returning_predictions(args)\n",
      "  File \"/home/philcox/Chempy/Chempy/cem_function.py\", line 482, in posterior_function_returning_predictions\n",
      "    posterior, abundance_list, element_list = posterior_function_predictions(changing_parameter,a)\n",
      "  File \"/home/philcox/Chempy/Chempy/cem_function.py\", line 492, in posterior_function_predictions\n",
      "    a = extract_parameters_and_priors(changing_parameter, a)\n",
      "  File \"/home/philcox/Chempy/Chempy/cem_function.py\", line 719, in extract_parameters_and_priors\n",
      "    assert False, '%s upper border is violated' %(name)\n",
      "AssertionError: log10_sfr_scale upper border is violated\n",
      "Traceback (most recent call last):\n",
      "  File \"/home/philcox/Chempy/Chempy/cem_function.py\", line 882, in posterior_function_many_stars\n",
      "    posterior, blobs = posterior_function_many_stars_real(changing_parameter,error_list,elements)\n",
      "  File \"/home/philcox/Chempy/Chempy/cem_function.py\", line 920, in posterior_function_many_stars_real\n",
      "    abundance_list,element_list = posterior_function_returning_predictions(args)\n",
      "  File \"/home/philcox/Chempy/Chempy/cem_function.py\", line 482, in posterior_function_returning_predictions\n",
      "    posterior, abundance_list, element_list = posterior_function_predictions(changing_parameter,a)\n",
      "  File \"/home/philcox/Chempy/Chempy/cem_function.py\", line 507, in posterior_function_predictions\n",
      "    abundance_list,elements_to_trace = cem_real2(a)\n",
      "  File \"/home/philcox/Chempy/Chempy/cem_function.py\", line 337, in cem_real2\n",
      "    a = shorten_sfr(a)\n",
      "  File \"/home/philcox/Chempy/Chempy/cem_function.py\", line 130, in shorten_sfr\n",
      "    assert fraction_of_mean_sfr > 0.05, ('The total SFR of the last age bin is below 5% of the mean SFR', 'stellar identifier = ', a.stellar_identifier, 'star time = ', star_time, 'model time = ', time_model )\n",
      "AssertionError: ('The total SFR of the last age bin is below 5% of the mean SFR', 'stellar identifier = ', 'Proto-sun', 'star time = ', 8.9400000000000013, 'model time = ', 9.0)\n"
     ]
    },
    {
     "name": "stdout",
     "output_type": "stream",
     "text": [
      "7.63086889597 4.72710754126\n",
      "calculation so far took 129.04801845550537  seconds\n",
      "step  195 of  1000\n"
     ]
    },
    {
     "name": "stderr",
     "output_type": "stream",
     "text": [
      "Traceback (most recent call last):\n",
      "  File \"/home/philcox/Chempy/Chempy/cem_function.py\", line 882, in posterior_function_many_stars\n",
      "    posterior, blobs = posterior_function_many_stars_real(changing_parameter,error_list,elements)\n",
      "  File \"/home/philcox/Chempy/Chempy/cem_function.py\", line 920, in posterior_function_many_stars_real\n",
      "    abundance_list,element_list = posterior_function_returning_predictions(args)\n",
      "  File \"/home/philcox/Chempy/Chempy/cem_function.py\", line 482, in posterior_function_returning_predictions\n",
      "    posterior, abundance_list, element_list = posterior_function_predictions(changing_parameter,a)\n",
      "  File \"/home/philcox/Chempy/Chempy/cem_function.py\", line 507, in posterior_function_predictions\n",
      "    abundance_list,elements_to_trace = cem_real2(a)\n",
      "  File \"/home/philcox/Chempy/Chempy/cem_function.py\", line 337, in cem_real2\n",
      "    a = shorten_sfr(a)\n",
      "  File \"/home/philcox/Chempy/Chempy/cem_function.py\", line 130, in shorten_sfr\n",
      "    assert fraction_of_mean_sfr > 0.05, ('The total SFR of the last age bin is below 5% of the mean SFR', 'stellar identifier = ', a.stellar_identifier, 'star time = ', star_time, 'model time = ', time_model )\n",
      "AssertionError: ('The total SFR of the last age bin is below 5% of the mean SFR', 'stellar identifier = ', 'Proto-sun', 'star time = ', 8.9400000000000013, 'model time = ', 9.0)\n",
      "Traceback (most recent call last):\n",
      "  File \"/home/philcox/Chempy/Chempy/cem_function.py\", line 882, in posterior_function_many_stars\n",
      "    posterior, blobs = posterior_function_many_stars_real(changing_parameter,error_list,elements)\n",
      "  File \"/home/philcox/Chempy/Chempy/cem_function.py\", line 920, in posterior_function_many_stars_real\n",
      "    abundance_list,element_list = posterior_function_returning_predictions(args)\n",
      "  File \"/home/philcox/Chempy/Chempy/cem_function.py\", line 482, in posterior_function_returning_predictions\n",
      "    posterior, abundance_list, element_list = posterior_function_predictions(changing_parameter,a)\n",
      "  File \"/home/philcox/Chempy/Chempy/cem_function.py\", line 492, in posterior_function_predictions\n",
      "    a = extract_parameters_and_priors(changing_parameter, a)\n",
      "  File \"/home/philcox/Chempy/Chempy/cem_function.py\", line 719, in extract_parameters_and_priors\n",
      "    assert False, '%s upper border is violated' %(name)\n",
      "AssertionError: outflow_feedback_fraction upper border is violated\n",
      "Traceback (most recent call last):\n",
      "  File \"/home/philcox/Chempy/Chempy/cem_function.py\", line 882, in posterior_function_many_stars\n",
      "    posterior, blobs = posterior_function_many_stars_real(changing_parameter,error_list,elements)\n",
      "  File \"/home/philcox/Chempy/Chempy/cem_function.py\", line 920, in posterior_function_many_stars_real\n",
      "    abundance_list,element_list = posterior_function_returning_predictions(args)\n",
      "  File \"/home/philcox/Chempy/Chempy/cem_function.py\", line 482, in posterior_function_returning_predictions\n",
      "    posterior, abundance_list, element_list = posterior_function_predictions(changing_parameter,a)\n",
      "  File \"/home/philcox/Chempy/Chempy/cem_function.py\", line 492, in posterior_function_predictions\n",
      "    a = extract_parameters_and_priors(changing_parameter, a)\n",
      "  File \"/home/philcox/Chempy/Chempy/cem_function.py\", line 719, in extract_parameters_and_priors\n",
      "    assert False, '%s upper border is violated' %(name)\n",
      "AssertionError: log10_sfr_scale upper border is violated\n"
     ]
    },
    {
     "name": "stdout",
     "output_type": "stream",
     "text": [
      "7.63086889597 4.80354653302\n",
      "calculation so far took 129.74450206756592  seconds\n",
      "step  196 of  1000\n"
     ]
    },
    {
     "name": "stderr",
     "output_type": "stream",
     "text": [
      "Traceback (most recent call last):\n",
      "  File \"/home/philcox/Chempy/Chempy/cem_function.py\", line 882, in posterior_function_many_stars\n",
      "    posterior, blobs = posterior_function_many_stars_real(changing_parameter,error_list,elements)\n",
      "  File \"/home/philcox/Chempy/Chempy/cem_function.py\", line 920, in posterior_function_many_stars_real\n",
      "    abundance_list,element_list = posterior_function_returning_predictions(args)\n",
      "  File \"/home/philcox/Chempy/Chempy/cem_function.py\", line 482, in posterior_function_returning_predictions\n",
      "    posterior, abundance_list, element_list = posterior_function_predictions(changing_parameter,a)\n",
      "  File \"/home/philcox/Chempy/Chempy/cem_function.py\", line 492, in posterior_function_predictions\n",
      "    a = extract_parameters_and_priors(changing_parameter, a)\n",
      "  File \"/home/philcox/Chempy/Chempy/cem_function.py\", line 719, in extract_parameters_and_priors\n",
      "    assert False, '%s upper border is violated' %(name)\n",
      "AssertionError: log10_sfr_scale upper border is violated\n",
      "Traceback (most recent call last):\n",
      "  File \"/home/philcox/Chempy/Chempy/cem_function.py\", line 882, in posterior_function_many_stars\n",
      "    posterior, blobs = posterior_function_many_stars_real(changing_parameter,error_list,elements)\n",
      "  File \"/home/philcox/Chempy/Chempy/cem_function.py\", line 920, in posterior_function_many_stars_real\n",
      "    abundance_list,element_list = posterior_function_returning_predictions(args)\n",
      "  File \"/home/philcox/Chempy/Chempy/cem_function.py\", line 482, in posterior_function_returning_predictions\n",
      "    posterior, abundance_list, element_list = posterior_function_predictions(changing_parameter,a)\n",
      "  File \"/home/philcox/Chempy/Chempy/cem_function.py\", line 492, in posterior_function_predictions\n",
      "    a = extract_parameters_and_priors(changing_parameter, a)\n",
      "  File \"/home/philcox/Chempy/Chempy/cem_function.py\", line 719, in extract_parameters_and_priors\n",
      "    assert False, '%s upper border is violated' %(name)\n",
      "AssertionError: log10_sfr_scale upper border is violated\n"
     ]
    },
    {
     "name": "stdout",
     "output_type": "stream",
     "text": [
      "7.63086889597 4.69427357452\n",
      "calculation so far took 130.4642539024353  seconds\n",
      "step  197 of  1000\n",
      "7.63086889597 4.82817206254\n",
      "calculation so far took 131.08912444114685  seconds\n",
      "step  198 of  1000\n"
     ]
    },
    {
     "name": "stderr",
     "output_type": "stream",
     "text": [
      "Traceback (most recent call last):\n",
      "  File \"/home/philcox/Chempy/Chempy/cem_function.py\", line 882, in posterior_function_many_stars\n",
      "    posterior, blobs = posterior_function_many_stars_real(changing_parameter,error_list,elements)\n",
      "  File \"/home/philcox/Chempy/Chempy/cem_function.py\", line 920, in posterior_function_many_stars_real\n",
      "    abundance_list,element_list = posterior_function_returning_predictions(args)\n",
      "  File \"/home/philcox/Chempy/Chempy/cem_function.py\", line 482, in posterior_function_returning_predictions\n",
      "    posterior, abundance_list, element_list = posterior_function_predictions(changing_parameter,a)\n",
      "  File \"/home/philcox/Chempy/Chempy/cem_function.py\", line 492, in posterior_function_predictions\n",
      "    a = extract_parameters_and_priors(changing_parameter, a)\n",
      "  File \"/home/philcox/Chempy/Chempy/cem_function.py\", line 719, in extract_parameters_and_priors\n",
      "    assert False, '%s upper border is violated' %(name)\n",
      "AssertionError: log10_sfr_scale upper border is violated\n"
     ]
    },
    {
     "name": "stdout",
     "output_type": "stream",
     "text": [
      "7.63086889597 4.77865017482\n",
      "calculation so far took 131.7304744720459  seconds\n",
      "step  199 of  1000\n",
      "7.63086889597 5.01325959726\n",
      "calculation so far took 132.36864519119263  seconds\n",
      "step  200 of  1000\n",
      "7.63086889597 5.00078424551\n",
      "calculation so far took 132.99151253700256  seconds\n",
      "step  201 of  1000\n"
     ]
    },
    {
     "name": "stderr",
     "output_type": "stream",
     "text": [
      "Traceback (most recent call last):\n",
      "  File \"/home/philcox/Chempy/Chempy/cem_function.py\", line 882, in posterior_function_many_stars\n",
      "    posterior, blobs = posterior_function_many_stars_real(changing_parameter,error_list,elements)\n",
      "  File \"/home/philcox/Chempy/Chempy/cem_function.py\", line 920, in posterior_function_many_stars_real\n",
      "    abundance_list,element_list = posterior_function_returning_predictions(args)\n",
      "  File \"/home/philcox/Chempy/Chempy/cem_function.py\", line 482, in posterior_function_returning_predictions\n",
      "    posterior, abundance_list, element_list = posterior_function_predictions(changing_parameter,a)\n",
      "  File \"/home/philcox/Chempy/Chempy/cem_function.py\", line 507, in posterior_function_predictions\n",
      "    abundance_list,elements_to_trace = cem_real2(a)\n",
      "  File \"/home/philcox/Chempy/Chempy/cem_function.py\", line 337, in cem_real2\n",
      "    a = shorten_sfr(a)\n",
      "  File \"/home/philcox/Chempy/Chempy/cem_function.py\", line 130, in shorten_sfr\n",
      "    assert fraction_of_mean_sfr > 0.05, ('The total SFR of the last age bin is below 5% of the mean SFR', 'stellar identifier = ', a.stellar_identifier, 'star time = ', star_time, 'model time = ', time_model )\n",
      "AssertionError: ('The total SFR of the last age bin is below 5% of the mean SFR', 'stellar identifier = ', 'Proto-sun', 'star time = ', 8.9400000000000013, 'model time = ', 9.0)\n"
     ]
    },
    {
     "name": "stdout",
     "output_type": "stream",
     "text": [
      "7.63086889597 4.82936600536\n",
      "calculation so far took 133.64071989059448  seconds\n",
      "step  202 of  1000\n"
     ]
    },
    {
     "name": "stderr",
     "output_type": "stream",
     "text": [
      "Traceback (most recent call last):\n",
      "  File \"/home/philcox/Chempy/Chempy/cem_function.py\", line 882, in posterior_function_many_stars\n",
      "    posterior, blobs = posterior_function_many_stars_real(changing_parameter,error_list,elements)\n",
      "  File \"/home/philcox/Chempy/Chempy/cem_function.py\", line 920, in posterior_function_many_stars_real\n",
      "    abundance_list,element_list = posterior_function_returning_predictions(args)\n",
      "  File \"/home/philcox/Chempy/Chempy/cem_function.py\", line 482, in posterior_function_returning_predictions\n",
      "    posterior, abundance_list, element_list = posterior_function_predictions(changing_parameter,a)\n",
      "  File \"/home/philcox/Chempy/Chempy/cem_function.py\", line 507, in posterior_function_predictions\n",
      "    abundance_list,elements_to_trace = cem_real2(a)\n",
      "  File \"/home/philcox/Chempy/Chempy/cem_function.py\", line 337, in cem_real2\n",
      "    a = shorten_sfr(a)\n",
      "  File \"/home/philcox/Chempy/Chempy/cem_function.py\", line 130, in shorten_sfr\n",
      "    assert fraction_of_mean_sfr > 0.05, ('The total SFR of the last age bin is below 5% of the mean SFR', 'stellar identifier = ', a.stellar_identifier, 'star time = ', star_time, 'model time = ', time_model )\n",
      "AssertionError: ('The total SFR of the last age bin is below 5% of the mean SFR', 'stellar identifier = ', 'Proto-sun', 'star time = ', 8.9400000000000013, 'model time = ', 9.0)\n"
     ]
    },
    {
     "name": "stdout",
     "output_type": "stream",
     "text": [
      "7.63086889597 4.72677866575\n",
      "calculation so far took 134.28474760055542  seconds\n",
      "step  203 of  1000\n",
      "7.63086889597 4.68579278799\n",
      "calculation so far took 134.9122552871704  seconds\n",
      "step  204 of  1000\n"
     ]
    },
    {
     "name": "stderr",
     "output_type": "stream",
     "text": [
      "Traceback (most recent call last):\n",
      "  File \"/home/philcox/Chempy/Chempy/cem_function.py\", line 882, in posterior_function_many_stars\n",
      "    posterior, blobs = posterior_function_many_stars_real(changing_parameter,error_list,elements)\n",
      "  File \"/home/philcox/Chempy/Chempy/cem_function.py\", line 920, in posterior_function_many_stars_real\n",
      "    abundance_list,element_list = posterior_function_returning_predictions(args)\n",
      "  File \"/home/philcox/Chempy/Chempy/cem_function.py\", line 482, in posterior_function_returning_predictions\n",
      "    posterior, abundance_list, element_list = posterior_function_predictions(changing_parameter,a)\n",
      "  File \"/home/philcox/Chempy/Chempy/cem_function.py\", line 492, in posterior_function_predictions\n",
      "    a = extract_parameters_and_priors(changing_parameter, a)\n",
      "  File \"/home/philcox/Chempy/Chempy/cem_function.py\", line 719, in extract_parameters_and_priors\n",
      "    assert False, '%s upper border is violated' %(name)\n",
      "AssertionError: outflow_feedback_fraction upper border is violated\n"
     ]
    },
    {
     "name": "stdout",
     "output_type": "stream",
     "text": [
      "7.63086889597 4.94702527956\n",
      "posterior -1, -100, -200 4.94702527956 5.04181754115 7.61123361007\n",
      "posterior 0, 100, 200 7.63086889597 5.10023997855 5.00078424551\n",
      "calculation so far took 135.54666566848755  seconds\n",
      "step  205 of  1000\n"
     ]
    },
    {
     "name": "stderr",
     "output_type": "stream",
     "text": [
      "Traceback (most recent call last):\n",
      "  File \"/home/philcox/Chempy/Chempy/cem_function.py\", line 882, in posterior_function_many_stars\n",
      "    posterior, blobs = posterior_function_many_stars_real(changing_parameter,error_list,elements)\n",
      "  File \"/home/philcox/Chempy/Chempy/cem_function.py\", line 920, in posterior_function_many_stars_real\n",
      "    abundance_list,element_list = posterior_function_returning_predictions(args)\n",
      "  File \"/home/philcox/Chempy/Chempy/cem_function.py\", line 482, in posterior_function_returning_predictions\n",
      "    posterior, abundance_list, element_list = posterior_function_predictions(changing_parameter,a)\n",
      "  File \"/home/philcox/Chempy/Chempy/cem_function.py\", line 507, in posterior_function_predictions\n",
      "    abundance_list,elements_to_trace = cem_real2(a)\n",
      "  File \"/home/philcox/Chempy/Chempy/cem_function.py\", line 337, in cem_real2\n",
      "    a = shorten_sfr(a)\n",
      "  File \"/home/philcox/Chempy/Chempy/cem_function.py\", line 130, in shorten_sfr\n",
      "    assert fraction_of_mean_sfr > 0.05, ('The total SFR of the last age bin is below 5% of the mean SFR', 'stellar identifier = ', a.stellar_identifier, 'star time = ', star_time, 'model time = ', time_model )\n",
      "AssertionError: ('The total SFR of the last age bin is below 5% of the mean SFR', 'stellar identifier = ', 'Proto-sun', 'star time = ', 8.9400000000000013, 'model time = ', 9.0)\n",
      "Traceback (most recent call last):\n",
      "  File \"/home/philcox/Chempy/Chempy/cem_function.py\", line 882, in posterior_function_many_stars\n",
      "    posterior, blobs = posterior_function_many_stars_real(changing_parameter,error_list,elements)\n",
      "  File \"/home/philcox/Chempy/Chempy/cem_function.py\", line 920, in posterior_function_many_stars_real\n",
      "    abundance_list,element_list = posterior_function_returning_predictions(args)\n",
      "  File \"/home/philcox/Chempy/Chempy/cem_function.py\", line 482, in posterior_function_returning_predictions\n",
      "    posterior, abundance_list, element_list = posterior_function_predictions(changing_parameter,a)\n",
      "  File \"/home/philcox/Chempy/Chempy/cem_function.py\", line 492, in posterior_function_predictions\n",
      "    a = extract_parameters_and_priors(changing_parameter, a)\n",
      "  File \"/home/philcox/Chempy/Chempy/cem_function.py\", line 719, in extract_parameters_and_priors\n",
      "    assert False, '%s upper border is violated' %(name)\n",
      "AssertionError: outflow_feedback_fraction upper border is violated\n"
     ]
    },
    {
     "name": "stdout",
     "output_type": "stream",
     "text": [
      "7.63086889597 4.86894720305\n",
      "posterior -1, -100, -200 4.86894720305 4.92488676212 7.594466943\n",
      "posterior 0, 100, 200 7.63086889597 5.10023997855 5.00078424551\n",
      "calculation so far took 136.25396299362183  seconds\n",
      "step  206 of  1000\n",
      "7.63086889597 5.12470534716\n",
      "posterior -1, -100, -200 5.12470534716 4.74944063364 7.55200213132\n",
      "posterior 0, 100, 200 7.63086889597 5.10023997855 5.00078424551\n",
      "calculation so far took 136.88403987884521  seconds\n",
      "step  207 of  1000\n",
      "7.63086889597 5.15448884145\n",
      "posterior -1, -100, -200 5.15448884145 4.71009935688 7.45569099375\n",
      "posterior 0, 100, 200 7.63086889597 5.10023997855 5.00078424551\n",
      "calculation so far took 137.5097255706787  seconds\n",
      "step  208 of  1000\n",
      "7.63086889597 5.44331228763\n",
      "posterior -1, -100, -200 5.44331228763 4.74928738336 7.16475339334\n",
      "posterior 0, 100, 200 7.63086889597 5.10023997855 5.00078424551\n",
      "calculation so far took 138.1356906890869  seconds\n",
      "step  209 of  1000\n",
      "7.63086889597 5.09167790759\n",
      "posterior -1, -100, -200 5.09167790759 4.94861792038 6.93215462558\n",
      "posterior 0, 100, 200 7.63086889597 5.10023997855 5.00078424551\n",
      "calculation so far took 138.75876235961914  seconds\n",
      "step  210 of  1000\n",
      "7.63086889597 4.89294306921\n",
      "posterior -1, -100, -200 4.89294306921 5.09606935546 6.75768398744\n",
      "posterior 0, 100, 200 7.63086889597 5.10023997855 5.00078424551\n",
      "calculation so far took 139.38958144187927  seconds\n",
      "step  211 of  1000\n",
      "7.63086889597 4.92068503813\n",
      "posterior -1, -100, -200 4.92068503813 5.09928604194 6.31542080789\n",
      "posterior 0, 100, 200 7.63086889597 5.10023997855 5.00078424551\n",
      "calculation so far took 140.01049947738647  seconds\n",
      "step  212 of  1000\n",
      "7.63086889597 4.68465717729\n",
      "posterior -1, -100, -200 4.68465717729 5.06641266315 6.01927411276\n",
      "posterior 0, 100, 200 7.63086889597 5.10023997855 5.00078424551\n",
      "calculation so far took 140.63688898086548  seconds\n",
      "step  213 of  1000\n"
     ]
    },
    {
     "name": "stderr",
     "output_type": "stream",
     "text": [
      "Traceback (most recent call last):\n",
      "  File \"/home/philcox/Chempy/Chempy/cem_function.py\", line 882, in posterior_function_many_stars\n",
      "    posterior, blobs = posterior_function_many_stars_real(changing_parameter,error_list,elements)\n",
      "  File \"/home/philcox/Chempy/Chempy/cem_function.py\", line 920, in posterior_function_many_stars_real\n",
      "    abundance_list,element_list = posterior_function_returning_predictions(args)\n",
      "  File \"/home/philcox/Chempy/Chempy/cem_function.py\", line 482, in posterior_function_returning_predictions\n",
      "    posterior, abundance_list, element_list = posterior_function_predictions(changing_parameter,a)\n",
      "  File \"/home/philcox/Chempy/Chempy/cem_function.py\", line 492, in posterior_function_predictions\n",
      "    a = extract_parameters_and_priors(changing_parameter, a)\n",
      "  File \"/home/philcox/Chempy/Chempy/cem_function.py\", line 717, in extract_parameters_and_priors\n",
      "    assert False, '%s lower border is violated' %(name)\n",
      "AssertionError: outflow_feedback_fraction lower border is violated\n"
     ]
    },
    {
     "name": "stdout",
     "output_type": "stream",
     "text": [
      "7.63086889597 4.86609999641\n",
      "posterior -1, -100, -200 4.86609999641 5.12376495571 5.91280758997\n",
      "posterior 0, 100, 200 7.63086889597 5.10023997855 5.00078424551\n",
      "calculation so far took 141.27560949325562  seconds\n",
      "step  214 of  1000\n",
      "7.63086889597 4.77214121017\n",
      "posterior -1, -100, -200 4.77214121017 4.99502490177 5.47009632367\n",
      "posterior 0, 100, 200 7.63086889597 5.10023997855 5.00078424551\n",
      "calculation so far took 141.89892673492432  seconds\n",
      "step  215 of  1000\n",
      "7.63086889597 4.77831133627\n",
      "posterior -1, -100, -200 4.77831133627 4.87673768128 5.67713958776\n",
      "posterior 0, 100, 200 7.63086889597 5.10023997855 5.00078424551\n",
      "calculation so far took 142.52281093597412  seconds\n",
      "step  216 of  1000\n",
      "7.63086889597 4.714996151\n",
      "posterior -1, -100, -200 4.714996151 5.18342117515 5.66400134769\n",
      "posterior 0, 100, 200 7.63086889597 5.10023997855 5.00078424551\n",
      "calculation so far took 143.17670035362244  seconds\n",
      "step  217 of  1000\n",
      "7.63086889597 4.61710327682\n",
      "posterior -1, -100, -200 4.61710327682 4.89101427468 5.64396764147\n",
      "posterior 0, 100, 200 7.63086889597 5.10023997855 5.00078424551\n",
      "calculation so far took 143.80384063720703  seconds\n",
      "step  218 of  1000\n"
     ]
    },
    {
     "name": "stderr",
     "output_type": "stream",
     "text": [
      "Traceback (most recent call last):\n",
      "  File \"/home/philcox/Chempy/Chempy/cem_function.py\", line 882, in posterior_function_many_stars\n",
      "    posterior, blobs = posterior_function_many_stars_real(changing_parameter,error_list,elements)\n",
      "  File \"/home/philcox/Chempy/Chempy/cem_function.py\", line 920, in posterior_function_many_stars_real\n",
      "    abundance_list,element_list = posterior_function_returning_predictions(args)\n",
      "  File \"/home/philcox/Chempy/Chempy/cem_function.py\", line 482, in posterior_function_returning_predictions\n",
      "    posterior, abundance_list, element_list = posterior_function_predictions(changing_parameter,a)\n",
      "  File \"/home/philcox/Chempy/Chempy/cem_function.py\", line 492, in posterior_function_predictions\n",
      "    a = extract_parameters_and_priors(changing_parameter, a)\n",
      "  File \"/home/philcox/Chempy/Chempy/cem_function.py\", line 719, in extract_parameters_and_priors\n",
      "    assert False, '%s upper border is violated' %(name)\n",
      "AssertionError: log10_sfr_scale upper border is violated\n"
     ]
    },
    {
     "name": "stdout",
     "output_type": "stream",
     "text": [
      "7.63086889597 4.52568457465\n",
      "posterior -1, -100, -200 4.52568457465 4.99176034199 5.2650859137\n",
      "posterior 0, 100, 200 7.63086889597 5.10023997855 5.00078424551\n",
      "calculation so far took 144.61461472511292  seconds\n",
      "step  219 of  1000\n"
     ]
    },
    {
     "name": "stderr",
     "output_type": "stream",
     "text": [
      "Traceback (most recent call last):\n",
      "  File \"/home/philcox/Chempy/Chempy/cem_function.py\", line 882, in posterior_function_many_stars\n",
      "    posterior, blobs = posterior_function_many_stars_real(changing_parameter,error_list,elements)\n",
      "  File \"/home/philcox/Chempy/Chempy/cem_function.py\", line 920, in posterior_function_many_stars_real\n",
      "    abundance_list,element_list = posterior_function_returning_predictions(args)\n",
      "  File \"/home/philcox/Chempy/Chempy/cem_function.py\", line 482, in posterior_function_returning_predictions\n",
      "    posterior, abundance_list, element_list = posterior_function_predictions(changing_parameter,a)\n",
      "  File \"/home/philcox/Chempy/Chempy/cem_function.py\", line 492, in posterior_function_predictions\n",
      "    a = extract_parameters_and_priors(changing_parameter, a)\n",
      "  File \"/home/philcox/Chempy/Chempy/cem_function.py\", line 719, in extract_parameters_and_priors\n",
      "    assert False, '%s upper border is violated' %(name)\n",
      "AssertionError: log10_sfr_scale upper border is violated\n"
     ]
    },
    {
     "name": "stdout",
     "output_type": "stream",
     "text": [
      "7.63086889597 4.87284648993\n",
      "posterior -1, -100, -200 4.87284648993 5.17359963242 5.22056473765\n",
      "posterior 0, 100, 200 7.63086889597 5.10023997855 5.00078424551\n",
      "calculation so far took 145.2708923816681  seconds\n",
      "step  220 of  1000\n"
     ]
    },
    {
     "name": "stderr",
     "output_type": "stream",
     "text": [
      "Traceback (most recent call last):\n",
      "  File \"/home/philcox/Chempy/Chempy/cem_function.py\", line 882, in posterior_function_many_stars\n",
      "    posterior, blobs = posterior_function_many_stars_real(changing_parameter,error_list,elements)\n",
      "  File \"/home/philcox/Chempy/Chempy/cem_function.py\", line 920, in posterior_function_many_stars_real\n",
      "    abundance_list,element_list = posterior_function_returning_predictions(args)\n",
      "  File \"/home/philcox/Chempy/Chempy/cem_function.py\", line 482, in posterior_function_returning_predictions\n",
      "    posterior, abundance_list, element_list = posterior_function_predictions(changing_parameter,a)\n",
      "  File \"/home/philcox/Chempy/Chempy/cem_function.py\", line 492, in posterior_function_predictions\n",
      "    a = extract_parameters_and_priors(changing_parameter, a)\n",
      "  File \"/home/philcox/Chempy/Chempy/cem_function.py\", line 719, in extract_parameters_and_priors\n",
      "    assert False, '%s upper border is violated' %(name)\n",
      "AssertionError: log10_sn1a_time_delay upper border is violated\n"
     ]
    },
    {
     "name": "stdout",
     "output_type": "stream",
     "text": [
      "7.63086889597 4.95283633886\n",
      "posterior -1, -100, -200 4.95283633886 5.01489417138 5.14262410666\n",
      "posterior 0, 100, 200 7.63086889597 5.10023997855 5.00078424551\n",
      "calculation so far took 145.94138836860657  seconds\n",
      "step  221 of  1000\n"
     ]
    },
    {
     "name": "stderr",
     "output_type": "stream",
     "text": [
      "Traceback (most recent call last):\n",
      "  File \"/home/philcox/Chempy/Chempy/cem_function.py\", line 882, in posterior_function_many_stars\n",
      "    posterior, blobs = posterior_function_many_stars_real(changing_parameter,error_list,elements)\n",
      "  File \"/home/philcox/Chempy/Chempy/cem_function.py\", line 920, in posterior_function_many_stars_real\n",
      "    abundance_list,element_list = posterior_function_returning_predictions(args)\n",
      "  File \"/home/philcox/Chempy/Chempy/cem_function.py\", line 482, in posterior_function_returning_predictions\n",
      "    posterior, abundance_list, element_list = posterior_function_predictions(changing_parameter,a)\n",
      "  File \"/home/philcox/Chempy/Chempy/cem_function.py\", line 507, in posterior_function_predictions\n",
      "    abundance_list,elements_to_trace = cem_real2(a)\n",
      "  File \"/home/philcox/Chempy/Chempy/cem_function.py\", line 337, in cem_real2\n",
      "    a = shorten_sfr(a)\n",
      "  File \"/home/philcox/Chempy/Chempy/cem_function.py\", line 130, in shorten_sfr\n",
      "    assert fraction_of_mean_sfr > 0.05, ('The total SFR of the last age bin is below 5% of the mean SFR', 'stellar identifier = ', a.stellar_identifier, 'star time = ', star_time, 'model time = ', time_model )\n",
      "AssertionError: ('The total SFR of the last age bin is below 5% of the mean SFR', 'stellar identifier = ', 'Proto-sun', 'star time = ', 8.9400000000000013, 'model time = ', 9.0)\n",
      "Traceback (most recent call last):\n",
      "  File \"/home/philcox/Chempy/Chempy/cem_function.py\", line 882, in posterior_function_many_stars\n",
      "    posterior, blobs = posterior_function_many_stars_real(changing_parameter,error_list,elements)\n",
      "  File \"/home/philcox/Chempy/Chempy/cem_function.py\", line 920, in posterior_function_many_stars_real\n",
      "    abundance_list,element_list = posterior_function_returning_predictions(args)\n",
      "  File \"/home/philcox/Chempy/Chempy/cem_function.py\", line 482, in posterior_function_returning_predictions\n",
      "    posterior, abundance_list, element_list = posterior_function_predictions(changing_parameter,a)\n",
      "  File \"/home/philcox/Chempy/Chempy/cem_function.py\", line 492, in posterior_function_predictions\n",
      "    a = extract_parameters_and_priors(changing_parameter, a)\n",
      "  File \"/home/philcox/Chempy/Chempy/cem_function.py\", line 717, in extract_parameters_and_priors\n",
      "    assert False, '%s lower border is violated' %(name)\n",
      "AssertionError: outflow_feedback_fraction lower border is violated\n",
      "Traceback (most recent call last):\n",
      "  File \"/home/philcox/Chempy/Chempy/cem_function.py\", line 882, in posterior_function_many_stars\n",
      "    posterior, blobs = posterior_function_many_stars_real(changing_parameter,error_list,elements)\n",
      "  File \"/home/philcox/Chempy/Chempy/cem_function.py\", line 920, in posterior_function_many_stars_real\n",
      "    abundance_list,element_list = posterior_function_returning_predictions(args)\n",
      "  File \"/home/philcox/Chempy/Chempy/cem_function.py\", line 482, in posterior_function_returning_predictions\n",
      "    posterior, abundance_list, element_list = posterior_function_predictions(changing_parameter,a)\n",
      "  File \"/home/philcox/Chempy/Chempy/cem_function.py\", line 492, in posterior_function_predictions\n",
      "    a = extract_parameters_and_priors(changing_parameter, a)\n",
      "  File \"/home/philcox/Chempy/Chempy/cem_function.py\", line 719, in extract_parameters_and_priors\n",
      "    assert False, '%s upper border is violated' %(name)\n",
      "AssertionError: log10_sfr_scale upper border is violated\n"
     ]
    },
    {
     "name": "stdout",
     "output_type": "stream",
     "text": [
      "7.63086889597 4.92640959885\n",
      "posterior -1, -100, -200 4.92640959885 4.86591874748 5.30154111936\n",
      "posterior 0, 100, 200 7.63086889597 5.10023997855 5.00078424551\n",
      "calculation so far took 146.61674571037292  seconds\n",
      "step  222 of  1000\n"
     ]
    },
    {
     "name": "stderr",
     "output_type": "stream",
     "text": [
      "Traceback (most recent call last):\n",
      "  File \"/home/philcox/Chempy/Chempy/cem_function.py\", line 882, in posterior_function_many_stars\n",
      "    posterior, blobs = posterior_function_many_stars_real(changing_parameter,error_list,elements)\n",
      "  File \"/home/philcox/Chempy/Chempy/cem_function.py\", line 920, in posterior_function_many_stars_real\n",
      "    abundance_list,element_list = posterior_function_returning_predictions(args)\n",
      "  File \"/home/philcox/Chempy/Chempy/cem_function.py\", line 482, in posterior_function_returning_predictions\n",
      "    posterior, abundance_list, element_list = posterior_function_predictions(changing_parameter,a)\n",
      "  File \"/home/philcox/Chempy/Chempy/cem_function.py\", line 492, in posterior_function_predictions\n",
      "    a = extract_parameters_and_priors(changing_parameter, a)\n",
      "  File \"/home/philcox/Chempy/Chempy/cem_function.py\", line 717, in extract_parameters_and_priors\n",
      "    assert False, '%s lower border is violated' %(name)\n",
      "AssertionError: outflow_feedback_fraction lower border is violated\n"
     ]
    },
    {
     "name": "stdout",
     "output_type": "stream",
     "text": [
      "7.63086889597 5.01754571692\n",
      "posterior -1, -100, -200 5.01754571692 4.70945328188 5.23242496038\n",
      "posterior 0, 100, 200 7.63086889597 5.10023997855 5.00078424551\n",
      "calculation so far took 147.27530336380005  seconds\n",
      "step  223 of  1000\n",
      "7.63086889597 4.95694849887\n",
      "posterior -1, -100, -200 4.95694849887 4.90247536651 5.04861050718\n",
      "posterior 0, 100, 200 7.63086889597 5.10023997855 5.00078424551\n",
      "calculation so far took 148.10125064849854  seconds\n",
      "step  224 of  1000\n",
      "7.63086889597 4.81539946456\n",
      "posterior -1, -100, -200 4.81539946456 4.84600328512 5.41845521046\n",
      "posterior 0, 100, 200 7.63086889597 5.10023997855 5.00078424551\n",
      "calculation so far took 148.73422694206238  seconds\n",
      "step  225 of  1000\n"
     ]
    },
    {
     "name": "stderr",
     "output_type": "stream",
     "text": [
      "Traceback (most recent call last):\n",
      "  File \"/home/philcox/Chempy/Chempy/cem_function.py\", line 882, in posterior_function_many_stars\n",
      "    posterior, blobs = posterior_function_many_stars_real(changing_parameter,error_list,elements)\n",
      "  File \"/home/philcox/Chempy/Chempy/cem_function.py\", line 920, in posterior_function_many_stars_real\n",
      "    abundance_list,element_list = posterior_function_returning_predictions(args)\n",
      "  File \"/home/philcox/Chempy/Chempy/cem_function.py\", line 482, in posterior_function_returning_predictions\n",
      "    posterior, abundance_list, element_list = posterior_function_predictions(changing_parameter,a)\n",
      "  File \"/home/philcox/Chempy/Chempy/cem_function.py\", line 492, in posterior_function_predictions\n",
      "    a = extract_parameters_and_priors(changing_parameter, a)\n",
      "  File \"/home/philcox/Chempy/Chempy/cem_function.py\", line 719, in extract_parameters_and_priors\n",
      "    assert False, '%s upper border is violated' %(name)\n",
      "AssertionError: outflow_feedback_fraction upper border is violated\n"
     ]
    },
    {
     "name": "stdout",
     "output_type": "stream",
     "text": [
      "7.63086889597 4.75142673474\n",
      "posterior -1, -100, -200 4.75142673474 4.80012000177 5.25680578803\n",
      "posterior 0, 100, 200 7.63086889597 5.10023997855 5.00078424551\n",
      "calculation so far took 149.3866958618164  seconds\n",
      "step  226 of  1000\n",
      "7.63086889597 4.8843934428\n",
      "posterior -1, -100, -200 4.8843934428 4.56444711476 5.0975721803\n",
      "posterior 0, 100, 200 7.63086889597 5.10023997855 5.00078424551\n",
      "calculation so far took 150.01797938346863  seconds\n",
      "step  227 of  1000\n",
      "7.63086889597 4.91426100668\n",
      "posterior -1, -100, -200 4.91426100668 4.63138080802 5.13040376828\n",
      "posterior 0, 100, 200 7.63086889597 5.10023997855 5.00078424551\n",
      "calculation so far took 150.64399576187134  seconds\n",
      "step  228 of  1000\n",
      "7.63086889597 4.61827844914\n",
      "posterior -1, -100, -200 4.61827844914 4.55929765093 5.12234502774\n",
      "posterior 0, 100, 200 7.63086889597 5.10023997855 5.00078424551\n",
      "calculation so far took 151.28530883789062  seconds\n",
      "step  229 of  1000\n"
     ]
    },
    {
     "name": "stderr",
     "output_type": "stream",
     "text": [
      "Traceback (most recent call last):\n",
      "  File \"/home/philcox/Chempy/Chempy/cem_function.py\", line 882, in posterior_function_many_stars\n",
      "    posterior, blobs = posterior_function_many_stars_real(changing_parameter,error_list,elements)\n",
      "  File \"/home/philcox/Chempy/Chempy/cem_function.py\", line 920, in posterior_function_many_stars_real\n",
      "    abundance_list,element_list = posterior_function_returning_predictions(args)\n",
      "  File \"/home/philcox/Chempy/Chempy/cem_function.py\", line 482, in posterior_function_returning_predictions\n",
      "    posterior, abundance_list, element_list = posterior_function_predictions(changing_parameter,a)\n",
      "  File \"/home/philcox/Chempy/Chempy/cem_function.py\", line 492, in posterior_function_predictions\n",
      "    a = extract_parameters_and_priors(changing_parameter, a)\n",
      "  File \"/home/philcox/Chempy/Chempy/cem_function.py\", line 719, in extract_parameters_and_priors\n",
      "    assert False, '%s upper border is violated' %(name)\n",
      "AssertionError: outflow_feedback_fraction upper border is violated\n"
     ]
    },
    {
     "name": "stdout",
     "output_type": "stream",
     "text": [
      "7.63086889597 4.62537122372\n",
      "posterior -1, -100, -200 4.62537122372 4.77891845133 5.211717873\n",
      "posterior 0, 100, 200 7.63086889597 5.10023997855 5.00078424551\n",
      "calculation so far took 151.9743573665619  seconds\n",
      "step  230 of  1000\n"
     ]
    },
    {
     "name": "stderr",
     "output_type": "stream",
     "text": [
      "Traceback (most recent call last):\n",
      "  File \"/home/philcox/Chempy/Chempy/cem_function.py\", line 882, in posterior_function_many_stars\n",
      "    posterior, blobs = posterior_function_many_stars_real(changing_parameter,error_list,elements)\n",
      "  File \"/home/philcox/Chempy/Chempy/cem_function.py\", line 920, in posterior_function_many_stars_real\n",
      "    abundance_list,element_list = posterior_function_returning_predictions(args)\n",
      "  File \"/home/philcox/Chempy/Chempy/cem_function.py\", line 482, in posterior_function_returning_predictions\n",
      "    posterior, abundance_list, element_list = posterior_function_predictions(changing_parameter,a)\n",
      "  File \"/home/philcox/Chempy/Chempy/cem_function.py\", line 507, in posterior_function_predictions\n",
      "    abundance_list,elements_to_trace = cem_real2(a)\n",
      "  File \"/home/philcox/Chempy/Chempy/cem_function.py\", line 337, in cem_real2\n",
      "    a = shorten_sfr(a)\n",
      "  File \"/home/philcox/Chempy/Chempy/cem_function.py\", line 130, in shorten_sfr\n",
      "    assert fraction_of_mean_sfr > 0.05, ('The total SFR of the last age bin is below 5% of the mean SFR', 'stellar identifier = ', a.stellar_identifier, 'star time = ', star_time, 'model time = ', time_model )\n",
      "AssertionError: ('The total SFR of the last age bin is below 5% of the mean SFR', 'stellar identifier = ', 'Proto-sun', 'star time = ', 8.9400000000000013, 'model time = ', 9.0)\n"
     ]
    },
    {
     "name": "stdout",
     "output_type": "stream",
     "text": [
      "7.63086889597 4.89547939067\n",
      "posterior -1, -100, -200 4.89547939067 4.74223587343 4.92890680894\n",
      "posterior 0, 100, 200 7.63086889597 5.10023997855 5.00078424551\n",
      "calculation so far took 152.62769508361816  seconds\n",
      "step  231 of  1000\n",
      "7.63086889597 4.86223075161\n",
      "posterior -1, -100, -200 4.86223075161 4.79179125308 4.99411300098\n",
      "posterior 0, 100, 200 7.63086889597 5.10023997855 5.00078424551\n",
      "calculation so far took 153.25915026664734  seconds\n",
      "step  232 of  1000\n"
     ]
    },
    {
     "name": "stderr",
     "output_type": "stream",
     "text": [
      "Traceback (most recent call last):\n",
      "  File \"/home/philcox/Chempy/Chempy/cem_function.py\", line 882, in posterior_function_many_stars\n",
      "    posterior, blobs = posterior_function_many_stars_real(changing_parameter,error_list,elements)\n",
      "  File \"/home/philcox/Chempy/Chempy/cem_function.py\", line 920, in posterior_function_many_stars_real\n",
      "    abundance_list,element_list = posterior_function_returning_predictions(args)\n",
      "  File \"/home/philcox/Chempy/Chempy/cem_function.py\", line 482, in posterior_function_returning_predictions\n",
      "    posterior, abundance_list, element_list = posterior_function_predictions(changing_parameter,a)\n",
      "  File \"/home/philcox/Chempy/Chempy/cem_function.py\", line 507, in posterior_function_predictions\n",
      "    abundance_list,elements_to_trace = cem_real2(a)\n",
      "  File \"/home/philcox/Chempy/Chempy/cem_function.py\", line 337, in cem_real2\n",
      "    a = shorten_sfr(a)\n",
      "  File \"/home/philcox/Chempy/Chempy/cem_function.py\", line 130, in shorten_sfr\n",
      "    assert fraction_of_mean_sfr > 0.05, ('The total SFR of the last age bin is below 5% of the mean SFR', 'stellar identifier = ', a.stellar_identifier, 'star time = ', star_time, 'model time = ', time_model )\n",
      "AssertionError: ('The total SFR of the last age bin is below 5% of the mean SFR', 'stellar identifier = ', 'Proto-sun', 'star time = ', 8.9400000000000013, 'model time = ', 9.0)\n"
     ]
    },
    {
     "name": "stdout",
     "output_type": "stream",
     "text": [
      "7.63086889597 4.98748842344\n",
      "posterior -1, -100, -200 4.98748842344 5.05127263592 5.06613437368\n",
      "posterior 0, 100, 200 7.63086889597 5.10023997855 5.00078424551\n",
      "calculation so far took 154.013774394989  seconds\n",
      "step  233 of  1000\n",
      "7.63086889597 4.87139843301\n",
      "posterior -1, -100, -200 4.87139843301 5.17609528036 5.17569949804\n",
      "posterior 0, 100, 200 7.63086889597 5.10023997855 5.00078424551\n",
      "calculation so far took 154.70872354507446  seconds\n",
      "step  234 of  1000\n",
      "7.63086889597 5.00435240454\n",
      "posterior -1, -100, -200 5.00435240454 4.88699009081 4.95668848646\n",
      "posterior 0, 100, 200 7.63086889597 5.10023997855 5.00078424551\n",
      "calculation so far took 155.53987002372742  seconds\n",
      "step  235 of  1000\n",
      "7.63086889597 4.85155104051\n",
      "posterior -1, -100, -200 4.85155104051 5.02830279175 5.06984618124\n",
      "posterior 0, 100, 200 7.63086889597 5.10023997855 5.00078424551\n",
      "calculation so far took 156.34211325645447  seconds\n",
      "step  236 of  1000\n"
     ]
    },
    {
     "name": "stderr",
     "output_type": "stream",
     "text": [
      "Traceback (most recent call last):\n",
      "  File \"/home/philcox/Chempy/Chempy/cem_function.py\", line 882, in posterior_function_many_stars\n",
      "    posterior, blobs = posterior_function_many_stars_real(changing_parameter,error_list,elements)\n",
      "  File \"/home/philcox/Chempy/Chempy/cem_function.py\", line 920, in posterior_function_many_stars_real\n",
      "    abundance_list,element_list = posterior_function_returning_predictions(args)\n",
      "  File \"/home/philcox/Chempy/Chempy/cem_function.py\", line 482, in posterior_function_returning_predictions\n",
      "    posterior, abundance_list, element_list = posterior_function_predictions(changing_parameter,a)\n",
      "  File \"/home/philcox/Chempy/Chempy/cem_function.py\", line 492, in posterior_function_predictions\n",
      "    a = extract_parameters_and_priors(changing_parameter, a)\n",
      "  File \"/home/philcox/Chempy/Chempy/cem_function.py\", line 719, in extract_parameters_and_priors\n",
      "    assert False, '%s upper border is violated' %(name)\n",
      "AssertionError: log10_sfr_scale upper border is violated\n"
     ]
    },
    {
     "name": "stdout",
     "output_type": "stream",
     "text": [
      "7.63086889597 4.72708372613\n",
      "posterior -1, -100, -200 4.72708372613 4.92369217418 5.04882774215\n",
      "posterior 0, 100, 200 7.63086889597 5.10023997855 5.00078424551\n",
      "calculation so far took 156.97928857803345  seconds\n",
      "step  237 of  1000\n"
     ]
    },
    {
     "name": "stderr",
     "output_type": "stream",
     "text": [
      "Traceback (most recent call last):\n",
      "  File \"/home/philcox/Chempy/Chempy/cem_function.py\", line 882, in posterior_function_many_stars\n",
      "    posterior, blobs = posterior_function_many_stars_real(changing_parameter,error_list,elements)\n",
      "  File \"/home/philcox/Chempy/Chempy/cem_function.py\", line 920, in posterior_function_many_stars_real\n",
      "    abundance_list,element_list = posterior_function_returning_predictions(args)\n",
      "  File \"/home/philcox/Chempy/Chempy/cem_function.py\", line 482, in posterior_function_returning_predictions\n",
      "    posterior, abundance_list, element_list = posterior_function_predictions(changing_parameter,a)\n",
      "  File \"/home/philcox/Chempy/Chempy/cem_function.py\", line 492, in posterior_function_predictions\n",
      "    a = extract_parameters_and_priors(changing_parameter, a)\n",
      "  File \"/home/philcox/Chempy/Chempy/cem_function.py\", line 719, in extract_parameters_and_priors\n",
      "    assert False, '%s upper border is violated' %(name)\n",
      "AssertionError: outflow_feedback_fraction upper border is violated\n",
      "Traceback (most recent call last):\n",
      "  File \"/home/philcox/Chempy/Chempy/cem_function.py\", line 882, in posterior_function_many_stars\n",
      "    posterior, blobs = posterior_function_many_stars_real(changing_parameter,error_list,elements)\n",
      "  File \"/home/philcox/Chempy/Chempy/cem_function.py\", line 920, in posterior_function_many_stars_real\n",
      "    abundance_list,element_list = posterior_function_returning_predictions(args)\n",
      "  File \"/home/philcox/Chempy/Chempy/cem_function.py\", line 482, in posterior_function_returning_predictions\n",
      "    posterior, abundance_list, element_list = posterior_function_predictions(changing_parameter,a)\n",
      "  File \"/home/philcox/Chempy/Chempy/cem_function.py\", line 507, in posterior_function_predictions\n",
      "    abundance_list,elements_to_trace = cem_real2(a)\n",
      "  File \"/home/philcox/Chempy/Chempy/cem_function.py\", line 337, in cem_real2\n",
      "    a = shorten_sfr(a)\n",
      "  File \"/home/philcox/Chempy/Chempy/cem_function.py\", line 130, in shorten_sfr\n",
      "    assert fraction_of_mean_sfr > 0.05, ('The total SFR of the last age bin is below 5% of the mean SFR', 'stellar identifier = ', a.stellar_identifier, 'star time = ', star_time, 'model time = ', time_model )\n",
      "AssertionError: ('The total SFR of the last age bin is below 5% of the mean SFR', 'stellar identifier = ', 'Proto-sun', 'star time = ', 8.9400000000000013, 'model time = ', 9.0)\n"
     ]
    },
    {
     "name": "stdout",
     "output_type": "stream",
     "text": [
      "7.63086889597 4.40545324295\n",
      "posterior -1, -100, -200 4.40545324295 4.72689639207 5.33311300524\n",
      "posterior 0, 100, 200 7.63086889597 5.10023997855 5.00078424551\n",
      "calculation so far took 157.66774439811707  seconds\n",
      "step  238 of  1000\n",
      "7.63086889597 4.30228400168\n",
      "posterior -1, -100, -200 4.30228400168 4.96602914174 4.96105522611\n",
      "posterior 0, 100, 200 7.63086889597 5.10023997855 5.00078424551\n",
      "calculation so far took 158.307124376297  seconds\n",
      "step  239 of  1000\n"
     ]
    },
    {
     "name": "stderr",
     "output_type": "stream",
     "text": [
      "Traceback (most recent call last):\n",
      "  File \"/home/philcox/Chempy/Chempy/cem_function.py\", line 882, in posterior_function_many_stars\n",
      "    posterior, blobs = posterior_function_many_stars_real(changing_parameter,error_list,elements)\n",
      "  File \"/home/philcox/Chempy/Chempy/cem_function.py\", line 920, in posterior_function_many_stars_real\n",
      "    abundance_list,element_list = posterior_function_returning_predictions(args)\n",
      "  File \"/home/philcox/Chempy/Chempy/cem_function.py\", line 482, in posterior_function_returning_predictions\n",
      "    posterior, abundance_list, element_list = posterior_function_predictions(changing_parameter,a)\n",
      "  File \"/home/philcox/Chempy/Chempy/cem_function.py\", line 492, in posterior_function_predictions\n",
      "    a = extract_parameters_and_priors(changing_parameter, a)\n",
      "  File \"/home/philcox/Chempy/Chempy/cem_function.py\", line 719, in extract_parameters_and_priors\n",
      "    assert False, '%s upper border is violated' %(name)\n",
      "AssertionError: log10_sfr_scale upper border is violated\n",
      "Traceback (most recent call last):\n",
      "  File \"/home/philcox/Chempy/Chempy/cem_function.py\", line 882, in posterior_function_many_stars\n",
      "    posterior, blobs = posterior_function_many_stars_real(changing_parameter,error_list,elements)\n",
      "  File \"/home/philcox/Chempy/Chempy/cem_function.py\", line 920, in posterior_function_many_stars_real\n",
      "    abundance_list,element_list = posterior_function_returning_predictions(args)\n",
      "  File \"/home/philcox/Chempy/Chempy/cem_function.py\", line 482, in posterior_function_returning_predictions\n",
      "    posterior, abundance_list, element_list = posterior_function_predictions(changing_parameter,a)\n",
      "  File \"/home/philcox/Chempy/Chempy/cem_function.py\", line 492, in posterior_function_predictions\n",
      "    a = extract_parameters_and_priors(changing_parameter, a)\n",
      "  File \"/home/philcox/Chempy/Chempy/cem_function.py\", line 719, in extract_parameters_and_priors\n",
      "    assert False, '%s upper border is violated' %(name)\n",
      "AssertionError: log10_sfr_scale upper border is violated\n",
      "Traceback (most recent call last):\n",
      "  File \"/home/philcox/Chempy/Chempy/cem_function.py\", line 882, in posterior_function_many_stars\n",
      "    posterior, blobs = posterior_function_many_stars_real(changing_parameter,error_list,elements)\n",
      "  File \"/home/philcox/Chempy/Chempy/cem_function.py\", line 920, in posterior_function_many_stars_real\n",
      "    abundance_list,element_list = posterior_function_returning_predictions(args)\n",
      "  File \"/home/philcox/Chempy/Chempy/cem_function.py\", line 482, in posterior_function_returning_predictions\n",
      "    posterior, abundance_list, element_list = posterior_function_predictions(changing_parameter,a)\n",
      "  File \"/home/philcox/Chempy/Chempy/cem_function.py\", line 492, in posterior_function_predictions\n",
      "    a = extract_parameters_and_priors(changing_parameter, a)\n",
      "  File \"/home/philcox/Chempy/Chempy/cem_function.py\", line 719, in extract_parameters_and_priors\n",
      "    assert False, '%s upper border is violated' %(name)\n",
      "AssertionError: outflow_feedback_fraction upper border is violated\n",
      "Traceback (most recent call last):\n",
      "  File \"/home/philcox/Chempy/Chempy/cem_function.py\", line 882, in posterior_function_many_stars\n",
      "    posterior, blobs = posterior_function_many_stars_real(changing_parameter,error_list,elements)\n",
      "  File \"/home/philcox/Chempy/Chempy/cem_function.py\", line 920, in posterior_function_many_stars_real\n",
      "    abundance_list,element_list = posterior_function_returning_predictions(args)\n",
      "  File \"/home/philcox/Chempy/Chempy/cem_function.py\", line 482, in posterior_function_returning_predictions\n",
      "    posterior, abundance_list, element_list = posterior_function_predictions(changing_parameter,a)\n",
      "  File \"/home/philcox/Chempy/Chempy/cem_function.py\", line 492, in posterior_function_predictions\n",
      "    a = extract_parameters_and_priors(changing_parameter, a)\n",
      "  File \"/home/philcox/Chempy/Chempy/cem_function.py\", line 719, in extract_parameters_and_priors\n",
      "    assert False, '%s upper border is violated' %(name)\n",
      "AssertionError: log10_sfr_scale upper border is violated\n"
     ]
    },
    {
     "name": "stdout",
     "output_type": "stream",
     "text": [
      "7.63086889597 4.43883287361\n",
      "posterior -1, -100, -200 4.43883287361 5.36595841184 5.14452739305\n",
      "posterior 0, 100, 200 7.63086889597 5.10023997855 5.00078424551\n",
      "calculation so far took 159.00012278556824  seconds\n",
      "step  240 of  1000\n",
      "7.63086889597 4.71921353674\n",
      "posterior -1, -100, -200 4.71921353674 5.27846788824 5.18147079493\n",
      "posterior 0, 100, 200 7.63086889597 5.10023997855 5.00078424551\n",
      "calculation so far took 159.62940001487732  seconds\n",
      "step  241 of  1000\n"
     ]
    },
    {
     "name": "stderr",
     "output_type": "stream",
     "text": [
      "Traceback (most recent call last):\n",
      "  File \"/home/philcox/Chempy/Chempy/cem_function.py\", line 882, in posterior_function_many_stars\n",
      "    posterior, blobs = posterior_function_many_stars_real(changing_parameter,error_list,elements)\n",
      "  File \"/home/philcox/Chempy/Chempy/cem_function.py\", line 920, in posterior_function_many_stars_real\n",
      "    abundance_list,element_list = posterior_function_returning_predictions(args)\n",
      "  File \"/home/philcox/Chempy/Chempy/cem_function.py\", line 482, in posterior_function_returning_predictions\n",
      "    posterior, abundance_list, element_list = posterior_function_predictions(changing_parameter,a)\n",
      "  File \"/home/philcox/Chempy/Chempy/cem_function.py\", line 492, in posterior_function_predictions\n",
      "    a = extract_parameters_and_priors(changing_parameter, a)\n",
      "  File \"/home/philcox/Chempy/Chempy/cem_function.py\", line 719, in extract_parameters_and_priors\n",
      "    assert False, '%s upper border is violated' %(name)\n",
      "AssertionError: log10_sfr_scale upper border is violated\n"
     ]
    },
    {
     "name": "stdout",
     "output_type": "stream",
     "text": [
      "7.63086889597 4.88415917665\n",
      "posterior -1, -100, -200 4.88415917665 5.11005291449 5.12842693255\n",
      "posterior 0, 100, 200 7.63086889597 5.10023997855 5.00078424551\n",
      "calculation so far took 160.27978372573853  seconds\n",
      "step  242 of  1000\n",
      "7.63086889597 5.07782662211\n",
      "posterior -1, -100, -200 5.07782662211 5.15925421577 5.2287794227\n",
      "posterior 0, 100, 200 7.63086889597 5.10023997855 5.00078424551\n",
      "calculation so far took 160.90450382232666  seconds\n",
      "step  243 of  1000\n",
      "7.63086889597 4.7009385956\n",
      "posterior -1, -100, -200 4.7009385956 5.0897518409 5.44678647281\n",
      "posterior 0, 100, 200 7.63086889597 5.10023997855 5.00078424551\n",
      "calculation so far took 161.52991366386414  seconds\n",
      "step  244 of  1000\n"
     ]
    },
    {
     "name": "stderr",
     "output_type": "stream",
     "text": [
      "Traceback (most recent call last):\n",
      "  File \"/home/philcox/Chempy/Chempy/cem_function.py\", line 882, in posterior_function_many_stars\n",
      "    posterior, blobs = posterior_function_many_stars_real(changing_parameter,error_list,elements)\n",
      "  File \"/home/philcox/Chempy/Chempy/cem_function.py\", line 920, in posterior_function_many_stars_real\n",
      "    abundance_list,element_list = posterior_function_returning_predictions(args)\n",
      "  File \"/home/philcox/Chempy/Chempy/cem_function.py\", line 482, in posterior_function_returning_predictions\n",
      "    posterior, abundance_list, element_list = posterior_function_predictions(changing_parameter,a)\n",
      "  File \"/home/philcox/Chempy/Chempy/cem_function.py\", line 492, in posterior_function_predictions\n",
      "    a = extract_parameters_and_priors(changing_parameter, a)\n",
      "  File \"/home/philcox/Chempy/Chempy/cem_function.py\", line 719, in extract_parameters_and_priors\n",
      "    assert False, '%s upper border is violated' %(name)\n",
      "AssertionError: outflow_feedback_fraction upper border is violated\n"
     ]
    },
    {
     "name": "stdout",
     "output_type": "stream",
     "text": [
      "7.63086889597 4.3893647307\n",
      "posterior -1, -100, -200 4.3893647307 5.18616048338 5.22999810279\n",
      "posterior 0, 100, 200 7.63086889597 5.10023997855 5.00078424551\n",
      "calculation so far took 162.17206931114197  seconds\n",
      "step  245 of  1000\n"
     ]
    },
    {
     "name": "stderr",
     "output_type": "stream",
     "text": [
      "Traceback (most recent call last):\n",
      "  File \"/home/philcox/Chempy/Chempy/cem_function.py\", line 882, in posterior_function_many_stars\n",
      "    posterior, blobs = posterior_function_many_stars_real(changing_parameter,error_list,elements)\n",
      "  File \"/home/philcox/Chempy/Chempy/cem_function.py\", line 920, in posterior_function_many_stars_real\n",
      "    abundance_list,element_list = posterior_function_returning_predictions(args)\n",
      "  File \"/home/philcox/Chempy/Chempy/cem_function.py\", line 482, in posterior_function_returning_predictions\n",
      "    posterior, abundance_list, element_list = posterior_function_predictions(changing_parameter,a)\n",
      "  File \"/home/philcox/Chempy/Chempy/cem_function.py\", line 492, in posterior_function_predictions\n",
      "    a = extract_parameters_and_priors(changing_parameter, a)\n",
      "  File \"/home/philcox/Chempy/Chempy/cem_function.py\", line 719, in extract_parameters_and_priors\n",
      "    assert False, '%s upper border is violated' %(name)\n",
      "AssertionError: outflow_feedback_fraction upper border is violated\n"
     ]
    },
    {
     "name": "stdout",
     "output_type": "stream",
     "text": [
      "7.63086889597 4.66607196828\n",
      "posterior -1, -100, -200 4.66607196828 4.96506040425 5.43628985103\n",
      "posterior 0, 100, 200 7.63086889597 5.10023997855 5.00078424551\n",
      "calculation so far took 162.88706302642822  seconds\n",
      "step  246 of  1000\n"
     ]
    },
    {
     "name": "stderr",
     "output_type": "stream",
     "text": [
      "Traceback (most recent call last):\n",
      "  File \"/home/philcox/Chempy/Chempy/cem_function.py\", line 882, in posterior_function_many_stars\n",
      "    posterior, blobs = posterior_function_many_stars_real(changing_parameter,error_list,elements)\n",
      "  File \"/home/philcox/Chempy/Chempy/cem_function.py\", line 920, in posterior_function_many_stars_real\n",
      "    abundance_list,element_list = posterior_function_returning_predictions(args)\n",
      "  File \"/home/philcox/Chempy/Chempy/cem_function.py\", line 482, in posterior_function_returning_predictions\n",
      "    posterior, abundance_list, element_list = posterior_function_predictions(changing_parameter,a)\n",
      "  File \"/home/philcox/Chempy/Chempy/cem_function.py\", line 492, in posterior_function_predictions\n",
      "    a = extract_parameters_and_priors(changing_parameter, a)\n",
      "  File \"/home/philcox/Chempy/Chempy/cem_function.py\", line 719, in extract_parameters_and_priors\n",
      "    assert False, '%s upper border is violated' %(name)\n",
      "AssertionError: outflow_feedback_fraction upper border is violated\n"
     ]
    },
    {
     "name": "stdout",
     "output_type": "stream",
     "text": [
      "7.63086889597 4.7691960138\n",
      "posterior -1, -100, -200 4.7691960138 5.00188213634 5.05795332696\n",
      "posterior 0, 100, 200 7.63086889597 5.10023997855 5.00078424551\n",
      "calculation so far took 163.54854106903076  seconds\n",
      "step  247 of  1000\n",
      "7.63086889597 4.91966248385\n",
      "posterior -1, -100, -200 4.91966248385 5.07837592577 5.15843470779\n",
      "posterior 0, 100, 200 7.63086889597 5.10023997855 5.00078424551\n",
      "calculation so far took 164.2165927886963  seconds\n",
      "step  248 of  1000\n",
      "7.63086889597 4.91398747106\n",
      "posterior -1, -100, -200 4.91398747106 4.90092918304 5.11964378784\n",
      "posterior 0, 100, 200 7.63086889597 5.10023997855 5.00078424551\n",
      "calculation so far took 164.84069776535034  seconds\n",
      "step  249 of  1000\n"
     ]
    },
    {
     "name": "stderr",
     "output_type": "stream",
     "text": [
      "Traceback (most recent call last):\n",
      "  File \"/home/philcox/Chempy/Chempy/cem_function.py\", line 882, in posterior_function_many_stars\n",
      "    posterior, blobs = posterior_function_many_stars_real(changing_parameter,error_list,elements)\n",
      "  File \"/home/philcox/Chempy/Chempy/cem_function.py\", line 920, in posterior_function_many_stars_real\n",
      "    abundance_list,element_list = posterior_function_returning_predictions(args)\n",
      "  File \"/home/philcox/Chempy/Chempy/cem_function.py\", line 482, in posterior_function_returning_predictions\n",
      "    posterior, abundance_list, element_list = posterior_function_predictions(changing_parameter,a)\n",
      "  File \"/home/philcox/Chempy/Chempy/cem_function.py\", line 492, in posterior_function_predictions\n",
      "    a = extract_parameters_and_priors(changing_parameter, a)\n",
      "  File \"/home/philcox/Chempy/Chempy/cem_function.py\", line 719, in extract_parameters_and_priors\n",
      "    assert False, '%s upper border is violated' %(name)\n",
      "AssertionError: log10_sfr_scale upper border is violated\n"
     ]
    },
    {
     "name": "stdout",
     "output_type": "stream",
     "text": [
      "7.63086889597 4.77640486432\n",
      "posterior -1, -100, -200 4.77640486432 4.84828470317 5.0959987941\n",
      "posterior 0, 100, 200 7.63086889597 5.10023997855 5.00078424551\n",
      "calculation so far took 165.5449936389923  seconds\n",
      "step  250 of  1000\n",
      "7.63086889597 4.55543586368\n",
      "posterior -1, -100, -200 4.55543586368 4.97674345821 4.98158447213\n",
      "posterior 0, 100, 200 7.63086889597 5.10023997855 5.00078424551\n",
      "calculation so far took 166.17108368873596  seconds\n",
      "step  251 of  1000\n"
     ]
    },
    {
     "name": "stderr",
     "output_type": "stream",
     "text": [
      "Traceback (most recent call last):\n",
      "  File \"/home/philcox/Chempy/Chempy/cem_function.py\", line 882, in posterior_function_many_stars\n",
      "    posterior, blobs = posterior_function_many_stars_real(changing_parameter,error_list,elements)\n",
      "  File \"/home/philcox/Chempy/Chempy/cem_function.py\", line 920, in posterior_function_many_stars_real\n",
      "    abundance_list,element_list = posterior_function_returning_predictions(args)\n",
      "  File \"/home/philcox/Chempy/Chempy/cem_function.py\", line 482, in posterior_function_returning_predictions\n",
      "    posterior, abundance_list, element_list = posterior_function_predictions(changing_parameter,a)\n",
      "  File \"/home/philcox/Chempy/Chempy/cem_function.py\", line 492, in posterior_function_predictions\n",
      "    a = extract_parameters_and_priors(changing_parameter, a)\n",
      "  File \"/home/philcox/Chempy/Chempy/cem_function.py\", line 719, in extract_parameters_and_priors\n",
      "    assert False, '%s upper border is violated' %(name)\n",
      "AssertionError: log10_sfr_scale upper border is violated\n"
     ]
    },
    {
     "name": "stdout",
     "output_type": "stream",
     "text": [
      "7.63086889597 4.54579948556\n",
      "posterior -1, -100, -200 4.54579948556 4.89018899965 4.92565309257\n",
      "posterior 0, 100, 200 7.63086889597 5.10023997855 5.00078424551\n",
      "calculation so far took 166.8210256099701  seconds\n",
      "step  252 of  1000\n",
      "7.63086889597 4.67308017502\n",
      "posterior -1, -100, -200 4.67308017502 4.64976447023 4.98532886635\n",
      "posterior 0, 100, 200 7.63086889597 5.10023997855 5.00078424551\n",
      "calculation so far took 167.4530212879181  seconds\n",
      "step  253 of  1000\n",
      "7.63086889597 4.82261224226\n",
      "posterior -1, -100, -200 4.82261224226 4.72274914538 4.99639380219\n",
      "posterior 0, 100, 200 7.63086889597 5.10023997855 5.00078424551\n",
      "calculation so far took 168.08425569534302  seconds\n",
      "step  254 of  1000\n"
     ]
    },
    {
     "name": "stderr",
     "output_type": "stream",
     "text": [
      "Traceback (most recent call last):\n",
      "  File \"/home/philcox/Chempy/Chempy/cem_function.py\", line 882, in posterior_function_many_stars\n",
      "    posterior, blobs = posterior_function_many_stars_real(changing_parameter,error_list,elements)\n",
      "  File \"/home/philcox/Chempy/Chempy/cem_function.py\", line 920, in posterior_function_many_stars_real\n",
      "    abundance_list,element_list = posterior_function_returning_predictions(args)\n",
      "  File \"/home/philcox/Chempy/Chempy/cem_function.py\", line 482, in posterior_function_returning_predictions\n",
      "    posterior, abundance_list, element_list = posterior_function_predictions(changing_parameter,a)\n",
      "  File \"/home/philcox/Chempy/Chempy/cem_function.py\", line 492, in posterior_function_predictions\n",
      "    a = extract_parameters_and_priors(changing_parameter, a)\n",
      "  File \"/home/philcox/Chempy/Chempy/cem_function.py\", line 719, in extract_parameters_and_priors\n",
      "    assert False, '%s upper border is violated' %(name)\n",
      "AssertionError: outflow_feedback_fraction upper border is violated\n"
     ]
    },
    {
     "name": "stdout",
     "output_type": "stream",
     "text": [
      "7.63086889597 4.76418538154\n",
      "posterior -1, -100, -200 4.76418538154 4.5287599819 4.91364255048\n",
      "posterior 0, 100, 200 7.63086889597 5.10023997855 5.00078424551\n",
      "calculation so far took 168.71013259887695  seconds\n",
      "step  255 of  1000\n",
      "7.63086889597 4.95617201222\n",
      "posterior -1, -100, -200 4.95617201222 4.67217980074 4.88009944581\n",
      "posterior 0, 100, 200 7.63086889597 5.10023997855 5.00078424551\n",
      "calculation so far took 169.44917154312134  seconds\n",
      "step  256 of  1000\n",
      "7.63086889597 5.06225505737\n",
      "posterior -1, -100, -200 5.06225505737 4.8361031475 5.1034152654\n",
      "posterior 0, 100, 200 7.63086889597 5.10023997855 5.00078424551\n",
      "calculation so far took 170.07928657531738  seconds\n",
      "step  257 of  1000\n",
      "7.63086889597 5.06702797251\n",
      "posterior -1, -100, -200 5.06702797251 4.71835305695 5.0946336078\n",
      "posterior 0, 100, 200 7.63086889597 5.10023997855 5.00078424551\n",
      "calculation so far took 170.7046709060669  seconds\n",
      "step  258 of  1000\n",
      "7.63086889597 5.14071259492\n",
      "posterior -1, -100, -200 5.14071259492 4.85969275665 4.98473247617\n",
      "posterior 0, 100, 200 7.63086889597 5.10023997855 5.00078424551\n",
      "calculation so far took 171.33287644386292  seconds\n",
      "step  259 of  1000\n",
      "7.63086889597 5.08476881285\n",
      "posterior -1, -100, -200 5.08476881285 4.85254387279 5.18036499241\n",
      "posterior 0, 100, 200 7.63086889597 5.10023997855 5.00078424551\n",
      "calculation so far took 171.96391367912292  seconds\n",
      "step  260 of  1000\n",
      "7.63086889597 4.93781014238\n",
      "posterior -1, -100, -200 4.93781014238 4.69701883285 5.10599000145\n",
      "posterior 0, 100, 200 7.63086889597 5.10023997855 5.00078424551\n",
      "calculation so far took 172.59128594398499  seconds\n",
      "step  261 of  1000\n",
      "7.63086889597 4.79026269123\n",
      "posterior -1, -100, -200 4.79026269123 4.63530446262 5.15203115178\n",
      "posterior 0, 100, 200 7.63086889597 5.10023997855 5.00078424551\n",
      "calculation so far took 173.2195725440979  seconds\n",
      "step  262 of  1000\n"
     ]
    },
    {
     "name": "stderr",
     "output_type": "stream",
     "text": [
      "Traceback (most recent call last):\n",
      "  File \"/home/philcox/Chempy/Chempy/cem_function.py\", line 882, in posterior_function_many_stars\n",
      "    posterior, blobs = posterior_function_many_stars_real(changing_parameter,error_list,elements)\n",
      "  File \"/home/philcox/Chempy/Chempy/cem_function.py\", line 920, in posterior_function_many_stars_real\n",
      "    abundance_list,element_list = posterior_function_returning_predictions(args)\n",
      "  File \"/home/philcox/Chempy/Chempy/cem_function.py\", line 482, in posterior_function_returning_predictions\n",
      "    posterior, abundance_list, element_list = posterior_function_predictions(changing_parameter,a)\n",
      "  File \"/home/philcox/Chempy/Chempy/cem_function.py\", line 492, in posterior_function_predictions\n",
      "    a = extract_parameters_and_priors(changing_parameter, a)\n",
      "  File \"/home/philcox/Chempy/Chempy/cem_function.py\", line 719, in extract_parameters_and_priors\n",
      "    assert False, '%s upper border is violated' %(name)\n",
      "AssertionError: log10_sfr_scale upper border is violated\n",
      "Traceback (most recent call last):\n",
      "  File \"/home/philcox/Chempy/Chempy/cem_function.py\", line 882, in posterior_function_many_stars\n",
      "    posterior, blobs = posterior_function_many_stars_real(changing_parameter,error_list,elements)\n",
      "  File \"/home/philcox/Chempy/Chempy/cem_function.py\", line 920, in posterior_function_many_stars_real\n",
      "    abundance_list,element_list = posterior_function_returning_predictions(args)\n",
      "  File \"/home/philcox/Chempy/Chempy/cem_function.py\", line 482, in posterior_function_returning_predictions\n",
      "    posterior, abundance_list, element_list = posterior_function_predictions(changing_parameter,a)\n",
      "  File \"/home/philcox/Chempy/Chempy/cem_function.py\", line 492, in posterior_function_predictions\n",
      "    a = extract_parameters_and_priors(changing_parameter, a)\n",
      "  File \"/home/philcox/Chempy/Chempy/cem_function.py\", line 719, in extract_parameters_and_priors\n",
      "    assert False, '%s upper border is violated' %(name)\n",
      "AssertionError: outflow_feedback_fraction upper border is violated\n"
     ]
    },
    {
     "name": "stdout",
     "output_type": "stream",
     "text": [
      "7.63086889597 4.64265868384\n",
      "posterior -1, -100, -200 4.64265868384 4.65895520996 5.13529502528\n",
      "posterior 0, 100, 200 7.63086889597 5.10023997855 5.00078424551\n",
      "calculation so far took 173.8761579990387  seconds\n",
      "step  263 of  1000\n",
      "7.63086889597 4.55183390898\n",
      "posterior -1, -100, -200 4.55183390898 4.74430593497 5.29175410375\n",
      "posterior 0, 100, 200 7.63086889597 5.10023997855 5.00078424551\n",
      "calculation so far took 174.52796483039856  seconds\n",
      "step  264 of  1000\n"
     ]
    },
    {
     "name": "stderr",
     "output_type": "stream",
     "text": [
      "Traceback (most recent call last):\n",
      "  File \"/home/philcox/Chempy/Chempy/cem_function.py\", line 882, in posterior_function_many_stars\n",
      "    posterior, blobs = posterior_function_many_stars_real(changing_parameter,error_list,elements)\n",
      "  File \"/home/philcox/Chempy/Chempy/cem_function.py\", line 920, in posterior_function_many_stars_real\n",
      "    abundance_list,element_list = posterior_function_returning_predictions(args)\n",
      "  File \"/home/philcox/Chempy/Chempy/cem_function.py\", line 482, in posterior_function_returning_predictions\n",
      "    posterior, abundance_list, element_list = posterior_function_predictions(changing_parameter,a)\n",
      "  File \"/home/philcox/Chempy/Chempy/cem_function.py\", line 492, in posterior_function_predictions\n",
      "    a = extract_parameters_and_priors(changing_parameter, a)\n",
      "  File \"/home/philcox/Chempy/Chempy/cem_function.py\", line 719, in extract_parameters_and_priors\n",
      "    assert False, '%s upper border is violated' %(name)\n",
      "AssertionError: log10_sfr_scale upper border is violated\n"
     ]
    },
    {
     "name": "stdout",
     "output_type": "stream",
     "text": [
      "7.63086889597 4.39950995939\n",
      "posterior -1, -100, -200 4.39950995939 5.01050642846 5.23520257257\n",
      "posterior 0, 100, 200 7.63086889597 5.10023997855 5.00078424551\n",
      "calculation so far took 175.18113660812378  seconds\n",
      "step  265 of  1000\n"
     ]
    },
    {
     "name": "stderr",
     "output_type": "stream",
     "text": [
      "Traceback (most recent call last):\n",
      "  File \"/home/philcox/Chempy/Chempy/cem_function.py\", line 882, in posterior_function_many_stars\n",
      "    posterior, blobs = posterior_function_many_stars_real(changing_parameter,error_list,elements)\n",
      "  File \"/home/philcox/Chempy/Chempy/cem_function.py\", line 920, in posterior_function_many_stars_real\n",
      "    abundance_list,element_list = posterior_function_returning_predictions(args)\n",
      "  File \"/home/philcox/Chempy/Chempy/cem_function.py\", line 482, in posterior_function_returning_predictions\n",
      "    posterior, abundance_list, element_list = posterior_function_predictions(changing_parameter,a)\n",
      "  File \"/home/philcox/Chempy/Chempy/cem_function.py\", line 492, in posterior_function_predictions\n",
      "    a = extract_parameters_and_priors(changing_parameter, a)\n",
      "  File \"/home/philcox/Chempy/Chempy/cem_function.py\", line 719, in extract_parameters_and_priors\n",
      "    assert False, '%s upper border is violated' %(name)\n",
      "AssertionError: log10_sfr_scale upper border is violated\n",
      "Traceback (most recent call last):\n",
      "  File \"/home/philcox/Chempy/Chempy/cem_function.py\", line 882, in posterior_function_many_stars\n",
      "    posterior, blobs = posterior_function_many_stars_real(changing_parameter,error_list,elements)\n",
      "  File \"/home/philcox/Chempy/Chempy/cem_function.py\", line 920, in posterior_function_many_stars_real\n",
      "    abundance_list,element_list = posterior_function_returning_predictions(args)\n",
      "  File \"/home/philcox/Chempy/Chempy/cem_function.py\", line 482, in posterior_function_returning_predictions\n",
      "    posterior, abundance_list, element_list = posterior_function_predictions(changing_parameter,a)\n",
      "  File \"/home/philcox/Chempy/Chempy/cem_function.py\", line 492, in posterior_function_predictions\n",
      "    a = extract_parameters_and_priors(changing_parameter, a)\n",
      "  File \"/home/philcox/Chempy/Chempy/cem_function.py\", line 719, in extract_parameters_and_priors\n",
      "    assert False, '%s upper border is violated' %(name)\n",
      "AssertionError: log10_sfr_scale upper border is violated\n"
     ]
    },
    {
     "name": "stdout",
     "output_type": "stream",
     "text": [
      "7.63086889597 4.7332784091\n",
      "posterior -1, -100, -200 4.7332784091 4.74637609786 5.16968960038\n",
      "posterior 0, 100, 200 7.63086889597 5.10023997855 5.00078424551\n",
      "calculation so far took 175.84333610534668  seconds\n",
      "step  266 of  1000\n"
     ]
    },
    {
     "name": "stderr",
     "output_type": "stream",
     "text": [
      "Traceback (most recent call last):\n",
      "  File \"/home/philcox/Chempy/Chempy/cem_function.py\", line 882, in posterior_function_many_stars\n",
      "    posterior, blobs = posterior_function_many_stars_real(changing_parameter,error_list,elements)\n",
      "  File \"/home/philcox/Chempy/Chempy/cem_function.py\", line 920, in posterior_function_many_stars_real\n",
      "    abundance_list,element_list = posterior_function_returning_predictions(args)\n",
      "  File \"/home/philcox/Chempy/Chempy/cem_function.py\", line 482, in posterior_function_returning_predictions\n",
      "    posterior, abundance_list, element_list = posterior_function_predictions(changing_parameter,a)\n",
      "  File \"/home/philcox/Chempy/Chempy/cem_function.py\", line 492, in posterior_function_predictions\n",
      "    a = extract_parameters_and_priors(changing_parameter, a)\n",
      "  File \"/home/philcox/Chempy/Chempy/cem_function.py\", line 719, in extract_parameters_and_priors\n",
      "    assert False, '%s upper border is violated' %(name)\n",
      "AssertionError: outflow_feedback_fraction upper border is violated\n"
     ]
    },
    {
     "name": "stdout",
     "output_type": "stream",
     "text": [
      "7.63086889597 4.64219283886\n",
      "posterior -1, -100, -200 4.64219283886 4.60820139298 5.13593857242\n",
      "posterior 0, 100, 200 7.63086889597 5.10023997855 5.00078424551\n",
      "calculation so far took 176.4888138771057  seconds\n",
      "step  267 of  1000\n",
      "7.63086889597 4.83982614755\n",
      "posterior -1, -100, -200 4.83982614755 4.90004217267 5.2928678009\n",
      "posterior 0, 100, 200 7.63086889597 5.10023997855 5.00078424551\n",
      "calculation so far took 177.11883902549744  seconds\n",
      "step  268 of  1000\n",
      "7.63086889597 5.03241759358\n",
      "posterior -1, -100, -200 5.03241759358 4.68631829182 5.47272070454\n",
      "posterior 0, 100, 200 7.63086889597 5.10023997855 5.00078424551\n",
      "calculation so far took 177.75228691101074  seconds\n",
      "step  269 of  1000\n"
     ]
    },
    {
     "name": "stderr",
     "output_type": "stream",
     "text": [
      "Traceback (most recent call last):\n",
      "  File \"/home/philcox/Chempy/Chempy/cem_function.py\", line 882, in posterior_function_many_stars\n",
      "    posterior, blobs = posterior_function_many_stars_real(changing_parameter,error_list,elements)\n",
      "  File \"/home/philcox/Chempy/Chempy/cem_function.py\", line 920, in posterior_function_many_stars_real\n",
      "    abundance_list,element_list = posterior_function_returning_predictions(args)\n",
      "  File \"/home/philcox/Chempy/Chempy/cem_function.py\", line 482, in posterior_function_returning_predictions\n",
      "    posterior, abundance_list, element_list = posterior_function_predictions(changing_parameter,a)\n",
      "  File \"/home/philcox/Chempy/Chempy/cem_function.py\", line 492, in posterior_function_predictions\n",
      "    a = extract_parameters_and_priors(changing_parameter, a)\n",
      "  File \"/home/philcox/Chempy/Chempy/cem_function.py\", line 719, in extract_parameters_and_priors\n",
      "    assert False, '%s upper border is violated' %(name)\n",
      "AssertionError: outflow_feedback_fraction upper border is violated\n",
      "Traceback (most recent call last):\n",
      "  File \"/home/philcox/Chempy/Chempy/cem_function.py\", line 882, in posterior_function_many_stars\n",
      "    posterior, blobs = posterior_function_many_stars_real(changing_parameter,error_list,elements)\n",
      "  File \"/home/philcox/Chempy/Chempy/cem_function.py\", line 920, in posterior_function_many_stars_real\n",
      "    abundance_list,element_list = posterior_function_returning_predictions(args)\n",
      "  File \"/home/philcox/Chempy/Chempy/cem_function.py\", line 482, in posterior_function_returning_predictions\n",
      "    posterior, abundance_list, element_list = posterior_function_predictions(changing_parameter,a)\n",
      "  File \"/home/philcox/Chempy/Chempy/cem_function.py\", line 492, in posterior_function_predictions\n",
      "    a = extract_parameters_and_priors(changing_parameter, a)\n",
      "  File \"/home/philcox/Chempy/Chempy/cem_function.py\", line 719, in extract_parameters_and_priors\n",
      "    assert False, '%s upper border is violated' %(name)\n",
      "AssertionError: log10_sfr_scale upper border is violated\n"
     ]
    },
    {
     "name": "stdout",
     "output_type": "stream",
     "text": [
      "7.63086889597 5.03984680547\n",
      "posterior -1, -100, -200 5.03984680547 4.63531435682 5.30146714112\n",
      "posterior 0, 100, 200 7.63086889597 5.10023997855 5.00078424551\n",
      "calculation so far took 178.40938234329224  seconds\n",
      "step  270 of  1000\n",
      "7.63086889597 5.00526232952\n",
      "posterior -1, -100, -200 5.00526232952 4.88927736 5.13669107442\n",
      "posterior 0, 100, 200 7.63086889597 5.10023997855 5.00078424551\n",
      "calculation so far took 179.19688987731934  seconds\n",
      "step  271 of  1000\n"
     ]
    },
    {
     "name": "stderr",
     "output_type": "stream",
     "text": [
      "Traceback (most recent call last):\n",
      "  File \"/home/philcox/Chempy/Chempy/cem_function.py\", line 882, in posterior_function_many_stars\n",
      "    posterior, blobs = posterior_function_many_stars_real(changing_parameter,error_list,elements)\n",
      "  File \"/home/philcox/Chempy/Chempy/cem_function.py\", line 920, in posterior_function_many_stars_real\n",
      "    abundance_list,element_list = posterior_function_returning_predictions(args)\n",
      "  File \"/home/philcox/Chempy/Chempy/cem_function.py\", line 482, in posterior_function_returning_predictions\n",
      "    posterior, abundance_list, element_list = posterior_function_predictions(changing_parameter,a)\n",
      "  File \"/home/philcox/Chempy/Chempy/cem_function.py\", line 492, in posterior_function_predictions\n",
      "    a = extract_parameters_and_priors(changing_parameter, a)\n",
      "  File \"/home/philcox/Chempy/Chempy/cem_function.py\", line 719, in extract_parameters_and_priors\n",
      "    assert False, '%s upper border is violated' %(name)\n",
      "AssertionError: log10_sfr_scale upper border is violated\n"
     ]
    },
    {
     "name": "stdout",
     "output_type": "stream",
     "text": [
      "7.63086889597 4.80999301967\n",
      "posterior -1, -100, -200 4.80999301967 4.95524802383 5.34390086773\n",
      "posterior 0, 100, 200 7.63086889597 5.10023997855 5.00078424551\n",
      "calculation so far took 179.8325057029724  seconds\n",
      "step  272 of  1000\n"
     ]
    },
    {
     "name": "stderr",
     "output_type": "stream",
     "text": [
      "Traceback (most recent call last):\n",
      "  File \"/home/philcox/Chempy/Chempy/cem_function.py\", line 882, in posterior_function_many_stars\n",
      "    posterior, blobs = posterior_function_many_stars_real(changing_parameter,error_list,elements)\n",
      "  File \"/home/philcox/Chempy/Chempy/cem_function.py\", line 920, in posterior_function_many_stars_real\n",
      "    abundance_list,element_list = posterior_function_returning_predictions(args)\n",
      "  File \"/home/philcox/Chempy/Chempy/cem_function.py\", line 482, in posterior_function_returning_predictions\n",
      "    posterior, abundance_list, element_list = posterior_function_predictions(changing_parameter,a)\n",
      "  File \"/home/philcox/Chempy/Chempy/cem_function.py\", line 492, in posterior_function_predictions\n",
      "    a = extract_parameters_and_priors(changing_parameter, a)\n",
      "  File \"/home/philcox/Chempy/Chempy/cem_function.py\", line 719, in extract_parameters_and_priors\n",
      "    assert False, '%s upper border is violated' %(name)\n",
      "AssertionError: log10_sfr_scale upper border is violated\n"
     ]
    },
    {
     "name": "stdout",
     "output_type": "stream",
     "text": [
      "7.63086889597 5.00885330922\n",
      "posterior -1, -100, -200 5.00885330922 5.02889163766 5.57240278285\n",
      "posterior 0, 100, 200 7.63086889597 5.10023997855 5.00078424551\n",
      "calculation so far took 180.46869111061096  seconds\n",
      "step  273 of  1000\n",
      "7.63086889597 4.95411271619\n",
      "posterior -1, -100, -200 4.95411271619 4.88035789149 5.4526383984\n",
      "posterior 0, 100, 200 7.63086889597 5.10023997855 5.00078424551\n",
      "calculation so far took 181.1108205318451  seconds\n",
      "step  274 of  1000\n",
      "7.63086889597 5.0165132103\n",
      "posterior -1, -100, -200 5.0165132103 4.9602809043 5.27690371095\n",
      "posterior 0, 100, 200 7.63086889597 5.10023997855 5.00078424551\n",
      "calculation so far took 181.73597145080566  seconds\n",
      "step  275 of  1000\n",
      "7.63086889597 5.0780701577\n",
      "posterior -1, -100, -200 5.0780701577 4.96576163654 5.30081067878\n",
      "posterior 0, 100, 200 7.63086889597 5.10023997855 5.00078424551\n",
      "calculation so far took 182.37863063812256  seconds\n",
      "step  276 of  1000\n"
     ]
    },
    {
     "name": "stderr",
     "output_type": "stream",
     "text": [
      "Traceback (most recent call last):\n",
      "  File \"/home/philcox/Chempy/Chempy/cem_function.py\", line 882, in posterior_function_many_stars\n",
      "    posterior, blobs = posterior_function_many_stars_real(changing_parameter,error_list,elements)\n",
      "  File \"/home/philcox/Chempy/Chempy/cem_function.py\", line 920, in posterior_function_many_stars_real\n",
      "    abundance_list,element_list = posterior_function_returning_predictions(args)\n",
      "  File \"/home/philcox/Chempy/Chempy/cem_function.py\", line 482, in posterior_function_returning_predictions\n",
      "    posterior, abundance_list, element_list = posterior_function_predictions(changing_parameter,a)\n",
      "  File \"/home/philcox/Chempy/Chempy/cem_function.py\", line 492, in posterior_function_predictions\n",
      "    a = extract_parameters_and_priors(changing_parameter, a)\n",
      "  File \"/home/philcox/Chempy/Chempy/cem_function.py\", line 719, in extract_parameters_and_priors\n",
      "    assert False, '%s upper border is violated' %(name)\n"
     ]
    },
    {
     "name": "stdout",
     "output_type": "stream",
     "text": [
      "7.63086889597 4.99985015159\n",
      "posterior -1, -100, -200 4.99985015159 4.81671781547 5.36981761047\n",
      "posterior 0, 100, 200 7.63086889597 5.10023997855 5.00078424551\n",
      "calculation so far took 183.04427289962769  seconds\n",
      "step  277 of  1000\n"
     ]
    },
    {
     "name": "stderr",
     "output_type": "stream",
     "text": [
      "AssertionError: log10_sfr_scale upper border is violated\n",
      "Traceback (most recent call last):\n",
      "  File \"/home/philcox/Chempy/Chempy/cem_function.py\", line 882, in posterior_function_many_stars\n",
      "    posterior, blobs = posterior_function_many_stars_real(changing_parameter,error_list,elements)\n",
      "  File \"/home/philcox/Chempy/Chempy/cem_function.py\", line 920, in posterior_function_many_stars_real\n",
      "    abundance_list,element_list = posterior_function_returning_predictions(args)\n",
      "  File \"/home/philcox/Chempy/Chempy/cem_function.py\", line 482, in posterior_function_returning_predictions\n",
      "    posterior, abundance_list, element_list = posterior_function_predictions(changing_parameter,a)\n",
      "  File \"/home/philcox/Chempy/Chempy/cem_function.py\", line 492, in posterior_function_predictions\n",
      "    a = extract_parameters_and_priors(changing_parameter, a)\n",
      "  File \"/home/philcox/Chempy/Chempy/cem_function.py\", line 719, in extract_parameters_and_priors\n",
      "    assert False, '%s upper border is violated' %(name)\n",
      "AssertionError: log10_sfr_scale upper border is violated\n"
     ]
    },
    {
     "name": "stdout",
     "output_type": "stream",
     "text": [
      "7.63086889597 4.9653979966\n",
      "posterior -1, -100, -200 4.9653979966 4.87725864814 5.31533808961\n",
      "posterior 0, 100, 200 7.63086889597 5.10023997855 5.00078424551\n",
      "calculation so far took 183.70749616622925  seconds\n",
      "step  278 of  1000\n",
      "7.63086889597 4.93509338243\n",
      "posterior -1, -100, -200 4.93509338243 4.7488767447 5.28845085074\n",
      "posterior 0, 100, 200 7.63086889597 5.10023997855 5.00078424551\n",
      "calculation so far took 184.54784750938416  seconds\n",
      "step  279 of  1000\n",
      "7.63086889597 4.96032965015\n",
      "posterior -1, -100, -200 4.96032965015 4.79363279312 5.06949475608\n",
      "posterior 0, 100, 200 7.63086889597 5.10023997855 5.00078424551\n",
      "calculation so far took 185.26202011108398  seconds\n",
      "step  280 of  1000\n",
      "7.63086889597 4.87479708967\n",
      "posterior -1, -100, -200 4.87479708967 4.82991333994 5.15479488892\n",
      "posterior 0, 100, 200 7.63086889597 5.10023997855 5.00078424551\n",
      "calculation so far took 185.8961672782898  seconds\n",
      "step  281 of  1000\n"
     ]
    },
    {
     "name": "stderr",
     "output_type": "stream",
     "text": [
      "Traceback (most recent call last):\n",
      "  File \"/home/philcox/Chempy/Chempy/cem_function.py\", line 882, in posterior_function_many_stars\n",
      "    posterior, blobs = posterior_function_many_stars_real(changing_parameter,error_list,elements)\n",
      "  File \"/home/philcox/Chempy/Chempy/cem_function.py\", line 920, in posterior_function_many_stars_real\n",
      "    abundance_list,element_list = posterior_function_returning_predictions(args)\n",
      "  File \"/home/philcox/Chempy/Chempy/cem_function.py\", line 482, in posterior_function_returning_predictions\n",
      "    posterior, abundance_list, element_list = posterior_function_predictions(changing_parameter,a)\n",
      "  File \"/home/philcox/Chempy/Chempy/cem_function.py\", line 507, in posterior_function_predictions\n",
      "    abundance_list,elements_to_trace = cem_real2(a)\n",
      "  File \"/home/philcox/Chempy/Chempy/cem_function.py\", line 337, in cem_real2\n",
      "    a = shorten_sfr(a)\n",
      "  File \"/home/philcox/Chempy/Chempy/cem_function.py\", line 130, in shorten_sfr\n",
      "    assert fraction_of_mean_sfr > 0.05, ('The total SFR of the last age bin is below 5% of the mean SFR', 'stellar identifier = ', a.stellar_identifier, 'star time = ', star_time, 'model time = ', time_model )\n",
      "AssertionError: ('The total SFR of the last age bin is below 5% of the mean SFR', 'stellar identifier = ', 'Proto-sun', 'star time = ', 8.9400000000000013, 'model time = ', 9.0)\n",
      "Traceback (most recent call last):\n",
      "  File \"/home/philcox/Chempy/Chempy/cem_function.py\", line 882, in posterior_function_many_stars\n",
      "    posterior, blobs = posterior_function_many_stars_real(changing_parameter,error_list,elements)\n",
      "  File \"/home/philcox/Chempy/Chempy/cem_function.py\", line 920, in posterior_function_many_stars_real\n",
      "    abundance_list,element_list = posterior_function_returning_predictions(args)\n",
      "  File \"/home/philcox/Chempy/Chempy/cem_function.py\", line 482, in posterior_function_returning_predictions\n",
      "    posterior, abundance_list, element_list = posterior_function_predictions(changing_parameter,a)\n",
      "  File \"/home/philcox/Chempy/Chempy/cem_function.py\", line 492, in posterior_function_predictions\n",
      "    a = extract_parameters_and_priors(changing_parameter, a)\n",
      "  File \"/home/philcox/Chempy/Chempy/cem_function.py\", line 719, in extract_parameters_and_priors\n",
      "    assert False, '%s upper border is violated' %(name)\n",
      "AssertionError: outflow_feedback_fraction upper border is violated\n"
     ]
    },
    {
     "name": "stdout",
     "output_type": "stream",
     "text": [
      "7.63086889597 5.09708717716\n",
      "posterior -1, -100, -200 5.09708717716 4.8179721011 4.86101914307\n",
      "posterior 0, 100, 200 7.63086889597 5.10023997855 5.00078424551\n",
      "calculation so far took 186.57132697105408  seconds\n",
      "step  282 of  1000\n"
     ]
    },
    {
     "name": "stderr",
     "output_type": "stream",
     "text": [
      "Traceback (most recent call last):\n",
      "  File \"/home/philcox/Chempy/Chempy/cem_function.py\", line 882, in posterior_function_many_stars\n",
      "    posterior, blobs = posterior_function_many_stars_real(changing_parameter,error_list,elements)\n",
      "  File \"/home/philcox/Chempy/Chempy/cem_function.py\", line 920, in posterior_function_many_stars_real\n",
      "    abundance_list,element_list = posterior_function_returning_predictions(args)\n",
      "  File \"/home/philcox/Chempy/Chempy/cem_function.py\", line 482, in posterior_function_returning_predictions\n",
      "    posterior, abundance_list, element_list = posterior_function_predictions(changing_parameter,a)\n",
      "  File \"/home/philcox/Chempy/Chempy/cem_function.py\", line 507, in posterior_function_predictions\n",
      "    abundance_list,elements_to_trace = cem_real2(a)\n",
      "  File \"/home/philcox/Chempy/Chempy/cem_function.py\", line 337, in cem_real2\n",
      "    a = shorten_sfr(a)\n",
      "  File \"/home/philcox/Chempy/Chempy/cem_function.py\", line 130, in shorten_sfr\n",
      "    assert fraction_of_mean_sfr > 0.05, ('The total SFR of the last age bin is below 5% of the mean SFR', 'stellar identifier = ', a.stellar_identifier, 'star time = ', star_time, 'model time = ', time_model )\n",
      "AssertionError: ('The total SFR of the last age bin is below 5% of the mean SFR', 'stellar identifier = ', 'Proto-sun', 'star time = ', 8.9400000000000013, 'model time = ', 9.0)\n"
     ]
    },
    {
     "name": "stdout",
     "output_type": "stream",
     "text": [
      "7.63086889597 4.93608035075\n",
      "posterior -1, -100, -200 4.93608035075 4.86618114035 4.82079515833\n",
      "posterior 0, 100, 200 7.63086889597 5.10023997855 5.00078424551\n",
      "calculation so far took 187.41401648521423  seconds\n",
      "step  283 of  1000\n",
      "7.63086889597 5.39660322898\n",
      "posterior -1, -100, -200 5.39660322898 5.13996104971 4.83797358576\n",
      "posterior 0, 100, 200 7.63086889597 5.10023997855 5.00078424551\n",
      "calculation so far took 188.0487871170044  seconds\n",
      "step  284 of  1000\n"
     ]
    },
    {
     "name": "stderr",
     "output_type": "stream",
     "text": [
      "Traceback (most recent call last):\n",
      "  File \"/home/philcox/Chempy/Chempy/cem_function.py\", line 882, in posterior_function_many_stars\n",
      "    posterior, blobs = posterior_function_many_stars_real(changing_parameter,error_list,elements)\n",
      "  File \"/home/philcox/Chempy/Chempy/cem_function.py\", line 920, in posterior_function_many_stars_real\n",
      "    abundance_list,element_list = posterior_function_returning_predictions(args)\n",
      "  File \"/home/philcox/Chempy/Chempy/cem_function.py\", line 482, in posterior_function_returning_predictions\n",
      "    posterior, abundance_list, element_list = posterior_function_predictions(changing_parameter,a)\n",
      "  File \"/home/philcox/Chempy/Chempy/cem_function.py\", line 492, in posterior_function_predictions\n",
      "    a = extract_parameters_and_priors(changing_parameter, a)\n",
      "  File \"/home/philcox/Chempy/Chempy/cem_function.py\", line 719, in extract_parameters_and_priors\n",
      "    assert False, '%s upper border is violated' %(name)\n",
      "AssertionError: outflow_feedback_fraction upper border is violated\n"
     ]
    },
    {
     "name": "stdout",
     "output_type": "stream",
     "text": [
      "7.63086889597 5.21481703122\n",
      "posterior -1, -100, -200 5.21481703122 5.11697829503 5.10677934386\n",
      "posterior 0, 100, 200 7.63086889597 5.10023997855 5.00078424551\n",
      "calculation so far took 188.8001744747162  seconds\n",
      "step  285 of  1000\n"
     ]
    },
    {
     "name": "stderr",
     "output_type": "stream",
     "text": [
      "Traceback (most recent call last):\n",
      "  File \"/home/philcox/Chempy/Chempy/cem_function.py\", line 882, in posterior_function_many_stars\n",
      "    posterior, blobs = posterior_function_many_stars_real(changing_parameter,error_list,elements)\n",
      "  File \"/home/philcox/Chempy/Chempy/cem_function.py\", line 920, in posterior_function_many_stars_real\n",
      "    abundance_list,element_list = posterior_function_returning_predictions(args)\n",
      "  File \"/home/philcox/Chempy/Chempy/cem_function.py\", line 482, in posterior_function_returning_predictions\n",
      "    posterior, abundance_list, element_list = posterior_function_predictions(changing_parameter,a)\n",
      "  File \"/home/philcox/Chempy/Chempy/cem_function.py\", line 492, in posterior_function_predictions\n",
      "    a = extract_parameters_and_priors(changing_parameter, a)\n",
      "  File \"/home/philcox/Chempy/Chempy/cem_function.py\", line 719, in extract_parameters_and_priors\n",
      "    assert False, '%s upper border is violated' %(name)\n",
      "AssertionError: outflow_feedback_fraction upper border is violated\n"
     ]
    },
    {
     "name": "stdout",
     "output_type": "stream",
     "text": [
      "7.63086889597 5.05559670952\n",
      "posterior -1, -100, -200 5.05559670952 4.97688364357 4.99029968882\n",
      "posterior 0, 100, 200 7.63086889597 5.10023997855 5.00078424551\n",
      "calculation so far took 189.45209312438965  seconds\n",
      "step  286 of  1000\n",
      "7.63086889597 4.88555824435\n",
      "posterior -1, -100, -200 4.88555824435 5.04851021682 5.08929667599\n",
      "posterior 0, 100, 200 7.63086889597 5.10023997855 5.00078424551\n",
      "calculation so far took 190.0855495929718  seconds\n",
      "step  287 of  1000\n",
      "7.63086889597 5.07975302486\n",
      "posterior -1, -100, -200 5.07975302486 4.93328232262 5.09032051058\n",
      "posterior 0, 100, 200 7.63086889597 5.10023997855 5.00078424551\n",
      "calculation so far took 190.72365617752075  seconds\n",
      "step  288 of  1000\n",
      "7.63086889597 5.30869133305\n",
      "posterior -1, -100, -200 5.30869133305 4.81549982228 5.02609435236\n",
      "posterior 0, 100, 200 7.63086889597 5.10023997855 5.00078424551\n",
      "calculation so far took 191.35165786743164  seconds\n",
      "step  289 of  1000\n",
      "7.63086889597 5.19654762881\n",
      "posterior -1, -100, -200 5.19654762881 4.6407574529 4.93998746568\n",
      "posterior 0, 100, 200 7.63086889597 5.10023997855 5.00078424551\n",
      "calculation so far took 191.9826500415802  seconds\n",
      "step  290 of  1000\n",
      "7.63086889597 5.24376721314\n",
      "posterior -1, -100, -200 5.24376721314 4.62017144341 4.99421124751\n",
      "posterior 0, 100, 200 7.63086889597 5.10023997855 5.00078424551\n",
      "calculation so far took 192.60836148262024  seconds\n",
      "step  291 of  1000\n",
      "7.63086889597 5.29570709211\n",
      "posterior -1, -100, -200 5.29570709211 4.84018098394 5.13566142389\n",
      "posterior 0, 100, 200 7.63086889597 5.10023997855 5.00078424551\n",
      "calculation so far took 193.2359321117401  seconds\n",
      "step  292 of  1000\n",
      "7.63086889597 5.2568264436\n",
      "posterior -1, -100, -200 5.2568264436 4.76771470127 5.09247640141\n",
      "posterior 0, 100, 200 7.63086889597 5.10023997855 5.00078424551\n",
      "calculation so far took 193.86514616012573  seconds\n",
      "step  293 of  1000\n"
     ]
    },
    {
     "name": "stderr",
     "output_type": "stream",
     "text": [
      "Traceback (most recent call last):\n",
      "  File \"/home/philcox/Chempy/Chempy/cem_function.py\", line 882, in posterior_function_many_stars\n",
      "    posterior, blobs = posterior_function_many_stars_real(changing_parameter,error_list,elements)\n",
      "  File \"/home/philcox/Chempy/Chempy/cem_function.py\", line 920, in posterior_function_many_stars_real\n",
      "    abundance_list,element_list = posterior_function_returning_predictions(args)\n",
      "  File \"/home/philcox/Chempy/Chempy/cem_function.py\", line 482, in posterior_function_returning_predictions\n",
      "    posterior, abundance_list, element_list = posterior_function_predictions(changing_parameter,a)\n",
      "  File \"/home/philcox/Chempy/Chempy/cem_function.py\", line 492, in posterior_function_predictions\n",
      "    a = extract_parameters_and_priors(changing_parameter, a)\n",
      "  File \"/home/philcox/Chempy/Chempy/cem_function.py\", line 719, in extract_parameters_and_priors\n",
      "    assert False, '%s upper border is violated' %(name)\n",
      "AssertionError: outflow_feedback_fraction upper border is violated\n"
     ]
    },
    {
     "name": "stdout",
     "output_type": "stream",
     "text": [
      "7.63086889597 5.09554691466\n",
      "posterior -1, -100, -200 5.09554691466 4.72710754126 5.18246339049\n",
      "posterior 0, 100, 200 7.63086889597 5.10023997855 5.00078424551\n",
      "calculation so far took 194.52384972572327  seconds\n",
      "step  294 of  1000\n"
     ]
    },
    {
     "name": "stderr",
     "output_type": "stream",
     "text": [
      "Traceback (most recent call last):\n",
      "  File \"/home/philcox/Chempy/Chempy/cem_function.py\", line 882, in posterior_function_many_stars\n",
      "    posterior, blobs = posterior_function_many_stars_real(changing_parameter,error_list,elements)\n",
      "  File \"/home/philcox/Chempy/Chempy/cem_function.py\", line 920, in posterior_function_many_stars_real\n",
      "    abundance_list,element_list = posterior_function_returning_predictions(args)\n",
      "  File \"/home/philcox/Chempy/Chempy/cem_function.py\", line 482, in posterior_function_returning_predictions\n",
      "    posterior, abundance_list, element_list = posterior_function_predictions(changing_parameter,a)\n",
      "  File \"/home/philcox/Chempy/Chempy/cem_function.py\", line 492, in posterior_function_predictions\n",
      "    a = extract_parameters_and_priors(changing_parameter, a)\n",
      "  File \"/home/philcox/Chempy/Chempy/cem_function.py\", line 717, in extract_parameters_and_priors\n",
      "    assert False, '%s lower border is violated' %(name)\n",
      "AssertionError: outflow_feedback_fraction lower border is violated\n"
     ]
    },
    {
     "name": "stdout",
     "output_type": "stream",
     "text": [
      "7.63086889597 4.75444872889\n",
      "posterior -1, -100, -200 4.75444872889 4.80354653302 4.92464537684\n",
      "posterior 0, 100, 200 7.63086889597 5.10023997855 5.00078424551\n",
      "calculation so far took 195.17812848091125  seconds\n",
      "step  295 of  1000\n",
      "7.63086889597 4.86437856052\n",
      "posterior -1, -100, -200 4.86437856052 4.69427357452 5.01651056207\n",
      "posterior 0, 100, 200 7.63086889597 5.10023997855 5.00078424551\n",
      "calculation so far took 195.8083782196045  seconds\n",
      "step  296 of  1000\n",
      "7.63086889597 4.86737802637\n",
      "posterior -1, -100, -200 4.86737802637 4.82817206254 4.99591546968\n",
      "posterior 0, 100, 200 7.63086889597 5.10023997855 5.00078424551\n",
      "calculation so far took 196.43245935440063  seconds\n",
      "step  297 of  1000\n",
      "7.63086889597 4.93005928883\n",
      "posterior -1, -100, -200 4.93005928883 4.77865017482 5.08933631978\n",
      "posterior 0, 100, 200 7.63086889597 5.10023997855 5.00078424551\n",
      "calculation so far took 197.0610568523407  seconds\n",
      "step  298 of  1000\n"
     ]
    },
    {
     "name": "stderr",
     "output_type": "stream",
     "text": [
      "Traceback (most recent call last):\n",
      "  File \"/home/philcox/Chempy/Chempy/cem_function.py\", line 882, in posterior_function_many_stars\n",
      "    posterior, blobs = posterior_function_many_stars_real(changing_parameter,error_list,elements)\n",
      "  File \"/home/philcox/Chempy/Chempy/cem_function.py\", line 920, in posterior_function_many_stars_real\n",
      "    abundance_list,element_list = posterior_function_returning_predictions(args)\n",
      "  File \"/home/philcox/Chempy/Chempy/cem_function.py\", line 482, in posterior_function_returning_predictions\n",
      "    posterior, abundance_list, element_list = posterior_function_predictions(changing_parameter,a)\n",
      "  File \"/home/philcox/Chempy/Chempy/cem_function.py\", line 492, in posterior_function_predictions\n",
      "    a = extract_parameters_and_priors(changing_parameter, a)\n",
      "  File \"/home/philcox/Chempy/Chempy/cem_function.py\", line 719, in extract_parameters_and_priors\n",
      "    assert False, '%s upper border is violated' %(name)\n",
      "AssertionError: outflow_feedback_fraction upper border is violated\n"
     ]
    },
    {
     "name": "stdout",
     "output_type": "stream",
     "text": [
      "7.63086889597 4.75111022328\n",
      "posterior -1, -100, -200 4.75111022328 5.01325959726 5.04888139745\n",
      "posterior 0, 100, 200 7.63086889597 5.10023997855 5.00078424551\n",
      "calculation so far took 197.7144582271576  seconds\n",
      "step  299 of  1000\n",
      "7.63086889597 4.88723066592\n",
      "posterior -1, -100, -200 4.88723066592 5.00078424551 5.10023997855\n",
      "posterior 0, 100, 200 7.63086889597 5.10023997855 5.00078424551\n",
      "calculation so far took 198.65114760398865  seconds\n",
      "step  300 of  1000\n",
      "7.63086889597 4.97182945857\n",
      "posterior -1, -100, -200 4.97182945857 4.82936600536 5.05234326121\n",
      "posterior 0, 100, 200 7.63086889597 5.10023997855 5.00078424551\n",
      "calculation so far took 199.27826595306396  seconds\n",
      "step  301 of  1000\n",
      "7.63086889597 4.99107509501\n",
      "posterior -1, -100, -200 4.99107509501 4.72677866575 5.03061550629\n",
      "posterior 0, 100, 200 7.63086889597 5.10023997855 5.00078424551\n",
      "calculation so far took 199.90980339050293  seconds\n",
      "step  302 of  1000\n"
     ]
    },
    {
     "name": "stderr",
     "output_type": "stream",
     "text": [
      "Traceback (most recent call last):\n",
      "  File \"/home/philcox/Chempy/Chempy/cem_function.py\", line 882, in posterior_function_many_stars\n",
      "    posterior, blobs = posterior_function_many_stars_real(changing_parameter,error_list,elements)\n",
      "  File \"/home/philcox/Chempy/Chempy/cem_function.py\", line 920, in posterior_function_many_stars_real\n",
      "    abundance_list,element_list = posterior_function_returning_predictions(args)\n",
      "  File \"/home/philcox/Chempy/Chempy/cem_function.py\", line 482, in posterior_function_returning_predictions\n",
      "    posterior, abundance_list, element_list = posterior_function_predictions(changing_parameter,a)\n",
      "  File \"/home/philcox/Chempy/Chempy/cem_function.py\", line 507, in posterior_function_predictions\n",
      "    abundance_list,elements_to_trace = cem_real2(a)\n",
      "  File \"/home/philcox/Chempy/Chempy/cem_function.py\", line 337, in cem_real2\n",
      "    a = shorten_sfr(a)\n",
      "  File \"/home/philcox/Chempy/Chempy/cem_function.py\", line 130, in shorten_sfr\n",
      "    assert fraction_of_mean_sfr > 0.05, ('The total SFR of the last age bin is below 5% of the mean SFR', 'stellar identifier = ', a.stellar_identifier, 'star time = ', star_time, 'model time = ', time_model )\n",
      "AssertionError: ('The total SFR of the last age bin is below 5% of the mean SFR', 'stellar identifier = ', 'Proto-sun', 'star time = ', 8.9400000000000013, 'model time = ', 9.0)\n"
     ]
    },
    {
     "name": "stdout",
     "output_type": "stream",
     "text": [
      "7.63086889597 4.85039825402\n",
      "posterior -1, -100, -200 4.85039825402 4.68579278799 4.86846171193\n",
      "posterior 0, 100, 200 7.63086889597 5.10023997855 5.00078424551\n",
      "calculation so far took 200.68521738052368  seconds\n",
      "blob shape =  (64, 303, 3, 1) probably some runs did not return results and were stored anyway.\n",
      "The chain has a length of 303 iterations, each iteration having 64 evaluations/walkers\n",
      "Mean posteriors at the beginning and the end of the chain:\n",
      "4.85039825402 7.63086889597\n",
      "Mean posteriors after the burn-in tail is cut out:\n",
      "4.85039825402 4.75142673474\n",
      "We are left with a sample of 4992 posterior evaluations from the converged MCMC chain\n",
      "We have 4992 iterations good enough posterior, their posteriors range from\n",
      "7.80438802239 -4.44778308926\n",
      "Highest posterior was obtained at parameters:  [[-2.75852632 -2.9766413  -0.83854125 -0.43673364  0.58351199  0.5487408 ]]\n",
      "Number of unique posterior values:  2599\n",
      "Inferred marginalized parameter distributions are:\n",
      "0 -2.75728342622 +- 0.085228822635\n",
      "1 -3.0006405201 +- 0.119022248156\n",
      "2 -0.839246833355 +- 0.292017533592\n",
      "3 -0.393671597417 +- 0.276690178192\n",
      "4 0.578429802286 +- 0.0899975059936\n",
      "5 0.52953254167 +- 0.098233306449\n"
     ]
    },
    {
     "data": {
      "text/plain": [
       "<matplotlib.figure.Figure at 0x7fb81ac9f0b8>"
      ]
     },
     "metadata": {},
     "output_type": "display_data"
    },
    {
     "data": {
      "text/plain": [
       "<matplotlib.figure.Figure at 0x7fb8112aff28>"
      ]
     },
     "metadata": {},
     "output_type": "display_data"
    },
    {
     "data": {
      "image/png": "[encoded data removed]",
      "text/plain": [
       "<matplotlib.figure.Figure at 0x7fb810d5a9b0>"
      ]
     },
     "metadata": {},
     "output_type": "display_data"
    }
   ],
   "source": [
    "from Chempy.wrapper import multi_star_optimization\n",
    "from Chempy.plot_mcmc import plot_mcmc_chain_with_prior,restructure_chain\n",
    "abundances = multi_star_optimization()\n",
    "restructure_chain('mcmc/')\n",
    "plot_mcmc_chain_with_prior('mcmc/',use_prior=True,only_first_star = False,plot_true_parameters=False,plot_only_SSP_parameter=False)"
   ]
  },
  {
   "cell_type": "code",
   "execution_count": null,
   "metadata": {
    "collapsed": true
   },
   "outputs": [],
   "source": []
  },
  {
   "cell_type": "code",
   "execution_count": null,
   "metadata": {
    "collapsed": true
   },
   "outputs": [],
   "source": []
  },
  {
   "cell_type": "code",
   "execution_count": null,
   "metadata": {
    "collapsed": true
   },
   "outputs": [],
   "source": []
  },
  {
   "cell_type": "code",
   "execution_count": null,
   "metadata": {
    "collapsed": true
   },
   "outputs": [],
   "source": []
  },
  {
   "cell_type": "code",
   "execution_count": null,
   "metadata": {
    "collapsed": true
   },
   "outputs": [],
   "source": []
  }
 ],
 "metadata": {
  "kernelspec": {
   "display_name": "Python 3",
   "language": "python",
   "name": "python3"
  },
  "language_info": {
   "codemirror_mode": {
    "name": "ipython",
    "version": 3
   },
   "file_extension": ".py",
   "mimetype": "text/x-python",
   "name": "python",
   "nbconvert_exporter": "python",
   "pygments_lexer": "ipython3",
   "version": "3.6.1"
  }
 },
 "nbformat": 4,
 "nbformat_minor": 2
}
