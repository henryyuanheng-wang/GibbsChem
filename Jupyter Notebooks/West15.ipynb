{
 "cells": [
  {
   "cell_type": "code",
   "execution_count": 1,
   "metadata": {},
   "outputs": [
    {
     "name": "stdout",
     "output_type": "stream",
     "text": [
      "Populating the interactive namespace from numpy and matplotlib\n"
     ]
    }
   ],
   "source": [
    "%pylab inline\n",
    "dat = np.genfromtxt('Chempy/input/yields/West15/ertl.txt',skip_header=102,skip_footer=209-104,dtype='<U8')"
   ]
  },
  {
   "cell_type": "code",
   "execution_count": 160,
   "metadata": {},
   "outputs": [
    {
     "name": "stdout",
     "output_type": "stream",
     "text": [
      "indexing['H'] =  ['H1', 'H2', 'He3', 'He4']\n",
      "indexing['He'] =  ['He3', 'He4']\n",
      "indexing['Li'] =  ['Li6', 'Li7']\n",
      "indexing['Be'] =  ['Be9']\n",
      "indexing['B'] =  ['Be9', 'B10', 'B11']\n",
      "indexing['C'] =  ['C12', 'C13']\n",
      "indexing['N'] =  ['N14', 'N15']\n",
      "indexing['O'] =  ['O16', 'O17', 'O18']\n",
      "indexing['F'] =  ['F19']\n",
      "indexing['Ne'] =  ['Ne20', 'Ne21', 'Ne22']\n",
      "indexing['Na'] =  ['Na23']\n",
      "indexing['Mg'] =  ['Mg24', 'Mg25', 'Mg26']\n",
      "indexing['Al'] =  ['Al27']\n",
      "indexing['Si'] =  ['Si28', 'Si29', 'Si30']\n",
      "indexing['P'] =  ['P31']\n",
      "indexing['S'] =  ['Si28', 'Si29', 'Si30']\n",
      "indexing['Cl'] =  ['Cl35', 'Cl37']\n",
      "indexing['Ar'] =  ['Ar36', 'Ar38', 'Ar40']\n",
      "indexing['K'] =  ['K39', 'K40', 'K41']\n",
      "indexing['Ca'] =  ['Ca40', 'Ca42', 'Ca43', 'Ca44', 'Ca46', 'Ca48']\n",
      "indexing['Sc'] =  ['Sc45']\n",
      "indexing['Ti'] =  ['Ti46', 'Ti47', 'Ti48', 'Ti49', 'Ti50']\n",
      "indexing['V'] =  ['V50', 'V51']\n",
      "indexing['Cr'] =  ['Cr50', 'Cr52', 'Cr53', 'Cr54']\n",
      "indexing['Mn'] =  ['Mn55']\n",
      "indexing['Fe'] =  ['Fe54', 'Fe56', 'Fe57', 'Fe58']\n",
      "indexing['Co'] =  ['Co59']\n",
      "indexing['Ni'] =  ['Ni58', 'Ni60', 'Ni61', 'Ni62', 'Ni64']\n",
      "indexing['Cu'] =  ['Cu63', 'Cu65']\n",
      "indexing['Zn'] =  ['Zn64', 'Zn66', 'Zn67', 'Zn68', 'Zn70']\n",
      "indexing['Ga'] =  ['Ga69', 'Ga71']\n",
      "indexing['Ge'] =  ['Ge70', 'Ge72', 'Ge73', 'Ge74', 'Ge76']\n"
     ]
    }
   ],
   "source": [
    "for el in elements:\n",
    "    list = []\n",
    "    stop=0\n",
    "    for item in dat:\n",
    "        if el in item:\n",
    "            list.append(item)\n",
    "            stop+=1\n",
    "        if el not in item and stop != 0:\n",
    "            break\n",
    "    print(\"indexing['%s'] = \" %(el),list)"
   ]
  },
  {
   "cell_type": "code",
   "execution_count": 157,
   "metadata": {
    "collapsed": true
   },
   "outputs": [],
   "source": [
    "elements = ['H','He','Li','Be','B','C','N','O','F','Ne','Na','Mg','Al','Si','P','S','Cl','Ar','K','Ca','Sc','Ti','V','Cr','Mn','Fe','Co','Ni','Cu','Zn','Ga','Ge']"
   ]
  },
  {
   "cell_type": "code",
   "execution_count": 4,
   "metadata": {},
   "outputs": [
    {
     "name": "stdout",
     "output_type": "stream",
     "text": [
      "C:\\Users\\Oliver\\MPIA\\ChempyScoring\\Chempy\\input\\yields\\West15\n"
     ]
    }
   ],
   "source": [
    "cd Chempy/input/yields/West15/\n"
   ]
  },
  {
   "cell_type": "code",
   "execution_count": 5,
   "metadata": {},
   "outputs": [],
   "source": [
    "import gch_wh13\n",
    "z = 1\n",
    "s = gch_wh13.GCHWH13(.1)\n"
   ]
  },
  {
   "cell_type": "code",
   "execution_count": 3,
   "metadata": {},
   "outputs": [
    {
     "name": "stdout",
     "output_type": "stream",
     "text": [
      "Populating the interactive namespace from numpy and matplotlib\n"
     ]
    },
    {
     "data": {
      "text/plain": [
       "['H1',\n",
       " 'H2',\n",
       " 'He3',\n",
       " 'He4',\n",
       " 'Li6',\n",
       " 'Li7',\n",
       " 'Be9',\n",
       " 'B10',\n",
       " 'B11',\n",
       " 'C12',\n",
       " 'C13',\n",
       " 'N14',\n",
       " 'N15',\n",
       " 'O16',\n",
       " 'O17',\n",
       " 'O18',\n",
       " 'F19',\n",
       " 'Ne20',\n",
       " 'Ne21',\n",
       " 'Ne22',\n",
       " 'Na23',\n",
       " 'Mg24',\n",
       " 'Mg25',\n",
       " 'Mg26',\n",
       " 'Al27',\n",
       " 'Si28',\n",
       " 'Si29',\n",
       " 'Si30',\n",
       " 'P31',\n",
       " 'S32',\n",
       " 'S33',\n",
       " 'S34',\n",
       " 'S36',\n",
       " 'Cl35',\n",
       " 'Cl37',\n",
       " 'Ar36',\n",
       " 'Ar38',\n",
       " 'Ar40',\n",
       " 'K39',\n",
       " 'K40',\n",
       " 'K41',\n",
       " 'Ca40',\n",
       " 'Ca42',\n",
       " 'Ca43',\n",
       " 'Ca44',\n",
       " 'Ca46',\n",
       " 'Ca48',\n",
       " 'Sc45',\n",
       " 'Ti46',\n",
       " 'Ti47',\n",
       " 'Ti48',\n",
       " 'Ti49',\n",
       " 'Ti50',\n",
       " 'V50',\n",
       " 'V51',\n",
       " 'Cr50',\n",
       " 'Cr52',\n",
       " 'Cr53',\n",
       " 'Cr54',\n",
       " 'Mn55',\n",
       " 'Fe54',\n",
       " 'Fe56',\n",
       " 'Fe57',\n",
       " 'Fe58',\n",
       " 'Co59',\n",
       " 'Ni58',\n",
       " 'Ni60',\n",
       " 'Ni61',\n",
       " 'Ni62',\n",
       " 'Ni64',\n",
       " 'Cu63',\n",
       " 'Cu65',\n",
       " 'Zn64',\n",
       " 'Zn66',\n",
       " 'Zn67',\n",
       " 'Zn68',\n",
       " 'Zn70',\n",
       " 'Ga69',\n",
       " 'Ga71',\n",
       " 'Ge70',\n",
       " 'Ge72',\n",
       " 'Ge73',\n",
       " 'Ge74',\n",
       " 'Ge76']"
      ]
     },
     "execution_count": 3,
     "metadata": {},
     "output_type": "execute_result"
    }
   ],
   "source": [
    "indexing = {}\n",
    "indexing['H'] =  ['H1', 'H2']\n",
    "indexing['He'] =  ['He3', 'He4']\n",
    "indexing['Li'] =  ['Li6', 'Li7']\n",
    "indexing['Be'] =  ['Be9']\n",
    "indexing['B'] =  ['B10', 'B11']\n",
    "indexing['C'] =  ['C12', 'C13']\n",
    "indexing['N'] =  ['N14', 'N15']\n",
    "indexing['O'] =  ['O16', 'O17', 'O18']\n",
    "indexing['F'] =  ['F19']\n",
    "indexing['Ne'] =  ['Ne20', 'Ne21', 'Ne22']\n",
    "indexing['Na'] =  ['Na23']\n",
    "indexing['Mg'] =  ['Mg24', 'Mg25', 'Mg26']\n",
    "indexing['Al'] =  ['Al27']\n",
    "indexing['Si'] =  ['Si28', 'Si29', 'Si30']\n",
    "indexing['P'] =  ['P31']\n",
    "indexing['S'] =  ['S32','S33','S34','S36']\n",
    "indexing['Cl'] =  ['Cl35', 'Cl37']\n",
    "indexing['Ar'] =  ['Ar36', 'Ar38', 'Ar40']\n",
    "indexing['K'] =  ['K39', 'K40', 'K41']\n",
    "indexing['Ca'] =  ['Ca40', 'Ca42', 'Ca43', 'Ca44', 'Ca46', 'Ca48']\n",
    "indexing['Sc'] =  ['Sc45']\n",
    "indexing['Ti'] =  ['Ti46', 'Ti47', 'Ti48', 'Ti49', 'Ti50']\n",
    "indexing['V'] =  ['V50', 'V51']\n",
    "indexing['Cr'] =  ['Cr50', 'Cr52', 'Cr53', 'Cr54']\n",
    "indexing['Mn'] =  ['Mn55']\n",
    "indexing['Fe'] =  ['Fe54', 'Fe56', 'Fe57', 'Fe58']\n",
    "indexing['Co'] =  ['Co59']\n",
    "indexing['Ni'] =  ['Ni58', 'Ni60', 'Ni61', 'Ni62', 'Ni64']\n",
    "indexing['Cu'] =  ['Cu63', 'Cu65']\n",
    "indexing['Zn'] =  ['Zn64', 'Zn66', 'Zn67', 'Zn68', 'Zn70']\n",
    "indexing['Ga'] =  ['Ga69', 'Ga71']\n",
    "indexing['Ge'] =  ['Ge70', 'Ge72', 'Ge73', 'Ge74', 'Ge76']\n",
    "%pylab inline\n",
    "from matplotlib.cbook import flatten\n",
    "list(flatten(list(indexing.values())))"
   ]
  },
  {
   "cell_type": "code",
   "execution_count": null,
   "metadata": {
    "collapsed": true
   },
   "outputs": [],
   "source": [
    "s = gch_wh13.GCHWH13"
   ]
  },
  {
   "cell_type": "code",
   "execution_count": 20,
   "metadata": {},
   "outputs": [
    {
     "data": {
      "text/plain": [
       "0.00027025323607301934"
      ]
     },
     "execution_count": 20,
     "metadata": {},
     "output_type": "execute_result"
    }
   ],
   "source": [
    "s.c12"
   ]
  },
  {
   "cell_type": "code",
   "execution_count": null,
   "metadata": {
    "collapsed": true
   },
   "outputs": [],
   "source": []
  },
  {
   "cell_type": "code",
   "execution_count": 51,
   "metadata": {},
   "outputs": [
    {
     "name": "stdout",
     "output_type": "stream",
     "text": [
      "/home/philcox/Chempy\n"
     ]
    }
   ],
   "source": [
    "cd ~/Chempy"
   ]
  },
  {
   "cell_type": "code",
   "execution_count": 4,
   "metadata": {},
   "outputs": [
    {
     "name": "stdout",
     "output_type": "stream",
     "text": [
      "Populating the interactive namespace from numpy and matplotlib\n"
     ]
    }
   ],
   "source": [
    "# Import initial abundance package\n",
    "import os\n",
    "os.chdir('Chempy/input/yields/West15')\n",
    "import gch_wh13\n",
    "os.chdir('../../../../')\n",
    "\n",
    "indexing = {}\n",
    "indexing['H'] =  ['H1', 'H2']\n",
    "indexing['He'] =  ['He3', 'He4']\n",
    "indexing['Li'] =  ['Li6', 'Li7']\n",
    "indexing['Be'] =  ['Be9']\n",
    "indexing['B'] =  ['B10', 'B11']\n",
    "indexing['C'] =  ['C12', 'C13']\n",
    "indexing['N'] =  ['N14', 'N15']\n",
    "indexing['O'] =  ['O16', 'O17', 'O18']\n",
    "indexing['F'] =  ['F19']\n",
    "indexing['Ne'] =  ['Ne20', 'Ne21', 'Ne22']\n",
    "indexing['Na'] =  ['Na23']\n",
    "indexing['Mg'] =  ['Mg24', 'Mg25', 'Mg26']\n",
    "indexing['Al'] =  ['Al27']\n",
    "indexing['Si'] =  ['Si28', 'Si29', 'Si30']\n",
    "indexing['P'] =  ['P31']\n",
    "indexing['S'] =  ['S32','S33','S34','S36']\n",
    "indexing['Cl'] =  ['Cl35', 'Cl37']\n",
    "indexing['Ar'] =  ['Ar36', 'Ar38', 'Ar40']\n",
    "indexing['K'] =  ['K39', 'K40', 'K41']\n",
    "indexing['Ca'] =  ['Ca40', 'Ca42', 'Ca43', 'Ca44', 'Ca46', 'Ca48']\n",
    "indexing['Sc'] =  ['Sc45']\n",
    "indexing['Ti'] =  ['Ti46', 'Ti47', 'Ti48', 'Ti49', 'Ti50']\n",
    "indexing['V'] =  ['V50', 'V51']\n",
    "indexing['Cr'] =  ['Cr50', 'Cr52', 'Cr53', 'Cr54']\n",
    "indexing['Mn'] =  ['Mn55']\n",
    "indexing['Fe'] =  ['Fe54', 'Fe56', 'Fe57', 'Fe58']\n",
    "indexing['Co'] =  ['Co59']\n",
    "indexing['Ni'] =  ['Ni58', 'Ni60', 'Ni61', 'Ni62', 'Ni64']\n",
    "indexing['Cu'] =  ['Cu63', 'Cu65']\n",
    "indexing['Zn'] =  ['Zn64', 'Zn66', 'Zn67', 'Zn68', 'Zn70']\n",
    "indexing['Ga'] =  ['Ga69', 'Ga71']\n",
    "indexing['Ge'] =  ['Ge70', 'Ge72', 'Ge73', 'Ge74', 'Ge76']\n",
    "\n",
    "%pylab inline\n",
    "\n",
    "#import Chempy.input.yields.West15 \n",
    "   \n",
    "\n",
    "data = np.genfromtxt('Chempy/input/yields/West15/ertl.txt',skip_header=102,names=True)\n",
    "\n",
    "z_solar = 0.0153032\n",
    "\n",
    "masses = np.unique(data['mass'])\n",
    "scaled_z = np.unique(data['metallicity'])\n",
    "metallicities = scaled_z*z_solar\n",
    "\n",
    "elements = [key for key in indexing.keys()]\n",
    "\n"
   ]
  },
  {
   "cell_type": "code",
   "execution_count": null,
   "metadata": {},
   "outputs": [],
   "source": []
  },
  {
   "cell_type": "code",
   "execution_count": null,
   "metadata": {},
   "outputs": [],
   "source": []
  },
  {
   "cell_type": "code",
   "execution_count": 49,
   "metadata": {},
   "outputs": [
    {
     "name": "stderr",
     "output_type": "stream",
     "text": [
      "C:\\Users\\Oliver\\MPIA\\ChempyScoring\\Chempy\\input\\yields\\West15\\gch_wh13.py:328: RuntimeWarning: divide by zero encountered in log10\n",
      "  f_matrix[9] = (np.log10(x) + 2.4983277)\n"
     ]
    }
   ],
   "source": [
    "# Output table\n",
    "table = {}\n",
    "\n",
    "for z_index,z in enumerate(metallicities): # Define table for each metallicity\n",
    "    # Compute initial abundances:\n",
    "    \n",
    "    init_abun = gch_wh13.GCHWH13(scaled_z[z_index]) # Compute rescaled initial abundances for each element\n",
    "    \n",
    "    \n",
    "    yield_subtable = {}\n",
    "    yield_subtable['mass_in_remnants'] = []\n",
    "    yield_subtable['Mass'] = masses\n",
    "    \n",
    "    for el in elements:\n",
    "        yield_subtable[el]=[]\n",
    "        \n",
    "    for mass in masses:\n",
    "        for r,row in enumerate(data):\n",
    "            if row['mass'] == mass and row['metallicity']==scaled_z[z_index]:\n",
    "                row_index = r\n",
    "                break\n",
    "        \n",
    "        remnant = data['remnant'][row_index]\n",
    "        \n",
    "        yield_subtable['mass_in_remnants'].append(remnant/mass)\n",
    "        \n",
    "        # Add each isotope into table\n",
    "        for element in elements:\n",
    "            el_net_yield = 0\n",
    "            for isotope in indexing[element]: # Sum contributions from each element\n",
    "                isotope_mass = data[isotope][r]\n",
    "                isotope_init_mass = init_abun[isotope]*(mass-remnant) # Find total initial mass in unprocessed mass\n",
    "                isotope_net = isotope_mass-isotope_init_mass # find net\n",
    "                isotope_net_yield = isotope_net / (mass-remnant)\n",
    "                el_net_yield +=isotope_net_yield # combine for total isotope yield\n",
    "            yield_subtable[element].append(el_net_yield)\n",
    "           \n",
    "    \n",
    "    summed_yields = np.zeros(len(masses))\n",
    "    for element in elements:\n",
    "        yield_subtable[element] = np.asarray(yield_subtable[element])\n",
    "        summed_yields+=yield_subtable[element]\n",
    "    \n",
    "    yield_subtable['mass_in_remnants'] = np.asarray(yield_subtable['mass_in_remnants'])\n",
    "    yield_subtable['unprocessed_mass_in_winds'] = 1.0-yield_subtable['mass_in_remnants']-summed_yields\n",
    "            \n",
    "    \n",
    "    # Restrucuture table\n",
    "    all_keys = ['Mass','mass_in_remnants','unprocessed_mass_in_winds']+elements\n",
    "    \n",
    "    list_of_arrays = [yield_subtable[key] for key in all_keys]\n",
    "    restructure_subtable = np.core.records.fromarrays(list_of_arrays,names=all_keys)\n",
    "            \n",
    "    table[z] = restructure_subtable"
   ]
  },
  {
   "cell_type": "code",
   "execution_count": null,
   "metadata": {
    "collapsed": true
   },
   "outputs": [],
   "source": []
  },
  {
   "cell_type": "code",
   "execution_count": 50,
   "metadata": {},
   "outputs": [
    {
     "name": "stdout",
     "output_type": "stream",
     "text": [
      "Mass 1.50e+01 1.50e+01\n",
      "mass_in_remnants 1.16e-01 1.09e-01\n",
      "unprocessed_mass_in_winds 8.84e-01 8.91e-01\n",
      "Al 2.93e-04 6.47e-05\n",
      "Ar 3.88e-04 6.80e-04\n",
      "B 4.72e-08 -4.12e-09\n",
      "Be -1.90e-10 -1.32e-10\n",
      "C 8.04e-03 1.10e-02\n",
      "Ca 2.76e-04 4.97e-04\n",
      "Cl 9.56e-06 1.15e-05\n",
      "Co 3.00e-05 1.67e-05\n",
      "Cr 8.86e-05 1.46e-04\n",
      "Cu 1.01e-05 2.00e-06\n",
      "F 9.63e-07 -1.59e-07\n",
      "Fe 6.88e-03 6.95e-03\n",
      "Ga 4.37e-07 9.82e-08\n",
      "Ge 7.03e-07 2.18e-07\n",
      "H -1.65e-01 -1.43e-01\n",
      "He 7.65e-02 7.77e-02\n",
      "K 4.59e-06 4.81e-06\n",
      "Li 1.90e-08 -8.93e-09\n",
      "Mg 3.90e-03 2.08e-03\n",
      "Mn 3.69e-05 8.21e-05\n",
      "N 2.34e-03 2.38e-03\n",
      "Na 1.12e-04 6.07e-05\n",
      "Ne 7.52e-03 1.69e-03\n",
      "Ni 5.79e-04 4.96e-04\n",
      "O 5.03e-02 2.60e-02\n",
      "P 6.20e-05 6.18e-05\n",
      "S 2.62e-03 4.05e-03\n",
      "Sc 1.16e-07 8.87e-08\n",
      "Si 5.00e-03 8.60e-03\n",
      "Ti 1.47e-05 1.33e-05\n",
      "V 1.32e-06 1.92e-06\n",
      "Zn 6.86e-06 3.34e-06\n"
     ]
    }
   ],
   "source": [
    "\n",
    "\n",
    "from Chempy.yields import SN2_feedback\n",
    "basic_sn2 = SN2_feedback()\n",
    "getattr(basic_sn2,'chieffi04_net')()\n",
    "\n",
    "for item in basic_sn2.table[0.02].dtype.names:\n",
    "    if item in table[metallicities[-3]].dtype.names:\n",
    "        print('%s %.2e %.2e' %(item,table[metallicities[-3]][item][1],basic_sn2.table[0.02][item][1]))"
   ]
  },
  {
   "cell_type": "code",
   "execution_count": 14,
   "metadata": {},
   "outputs": [
    {
     "data": {
      "text/plain": [
       "0.019265657576"
      ]
     },
     "execution_count": 14,
     "metadata": {},
     "output_type": "execute_result"
    }
   ],
   "source": [
    "metallicities[-3]"
   ]
  },
  {
   "cell_type": "code",
   "execution_count": 4,
   "metadata": {},
   "outputs": [
    {
     "data": {
      "text/plain": [
       "'C:\\\\Users\\\\Oliver\\\\MPIA\\\\ChempyScoring'"
      ]
     },
     "execution_count": 4,
     "metadata": {},
     "output_type": "execute_result"
    }
   ],
   "source": [
    "pwd"
   ]
  },
  {
   "cell_type": "code",
   "execution_count": 89,
   "metadata": {},
   "outputs": [
    {
     "data": {
      "text/plain": [
       "array([  0.00000000e+00,   1.00000000e-04,   1.00000000e-03,\n",
       "         3.16228000e-03,   1.00000000e-02,   3.16228000e-02,\n",
       "         1.00000000e-01,   1.58489000e-01,   2.51189000e-01,\n",
       "         3.98107000e-01,   6.30957000e-01,   1.00000000e+00,\n",
       "         1.25893000e+00,   1.58489000e+00])"
      ]
     },
     "execution_count": 89,
     "metadata": {},
     "output_type": "execute_result"
    }
   ],
   "source": [
    "data['metallicity'][:15]\n",
    "np.unique(data['metallicity'])[:-1]"
   ]
  },
  {
   "cell_type": "code",
   "execution_count": 100,
   "metadata": {},
   "outputs": [
    {
     "name": "stderr",
     "output_type": "stream",
     "text": [
      " [GCHWH13] Abundance set generated in 34 ms.\n",
      " [GCHWH13] X = 0.750274, Y = 0.249259, Z = 0.000467267\n"
     ]
    },
    {
     "name": "stdout",
     "output_type": "stream",
     "text": [
      "14.3379698495 6.26688\n"
     ]
    }
   ],
   "source": [
    "y = data[0]\n",
    "y['H1']\n",
    "z=metallicities[-1]\n",
    "z\n",
    "init_abun=gch_wh13.GCHWH13(z)\n",
    "print(init_abun['H1']*(mass-remnant),y['H1'])"
   ]
  },
  {
   "cell_type": "code",
   "execution_count": 164,
   "metadata": {
    "collapsed": true
   },
   "outputs": [],
   "source": [
    "np.unique?"
   ]
  },
  {
   "cell_type": "code",
   "execution_count": null,
   "metadata": {
    "collapsed": true
   },
   "outputs": [],
   "source": []
  },
  {
   "cell_type": "code",
   "execution_count": 199,
   "metadata": {},
   "outputs": [
    {
     "data": {
      "text/plain": [
       "<matplotlib.legend.Legend at 0x1653146e278>"
      ]
     },
     "execution_count": 199,
     "metadata": {},
     "output_type": "execute_result"
    },
    {
     "data": {
      "image/png": "[encoded data removed]",
      "text/plain": [
       "<matplotlib.figure.Figure at 0x16531457438>"
      ]
     },
     "metadata": {},
     "output_type": "display_data"
    }
   ],
   "source": [
    "plt.figure()\n",
    "for z in table.keys():\n",
    "    plt.scatter(masses,table[z]['mass_in_remnants'],label=z,marker='x')\n",
    "plt.legend()\n"
   ]
  },
  {
   "cell_type": "code",
   "execution_count": 205,
   "metadata": {},
   "outputs": [
    {
     "data": {
      "text/plain": [
       "1.5303200000000001e-06"
      ]
     },
     "execution_count": 205,
     "metadata": {},
     "output_type": "execute_result"
    }
   ],
   "source": [
    "table[metallicities[1]]['mass_in_remnants']\n",
    "metallicities[1]"
   ]
  },
  {
   "cell_type": "code",
   "execution_count": null,
   "metadata": {
    "collapsed": true
   },
   "outputs": [],
   "source": []
  },
  {
   "cell_type": "code",
   "execution_count": 45,
   "metadata": {},
   "outputs": [
    {
     "data": {
      "text/plain": [
       "1.3388199999999999"
      ]
     },
     "execution_count": 45,
     "metadata": {},
     "output_type": "execute_result"
    }
   ],
   "source": [
    "table[metallicities[-1]][0]['mass_in_remnants']*mass"
   ]
  },
  {
   "cell_type": "code",
   "execution_count": 21,
   "metadata": {},
   "outputs": [],
   "source": [
    "mass = 13\n",
    "scaled_metallicity = 1.99526\n",
    "z = scaled_metallicity*z_solar\n",
    "remnant = 1.33882\n",
    "\n",
    "init_abun = gch_wh13.GCHWH13(scaled_metallicity,silent=True)\n",
    "\n",
    "net_yields = []\n",
    "for el in elements:\n",
    "    \n",
    "    el_yield = 0\n",
    "    for isotope in indexing[el]:\n",
    "        el_yield += data[isotope][0]-init_abun[isotope]*(mass-remnant)\n",
    "    el_yield/=(mass-remnant)\n",
    "    net_yields.append(el_yield)"
   ]
  },
  {
   "cell_type": "code",
   "execution_count": 40,
   "metadata": {},
   "outputs": [
    {
     "name": "stdout",
     "output_type": "stream",
     "text": [
      "1.99526\n",
      "H -1.54147784215 -0.132188838707\n",
      "He 0.831058279653 0.0712670827183\n",
      "Li 1.49005530872e-07 1.27779119156e-08\n",
      "Be -3.89542114903e-09 -3.34050340448e-10\n",
      "B 3.4218884584e-07 2.93442726929e-08\n",
      "C 0.0519278528535 0.00445305302323\n",
      "N 0.0374918764325 0.00321510142477\n",
      "O 0.300291182959 0.0257513547479\n",
      "F 3.89131029926e-06 3.3369781611e-07\n",
      "Ne 0.0640668413159 0.00549402730391\n",
      "Na 0.00276648258291 0.000237238648483\n",
      "Mg 0.0249294081272 0.00213781179325\n",
      "Al 0.00191486961646 0.000164208906513\n",
      "Si 0.0628205764718 0.00538715434216\n",
      "P 0.000671353156774 5.75716314107e-05\n",
      "S 0.0407506954875 0.00349456019781\n",
      "Cl 0.000162388901966 1.39255977496e-05\n",
      "Ar 0.00648215777334 0.000555874943474\n",
      "K 0.000118549220969 1.01661427891e-05\n",
      "Ca 0.00412922031384 0.000354099697787\n",
      "Sc 1.20267694561e-06 1.03135098302e-07\n",
      "Ti 0.000158505764373 1.35926007808e-05\n",
      "V 2.50840241338e-05 2.15107082935e-06\n",
      "Cr 0.00142239236766 0.000121976709703\n",
      "Mn 0.000695524950205 5.96444742475e-05\n",
      "Fe 0.0974234342706 0.00835450908661\n",
      "Co 0.000431740065291 3.70237030293e-05\n",
      "Ni 0.0114964760428 0.000985875875579\n",
      "Cu 0.000123427715913 1.05844962442e-05\n",
      "Zn 8.41614710668e-05 7.21723453945e-06\n",
      "Ga 5.91528184147e-06 5.07262716249e-07\n",
      "Ge 8.71138407153e-06 7.47041386166e-07\n"
     ]
    }
   ],
   "source": [
    "x=table[metallicities[-1]][0]\n",
    "\n",
    "for i in range(3,len(x)):\n",
    "    print(x.dtype.names[i],x[i],net_yields[i-3])"
   ]
  },
  {
   "cell_type": "code",
   "execution_count": null,
   "metadata": {
    "collapsed": true
   },
   "outputs": [],
   "source": []
  },
  {
   "cell_type": "code",
   "execution_count": null,
   "metadata": {
    "collapsed": true
   },
   "outputs": [],
   "source": []
  },
  {
   "cell_type": "code",
   "execution_count": null,
   "metadata": {
    "collapsed": true
   },
   "outputs": [],
   "source": []
  },
  {
   "cell_type": "code",
   "execution_count": 5,
   "metadata": {
    "scrolled": true
   },
   "outputs": [
    {
     "name": "stdout",
     "output_type": "stream",
     "text": [
      "Mass 1.50e+01 1.50e+01\n",
      "mass_in_remnants 1.09e-01 1.16e-01\n",
      "unprocessed_mass_in_winds 8.91e-01 8.84e-01\n",
      "Al 6.47e-05 2.93e-04\n",
      "Ar 6.80e-04 3.88e-04\n",
      "B -4.12e-09 4.72e-08\n",
      "Be -1.32e-10 -1.90e-10\n",
      "C 1.10e-02 8.04e-03\n",
      "Ca 4.97e-04 2.76e-04\n",
      "Cl 1.15e-05 9.56e-06\n",
      "Co 1.67e-05 3.00e-05\n",
      "Cr 1.46e-04 8.86e-05\n",
      "Cu 2.00e-06 1.01e-05\n",
      "F -1.59e-07 9.63e-07\n",
      "Fe 6.95e-03 6.88e-03\n",
      "Ga 9.82e-08 4.37e-07\n",
      "Ge 2.18e-07 7.03e-07\n",
      "H -1.43e-01 -1.65e-01\n",
      "He 7.77e-02 7.65e-02\n",
      "K 4.81e-06 4.59e-06\n",
      "Li -8.93e-09 1.90e-08\n",
      "Mg 2.08e-03 3.90e-03\n",
      "Mn 8.21e-05 3.69e-05\n",
      "N 2.38e-03 2.34e-03\n",
      "Na 6.07e-05 1.12e-04\n",
      "Ne 1.69e-03 7.52e-03\n",
      "Ni 4.96e-04 5.79e-04\n",
      "O 2.60e-02 5.03e-02\n",
      "P 6.18e-05 6.20e-05\n",
      "S 4.05e-03 2.62e-03\n",
      "Sc 8.87e-08 1.16e-07\n",
      "Si 8.60e-03 5.00e-03\n",
      "Ti 1.33e-05 1.47e-05\n",
      "V 1.92e-06 1.32e-06\n",
      "Zn 3.34e-06 6.86e-06\n",
      "1 loop, best of 1: 1.47 s per loop\n"
     ]
    }
   ],
   "source": [
    "%%timeit -r 1 -n 1 \n",
    "from Chempy.yields import SN2_feedback\n",
    "West = SN2_feedback()\n",
    "getattr(West,'West15_net')()\n",
    "Chi = SN2_feedback()\n",
    "getattr(Chi,'chieffi04_net')()\n",
    "\n",
    "for item in Chi.table[0.02].dtype.names:\n",
    "    if item in West.table[West.metallicities[-3]].dtype.names:\n",
    "        print('%s %.2e %.2e' %(item,Chi.table[0.02][1][item],West.table[West.metallicities[-3]][1][item]))"
   ]
  },
  {
   "cell_type": "code",
   "execution_count": null,
   "metadata": {
    "collapsed": true
   },
   "outputs": [],
   "source": []
  },
  {
   "cell_type": "code",
   "execution_count": 31,
   "metadata": {},
   "outputs": [
    {
     "name": "stderr",
     "output_type": "stream",
     "text": [
      "C:\\Users\\Oliver\\MPIA\\ChempyScoring\\Chempy\\input\\yields\\West15\\gch_wh13.py:328: RuntimeWarning: divide by zero encountered in log10\n",
      "  f_matrix[9] = (np.log10(x) + 2.4983277)\n"
     ]
    }
   ],
   "source": [
    "init_abun = {}\n",
    "init_dat = []\n",
    "from matplotlib.cbook import flatten\n",
    "all_isotopes=list(flatten(list(indexing.values())))\t\n",
    "for sc_z in scaled_z:\n",
    "    init_abun[sc_z] = gch_wh13.GCHWH13(sc_z)\n",
    "    init_dat.append(init_abun[sc_z].abu)\n",
    "np.savez('Chempy/input/yields/West15/init_abun.npz',datfile=init_dat,keys=all_isotopes)\n"
   ]
  },
  {
   "cell_type": "code",
   "execution_count": 36,
   "metadata": {},
   "outputs": [],
   "source": [
    "init_abun = {}\n",
    "init_file = np.load('Chempy/input/yields/West15/init_abun.npz')\n",
    "for z_in,sc_z in enumerate(scaled_z):\n",
    "    init_abun[sc_z] = {}\n",
    "    for k,key in enumerate(init_file['keys']):\n",
    "        init_abun[sc_z][key] = init_file['datfile'][z_in][k]\n",
    "        \n"
   ]
  },
  {
   "cell_type": "code",
   "execution_count": 40,
   "metadata": {},
   "outputs": [
    {
     "name": "stdout",
     "output_type": "stream",
     "text": [
      "{'H1': 0.71123488406417101, 'H2': 2.7575659168005186e-05, 'He3': 3.4209287784026417e-05, 'He4': 0.27340010503788242, 'Li6': 6.9048943889459476e-10, 'Li7': 9.8071208429495751e-09, 'Be9': 1.4996590606478608e-10, 'B10': 1.0158766630599787e-09, 'B11': 4.5185781538950745e-09, 'C12': 0.0023225392616815742, 'C13': 2.827790438106178e-05, 'N14': 0.00080586791455600291, 'N15': 3.1737006385601634e-06, 'O16': 0.0068325821279756997, 'O17': 2.7077203636516565e-06, 'O18': 1.5414039685127697e-05, 'F19': 4.1561961490680186e-07, 'Ne20': 0.001662330374422976, 'Ne21': 4.1844799199834705e-06, 'Ne22': 0.00013445224854738652, 'Na23': 3.6104223833837924e-05, 'Mg24': 0.00052854250378766416, 'Mg25': 6.9723725798199519e-05, 'Mg26': 7.9768020832927166e-05, 'Al27': 6.2094900592530081e-05, 'Si28': 0.00070201633962273214, 'Si29': 3.691997927573934e-05, 'Si30': 2.5175439329341344e-05, 'P31': 6.9976384287308291e-06, 'S32': 0.00034816713118970756, 'S33': 2.834069582732291e-06, 'S34': 1.6408806952688704e-05, 'S36': 7.007535134472883e-08, 'Cl35': 3.7253182336783973e-06, 'Cl37': 1.2592606252175629e-06, 'Ar36': 7.6716312963556616e-05, 'Ar38': 1.4722128539430529e-05, 'Ar40': 2.4208444826593162e-08, 'K39': 3.7148606537910869e-06, 'K40': 5.9946104540732135e-09, 'K41': 2.8184114072660508e-07, 'Ca40': 6.3639267421422021e-05, 'Ca42': 4.4598792969309603e-07, 'Ca43': 9.5275959479647755e-08, 'Ca44': 1.5063466483968181e-06, 'Ca46': 3.0198000610257285e-09, 'Ca48': 1.4731629048392341e-07, 'Sc45': 4.2133264044278491e-08, 'Ti46': 2.5505048280446557e-07, 'Ti47': 2.3494389361067198e-07, 'Ti48': 2.3783173864105653e-06, 'Ti49': 1.781415160518449e-07, 'Ti50': 1.7424222758834719e-07, 'V50': 9.7188279665783425e-10, 'V51': 3.9599657192067606e-07, 'Cr50': 7.7261034721578521e-07, 'Cr52': 1.549334872011157e-05, 'Cr53': 1.7905640429797364e-06, 'Cr54': 4.5407500935381355e-07, 'Mn55': 1.3782574497440913e-05, 'Fe54': 7.2716438701263576e-05, 'Fe56': 0.001183718191171172, 'Fe57': 2.7827493301640916e-05, 'Fe58': 3.7667206484656845e-06, 'Co59': 3.7609107670845877e-06, 'Ni58': 5.2614175803901305e-05, 'Ni60': 2.09687930228943e-05, 'Ni61': 9.2654160860293308e-07, 'Ni62': 3.0025731949095412e-06, 'Ni64': 7.8935715848809388e-07, 'Cu63': 6.4085103442505301e-07, 'Cu65': 2.9465034359747452e-07, 'Zn64': 1.0965550302014441e-06, 'Zn66': 6.4876663067332429e-07, 'Zn67': 9.6786170531679033e-08, 'Zn68': 4.4921809262210177e-07, 'Zn70': 1.5291619576406149e-08, 'Ga69': 4.1202904293333933e-08, 'Ga71': 2.813845755294205e-08, 'Ge70': 4.6312897809529924e-08, 'Ge72': 6.2056616626023861e-08, 'Ge73': 1.7553272168604733e-08, 'Ge74': 8.2875378162435668e-08, 'Ge76': 1.7628402518469264e-08}\n"
     ]
    }
   ],
   "source": [
    "y = init_abun[1.0]\n",
    "print(y)"
   ]
  },
  {
   "cell_type": "code",
   "execution_count": 30,
   "metadata": {},
   "outputs": [
    {
     "data": {
      "text/plain": [
       "array([  7.11234884e-01,   2.75756592e-05,   3.42092878e-05,\n",
       "         2.73400105e-01,   6.90489439e-10,   9.80712084e-09,\n",
       "         1.49965906e-10,   1.01587666e-09,   4.51857815e-09,\n",
       "         2.32253926e-03,   2.82779044e-05,   8.05867915e-04,\n",
       "         3.17370064e-06,   6.83258213e-03,   2.70772036e-06,\n",
       "         1.54140397e-05,   4.15619615e-07,   1.66233037e-03,\n",
       "         4.18447992e-06,   1.34452249e-04,   3.61042238e-05,\n",
       "         5.28542504e-04,   6.97237258e-05,   7.97680208e-05,\n",
       "         6.20949006e-05,   7.02016340e-04,   3.69199793e-05,\n",
       "         2.51754393e-05,   6.99763843e-06,   3.48167131e-04,\n",
       "         2.83406958e-06,   1.64088070e-05,   7.00753513e-08,\n",
       "         3.72531823e-06,   1.25926063e-06,   7.67163130e-05,\n",
       "         1.47221285e-05,   2.42084448e-08,   3.71486065e-06,\n",
       "         5.99461045e-09,   2.81841141e-07,   6.36392674e-05,\n",
       "         4.45987930e-07,   9.52759595e-08,   1.50634665e-06,\n",
       "         3.01980006e-09,   1.47316290e-07,   4.21332640e-08,\n",
       "         2.55050483e-07,   2.34943894e-07,   2.37831739e-06,\n",
       "         1.78141516e-07,   1.74242228e-07,   9.71882797e-10,\n",
       "         3.95996572e-07,   7.72610347e-07,   1.54933487e-05,\n",
       "         1.79056404e-06,   4.54075009e-07,   1.37825745e-05,\n",
       "         7.27164387e-05,   1.18371819e-03,   2.78274933e-05,\n",
       "         3.76672065e-06,   3.76091077e-06,   5.26141758e-05,\n",
       "         2.09687930e-05,   9.26541609e-07,   3.00257319e-06,\n",
       "         7.89357158e-07,   6.40851034e-07,   2.94650344e-07,\n",
       "         1.09655503e-06,   6.48766631e-07,   9.67861705e-08,\n",
       "         4.49218093e-07,   1.52916196e-08,   4.12029043e-08,\n",
       "         2.81384576e-08,   4.63128978e-08,   6.20566166e-08,\n",
       "         1.75532722e-08,   8.28753782e-08,   1.76284025e-08,\n",
       "         1.24257392e-08,   1.20654504e-09,   1.30548272e-08,\n",
       "         1.07823346e-08,   3.40067185e-08,   7.27854614e-08,\n",
       "         1.31311170e-08,   1.16544115e-08,   1.16260018e-08,\n",
       "         4.28779189e-10,   2.82434074e-09,   1.45043527e-08,\n",
       "         1.45446026e-08,   7.25422424e-08,   2.24594364e-08,\n",
       "         1.18300511e-08,   4.98324566e-09,   2.96399420e-10,\n",
       "         5.36594242e-09,   3.79362252e-09,   4.60038386e-08,\n",
       "         1.12112834e-08,   1.35654954e-08,   2.99192518e-09,\n",
       "         4.62118188e-09,   4.78625128e-09,   7.87244916e-10,\n",
       "         1.97040557e-09,   9.25947596e-10,   5.96089141e-10,\n",
       "         1.04259158e-09,   1.10907739e-09,   6.45231885e-10,\n",
       "         1.65642153e-09,   6.80802069e-10,   2.57641355e-10,\n",
       "         8.86880386e-11,   6.11642496e-10,   6.10096796e-10,\n",
       "         8.34430761e-10,   1.55852688e-09,   9.37858522e-10,\n",
       "         1.03712360e-09,   3.84022645e-11,   4.27637899e-10,\n",
       "         8.65453760e-10,   1.06932149e-09,   1.05483755e-09,\n",
       "         4.75887441e-10,   7.37450176e-10,   6.97937417e-10,\n",
       "         5.66832242e-11,   4.11197452e-11,   5.87751973e-10,\n",
       "         6.07827007e-10,   1.15616620e-09,   5.90750559e-10,\n",
       "         1.40118143e-09,   3.71710781e-10,   2.34264534e-11,\n",
       "         5.32161351e-10,   1.06546751e-10,   7.36023888e-11,\n",
       "         3.81948252e-11,   1.65198861e-09,   8.79898515e-10,\n",
       "         2.80039785e-09,   1.00093571e-09,   3.83198343e-09,\n",
       "         5.53318679e-10,   7.03340286e-10,   5.88263866e-10,\n",
       "         4.47214733e-10,   1.46896415e-11,   4.04944076e-10,\n",
       "         1.42416137e-10,   7.61507201e-10,   1.13794626e-09,\n",
       "         3.04507893e-09,   5.17217500e-09,   5.60325259e-09,\n",
       "         3.78485264e-09,   2.36758126e-11,   2.08611811e-11,\n",
       "         4.24152704e-10,   5.25587471e-09,   8.44347130e-10,\n",
       "         4.23727913e-09,   5.16126110e-09,   1.92069767e-09,\n",
       "         1.58749985e-09,   1.34255158e-09,   1.67167152e-11,\n",
       "         1.62359264e-11,   3.93646908e-10,   1.08163945e-09,\n",
       "         1.29808974e-09,   1.87031187e-09,   1.20262105e-08,\n",
       "         1.56807589e-12,   1.72665433e-09,   8.11228032e-12,\n",
       "         1.10637337e-11,   3.97113899e-09,   5.06137737e-10,\n",
       "         6.61030525e-10,   8.93682371e-10,   4.00099888e-10,\n",
       "         7.95174886e-10,   2.95689623e-10,   5.82026583e-10,\n",
       "         1.96868853e-10,   1.95364562e-10,   3.19974146e-11,\n",
       "         1.64124262e-10,   1.20124506e-10,   1.48673712e-10,\n",
       "         7.95437787e-11,   2.93253244e-10,   2.52561971e-10,\n",
       "         1.93243769e-10,   2.13744804e-10,   3.01789114e-12,\n",
       "         3.28655118e-11,   2.24480064e-10,   3.12432580e-10,\n",
       "         2.40469906e-10,   3.83985233e-10,   3.42332978e-10,\n",
       "         2.74223303e-10,   9.58827958e-13,   1.64744256e-12,\n",
       "         4.09000465e-11,   3.33791406e-10,   4.52970917e-10,\n",
       "         4.45414847e-10,   5.08704733e-10,   4.08478462e-10,\n",
       "         1.60153575e-12,   1.86743488e-11,   3.95555205e-10,\n",
       "         2.71634311e-10,   3.22360546e-10,   1.80284908e-10,\n",
       "         1.86386189e-10,   1.44286627e-12,   3.53400246e-11,\n",
       "         1.67918748e-10,   2.60030447e-10,   1.94211463e-10,\n",
       "         3.88474724e-10,   1.59449877e-10,   1.75951723e-10,\n",
       "         5.13598123e-12,   1.19508908e-12,   3.88237727e-11,\n",
       "         1.39547341e-10,   2.05887525e-10,   1.03375361e-10,\n",
       "         2.67725928e-10,   1.26659684e-14,   1.03535160e-10,\n",
       "         8.03898169e-13,   1.79791612e-10,   9.76522303e-11,\n",
       "         2.10194911e-10,   1.97115553e-10,   1.04250959e-10,\n",
       "         1.90118976e-10,   6.73830885e-13,   5.47764004e-11,\n",
       "         4.38016770e-11,   4.62077494e-10,   5.66378442e-10,\n",
       "         9.25945867e-10,   1.45323722e-09,   1.30074574e-09,\n",
       "         2.21208373e-09,   9.04188425e-13,   5.20836497e-11,\n",
       "         2.21672970e-09,   2.28661659e-09,   1.71479238e-09,\n",
       "         4.91625792e-10,   1.04261958e-09,   3.74657072e-12,\n",
       "         2.45875602e-10,   4.18303220e-10,   5.75457221e-10,\n",
       "         3.30061818e-10,   7.51513329e-10,   1.74473428e-10,\n",
       "         2.97322730e-10,   7.16732249e-10,   3.66350207e-10,\n",
       "         3.44270663e-09,   3.82821441e-09,   1.10104939e-08,\n",
       "         7.85535515e-10,   2.77501283e-10,   3.11674278e-15,\n",
       "         3.69388882e-11,   1.16631318e-10])"
      ]
     },
     "execution_count": 30,
     "metadata": {},
     "output_type": "execute_result"
    }
   ],
   "source": [
    "x.abu"
   ]
  },
  {
   "cell_type": "code",
   "execution_count": null,
   "metadata": {
    "collapsed": true
   },
   "outputs": [],
   "source": []
  },
  {
   "cell_type": "code",
   "execution_count": 4,
   "metadata": {},
   "outputs": [
    {
     "ename": "NameError",
     "evalue": "name 'scaled_z' is not defined",
     "output_type": "error",
     "traceback": [
      "\u001b[1;31m---------------------------------------------------------------------------\u001b[0m",
      "\u001b[1;31mNameError\u001b[0m                                 Traceback (most recent call last)",
      "\u001b[1;32m<ipython-input-4-81d7208a7214>\u001b[0m in \u001b[0;36m<module>\u001b[1;34m()\u001b[0m\n\u001b[0;32m      9\u001b[0m \u001b[1;32melse\u001b[0m\u001b[1;33m:\u001b[0m\u001b[1;33m\u001b[0m\u001b[0m\n\u001b[0;32m     10\u001b[0m     \u001b[0minit_dat\u001b[0m \u001b[1;33m=\u001b[0m \u001b[1;33m[\u001b[0m\u001b[1;33m]\u001b[0m\u001b[1;33m\u001b[0m\u001b[0m\n\u001b[1;32m---> 11\u001b[1;33m     \u001b[1;32mfor\u001b[0m \u001b[0msc_z\u001b[0m \u001b[1;32min\u001b[0m \u001b[0mscaled_z\u001b[0m\u001b[1;33m:\u001b[0m\u001b[1;33m\u001b[0m\u001b[0m\n\u001b[0m\u001b[0;32m     12\u001b[0m         \u001b[0minit_abun\u001b[0m\u001b[1;33m[\u001b[0m\u001b[0msc_z\u001b[0m\u001b[1;33m]\u001b[0m \u001b[1;33m=\u001b[0m \u001b[0mgch_wh13\u001b[0m\u001b[1;33m.\u001b[0m\u001b[0mGCHWH13\u001b[0m\u001b[1;33m(\u001b[0m\u001b[0msc_z\u001b[0m\u001b[1;33m)\u001b[0m\u001b[1;33m\u001b[0m\u001b[0m\n\u001b[0;32m     13\u001b[0m         \u001b[0minit_dat\u001b[0m\u001b[1;33m.\u001b[0m\u001b[0mappend\u001b[0m\u001b[1;33m(\u001b[0m\u001b[0minit_abun\u001b[0m\u001b[1;33m[\u001b[0m\u001b[0msc_z\u001b[0m\u001b[1;33m]\u001b[0m\u001b[1;33m)\u001b[0m\u001b[1;33m\u001b[0m\u001b[0m\n",
      "\u001b[1;31mNameError\u001b[0m: name 'scaled_z' is not defined"
     ]
    }
   ],
   "source": [
    "from Chempy import localpath\n",
    "import os\n",
    "init_abun = {}\n",
    "\n",
    "if os.path.exists(localpath+'Chempy/input/yields/West15/init_abun.npy'):\n",
    "    init_dat = np.load(localpath+'Chempy/input/yields/West15/init_abun.npy')\n",
    "    for z_in,sc_z in enumerate(scaled_z):\n",
    "        init_abun[sc_z] = init_dat[z_in]\n",
    "else:\n",
    "    init_dat = []\n",
    "    for sc_z in scaled_z:\n",
    "        init_abun[sc_z] = gch_wh13.GCHWH13(sc_z)\n",
    "        init_dat.append(init_abun[sc_z])\n",
    "    np.save(localpath+'Chempy/input/yields/West15/init_abun.npy')"
   ]
  },
  {
   "cell_type": "code",
   "execution_count": null,
   "metadata": {
    "collapsed": true
   },
   "outputs": [],
   "source": []
  },
  {
   "cell_type": "code",
   "execution_count": null,
   "metadata": {
    "collapsed": true
   },
   "outputs": [],
   "source": []
  },
  {
   "cell_type": "code",
   "execution_count": 2,
   "metadata": {},
   "outputs": [
    {
     "data": {
      "text/plain": [
       "False"
      ]
     },
     "execution_count": 2,
     "metadata": {},
     "output_type": "execute_result"
    }
   ],
   "source": [
    "import os\n",
    "os.path.exists('Chempy/input/yields/West15/init_abun.npy')"
   ]
  },
  {
   "cell_type": "code",
   "execution_count": null,
   "metadata": {
    "collapsed": true
   },
   "outputs": [],
   "source": []
  }
 ],
 "metadata": {
  "kernelspec": {
   "display_name": "Python 3",
   "language": "python",
   "name": "python3"
  }
 },
 "nbformat": 4,
 "nbformat_minor": 2
}
