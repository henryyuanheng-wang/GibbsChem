{
 "cells": [
  {
   "cell_type": "code",
   "execution_count": null,
   "metadata": {
    "collapsed": true
   },
   "outputs": [],
   "source": [
    "%pylab inline"
   ]
  },
  {
   "cell_type": "markdown",
   "metadata": {},
   "source": [
    "**Code is not predicting correctly for case when Sc is excluded. This is due to different list of names somewhere?**"
   ]
  },
  {
   "cell_type": "code",
   "execution_count": null,
   "metadata": {
    "collapsed": true
   },
   "outputs": [],
   "source": [
    "from Chempy.score_function import preload_params_mcmc\n",
    "preload = preload_params_mcmc()\n",
    "from Chempy.parameter import ModelParameters\n",
    "a = ModelParameters()\n",
    "sol_dat = np.load('Chempy/input/stars/'+a.stellar_identifier+'.npy')"
   ]
  },
  {
   "cell_type": "code",
   "execution_count": null,
   "metadata": {
    "collapsed": true
   },
   "outputs": [],
   "source": [
    "print(a.elements_to_trace)\n",
    "print(preload.elements_to_trace)\n",
    "print(preload.elements)\n",
    "print(len(sol_dat.dtype.names))"
   ]
  },
  {
   "cell_type": "code",
   "execution_count": null,
   "metadata": {
    "collapsed": true
   },
   "outputs": [],
   "source": [
    "from Chempy.cem_function import posterior_function_returning_predictions\n",
    "ab,n=posterior_function_returning_predictions((a.p0,a))\n",
    "print(n)"
   ]
  },
  {
   "cell_type": "code",
   "execution_count": null,
   "metadata": {
    "collapsed": true
   },
   "outputs": [],
   "source": [
    "from Chempy.cem_function import cem_real2\n",
    "cem_real2(a)"
   ]
  },
  {
   "cell_type": "code",
   "execution_count": null,
   "metadata": {
    "collapsed": true
   },
   "outputs": [],
   "source": [
    "from Chempy.data_to_test import likelihood_function\n",
    "_,x,_,_,_,_=likelihood_function(a.stellar_identifier,ab,n)\n",
    "print(x)"
   ]
  },
  {
   "cell_type": "code",
   "execution_count": null,
   "metadata": {
    "collapsed": true
   },
   "outputs": [],
   "source": [
    "preload.elements"
   ]
  },
  {
   "cell_type": "code",
   "execution_count": null,
   "metadata": {
    "collapsed": true
   },
   "outputs": [],
   "source": [
    "np.load('/home/philcox/Save/SCORES/Nomoto_netNoSc/Hogg_elements.npy')"
   ]
  },
  {
   "cell_type": "code",
   "execution_count": null,
   "metadata": {
    "collapsed": true
   },
   "outputs": [],
   "source": []
  },
  {
   "cell_type": "code",
   "execution_count": null,
   "metadata": {
    "collapsed": true
   },
   "outputs": [],
   "source": []
  },
  {
   "cell_type": "markdown",
   "metadata": {},
   "source": [
    "Check neural network output is same with / without Sc for other elements"
   ]
  },
  {
   "cell_type": "code",
   "execution_count": null,
   "metadata": {
    "collapsed": true
   },
   "outputs": [],
   "source": [
    "%pylab inline\n",
    "from Chempy.score_function import preload_params_mcmc\n",
    "preload = preload_params_mcmc()\n",
    "from Chempy.parameter import ModelParameters\n",
    "a = ModelParameters()\n",
    "sol_dat = np.load('Chempy/input/stars/'+a.stellar_identifier+'.npy')\n",
    "from Chempy.neural import neural_output\n",
    "neural_output(a.p0)"
   ]
  },
  {
   "cell_type": "code",
   "execution_count": null,
   "metadata": {
    "collapsed": true
   },
   "outputs": [],
   "source": [
    "from Chempy.cem_function import posterior_function_mcmc_quick\n",
    "_,abun27 = posterior_function_mcmc_quick(a.p0,preload.elements,preload)\n",
    "abun27"
   ]
  },
  {
   "cell_type": "code",
   "execution_count": null,
   "metadata": {
    "collapsed": true
   },
   "outputs": [],
   "source": [
    "abun28 = array([[ 0.04682876],\n",
    "       [ 0.04303881],\n",
    "       [-0.28376826],\n",
    "       [-0.02034301],\n",
    "       [-0.5050862 ],\n",
    "       [-0.34445292],\n",
    "       [ 0.10426688],\n",
    "       [ 0.01772714],\n",
    "       [-0.09978051],\n",
    "       [ 0.18591101],\n",
    "       [ 0.34734833],\n",
    "       [ 0.56511478],\n",
    "       [-0.14640519],\n",
    "       [-0.87838819],\n",
    "       [-0.04087965],\n",
    "       [ 0.1856491 ],\n",
    "       [ 0.05130315],\n",
    "       [ 0.28427847],\n",
    "       [ 0.20745826],\n",
    "       [ 0.16255702],\n",
    "       [ 0.07304092],\n",
    "       [ 0.03230747],\n",
    "       [ 0.20537035],\n",
    "       [-0.91624626],\n",
    "       [ 0.2347035 ],\n",
    "       [-0.43124121],\n",
    "       [-0.2426537 ],\n",
    "       [ 0.00616649]])\n",
    "names28=['Al', 'Ar', 'C', 'Ca', 'Cl', 'Co', 'Cr', 'Cu', 'F', 'Fe', 'Ga', 'Ge', 'He', 'K', 'Mg',\n",
    " 'Mn', 'N', 'Na', 'Ne', 'Ni', 'O', 'P', 'S', 'Sc', 'Si', 'Ti', 'V', 'Zn']\n"
   ]
  },
  {
   "cell_type": "code",
   "execution_count": null,
   "metadata": {
    "collapsed": true
   },
   "outputs": [],
   "source": [
    "for i in range(27):\n",
    "    print(preload.elements[i],abun27[i],names28[i],abun28[i])"
   ]
  },
  {
   "cell_type": "code",
   "execution_count": 1,
   "metadata": {},
   "outputs": [
    {
     "name": "stdout",
     "output_type": "stream",
     "text": [
      "Populating the interactive namespace from numpy and matplotlib\n"
     ]
    }
   ],
   "source": [
    "%pylab inline\n",
    "from Chempy.parameter import ModelParameters\n",
    "a = ModelParameters()\n",
    "from Chempy.cem_function import cem_real2_int,extract_parameters_and_priors\n",
    "from Chempy.score_function import preload_params_mcmc\n",
    "preload = preload_params_mcmc()"
   ]
  },
  {
   "cell_type": "code",
   "execution_count": null,
   "metadata": {
    "collapsed": true,
    "scrolled": false
   },
   "outputs": [],
   "source": [
    "a = extract_parameters_and_priors(a.p0,a)\n",
    "data2 = cem_real2_int(a,preload)"
   ]
  },
  {
   "cell_type": "code",
   "execution_count": null,
   "metadata": {
    "collapsed": true
   },
   "outputs": [],
   "source": [
    "data = array([ 0.04682876,  0.04303881,  0.        ,  0.        , -0.28376826,\n",
    "       -0.02034301, -0.5050862 , -0.34445292,  0.10426688,  0.01772714,\n",
    "       -0.09978051,  0.18591101,  0.34734833,  0.56511478,  0.        ,\n",
    "       -0.14640519, -0.87838819,  0.        , -0.04087965,  0.1856491 ,\n",
    "        0.05130315,  0.28427847,  0.20745826,  0.16255702,  0.07304092,\n",
    "        0.03230747,  0.20537035,  0.        ,  0.2347035 , -0.43124121,\n",
    "       -0.2426537 ,  0.00616649,  0.        ,  0.        ])"
   ]
  },
  {
   "cell_type": "code",
   "execution_count": null,
   "metadata": {
    "collapsed": true
   },
   "outputs": [],
   "source": [
    "for i in range(len(data2)):\n",
    "    print(data[i],data2[i])"
   ]
  },
  {
   "cell_type": "code",
   "execution_count": null,
   "metadata": {
    "collapsed": true
   },
   "outputs": [],
   "source": [
    "from Chempy.cem_function import posterior_function_predictions_quick\n"
   ]
  },
  {
   "cell_type": "code",
   "execution_count": null,
   "metadata": {
    "collapsed": true
   },
   "outputs": [],
   "source": []
  },
  {
   "cell_type": "code",
   "execution_count": null,
   "metadata": {
    "collapsed": true
   },
   "outputs": [],
   "source": []
  },
  {
   "cell_type": "code",
   "execution_count": 2,
   "metadata": {
    "collapsed": true
   },
   "outputs": [],
   "source": [
    "from Chempy.neural import neural_output_int"
   ]
  },
  {
   "cell_type": "code",
   "execution_count": 3,
   "metadata": {},
   "outputs": [
    {
     "data": {
      "text/plain": [
       "[0.046828755728672816,\n",
       " 0.043038807465755169,\n",
       " -0.28376826356347407,\n",
       " -0.020343013761648099,\n",
       " -0.50508619620429807,\n",
       " -0.34445292314449211,\n",
       " 0.10426687684126304,\n",
       " 0.01772713921263136,\n",
       " -0.09978050517913585,\n",
       " 0.18591100651147496,\n",
       " 0.34734832884257927,\n",
       " 0.56511478228666312,\n",
       " -0.14640519163049781,\n",
       " -0.87838819120665002,\n",
       " -0.040879649147992581,\n",
       " 0.18564910310349581,\n",
       " 0.051303145999634481,\n",
       " 0.28427847380955423,\n",
       " 0.2074582576131544,\n",
       " 0.1625570212371647,\n",
       " 0.073040923770360699,\n",
       " 0.032307467488700697,\n",
       " 0.20537034909980162,\n",
       " 0.23470349687411482,\n",
       " -0.43124120664937521,\n",
       " -0.24265370489801608,\n",
       " 0.0061664943222309032]"
      ]
     },
     "execution_count": 3,
     "metadata": {},
     "output_type": "execute_result"
    }
   ],
   "source": [
    "neural_output_int(a.p0,a,preload)"
   ]
  },
  {
   "cell_type": "code",
   "execution_count": 4,
   "metadata": {},
   "outputs": [
    {
     "data": {
      "text/plain": [
       "['Al',\n",
       " 'Ar',\n",
       " 'B',\n",
       " 'Be',\n",
       " 'C',\n",
       " 'Ca',\n",
       " 'Cl',\n",
       " 'Co',\n",
       " 'Cr',\n",
       " 'Cu',\n",
       " 'F',\n",
       " 'Fe',\n",
       " 'Ga',\n",
       " 'Ge',\n",
       " 'H',\n",
       " 'He',\n",
       " 'K',\n",
       " 'Li',\n",
       " 'Mg',\n",
       " 'Mn',\n",
       " 'N',\n",
       " 'Na',\n",
       " 'Ne',\n",
       " 'Ni',\n",
       " 'O',\n",
       " 'P',\n",
       " 'S',\n",
       " 'Si',\n",
       " 'Ti',\n",
       " 'V',\n",
       " 'Zn']"
      ]
     },
     "execution_count": 4,
     "metadata": {},
     "output_type": "execute_result"
    }
   ],
   "source": [
    "a.elements_to_trace"
   ]
  },
  {
   "cell_type": "code",
   "execution_count": 5,
   "metadata": {},
   "outputs": [
    {
     "data": {
      "text/plain": [
       "array(['Al', 'Ar', 'C', 'Ca', 'Cl', 'Co', 'Cr', 'Cu', 'F', 'Fe', 'Ga',\n",
       "       'Ge', 'He', 'K', 'Mg', 'Mn', 'N', 'Na', 'Ne', 'Ni', 'O', 'P', 'S',\n",
       "       'Si', 'Ti', 'V', 'Zn'], \n",
       "      dtype='<U2')"
      ]
     },
     "execution_count": 5,
     "metadata": {},
     "output_type": "execute_result"
    }
   ],
   "source": [
    "preload.elements"
   ]
  },
  {
   "cell_type": "code",
   "execution_count": 11,
   "metadata": {},
   "outputs": [
    {
     "name": "stdout",
     "output_type": "stream",
     "text": [
      "Populating the interactive namespace from numpy and matplotlib\n"
     ]
    }
   ],
   "source": [
    "# %load init.ipy\n",
    "%pylab inline\n",
    "from Chempy.parameter import ModelParameters\n",
    "a = ModelParameters()\n",
    "from Chempy.score_function import preload_params_mcmc\n",
    "preload = preload_params_mcmc()\n"
   ]
  },
  {
   "cell_type": "code",
   "execution_count": null,
   "metadata": {
    "collapsed": true
   },
   "outputs": [],
   "source": []
  },
  {
   "cell_type": "code",
   "execution_count": null,
   "metadata": {
    "collapsed": true
   },
   "outputs": [],
   "source": []
  },
  {
   "cell_type": "code",
   "execution_count": null,
   "metadata": {
    "collapsed": true
   },
   "outputs": [],
   "source": [
    "import numpy as np\n",
    "dat = np.load('Scores/Hogg_beta_elements1000.0.npz')\n",
    "el = dat['elements']\n",
    "li = dat['likelihood_factors']\n",
    "for i in range(len(el)):\n",
    "    print(el[i],li[i])"
   ]
  },
  {
   "cell_type": "code",
   "execution_count": null,
   "metadata": {
    "collapsed": true
   },
   "outputs": [],
   "source": []
  },
  {
   "cell_type": "code",
   "execution_count": null,
   "metadata": {
    "collapsed": true
   },
   "outputs": [],
   "source": []
  },
  {
   "cell_type": "markdown",
   "metadata": {},
   "source": [
    "## Test to see if it worked..."
   ]
  },
  {
   "cell_type": "code",
   "execution_count": 14,
   "metadata": {},
   "outputs": [
    {
     "data": {
      "text/plain": [
       "array([[ 0.04682876],\n",
       "       [ 0.04303881],\n",
       "       [-0.28376826],\n",
       "       [-0.02034301],\n",
       "       [-0.5050862 ],\n",
       "       [-0.34445292],\n",
       "       [ 0.10426688],\n",
       "       [ 0.01772714],\n",
       "       [-0.09978051],\n",
       "       [ 0.18591101],\n",
       "       [ 0.34734833],\n",
       "       [ 0.56511478],\n",
       "       [-0.14640519],\n",
       "       [-0.87838819],\n",
       "       [-0.04087965],\n",
       "       [ 0.1856491 ],\n",
       "       [ 0.05130315],\n",
       "       [ 0.28427847],\n",
       "       [ 0.20745826],\n",
       "       [ 0.16255702],\n",
       "       [ 0.07304092],\n",
       "       [ 0.03230747],\n",
       "       [ 0.20537035],\n",
       "       [ 0.2347035 ],\n",
       "       [-0.43124121],\n",
       "       [-0.2426537 ],\n",
       "       [ 0.00616649]])"
      ]
     },
     "execution_count": 14,
     "metadata": {},
     "output_type": "execute_result"
    }
   ],
   "source": [
    "from Chempy.cem_function import posterior_function_mcmc_quick\n",
    "_,ab = posterior_function_mcmc_quick(a.p0,preload.elements,preload)\n",
    "np.array(ab)"
   ]
  },
  {
   "cell_type": "code",
   "execution_count": null,
   "metadata": {
    "collapsed": true
   },
   "outputs": [],
   "source": []
  },
  {
   "cell_type": "code",
   "execution_count": null,
   "metadata": {
    "collapsed": true
   },
   "outputs": [],
   "source": []
  },
  {
   "cell_type": "code",
   "execution_count": null,
   "metadata": {
    "collapsed": true
   },
   "outputs": [],
   "source": [
    " "
   ]
  }
 ],
 "metadata": {
  "kernelspec": {
   "display_name": "Python 3",
   "language": "python",
   "name": "python3"
  },
  "language_info": {
   "codemirror_mode": {
    "name": "ipython",
    "version": 3
   },
   "file_extension": ".py",
   "mimetype": "text/x-python",
   "name": "python",
   "nbconvert_exporter": "python",
   "pygments_lexer": "ipython3",
   "version": "3.6.1"
  }
 },
 "nbformat": 4,
 "nbformat_minor": 2
}
