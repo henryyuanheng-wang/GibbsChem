{
 "cells": [
  {
   "cell_type": "markdown",
   "metadata": {},
   "source": [
    "**This is the code to produce a sample set for and train a neural network.**\n",
    "All python source code is in the neural.py file"
   ]
  },
  {
   "cell_type": "code",
   "execution_count": 1,
   "metadata": {},
   "outputs": [
    {
     "name": "stdout",
     "output_type": "stream",
     "text": [
      "Populating the interactive namespace from numpy and matplotlib\n"
     ]
    }
   ],
   "source": [
    "%pylab inline\n",
    "from Chempy.parameter import ModelParameters\n",
    "a = ModelParameters()"
   ]
  },
  {
   "cell_type": "code",
   "execution_count": null,
   "metadata": {
    "collapsed": true
   },
   "outputs": [],
   "source": [
    "# First create the training dataset\n",
    "from Chempy.neural import training_data\n",
    "# %timeit -r 1 -n 1"
   ]
  },
  {
   "cell_type": "markdown",
   "metadata": {},
   "source": [
    "The above was run on a faster machine, taking 2 hours, 26 minutes and 28 seconds to calculate a training dataset of length 15625. This is stored in the 'Neural/' folder\n"
   ]
  },
  {
   "cell_type": "code",
   "execution_count": null,
   "metadata": {
    "collapsed": true
   },
   "outputs": [],
   "source": [
    "# Now create the datasets for model verification (i.e. hyperparameter constraints)\n",
    "# and for final testing\n",
    "\n",
    "from Chempy.neural import verification_and_testing\n",
    "# %timeit -r 1 -n 1"
   ]
  },
  {
   "cell_type": "markdown",
   "metadata": {},
   "source": [
    "This was again run on a faster PC. The runtime was 19 minutes and 10 seconds, producing the verif_param_grid, verif_abundances, test_param_grid, test_abundances npy data files"
   ]
  },
  {
   "cell_type": "code",
   "execution_count": null,
   "metadata": {},
   "outputs": [],
   "source": [
    "# Now create and train the neural network\n",
    "from Chempy.neural import create_network\n",
    "epoch, loss = create_network()"
   ]
  },
  {
   "cell_type": "code",
   "execution_count": null,
   "metadata": {},
   "outputs": [],
   "source": [
    "plt.plot(epoch,loss)\n",
    "plt.ylabel(\"L1 Loss value\")\n",
    "plt.xlabel(\"Epoch\")\n",
    "plt.title(\"Loss plot for learning rate = %s\" %(a.learning_rate))"
   ]
  },
  {
   "cell_type": "code",
   "execution_count": null,
   "metadata": {
    "collapsed": true
   },
   "outputs": [],
   "source": []
  },
  {
   "cell_type": "code",
   "execution_count": null,
   "metadata": {
    "collapsed": true
   },
   "outputs": [],
   "source": [
    "predicted_abundances-verif_abundances[55]"
   ]
  },
  {
   "cell_type": "code",
   "execution_count": null,
   "metadata": {},
   "outputs": [],
   "source": [
    "# Load verification dataset\n",
    "verif_param = np.load('Neural/verif_param_grid.npy')\n",
    "verif_abundances = np.load('Neural/verif_abundances.npy')\n",
    "\n",
    "# Calculate average percentage error in sample per element\n",
    "from Chempy.neural import neural_output\n",
    "error = []\n",
    "\n",
    "for i in range(a.verif_test_sizes[0]):\n",
    "    predicted_abundances = neural_output(verif_param[i])\n",
    "    # Compute percentage error for each element\n",
    "    error.append(np.absolute(predicted_abundances-verif_abundances[i]))\n",
    "element_error = np.mean(error,axis=0)\n",
    "print(np.max(element_error))"
   ]
  },
  {
   "cell_type": "code",
   "execution_count": null,
   "metadata": {
    "collapsed": true
   },
   "outputs": [],
   "source": []
  },
  {
   "cell_type": "code",
   "execution_count": 7,
   "metadata": {},
   "outputs": [
    {
     "data": {
      "text/plain": [
       "(10, 22)"
      ]
     },
     "execution_count": 7,
     "metadata": {},
     "output_type": "execute_result"
    }
   ],
   "source": [
    "verif_param = np.load('Neural/verif_param_grid.npy')\n",
    "verif_abundances = np.load('Neural/verif_abundances.npy')\n",
    "verif_abundances.shape"
   ]
  },
  {
   "cell_type": "code",
   "execution_count": null,
   "metadata": {
    "collapsed": true
   },
   "outputs": [],
   "source": []
  },
  {
   "cell_type": "code",
   "execution_count": null,
   "metadata": {},
   "outputs": [],
   "source": [
    "# Prepare plot\n",
    "fig = plt.figure(figsize=(30.69,8.27), dpi=100)\n",
    "plt.clf()\n",
    "text_size = 15\n",
    "plt.rc('font', family='serif',size = text_size)\n",
    "plt.rc('xtick', labelsize=text_size)\n",
    "plt.rc('ytick', labelsize=text_size)\n",
    "plt.rc('axes', labelsize=text_size, lw=1.)\n",
    "plt.rc('lines', linewidth = 1.)\n",
    "plt.rcParams['ytick.major.pad']='8'\n",
    "plt.rcParams['text.latex.preamble']=[r\"\\usepackage{libertine}\"]\n",
    "params = {'text.usetex' : True,'font.size' : 16,'font.family' : 'libertine','text.latex.unicode': True}\n",
    "ax = fig.add_subplot(111)\n",
    "abundance_names = []\n",
    "proto_sun = np.load('Chempy/input/stars/Proto-sun.npy')\n",
    "for item in proto_sun.dtype.names[:-1]:\n",
    "    if item != 'Fe':\n",
    "        abundance_names.append('[%s/Fe]' %(item))\n",
    "    else:\n",
    "        abundance_names.append('[Fe/H]')\n",
    "plt.xticks(np.arange(len(a.element_names)),abundance_names)\n",
    "\n",
    "plt.plot(predicted_abundances,'r',label='Neural')\n",
    "plt.plot(verif_abundances[-1],'g',label='Chempy')\n",
    "plt.legend()\n",
    "plt.ylabel(\"Abundances relative to solar in dex\")\n",
    "plt.xlabel(\"Element\")\n",
    "plt.title(\"Abundance plot\")\n",
    "savefig('Neural/test')"
   ]
  },
  {
   "cell_type": "markdown",
   "metadata": {
    "collapsed": true
   },
   "source": [
    "## Create corner plot for data"
   ]
  },
  {
   "cell_type": "code",
   "execution_count": 3,
   "metadata": {},
   "outputs": [],
   "source": [
    "# Load verification dataset\n",
    "verif_param = np.load('Neural/verif_param_grid.npy')\n",
    "verif_abundances = np.load('Neural/verif_abundances.npy')\n",
    "\n",
    "# Calculate average percentage error in sample per element\n",
    "from Chempy.neural import neural_output\n",
    "error = []\n",
    "\n",
    "for i in range(a.verif_test_sizes[0]):\n",
    "    predicted_abundances = neural_output(verif_param[i])\n",
    "    # Compute percentage error for each element\n",
    "    error.append(np.absolute(predicted_abundances-verif_abundances[i]))\n",
    "\n",
    "# This contains absolute mean error for each parameter set\n",
    "param_error = np.median(error,axis=1)"
   ]
  },
  {
   "cell_type": "code",
   "execution_count": null,
   "metadata": {
    "collapsed": true
   },
   "outputs": [],
   "source": []
  },
  {
   "cell_type": "code",
   "execution_count": 4,
   "metadata": {},
   "outputs": [
    {
     "data": {
      "text/plain": [
       "<matplotlib.figure.Figure at 0x7f4ff176c128>"
      ]
     },
     "metadata": {},
     "output_type": "display_data"
    },
    {
     "data": {
      "image/png": "[encoded data removed]",
      "text/plain": [
       "<matplotlib.figure.Figure at 0x7f502085f6d8>"
      ]
     },
     "metadata": {},
     "output_type": "display_data"
    }
   ],
   "source": [
    "plt.clf()\n",
    "plt.rc('axes', labelsize=16, lw=0.3)\n",
    "plt.rc('text',usetex=True)\n",
    "\n",
    "# Create plot\n",
    "\n",
    "data_tr = np.load('Neural/training_param_grid.npy')\n",
    "data_v = np.load('Neural/verif_param_grid.npy')\n",
    "error = param_error\n",
    "\n",
    "# Use only 2 axes now\n",
    "x_tr = [item[0] for item in data_tr]\n",
    "y_tr = [item[3] for item in data_tr]\n",
    "x_v = [item[0] for item in data_v]\n",
    "y_v = [item[3] for item in data_v]\n",
    "\n",
    "fig = plt.figure()\n",
    "ax = fig.add_subplot(111)\n",
    "P1 = ax.scatter(x_tr,y_tr,c='k',marker='+',s=120)\n",
    "ax = plt.gca()\n",
    "# Store axis limits\n",
    "xlim = ax.get_xlim()\n",
    "ylim = ax.get_ylim()\n",
    "P2 = ax.scatter(x_v,y_v,marker='.',alpha=0.3,\n",
    "           c=error,s=80,cmap='plasma')\n",
    "# Replot this on top\n",
    "P1 = ax.scatter(x_tr,y_tr,c='k',marker='+',alpha=1,s=120)\n",
    "\n",
    "ax.set_xlim(xlim)\n",
    "ax.set_ylim(ylim)\n",
    "fig.colorbar(P2,orientation='horizontal')\n",
    "plt.show()"
   ]
  },
  {
   "cell_type": "code",
   "execution_count": null,
   "metadata": {
    "collapsed": true
   },
   "outputs": [],
   "source": []
  },
  {
   "cell_type": "code",
   "execution_count": null,
   "metadata": {
    "collapsed": true
   },
   "outputs": [],
   "source": []
  },
  {
   "cell_type": "code",
   "execution_count": null,
   "metadata": {
    "collapsed": true
   },
   "outputs": [],
   "source": []
  },
  {
   "cell_type": "code",
   "execution_count": null,
   "metadata": {},
   "outputs": [],
   "source": [
    "# Create corner plot infrastructure\n",
    "a=ModelParameters()\n",
    "\n",
    "# Load verification dataset\n",
    "data_v = np.load('Neural/verif_param_grid.npy')\n",
    "data_v=np.hstack(np.asmatrix(data_v).T).reshape((len(a.p0),len(data_v)))\n",
    "\n",
    "import corner\n",
    "\n",
    "parameter_names = ['alpha','logN','logtau','logSFE','logSFR','xout']\n",
    "\n",
    "# Set up plot\n",
    "plt.clf()\n",
    "fig,axes = plt.subplots(nrows = len(a.p0), ncols = len(a.p0),figsize=(14.69,8.0),dpi=300)\n",
    "alpha = 0.5\n",
    "lw=2 # Linewidth\n",
    "left = 0.1 # Left side of subplots\n",
    "right = 0.925 # Right side\n",
    "bottom = 0.075\n",
    "top = 0.97\n",
    "wspace = 0.0 # blankspace width between subplots\n",
    "hspace = 0.0 # blankspace height between subplots\n",
    "plt.subplots_adjust(left=left,bottom=bottom,right=right,top=top,wspace=wspace,hspace=hspace)\n",
    "\n",
    "for i in range(len(a.p0)):\n",
    "    for j in range(len(a.p0)):\n",
    "        axes[i,j].locator_params(nbins=4)\n",
    "        if j==1:\n",
    "            axes[i,j].locator_params(nbins=4)\n",
    "        if i==j:\n",
    "            counts,edges = np.histogram(np.asarray(data_v[j]),bins=10)\n",
    "            max_count = float(np.max(counts))\n",
    "            counts = np.divide(counts,max_count)\n",
    "            axes[i,j].bar(left = edges[:-1], height=counts, width = edges[1]-edges[0], color='grey', alpha=alpha, linewidth=0, edgecolor='blue')\n",
    "            if j !=0:\n",
    "                plt.setp(axes[i,j].get_yticklabels(), visible=False)\n",
    "            \n",
    "            axes[i,j].vlines(np.percentile(data_v[j],15.865),axes[i,j].get_ylim()[0],axes[i,j].get_ylim()[1], color = 'k',alpha=alpha,linewidth = lw,linestyle = 'dashed')    \n",
    "            axes[i,j].vlines(np.percentile(data_v[j],100-15.865),axes[i,j].get_ylim()[0],axes[i,j].get_ylim()[1], color = 'k',alpha=alpha,linewidth = lw,linestyle = 'dashed')    \n",
    "            axes[i,j].vlines(np.percentile(data_v[j],50),axes[i,j].get_ylim()[0],axes[i,j].get_ylim()[1], color = 'k',alpha=alpha,linewidth = lw)\n",
    "        if i>j:\n",
    "            if j !=0:\n",
    "                plt.setp(axes[i,j].get_yticklabels(), visible=False)\n",
    "            corner.hist2d(np.asarray(data_v[j]),np.asarray(data_v[i]), ax = axes[i,j], bins=15, levels=(1-np.exp(-0.5),1-np.exp(-2.0),1-np.exp(-4.5)))\n",
    "        if j>i:\n",
    "            axes[i,j].axis('off')\n",
    "        if i == len(a.p0)-1:\n",
    "            axes[i,j].set_xlabel(parameter_names[j])\n",
    "        if j ==0:\n",
    "            axes[i,j].set_ylabel(parameter_names[i])\n",
    "            \n",
    "fig.savefig('Neural/corner_parameter_plot.png',dpi=300,bbox_inches='tight')"
   ]
  },
  {
   "cell_type": "markdown",
   "metadata": {},
   "source": [
    "**NOTES**\n",
    "- Change the diagonal to be correct histogram of data\n",
    "- Color histogram by mean error in that bar\n",
    "- Add other params\n",
    "- Add correlation coeffs?\n",
    "- Optimize axis sizes (see plot_mcmc.py)\n",
    "- Add meshgrid for colors?"
   ]
  },
  {
   "cell_type": "code",
   "execution_count": null,
   "metadata": {
    "collapsed": true
   },
   "outputs": [],
   "source": []
  },
  {
   "cell_type": "code",
   "execution_count": null,
   "metadata": {
    "collapsed": true
   },
   "outputs": [],
   "source": [
    "data_tr = np.load('Neural/training_param_grid.npy')\n",
    "data_v = np.load('Neural/verif_param_grid.npy')\n",
    "error = param_error\n"
   ]
  },
  {
   "cell_type": "code",
   "execution_count": null,
   "metadata": {},
   "outputs": [],
   "source": [
    "test = np.asmatrix(data_v)\n"
   ]
  },
  {
   "cell_type": "code",
   "execution_count": null,
   "metadata": {},
   "outputs": [],
   "source": []
  },
  {
   "cell_type": "code",
   "execution_count": null,
   "metadata": {
    "collapsed": true
   },
   "outputs": [],
   "source": []
  }
 ],
 "metadata": {
  "kernelspec": {
   "display_name": "Python 3",
   "language": "python",
   "name": "python3"
  },
  "language_info": {
   "codemirror_mode": {
    "name": "ipython",
    "version": 3
   },
   "file_extension": ".py",
   "mimetype": "text/x-python",
   "name": "python",
   "nbconvert_exporter": "python",
   "pygments_lexer": "ipython3",
   "version": "3.6.1"
  }
 },
 "nbformat": 4,
 "nbformat_minor": 2
}
