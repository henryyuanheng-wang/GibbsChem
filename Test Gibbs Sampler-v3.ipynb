{
 "cells": [
  {
   "cell_type": "code",
   "execution_count": 1,
   "metadata": {},
   "outputs": [
    {
     "name": "stdout",
     "output_type": "stream",
     "text": [
      "Populating the interactive namespace from numpy and matplotlib\n"
     ]
    }
   ],
   "source": [
    "%pylab inline"
   ]
  },
  {
   "cell_type": "markdown",
   "metadata": {},
   "source": [
    "First load in neural network"
   ]
  },
  {
   "cell_type": "code",
   "execution_count": 2,
   "metadata": {},
   "outputs": [],
   "source": [
    "model_numpy=np.load(\"Neural/neural_model.npz\")\n",
    "w_array_0=np.matrix(model_numpy[\"w_array_0\"])\n",
    "b_array_0=np.matrix(model_numpy[\"b_array_0\"])\n",
    "w_array_1=np.matrix(model_numpy[\"w_array_1\"])\n",
    "b_array_1=np.matrix(model_numpy[\"b_array_1\"])"
   ]
  },
  {
   "cell_type": "code",
   "execution_count": 3,
   "metadata": {},
   "outputs": [],
   "source": [
    "# Input params:\n",
    "xdata = np.load('../GibbsChem/Network Training Data/APOGEE Training Data.npz')\n",
    "norm_params=xdata['norm_grid']"
   ]
  },
  {
   "cell_type": "code",
   "execution_count": 4,
   "metadata": {},
   "outputs": [],
   "source": [
    "# Normalization Parameters\n",
    "norm_means=xdata['means']\n",
    "norm_widths=xdata['full_widths']"
   ]
  },
  {
   "cell_type": "code",
   "execution_count": 5,
   "metadata": {},
   "outputs": [],
   "source": [
    "def neural_net(norm_params):\n",
    "    if isinstance(norm_params[0],np.ndarray):\n",
    "        n_stars=len(norm_params)\n",
    "        layer1=np.matmul(norm_params,w_array_0.T)+np.matmul(np.matrix(np.ones(n_stars)).T,b_array_0)\n",
    "        layer2=np.matmul(np.tanh(layer1),w_array_1.T)+np.matmul(np.matrix(np.ones(n_stars)).T,b_array_1)\n",
    "    else: \n",
    "        layer1=np.dot(norm_params,w_array_0.T)+b_array_0\n",
    "        layer2=np.dot(np.tanh(layer1),w_array_1.T)+b_array_1\n",
    "    return(layer2)"
   ]
  },
  {
   "cell_type": "markdown",
   "metadata": {},
   "source": [
    "### Read in APOGEE Data and Priors\n",
    "- NB: Ages are in ln(years) here\n",
    "- Priors are from Philcox+17"
   ]
  },
  {
   "cell_type": "markdown",
   "metadata": {},
   "source": [
    "*This step is slightly unnecessary but could be useful if the prior means are not the same as the normalization means*"
   ]
  },
  {
   "cell_type": "code",
   "execution_count": 6,
   "metadata": {},
   "outputs": [],
   "source": [
    "n_stars = 5\n",
    "apogee=np.load('../GibbsChem/APOGEE_dataset.npz')\n",
    "mu_ages = apogee['ln_age'][:n_stars]\n",
    "sigma_ages = apogee['ln_age_err'][:n_stars]"
   ]
  },
  {
   "cell_type": "code",
   "execution_count": 7,
   "metadata": {},
   "outputs": [],
   "source": [
    "# Proto-solar data\n",
    "sol_data,sol_err=np.load('Chempy/input/stars/Proto-sun.npy')\n",
    "sol_els = sol_data.dtype.names\n",
    "sol_ages = np.log(sol_data[-1])\n",
    "sol_sigma_ages = sol_err[-1]/sol_data[-1]"
   ]
  },
  {
   "cell_type": "code",
   "execution_count": 8,
   "metadata": {},
   "outputs": [],
   "source": [
    "solar_abundances=[];solar_errors=[]\n",
    "for name in apogee['names']:\n",
    "    for i in range(len(sol_els)):\n",
    "        if name==sol_els[i]:\n",
    "            solar_abundances.append(sol_data[i])\n",
    "            solar_errors.append(sol_err[i])"
   ]
  },
  {
   "cell_type": "code",
   "execution_count": 9,
   "metadata": {},
   "outputs": [],
   "source": [
    "APOGEE_abundances=apogee['abun'][:n_stars]\n",
    "APOGEE_errors=apogee['abun_err'][:n_stars]"
   ]
  },
  {
   "cell_type": "code",
   "execution_count": 10,
   "metadata": {},
   "outputs": [],
   "source": [
    "# FOR TESTING\n",
    "n_stars=1\n",
    "mu_ages = [np.array(sol_ages)]\n",
    "sigma_ages = [np.array(sol_sigma_ages)]\n",
    "APOGEE_abundances=np.matrix(solar_abundances)\n",
    "APOGEE_errors=np.matrix(solar_errors)"
   ]
  },
  {
   "cell_type": "code",
   "execution_count": 11,
   "metadata": {},
   "outputs": [],
   "source": [
    "unnormalized_prior_means = norm_means[:5] \n",
    "unnormalized_prior_sigmas = norm_widths[:5]"
   ]
  },
  {
   "cell_type": "code",
   "execution_count": 12,
   "metadata": {},
   "outputs": [],
   "source": [
    "# Read in priors:\n",
    "Lambda_prior_mu = unnormalized_prior_means[:2]-norm_means[:2]\n",
    "Lambda_prior_sigma = unnormalized_prior_sigmas[:2]/norm_widths[:2]\n",
    "Theta_prior_mu = unnormalized_prior_means[2:5]-norm_means[2:5]\n",
    "Theta_prior_sigma = unnormalized_prior_sigmas[2:5]/norm_widths[2:5]\n",
    "\n",
    "# Define stacked local priors\n",
    "Local_prior_mu = np.vstack([np.hstack([Theta_prior_mu,mu_ages[i]]) for i in range(n_stars)])\n",
    "Local_prior_sigma = np.vstack([np.hstack([Theta_prior_sigma,sigma_ages[i]]) for i in range(n_stars)])"
   ]
  },
  {
   "cell_type": "markdown",
   "metadata": {},
   "source": [
    "## Define Priors and Likelihoods"
   ]
  },
  {
   "cell_type": "code",
   "execution_count": 25,
   "metadata": {},
   "outputs": [],
   "source": [
    "def neg_log_prior_global(Lambda):\n",
    "    # Return prior for global parameters\n",
    "    tmp = (Lambda-Lambda_prior_mu)/Lambda_prior_sigma\n",
    "    return 0.5*np.sum(tmp**2.)\n",
    "def neg_log_prior_local(Thetas,ages):\n",
    "    # Return prior for local parameters\n",
    "    # input is Thetas local variables, ages of stars\n",
    "    # This returns a vector of priors for each star\n",
    "    all_local=np.hstack([Thetas,ages])\n",
    "    tmp = (all_local-Local_prior_mu)/Local_prior_sigma\n",
    "    return 0.5*np.sum(np.square(tmp),axis=1)"
   ]
  },
  {
   "cell_type": "code",
   "execution_count": 26,
   "metadata": {},
   "outputs": [],
   "source": [
    "def each_star_likelihood(Lambda,Thetas,ages):\n",
    "    # Return negative log likelihood for each star\n",
    "    Lambda_arr = np.vstack([Lambda for _ in range(len(ages))])\n",
    "    prediction = neural_net(np.hstack([Lambda_arr,Thetas,ages]))\n",
    "    true_data = APOGEE_abundances\n",
    "    error = APOGEE_errors\n",
    "    tmp = (prediction-true_data)/error\n",
    "    return 0.5*np.sum(np.square(tmp),axis=1)\n",
    "def all_star_likelihood(Lambda,Thetas,ages):\n",
    "    # Return negative log likelihood for many stars\n",
    "    predictions=neural_net(np.hstack([Lambda,Thetas,ages]))\n",
    "    true_data = APOGEE_abundances\n",
    "    error = APOGEE_errors\n",
    "    temp_matrix = ((predictions-true_data)/error)\n",
    "    return np.sum(np.matmul(temp_matrix,temp_matrix.T))"
   ]
  },
  {
   "cell_type": "code",
   "execution_count": 27,
   "metadata": {},
   "outputs": [],
   "source": [
    "def Lambda_distribution(Lambda_new,Thetas,ages):\n",
    "    # Probability distribution P(Lambda|Thetas,ages)\n",
    "    # Returns negative log probability\n",
    "    Lambda_array = np.matmul(np.matrix(np.ones(len(Thetas))).T,np.matrix(Lambda_new))\n",
    "    return all_star_likelihood(Lambda_array,Thetas,ages)+neg_log_prior_global(Lambda_new)\n",
    "def Local_distribution(Thetas_new,ages_new,Lambda):\n",
    "    # Probability distribution P(Theta_j,age_j|Lambda) for star j\n",
    "    # Returns negative log probability\n",
    "    like=each_star_likelihood(Lambda,Thetas_new,ages_new)\n",
    "    prior = neg_log_prior_local(Thetas_new,ages_new)\n",
    "    return like+prior "
   ]
  },
  {
   "cell_type": "markdown",
   "metadata": {},
   "source": [
    "## Construct the Gibbs Sampler"
   ]
  },
  {
   "cell_type": "code",
   "execution_count": 29,
   "metadata": {},
   "outputs": [
    {
     "name": "stdout",
     "output_type": "stream",
     "text": [
      "Step 500 of 5500 complete\n",
      "Step 1000 of 5500 complete\n",
      "Step 1500 of 5500 complete\n",
      "Step 2000 of 5500 complete\n",
      "Step 2500 of 5500 complete\n",
      "Step 3000 of 5500 complete\n",
      "Step 3500 of 5500 complete\n",
      "Step 4000 of 5500 complete\n",
      "Step 4500 of 5500 complete\n",
      "Step 5000 of 5500 complete\n",
      "Local Acceptance Fraction 0.6\n",
      "Global Acceptance Fraction: 0.65\n"
     ]
    }
   ],
   "source": [
    "## PARAMETERS\n",
    "n_walk=16\n",
    "a = 2.; # sampler proposal distribution\n",
    "n_dim=len(Lambda_prior_mu); # spatial dimension\n",
    "steps=5000\n",
    "burn=500\n",
    "local_repeats=3\n",
    "global_repeats=3\n",
    "seed = 1\n",
    "\n",
    "# Initial Positions\n",
    "initial_Lambda = Lambda_prior_mu+0.1*np.random.randn(len(Lambda_prior_mu))*Lambda_prior_sigma\n",
    "\n",
    "np.random.seed(seed)\n",
    "\n",
    "# Initialization: \n",
    "current_walkers = np.asarray([list(Lambda_prior_mu+0.1*np.random.randn(2)*Lambda_prior_sigma) for _ in range(n_walk)])\n",
    "accept=0\n",
    "accept_local=0\n",
    "split_walk=int(n_walk/2) # for convenience\n",
    "chain_walkers=np.zeros([n_dim,(burn+steps)*n_walk*global_repeats])\n",
    "for i in range(n_walk):\n",
    "    chain_walkers[:,i]=current_walkers[i]\n",
    "\n",
    "# Initialize variables\n",
    "local_dim=len(Theta_prior_mu)+1; # spatial dimension\n",
    "local_walkers=np.zeros([n_walk,local_dim,n_stars])\n",
    "\n",
    "for w in range(n_walk):\n",
    "    for s in range(n_stars):\n",
    "        for i in range(len(Theta_prior_mu)):\n",
    "                local_walkers[w,i,s]=Theta_prior_mu[i]+0.1*np.random.randn()*Theta_prior_sigma[i]\n",
    "        local_walkers[w,len(Theta_prior_mu),s]=mu_ages[s]+0.1*sigma_ages[s]*np.random.randn()\n",
    "\n",
    "old_Thetas=local_walkers[:,1:,:]\n",
    "old_Ages=local_walkers[:,0,:].reshape([n_walk,1,n_stars])\n",
    "\n",
    "this_old_Thetas=old_Thetas[-1]\n",
    "this_old_Ages=old_Ages[-1]\n",
    "\n",
    "tmp_theta=np.zeros([old_Thetas.shape[1],n_stars,burn+steps])\n",
    "\n",
    "\n",
    "mean_Ages=np.zeros_like(old_Ages[-1])\n",
    "mean_Thetas=np.zeros_like(old_Thetas[-1])\n",
    "        \n",
    "# ALGORITHM:\n",
    "for m in range(1,steps+burn):\n",
    "    if m%500==0:\n",
    "        print(\"Step %d of %d complete\" %(m,steps+burn))\n",
    "        \n",
    "    ## GLOBAL UPDATE:\n",
    "    # Choose some value for thetas and ages\n",
    "    this_old_Thetas=old_Thetas[-1]\n",
    "    this_old_Ages=old_Ages[-1]\n",
    "    \n",
    "    \n",
    "    ## Update estimates of mean ages and thetas:\n",
    "    if m>burn:\n",
    "        mean_Ages+=this_old_Ages\n",
    "        mean_Thetas+=this_old_Thetas\n",
    "        for star_index in range(n_stars):\n",
    "            tmp_theta[:,star_index,m]=this_old_Thetas[:,star_index]\n",
    "     \n",
    "    \n",
    "    # First update probabilities:\n",
    "    old_prob = np.asarray([Lambda_distribution(np.asarray(current_walkers[kk]),this_old_Thetas.T,this_old_Ages.T) for kk in range(2*split_walk)])\n",
    "\n",
    "    for g in range(global_repeats):\n",
    "        for i in range(2): # Split the ensemble into two sets\n",
    "            # Update walkers in parallel:\n",
    "            k_indices=range(split_walk*i,split_walk*(i+1))\n",
    "            # Pick random walker indices from the other half of the ensemble\n",
    "            if i==0:\n",
    "                j_indices = list(np.random.randint(split_walk,2*split_walk,split_walk))\n",
    "            if i==1:\n",
    "                j_indices = list(np.random.randint(0,split_walk,split_walk))\n",
    "            # Propose a new walker\n",
    "            u=np.random.uniform(size=split_walk)\n",
    "            Z = np.matrix(1./a*pow(u*(a-1.)+1.,2.))\n",
    "            ZZ = np.matmul(Z.T,np.matrix(np.ones(n_dim)))\n",
    "            proposed_walkers = current_walkers[j_indices]+np.multiply(ZZ,(current_walkers[k_indices]-current_walkers[j_indices]))\n",
    "            # Define new probability\n",
    "\n",
    "            ## TO DO: PARALLELIZE THIS:\n",
    "            new_prob = np.asarray([Lambda_distribution(np.asarray(proposed_walkers[kk]),this_old_Thetas.T,this_old_Ages.T) for kk in range(split_walk)])\n",
    "\n",
    "            # Now accept or reject walkers:\n",
    "            rand = np.asmatrix(np.random.uniform(size=split_walk))\n",
    "            tmp=np.multiply(np.power(Z,n_dim-1.),np.matrix(np.exp(old_prob[k_indices]-new_prob)))\n",
    "            accept_indices = np.where(rand<tmp)[1]\n",
    "            # Update probability and walkers:\n",
    "            current_walkers[split_walk*i+np.asarray(accept_indices)]=proposed_walkers[accept_indices]\n",
    "            old_prob[split_walk*i+np.asarray(accept_indices)]=new_prob[accept_indices]\n",
    "\n",
    "            accept+=len(accept_indices)\n",
    "            # Update chain:\n",
    "            for k in k_indices:\n",
    "                chain_walkers[:,g*global_repeats+m*n_walk*global_repeats+k]=current_walkers[k]\n",
    "\n",
    "    ## LOCAL UPDATE\n",
    "    current_Lambda=current_walkers[-1]#np.mean(current_walkers,axis=0)\n",
    "    for r in range(local_repeats):\n",
    "        for i in range(2):\n",
    "            k_indices=range(split_walk*i,split_walk*(i+1))\n",
    "            # Pick random walker indices from the other half of the ensemble\n",
    "            if i==0:\n",
    "                j_indices = list(np.random.randint(split_walk,2*split_walk,split_walk))\n",
    "            if i==1:\n",
    "                j_indices = list(np.random.randint(0,split_walk,split_walk))\n",
    "            # Now iterate over walkers\n",
    "            for id_k,k in enumerate(k_indices):\n",
    "                # Define old probability\n",
    "                old_local_probs = Local_distribution(np.asmatrix(old_Thetas[k]).T,np.asmatrix(old_Ages[k]).T,current_Lambda)\n",
    "                # Propose a new walker\n",
    "                u=np.random.uniform(size=n_stars)\n",
    "                Z = np.matrix(1./a*pow(u*(a-1.)+1.,2.))\n",
    "                ZZ = np.matmul(Z.T,np.matrix(np.ones(local_dim)))\n",
    "                proposed_walkers = local_walkers[j_indices[id_k]]+np.multiply(ZZ.T,(local_walkers[k]-local_walkers[j_indices[id_k]]))\n",
    "                # Compute new probability:\n",
    "                new_local_probs = Local_distribution(proposed_walkers[1:].T,proposed_walkers[0].T,current_Lambda)\n",
    "                # Now accept via a Metropolis step:\n",
    "                random_variable = np.asmatrix(np.random.uniform(size=n_stars)).T\n",
    "                accept_prob = np.exp(old_local_probs-new_local_probs)\n",
    "                change_indices = np.where(random_variable<accept_prob)[0]\n",
    "                if m>burn:\n",
    "                    accept_local+=len(change_indices)\n",
    "\n",
    "                # Now accept the steps for the relevant stars, keeping others constant:\n",
    "                old_Thetas[k,:,change_indices]=np.asarray(proposed_walkers[1:,change_indices]).T\n",
    "                old_Ages[k,:,change_indices]=np.asarray(proposed_walkers[0,change_indices]).T\n",
    "                local_walkers[k,:,change_indices]=proposed_walkers[:,change_indices].T\n",
    "        \n",
    "# Compute averages\n",
    "mean_Ages/=float(steps)\n",
    "mean_Thetas/=float(steps)\n",
    "# Compute acceptance fraction\n",
    "accept_local=float(accept_local)/(n_stars*local_repeats*steps*n_walk)\n",
    "\n",
    "print(\"Local Acceptance Fraction %.1f\"%(accept_local))\n",
    "      \n",
    "print(\"Global Acceptance Fraction: %.2f\" %(float(accept)/(global_repeats*steps*n_walk)))"
   ]
  },
  {
   "cell_type": "code",
   "execution_count": null,
   "metadata": {},
   "outputs": [],
   "source": []
  },
  {
   "cell_type": "code",
   "execution_count": null,
   "metadata": {},
   "outputs": [],
   "source": []
  },
  {
   "cell_type": "code",
   "execution_count": null,
   "metadata": {},
   "outputs": [],
   "source": []
  },
  {
   "cell_type": "code",
   "execution_count": null,
   "metadata": {},
   "outputs": [],
   "source": []
  },
  {
   "cell_type": "code",
   "execution_count": 30,
   "metadata": {},
   "outputs": [],
   "source": [
    "# Now output the chain\n",
    "thin=10\n",
    "output_chain = chain_walkers[:,burn*n_walk::thin]"
   ]
  },
  {
   "cell_type": "code",
   "execution_count": 31,
   "metadata": {},
   "outputs": [],
   "source": [
    "alpha_imf=output_chain[0,:]*norm_widths[0]+norm_means[0]\n",
    "log10_N1a=output_chain[1,:]*norm_widths[1]+norm_means[1]"
   ]
  },
  {
   "cell_type": "code",
   "execution_count": 32,
   "metadata": {},
   "outputs": [
    {
     "data": {
      "image/png": "[encoded data removed]",
      "text/plain": [
       "<Figure size 432x288 with 1 Axes>"
      ]
     },
     "metadata": {
      "needs_background": "light"
     },
     "output_type": "display_data"
    }
   ],
   "source": [
    "plt.acorr(alpha_imf,maxlags=100);"
   ]
  },
  {
   "cell_type": "code",
   "execution_count": 33,
   "metadata": {},
   "outputs": [
    {
     "data": {
      "image/png": "[encoded data removed]",
      "text/plain": [
       "<Figure size 432x288 with 1 Axes>"
      ]
     },
     "metadata": {
      "needs_background": "light"
     },
     "output_type": "display_data"
    }
   ],
   "source": [
    "plt.plot(alpha_imf,label='Posterior');FS=15\n",
    "plt.hlines(norm_means[0],0,len(alpha_imf),color='r',label='Prior')\n",
    "plt.hlines(norm_means[0]-norm_widths[0],0,len(alpha_imf),color='r',linestyles='--')\n",
    "plt.hlines(norm_means[0]+norm_widths[0],0,len(alpha_imf),color='r',linestyles='--')\n",
    "plt.xlim([0,len(alpha_imf)]);plt.legend()\n",
    "plt.ylabel(r'$\\alpha_\\mathrm{IMF}$',fontsize=FS)\n",
    "plt.xlabel(r'Trace',fontsize=FS);\n",
    "plt.title(r'Trace Plot for $\\alpha_\\mathrm{IMF}$',fontsize=FS);"
   ]
  },
  {
   "cell_type": "code",
   "execution_count": 34,
   "metadata": {},
   "outputs": [
    {
     "data": {
      "image/png": "[encoded data removed]",
      "text/plain": [
       "<Figure size 432x288 with 1 Axes>"
      ]
     },
     "metadata": {
      "needs_background": "light"
     },
     "output_type": "display_data"
    }
   ],
   "source": [
    "plt.plot(log10_N1a,label='Posterior');FS=15\n",
    "plt.hlines(norm_means[1],0,len(log10_N1a),color='r',label='Prior')\n",
    "plt.hlines(norm_means[1]-norm_widths[1],0,len(log10_N1a),color='r',linestyles='--')\n",
    "plt.hlines(norm_means[1]+norm_widths[1],0,len(log10_N1a),color='r',linestyles='--')\n",
    "plt.xlim([0,len(log10_N1a)]);plt.legend()\n",
    "#plt.xlim([2100,2200])\n",
    "plt.ylabel(r'$\\log_{10}N_\\mathrm{Ia}$',fontsize=FS)\n",
    "plt.xlabel(r'Trace',fontsize=FS);\n",
    "plt.title(r'Trace Plot for $\\log_{10}N_\\mathrm{Ia}$',fontsize=FS);"
   ]
  },
  {
   "cell_type": "code",
   "execution_count": 45,
   "metadata": {},
   "outputs": [
    {
     "data": {
      "text/plain": [
       "[<matplotlib.lines.Line2D at 0x7f516530c5f8>]"
      ]
     },
     "execution_count": 45,
     "metadata": {},
     "output_type": "execute_result"
    },
    {
     "data": {
      "image/png": "[encoded data removed]",
      "text/plain": [
       "<Figure size 432x288 with 1 Axes>"
      ]
     },
     "metadata": {
      "needs_background": "light"
     },
     "output_type": "display_data"
    }
   ],
   "source": [
    "plt.plot(tmp_theta[0,0,:])"
   ]
  },
  {
   "cell_type": "code",
   "execution_count": 37,
   "metadata": {},
   "outputs": [
    {
     "data": {
      "image/png": "[encoded data removed]",
      "text/plain": [
       "<Figure size 432x288 with 1 Axes>"
      ]
     },
     "metadata": {
      "needs_background": "light"
     },
     "output_type": "display_data"
    }
   ],
   "source": [
    "prior_ellipse=matplotlib.patches.Ellipse([norm_means[0],norm_means[1]],norm_widths[0],norm_widths[1],fill=False,\\\n",
    "                                         linewidth=1,color='r',linestyle='--')\n",
    "prior_ellipse_2=matplotlib.patches.Ellipse([norm_means[0],norm_means[1]],2*norm_widths[0],2*norm_widths[1],fill=False,\\\n",
    "                                         linewidth=1,color='r',linestyle='--',alpha=0.5)\n",
    "\n",
    "plt.scatter(alpha_imf,log10_N1a,s=1,label='Posterior')\n",
    "plt.scatter(norm_means[0],norm_means[1],label='Prior',c='r',s=10)\n",
    "plt.ylabel(r'$\\log_{10}N_\\mathrm{Ia}$',fontsize=FS);\n",
    "plt.legend();\n",
    "plt.xlabel(r'$\\alpha_\\mathrm{IMF}$',fontsize=FS)\n",
    "plt.title(r'Histogram of Posterior Samples',fontsize=FS);\n",
    "ax=plt.gca()\n",
    "ax.add_patch(prior_ellipse)\n",
    "ax=plt.gca()\n",
    "ax.add_patch(prior_ellipse_2);"
   ]
  },
  {
   "cell_type": "code",
   "execution_count": null,
   "metadata": {},
   "outputs": [],
   "source": []
  },
  {
   "cell_type": "code",
   "execution_count": null,
   "metadata": {},
   "outputs": [],
   "source": []
  },
  {
   "cell_type": "code",
   "execution_count": null,
   "metadata": {},
   "outputs": [],
   "source": []
  }
 ],
 "metadata": {
  "kernelspec": {
   "display_name": "Python 3",
   "language": "python",
   "name": "python3"
  },
  "language_info": {
   "codemirror_mode": {
    "name": "ipython",
    "version": 3
   },
   "file_extension": ".py",
   "mimetype": "text/x-python",
   "name": "python",
   "nbconvert_exporter": "python",
   "pygments_lexer": "ipython3",
   "version": "3.7.0"
  }
 },
 "nbformat": 4,
 "nbformat_minor": 2
}
