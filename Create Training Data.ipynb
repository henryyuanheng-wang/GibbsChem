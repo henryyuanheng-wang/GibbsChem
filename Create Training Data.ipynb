{
 "cells": [
  {
   "cell_type": "code",
   "execution_count": 1,
   "metadata": {},
   "outputs": [
    {
     "name": "stdout",
     "output_type": "stream",
     "text": [
      "Populating the interactive namespace from numpy and matplotlib\n"
     ]
    }
   ],
   "source": [
    "%pylab inline"
   ]
  },
  {
   "cell_type": "markdown",
   "metadata": {},
   "source": [
    "#### Create the training data for use with the neural network. We must also save the affine scaling parameters."
   ]
  },
  {
   "cell_type": "code",
   "execution_count": 2,
   "metadata": {},
   "outputs": [],
   "source": [
    "from Chempy.parameter import ModelParameters"
   ]
  },
  {
   "cell_type": "code",
   "execution_count": 3,
   "metadata": {},
   "outputs": [],
   "source": [
    "a = ModelParameters()\n",
    "\n",
    "# Define training size\n",
    "N = 8.  # 6 grid points per parameter\n",
    "#widths = a.training_widths # Gaussian training widths for parameters\n",
    "widths = [0.3, 0.3, 0.3, 0.1, 0.1]"
   ]
  },
  {
   "cell_type": "code",
   "execution_count": 4,
   "metadata": {},
   "outputs": [],
   "source": [
    "# Make array for log time\n",
    "time_array = np.linspace(0.5,2.5,int(N)) # make array wider than observed time dataset"
   ]
  },
  {
   "cell_type": "code",
   "execution_count": 89,
   "metadata": {},
   "outputs": [],
   "source": [
    "from scipy.stats import norm as gaussian\n",
    "prob = np.linspace(1/(N+1), 1-1/(N+1), int(N))\n",
    "grids = [gaussian.ppf(prob) for _ in range(len(a.p0))] # Normalize to unit Gaussian\n",
    "grids.append(time_array) ## add time array to this grid\n",
    "norm_grid = np.array(np.meshgrid(*grids)).T.reshape(-1,len(a.p0)+1)"
   ]
  },
  {
   "cell_type": "code",
   "execution_count": 90,
   "metadata": {},
   "outputs": [],
   "source": [
    "# Create grid in parameter space\n",
    "full_widths = list(widths)+[1.]\n",
    "means = list(a.p0)+[0.]\n",
    "param_grid = [np.asarray(item)*full_widths+means for item in norm_grid]"
   ]
  },
  {
   "cell_type": "markdown",
   "metadata": {},
   "source": [
    "**Save the two grids to file:**"
   ]
  },
  {
   "cell_type": "markdown",
   "metadata": {},
   "source": [
    "- ```norm_grid``` is an array of $N^6$ sets of 6d parameter vectors.\n",
    "- NB: The first five parameters are **normalized**: to get true values multiply by the width and add the mean value.\n",
    "- The time parameter is **not** normalized (since it is not drawn froma  Gaussian here)\n",
    "\n",
    "\n",
    "- ```Param_grid``` is of the same form but with the full grid of parameters (with no normalization applied)\n",
    "- Each element is of the form $(\\Theta_1,\\Theta_2,\\Lambda_1,\\Lambda_2,\\Lambda_3,T)$ \n",
    "\n",
    "\n",
    "- ```means``` gives the prior means for the parameters (for reconstruction from the normalized parameters)\n",
    "- ```full_widths``` gives the scaling widths to multiply the normalized parameters by to get the true parameters.\n",
    "\n",
    "NB: we include a 0 mean and 1. width for the time parameter so we can always write true_parameter = norm_parameter x width + means"
   ]
  },
  {
   "cell_type": "code",
   "execution_count": 91,
   "metadata": {},
   "outputs": [],
   "source": [
    "np.savez('APOGEE Training Data',norm_grid=norm_grid,param_grid=param_grid,full_widths=full_widths,means=means)"
   ]
  },
  {
   "cell_type": "code",
   "execution_count": null,
   "metadata": {},
   "outputs": [],
   "source": []
  },
  {
   "cell_type": "code",
   "execution_count": null,
   "metadata": {},
   "outputs": [],
   "source": []
  },
  {
   "cell_type": "markdown",
   "metadata": {},
   "source": [
    "## Load and play with training data"
   ]
  },
  {
   "cell_type": "code",
   "execution_count": 5,
   "metadata": {},
   "outputs": [
    {
     "name": "stdout",
     "output_type": "stream",
     "text": [
      "Populating the interactive namespace from numpy and matplotlib\n"
     ]
    }
   ],
   "source": [
    "%pylab inline\n",
    "training_dat = np.load('APOGEE_Training_Predictions.npz')\n",
    "trainY=training_dat['abundances']\n",
    "trainX=training_dat['norm_params']"
   ]
  },
  {
   "cell_type": "code",
   "execution_count": 9,
   "metadata": {},
   "outputs": [],
   "source": [
    "neurons = 20\n",
    "learning_rate=0.01\n",
    "epochs=1000"
   ]
  },
  {
   "cell_type": "code",
   "execution_count": 13,
   "metadata": {},
   "outputs": [
    {
     "name": "stderr",
     "output_type": "stream",
     "text": [
      "/home/oliverphilcox/anaconda3/lib/python3.7/site-packages/torch/nn/functional.py:52: UserWarning: size_average and reduce args will be deprecated, please use reduction='elementwise_mean' instead.\n",
      "  warnings.warn(warning.format(ret))\n",
      "/home/oliverphilcox/anaconda3/lib/python3.7/site-packages/ipykernel_launcher.py:42: UserWarning: invalid index of a 0-dim tensor. This will be an error in PyTorch 0.5. Use tensor.item() to convert a 0-dim tensor to a Python number\n"
     ]
    },
    {
     "name": "stdout",
     "output_type": "stream",
     "text": [
      "Training epoch 0 of 1000 complete\n",
      "Training epoch 100 of 1000 complete\n",
      "Training epoch 200 of 1000 complete\n",
      "Training epoch 300 of 1000 complete\n",
      "Training epoch 400 of 1000 complete\n",
      "Training epoch 500 of 1000 complete\n",
      "Training epoch 600 of 1000 complete\n",
      "Training epoch 700 of 1000 complete\n",
      "Training epoch 800 of 1000 complete\n",
      "Training epoch 900 of 1000 complete\n"
     ]
    },
    {
     "data": {
      "image/png": "[encoded data removed]",
      "text/plain": [
       "<Figure size 432x288 with 1 Axes>"
      ]
     },
     "metadata": {
      "needs_background": "light"
     },
     "output_type": "display_data"
    }
   ],
   "source": [
    "import torch\n",
    "from torch.autograd import Variable\n",
    "\n",
    "n_train = len(trainY)\n",
    "\n",
    "# Calculate the model dimensions\n",
    "dim_in = trainX.shape[1]\n",
    "dim_out = trainY.shape[1]\n",
    "\n",
    "# Convert to torch variables\n",
    "tr_input = Variable(torch.from_numpy(trainX)).type(torch.FloatTensor)\n",
    "tr_output = Variable(torch.from_numpy(trainY), requires_grad=False).type(torch.FloatTensor)\n",
    "\n",
    "# Set up the neural network, with one hidden layer\n",
    "model = [] # Remove any previous network\n",
    "\n",
    "model = torch.nn.Sequential(\n",
    "    torch.nn.Linear(dim_in,neurons),\n",
    "    torch.nn.Tanh(),\n",
    "    torch.nn.Linear(neurons,dim_out)\n",
    "    )\n",
    "loss_fn = torch.nn.L1Loss(size_average=True)\n",
    "\n",
    "# Use Adam optimizer with learning rate specified in parameter.py\n",
    "optimizer = torch.optim.Adam(model.parameters(), lr = learning_rate)\n",
    "scheduler = torch.optim.lr_scheduler.ReduceLROnPlateau(optimizer, 'min')\n",
    "\n",
    "# For loss records\n",
    "losslog = []\n",
    "epoch = []\n",
    "\n",
    "# Train neural network\n",
    "for i in range(epochs):\n",
    "    pred_output = model(tr_input)\n",
    "    loss = loss_fn(pred_output, tr_output)\n",
    "    optimizer.zero_grad() # Initially zero gradient\n",
    "    loss.backward() # Backpropagation\n",
    "    optimizer.step() # Update via optimizer\n",
    "    scheduler.step(loss) # Update learning rate\n",
    "        \n",
    "    if i % 3 ==0:\n",
    "        losslog.append(loss.data[0])\n",
    "        epoch.append(i)\n",
    "    if i % 100==0:\n",
    "        print(\"Training epoch %d of %d complete\" %(i,epochs))\n",
    "\n",
    "# Convert weights to numpy arrays\n",
    "model_numpy = []\n",
    "for param in model.parameters():\n",
    "    model_numpy.append(param.data.numpy())\n",
    "\n",
    "np.savez(\"Neural/neural_model.npz\",\n",
    "            w_array_0=model_numpy[0],\n",
    "            b_array_0=model_numpy[1],\n",
    "            w_array_1=model_numpy[2],\n",
    "            b_array_1=model_numpy[3])\n",
    "\n",
    "plt.plot(epoch,losslog,label=learning_rate)\n",
    "plt.ylabel(\"L1 Loss value\")\n",
    "plt.xlabel(\"Epoch\")\n",
    "plt.title(\"Loss plot\")\n",
    "plt.legend()\n",
    "plt.show()\n"
   ]
  },
  {
   "cell_type": "code",
   "execution_count": 16,
   "metadata": {},
   "outputs": [
    {
     "data": {
      "image/png": "[encoded data removed]",
      "text/plain": [
       "<Figure size 432x288 with 1 Axes>"
      ]
     },
     "metadata": {
      "needs_background": "light"
     },
     "output_type": "display_data"
    }
   ],
   "source": [
    "plt.plot(epoch,losslog,label=learning_rate)\n",
    "plt.ylabel(\"L1 Loss value\")\n",
    "plt.xlabel(\"Epoch\")\n",
    "plt.title(\"Loss plot\")\n",
    "plt.legend()\n",
    "plt.show()"
   ]
  },
  {
   "cell_type": "code",
   "execution_count": null,
   "metadata": {},
   "outputs": [],
   "source": []
  },
  {
   "cell_type": "code",
   "execution_count": null,
   "metadata": {},
   "outputs": [],
   "source": []
  }
 ],
 "metadata": {
  "kernelspec": {
   "display_name": "Python 3",
   "language": "python",
   "name": "python3"
  },
  "language_info": {
   "codemirror_mode": {
    "name": "ipython",
    "version": 3
   },
   "file_extension": ".py",
   "mimetype": "text/x-python",
   "name": "python",
   "nbconvert_exporter": "python",
   "pygments_lexer": "ipython3",
   "version": "3.7.0"
  }
 },
 "nbformat": 4,
 "nbformat_minor": 2
}
