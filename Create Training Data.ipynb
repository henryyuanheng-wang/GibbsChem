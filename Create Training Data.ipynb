{
 "cells": [
  {
   "cell_type": "code",
   "execution_count": 1,
   "metadata": {},
   "outputs": [
    {
     "name": "stdout",
     "output_type": "stream",
     "text": [
      "Populating the interactive namespace from numpy and matplotlib\n"
     ]
    }
   ],
   "source": [
    "%pylab inline"
   ]
  },
  {
   "cell_type": "markdown",
   "metadata": {},
   "source": [
    "#### Create the training data for use with the neural network. We must also save the affine scaling parameters."
   ]
  },
  {
   "cell_type": "code",
   "execution_count": 86,
   "metadata": {},
   "outputs": [],
   "source": [
    "from Chempy.parameter import ModelParameters"
   ]
  },
  {
   "cell_type": "code",
   "execution_count": 87,
   "metadata": {},
   "outputs": [],
   "source": [
    "a = ModelParameters()\n",
    "\n",
    "# Define training size\n",
    "N = 8.  # 6 grid points per parameter\n",
    "#widths = a.training_widths # Gaussian training widths for parameters\n",
    "widths = [0.3, 0.3, 0.3, 0.1, 0.1]"
   ]
  },
  {
   "cell_type": "code",
   "execution_count": 88,
   "metadata": {},
   "outputs": [],
   "source": [
    "# Make array for log time\n",
    "time_array = np.linspace(0.5,2.5,int(N)) # make array wider than observed time dataset"
   ]
  },
  {
   "cell_type": "code",
   "execution_count": 89,
   "metadata": {},
   "outputs": [],
   "source": [
    "from scipy.stats import norm as gaussian\n",
    "prob = np.linspace(1/(N+1), 1-1/(N+1), int(N))\n",
    "grids = [gaussian.ppf(prob) for _ in range(len(a.p0))] # Normalize to unit Gaussian\n",
    "grids.append(time_array) ## add time array to this grid\n",
    "norm_grid = np.array(np.meshgrid(*grids)).T.reshape(-1,len(a.p0)+1)"
   ]
  },
  {
   "cell_type": "code",
   "execution_count": 90,
   "metadata": {},
   "outputs": [],
   "source": [
    "# Create grid in parameter space\n",
    "full_widths = list(widths)+[1.]\n",
    "means = list(a.p0)+[0.]\n",
    "param_grid = [np.asarray(item)*full_widths+means for item in norm_grid]"
   ]
  },
  {
   "cell_type": "markdown",
   "metadata": {},
   "source": [
    "**Save the two grids to file:**"
   ]
  },
  {
   "cell_type": "markdown",
   "metadata": {},
   "source": [
    "- ```norm_grid``` is an array of $N^6$ sets of 6d parameter vectors.\n",
    "- NB: The first five parameters are **normalized**: to get true values multiply by the width and add the mean value.\n",
    "- The time parameter is **not** normalized (since it is not drawn froma  Gaussian here)\n",
    "\n",
    "\n",
    "- ```Param_grid``` is of the same form but with the full grid of parameters (with no normalization applied)\n",
    "- Each element is of the form $(\\Theta_1,\\Theta_2,\\Lambda_1,\\Lambda_2,\\Lambda_3,T)$ \n",
    "\n",
    "\n",
    "- ```means``` gives the prior means for the parameters (for reconstruction from the normalized parameters)\n",
    "- ```full_widths``` gives the scaling widths to multiply the normalized parameters by to get the true parameters.\n",
    "\n",
    "NB: we include a 0 mean and 1. width for the time parameter so we can always write true_parameter = norm_parameter x width + means"
   ]
  },
  {
   "cell_type": "code",
   "execution_count": 91,
   "metadata": {},
   "outputs": [],
   "source": [
    "np.savez('APOGEE Training Data',norm_grid=norm_grid,param_grid=param_grid,full_widths=full_widths,means=means)"
   ]
  },
  {
   "cell_type": "code",
   "execution_count": null,
   "metadata": {},
   "outputs": [],
   "source": []
  },
  {
   "cell_type": "code",
   "execution_count": null,
   "metadata": {},
   "outputs": [],
   "source": []
  },
  {
   "cell_type": "markdown",
   "metadata": {},
   "source": [
    "## Load and play with training data"
   ]
  },
  {
   "cell_type": "code",
<<<<<<< HEAD
   "execution_count": 1,
=======
   "execution_count": 23,
>>>>>>> 5ecaf891b2fcbce498fb153b7012229e7abad6eb
   "metadata": {},
   "outputs": [
    {
     "name": "stdout",
     "output_type": "stream",
     "text": [
      "Populating the interactive namespace from numpy and matplotlib\n"
     ]
    }
   ],
   "source": [
    "%pylab inline\n",
<<<<<<< HEAD
    "training_x_dat = np.load('../GibbsChem/Network Training Data/APOGEE Training Data.npz')\n",
    "trainX=training_x_dat['norm_grid']\n",
    "training_y_dat = np.load('../GibbsChem/Network Training Data/APOGEE Training Predictions.npz')\n",
    "trainY=training_y_dat['abundances']"
=======
    "training_dat = np.load('APOGEE_Training_Predictions.npz')\n",
    "trainY=training_dat['abundances']\n",
    "trainX=training_dat['norm_params']"
>>>>>>> 5ecaf891b2fcbce498fb153b7012229e7abad6eb
   ]
  },
  {
   "cell_type": "code",
<<<<<<< HEAD
   "execution_count": 33,
=======
   "execution_count": 13,
>>>>>>> 5ecaf891b2fcbce498fb153b7012229e7abad6eb
   "metadata": {},
   "outputs": [],
   "source": [
    "neurons = 20\n",
    "learning_rate=0.001\n",
    "epochs=5000"
   ]
  },
  {
   "cell_type": "code",
   "execution_count": 34,
   "metadata": {},
   "outputs": [
    {
     "name": "stderr",
     "output_type": "stream",
     "text": [
      "/home/oliverphilcox/anaconda2/lib/python2.7/site-packages/ipykernel_launcher.py:40: UserWarning: invalid index of a 0-dim tensor. This will be an error in PyTorch 0.5. Use tensor.item() to convert a 0-dim tensor to a Python number\n"
     ]
    },
    {
     "name": "stdout",
     "output_type": "stream",
     "text": [
      "Training epoch 0 of 5000 complete\n",
      "Training epoch 100 of 5000 complete\n",
      "Training epoch 200 of 5000 complete\n",
      "Training epoch 300 of 5000 complete\n",
      "Training epoch 400 of 5000 complete\n",
      "Training epoch 500 of 5000 complete\n",
      "Training epoch 600 of 5000 complete\n",
      "Training epoch 700 of 5000 complete\n",
      "Training epoch 800 of 5000 complete\n",
      "Training epoch 900 of 5000 complete\n",
      "Training epoch 1000 of 5000 complete\n",
      "Training epoch 1100 of 5000 complete\n",
      "Training epoch 1200 of 5000 complete\n",
      "Training epoch 1300 of 5000 complete\n",
      "Training epoch 1400 of 5000 complete\n",
      "Training epoch 1500 of 5000 complete\n",
      "Training epoch 1600 of 5000 complete\n",
      "Training epoch 1700 of 5000 complete\n",
      "Training epoch 1800 of 5000 complete\n",
      "Training epoch 1900 of 5000 complete\n",
      "Training epoch 2000 of 5000 complete\n",
      "Training epoch 2100 of 5000 complete\n",
      "Training epoch 2200 of 5000 complete\n",
      "Training epoch 2300 of 5000 complete\n",
      "Training epoch 2400 of 5000 complete\n",
      "Training epoch 2500 of 5000 complete\n",
      "Training epoch 2600 of 5000 complete\n",
      "Training epoch 2700 of 5000 complete\n",
      "Training epoch 2800 of 5000 complete\n",
      "Training epoch 2900 of 5000 complete\n",
      "Training epoch 3000 of 5000 complete\n",
      "Training epoch 3100 of 5000 complete\n",
      "Training epoch 3200 of 5000 complete\n",
      "Training epoch 3300 of 5000 complete\n",
      "Training epoch 3400 of 5000 complete\n",
      "Training epoch 3500 of 5000 complete\n",
      "Training epoch 3600 of 5000 complete\n",
      "Training epoch 3700 of 5000 complete\n",
      "Training epoch 3800 of 5000 complete\n",
      "Training epoch 3900 of 5000 complete\n",
      "Training epoch 4000 of 5000 complete\n",
      "Training epoch 4100 of 5000 complete\n",
      "Training epoch 4200 of 5000 complete\n",
      "Training epoch 4300 of 5000 complete\n",
      "Training epoch 4400 of 5000 complete\n",
      "Training epoch 4500 of 5000 complete\n",
      "Training epoch 4600 of 5000 complete\n",
      "Training epoch 4700 of 5000 complete\n",
      "Training epoch 4800 of 5000 complete\n",
      "Training epoch 4900 of 5000 complete\n"
     ]
    },
    {
     "data": {
      "image/png": "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\n",
      "text/plain": [
       "<Figure size 432x288 with 1 Axes>"
      ]
     },
     "metadata": {
      "needs_background": "light"
     },
     "output_type": "display_data"
    }
   ],
   "source": [
    "import torch\n",
    "from torch.autograd import Variable\n",
    "\n",
    "n_train = len(trainY)\n",
    "\n",
    "# Calculate the model dimensions\n",
    "dim_in = trainX.shape[1]\n",
    "dim_out = trainY.shape[1]\n",
    "\n",
    "# Convert to torch variables\n",
    "tr_input = Variable(torch.from_numpy(trainX[:n_train])).type(torch.FloatTensor)\n",
    "tr_output = Variable(torch.from_numpy(trainY[:n_train]), requires_grad=False).type(torch.FloatTensor)\n",
    "\n",
    "# Set up the neural network, with one hidden layer\n",
    "model = [] # Remove any previous network\n",
    "\n",
    "model = torch.nn.Sequential(\n",
    "    torch.nn.Linear(dim_in,neurons),\n",
    "    torch.nn.Tanh(),\n",
    "    torch.nn.Linear(neurons,dim_out)\n",
    "    )\n",
    "loss_fn = torch.nn.L1Loss(size_average=True)\n",
    "\n",
    "# Use Adam optimizer with learning rate specified in parameter.py\n",
    "optimizer = torch.optim.Adam(model.parameters(), lr = learning_rate)\n",
    "\n",
    "# For loss records\n",
    "losslog = []\n",
    "epoch = []\n",
    "\n",
    "# Train neural network\n",
    "for i in range(epochs):\n",
    "    pred_output = model(tr_input)\n",
    "    loss = loss_fn(pred_output, tr_output)\n",
    "    optimizer.zero_grad() # Initially zero gradient\n",
    "    loss.backward() # Backpropagation\n",
    "    optimizer.step() # Update via optimizer\n",
    "        \n",
    "    if i % 3 ==0:\n",
    "        losslog.append(loss.data[0])\n",
    "        epoch.append(i)\n",
    "    if i % 100==0:\n",
    "        print(\"Training epoch %d of %d complete\" %(i,epochs))\n",
    "\n",
    "# Convert weights to numpy arrays\n",
    "model_numpy = []\n",
    "for param in model.parameters():\n",
    "    model_numpy.append(param.data.numpy())\n",
    "\n",
    "np.savez(\"Neural/neural_model.npz\",\n",
    "            w_array_0=model_numpy[0],\n",
    "            b_array_0=model_numpy[1],\n",
    "            w_array_1=model_numpy[2],\n",
    "            b_array_1=model_numpy[3])\n",
    "\n",
    "plt.plot(epoch,losslog,label=learning_rate)\n",
    "plt.ylabel(\"L1 Loss value\")\n",
    "plt.yscale('log')\n",
    "plt.xscale('log')\n",
    "plt.xlabel(\"Epoch\")\n",
    "plt.title(\"Loss plot\")\n",
    "plt.legend()\n",
    "plt.show()\n"
   ]
  },
  {
   "cell_type": "code",
   "execution_count": null,
   "metadata": {},
   "outputs": [],
   "source": []
  },
  {
   "cell_type": "code",
   "execution_count": null,
   "metadata": {},
   "outputs": [],
   "source": []
  },
  {
   "cell_type": "code",
   "execution_count": null,
   "metadata": {},
   "outputs": [],
   "source": []
  },
  {
   "cell_type": "code",
   "execution_count": null,
   "metadata": {},
   "outputs": [],
   "source": []
  }
 ],
 "metadata": {
  "kernelspec": {
   "display_name": "Python 2",
   "language": "python",
   "name": "python2"
  },
  "language_info": {
   "codemirror_mode": {
    "name": "ipython",
    "version": 2
   },
   "file_extension": ".py",
   "mimetype": "text/x-python",
   "name": "python",
   "nbconvert_exporter": "python",
   "pygments_lexer": "ipython2",
   "version": "2.7.15"
  }
 },
 "nbformat": 4,
 "nbformat_minor": 2
}
