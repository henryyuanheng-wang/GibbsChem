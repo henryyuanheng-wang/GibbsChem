{
 "cells": [
  {
   "cell_type": "code",
   "execution_count": 85,
   "metadata": {},
   "outputs": [
    {
     "name": "stdout",
     "output_type": "stream",
     "text": [
      "Populating the interactive namespace from numpy and matplotlib\n"
     ]
    }
   ],
   "source": [
    "%pylab inline"
   ]
  },
  {
   "cell_type": "markdown",
   "metadata": {},
   "source": [
    "#### Create the training data for use with the neural network. We must also save the affine scaling parameters."
   ]
  },
  {
   "cell_type": "code",
   "execution_count": 86,
   "metadata": {},
   "outputs": [],
   "source": [
    "from Chempy.parameter import ModelParameters"
   ]
  },
  {
   "cell_type": "code",
   "execution_count": 87,
   "metadata": {},
   "outputs": [],
   "source": [
    "a = ModelParameters()\n",
    "\n",
    "# Define training size\n",
    "N = 8.  # 6 grid points per parameter\n",
    "#widths = a.training_widths # Gaussian training widths for parameters\n",
    "widths = [0.3, 0.3, 0.3, 0.1, 0.1]"
   ]
  },
  {
   "cell_type": "code",
   "execution_count": 88,
   "metadata": {},
   "outputs": [],
   "source": [
    "# Make array for log time\n",
    "time_array = np.linspace(0.5,2.5,int(N)) # make array wider than observed time dataset"
   ]
  },
  {
   "cell_type": "code",
   "execution_count": 89,
   "metadata": {},
   "outputs": [],
   "source": [
    "from scipy.stats import norm as gaussian\n",
    "prob = np.linspace(1/(N+1), 1-1/(N+1), int(N))\n",
    "grids = [gaussian.ppf(prob) for _ in range(len(a.p0))] # Normalize to unit Gaussian\n",
    "grids.append(time_array) ## add time array to this grid\n",
    "norm_grid = np.array(np.meshgrid(*grids)).T.reshape(-1,len(a.p0)+1)"
   ]
  },
  {
   "cell_type": "code",
   "execution_count": null,
   "metadata": {},
   "outputs": [],
   "source": [
    "# Create grid in parameter space\n",
    "full_widths = list(widths)+[1.]\n",
    "means = list(a.p0)+[0.]\n",
    "param_grid = [np.asarray(item)*full_widths+means for item in norm_grid]"
   ]
  },
  {
   "cell_type": "markdown",
   "metadata": {},
   "source": [
    "**Save the two grids to file:**"
   ]
  },
  {
   "cell_type": "markdown",
   "metadata": {},
   "source": [
    "- ```norm_grid``` is an array of $N^6$ sets of 6d parameter vectors.\n",
    "- NB: The first five parameters are **normalized**: to get true values multiply by the width and add the mean value.\n",
    "- The time parameter is **not** normalized (since it is not drawn froma  Gaussian here)\n",
    "\n",
    "\n",
    "- ```Param_grid``` is of the same form but with the full grid of parameters (with no normalization applied)\n",
    "- Each element is of the form $(\\Theta_1,\\Theta_2,\\Lambda_1,\\Lambda_2,\\Lambda_3,T)$ \n",
    "\n",
    "\n",
    "- ```means``` gives the prior means for the parameters (for reconstruction from the normalized parameters)\n",
    "- ```full_widths``` gives the scaling widths to multiply the normalized parameters by to get the true parameters.\n",
    "\n",
    "NB: we include a 0 mean and 1. width for the time parameter so we can always write true_parameter = norm_parameter x width + means"
   ]
  },
  {
   "cell_type": "code",
   "execution_count": 84,
   "metadata": {},
   "outputs": [],
   "source": [
    "np.savez('APOGEE Training Data',norm_grid=norm_grid,param_grid=param_grid,full_widths=full_widths,means=means)"
   ]
  },
  {
   "cell_type": "code",
   "execution_count": null,
   "metadata": {},
   "outputs": [],
   "source": []
  },
  {
   "cell_type": "code",
   "execution_count": null,
   "metadata": {},
   "outputs": [],
   "source": []
  },
  {
   "cell_type": "code",
   "execution_count": null,
   "metadata": {},
   "outputs": [],
   "source": []
  }
 ],
 "metadata": {
  "kernelspec": {
   "display_name": "Python 2",
   "language": "python",
   "name": "python2"
  },
  "language_info": {
   "codemirror_mode": {
    "name": "ipython",
    "version": 2
   },
   "file_extension": ".py",
   "mimetype": "text/x-python",
   "name": "python",
   "nbconvert_exporter": "python",
   "pygments_lexer": "ipython2",
   "version": "2.7.15"
  }
 },
 "nbformat": 4,
 "nbformat_minor": 2
}
