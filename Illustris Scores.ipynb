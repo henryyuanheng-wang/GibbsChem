{
 "cells": [
  {
   "cell_type": "code",
   "execution_count": 10,
   "metadata": {
    "collapsed": true
   },
   "outputs": [],
   "source": []
  },
  {
   "cell_type": "code",
   "execution_count": 6,
   "metadata": {},
   "outputs": [
    {
     "name": "stdout",
     "output_type": "stream",
     "text": [
      "Populating the interactive namespace from numpy and matplotlib\n"
     ]
    }
   ],
   "source": [
    "%pylab inline\n",
    "dat1 = np.load('/home/philcox/Save/IllustrisOverall/Hogg_element_predictions_Nomoto2013_net.npz')\n",
    "dat2 = np.load('/home/philcox/Save/IllustrisOverall/Hogg_element_predictions_chieffi04_net.npz')\n",
    "#dat3 = np.load('/home/philcox/Save/IllustrisOverall/Hogg_element_predictions_Frischknecht16_net.npz')\n",
    "\n",
    "name_list = ['C04','N13']\n",
    "shape_list = ['o','s','^']\n",
    "color_list = ['r','b','k']\n",
    "\n",
    "data_list = [dat2,dat1]#[dat,dat,dat1]\n",
    "means = [dat['mean'] for dat in data_list]\n",
    "sigmas = [dat['sigma'] for dat in data_list]\n",
    "elements = dat1['elements']\n",
    "scores = [dat['scores'] for dat in data_list]\n",
    "\n",
    "dat1.close()\n",
    "dat2.close()"
   ]
  },
  {
   "cell_type": "code",
   "execution_count": 7,
   "metadata": {
    "collapsed": true
   },
   "outputs": [],
   "source": [
    "#  Reorder\n",
    "alpha_names = ['He','C','N','O','Ne','Mg','Si','Fe']\n",
    "\n",
    "alphamean,alphasigma = [],[]\n",
    "for i in range(len(data_list)):\n",
    "    meanmean = np.mean(means[i],axis=0)\n",
    "    meansigma = np.mean(sigmas[i],axis=0)\n",
    "    re_mean,re_sig = [],[]\n",
    "    for j in range(len(alpha_names)):\n",
    "        for k in range(len(elements)):\n",
    "            if alpha_names[j] == elements[k]:\n",
    "                re_mean.append(meanmean[k])\n",
    "                re_sig.append(meansigma[k])\n",
    "    alphamean.append(re_mean)\n",
    "    alphasigma.append(re_sig)"
   ]
  },
  {
   "cell_type": "code",
   "execution_count": null,
   "metadata": {
    "collapsed": true
   },
   "outputs": [],
   "source": []
  },
  {
   "cell_type": "code",
   "execution_count": 8,
   "metadata": {
    "collapsed": true
   },
   "outputs": [],
   "source": [
    "# Load in proto-solar data\n",
    "ps_dat = np.load('Chempy/input/stars/Proto-sun_all.npy')\n",
    "ps_nam = ps_dat.dtype.names\n",
    "ps_abun = []; ps_err = []\n",
    "for el in alpha_names:\n",
    "    for i in range(len(ps_nam)):\n",
    "        if ps_nam[i] == el:\n",
    "            ps_abun.append(ps_dat[0][i])\n",
    "            ps_err.append(ps_dat[1][i])"
   ]
  },
  {
   "cell_type": "code",
   "execution_count": 17,
   "metadata": {},
   "outputs": [
    {
     "data": {
      "image/png": "[encoded data removed]",
      "text/plain": [
       "<matplotlib.figure.Figure at 0x7f4b0ab761d0>"
      ]
     },
     "metadata": {},
     "output_type": "display_data"
    }
   ],
   "source": [
    "plt.figure(figsize=(20,10))\n",
    "large_text = 28\n",
    "text_size = 28\n",
    "marker_size= 10\n",
    "small_text = 28\n",
    "plt.rc('font', family='serif',size = large_text)\n",
    "plt.rc('xtick', labelsize=small_text)\n",
    "plt.rc('ytick', labelsize=text_size)\n",
    "plt.rc('axes', labelsize=text_size, lw=1.0)\n",
    "plt.rc('lines', linewidth = 2)\n",
    "plt.rcParams['ytick.major.pad']='8'\n",
    "plt.rcParams['text.latex.preamble']=[r\"\\usepackage{libertine}\"]\n",
    "params = {'text.usetex' : True,\n",
    "    'font.family' : 'libertine',\n",
    "    'text.latex.unicode': True,\n",
    "    }\n",
    "plt.rcParams.update(params)\n",
    "\n",
    "# Iterate over trials\n",
    "for i in range(2):\n",
    "    plt.errorbar(np.arange(len(alpha_names)),alphamean[i],alphasigma[i],fmt=shape_list[i],ms=marker_size,c=color_list[i],alpha=0.5,label=name_list[i])\n",
    "    plt.text(6.2,-0.2-0.04*i,name_list[i],color=color_list[i])\n",
    "plt.errorbar(np.arange(len(alpha_names)),ps_abun,yerr=ps_err,fmt='x',ms=marker_size,c='g',label='Observations')\n",
    "plt.text(6.2,-0.2-0.04*2,'Observations',color='g')\n",
    "plt.ylabel('[X/Fe] abundance')\n",
    "plt.xlabel('Cross Validation Element')\n",
    "#plt.legend(loc='upper right',)\n",
    "ax=plt.gca()\n",
    "elements = elements.astype(\"<U6\")\n",
    "for e,el in enumerate(alpha_names):\n",
    "    if el == 'Fe':\n",
    "        alpha_names[e] = '[Fe/H]'\n",
    "la=plt.setp(ax,xticks=np.arange(len(alpha_names)), xticklabels=alpha_names)\n",
    "plt.savefig('PaperPlots/Illustris_element_prediction.pdf',dpi=300,bbox_inches='tight')"
   ]
  },
  {
   "cell_type": "code",
   "execution_count": 10,
   "metadata": {},
   "outputs": [
    {
     "name": "stdout",
     "output_type": "stream",
     "text": [
      "Yield Set \t Normalised LOO-CV Score\n",
      "----------------------------------\n",
      "C04: \t\t 0.229 + 0.015 - 0.014\n",
      "N13: \t\t 0.021 + 0.020 - 0.030\n"
     ]
    }
   ],
   "source": [
    "from Chempy.parameter import ModelParameters\n",
    "a = ModelParameters()\n",
    "n_el = 8 #len(a.initial_neural_names)\n",
    "\n",
    "# Table of scores\n",
    "print('Yield Set \\t Normalised LOO-CV Score')\n",
    "print('----------------------------------')\n",
    "for i in range(len(data_list)):\n",
    "    print('%s: \\t\\t %.3f + %.3f - %.3f' %(name_list[i],np.median(scores[i]/n_el),\n",
    "                                     np.percentile(scores[i]/n_el,100-15.865)-np.median(scores[i]/n_el),\n",
    "                                     np.median(scores[i]/n_el)-np.percentile(scores[i]/n_el,15.865)))\n"
   ]
  },
  {
   "cell_type": "markdown",
   "metadata": {
    "collapsed": true
   },
   "source": [
    "# BAYES SCORES "
   ]
  },
  {
   "cell_type": "code",
   "execution_count": 12,
   "metadata": {},
   "outputs": [],
   "source": [
    "# Load datasets\n",
    "bdat1 = np.load('/home/philcox/Save/IllustrisOverall/Bayes_score - Nomoto2013_net, Karakas_net_yield, Seitenzahl.npz')\n",
    "bdat2 = np.load('/home/philcox/Save/IllustrisOverall/Bayes_score - chieffi04_net, Karakas_net_yield, Seitenzahl.npz')\n",
    "\n",
    "bdat_list = [bdat2,bdat1]\n",
    "bnames = ['C04','N13']\n",
    "\n",
    "bscores = [bdat['score'] for bdat in bdat_list]\n",
    "bscores_err = [bdat['score_err'] for bdat in bdat_list]\n",
    "\n",
    "bdat1.close()\n",
    "bdat2.close()"
   ]
  },
  {
   "cell_type": "code",
   "execution_count": 13,
   "metadata": {},
   "outputs": [
    {
     "name": "stdout",
     "output_type": "stream",
     "text": [
      "Yield Set \t Bayes Score\n",
      "----------------------------------\n",
      "C04: \t\t 40.7878 +/- 0.2001\n",
      "N13: \t\t 4.4416 +/- 0.0279\n"
     ]
    }
   ],
   "source": [
    "# Table of scores\n",
    "print('Yield Set \\t Bayes Score')\n",
    "print('----------------------------------')\n",
    "for i in range(len(data_list)):\n",
    "    print('%s: \\t\\t %.4f +/- %.4f' %(bnames[i],bscores[i],bscores_err[i]))"
   ]
  },
  {
   "cell_type": "code",
   "execution_count": null,
   "metadata": {
    "collapsed": true
   },
   "outputs": [],
   "source": []
  },
  {
   "cell_type": "code",
   "execution_count": null,
   "metadata": {
    "collapsed": true
   },
   "outputs": [],
   "source": []
  },
  {
   "cell_type": "code",
   "execution_count": null,
   "metadata": {
    "collapsed": true
   },
   "outputs": [],
   "source": []
  },
  {
   "cell_type": "code",
   "execution_count": 134,
   "metadata": {
    "collapsed": true
   },
   "outputs": [],
   "source": [
    "from Chempy.yields import SN2_feedback\n",
    "basic_sn2 = SN2_feedback()\n",
    "getattr(basic_sn2,'Frischknecht16_net')()"
   ]
  },
  {
   "cell_type": "code",
   "execution_count": 96,
   "metadata": {
    "collapsed": true
   },
   "outputs": [],
   "source": [
    "from Chempy.yields import SN2_feedback\n",
    "basic2_sn2 = SN2_feedback()\n",
    "getattr(basic2_sn2,'Nomoto2013_net')()"
   ]
  },
  {
   "cell_type": "code",
   "execution_count": 97,
   "metadata": {
    "collapsed": true
   },
   "outputs": [],
   "source": [
    "from Chempy.yields import SN2_feedback\n",
    "basic3_sn2 = SN2_feedback()\n",
    "getattr(basic3_sn2,'chieffi04_net')()"
   ]
  },
  {
   "cell_type": "code",
   "execution_count": 101,
   "metadata": {},
   "outputs": [
    {
     "data": {
      "text/plain": [
       "( 35.,  0.05857143,  0.94142857,  0.00021391,  0.00060687,   5.65107622e-10,  -2.46203854e-10,  -7.62931260e-12,   5.93547458e-10,  0.02380071,  0.00053483,   2.52532963e-06,   1.53921756e-06,  0.00010877,   2.65881108e-07,   1.41142190e-08,  0.00290974,   1.23744680e-08,   2.71583270e-08, -0.29500286,  0.07357622,   9.92451780e-07,   4.60799455e-09,  -4.71889524e-10,  0.00666058,   2.21498041e-05,   6.53811966e-09,  0.00014187,  0.00024722,   1.64218397e-11,  0.03774286,   2.13173975e-05,  0.13897476,   8.93714943e-06,  -7.55902077e-11,  0.00306313,   2.33106380e-08,   3.40629414e-09,  0.00635679,   4.96395917e-09,   6.03501331e-06,   4.00468367e-07,   5.44226877e-10,   3.31806445e-07,   4.88509298e-10)"
      ]
     },
     "execution_count": 101,
     "metadata": {},
     "output_type": "execute_result"
    }
   ],
   "source": [
    "basic3_sn2.table[1e-3][-1]"
   ]
  },
  {
   "cell_type": "code",
   "execution_count": 133,
   "metadata": {},
   "outputs": [
    {
     "name": "stdout",
     "output_type": "stream",
     "text": [
      "Property:    N13 \t F16       \t C04\n",
      "---------------------------------------------------\n",
      "He \t 1.221e-01 \t 9.587e-02 \t 9.004e-02\n",
      "C \t 5.527e-03 \t 4.413e-02 \t 1.213e-02\n",
      "N \t 1.876e-04 \t 4.817e-04 \t 1.493e-04\n",
      "O \t 1.916e-02 \t 9.729e-02 \t 3.471e-02\n",
      "F \t -9.110e-09 \t 2.293e-06 \t -6.797e-09\n",
      "Ne \t 1.262e-02 \t 1.259e-02 \t 8.050e-03\n",
      "Na \t 1.288e-04 \t 2.866e-04 \t 6.843e-05\n",
      "Mg \t 4.352e-03 \t 9.725e-04 \t 4.287e-03\n",
      "Al \t 1.540e-04 \t 7.613e-05 \t 9.879e-05\n",
      "Si \t 2.879e-03 \t 2.579e-05 \t 6.986e-03\n",
      "P \t 5.132e-06 \t 3.601e-07 \t 1.559e-05\n",
      "S \t 1.095e-03 \t -9.173e-07 \t 3.106e-03\n",
      "Cl \t 5.017e-07 \t 1.509e-07 \t 4.100e-06\n",
      "Ar \t 1.610e-04 \t -4.729e-08 \t 5.842e-04\n",
      "K \t 1.308e-07 \t 3.348e-08 \t 1.989e-06\n",
      "Ca \t 1.135e-04 \t -1.645e-07 \t 5.112e-04\n",
      "Sc \t 1.560e-09 \t 3.755e-09 \t 6.662e-09\n",
      "Ti \t 5.124e-06 \t 9.373e-09 \t 1.373e-05\n",
      "V \t 1.061e-06 \t -6.265e-10 \t 7.106e-07\n",
      "Cr \t 2.223e-05 \t -1.226e-08 \t 1.197e-04\n",
      "Mn \t 4.901e-06 \t -2.784e-08 \t 3.804e-05\n",
      "Fe \t 4.799e-03 \t -1.441e-06 \t 6.924e-03\n",
      "Co \t 1.528e-05 \t 3.878e-07 \t 9.844e-06\n",
      "Ni \t 2.459e-04 \t 8.570e-07 \t 3.298e-04\n",
      "Cu \t 3.903e-07 \t 2.567e-07 \t 2.005e-07\n",
      "Zn \t 4.560e-06 \t 1.596e-07 \t 2.358e-06\n",
      "Ga \t 5.330e-09 \t 1.375e-08 \t 7.342e-10\n",
      "Ge \t 2.133e-08 \t 3.232e-08 \t 5.113e-09\n"
     ]
    }
   ],
   "source": [
    "dN=basic2_sn2.table[1e-3][1]\n",
    "dF=basic_sn2.table[1e-3][0]\n",
    "dC = basic3_sn2.table[1e-3][1]\n",
    "\n",
    "small_dat = [[],[],[]]\n",
    "\n",
    "for j,data in enumerate([dN,dF,dC]):\n",
    "    for el in a.element_names:\n",
    "        for i in range(len(data)):\n",
    "            if data.dtype.names[i] == el:\n",
    "                small_dat[j].append(data[i])\n",
    "\n",
    "N = small_dat[0]\n",
    "F = small_dat[1]\n",
    "C = small_dat[2]\n",
    "                \n",
    "diff = []\n",
    "print('Property:    N13 \\t F16       \\t C04')\n",
    "print('---------------------------------------------------')\n",
    "for i in range(len(a.element_names)):\n",
    "    print('%s \\t %.3e \\t %.3e \\t %.3e' %(a.element_names[i],N[i],F[i],C[i]))\n",
    "#    diff.append(np.log10(dN[i]/dF[i]))\n",
    "    \n",
    "#for i in range(len(dN)):\n",
    "#    print('%s \\t %.3e' %(dN.dtype.names[i],diff[i]))"
   ]
  },
  {
   "cell_type": "code",
   "execution_count": 102,
   "metadata": {},
   "outputs": [
    {
     "data": {
      "text/plain": [
       "array([13, 15, 18, 20, 25, 30, 40])"
      ]
     },
     "execution_count": 102,
     "metadata": {},
     "output_type": "execute_result"
    }
   ],
   "source": [
    "basic2_sn2.masses"
   ]
  },
  {
   "cell_type": "code",
   "execution_count": 106,
   "metadata": {},
   "outputs": [
    {
     "data": {
      "text/plain": [
       "array([15, 20, 25, 40])"
      ]
     },
     "execution_count": 106,
     "metadata": {},
     "output_type": "execute_result"
    }
   ],
   "source": [
    "basic_sn2.masses"
   ]
  },
  {
   "cell_type": "code",
   "execution_count": null,
   "metadata": {
    "collapsed": true
   },
   "outputs": [],
   "source": []
  },
  {
   "cell_type": "code",
   "execution_count": null,
   "metadata": {
    "collapsed": true
   },
   "outputs": [],
   "source": []
  },
  {
   "cell_type": "code",
   "execution_count": null,
   "metadata": {
    "collapsed": true
   },
   "outputs": [],
   "source": []
  },
  {
   "cell_type": "code",
   "execution_count": null,
   "metadata": {
    "collapsed": true
   },
   "outputs": [],
   "source": []
  },
  {
   "cell_type": "code",
   "execution_count": 138,
   "metadata": {},
   "outputs": [
    {
     "data": {
      "text/plain": [
       "-1.4405736166666666e-06"
      ]
     },
     "execution_count": 138,
     "metadata": {},
     "output_type": "execute_result"
    }
   ],
   "source": [
    "basic_sn2.table[1e-3][0]['Fe']"
   ]
  },
  {
   "cell_type": "code",
   "execution_count": 142,
   "metadata": {},
   "outputs": [
    {
     "data": {
      "text/plain": [
       "-1.4405736166666666e-06"
      ]
     },
     "execution_count": 142,
     "metadata": {},
     "output_type": "execute_result"
    }
   ],
   "source": [
    "(-4.003516405e-06-4.066417232e-05+4.503507935e-06+1.855557654e-05)/15"
   ]
  },
  {
   "cell_type": "code",
   "execution_count": 144,
   "metadata": {
    "collapsed": true
   },
   "outputs": [],
   "source": [
    "from Chempy.solar_abundance import solar_abundances\n",
    "basic_solar = solar_abundances()\n",
    "getattr(basic_solar,'Asplund09')()"
   ]
  },
  {
   "cell_type": "code",
   "execution_count": 155,
   "metadata": {},
   "outputs": [
    {
     "data": {
      "text/plain": [
       "0.0012919670374607077"
      ]
     },
     "execution_count": 155,
     "metadata": {},
     "output_type": "execute_result"
    }
   ],
   "source": [
    "basic_solar.fractions\n",
    "basic_solar.all_elements\n",
    "basic_solar.fractions[25] # Fe"
   ]
  },
  {
   "cell_type": "code",
   "execution_count": 158,
   "metadata": {},
   "outputs": [
    {
     "data": {
      "text/plain": [
       "[0.05, 0.02, 0.008, 0.004, 0.001]"
      ]
     },
     "execution_count": 158,
     "metadata": {},
     "output_type": "execute_result"
    }
   ],
   "source": [
    "\n",
    "basic2_sn2.metallicities"
   ]
  },
  {
   "cell_type": "code",
   "execution_count": 159,
   "metadata": {
    "collapsed": true
   },
   "outputs": [],
   "source": [
    "nomdat = np.load('Chempy/input/yields/Nomoto2013/nomoto_net_met_ind_1.npy')"
   ]
  },
  {
   "cell_type": "code",
   "execution_count": 161,
   "metadata": {},
   "outputs": [
    {
     "data": {
      "text/plain": [
       "0.0043866291853523623"
      ]
     },
     "execution_count": 161,
     "metadata": {},
     "output_type": "execute_result"
    }
   ],
   "source": [
    "nomdat[1]['Fe']"
   ]
  },
  {
   "cell_type": "code",
   "execution_count": null,
   "metadata": {
    "collapsed": true
   },
   "outputs": [],
   "source": []
  }
 ],
 "metadata": {
  "kernelspec": {
   "display_name": "Python 3",
   "language": "python",
   "name": "python3"
  },
  "language_info": {
   "codemirror_mode": {
    "name": "ipython",
    "version": 3
   },
   "file_extension": ".py",
   "mimetype": "text/x-python",
   "name": "python",
   "nbconvert_exporter": "python",
   "pygments_lexer": "ipython3",
   "version": "3.6.1"
  }
 },
 "nbformat": 4,
 "nbformat_minor": 2
}
