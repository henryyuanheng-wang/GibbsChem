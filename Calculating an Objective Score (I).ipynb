{
 "cells": [
  {
   "cell_type": "markdown",
   "metadata": {},
   "source": [
    "## Create Monte Carlo method to integrate posterior"
   ]
  },
  {
   "cell_type": "code",
   "execution_count": 18,
   "metadata": {},
   "outputs": [
    {
     "name": "stdout",
     "output_type": "stream",
     "text": [
      "Populating the interactive namespace from numpy and matplotlib\n"
     ]
    }
   ],
   "source": [
    "%pylab inline\n",
    "import mcint\n",
    "import numpy.random\n",
    "from Chempy.parameter import ModelParameters\n",
    "from Chempy.cem_function import posterior_function_for_integration,posterior_function_many_stars\n",
    "a = ModelParameters()"
   ]
  },
  {
   "cell_type": "markdown",
   "metadata": {},
   "source": [
    "### TEST with different random generators e.g. gaussian\n",
    "\n",
    "### Can we speed up posterior_function_for_integration? \n",
    "Limiting factor is the 51 iterations of likelihood function... (takes ~3ms each)"
   ]
  },
  {
   "cell_type": "code",
   "execution_count": 19,
   "metadata": {
    "collapsed": true
   },
   "outputs": [],
   "source": [
    "# Define function to return posterior predictions (must be exponentiated)\n",
    "def posterior(theta):\n",
    "    a = ModelParameters()\n",
    "    post = posterior_function_for_integration(theta)\n",
    "    posterior = np.exp(post)\n",
    "    return posterior\n",
    "\n",
    "sigma = [] # Read prior sigma from parameter file\n",
    "for i,param_name in enumerate(a.to_optimize):\n",
    "    sigma.append(a.priors.get(param_name)[1])\n",
    "    \n",
    "def sampler(i):\n",
    "    while True:\n",
    "        yield random.uniform(np.array(a.p0)-Nsigma[i]*np.array(sigma),np.array(a.p0)+Nsigma[i]*np.array(sigma),size=6)\n"
   ]
  },
  {
   "cell_type": "code",
   "execution_count": null,
   "metadata": {},
   "outputs": [
    {
     "name": "stdout",
     "output_type": "stream",
     "text": [
      "Calculating integral 0 of 5\n",
      "Calculating integral 1 of 5\n"
     ]
    },
    {
     "name": "stderr",
     "output_type": "stream",
     "text": [
      "/home/philcox/Chempy/Chempy/data_to_test.py:44: RuntimeWarning: divide by zero encountered in log\n",
      "  log_likelihood_list = np.log(list_of_likelihoods)\n"
     ]
    },
    {
     "name": "stdout",
     "output_type": "stream",
     "text": [
      "Calculating integral 2 of 5\n"
     ]
    }
   ],
   "source": [
    "Nsamples = [5000,10000,100000] # No MC samples\n",
    "Nsigma = [1,2,2.5,3,3.5] # Width in parameter space\n",
    "j = 0\n",
    "integral = []\n",
    "integral_err = []\n",
    "for i in range(len(Nsigma)):\n",
    "    print('Calculating integral %d of %d' %(i,len(Nsigma)))\n",
    "    domain_size = np.prod(sigma)*(2*Nsigma[i])**len(sigma) # Total domain size\n",
    "    result,error = mcint.integrate(posterior,sampler(i),n=Nsamples[j],measure=domain_size)\n",
    "    integral.append(result)\n",
    "    integral_err.append(error)"
   ]
  },
  {
   "cell_type": "code",
   "execution_count": null,
   "metadata": {
    "collapsed": true
   },
   "outputs": [],
   "source": [
    "plt.errorbar(Nsigma,integral,yerr=integral_err)\n",
    "plt.xlabel('Nsigma')\n",
    "plt.ylabel('Integral value')"
   ]
  },
  {
   "cell_type": "code",
   "execution_count": null,
   "metadata": {
    "collapsed": true
   },
   "outputs": [],
   "source": []
  },
  {
   "cell_type": "code",
   "execution_count": null,
   "metadata": {
    "collapsed": true
   },
   "outputs": [],
   "source": []
  },
  {
   "cell_type": "code",
   "execution_count": null,
   "metadata": {
    "collapsed": true
   },
   "outputs": [],
   "source": []
  },
  {
   "cell_type": "code",
   "execution_count": null,
   "metadata": {
    "collapsed": true,
    "scrolled": true
   },
   "outputs": [],
   "source": [
    "%timeit -r 1 -n 1 result, error = mcint.integrate(posterior, sampler(),n=Nsamples,measure=domain_size)  "
   ]
  },
  {
   "cell_type": "code",
   "execution_count": null,
   "metadata": {
    "collapsed": true,
    "scrolled": true
   },
   "outputs": [],
   "source": [
    "print(result,error)"
   ]
  },
  {
   "cell_type": "code",
   "execution_count": null,
   "metadata": {},
   "outputs": [],
   "source": [
    "d1 = []\n",
    "d2 = []\n",
    "d3 = []\n",
    "Nsigma = 3\n",
    "for i in range(1000):\n",
    "    param = random.uniform(np.array(a.p0)-Nsigma*np.array(sigma),np.array(a.p0)+Nsigma*np.array(sigma),size=6)\n",
    "    param[2] = a.p0[2]\n",
    "    param[3] = a.p0[3]\n",
    "    param[4] = a.p0[4]\n",
    "    param[5] = a.p0[5]\n",
    "    post = posterior_function_for_integration(param)\n",
    "    posterior = np.exp(post)\n",
    "    d1.append(param[0])\n",
    "    d2.append(param[1])\n",
    "    d3.append(posterior)\n"
   ]
  },
  {
   "cell_type": "code",
   "execution_count": null,
   "metadata": {},
   "outputs": [],
   "source": [
    "plt.scatter(d1,d2,c=(d3))\n",
    "plt.colorbar()"
   ]
  },
  {
   "cell_type": "code",
   "execution_count": null,
   "metadata": {
    "scrolled": true
   },
   "outputs": [],
   "source": [
    "%timeit _ = posterior_function_for_integration([-3.,-3.,-0.8,-0.5,0.6,0.5])"
   ]
  },
  {
   "cell_type": "code",
   "execution_count": null,
   "metadata": {},
   "outputs": [],
   "source": [
    "plt.scatter(d1,d3)\n"
   ]
  },
  {
   "cell_type": "code",
   "execution_count": null,
   "metadata": {},
   "outputs": [],
   "source": [
    "%timeit posterior([-3.,-3.,-0.8,-0.5,0.6,0.5])"
   ]
  },
  {
   "cell_type": "code",
   "execution_count": null,
   "metadata": {
    "collapsed": true
   },
   "outputs": [],
   "source": []
  },
  {
   "cell_type": "code",
   "execution_count": null,
   "metadata": {
    "collapsed": true
   },
   "outputs": [],
   "source": []
  },
  {
   "cell_type": "markdown",
   "metadata": {},
   "source": [
    "## New posterior function with error marginalization"
   ]
  },
  {
   "cell_type": "code",
   "execution_count": null,
   "metadata": {
    "collapsed": true
   },
   "outputs": [],
   "source": [
    "from Chempy.cem_function import posterior_function_many_stars\n",
    "\n",
    "def posterior(theta):\n",
    "    a = ModelParameters()\n",
    "     post,_ = posterior_function_many_stars(np.array(param),np.inf,a.elements_to_trace)\n",
    "    posterior = np.exp(post)\n",
    "    return posterior"
   ]
  },
  {
   "cell_type": "code",
   "execution_count": null,
   "metadata": {
    "collapsed": true
   },
   "outputs": [],
   "source": [
    "a = ModelParameters()\n",
    "param = [-3,-3,-0.8,-0.3,0.5,0.6]\n",
    "pos,abun = posterior_function_many_stars(np.array(param),np.inf,a.elements_to_trace)"
   ]
  },
  {
   "cell_type": "code",
   "execution_count": null,
   "metadata": {
    "collapsed": true
   },
   "outputs": [],
   "source": [
    "pos,abun = posterior_function_many_stars(np.array(param),np.inf,a.elements_to_trace)"
   ]
  },
  {
   "cell_type": "code",
   "execution_count": null,
   "metadata": {
    "collapsed": true
   },
   "outputs": [],
   "source": []
  },
  {
   "cell_type": "code",
   "execution_count": null,
   "metadata": {
    "collapsed": true
   },
   "outputs": [],
   "source": [
    "sol_dat = np.load('Chempy/input/stars/Proto-sun.npy')\n",
    "sol_dat[1]"
   ]
  },
  {
   "cell_type": "code",
   "execution_count": null,
   "metadata": {
    "collapsed": true
   },
   "outputs": [],
   "source": [
    "b"
   ]
  },
  {
   "cell_type": "code",
   "execution_count": null,
   "metadata": {
    "collapsed": true
   },
   "outputs": [],
   "source": [
    "proto_sun = np.load('Chempy/input/stars/Proto-sun.npy')\n",
    "element_list = np.unique(proto_sun.dtype.names,a.elements_to_trace)[0][:-1]\n",
    "print(element_list)"
   ]
  },
  {
   "cell_type": "code",
   "execution_count": null,
   "metadata": {
    "collapsed": true
   },
   "outputs": [],
   "source": []
  },
  {
   "cell_type": "code",
   "execution_count": null,
   "metadata": {
    "collapsed": true
   },
   "outputs": [],
   "source": []
  },
  {
   "cell_type": "code",
   "execution_count": null,
   "metadata": {
    "collapsed": true
   },
   "outputs": [],
   "source": []
  },
  {
   "cell_type": "markdown",
   "metadata": {},
   "source": [
    "**Spare code**"
   ]
  },
  {
   "cell_type": "markdown",
   "metadata": {},
   "source": [
    "def posterior_function_for_integration(changing_parameter,a):\n",
    "\t'''\n",
    "\tThis is the posterior function for a single star with beta-error model.\n",
    "\t\n",
    "\tBeta error marginalization MUST be used for this.\t\n",
    "\t\n",
    "\tThis is for speeding up Bayes' factor integration\t\n",
    "\t'''\n",
    "\tfrom .data_to_test import likelihood_evaluation\n",
    "\t\n",
    "\t# the values in a are updated according to changing_parameters and the prior list is appended\n",
    "\ta = extract_parameters_and_priors(changing_parameter, a)\n",
    "\t\n",
    "\t# the log prior is calculated\n",
    "\tprior = sum(np.log(a.prior))\n",
    "\n",
    "\t# call Chempy and return the abundances at the end of the simulation = time of star's birth and the corresponding element names as a list\n",
    "\tabundance_list,elements_to_trace = cem_real2(a)\n",
    "\t\t\n",
    "\tabundance_list = abundance_list[:-2]\n",
    "\telements_to_trace = elements_to_trace[:-2]\n",
    "\n",
    "\tproto_sun = np.load('Chempy/input/stars/Proto-sun.npy')\n",
    "\telement_list = np.unique(proto_sun.dtype.names,elements_to_trace)[0][:-1] # Remove age\n",
    "\t\n",
    "\t## likelihood is calculated (the model error vector is expanded)\n",
    "\tfrom scipy.stats import beta\n",
    "\tlikelihood_list = []\n",
    "\tmodel_errors = np.linspace(a.flat_model_error_prior[0],a.flat_model_error_prior[1],a.flat_model_error_prior[2])\n",
    "\terror_weight = beta.pdf(model_errors, a = a.beta_error_distribution[1], b = a.beta_error_distribution[2])\n",
    "\terror_weight/= sum(error_weight)\n",
    "\t\n",
    "\tfor item in model_errors:\n",
    "\t\terror_temp = np.ones(len(element_list)) * item \n",
    "\t\tlikelihood_list.append(likelihood_evaluation(error_temp[:,None], proto_sun[1] , abundance_list, proto_sun[0]))\n",
    "\t\tlikelihood = logsumexp(likelihood_list, b = error_weight)\t\n",
    "\t\n",
    "\tlikelihood,_,_,_,_ = likelihood_function(a.stellar_identifier, abundance_list, elements_to_trace)\n",
    "\n",
    "\treturn(prior+likelihood)"
   ]
  },
  {
   "cell_type": "code",
   "execution_count": null,
   "metadata": {
    "collapsed": true
   },
   "outputs": [],
   "source": []
  },
  {
   "cell_type": "code",
   "execution_count": null,
   "metadata": {
    "collapsed": true
   },
   "outputs": [],
   "source": []
  },
  {
   "cell_type": "markdown",
   "metadata": {},
   "source": [
    "## Try new MC integration package"
   ]
  },
  {
   "cell_type": "code",
   "execution_count": 8,
   "metadata": {},
   "outputs": [
    {
     "name": "stdout",
     "output_type": "stream",
     "text": [
      "Populating the interactive namespace from numpy and matplotlib\n"
     ]
    }
   ],
   "source": [
    "%pylab inline\n",
    "from skmonaco import mcmiser\n",
    "from Chempy.parameter import ModelParameters\n",
    "from Chempy.cem_function import posterior_function_for_integration\n",
    "a = ModelParameters()"
   ]
  },
  {
   "cell_type": "code",
   "execution_count": 9,
   "metadata": {},
   "outputs": [],
   "source": [
    "# Define function to return posterior predictions (must be exponentiated)\n",
    "def posterior(theta):\n",
    "    a = ModelParameters()\n",
    "    post = posterior_function_for_integration(theta)\n",
    "    posterior = np.exp(post)\n",
    "    return posterior\n",
    "\n",
    "sigma = [] # Read prior sigma from parameter file\n",
    "for i,param_name in enumerate(a.to_optimize):\n",
    "    sigma.append(a.priors.get(param_name)[1])\n",
    "sigma = np.array(sigma)"
   ]
  },
  {
   "cell_type": "code",
   "execution_count": 11,
   "metadata": {},
   "outputs": [
    {
     "name": "stdout",
     "output_type": "stream",
     "text": [
      "Calculating integral 1 of 5\n",
      "Calculating integral 2 of 5\n"
     ]
    },
    {
     "name": "stderr",
     "output_type": "stream",
     "text": [
      "/home/philcox/Chempy/Chempy/data_to_test.py:44: RuntimeWarning: divide by zero encountered in log\n",
      "  log_likelihood_list = np.log(list_of_likelihoods)\n"
     ]
    },
    {
     "name": "stdout",
     "output_type": "stream",
     "text": [
      "Calculating integral 3 of 5\n",
      "Calculating integral 4 of 5\n",
      "Calculating integral 5 of 5\n"
     ]
    }
   ],
   "source": [
    "Nsamples = [5000,10000,100000] # No MC samples\n",
    "Nsigma = [1,2,2.5,3,3.5] # Width in parameter space\n",
    "j = 0\n",
    "integral = []\n",
    "integral_err = []\n",
    "for i in range(len(Nsigma)):\n",
    "    print('Calculating integral %d of %d' %(i+1,len(Nsigma)))\n",
    "    result,error = mcmiser(posterior,npoints=Nsamples[j],xl=a.p0-Nsigma[i]*sigma,xu=a.p0+Nsigma[i]*sigma)\n",
    "    integral.append(result)\n",
    "    integral_err.append(error)"
   ]
  },
  {
   "cell_type": "code",
   "execution_count": 13,
   "metadata": {},
   "outputs": [
    {
     "data": {
      "text/plain": [
       "<Container object of 3 artists>"
      ]
     },
     "execution_count": 13,
     "metadata": {},
     "output_type": "execute_result"
    },
    {
     "data": {
      "image/png": "[encoded data removed]",
      "text/plain": [
       "<matplotlib.figure.Figure at 0x7f437bb4d550>"
      ]
     },
     "metadata": {},
     "output_type": "display_data"
    }
   ],
   "source": [
    "plt.errorbar(Nsigma,integral,yerr=integral_err)"
   ]
  },
  {
   "cell_type": "code",
   "execution_count": null,
   "metadata": {},
   "outputs": [],
   "source": [
    "%timeit -r 1 -n 1 posterior([-3.,-3.,-0.8,-0.3,0.5,0.6])"
   ]
  },
  {
   "cell_type": "code",
   "execution_count": 16,
   "metadata": {},
   "outputs": [
    {
     "name": "stdout",
     "output_type": "stream",
     "text": [
      "[0.024095453207753276, 0.10942050193282975, 0.13083526893357705, 0.11798390990518323, 0.11559230068016502]\n",
      "[0.00035620414609098089, 0.0061503288678763793, 0.0098992413034470275, 0.019690575349670825, 0.025250389746534499]\n"
     ]
    }
   ],
   "source": [
    "print(integral)\n",
    "print(integral_err)"
   ]
  },
  {
   "cell_type": "code",
   "execution_count": null,
   "metadata": {
    "collapsed": true
   },
   "outputs": [],
   "source": []
  }
 ],
 "metadata": {
  "kernelspec": {
   "display_name": "Python 3",
   "language": "python",
   "name": "python3"
  },
  "language_info": {
   "codemirror_mode": {
    "name": "ipython",
    "version": 3
   },
   "file_extension": ".py",
   "mimetype": "text/x-python",
   "name": "python",
   "nbconvert_exporter": "python",
   "pygments_lexer": "ipython3",
   "version": "3.6.1"
  }
 },
 "nbformat": 4,
 "nbformat_minor": 2
}
