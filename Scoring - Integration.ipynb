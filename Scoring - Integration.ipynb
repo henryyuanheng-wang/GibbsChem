{
 "cells": [
  {
   "cell_type": "markdown",
   "metadata": {},
   "source": [
    "## First calculate MCMC posterior predictions"
   ]
  },
  {
   "cell_type": "code",
   "execution_count": 2,
   "metadata": {},
   "outputs": [
    {
     "name": "stdout",
     "output_type": "stream",
     "text": [
      "Populating the interactive namespace from numpy and matplotlib\n"
     ]
    }
   ],
   "source": [
    "%pylab inline\n",
    "from skmonaco import mcmiser\n",
    "from Chempy.parameter import ModelParameters\n",
    "from Chempy.cem_function import posterior_function_mcmc_quick\n",
    "from Chempy.score_function import preload_params_mcmc\n",
    "from Chempy.plot_mcmc import restructure_chain\n",
    "a = ModelParameters()\n",
    "preload = preload_params_mcmc()"
   ]
  },
  {
   "cell_type": "code",
   "execution_count": null,
   "metadata": {
    "collapsed": true
   },
   "outputs": [],
   "source": [
    "from Chempy.wrapper import single_star_optimization\n",
    "%timeit -r 1 -n 1 single_star_optimization()\n"
   ]
  },
  {
   "cell_type": "code",
   "execution_count": 3,
   "metadata": {},
   "outputs": [
    {
     "name": "stdout",
     "output_type": "stream",
     "text": [
      "blob shape =  (64, 303, 28, 1) probably some runs did not return results and were stored anyway.\n",
      "The chain has a length of 303 iterations, each iteration having 64 evaluations/walkers\n",
      "Mean posteriors at the beginning and the end of the chain:\n",
      "-6.20198206318 -16.1270111454\n",
      "Mean posteriors after the burn-in tail is cut out:\n",
      "-6.20198206318 -6.02938802047\n",
      "We are left with a sample of 4992 posterior evaluations from the converged MCMC chain\n",
      "We have 4992 iterations good enough posterior, their posteriors range from\n",
      "-3.3583772798 -14.5414302898\n",
      "Highest posterior was obtained at parameters:  [[-2.39743005 -3.00094579 -0.7196173  -0.29756725  0.53552653  0.50570946]]\n",
      "Number of unique posterior values:  2607\n",
      "Inferred marginalized parameter distributions are:\n",
      "0 -2.31548686528 +- 0.14781494545\n",
      "1 -2.91227645502 +- 0.190944241625\n",
      "2 -0.770900092276 +- 0.298558270751\n",
      "3 -0.263359328175 +- 0.291731942072\n",
      "4 0.563763436811 +- 0.0963926043164\n",
      "5 0.503290693195 +- 0.093505369776\n",
      "[-2.3052232065318243, -2.9027554935012758, -0.76063147496694461, -0.27153142027991489, 0.56741329091297976, 0.50557538659226164]\n"
     ]
    },
    {
     "data": {
      "text/plain": [
       "<matplotlib.figure.Figure at 0x7f712f8fb908>"
      ]
     },
     "metadata": {},
     "output_type": "display_data"
    },
    {
     "data": {
      "text/plain": [
       "<matplotlib.figure.Figure at 0x7f70fc34e828>"
      ]
     },
     "metadata": {},
     "output_type": "display_data"
    }
   ],
   "source": [
    "restructure_chain('mcmc/')\n",
    "positions = np.load('mcmc/posteriorPDF.npy')\n",
    "init_param = []\n",
    "for j in range(len(a.p0)):\n",
    "    init_param.append(np.percentile(positions[:,j],50))\n",
    "print(init_param)"
   ]
  },
  {
   "cell_type": "code",
   "execution_count": 4,
   "metadata": {
    "collapsed": true
   },
   "outputs": [],
   "source": [
    "# Define function to return posterior predictions (must be exponentiated)\n",
    "def posterior(theta):\n",
    "    a = ModelParameters()\n",
    "    post,_ = posterior_function_mcmc_quick(theta,a,preload)\n",
    "    posterior = np.exp(post)\n",
    "    return posterior\n",
    "\n",
    "sigma = [] # Read prior sigma from parameter file\n",
    "for i,param_name in enumerate(a.to_optimize):\n",
    "    sigma.append(a.priors.get(param_name)[1])\n",
    "sigma = np.array(sigma)"
   ]
  },
  {
   "cell_type": "code",
   "execution_count": 35,
   "metadata": {},
   "outputs": [
    {
     "name": "stdout",
     "output_type": "stream",
     "text": [
      "Calculating integral 1 of 1\n"
     ]
    },
    {
     "name": "stderr",
     "output_type": "stream",
     "text": [
      "/home/philcox/Chempy/Chempy/data_to_test.py:80: RuntimeWarning: divide by zero encountered in log\n",
      "  log_likelihood_list = np.log(list_of_likelihoods)\n"
     ]
    },
    {
     "name": "stdout",
     "output_type": "stream",
     "text": [
      "Result is 0.00008213 +/- 0.00001048 after 50000 samples (percentage error is 12.76)\n",
      "1 loop, best of 1: 13min 10s per loop\n"
     ]
    }
   ],
   "source": [
    "%%timeit -r 1 -n 1\n",
    "Nsamples2 = [50000]#,10000,100000] # No MC samples\n",
    "Nsigma2 = [3.5] # Width in parameter space\n",
    "i=0\n",
    "integral2 = []\n",
    "integral_err2 = []\n",
    "for j in range(len(Nsamples2)):\n",
    "    print('Calculating integral %d of %d' %(j+1,len(Nsamples2)))\n",
    "    result,error = mcmiser(posterior,npoints=Nsamples2[j],xl=init_param-Nsigma2[i]*sigma,xu=init_param+Nsigma2[i]*sigma)\n",
    "    integral2.append(result)\n",
    "    integral_err2.append(error)\n",
    "    print('Result is %.8f +/- %.8f after %d samples (percentage error is %.2f)' %(integral2[-1],integral_err2[-1],Nsamples2[j],100*integral_err2[-1]/integral2[-1]))\n"
   ]
  },
  {
   "cell_type": "code",
   "execution_count": null,
   "metadata": {
    "collapsed": true
   },
   "outputs": [],
   "source": [
    "plt.clf()\n",
    "plt.errorbar(Nsamples2,integral2,yerr=integral_err2,fmt='o')"
   ]
  },
  {
   "cell_type": "code",
   "execution_count": null,
   "metadata": {
    "collapsed": true
   },
   "outputs": [],
   "source": []
  },
  {
   "cell_type": "code",
   "execution_count": null,
   "metadata": {
    "collapsed": true
   },
   "outputs": [],
   "source": [
    "ratio = posterior(init_param)/posterior(init_param+sigma)\n",
    "print(ratio)"
   ]
  },
  {
   "cell_type": "code",
   "execution_count": null,
   "metadata": {
    "collapsed": true
   },
   "outputs": [],
   "source": [
    "factor = np.sqrt(1./np.log(ratio)*np.dot(sigma,sigma.T)/2)"
   ]
  },
  {
   "cell_type": "code",
   "execution_count": null,
   "metadata": {
    "collapsed": true
   },
   "outputs": [],
   "source": [
    "d1 = []\n",
    "d2 = []\n",
    "d3 = []\n",
    "from scipy.stats import norm\n",
    "Nsigma = 3\n",
    "for i in range(5000):\n",
    "    param = random.uniform(np.array(init_param)-Nsigma*np.array(sigma),np.array(init_param)+Nsigma*np.array(sigma),size=6)\n",
    "    param[2] = init_param[2]\n",
    "    param[3] = init_param[3]\n",
    "    param[4] = init_param[4]\n",
    "    param[5] = init_param[5]\n",
    "    post,_ = posterior_function_mcmc_quick(param,a,preload)\n",
    "    posterior = np.exp(post)\n",
    "    d1.append(param[0])\n",
    "    d2.append(param[1])\n",
    "    dis = np.sqrt(np.dot(param-init_param,(param-init_param).T))\n",
    "    d3.append(posterior/norm.pdf(dis,scale=0.18))\n",
    "    if i%100==0:\n",
    "        print(i)\n"
   ]
  },
  {
   "cell_type": "code",
   "execution_count": null,
   "metadata": {
    "collapsed": true
   },
   "outputs": [],
   "source": [
    "plt.scatter(d1,d2,c=(d3),vmax=0.005)\n",
    "plt.colorbar()"
   ]
  },
  {
   "cell_type": "code",
   "execution_count": null,
   "metadata": {
    "collapsed": true
   },
   "outputs": [],
   "source": [
    "from skmonaco import mcimport\n",
    "skmonaco.mcimport(posterior(theta), npoints, distribution, args=(), dist_kwargs={}, rng=None, nprocs=1, seed=None, batch_size=None, weight=1.0)"
   ]
  },
  {
   "cell_type": "code",
   "execution_count": null,
   "metadata": {
    "collapsed": true
   },
   "outputs": [],
   "source": [
    "plt.errorbar(Nsigma,integral,yerr=integral_err)"
   ]
  },
  {
   "cell_type": "code",
   "execution_count": null,
   "metadata": {
    "collapsed": true
   },
   "outputs": [],
   "source": [
    "#factor = scinorm(a.p0,mean=init_param,cov=cov)\n",
    "init_param"
   ]
  },
  {
   "cell_type": "code",
   "execution_count": null,
   "metadata": {
    "collapsed": true
   },
   "outputs": [],
   "source": [
    "posterior_mod(init_param+np.array([0.1,0.1,0.1,0.1,0.1,0.1]))"
   ]
  },
  {
   "cell_type": "code",
   "execution_count": null,
   "metadata": {
    "collapsed": true
   },
   "outputs": [],
   "source": [
    "posterior_mod(init_param)"
   ]
  },
  {
   "cell_type": "code",
   "execution_count": null,
   "metadata": {
    "collapsed": true
   },
   "outputs": [],
   "source": [
    "Nsigma = 3\n",
    "d1 = []\n",
    "d2 = []\n",
    "d3 = []\n",
    "for i in range(5000):\n",
    "    param = random.uniform(np.array(init_param)-Nsigma*np.array(sigma),np.array(init_param)+Nsigma*np.array(sigma),size=6)\n",
    "    param[2] = init_param[2]\n",
    "    param[3] = init_param[3]\n",
    "    param[4] = init_param[4]\n",
    "    param[5] = init_param[5]\n",
    "    posterior2 = posterior_mod(param)\n",
    "    d1.append(param[0])\n",
    "    d2.append(param[1])\n",
    "    d3.append(posterior2)\n",
    "    if i%100==0:\n",
    "        print(i)\n"
   ]
  },
  {
   "cell_type": "code",
   "execution_count": null,
   "metadata": {
    "collapsed": true
   },
   "outputs": [],
   "source": [
    "plt.scatter(d1,d2,c=(d3))\n",
    "plt.colorbar()"
   ]
  },
  {
   "cell_type": "code",
   "execution_count": null,
   "metadata": {
    "collapsed": true
   },
   "outputs": [],
   "source": [
    "cov = np.zeros((len(init_param),len(init_param)))\n",
    "for i in range(len(init_param)):\n",
    "    param = np.copy(init_param)\n",
    "    param[i] = init_param[i]+sigma[i] # Change by 1 sigma in this direction\n",
    "    factor = posterior(np.array(init_param))/posterior(np.array(param))\n",
    "    cov[i,i] = np.sqrt(sigma[i]**2/(2*np.log(factor)))"
   ]
  },
  {
   "cell_type": "code",
   "execution_count": null,
   "metadata": {
    "collapsed": true
   },
   "outputs": [],
   "source": []
  },
  {
   "cell_type": "code",
   "execution_count": null,
   "metadata": {
    "collapsed": true
   },
   "outputs": [],
   "source": []
  },
  {
   "cell_type": "code",
   "execution_count": null,
   "metadata": {
    "collapsed": true
   },
   "outputs": [],
   "source": []
  },
  {
   "cell_type": "code",
   "execution_count": 3,
   "metadata": {},
   "outputs": [
    {
     "name": "stdout",
     "output_type": "stream",
     "text": [
      "blob shape =  (64, 303, 28, 1) probably some runs did not return results and were stored anyway.\n",
      "The chain has a length of 303 iterations, each iteration having 64 evaluations/walkers\n",
      "Mean posteriors at the beginning and the end of the chain:\n",
      "-6.20198206318 -16.1270111454\n",
      "Mean posteriors after the burn-in tail is cut out:\n",
      "-6.20198206318 -6.02938802047\n",
      "We are left with a sample of 4992 posterior evaluations from the converged MCMC chain\n",
      "We have 4992 iterations good enough posterior, their posteriors range from\n",
      "-3.3583772798 -14.5414302898\n",
      "Highest posterior was obtained at parameters:  [[-2.39743005 -3.00094579 -0.7196173  -0.29756725  0.53552653  0.50570946]]\n",
      "Number of unique posterior values:  2607\n",
      "Inferred marginalized parameter distributions are:\n",
      "0 -2.31548686528 +- 0.14781494545\n",
      "1 -2.91227645502 +- 0.190944241625\n",
      "2 -0.770900092276 +- 0.298558270751\n",
      "3 -0.263359328175 +- 0.291731942072\n",
      "4 0.563763436811 +- 0.0963926043164\n",
      "5 0.503290693195 +- 0.093505369776\n",
      "[-2.3052232065318243, -2.9027554935012758, -0.76063147496694461, -0.27153142027991489, 0.56741329091297976, 0.50557538659226164]\n"
     ]
    },
    {
     "data": {
      "text/plain": [
       "<matplotlib.figure.Figure at 0x7f147c1ed358>"
      ]
     },
     "metadata": {},
     "output_type": "display_data"
    },
    {
     "data": {
      "text/plain": [
       "<matplotlib.figure.Figure at 0x7f1479272eb8>"
      ]
     },
     "metadata": {},
     "output_type": "display_data"
    }
   ],
   "source": [
    "restructure_chain('mcmc/')\n",
    "positions = np.load('mcmc/posteriorPDF.npy')\n",
    "init_param = []\n",
    "for j in range(len(a.p0)):\n",
    "    init_param.append(np.percentile(positions[:,j],50))\n",
    "print(init_param)"
   ]
  },
  {
   "cell_type": "code",
   "execution_count": 5,
   "metadata": {},
   "outputs": [
    {
     "name": "stdout",
     "output_type": "stream",
     "text": [
      "Populating the interactive namespace from numpy and matplotlib\n"
     ]
    }
   ],
   "source": [
    "%pylab inline\n",
    "#from skmonaco import mcmiser\n",
    "from Chempy.parameter import ModelParameters\n",
    "from Chempy.cem_function import posterior_function_mcmc_quick\n",
    "from Chempy.score_function import preload_params_mcmc\n",
    "from Chempy.plot_mcmc import restructure_chain\n",
    "a = ModelParameters()\n",
    "preload = preload_params_mcmc()"
   ]
  },
  {
   "cell_type": "code",
   "execution_count": 6,
   "metadata": {
    "collapsed": true
   },
   "outputs": [],
   "source": [
    "sigma = [] # Read prior sigma from parameter file\n",
    "for i,param_name in enumerate(a.to_optimize):\n",
    "    sigma.append(a.priors.get(param_name)[1])\n",
    "sigma = np.array(sigma)\n",
    "\n",
    "def posterior(theta):\n",
    "    a = ModelParameters()\n",
    "    post,_ = posterior_function_mcmc_quick(theta,a,preload)\n",
    "    posterior = np.exp(post)\n",
    "    return posterior\n",
    "\n",
    "Nsigma_width=2\n",
    "widening = 1.5 # 2x wider gaussian distribution\n",
    "cov = np.zeros((len(init_param),len(init_param)))\n",
    "for i in range(len(init_param)):\n",
    "    param = np.copy(init_param)\n",
    "    param[i] = np.copy(init_param[i])+Nsigma_width*sigma[i] # Change by 1 sigma in this direction\n",
    "    factor = posterior(np.array(init_param))/posterior(np.array(param))\n",
    "    cov[i,i] = (widening*Nsigma_width*sigma[i])**2/(2*np.log(factor)) # np.sqrt()?\n",
    "# Using 2 sigma at moment, 1.21 factor widens it slightly by 10% to ensure gaussian is wider than posterior"
   ]
  },
  {
   "cell_type": "code",
   "execution_count": 12,
   "metadata": {
    "collapsed": true
   },
   "outputs": [],
   "source": [
    "# Load PDF of posteriors\n",
    "positions = np.load('mcmc/posteriorPDF.npy')\n",
    "cov_matrix = np.zeros((len(a.p0),len(a.p0)))\n",
    "for i in range(len(a.p0)):\n",
    "    for j in range(len(a.p0)):\n",
    "        cov_matrix[i,j] = np.cov((positions[:,i],positions[:,j]))[1,0]\n"
   ]
  },
  {
   "cell_type": "code",
   "execution_count": 13,
   "metadata": {
    "collapsed": true
   },
   "outputs": [],
   "source": [
    "from scipy.stats import multivariate_normal as scinorm\n",
    "from numpy.random import multivariate_normal as numnorm\n",
    "\n",
    "# Define function to return posterior predictions (must be exponentiated)\n",
    "\n",
    "def posterior_mod(theta):\n",
    "    return posterior(theta)/gauss_factor(theta)\n",
    "\n",
    "def gauss_factor(theta):\n",
    "    return scinorm.pdf(theta,mean=np.array(init_param),cov=cov_matrix)\n",
    "\n",
    "def dist(size):\n",
    "    # Distribution function\n",
    "    mean = np.array(init_param)\n",
    "    return numnorm(mean,cov_matrix,size=size)\n",
    "\n",
    "# factor is the width of the posterior distribution...."
   ]
  },
  {
   "cell_type": "code",
   "execution_count": 36,
   "metadata": {},
   "outputs": [
    {
     "name": "stdout",
     "output_type": "stream",
     "text": [
      "Calculating integral 1 of 4\n",
      "Calculating integral 2 of 4\n",
      "Calculating integral 3 of 4\n",
      "Calculating integral 4 of 4\n",
      "Final result is 0.00009661 +/- 0.00000023 after 100000 samples (percentage error is 0.23)\n"
     ]
    }
   ],
   "source": [
    "from skmonaco import mcimport\n",
    "Nsamples = np.logspace(2,5,4)#,1000, 5000] # No MC samples\n",
    "#Nsigma = [2,2.5,3,3.5] # Width in parameter space\n",
    "j = 0\n",
    "integral = []\n",
    "integral_err = []\n",
    "\n",
    "for j in range(len(Nsamples)):\n",
    "    print('Calculating integral %d of %d' %(j+1,len(Nsamples)))\n",
    "    result,error = mcimport(posterior_mod,Nsamples[j],dist)\n",
    "    integral.append(result)\n",
    "    integral_err.append(error)\n",
    "print('Final result is %.8f +/- %.8f after %d samples (percentage error is %.2f)' %(integral[-1],integral_err[-1],Nsamples[-1],100*integral_err[-1]/integral[-1]))"
   ]
  },
  {
   "cell_type": "code",
   "execution_count": 37,
   "metadata": {},
   "outputs": [
    {
     "data": {
      "text/plain": [
       "<Container object of 3 artists>"
      ]
     },
     "execution_count": 37,
     "metadata": {},
     "output_type": "execute_result"
    },
    {
     "data": {
      "image/png": "[encoded data removed]",
      "text/plain": [
       "<matplotlib.figure.Figure at 0x7f70fbba49b0>"
      ]
     },
     "metadata": {},
     "output_type": "display_data"
    }
   ],
   "source": [
    "plt.errorbar(np.log10(Nsamples),integral,yerr=integral_err,fmt='x')"
   ]
  },
  {
   "cell_type": "code",
   "execution_count": null,
   "metadata": {
    "collapsed": true
   },
   "outputs": [],
   "source": []
  },
  {
   "cell_type": "code",
   "execution_count": 43,
   "metadata": {},
   "outputs": [
    {
     "name": "stdout",
     "output_type": "stream",
     "text": [
      "0\n",
      "500\n",
      "1000\n",
      "1500\n"
     ]
    }
   ],
   "source": [
    "Nsigma = 3\n",
    "x=[]\n",
    "y=[]\n",
    "post=[]\n",
    "gauss = []\n",
    "for i in range(2000):\n",
    "    param = random.uniform(np.array(init_param)-Nsigma*np.array(sigma),np.array(init_param)+Nsigma*np.array(sigma),size=6)\n",
    "    #param[1] = init_param[1]\n",
    "    param[2] = init_param[2]\n",
    "    param[3] = init_param[3]\n",
    "    param[4] = init_param[4]\n",
    "    param[5] = init_param[5]\n",
    "    x.append(param[0])\n",
    "    y.append(param[1])\n",
    "    post.append(posterior(param))\n",
    "    gauss.append(gauss_factor(param))\n",
    "    if i%500==0:\n",
    "        print(i)\n"
   ]
  },
  {
   "cell_type": "code",
   "execution_count": 70,
   "metadata": {},
   "outputs": [
    {
     "data": {
      "text/plain": [
       "<matplotlib.collections.PathCollection at 0x7f1478499d30>"
      ]
     },
     "execution_count": 70,
     "metadata": {},
     "output_type": "execute_result"
    },
    {
     "data": {
      "image/png": "[encoded data removed]",
      "text/plain": [
       "<matplotlib.figure.Figure at 0x7f14784c1860>"
      ]
     },
     "metadata": {},
     "output_type": "display_data"
    }
   ],
   "source": [
    "plt.clf()\n",
    "#plt.scatter(x,y,c=np.log10(np.array(post)/np.array(gauss)))\n",
    "#plt.colorbar()\n",
    "plt.scatter(x,np.log10(post/max(post)),c='r',s=3)\n",
    "plt.scatter(x,np.log10(gauss/max(gauss)),c='b',s=3)\n",
    "#plt.scatter(x,np.log(np.array(post)/np.array(gauss)/max(post)*max(gauss)),c='g')\n",
    "#plt.xlim([-1.6,-1.5])\n",
    "#max(post)"
   ]
  },
  {
   "cell_type": "code",
   "execution_count": 41,
   "metadata": {},
   "outputs": [
    {
     "data": {
      "text/plain": [
       "array([[ 0.02185364,  0.01559455, -0.00152286, -0.01132654,  0.00230577,\n",
       "         0.0033519 ],\n",
       "       [ 0.01559455,  0.03646701,  0.00245004, -0.00907591,  0.00299697,\n",
       "         0.00225616],\n",
       "       [-0.00152286,  0.00245004,  0.0891549 , -0.01239683,  0.00239299,\n",
       "        -0.00113511],\n",
       "       [-0.01132654, -0.00907591, -0.01239683,  0.08512458,  0.00170919,\n",
       "         0.00697358],\n",
       "       [ 0.00230577,  0.00299697,  0.00239299,  0.00170919,  0.0092934 ,\n",
       "        -0.00018429],\n",
       "       [ 0.0033519 ,  0.00225616, -0.00113511,  0.00697358, -0.00018429,\n",
       "         0.00874501]])"
      ]
     },
     "execution_count": 41,
     "metadata": {},
     "output_type": "execute_result"
    }
   ],
   "source": [
    "cov_matrix"
   ]
  },
  {
   "cell_type": "code",
   "execution_count": null,
   "metadata": {
    "collapsed": true
   },
   "outputs": [],
   "source": []
  },
  {
   "cell_type": "code",
   "execution_count": null,
   "metadata": {
    "collapsed": true
   },
   "outputs": [],
   "source": []
  },
  {
   "cell_type": "markdown",
   "metadata": {},
   "source": [
    "## Using a truncated gaussian"
   ]
  },
  {
   "cell_type": "code",
   "execution_count": 1,
   "metadata": {},
   "outputs": [
    {
     "name": "stdout",
     "output_type": "stream",
     "text": [
      "Populating the interactive namespace from numpy and matplotlib\n"
     ]
    }
   ],
   "source": [
    "%pylab inline\n",
    "#from skmonaco import mcmiser\n",
    "from Chempy.parameter import ModelParameters\n",
    "from Chempy.cem_function import posterior_function_mcmc_quick\n",
    "from Chempy.score_function import preload_params_mcmc\n",
    "from Chempy.plot_mcmc import restructure_chain\n",
    "a = ModelParameters()\n",
    "preload = preload_params_mcmc()"
   ]
  },
  {
   "cell_type": "code",
   "execution_count": 61,
   "metadata": {},
   "outputs": [],
   "source": [
    "# Load PDF of posteriors\n",
    "positions = np.load('mcmc/posteriorPDF.npy')\n",
    "init_param = np.median(positions,axis=0)\n",
    "cov_matrix = np.zeros((len(a.p0),len(a.p0)))\n",
    "for i in range(len(a.p0)):\n",
    "    for j in range(len(a.p0)):\n",
    "        cov_matrix[i,j] = np.cov((positions[:,i],positions[:,j]))[1,0]\n",
    "\n",
    "sigma = [] # Read prior sigma from parameter file\n",
    "for i,param_name in enumerate(a.to_optimize):\n",
    "    sigma.append(a.priors.get(param_name)[1])\n",
    "sigma = np.array(sigma)\n",
    "        \n",
    "def posterior(theta):\n",
    "    a = ModelParameters()\n",
    "    post,_ = posterior_function_mcmc_quick(theta,a,preload)\n",
    "    posterior = np.exp(post)\n",
    "    return posterior\n",
    "\n",
    "from scipy.stats import multivariate_normal as scinorm\n",
    "from numpy.random import multivariate_normal as numnorm\n",
    "\n",
    "# Define function to return posterior predictions (must be exponentiated)\n",
    "\n",
    "def posterior_mod(theta):\n",
    "    return posterior(theta)/gauss_factor(theta)\n",
    "\n",
    "def gauss_factor(theta):\n",
    "    return scinorm.pdf(theta,mean=np.array(init_param),cov=cov_matrix)\n",
    "\n"
   ]
  },
  {
   "cell_type": "code",
   "execution_count": 106,
   "metadata": {
    "collapsed": true
   },
   "outputs": [],
   "source": [
    "# CLIPPED DISTRIBUTION FUNCTION\n",
    "#Nsigma = 3.\n",
    "\n",
    "def clipped_dist(size):\n",
    "    # Distribution function\n",
    "    #pred = np.zeros(len(init_param))\n",
    "    output = []\n",
    "    for j in range(size):\n",
    "        outside_range=True\n",
    "        index=1 # Initialisation\n",
    "        while index != 0:\n",
    "            index = 0.\n",
    "            pred = numnorm(init_param,cov_matrix)\n",
    "            for i in range(len(init_param)): # If in correct range\n",
    "                if pred[i] > init_param[i]+Nsigma*sigma[i] or pred[i] < init_param[i]-Nsigma*sigma[i]:\n",
    "                    index += 1\n",
    "        output.append(pred)\n",
    "    return np.array(output)\n",
    "    #numnorm(mean,cov_matrix,size=size)\n",
    "\n",
    "from scipy.stats import mvn\n",
    "    \n",
    "def posterior_clipped_mod(theta):\n",
    "    low = init_param-Nsigma*sigma # lower limit\n",
    "    upp = init_param+Nsigma*sigma # upper limit\n",
    "    mu = np.array(init_param) # mean\n",
    "    norm,_ = mvn.mvnun(low,upp,init_param,cov_matrix) # Normalisation fraction\n",
    "    return posterior(theta)/(gauss_factor(theta))*norm\n"
   ]
  },
  {
   "cell_type": "code",
   "execution_count": 109,
   "metadata": {},
   "outputs": [
    {
     "name": "stdout",
     "output_type": "stream",
     "text": [
      "Calculating integral 1 of 8\n",
      "Calculating integral 2 of 8\n",
      "Calculating integral 3 of 8\n",
      "Calculating integral 4 of 8\n",
      "Calculating integral 5 of 8\n",
      "Calculating integral 6 of 8\n",
      "Calculating integral 7 of 8\n",
      "Calculating integral 8 of 8\n"
     ]
    },
    {
     "data": {
      "text/plain": [
       "<Container object of 3 artists>"
      ]
     },
     "execution_count": 109,
     "metadata": {},
     "output_type": "execute_result"
    },
    {
     "data": {
      "image/png": "[encoded data removed]",
      "text/plain": [
       "<matplotlib.figure.Figure at 0x7fd96c5dac88>"
      ]
     },
     "metadata": {},
     "output_type": "display_data"
    }
   ],
   "source": [
    "from skmonaco import mcimport\n",
    "integral = []\n",
    "integral_err = []\n",
    "Nsigma_list = [1.,1.5,2.,2.5,3.,3.5,4.,4.5]\n",
    "for n in range(len(Nsigma_list)):\n",
    "    Nsigma = Nsigma_list[n]\n",
    "    print('Calculating integral %d of %d' %(n+1,len(Nsigma_list)))\n",
    "    result,error = mcimport(posterior_clipped_mod,1e5,clipped_dist)\n",
    "    integral.append(result)\n",
    "    integral_err.append(error)\n"
   ]
  },
  {
   "cell_type": "code",
   "execution_count": 128,
   "metadata": {},
   "outputs": [
    {
     "data": {
      "text/plain": [
       "<matplotlib.text.Text at 0x7fd96b0254a8>"
      ]
     },
     "execution_count": 128,
     "metadata": {},
     "output_type": "execute_result"
    },
    {
     "data": {
      "image/png": "[encoded data removed]",
      "text/plain": [
       "<matplotlib.figure.Figure at 0x7fd96b5ea128>"
      ]
     },
     "metadata": {},
     "output_type": "display_data"
    },
    {
     "data": {
      "image/png": "[encoded data removed]",
      "text/plain": [
       "<matplotlib.figure.Figure at 0x7fd96b5eaa58>"
      ]
     },
     "metadata": {},
     "output_type": "display_data"
    }
   ],
   "source": [
    "plt.errorbar(Nsigma_list,(integral),yerr=np.array(integral_err)*1.)    \n",
    "plt.ylabel('Integral')\n",
    "plt.xlabel('Range (sigma)')\n",
    "plt.figure()\n",
    "residual = [(integral[-1] - item)/integral[-1] for item in integral]\n",
    "plt.errorbar(Nsigma_list,residual,yerr=integral_err)\n",
    "plt.ylabel('Fractional Residual')\n",
    "plt.xlabel('Range (sigma)')"
   ]
  },
  {
   "cell_type": "code",
   "execution_count": null,
   "metadata": {
    "collapsed": true
   },
   "outputs": [],
   "source": []
  },
  {
   "cell_type": "code",
   "execution_count": 60,
   "metadata": {},
   "outputs": [
    {
     "data": {
      "text/plain": [
       "array([-2.48996642, -3.08538552, -0.37513424,  0.51643949,  0.45724576])"
      ]
     },
     "execution_count": 60,
     "metadata": {},
     "output_type": "execute_result"
    }
   ],
   "source": [
    "init_param - Nsigma*sigma"
   ]
  },
  {
   "cell_type": "code",
   "execution_count": 57,
   "metadata": {
    "scrolled": true
   },
   "outputs": [],
   "source": [
    "par=dist(1000)"
   ]
  },
  {
   "cell_type": "code",
   "execution_count": 66,
   "metadata": {},
   "outputs": [
    {
     "data": {
      "image/png": "[encoded data removed]",
      "text/plain": [
       "<matplotlib.figure.Figure at 0x7fd96ce7f9b0>"
      ]
     },
     "metadata": {},
     "output_type": "display_data"
    }
   ],
   "source": [
    "x=[]\n",
    "y=[]\n",
    "for item in par:\n",
    "    x.append(item[0])\n",
    "    y.append(item[1])\n",
    "_=plt.hist(x,bins=30)"
   ]
  },
  {
   "cell_type": "code",
   "execution_count": 69,
   "metadata": {
    "collapsed": true
   },
   "outputs": [],
   "source": [
    "par2=dist(10000)"
   ]
  },
  {
   "cell_type": "code",
   "execution_count": 76,
   "metadata": {},
   "outputs": [
    {
     "data": {
      "text/plain": [
       "(array([ 17.,  18.,  23.,  25.,  20.,  15.,  28.,  37.,  43.,  45.,  41.,\n",
       "         44.,  43.,  49.,  43.,  52.,  34.,  55.,  42.,  43.,  37.,  41.,\n",
       "         29.,  36.,  30.,  30.,  25.,  16.,  22.,  17.]),\n",
       " array([-2.48949894, -2.47955658, -2.46961421, -2.45967185, -2.44972948,\n",
       "        -2.43978712, -2.42984475, -2.41990239, -2.40996002, -2.40001766,\n",
       "        -2.39007529, -2.38013293, -2.37019056, -2.3602482 , -2.35030583,\n",
       "        -2.34036347, -2.3304211 , -2.32047874, -2.31053637, -2.300594  ,\n",
       "        -2.29065164, -2.28070927, -2.27076691, -2.26082454, -2.25088218,\n",
       "        -2.24093981, -2.23099745, -2.22105508, -2.21111272, -2.20117035,\n",
       "        -2.19122799]),\n",
       " <a list of 30 Patch objects>)"
      ]
     },
     "execution_count": 76,
     "metadata": {},
     "output_type": "execute_result"
    },
    {
     "data": {
      "image/png": "[encoded data removed]",
      "text/plain": [
       "<matplotlib.figure.Figure at 0x7fd96cc856a0>"
      ]
     },
     "metadata": {},
     "output_type": "display_data"
    }
   ],
   "source": [
    "x2=[]\n",
    "y2=[]\n",
    "for item in par2:\n",
    "    x2.append(item[0])\n",
    "    y2.append(item[1])\n",
    "plt.hist(x2,bins=30)\n",
    "plt.hist(x,bins=30)"
   ]
  },
  {
   "cell_type": "code",
   "execution_count": 86,
   "metadata": {},
   "outputs": [
    {
     "name": "stdout",
     "output_type": "stream",
     "text": [
      "0.29939443624684464\n"
     ]
    }
   ],
   "source": [
    "Nsigma=1\n",
    "from scipy.stats import mvn\n",
    "low = init_param-Nsigma*sigma # lower limit\n",
    "upp = init_param+Nsigma*sigma # upper limit\n",
    "mu = np.array(init_param) # mean\n",
    "frac_enc,_ = mvn.mvnun(low,upp,init_param,cov_matrix) # Fraction enclosed\n",
    "print(frac_enc)"
   ]
  },
  {
   "cell_type": "code",
   "execution_count": 94,
   "metadata": {},
   "outputs": [],
   "source": [
    "# GIVES SAME RESULTS AS ABOVE HENCE WORKS\n",
    "from math import sqrt\n",
    "result,err = mcquad(gauss_factor,npoints=1e6,xl=init_param-Nsigma*sigma,xu=init_param+Nsigma*sigma)"
   ]
  },
  {
   "cell_type": "code",
   "execution_count": 95,
   "metadata": {},
   "outputs": [
    {
     "data": {
      "text/plain": [
       "(0.29937906954695487, 0.00039221777413101183)"
      ]
     },
     "execution_count": 95,
     "metadata": {},
     "output_type": "execute_result"
    }
   ],
   "source": [
    "result,err"
   ]
  },
  {
   "cell_type": "code",
   "execution_count": null,
   "metadata": {
    "collapsed": true
   },
   "outputs": [],
   "source": []
  }
 ],
 "metadata": {
  "kernelspec": {
   "display_name": "Python 3",
   "language": "python",
   "name": "python3"
  },
  "language_info": {
   "codemirror_mode": {
    "name": "ipython",
    "version": 3
   },
   "file_extension": ".py",
   "mimetype": "text/x-python",
   "name": "python",
   "nbconvert_exporter": "python",
   "pygments_lexer": "ipython3",
   "version": "3.6.1"
  }
 },
 "nbformat": 4,
 "nbformat_minor": 2
}
