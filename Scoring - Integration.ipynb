{
 "cells": [
  {
   "cell_type": "markdown",
   "metadata": {},
   "source": [
    "## First calculate MCMC posterior predictions"
   ]
  },
  {
   "cell_type": "code",
   "execution_count": 6,
   "metadata": {
    "collapsed": false
   },
   "outputs": [
    {
     "name": "stdout",
     "output_type": "stream",
     "text": [
      "Populating the interactive namespace from numpy and matplotlib\n"
     ]
    }
   ],
   "source": [
    "%pylab inline\n",
    "from skmonaco import mcmiser\n",
    "from Chempy.parameter import ModelParameters\n",
    "from Chempy.cem_function import posterior_function_mcmc_quick\n",
    "from Chempy.score_function import preload_params_mcmc\n",
    "from Chempy.plot_mcmc import restructure_chain\n",
    "a = ModelParameters()\n",
    "preload = preload_params_mcmc()"
   ]
  },
  {
   "cell_type": "code",
   "execution_count": 118,
   "metadata": {
    "collapsed": false
   },
   "outputs": [
    {
     "name": "stdout",
     "output_type": "stream",
     "text": [
      "['Proto-sun_all']\n",
      "first minimization for each star separately took:  0 seconds\n",
      "step  1 of  1000\n",
      "-3.78556083003 -3.78525064371\n",
      "calculation so far took 7.414967060089111  seconds\n",
      "step  2 of  1000\n",
      "-3.78556083003 -3.78683933665\n",
      "calculation so far took 8.227137565612793  seconds\n",
      "step  3 of  1000\n",
      "-3.78556083003 -3.79481582188\n",
      "calculation so far took 8.933692216873169  seconds\n",
      "step  4 of  1000\n",
      "-3.78556083003 -3.79988467547\n",
      "calculation so far took 9.56412935256958  seconds\n",
      "step  5 of  1000\n",
      "-3.78556083003 -3.80329476328\n",
      "calculation so far took 10.221569299697876  seconds\n",
      "step  6 of  1000\n",
      "-3.78556083003 -3.81780466625\n",
      "calculation so far took 10.94770097732544  seconds\n",
      "step  7 of  1000\n",
      "-3.78556083003 -3.8530617453\n",
      "calculation so far took 11.687074184417725  seconds\n",
      "step  8 of  1000\n",
      "-3.78556083003 -3.92438015274\n",
      "calculation so far took 12.391682386398315  seconds\n",
      "step  9 of  1000\n",
      "-3.78556083003 -4.12329878272\n",
      "calculation so far took 13.111915349960327  seconds\n",
      "step  10 of  1000\n",
      "-3.78556083003 -4.27917662592\n",
      "calculation so far took 13.87008023262024  seconds\n",
      "step  11 of  1000\n",
      "-3.78556083003 -4.53278215443\n",
      "calculation so far took 14.536420583724976  seconds\n",
      "step  12 of  1000\n",
      "-3.78556083003 -5.06320191929\n",
      "calculation so far took 15.221792697906494  seconds\n",
      "step  13 of  1000\n",
      "-3.78556083003 -5.47071202148\n",
      "calculation so far took 15.947012186050415  seconds\n",
      "step  14 of  1000\n",
      "-3.78556083003 -5.4485287991\n",
      "calculation so far took 16.594162225723267  seconds\n",
      "step  15 of  1000\n",
      "-3.78556083003 -5.43038140097\n",
      "calculation so far took 17.23868203163147  seconds\n",
      "step  16 of  1000\n",
      "-3.78556083003 -5.58154809925\n",
      "calculation so far took 17.924075841903687  seconds\n",
      "step  17 of  1000\n",
      "-3.78556083003 -5.57676708298\n",
      "calculation so far took 18.632147073745728  seconds\n",
      "step  18 of  1000\n",
      "-3.78556083003 -5.62970283243\n",
      "calculation so far took 19.35624599456787  seconds\n",
      "step  19 of  1000\n",
      "-3.78556083003 -5.68789682943\n",
      "calculation so far took 19.983283519744873  seconds\n",
      "step  20 of  1000\n",
      "-3.78556083003 -5.83545224407\n",
      "calculation so far took 20.5838520526886  seconds\n",
      "step  21 of  1000\n",
      "-3.78556083003 -5.83166250655\n",
      "calculation so far took 21.27739405632019  seconds\n",
      "step  22 of  1000\n",
      "-3.78556083003 -5.94964023903\n",
      "calculation so far took 21.97811722755432  seconds\n",
      "step  23 of  1000\n",
      "-3.78556083003 -5.98840627419\n",
      "calculation so far took 22.65467643737793  seconds\n",
      "step  24 of  1000\n",
      "-3.78556083003 -5.83364665045\n",
      "calculation so far took 23.3313467502594  seconds\n",
      "step  25 of  1000\n",
      "-3.78556083003 -5.96701321263\n",
      "calculation so far took 23.97876501083374  seconds\n",
      "step  26 of  1000\n",
      "-3.78556083003 -6.01528629344\n",
      "calculation so far took 24.624313354492188  seconds\n",
      "step  27 of  1000\n",
      "-3.78556083003 -6.03867677058\n",
      "calculation so far took 25.32889151573181  seconds\n",
      "step  28 of  1000\n",
      "-3.78556083003 -5.75177215583\n",
      "calculation so far took 26.18257737159729  seconds\n",
      "step  29 of  1000\n",
      "-3.78556083003 -5.89086779273\n",
      "calculation so far took 26.94963550567627  seconds\n",
      "step  30 of  1000\n",
      "-3.78556083003 -5.93606153366\n",
      "calculation so far took 27.6559739112854  seconds\n",
      "step  31 of  1000\n",
      "-3.78556083003 -6.10017940046\n",
      "calculation so far took 28.33914065361023  seconds\n",
      "step  32 of  1000\n",
      "-3.78556083003 -5.98659866953\n",
      "calculation so far took 29.067275047302246  seconds\n",
      "step  33 of  1000\n",
      "-3.78556083003 -5.86907573078\n",
      "calculation so far took 29.800867795944214  seconds\n",
      "step  34 of  1000\n",
      "-3.78556083003 -5.90291761132\n",
      "calculation so far took 30.55951499938965  seconds\n",
      "step  35 of  1000\n",
      "-3.78556083003 -6.19878643421\n",
      "calculation so far took 31.564974784851074  seconds\n",
      "step  36 of  1000\n",
      "-3.78556083003 -5.82777885435\n",
      "calculation so far took 32.331247329711914  seconds\n",
      "step  37 of  1000\n",
      "-3.78556083003 -5.88424346248\n",
      "calculation so far took 33.145458936691284  seconds\n",
      "step  38 of  1000\n",
      "-3.78556083003 -5.75650847432\n",
      "calculation so far took 34.030152320861816  seconds\n",
      "step  39 of  1000\n",
      "-3.78556083003 -5.97103545544\n",
      "calculation so far took 34.691831827163696  seconds\n",
      "step  40 of  1000\n",
      "-3.78556083003 -6.24399465213\n",
      "calculation so far took 35.48400616645813  seconds\n",
      "step  41 of  1000\n",
      "-3.78556083003 -6.44756715651\n",
      "calculation so far took 36.54563665390015  seconds\n",
      "step  42 of  1000\n",
      "-3.78556083003 -6.56160267816\n",
      "calculation so far took 37.28364062309265  seconds\n",
      "step  43 of  1000\n",
      "-3.78556083003 -6.60319722245\n",
      "calculation so far took 37.96374320983887  seconds\n",
      "step  44 of  1000\n",
      "-3.78556083003 -6.47829830911\n",
      "calculation so far took 38.77875018119812  seconds\n",
      "step  45 of  1000\n",
      "-3.78556083003 -6.14650505552\n",
      "calculation so far took 39.76449203491211  seconds\n",
      "step  46 of  1000\n",
      "-3.78556083003 -6.16415347714\n",
      "calculation so far took 40.44761300086975  seconds\n",
      "step  47 of  1000\n",
      "-3.78556083003 -6.30455477119\n",
      "calculation so far took 41.49087929725647  seconds\n",
      "step  48 of  1000\n",
      "-3.78556083003 -6.30315711783\n",
      "calculation so far took 42.319968700408936  seconds\n",
      "step  49 of  1000\n",
      "-3.78556083003 -6.49430964049\n",
      "calculation so far took 43.07801270484924  seconds\n",
      "step  50 of  1000\n",
      "-3.78556083003 -6.54888433468\n",
      "calculation so far took 43.77536678314209  seconds\n",
      "step  51 of  1000\n",
      "-3.78556083003 -6.71982675089\n",
      "calculation so far took 44.85786461830139  seconds\n",
      "step  52 of  1000\n",
      "-3.78556083003 -6.55211429176\n",
      "calculation so far took 45.62352919578552  seconds\n",
      "step  53 of  1000\n",
      "-3.78556083003 -6.38773333766\n",
      "calculation so far took 46.29618287086487  seconds\n",
      "step  54 of  1000\n",
      "-3.78556083003 -6.50919251586\n",
      "calculation so far took 47.03859090805054  seconds\n",
      "step  55 of  1000\n",
      "-3.78556083003 -6.20257270503\n",
      "calculation so far took 47.96393704414368  seconds\n",
      "step  56 of  1000\n",
      "-3.78556083003 -6.22967857072\n",
      "calculation so far took 48.820040464401245  seconds\n",
      "step  57 of  1000\n",
      "-3.78556083003 -6.23038617518\n",
      "calculation so far took 49.62661790847778  seconds\n",
      "step  58 of  1000\n",
      "-3.78556083003 -6.18816669092\n",
      "calculation so far took 50.38604402542114  seconds\n",
      "step  59 of  1000\n",
      "-3.78556083003 -5.97073093248\n",
      "calculation so far took 51.19118022918701  seconds\n",
      "step  60 of  1000\n",
      "-3.78556083003 -6.20670392336\n",
      "calculation so far took 51.95132899284363  seconds\n",
      "step  61 of  1000\n",
      "-3.78556083003 -6.15827338704\n",
      "calculation so far took 52.64709401130676  seconds\n",
      "step  62 of  1000\n",
      "-3.78556083003 -5.92424546927\n",
      "calculation so far took 53.363667726516724  seconds\n",
      "step  63 of  1000\n",
      "-3.78556083003 -6.00214930621\n",
      "calculation so far took 54.27963471412659  seconds\n",
      "step  64 of  1000\n",
      "-3.78556083003 -6.22411235105\n",
      "calculation so far took 55.070815324783325  seconds\n",
      "step  65 of  1000\n",
      "-3.78556083003 -5.95154077018\n",
      "calculation so far took 55.89790320396423  seconds\n",
      "step  66 of  1000\n",
      "-3.78556083003 -6.16491818791\n",
      "calculation so far took 56.8105525970459  seconds\n",
      "step  67 of  1000\n",
      "-3.78556083003 -6.16227738202\n",
      "calculation so far took 57.65924859046936  seconds\n",
      "step  68 of  1000\n",
      "-3.78556083003 -6.2275866044\n",
      "calculation so far took 58.50034713745117  seconds\n",
      "step  69 of  1000\n",
      "-3.78556083003 -6.10363938923\n",
      "calculation so far took 59.42250728607178  seconds\n",
      "step  70 of  1000\n",
      "-3.78556083003 -5.94856423396\n",
      "calculation so far took 60.23518180847168  seconds\n",
      "step  71 of  1000\n",
      "-3.78556083003 -6.03080743366\n",
      "calculation so far took 61.05786490440369  seconds\n",
      "step  72 of  1000\n",
      "-3.78556083003 -6.62408187895\n",
      "calculation so far took 62.06163954734802  seconds\n",
      "step  73 of  1000\n",
      "-3.78556083003 -6.60133855023\n",
      "calculation so far took 62.92025947570801  seconds\n",
      "step  74 of  1000\n",
      "-3.78556083003 -6.46408732823\n",
      "calculation so far took 63.690556049346924  seconds\n",
      "step  75 of  1000\n",
      "-3.78556083003 -6.61722646152\n",
      "calculation so far took 64.46666765213013  seconds\n",
      "step  76 of  1000\n",
      "-3.78556083003 -6.76473441713\n",
      "calculation so far took 65.20813536643982  seconds\n",
      "step  77 of  1000\n",
      "-3.78556083003 -6.76466377016\n",
      "calculation so far took 66.16140151023865  seconds\n",
      "step  78 of  1000\n",
      "-3.78556083003 -6.55871023273\n",
      "calculation so far took 67.08710861206055  seconds\n",
      "step  79 of  1000\n",
      "-3.78556083003 -6.54075376821\n",
      "calculation so far took 67.78461003303528  seconds\n",
      "step  80 of  1000\n",
      "-3.78556083003 -6.30404002479\n",
      "calculation so far took 68.58761692047119  seconds\n",
      "step  81 of  1000\n",
      "-3.78556083003 -6.39377030982\n",
      "calculation so far took 69.66758584976196  seconds\n",
      "step  82 of  1000\n",
      "-3.78556083003 -6.57261931432\n",
      "calculation so far took 70.61021709442139  seconds\n",
      "step  83 of  1000\n",
      "-3.78556083003 -6.62805533539\n",
      "calculation so far took 71.59562993049622  seconds\n",
      "step  84 of  1000\n",
      "-3.78556083003 -6.8981937362\n",
      "calculation so far took 72.53080868721008  seconds\n",
      "step  85 of  1000\n",
      "-3.78556083003 -6.82097498981\n",
      "calculation so far took 73.2181441783905  seconds\n",
      "step  86 of  1000\n",
      "-3.78556083003 -6.99011636749\n",
      "calculation so far took 73.93395066261292  seconds\n",
      "step  87 of  1000\n",
      "-3.78556083003 -6.91907149942\n",
      "calculation so far took 74.8925929069519  seconds\n",
      "step  88 of  1000\n",
      "-3.78556083003 -6.77671564162\n",
      "calculation so far took 75.74448156356812  seconds\n",
      "step  89 of  1000\n",
      "-3.78556083003 -6.65702464949\n",
      "calculation so far took 76.58519172668457  seconds\n",
      "step  90 of  1000\n",
      "-3.78556083003 -6.46454904285\n",
      "calculation so far took 77.49541592597961  seconds\n",
      "step  91 of  1000\n",
      "-3.78556083003 -6.3051119374\n",
      "calculation so far took 78.38114809989929  seconds\n",
      "step  92 of  1000\n",
      "-3.78556083003 -6.44421737928\n",
      "calculation so far took 79.2677354812622  seconds\n",
      "step  93 of  1000\n",
      "-3.78556083003 -6.31723021774\n",
      "calculation so far took 80.07836937904358  seconds\n",
      "step  94 of  1000\n",
      "-3.78556083003 -6.22211797765\n",
      "calculation so far took 80.83349442481995  seconds\n",
      "step  95 of  1000\n",
      "-3.78556083003 -6.12254730756\n",
      "calculation so far took 81.54704642295837  seconds\n",
      "step  96 of  1000\n",
      "-3.78556083003 -6.26904020032\n",
      "calculation so far took 82.33054327964783  seconds\n",
      "step  97 of  1000\n",
      "-3.78556083003 -6.4226863794\n",
      "calculation so far took 83.09180331230164  seconds\n",
      "step  98 of  1000\n",
      "-3.78556083003 -6.2551180138\n",
      "calculation so far took 83.8338782787323  seconds\n",
      "step  99 of  1000\n",
      "-3.78556083003 -6.34967283067\n",
      "calculation so far took 84.54260230064392  seconds\n",
      "step  100 of  1000\n",
      "-3.78556083003 -6.24347649745\n",
      "calculation so far took 85.31628203392029  seconds\n",
      "step  101 of  1000\n",
      "-3.78556083003 -6.06725199008\n",
      "calculation so far took 86.15393924713135  seconds\n",
      "step  102 of  1000\n",
      "-3.78556083003 -6.21488083934\n",
      "calculation so far took 86.92358732223511  seconds\n",
      "step  103 of  1000\n",
      "-3.78556083003 -6.22164230763\n",
      "calculation so far took 87.76671695709229  seconds\n",
      "step  104 of  1000\n",
      "-3.78556083003 -6.07782667341\n",
      "calculation so far took 88.90356111526489  seconds\n",
      "step  105 of  1000\n",
      "-3.78556083003 -5.8576623807\n",
      "calculation so far took 89.94052243232727  seconds\n",
      "step  106 of  1000\n",
      "-3.78556083003 -5.88496599327\n",
      "calculation so far took 90.69116520881653  seconds\n",
      "step  107 of  1000\n",
      "-3.78556083003 -5.85419065897\n",
      "calculation so far took 91.56202006340027  seconds\n",
      "step  108 of  1000\n",
      "-3.78556083003 -5.92916981184\n",
      "calculation so far took 92.35316252708435  seconds\n",
      "step  109 of  1000\n",
      "-3.78556083003 -6.18924489434\n",
      "calculation so far took 93.12380075454712  seconds\n",
      "step  110 of  1000\n",
      "-3.78556083003 -6.20342357687\n",
      "calculation so far took 93.88592863082886  seconds\n",
      "step  111 of  1000\n",
      "-3.78556083003 -5.96160915279\n",
      "calculation so far took 94.62502694129944  seconds\n",
      "step  112 of  1000\n",
      "-3.78556083003 -6.20989683095\n",
      "calculation so far took 95.4116530418396  seconds\n",
      "step  113 of  1000\n",
      "-3.78556083003 -6.30577443294\n",
      "calculation so far took 96.18478655815125  seconds\n",
      "step  114 of  1000\n",
      "-3.78556083003 -6.18172722525\n",
      "calculation so far took 97.17383527755737  seconds\n",
      "step  115 of  1000\n",
      "-3.78556083003 -6.03931712132\n",
      "calculation so far took 97.95610570907593  seconds\n",
      "step  116 of  1000\n",
      "-3.78556083003 -6.1753024995\n",
      "calculation so far took 98.87581634521484  seconds\n",
      "step  117 of  1000\n",
      "-3.78556083003 -5.88416595736\n",
      "calculation so far took 99.65468263626099  seconds\n",
      "step  118 of  1000\n",
      "-3.78556083003 -5.84882697137\n",
      "calculation so far took 100.36222124099731  seconds\n",
      "step  119 of  1000\n",
      "-3.78556083003 -5.94914177315\n",
      "calculation so far took 101.09887218475342  seconds\n",
      "step  120 of  1000\n",
      "-3.78556083003 -5.85053407758\n",
      "calculation so far took 101.83835744857788  seconds\n",
      "step  121 of  1000\n",
      "-3.78556083003 -6.01547027058\n",
      "calculation so far took 102.9627616405487  seconds\n",
      "step  122 of  1000\n",
      "-3.78556083003 -5.91263508841\n",
      "calculation so far took 103.99560117721558  seconds\n",
      "step  123 of  1000\n",
      "-3.78556083003 -5.9091533748\n",
      "calculation so far took 104.68420886993408  seconds\n",
      "step  124 of  1000\n",
      "-3.78556083003 -5.90245206063\n",
      "calculation so far took 105.39158391952515  seconds\n",
      "step  125 of  1000\n",
      "-3.78556083003 -6.08537887513\n",
      "calculation so far took 106.32874155044556  seconds\n",
      "step  126 of  1000\n",
      "-3.78556083003 -6.11755215821\n",
      "calculation so far took 107.3495922088623  seconds\n",
      "step  127 of  1000\n",
      "-3.78556083003 -5.84592020863\n",
      "calculation so far took 108.0502552986145  seconds\n",
      "step  128 of  1000\n",
      "-3.78556083003 -5.93272271718\n",
      "calculation so far took 109.2146418094635  seconds\n",
      "step  129 of  1000\n",
      "-3.78556083003 -6.41005878809\n",
      "calculation so far took 110.03518581390381  seconds\n",
      "step  130 of  1000\n",
      "-3.78556083003 -6.38189182234\n",
      "calculation so far took 110.84760999679565  seconds\n",
      "step  131 of  1000\n",
      "-3.78556083003 -6.04593296064\n",
      "calculation so far took 111.6400797367096  seconds\n",
      "step  132 of  1000\n",
      "-3.78556083003 -6.03935988379\n",
      "calculation so far took 112.25958013534546  seconds\n",
      "step  133 of  1000\n",
      "-3.78556083003 -6.24163994028\n",
      "calculation so far took 113.08034253120422  seconds\n",
      "step  134 of  1000\n",
      "-3.78556083003 -6.01434347218\n",
      "calculation so far took 113.99028038978577  seconds\n",
      "step  135 of  1000\n",
      "-3.78556083003 -5.77502810913\n",
      "calculation so far took 114.99329900741577  seconds\n",
      "step  136 of  1000\n",
      "-3.78556083003 -5.67022198887\n",
      "calculation so far took 115.92749547958374  seconds\n",
      "step  137 of  1000\n",
      "-3.78556083003 -5.91179949553\n",
      "calculation so far took 116.89251971244812  seconds\n",
      "step  138 of  1000\n",
      "-3.78556083003 -6.07482224551\n",
      "calculation so far took 117.88228154182434  seconds\n",
      "step  139 of  1000\n",
      "-3.78556083003 -6.3285271101\n",
      "calculation so far took 118.71339511871338  seconds\n",
      "step  140 of  1000\n",
      "-3.78556083003 -6.31226071452\n",
      "calculation so far took 119.62335705757141  seconds\n",
      "step  141 of  1000\n",
      "-3.78556083003 -6.36468370141\n",
      "calculation so far took 120.55909538269043  seconds\n",
      "step  142 of  1000\n",
      "-3.78556083003 -6.37627439038\n",
      "calculation so far took 121.43730092048645  seconds\n",
      "step  143 of  1000\n",
      "-3.78556083003 -6.47212707681\n",
      "calculation so far took 122.54071021080017  seconds\n",
      "step  144 of  1000\n",
      "-3.78556083003 -6.22870015188\n",
      "calculation so far took 123.67132425308228  seconds\n",
      "step  145 of  1000\n",
      "-3.78556083003 -6.17817029791\n",
      "calculation so far took 124.52504277229309  seconds\n",
      "step  146 of  1000\n",
      "-3.78556083003 -6.23036318619\n",
      "calculation so far took 125.59000730514526  seconds\n",
      "step  147 of  1000\n",
      "-3.78556083003 -6.16951744697\n",
      "calculation so far took 126.47116923332214  seconds\n",
      "step  148 of  1000\n",
      "-3.78556083003 -6.24668764931\n",
      "calculation so far took 127.27434349060059  seconds\n",
      "step  149 of  1000\n",
      "-3.78556083003 -6.33380684822\n",
      "calculation so far took 128.3067591190338  seconds\n",
      "step  150 of  1000\n",
      "-3.78556083003 -6.1494115794\n",
      "calculation so far took 129.35942721366882  seconds\n",
      "step  151 of  1000\n",
      "-3.78556083003 -6.30823381282\n",
      "calculation so far took 130.19955110549927  seconds\n",
      "step  152 of  1000\n",
      "-3.78556083003 -6.6373856538\n",
      "calculation so far took 130.86907029151917  seconds\n",
      "step  153 of  1000\n",
      "-3.78556083003 -6.67102716168\n",
      "calculation so far took 131.56713366508484  seconds\n",
      "step  154 of  1000\n",
      "-3.78556083003 -6.71843078774\n",
      "calculation so far took 132.40080857276917  seconds\n",
      "step  155 of  1000\n",
      "-3.78556083003 -6.42041651936\n",
      "calculation so far took 133.0718502998352  seconds\n",
      "step  156 of  1000\n",
      "-3.78556083003 -6.3808168627\n",
      "calculation so far took 133.81645846366882  seconds\n",
      "step  157 of  1000\n",
      "-3.78556083003 -6.09971720689\n",
      "calculation so far took 134.53914952278137  seconds\n",
      "step  158 of  1000\n",
      "-3.78556083003 -6.14409578933\n",
      "calculation so far took 135.2177095413208  seconds\n",
      "step  159 of  1000\n",
      "-3.78556083003 -6.12568559385\n",
      "calculation so far took 136.01833510398865  seconds\n",
      "step  160 of  1000\n",
      "-3.78556083003 -6.22956853905\n",
      "calculation so far took 136.7390501499176  seconds\n",
      "step  161 of  1000\n",
      "-3.78556083003 -6.35758973621\n",
      "calculation so far took 137.52104544639587  seconds\n",
      "step  162 of  1000\n",
      "-3.78556083003 -6.35223636616\n",
      "calculation so far took 138.3391900062561  seconds\n",
      "step  163 of  1000\n",
      "-3.78556083003 -6.29915826076\n",
      "calculation so far took 139.2017035484314  seconds\n",
      "step  164 of  1000\n",
      "-3.78556083003 -5.91504524616\n",
      "calculation so far took 140.42359161376953  seconds\n",
      "step  165 of  1000\n",
      "-3.78556083003 -5.96102091001\n",
      "calculation so far took 141.51586723327637  seconds\n",
      "step  166 of  1000\n",
      "-3.78556083003 -6.09537286812\n",
      "calculation so far took 142.77177810668945  seconds\n",
      "step  167 of  1000\n",
      "-3.78556083003 -5.9925692906\n",
      "calculation so far took 143.64148879051208  seconds\n",
      "step  168 of  1000\n",
      "-3.78556083003 -5.82277584013\n",
      "calculation so far took 144.68524479866028  seconds\n",
      "step  169 of  1000\n",
      "-3.78556083003 -5.85914465349\n",
      "calculation so far took 145.60113978385925  seconds\n",
      "step  170 of  1000\n",
      "-3.78556083003 -5.82301982373\n",
      "calculation so far took 146.57735395431519  seconds\n",
      "step  171 of  1000\n",
      "-3.78556083003 -5.85914325403\n",
      "calculation so far took 147.45197558403015  seconds\n",
      "step  172 of  1000\n",
      "-3.78556083003 -5.89515857496\n",
      "calculation so far took 148.41566014289856  seconds\n",
      "step  173 of  1000\n",
      "-3.78556083003 -5.9565216543\n",
      "calculation so far took 149.405864238739  seconds\n",
      "step  174 of  1000\n",
      "-3.78556083003 -6.1282510271\n",
      "calculation so far took 151.036523103714  seconds\n",
      "step  175 of  1000\n",
      "-3.78556083003 -6.05224009892\n",
      "calculation so far took 152.5776388645172  seconds\n",
      "step  176 of  1000\n",
      "-3.78556083003 -6.20430153246\n",
      "calculation so far took 153.52582955360413  seconds\n",
      "step  177 of  1000\n",
      "-3.78556083003 -6.27966843561\n",
      "calculation so far took 154.44693732261658  seconds\n",
      "step  178 of  1000\n",
      "-3.78556083003 -6.17047466943\n",
      "calculation so far took 155.21700263023376  seconds\n",
      "step  179 of  1000\n",
      "-3.78556083003 -5.89472564894\n",
      "calculation so far took 156.10068154335022  seconds\n",
      "step  180 of  1000\n",
      "-3.78556083003 -6.16610465149\n",
      "calculation so far took 156.95137071609497  seconds\n",
      "step  181 of  1000\n",
      "-3.78556083003 -5.97072277776\n",
      "calculation so far took 157.95710730552673  seconds\n",
      "step  182 of  1000\n",
      "-3.78556083003 -6.12295918121\n",
      "calculation so far took 158.88028240203857  seconds\n",
      "step  183 of  1000\n",
      "-3.78556083003 -6.08304187898\n",
      "calculation so far took 159.94861221313477  seconds\n",
      "step  184 of  1000\n",
      "-3.78556083003 -6.30207963383\n",
      "calculation so far took 160.80522394180298  seconds\n",
      "step  185 of  1000\n",
      "-3.78556083003 -6.32535845816\n",
      "calculation so far took 161.5427851676941  seconds\n",
      "step  186 of  1000\n",
      "-3.78556083003 -6.46873039406\n",
      "calculation so far took 162.3488574028015  seconds\n",
      "step  187 of  1000\n",
      "-3.78556083003 -6.5617519319\n",
      "calculation so far took 163.14350414276123  seconds\n",
      "step  188 of  1000\n",
      "-3.78556083003 -6.58922926954\n",
      "calculation so far took 163.9716637134552  seconds\n",
      "step  189 of  1000\n",
      "-3.78556083003 -6.72217260861\n",
      "calculation so far took 164.73526048660278  seconds\n",
      "step  190 of  1000\n",
      "-3.78556083003 -6.61946936837\n",
      "calculation so far took 165.5213339328766  seconds\n",
      "step  191 of  1000\n",
      "-3.78556083003 -6.57702213347\n",
      "calculation so far took 166.25942373275757  seconds\n",
      "step  192 of  1000\n",
      "-3.78556083003 -6.41727456096\n",
      "calculation so far took 167.10624074935913  seconds\n",
      "step  193 of  1000\n",
      "-3.78556083003 -6.37214435285\n",
      "calculation so far took 167.81621098518372  seconds\n",
      "step  194 of  1000\n",
      "-3.78556083003 -6.43384051584\n",
      "calculation so far took 168.61881804466248  seconds\n",
      "step  195 of  1000\n",
      "-3.78556083003 -6.31573468823\n",
      "calculation so far took 169.5980474948883  seconds\n",
      "step  196 of  1000\n",
      "-3.78556083003 -6.08507972775\n",
      "calculation so far took 170.36855030059814  seconds\n",
      "step  197 of  1000\n",
      "-3.78556083003 -6.02853833949\n",
      "calculation so far took 171.28018832206726  seconds\n",
      "step  198 of  1000\n",
      "-3.78556083003 -6.02998864326\n",
      "calculation so far took 172.18933820724487  seconds\n",
      "step  199 of  1000\n",
      "-3.78556083003 -6.10205462966\n",
      "calculation so far took 173.11281991004944  seconds\n",
      "step  200 of  1000\n",
      "-3.78556083003 -6.06053446226\n",
      "calculation so far took 174.38572454452515  seconds\n",
      "step  201 of  1000\n",
      "-3.78556083003 -6.03096246533\n",
      "calculation so far took 175.70216012001038  seconds\n",
      "step  202 of  1000\n",
      "-3.78556083003 -6.31292274287\n",
      "calculation so far took 177.38185334205627  seconds\n",
      "step  203 of  1000\n",
      "-3.78556083003 -6.36316659155\n",
      "calculation so far took 178.17598509788513  seconds\n",
      "step  204 of  1000\n",
      "-3.78556083003 -6.17534109854\n",
      "calculation so far took 179.08166408538818  seconds\n",
      "step  205 of  1000\n",
      "-3.78556083003 -6.29035278396\n",
      "calculation so far took 179.877783536911  seconds\n",
      "step  206 of  1000\n",
      "-3.78556083003 -6.3153354299\n",
      "calculation so far took 180.79695987701416  seconds\n",
      "step  207 of  1000\n",
      "-3.78556083003 -6.26225684096\n",
      "calculation so far took 181.7676830291748  seconds\n",
      "step  208 of  1000\n",
      "-3.78556083003 -6.16514436238\n",
      "calculation so far took 182.67885160446167  seconds\n",
      "step  209 of  1000\n",
      "-3.78556083003 -6.21380694889\n",
      "calculation so far took 183.61651849746704  seconds\n",
      "step  210 of  1000\n",
      "-3.78556083003 -6.40793602976\n",
      "calculation so far took 184.73331332206726  seconds\n",
      "step  211 of  1000\n",
      "-3.78556083003 -6.56933100611\n",
      "calculation so far took 185.52615308761597  seconds\n",
      "step  212 of  1000\n",
      "-3.78556083003 -6.32612573507\n",
      "calculation so far took 186.54390811920166  seconds\n",
      "step  213 of  1000\n",
      "-3.78556083003 -6.170161143\n",
      "calculation so far took 187.40902376174927  seconds\n",
      "step  214 of  1000\n",
      "-3.78556083003 -6.39675213385\n",
      "calculation so far took 188.2727029323578  seconds\n",
      "step  215 of  1000\n",
      "-3.78556083003 -6.33209127078\n",
      "calculation so far took 189.10779738426208  seconds\n",
      "step  216 of  1000\n",
      "-3.78556083003 -6.25175095513\n",
      "calculation so far took 190.01694297790527  seconds\n",
      "step  217 of  1000\n",
      "-3.78556083003 -6.28101838816\n",
      "calculation so far took 190.9846546649933  seconds\n",
      "step  218 of  1000\n",
      "-3.78556083003 -6.31304282863\n",
      "calculation so far took 191.910813331604  seconds\n",
      "step  219 of  1000\n",
      "-3.78556083003 -6.62961690352\n",
      "calculation so far took 192.77443647384644  seconds\n",
      "step  220 of  1000\n",
      "-3.78556083003 -6.28995831503\n",
      "calculation so far took 193.71312046051025  seconds\n",
      "step  221 of  1000\n",
      "-3.78556083003 -6.29454425477\n",
      "calculation so far took 194.68381643295288  seconds\n",
      "step  222 of  1000\n",
      "-3.78556083003 -6.28660623321\n",
      "calculation so far took 195.68402647972107  seconds\n",
      "step  223 of  1000\n",
      "-3.78556083003 -6.17369195067\n",
      "calculation so far took 196.53214406967163  seconds\n",
      "step  224 of  1000\n",
      "-3.78556083003 -6.04928234438\n",
      "calculation so far took 197.47080874443054  seconds\n",
      "step  225 of  1000\n",
      "-3.78556083003 -6.0193516854\n",
      "calculation so far took 198.27441453933716  seconds\n",
      "step  226 of  1000\n",
      "-3.78556083003 -6.01747775443\n",
      "calculation so far took 199.11506462097168  seconds\n",
      "step  227 of  1000\n",
      "-3.78556083003 -6.09511203036\n",
      "calculation so far took 199.86912941932678  seconds\n",
      "step  228 of  1000\n",
      "-3.78556083003 -6.20249625879\n",
      "calculation so far took 200.6697018146515  seconds\n",
      "step  229 of  1000\n",
      "-3.78556083003 -6.32105195634\n",
      "calculation so far took 201.48929738998413  seconds\n",
      "step  230 of  1000\n",
      "-3.78556083003 -6.25633133925\n",
      "calculation so far took 202.31907391548157  seconds\n",
      "step  231 of  1000\n",
      "-3.78556083003 -6.29492606613\n",
      "calculation so far took 203.03581428527832  seconds\n",
      "step  232 of  1000\n",
      "-3.78556083003 -6.35513345415\n",
      "calculation so far took 203.71142745018005  seconds\n",
      "step  233 of  1000\n",
      "-3.78556083003 -6.40766644362\n",
      "calculation so far took 204.37396240234375  seconds\n",
      "step  234 of  1000\n",
      "-3.78556083003 -6.27252786498\n",
      "calculation so far took 205.03725862503052  seconds\n",
      "step  235 of  1000\n",
      "-3.78556083003 -6.44671917504\n",
      "calculation so far took 205.7243537902832  seconds\n",
      "step  236 of  1000\n",
      "-3.78556083003 -6.37418287264\n",
      "calculation so far took 206.4077444076538  seconds\n",
      "step  237 of  1000\n",
      "-3.78556083003 -6.26309006991\n",
      "calculation so far took 207.08755493164062  seconds\n",
      "step  238 of  1000\n",
      "-3.78556083003 -6.36804711191\n",
      "calculation so far took 207.73228454589844  seconds\n",
      "step  239 of  1000\n",
      "-3.78556083003 -6.35214620611\n",
      "calculation so far took 208.53981161117554  seconds\n",
      "step  240 of  1000\n",
      "-3.78556083003 -6.32955688122\n",
      "calculation so far took 209.24443793296814  seconds\n",
      "step  241 of  1000\n",
      "-3.78556083003 -6.32129490503\n",
      "calculation so far took 210.38927149772644  seconds\n",
      "step  242 of  1000\n",
      "-3.78556083003 -6.33642120343\n",
      "calculation so far took 211.59412717819214  seconds\n",
      "step  243 of  1000\n",
      "-3.78556083003 -6.24894973793\n",
      "calculation so far took 212.66693806648254  seconds\n",
      "step  244 of  1000\n",
      "-3.78556083003 -6.20905286286\n",
      "calculation so far took 213.77778911590576  seconds\n",
      "step  245 of  1000\n",
      "-3.78556083003 -6.41188222432\n",
      "calculation so far took 214.7029619216919  seconds\n",
      "step  246 of  1000\n",
      "-3.78556083003 -6.74610499025\n",
      "calculation so far took 215.5527470111847  seconds\n",
      "step  247 of  1000\n",
      "-3.78556083003 -6.72283007509\n",
      "calculation so far took 216.32587504386902  seconds\n",
      "step  248 of  1000\n",
      "-3.78556083003 -6.50130071204\n",
      "calculation so far took 217.416894197464  seconds\n",
      "step  249 of  1000\n",
      "-3.78556083003 -6.24720270718\n",
      "calculation so far took 218.14575600624084  seconds\n",
      "step  250 of  1000\n",
      "-3.78556083003 -6.52885361782\n",
      "calculation so far took 218.83973169326782  seconds\n",
      "step  251 of  1000\n",
      "-3.78556083003 -6.43848013729\n",
      "calculation so far took 219.58706951141357  seconds\n",
      "step  252 of  1000\n",
      "-3.78556083003 -6.26383167586\n",
      "calculation so far took 220.6806502342224  seconds\n",
      "step  253 of  1000\n",
      "-3.78556083003 -6.4308299929\n",
      "calculation so far took 221.5160186290741  seconds\n",
      "step  254 of  1000\n",
      "-3.78556083003 -6.33432787706\n",
      "calculation so far took 222.2462728023529  seconds\n",
      "step  255 of  1000\n",
      "-3.78556083003 -6.38002694684\n",
      "calculation so far took 223.05185294151306  seconds\n",
      "step  256 of  1000\n",
      "-3.78556083003 -6.7495925912\n",
      "calculation so far took 223.85050082206726  seconds\n",
      "step  257 of  1000\n",
      "-3.78556083003 -6.45655652411\n",
      "calculation so far took 224.63515663146973  seconds\n",
      "step  258 of  1000\n",
      "-3.78556083003 -5.98613327329\n",
      "calculation so far took 225.66290545463562  seconds\n",
      "step  259 of  1000\n",
      "-3.78556083003 -6.16083863946\n",
      "calculation so far took 226.58519911766052  seconds\n",
      "step  260 of  1000\n",
      "-3.78556083003 -6.16878046269\n",
      "calculation so far took 227.6379635334015  seconds\n",
      "step  261 of  1000\n",
      "-3.78556083003 -6.15688662941\n",
      "calculation so far took 228.83783411979675  seconds\n",
      "step  262 of  1000\n",
      "-3.78556083003 -6.0089564403\n",
      "calculation so far took 229.73801040649414  seconds\n",
      "step  263 of  1000\n",
      "-3.78556083003 -6.03549915861\n",
      "calculation so far took 230.63867044448853  seconds\n",
      "step  264 of  1000\n",
      "-3.78556083003 -6.34448023461\n",
      "calculation so far took 231.4178342819214  seconds\n",
      "step  265 of  1000\n",
      "-3.78556083003 -6.12067233999\n",
      "calculation so far took 232.29064464569092  seconds\n",
      "step  266 of  1000\n",
      "-3.78556083003 -6.17182123948\n",
      "calculation so far took 233.2273337841034  seconds\n",
      "step  267 of  1000\n",
      "-3.78556083003 -6.06424986157\n",
      "calculation so far took 234.11157989501953  seconds\n",
      "step  268 of  1000\n",
      "-3.78556083003 -5.81625038001\n",
      "calculation so far took 235.29249143600464  seconds\n",
      "step  269 of  1000\n",
      "-3.78556083003 -6.11316041958\n",
      "calculation so far took 236.17317461967468  seconds\n",
      "step  270 of  1000\n",
      "-3.78556083003 -6.04534177778\n",
      "calculation so far took 237.17438530921936  seconds\n",
      "step  271 of  1000\n",
      "-3.78556083003 -6.12868222387\n",
      "calculation so far took 238.0009732246399  seconds\n",
      "step  272 of  1000\n",
      "-3.78556083003 -6.11657257959\n",
      "calculation so far took 238.8991403579712  seconds\n",
      "step  273 of  1000\n",
      "-3.78556083003 -5.90356727272\n",
      "calculation so far took 239.8198528289795  seconds\n",
      "step  274 of  1000\n",
      "-3.78556083003 -5.90862919274\n",
      "calculation so far took 240.6430459022522  seconds\n",
      "step  275 of  1000\n",
      "-3.78556083003 -6.03191895312\n",
      "calculation so far took 241.6387665271759  seconds\n",
      "step  276 of  1000\n",
      "-3.78556083003 -6.12028408291\n",
      "calculation so far took 242.6334788799286  seconds\n",
      "step  277 of  1000\n",
      "-3.78556083003 -6.31486377132\n",
      "calculation so far took 243.75329184532166  seconds\n",
      "step  278 of  1000\n",
      "-3.78556083003 -6.24896616109\n",
      "calculation so far took 244.74499583244324  seconds\n",
      "step  279 of  1000\n",
      "-3.78556083003 -6.23759061141\n",
      "calculation so far took 245.5575830936432  seconds\n",
      "step  280 of  1000\n",
      "-3.78556083003 -6.28996472937\n",
      "calculation so far took 246.3467195034027  seconds\n",
      "step  281 of  1000\n",
      "-3.78556083003 -6.16708576582\n",
      "calculation so far took 247.09691905975342  seconds\n",
      "step  282 of  1000\n",
      "-3.78556083003 -6.23838467795\n",
      "calculation so far took 247.93976664543152  seconds\n",
      "step  283 of  1000\n",
      "-3.78556083003 -6.27277220724\n",
      "calculation so far took 248.73892998695374  seconds\n",
      "step  284 of  1000\n",
      "-3.78556083003 -6.30634306377\n",
      "calculation so far took 249.74413204193115  seconds\n",
      "step  285 of  1000\n",
      "-3.78556083003 -6.66393351924\n",
      "calculation so far took 250.71202993392944  seconds\n",
      "step  286 of  1000\n",
      "-3.78556083003 -6.44027407226\n",
      "calculation so far took 251.57333374023438  seconds\n",
      "step  287 of  1000\n",
      "-3.78556083003 -6.33894358609\n",
      "calculation so far took 252.56586694717407  seconds\n",
      "step  288 of  1000\n",
      "-3.78556083003 -6.29106024845\n",
      "calculation so far took 253.53681707382202  seconds\n",
      "step  289 of  1000\n",
      "-3.78556083003 -6.20701144958\n",
      "calculation so far took 254.42831182479858  seconds\n",
      "step  290 of  1000\n",
      "-3.78556083003 -6.15343881966\n",
      "calculation so far took 255.41620469093323  seconds\n",
      "step  291 of  1000\n",
      "-3.78556083003 -6.43469187055\n",
      "calculation so far took 256.35157537460327  seconds\n",
      "step  292 of  1000\n",
      "-3.78556083003 -6.41569599616\n",
      "calculation so far took 257.22252321243286  seconds\n",
      "step  293 of  1000\n",
      "-3.78556083003 -6.2690047563\n",
      "calculation so far took 258.30938601493835  seconds\n",
      "step  294 of  1000\n",
      "-3.78556083003 -6.46309013311\n",
      "calculation so far took 259.28113317489624  seconds\n",
      "step  295 of  1000\n",
      "-3.78556083003 -6.27798533144\n",
      "calculation so far took 260.0730926990509  seconds\n",
      "step  296 of  1000\n",
      "-3.78556083003 -6.24409668062\n",
      "calculation so far took 261.07465410232544  seconds\n",
      "step  297 of  1000\n",
      "-3.78556083003 -6.41515309069\n",
      "calculation so far took 262.27188444137573  seconds\n",
      "step  298 of  1000\n",
      "-3.78556083003 -6.2582053368\n",
      "calculation so far took 263.3033311367035  seconds\n",
      "step  299 of  1000\n",
      "-3.78556083003 -6.15777681107\n",
      "calculation so far took 264.28702092170715  seconds\n",
      "step  300 of  1000\n",
      "-3.78556083003 -6.28353835193\n",
      "calculation so far took 265.38884592056274  seconds\n",
      "step  301 of  1000\n",
      "-3.78556083003 -6.17176723875\n",
      "calculation so far took 266.2531645298004  seconds\n",
      "step  302 of  1000\n",
      "-3.78556083003 -6.33783516965\n",
      "calculation so far took 267.2318494319916  seconds\n",
      "1 loop, best of 1: 4min 28s per loop\n"
     ]
    }
   ],
   "source": [
    "from Chempy.wrapper import single_star_optimization\n",
    "%timeit -r 1 -n 1 single_star_optimization()\n"
   ]
  },
  {
   "cell_type": "code",
   "execution_count": 120,
   "metadata": {
    "collapsed": false
   },
   "outputs": [
    {
     "name": "stdout",
     "output_type": "stream",
     "text": [
      "blob shape =  (64, 303, 28, 1) probably some runs did not return results and were stored anyway.\n",
      "The chain has a length of 303 iterations, each iteration having 64 evaluations/walkers\n",
      "Mean posteriors at the beginning and the end of the chain:\n",
      "-6.33783516965 -3.78556083003\n",
      "Mean posteriors after the burn-in tail is cut out:\n",
      "-6.33783516965 -6.0193516854\n",
      "We are left with a sample of 4992 posterior evaluations from the converged MCMC chain\n",
      "We have 4992 iterations good enough posterior, their posteriors range from\n",
      "-3.33529045108 -18.2584598315\n",
      "Highest posterior was obtained at parameters:  [[-2.39047741 -2.95348726 -0.87547959 -0.27628465  0.58104929  0.48838231]]\n",
      "Number of unique posterior values:  2643\n",
      "Inferred marginalized parameter distributions are:\n",
      "0 -2.32466120785 +- 0.142727513241\n",
      "1 -2.96972076692 +- 0.190290734879\n",
      "2 -0.792220173461 +- 0.294893901937\n",
      "3 -0.303418903691 +- 0.283194319937\n",
      "4 0.544174421782 +- 0.101659287146\n",
      "5 0.49383682827 +- 0.100768782775\n",
      "[-2.3286866137456554, -2.9713938232292589, -0.7849680583107268, -0.32647888563419847, 0.53731310841117486, 0.48910088813712221]\n"
     ]
    },
    {
     "data": {
      "text/plain": [
       "<matplotlib.figure.Figure at 0x22fd2917588>"
      ]
     },
     "metadata": {},
     "output_type": "display_data"
    },
    {
     "data": {
      "text/plain": [
       "<matplotlib.figure.Figure at 0x22fd183dbe0>"
      ]
     },
     "metadata": {},
     "output_type": "display_data"
    }
   ],
   "source": [
    "restructure_chain('mcmc/')\n",
    "positions = np.load('mcmc/posteriorPDF.npy')\n",
    "init_param = []\n",
    "for j in range(len(a.p0)):\n",
    "    init_param.append(np.percentile(positions[:,j],50))\n",
    "print(init_param)"
   ]
  },
  {
   "cell_type": "code",
   "execution_count": 146,
   "metadata": {
    "collapsed": true
   },
   "outputs": [],
   "source": [
    "# Define function to return posterior predictions (must be exponentiated)\n",
    "def posterior(theta):\n",
    "    a = ModelParameters()\n",
    "    post,_ = posterior_function_mcmc_quick(theta,a,preload)\n",
    "    posterior = np.exp(post)\n",
    "    return posterior\n",
    "\n",
    "sigma = [] # Read prior sigma from parameter file\n",
    "for i,param_name in enumerate(a.to_optimize):\n",
    "    sigma.append(a.priors.get(param_name)[1])\n",
    "sigma = np.array(sigma)"
   ]
  },
  {
   "cell_type": "code",
   "execution_count": 19,
   "metadata": {
    "collapsed": false
   },
   "outputs": [
    {
     "name": "stdout",
     "output_type": "stream",
     "text": [
      "Calculating integral 1 of 4\n",
      "Calculating integral 2 of 4\n",
      "Calculating integral 3 of 4\n",
      "Calculating integral 4 of 4\n"
     ]
    }
   ],
   "source": [
    "Nsamples = [10000,10000,100000] # No MC samples\n",
    "Nsigma = [2,2.5,3,3.5] # Width in parameter space\n",
    "j = 0\n",
    "integral = []\n",
    "integral_err = []\n",
    "for i in range(len(Nsigma)):\n",
    "    print('Calculating integral %d of %d' %(i+1,len(Nsigma)))\n",
    "    result,error = mcmiser(posterior,npoints=Nsamples[j],xl=init_param-Nsigma[i]*sigma,xu=init_param+Nsigma[i]*sigma)\n",
    "    integral.append(result)\n",
    "    integral_err.append(error)"
   ]
  },
  {
   "cell_type": "code",
   "execution_count": 20,
   "metadata": {
    "collapsed": false
   },
   "outputs": [
    {
     "data": {
      "text/plain": [
       "<Container object of 3 artists>"
      ]
     },
     "execution_count": 20,
     "metadata": {},
     "output_type": "execute_result"
    },
    {
     "data": {
      "image/png": "[encoded data removed]",
      "text/plain": [
       "<matplotlib.figure.Figure at 0x7ff16c0ca1d0>"
      ]
     },
     "metadata": {},
     "output_type": "display_data"
    }
   ],
   "source": [
    "plt.errorbar(Nsigma,integral,yerr=integral_err)"
   ]
  },
  {
   "cell_type": "code",
   "execution_count": null,
   "metadata": {
    "collapsed": true
   },
   "outputs": [],
   "source": []
  },
  {
   "cell_type": "code",
   "execution_count": 22,
   "metadata": {
    "collapsed": false
   },
   "outputs": [
    {
     "name": "stdout",
     "output_type": "stream",
     "text": [
      "433.082932728\n"
     ]
    }
   ],
   "source": [
    "ratio = posterior(init_param)/posterior(init_param+sigma)\n",
    "print(ratio)"
   ]
  },
  {
   "cell_type": "code",
   "execution_count": 49,
   "metadata": {
    "collapsed": true
   },
   "outputs": [],
   "source": [
    "factor = np.sqrt(1./np.log(ratio)*np.dot(sigma,sigma.T)/2)"
   ]
  },
  {
   "cell_type": "code",
   "execution_count": 44,
   "metadata": {
    "collapsed": false
   },
   "outputs": [
    {
     "name": "stdout",
     "output_type": "stream",
     "text": [
      "0\n",
      "100\n",
      "200\n",
      "300\n",
      "400\n",
      "500\n",
      "600\n",
      "700\n",
      "800\n",
      "900\n",
      "1000\n",
      "1100\n",
      "1200\n",
      "1300\n",
      "1400\n",
      "1500\n",
      "1600\n",
      "1700\n",
      "1800\n",
      "1900\n",
      "2000\n",
      "2100\n",
      "2200\n",
      "2300\n",
      "2400\n",
      "2500\n",
      "2600\n",
      "2700\n",
      "2800\n",
      "2900\n",
      "3000\n",
      "3100\n",
      "3200\n",
      "3300\n",
      "3400\n",
      "3500\n",
      "3600\n",
      "3700\n",
      "3800\n",
      "3900\n",
      "4000\n",
      "4100\n",
      "4200\n",
      "4300\n",
      "4400\n",
      "4500\n",
      "4600\n",
      "4700\n",
      "4800\n",
      "4900\n"
     ]
    }
   ],
   "source": [
    "d1 = []\n",
    "d2 = []\n",
    "d3 = []\n",
    "from scipy.stats import norm\n",
    "Nsigma = 3\n",
    "for i in range(5000):\n",
    "    param = random.uniform(np.array(init_param)-Nsigma*np.array(sigma),np.array(init_param)+Nsigma*np.array(sigma),size=6)\n",
    "    param[2] = init_param[2]\n",
    "    param[3] = init_param[3]\n",
    "    param[4] = init_param[4]\n",
    "    param[5] = init_param[5]\n",
    "    post,_ = posterior_function_mcmc_quick(param,a,preload)\n",
    "    posterior = np.exp(post)\n",
    "    d1.append(param[0])\n",
    "    d2.append(param[1])\n",
    "    dis = np.sqrt(np.dot(param-init_param,(param-init_param).T))\n",
    "    d3.append(posterior/norm.pdf(dis,scale=0.18))\n",
    "    if i%100==0:\n",
    "        print(i)\n"
   ]
  },
  {
   "cell_type": "code",
   "execution_count": 48,
   "metadata": {
    "collapsed": false
   },
   "outputs": [
    {
     "data": {
      "text/plain": [
       "<matplotlib.colorbar.Colorbar at 0x7ff15fef2e48>"
      ]
     },
     "execution_count": 48,
     "metadata": {},
     "output_type": "execute_result"
    },
    {
     "data": {
      "image/png": "[encoded data removed]",
      "text/plain": [
       "<matplotlib.figure.Figure at 0x7ff15fee2160>"
      ]
     },
     "metadata": {},
     "output_type": "display_data"
    }
   ],
   "source": [
    "plt.scatter(d1,d2,c=(d3),vmax=0.005)\n",
    "plt.colorbar()"
   ]
  },
  {
   "cell_type": "code",
   "execution_count": null,
   "metadata": {
    "collapsed": true
   },
   "outputs": [],
   "source": [
    "from skmonaco import mcimport\n",
    "skmonaco.mcimport(posterior(theta), npoints, distribution, args=(), dist_kwargs={}, rng=None, nprocs=1, seed=None, batch_size=None, weight=1.0)"
   ]
  },
  {
   "cell_type": "code",
   "execution_count": 120,
   "metadata": {
    "collapsed": false
   },
   "outputs": [
    {
     "data": {
      "text/plain": [
       "<Container object of 3 artists>"
      ]
     },
     "execution_count": 120,
     "metadata": {},
     "output_type": "execute_result"
    },
    {
     "data": {
      "image/png": "[encoded data removed]",
      "text/plain": [
       "<matplotlib.figure.Figure at 0x7ff15faa1d30>"
      ]
     },
     "metadata": {},
     "output_type": "display_data"
    }
   ],
   "source": [
    "plt.errorbar(Nsigma,integral,yerr=integral_err)"
   ]
  },
  {
   "cell_type": "code",
   "execution_count": 105,
   "metadata": {
    "collapsed": false
   },
   "outputs": [
    {
     "data": {
      "text/plain": [
       "[-2.3427591451742913,\n",
       " -2.9267582127139948,\n",
       " -0.85695676162089884,\n",
       " -0.21844682387518691,\n",
       " 0.55496905981343092,\n",
       " 0.49045726379122279]"
      ]
     },
     "execution_count": 105,
     "metadata": {},
     "output_type": "execute_result"
    }
   ],
   "source": [
    "#factor = scinorm(a.p0,mean=init_param,cov=cov)\n",
    "init_param"
   ]
  },
  {
   "cell_type": "code",
   "execution_count": 117,
   "metadata": {
    "collapsed": false
   },
   "outputs": [
    {
     "data": {
      "text/plain": [
       "1.3850461364156517"
      ]
     },
     "execution_count": 117,
     "metadata": {},
     "output_type": "execute_result"
    }
   ],
   "source": [
    "posterior_mod(init_param+np.array([0.1,0.1,0.1,0.1,0.1,0.1]))"
   ]
  },
  {
   "cell_type": "code",
   "execution_count": 118,
   "metadata": {
    "collapsed": false
   },
   "outputs": [
    {
     "data": {
      "text/plain": [
       "4.6260788077632808"
      ]
     },
     "execution_count": 118,
     "metadata": {},
     "output_type": "execute_result"
    }
   ],
   "source": [
    "posterior_mod(init_param)"
   ]
  },
  {
   "cell_type": "code",
   "execution_count": 135,
   "metadata": {
    "collapsed": true
   },
   "outputs": [
    {
     "name": "stdout",
     "output_type": "stream",
     "text": [
      "0\n",
      "100\n",
      "200\n",
      "300\n",
      "400\n",
      "500\n",
      "600\n",
      "700\n",
      "800\n",
      "900\n",
      "1000\n",
      "1100\n",
      "1200\n",
      "1300\n",
      "1400\n",
      "1500\n",
      "1600\n",
      "1700\n",
      "1800\n",
      "1900\n",
      "2000\n",
      "2100\n",
      "2200\n",
      "2300\n",
      "2400\n",
      "2500\n",
      "2600\n",
      "2700\n",
      "2800\n",
      "2900\n",
      "3000\n",
      "3100\n",
      "3200\n",
      "3300\n",
      "3400\n",
      "3500\n",
      "3600\n",
      "3700\n",
      "3800\n",
      "3900\n",
      "4000\n",
      "4100\n",
      "4200\n",
      "4300\n",
      "4400\n",
      "4500\n",
      "4600\n",
      "4700\n",
      "4800\n",
      "4900\n"
     ]
    }
   ],
   "source": [
    "Nsigma = 3\n",
    "d1 = []\n",
    "d2 = []\n",
    "d3 = []\n",
    "for i in range(5000):\n",
    "    param = random.uniform(np.array(init_param)-Nsigma*np.array(sigma),np.array(init_param)+Nsigma*np.array(sigma),size=6)\n",
    "    param[2] = init_param[2]\n",
    "    param[3] = init_param[3]\n",
    "    param[4] = init_param[4]\n",
    "    param[5] = init_param[5]\n",
    "    posterior2 = posterior_mod(param)\n",
    "    d1.append(param[0])\n",
    "    d2.append(param[1])\n",
    "    d3.append(posterior2)\n",
    "    if i%100==0:\n",
    "        print(i)\n"
   ]
  },
  {
   "cell_type": "code",
   "execution_count": 139,
   "metadata": {
    "collapsed": true
   },
   "outputs": [
    {
     "data": {
      "text/plain": [
       "<matplotlib.colorbar.Colorbar at 0x7ff15eef5d68>"
      ]
     },
     "execution_count": 139,
     "metadata": {},
     "output_type": "execute_result"
    },
    {
     "data": {
      "image/png": "[encoded data removed]",
      "text/plain": [
       "<matplotlib.figure.Figure at 0x7ff15ef1c978>"
      ]
     },
     "metadata": {},
     "output_type": "display_data"
    }
   ],
   "source": [
    "plt.scatter(d1,d2,c=(d3))\n",
    "plt.colorbar()"
   ]
  },
  {
   "cell_type": "code",
   "execution_count": 165,
   "metadata": {
    "collapsed": true
   },
   "outputs": [],
   "source": [
    "cov = np.zeros((len(init_param),len(init_param)))\n",
    "for i in range(len(init_param)):\n",
    "    param = np.copy(init_param)\n",
    "    param[i] = init_param[i]+sigma[i] # Change by 1 sigma in this direction\n",
    "    factor = posterior(np.array(init_param))/posterior(np.array(param))\n",
    "    cov[i,i] = np.sqrt(sigma[i]**2/(2*np.log(factor)))"
   ]
  },
  {
   "cell_type": "code",
   "execution_count": null,
   "metadata": {
    "collapsed": true
   },
   "outputs": [],
   "source": []
  },
  {
   "cell_type": "code",
   "execution_count": null,
   "metadata": {
    "collapsed": true
   },
   "outputs": [],
   "source": []
  },
  {
   "cell_type": "code",
   "execution_count": null,
   "metadata": {
    "collapsed": true
   },
   "outputs": [],
   "source": []
  },
  {
   "cell_type": "code",
   "execution_count": null,
   "metadata": {
    "collapsed": true
   },
   "outputs": [],
   "source": []
  },
  {
   "cell_type": "code",
   "execution_count": 9,
   "metadata": {
    "collapsed": false
   },
   "outputs": [
    {
     "name": "stdout",
     "output_type": "stream",
     "text": [
      "Populating the interactive namespace from numpy and matplotlib\n"
     ]
    },
    {
     "name": "stderr",
     "output_type": "stream",
     "text": [
      "WARNING: pylab import has clobbered these variables: ['dist']\n",
      "`%matplotlib` prevents importing * from pylab and numpy\n"
     ]
    }
   ],
   "source": [
    "%pylab inline\n",
    "#from skmonaco import mcmiser\n",
    "from Chempy.parameter import ModelParameters\n",
    "from Chempy.cem_function import posterior_function_mcmc_quick\n",
    "from Chempy.score_function import preload_params_mcmc\n",
    "from Chempy.plot_mcmc import restructure_chain\n",
    "a = ModelParameters()\n",
    "preload = preload_params_mcmc()"
   ]
  },
  {
   "cell_type": "code",
   "execution_count": 82,
   "metadata": {
    "collapsed": false
   },
   "outputs": [],
   "source": [
    "from scipy.stats import multivariate_normal as scinorm\n",
    "from numpy.random import multivariate_normal as numnorm\n",
    "\n",
    "sigma = [] # Read prior sigma from parameter file\n",
    "for i,param_name in enumerate(a.to_optimize):\n",
    "    sigma.append(a.priors.get(param_name)[1])\n",
    "sigma = np.array(sigma)\n",
    "\n",
    "# Define function to return posterior predictions (must be exponentiated)\n",
    "def posterior(theta):\n",
    "    a = ModelParameters()\n",
    "    post,_ = posterior_function_mcmc_quick(theta,a,preload)\n",
    "    posterior = np.exp(post)\n",
    "    return posterior\n",
    "\n",
    "def posterior_mod(theta):\n",
    "    return posterior(theta)/gauss_factor(theta)\n",
    "\n",
    "def gauss_factor(theta):\n",
    "    return scinorm.pdf(theta,mean=np.array(init_param),cov=cov)\n",
    "\n",
    "def dist(size):\n",
    "    # Distribution function\n",
    "    mean = np.array(init_param)\n",
    "    return numnorm(mean,cov,size=size)\n",
    "\n",
    "# factor is the width of the posterior distribution...."
   ]
  },
  {
   "cell_type": "code",
   "execution_count": 135,
   "metadata": {
    "collapsed": false
   },
   "outputs": [],
   "source": [
    "cov = np.zeros((len(init_param),len(init_param)))\n",
    "for i in range(len(init_param)):\n",
    "    param = np.copy(init_param)\n",
    "    param[i] = np.copy(init_param[i])+2*sigma[i] # Change by 1 sigma in this direction\n",
    "    factor = posterior(np.array(init_param))/posterior(np.array(param))\n",
    "    cov[i,i] = 1.2**2*(2*sigma[i]**2/(np.log(factor))) # np.sqrt()?\n",
    "# Using 2 sigma at moment, 1.21 factor widens it slightly by 10% to ensure gaussian is wider than posterior"
   ]
  },
  {
   "cell_type": "code",
   "execution_count": 136,
   "metadata": {
    "collapsed": false
   },
   "outputs": [],
   "source": [
    "for i in range(len(init_param)):\n",
    "    param = np.copy(init_param)\n",
    "    param[i] = np.copy(init_param[i])+2*sigma[i] # Change by 1 sigma in this direction\n"
   ]
  },
  {
   "cell_type": "code",
   "execution_count": 137,
   "metadata": {
    "collapsed": false
   },
   "outputs": [
    {
     "data": {
      "text/plain": [
       "-0.00023795694146097748"
      ]
     },
     "execution_count": 137,
     "metadata": {},
     "output_type": "execute_result"
    }
   ],
   "source": [
    "posterior_mod(param)-posterior_mod(init_param)"
   ]
  },
  {
   "cell_type": "code",
   "execution_count": 138,
   "metadata": {
    "collapsed": false
   },
   "outputs": [
    {
     "ename": "ImportError",
     "evalue": "No module named 'skmonaco'",
     "output_type": "error",
     "traceback": [
      "\u001b[1;31m---------------------------------------------------------------------------\u001b[0m",
      "\u001b[1;31mImportError\u001b[0m                               Traceback (most recent call last)",
      "\u001b[1;32m<ipython-input-138-a2d014b64e40>\u001b[0m in \u001b[0;36m<module>\u001b[1;34m()\u001b[0m\n\u001b[1;32m----> 1\u001b[1;33m \u001b[1;32mfrom\u001b[0m \u001b[0mskmonaco\u001b[0m \u001b[1;32mimport\u001b[0m \u001b[0mmcimport\u001b[0m\u001b[1;33m\u001b[0m\u001b[0m\n\u001b[0m\u001b[0;32m      2\u001b[0m \u001b[0mNsamples\u001b[0m \u001b[1;33m=\u001b[0m \u001b[1;33m[\u001b[0m\u001b[1;36m500\u001b[0m\u001b[1;33m,\u001b[0m\u001b[1;36m10000\u001b[0m\u001b[1;33m,\u001b[0m\u001b[1;36m100000\u001b[0m\u001b[1;33m,\u001b[0m \u001b[1;36m50000\u001b[0m\u001b[1;33m]\u001b[0m \u001b[1;31m# No MC samples\u001b[0m\u001b[1;33m\u001b[0m\u001b[0m\n\u001b[0;32m      3\u001b[0m \u001b[0mNsigma\u001b[0m \u001b[1;33m=\u001b[0m \u001b[1;33m[\u001b[0m\u001b[1;36m2\u001b[0m\u001b[1;33m,\u001b[0m\u001b[1;36m2.5\u001b[0m\u001b[1;33m,\u001b[0m\u001b[1;36m3\u001b[0m\u001b[1;33m,\u001b[0m\u001b[1;36m3.5\u001b[0m\u001b[1;33m]\u001b[0m \u001b[1;31m# Width in parameter space\u001b[0m\u001b[1;33m\u001b[0m\u001b[0m\n\u001b[0;32m      4\u001b[0m \u001b[0mj\u001b[0m \u001b[1;33m=\u001b[0m \u001b[1;36m0\u001b[0m\u001b[1;33m\u001b[0m\u001b[0m\n\u001b[0;32m      5\u001b[0m \u001b[0mintegral\u001b[0m \u001b[1;33m=\u001b[0m \u001b[1;33m[\u001b[0m\u001b[1;33m]\u001b[0m\u001b[1;33m\u001b[0m\u001b[0m\n",
      "\u001b[1;31mImportError\u001b[0m: No module named 'skmonaco'"
     ]
    }
   ],
   "source": [
    "from skmonaco import mcimport\n",
    "Nsamples = [500,10000,100000, 50000] # No MC samples\n",
    "Nsigma = [2,2.5,3,3.5] # Width in parameter space\n",
    "j = 0\n",
    "integral = []\n",
    "integral_err = []\n",
    "\n",
    "for j in range(len(Nsamples)):\n",
    "    print('Calculating integral %d of %d' %(j+1,len(Nsamples)))\n",
    "    result,error = mcimport(posterior_mod,Nsamples[j],dist)\n",
    "    integral.append(result)\n",
    "    integral_err.append(error)"
   ]
  },
  {
   "cell_type": "code",
   "execution_count": 139,
   "metadata": {
    "collapsed": false
   },
   "outputs": [
    {
     "ename": "NameError",
     "evalue": "name 'Nsamples' is not defined",
     "output_type": "error",
     "traceback": [
      "\u001b[1;31m---------------------------------------------------------------------------\u001b[0m",
      "\u001b[1;31mNameError\u001b[0m                                 Traceback (most recent call last)",
      "\u001b[1;32m<ipython-input-139-41e8fa70d91b>\u001b[0m in \u001b[0;36m<module>\u001b[1;34m()\u001b[0m\n\u001b[1;32m----> 1\u001b[1;33m \u001b[0mplt\u001b[0m\u001b[1;33m.\u001b[0m\u001b[0merrorbar\u001b[0m\u001b[1;33m(\u001b[0m\u001b[0mNsamples\u001b[0m\u001b[1;33m,\u001b[0m\u001b[0mintegral\u001b[0m\u001b[1;33m,\u001b[0m\u001b[0myerr\u001b[0m\u001b[1;33m=\u001b[0m\u001b[0mintegral_err\u001b[0m\u001b[1;33m)\u001b[0m\u001b[1;33m\u001b[0m\u001b[0m\n\u001b[0m",
      "\u001b[1;31mNameError\u001b[0m: name 'Nsamples' is not defined"
     ]
    }
   ],
   "source": [
    "plt.errorbar(Nsamples,integral,yerr=integral_err)"
   ]
  },
  {
   "cell_type": "code",
   "execution_count": 140,
   "metadata": {
    "collapsed": false
   },
   "outputs": [
    {
     "name": "stdout",
     "output_type": "stream",
     "text": [
      "0\n",
      "100\n",
      "200\n",
      "300\n"
     ]
    },
    {
     "ename": "KeyboardInterrupt",
     "evalue": "",
     "output_type": "error",
     "traceback": [
      "\u001b[1;31m---------------------------------------------------------------------------\u001b[0m",
      "\u001b[1;31mKeyboardInterrupt\u001b[0m                         Traceback (most recent call last)",
      "\u001b[1;32m<ipython-input-140-ec82a13466ea>\u001b[0m in \u001b[0;36m<module>\u001b[1;34m()\u001b[0m\n\u001b[0;32m      9\u001b[0m     \u001b[0mparam\u001b[0m\u001b[1;33m[\u001b[0m\u001b[1;36m4\u001b[0m\u001b[1;33m]\u001b[0m \u001b[1;33m=\u001b[0m \u001b[0minit_param\u001b[0m\u001b[1;33m[\u001b[0m\u001b[1;36m4\u001b[0m\u001b[1;33m]\u001b[0m\u001b[1;33m\u001b[0m\u001b[0m\n\u001b[0;32m     10\u001b[0m     \u001b[0mparam\u001b[0m\u001b[1;33m[\u001b[0m\u001b[1;36m5\u001b[0m\u001b[1;33m]\u001b[0m \u001b[1;33m=\u001b[0m \u001b[0minit_param\u001b[0m\u001b[1;33m[\u001b[0m\u001b[1;36m5\u001b[0m\u001b[1;33m]\u001b[0m\u001b[1;33m\u001b[0m\u001b[0m\n\u001b[1;32m---> 11\u001b[1;33m     \u001b[0mposterior2\u001b[0m \u001b[1;33m=\u001b[0m \u001b[0mposterior_mod\u001b[0m\u001b[1;33m(\u001b[0m\u001b[0mparam\u001b[0m\u001b[1;33m)\u001b[0m\u001b[1;33m\u001b[0m\u001b[0m\n\u001b[0m\u001b[0;32m     12\u001b[0m     \u001b[0md1\u001b[0m\u001b[1;33m.\u001b[0m\u001b[0mappend\u001b[0m\u001b[1;33m(\u001b[0m\u001b[0mparam\u001b[0m\u001b[1;33m[\u001b[0m\u001b[1;36m0\u001b[0m\u001b[1;33m]\u001b[0m\u001b[1;33m)\u001b[0m\u001b[1;33m\u001b[0m\u001b[0m\n\u001b[0;32m     13\u001b[0m     \u001b[0md2\u001b[0m\u001b[1;33m.\u001b[0m\u001b[0mappend\u001b[0m\u001b[1;33m(\u001b[0m\u001b[0mparam\u001b[0m\u001b[1;33m[\u001b[0m\u001b[1;36m1\u001b[0m\u001b[1;33m]\u001b[0m\u001b[1;33m)\u001b[0m\u001b[1;33m\u001b[0m\u001b[0m\n",
      "\u001b[1;32m<ipython-input-82-ab2b01f9fb02>\u001b[0m in \u001b[0;36mposterior_mod\u001b[1;34m(theta)\u001b[0m\n\u001b[0;32m     15\u001b[0m \u001b[1;33m\u001b[0m\u001b[0m\n\u001b[0;32m     16\u001b[0m \u001b[1;32mdef\u001b[0m \u001b[0mposterior_mod\u001b[0m\u001b[1;33m(\u001b[0m\u001b[0mtheta\u001b[0m\u001b[1;33m)\u001b[0m\u001b[1;33m:\u001b[0m\u001b[1;33m\u001b[0m\u001b[0m\n\u001b[1;32m---> 17\u001b[1;33m     \u001b[1;32mreturn\u001b[0m \u001b[0mposterior\u001b[0m\u001b[1;33m(\u001b[0m\u001b[0mtheta\u001b[0m\u001b[1;33m)\u001b[0m\u001b[1;33m/\u001b[0m\u001b[0mgauss_factor\u001b[0m\u001b[1;33m(\u001b[0m\u001b[0mtheta\u001b[0m\u001b[1;33m)\u001b[0m\u001b[1;33m\u001b[0m\u001b[0m\n\u001b[0m\u001b[0;32m     18\u001b[0m \u001b[1;33m\u001b[0m\u001b[0m\n\u001b[0;32m     19\u001b[0m \u001b[1;32mdef\u001b[0m \u001b[0mgauss_factor\u001b[0m\u001b[1;33m(\u001b[0m\u001b[0mtheta\u001b[0m\u001b[1;33m)\u001b[0m\u001b[1;33m:\u001b[0m\u001b[1;33m\u001b[0m\u001b[0m\n",
      "\u001b[1;32m<ipython-input-82-ab2b01f9fb02>\u001b[0m in \u001b[0;36mposterior\u001b[1;34m(theta)\u001b[0m\n\u001b[0;32m     10\u001b[0m \u001b[1;32mdef\u001b[0m \u001b[0mposterior\u001b[0m\u001b[1;33m(\u001b[0m\u001b[0mtheta\u001b[0m\u001b[1;33m)\u001b[0m\u001b[1;33m:\u001b[0m\u001b[1;33m\u001b[0m\u001b[0m\n\u001b[0;32m     11\u001b[0m     \u001b[0ma\u001b[0m \u001b[1;33m=\u001b[0m \u001b[0mModelParameters\u001b[0m\u001b[1;33m(\u001b[0m\u001b[1;33m)\u001b[0m\u001b[1;33m\u001b[0m\u001b[0m\n\u001b[1;32m---> 12\u001b[1;33m     \u001b[0mpost\u001b[0m\u001b[1;33m,\u001b[0m\u001b[0m_\u001b[0m \u001b[1;33m=\u001b[0m \u001b[0mposterior_function_mcmc_quick\u001b[0m\u001b[1;33m(\u001b[0m\u001b[0mtheta\u001b[0m\u001b[1;33m,\u001b[0m\u001b[0ma\u001b[0m\u001b[1;33m,\u001b[0m\u001b[0mpreload\u001b[0m\u001b[1;33m)\u001b[0m\u001b[1;33m\u001b[0m\u001b[0m\n\u001b[0m\u001b[0;32m     13\u001b[0m     \u001b[0mposterior\u001b[0m \u001b[1;33m=\u001b[0m \u001b[0mnp\u001b[0m\u001b[1;33m.\u001b[0m\u001b[0mexp\u001b[0m\u001b[1;33m(\u001b[0m\u001b[0mpost\u001b[0m\u001b[1;33m)\u001b[0m\u001b[1;33m\u001b[0m\u001b[0m\n\u001b[0;32m     14\u001b[0m     \u001b[1;32mreturn\u001b[0m \u001b[0mposterior\u001b[0m\u001b[1;33m\u001b[0m\u001b[0m\n",
      "\u001b[1;32mC:\\Users\\Oliver\\MPIA\\Chempy3\\Chempy\\cem_function.py\u001b[0m in \u001b[0;36mposterior_function_mcmc_quick\u001b[1;34m(changing_parameter, error_element_list, preload)\u001b[0m\n\u001b[0;32m   1202\u001b[0m                 \u001b[0mnew_element_index\u001b[0m \u001b[1;33m=\u001b[0m \u001b[0mnp\u001b[0m\u001b[1;33m.\u001b[0m\u001b[0mwhere\u001b[0m\u001b[1;33m(\u001b[0m\u001b[0melements\u001b[0m \u001b[1;33m==\u001b[0m \u001b[0melement\u001b[0m\u001b[1;33m)\u001b[0m\u001b[1;33m[\u001b[0m\u001b[1;36m0\u001b[0m\u001b[1;33m]\u001b[0m\u001b[1;33m[\u001b[0m\u001b[1;36m0\u001b[0m\u001b[1;33m]\u001b[0m\u001b[1;33m\u001b[0m\u001b[0m\n\u001b[0;32m   1203\u001b[0m         \u001b[1;31m#       star_errors[new_element_index,star_index] = item[1][element_index]\u001b[0m\u001b[1;33m\u001b[0m\u001b[1;33m\u001b[0m\u001b[0m\n\u001b[1;32m-> 1204\u001b[1;33m                 \u001b[0mmodel_abundances\u001b[0m\u001b[1;33m[\u001b[0m\u001b[0mnew_element_index\u001b[0m\u001b[1;33m,\u001b[0m\u001b[0mstar_index\u001b[0m\u001b[1;33m]\u001b[0m \u001b[1;33m=\u001b[0m \u001b[0mitem\u001b[0m\u001b[1;33m[\u001b[0m\u001b[1;36m2\u001b[0m\u001b[1;33m]\u001b[0m\u001b[1;33m[\u001b[0m\u001b[0melement_index\u001b[0m\u001b[1;33m]\u001b[0m\u001b[1;33m\u001b[0m\u001b[0m\n\u001b[0m\u001b[0;32m   1205\u001b[0m                 \u001b[0mstar_abundances\u001b[0m\u001b[1;33m[\u001b[0m\u001b[0mnew_element_index\u001b[0m\u001b[1;33m,\u001b[0m\u001b[0mstar_index\u001b[0m\u001b[1;33m]\u001b[0m \u001b[1;33m=\u001b[0m \u001b[0mitem\u001b[0m\u001b[1;33m[\u001b[0m\u001b[1;36m3\u001b[0m\u001b[1;33m]\u001b[0m\u001b[1;33m[\u001b[0m\u001b[0melement_index\u001b[0m\u001b[1;33m]\u001b[0m\u001b[1;33m\u001b[0m\u001b[0m\n\u001b[0;32m   1206\u001b[0m         \u001b[0mstar_errors\u001b[0m \u001b[1;33m=\u001b[0m \u001b[0mpreload\u001b[0m\u001b[1;33m.\u001b[0m\u001b[0mstar_error_list\u001b[0m\u001b[1;33m\u001b[0m\u001b[0m\n",
      "\u001b[1;32mC:\\Users\\Oliver\\Anaconda3\\lib\\site-packages\\numpy\\ma\\core.py\u001b[0m in \u001b[0;36m__setitem__\u001b[1;34m(self, indx, value)\u001b[0m\n\u001b[0;32m   3240\u001b[0m                        \u001b[1;34m\"information.\"\u001b[0m\u001b[1;33m,\u001b[0m\u001b[1;33m\u001b[0m\u001b[0m\n\u001b[0;32m   3241\u001b[0m                        MaskedArrayFutureWarning, stacklevel=2)\n\u001b[1;32m-> 3242\u001b[1;33m                 \u001b[0mself\u001b[0m\u001b[1;33m.\u001b[0m\u001b[0munshare_mask\u001b[0m\u001b[1;33m(\u001b[0m\u001b[1;33m)\u001b[0m\u001b[1;33m\u001b[0m\u001b[0m\n\u001b[0m\u001b[0;32m   3243\u001b[0m                 \u001b[0m_mask\u001b[0m \u001b[1;33m=\u001b[0m \u001b[0mself\u001b[0m\u001b[1;33m.\u001b[0m\u001b[0m_mask\u001b[0m\u001b[1;33m\u001b[0m\u001b[0m\n\u001b[0;32m   3244\u001b[0m             \u001b[1;31m# Set the data, then the mask\u001b[0m\u001b[1;33m\u001b[0m\u001b[1;33m\u001b[0m\u001b[0m\n",
      "\u001b[1;32mC:\\Users\\Oliver\\Anaconda3\\lib\\site-packages\\numpy\\ma\\core.py\u001b[0m in \u001b[0;36munshare_mask\u001b[1;34m(self)\u001b[0m\n\u001b[0;32m   3444\u001b[0m         \"\"\"\n\u001b[0;32m   3445\u001b[0m         \u001b[1;32mif\u001b[0m \u001b[0mself\u001b[0m\u001b[1;33m.\u001b[0m\u001b[0m_sharedmask\u001b[0m\u001b[1;33m:\u001b[0m\u001b[1;33m\u001b[0m\u001b[0m\n\u001b[1;32m-> 3446\u001b[1;33m             \u001b[0mself\u001b[0m\u001b[1;33m.\u001b[0m\u001b[0m_mask\u001b[0m \u001b[1;33m=\u001b[0m \u001b[0mself\u001b[0m\u001b[1;33m.\u001b[0m\u001b[0m_mask\u001b[0m\u001b[1;33m.\u001b[0m\u001b[0mcopy\u001b[0m\u001b[1;33m(\u001b[0m\u001b[1;33m)\u001b[0m\u001b[1;33m\u001b[0m\u001b[0m\n\u001b[0m\u001b[0;32m   3447\u001b[0m             \u001b[0mself\u001b[0m\u001b[1;33m.\u001b[0m\u001b[0m_sharedmask\u001b[0m \u001b[1;33m=\u001b[0m \u001b[1;32mFalse\u001b[0m\u001b[1;33m\u001b[0m\u001b[0m\n\u001b[0;32m   3448\u001b[0m         \u001b[1;32mreturn\u001b[0m \u001b[0mself\u001b[0m\u001b[1;33m\u001b[0m\u001b[0m\n",
      "\u001b[1;31mKeyboardInterrupt\u001b[0m: "
     ]
    }
   ],
   "source": [
    "Nsigma = 3\n",
    "d1 = []\n",
    "d2 = []\n",
    "d3 = []\n",
    "for i in range(2000):\n",
    "    param = random.uniform(np.array(init_param)-Nsigma*np.array(sigma),np.array(init_param)+Nsigma*np.array(sigma),size=6)\n",
    "    param[2] = init_param[2]\n",
    "    param[3] = init_param[3]\n",
    "    param[4] = init_param[4]\n",
    "    param[5] = init_param[5]\n",
    "    posterior2 = posterior_mod(param)\n",
    "    d1.append(param[0])\n",
    "    d2.append(param[1])\n",
    "    d3.append(posterior2)\n",
    "    if i%100==0:\n",
    "        print(i)\n"
   ]
  },
  {
   "cell_type": "code",
   "execution_count": 76,
   "metadata": {
    "collapsed": false
   },
   "outputs": [
    {
     "data": {
      "text/plain": [
       "<matplotlib.colorbar.Colorbar at 0x22fcd2c5048>"
      ]
     },
     "execution_count": 76,
     "metadata": {},
     "output_type": "execute_result"
    },
    {
     "data": {
      "image/png": "[encoded data removed]",
      "text/plain": [
       "<matplotlib.figure.Figure at 0x22fccc60080>"
      ]
     },
     "metadata": {},
     "output_type": "display_data"
    }
   ],
   "source": [
    "plt.scatter(d1,d2,c=d3) #,vmin=0.01,vmax=10) #vmax = 10)\n",
    "plt.colorbar()"
   ]
  },
  {
   "cell_type": "code",
   "execution_count": null,
   "metadata": {
    "collapsed": true
   },
   "outputs": [],
   "source": []
  },
  {
   "cell_type": "code",
   "execution_count": 78,
   "metadata": {
    "collapsed": false
   },
   "outputs": [
    {
     "data": {
      "text/plain": [
       "3.205824272116973e-07"
      ]
     },
     "execution_count": 78,
     "metadata": {},
     "output_type": "execute_result"
    }
   ],
   "source": [
    "posterior(init_param+2*sigma)/posterior(init_param)"
   ]
  },
  {
   "cell_type": "code",
   "execution_count": 79,
   "metadata": {
    "collapsed": false
   },
   "outputs": [
    {
     "data": {
      "text/plain": [
       "939608.56989029434"
      ]
     },
     "execution_count": 79,
     "metadata": {},
     "output_type": "execute_result"
    }
   ],
   "source": [
    "posterior_mod(init_param+2*sigma)/posterior_mod(init_param)"
   ]
  },
  {
   "cell_type": "code",
   "execution_count": 81,
   "metadata": {
    "collapsed": false
   },
   "outputs": [
    {
     "data": {
      "text/plain": [
       "<matplotlib.collections.PathCollection at 0x22fcd626da0>"
      ]
     },
     "execution_count": 81,
     "metadata": {},
     "output_type": "execute_result"
    },
    {
     "data": {
      "image/png": "[encoded data removed]",
      "text/plain": [
       "<matplotlib.figure.Figure at 0x22fcd3d3860>"
      ]
     },
     "metadata": {},
     "output_type": "display_data"
    }
   ],
   "source": [
    "plt.scatter(d1,d3)"
   ]
  },
  {
   "cell_type": "code",
   "execution_count": 141,
   "metadata": {
    "collapsed": false,
    "scrolled": false
   },
   "outputs": [
    {
     "name": "stdout",
     "output_type": "stream",
     "text": [
      "0\n",
      "100\n",
      "200\n",
      "300\n",
      "400\n",
      "500\n",
      "600\n",
      "700\n",
      "800\n",
      "900\n",
      "1000\n",
      "1100\n",
      "1200\n",
      "1300\n",
      "1400\n",
      "1500\n",
      "1600\n",
      "1700\n",
      "1800\n",
      "1900\n"
     ]
    }
   ],
   "source": [
    "Nsigma = 3\n",
    "x=[]\n",
    "post=[]\n",
    "gauss = []\n",
    "for i in range(2000):\n",
    "    param = random.uniform(np.array(init_param)-Nsigma*np.array(sigma),np.array(init_param)+Nsigma*np.array(sigma),size=6)\n",
    "    param[1] = init_param[1]\n",
    "    param[2] = init_param[2]\n",
    "    param[3] = init_param[3]\n",
    "    param[4] = init_param[4]\n",
    "    param[5] = init_param[5]\n",
    "    x.append(param[0])\n",
    "    post.append(posterior(param))\n",
    "    gauss.append(gauss_factor(param))\n",
    "    if i%100==0:\n",
    "        print(i)\n"
   ]
  },
  {
   "cell_type": "code",
   "execution_count": 142,
   "metadata": {
    "collapsed": false
   },
   "outputs": [
    {
     "data": {
      "text/plain": [
       "0.037982465402190108"
      ]
     },
     "execution_count": 142,
     "metadata": {},
     "output_type": "execute_result"
    },
    {
     "data": {
      "image/png": "[encoded data removed]",
      "text/plain": [
       "<matplotlib.figure.Figure at 0x22fd298b8d0>"
      ]
     },
     "metadata": {},
     "output_type": "display_data"
    }
   ],
   "source": [
    "plt.clf()\n",
    "plt.scatter(x,np.log(post/max(post)),c='r')\n",
    "plt.scatter(x,np.log(gauss/max(gauss)),c='b')\n",
    "plt.scatter(x,np.log(np.array(post)/np.array(gauss)/max(post)*max(gauss)),c='g')\n",
    "#plt.xlim([-1.6,-1.5])\n",
    "max(post)"
   ]
  },
  {
   "cell_type": "code",
   "execution_count": null,
   "metadata": {
    "collapsed": true
   },
   "outputs": [],
   "source": []
  }
 ],
 "metadata": {
  "kernelspec": {
   "display_name": "Python 3",
   "language": "python",
   "name": "python3"
  },
  "language_info": {
   "codemirror_mode": {
    "name": "ipython",
    "version": 3
   },
   "file_extension": ".py",
   "mimetype": "text/x-python",
   "name": "python",
   "nbconvert_exporter": "python",
   "pygments_lexer": "ipython3",
   "version": "3.5.1"
  }
 },
 "nbformat": 4,
 "nbformat_minor": 2
}
