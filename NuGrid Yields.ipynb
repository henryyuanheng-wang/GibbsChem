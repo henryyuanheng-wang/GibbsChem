{
 "cells": [
  {
   "cell_type": "code",
   "execution_count": 3,
   "metadata": {},
   "outputs": [
    {
     "name": "stdout",
     "output_type": "stream",
     "text": [
      "Populating the interactive namespace from numpy and matplotlib\n"
     ]
    }
   ],
   "source": [
    "%pylab inline"
   ]
  },
  {
   "cell_type": "code",
   "execution_count": 4,
   "metadata": {
    "collapsed": true
   },
   "outputs": [],
   "source": [
    "from Chempy import localpath\n",
    "from Chempy.parameter import ModelParameters\n",
    "a = ModelParameters()\n",
    "\n",
    "\n",
    "type = 'delay' # or rapid\n",
    "\n",
    "if type == 'delay':\n",
    "    name=localpath+'input/yields/NuGrid/H NuGrid yields delay_total.txt'\n",
    "    remnants = {}\n",
    "    remnants[0.02] = [1.61,1.61,2.73,5.71]\n",
    "    remnants[0.01] = [1.61,1.61,2.77,6.05]\n",
    "    remnants[0.006] = [1.62,1.62,2.79,6.18]\n",
    "    remnants[0.001] = [1.62,1.62,2.81,6.35]\n",
    "    remnants[0.0001] = [1.62,1.62,2.82,6.38]\n",
    "elif type == 'rapid':\n",
    "    name = localpath+'input/yields/NuGrid/H NuGrid yields rapid total.txt'\n",
    "    remants = {}\n",
    "    remnants[0.02] = [1.44,1.44,2.70,12.81] # Define remnants from metallicities\n",
    "    remnants[0.01] = [1.44,1.44,1.83,9.84]\n",
    "    remnants[0.006] = [1.44, 1.44, 1.77, 7.84]\n",
    "    remnants[0.001] = [1.44,1.44,1.76,5.88]\n",
    "    remnants[0.0001] = [1.44,1.44,1.76,5.61]\n",
    "else:\n",
    "    raise ValueError('Wrong type: must be delay or rapid')\n",
    "    \n",
    "\n",
    "# Create list of masses and metallicites:\n",
    "masses = [12.0,15.0,20.0,25.0]\n",
    "metallicities = [0.02,0.01,0.006,0.001,0.0001]\n",
    "\n",
    "\n",
    "#elements_list = ['&'+el for el in list_of_elements]\n",
    "\n",
    "cuts={}\n",
    "for z in metallicities:\n",
    "    cuts[z] = [] \n",
    "    for mass in masses:\n",
    "        file=open(name,\"r\")\n",
    "        for line_no,line in enumerate(file):\n",
    "            if str(mass) in line and str(z) in line:\n",
    "                cuts[z].append(line_no)\n",
    "                \n",
    "line_end = line_no\n",
    "#index = 0\n",
    "\n",
    "# Create list of elements\n",
    "data = np.genfromtxt(name,skip_header=int(cuts[0.02][0])+4,\n",
    "                             skip_footer=line_end-int(cuts[0.02][0])-83,\n",
    "                    dtype=['<U8','<U15','<U15','<U15'])\n",
    "list_of_elements = [str(line[0][1:]) for line in data]\n",
    "\n",
    "table={}\n",
    "\n",
    "for z in metallicities:\n",
    "    \n",
    "    yield_subtable={}\n",
    "    yield_subtable['Mass'] = masses\n",
    "    yield_subtable['mass_in_remnants'] = []\n",
    "    for el in list_of_elements:\n",
    "            yield_subtable[el] = []\n",
    "             \n",
    "    for m_index,mass in enumerate(masses): \n",
    "        \n",
    "        #subtable_net_fraction={}\n",
    "        unprocessed_mass = mass-remnants[z][m_index] # in Msun\n",
    "        \n",
    "        yield_subtable['mass_in_remnants'].append(remnants[z][m_index]/mass)\n",
    "        data = np.genfromtxt(name,skip_header=int(cuts[z][m_index])+4,\n",
    "                             skip_footer=line_end-int(cuts[z][m_index])-83,\n",
    "                    dtype=['<U8','<U15','<U15','<U15'])\n",
    "        for line in data:\n",
    "            el_name = str(line[0][1:]) # Name of element - only do this for relevant elements\n",
    "            el_yield = float(line[1][1:]) # Yield in Msun\n",
    "            el_init = float(line[2][1:]) # Initial mass fraction \n",
    "            \n",
    "            el_net=el_yield-el_init*unprocessed_mass # Net yield in Msun\n",
    "            \n",
    "            yield_subtable[el_name].append(el_net/unprocessed_mass) # Net mass fraction\n",
    "            # Net fractions+ remnant fraction do not sum to 1 - this is due to absence of elements e.g. Be\n",
    "        #index+=1\n",
    "        #for el in a.elements_to_trace:\n",
    "        #    fraction_list = [subtable_net_fraction[el]]\n",
    "    summed_yields = np.zeros(len(masses))\n",
    "    for el in list_of_elements:\n",
    "        yield_subtable[el] = np.asarray(yield_subtable[el])\n",
    "        summed_yields+=yield_subtable[el]\n",
    "\n",
    "    yield_subtable['mass_in_remnants'] = np.asarray(yield_subtable['mass_in_remnants'])\n",
    "    yield_subtable['unprocessed_mass_in_winds'] = 1.0-yield_subtable['mass_in_remnants']-summed_yields\n",
    "    \n",
    "    \n",
    "    #table[z] = yield_subtable\n",
    "    \n",
    "    all_keys = ['Mass','mass_in_remnants','unprocessed_mass_in_winds']+list_of_elements\n",
    "    \n",
    "    list_of_arrays = [yield_subtable[key] for key in all_keys]\n",
    "    \n",
    "    restructure_subtable = np.core.records.fromarrays(list_of_arrays,names=all_keys)\n",
    "    \n",
    "    table[z] = restructure_subtable"
   ]
  },
  {
   "cell_type": "code",
   "execution_count": 233,
   "metadata": {},
   "outputs": [
    {
     "name": "stdout",
     "output_type": "stream",
     "text": [
      "25.0\n",
      "-0.38036000000000003\n"
     ]
    }
   ],
   "source": [
    "#TEST\n",
    "z=metallicities[-1]\n",
    "m_index = 3\n",
    "mass = masses[m_index]\n",
    "print(mass)\n",
    "data = np.genfromtxt(name,skip_header=int(cuts[z][m_index])+4,\n",
    "                             skip_footer=line_end-int(cuts[z][m_index])-83,\n",
    "                    dtype=['<U8','<U15','<U15','<U15'])\n",
    "for line in data[:1]:\n",
    "    el_name = str(line[0][1:]) # Name of element - only do this for relevant elements\n",
    "    el_yield = float(line[1][1:]) # Yield in Msun\n",
    "    el_init = float(line[2][1:]) # Initial mass fraction \n",
    "net=el_yield-el_init*mass\n",
    "print(net/mass)"
   ]
  },
  {
   "cell_type": "code",
   "execution_count": 236,
   "metadata": {},
   "outputs": [
    {
     "name": "stdout",
     "output_type": "stream",
     "text": [
      "[ 1.  1.  1.  1.]\n"
     ]
    }
   ],
   "source": [
    "sum=0\n",
    "for el in list_of_elements:\n",
    "    #print(el,table[0.02][el])\n",
    "    sum+=table[0.02][el]\n",
    "print(sum+table[0.02]['unprocessed_mass_in_winds']+table[0.02]['mass_in_remnants'])\n",
    "\n"
   ]
  },
  {
   "cell_type": "code",
   "execution_count": 229,
   "metadata": {},
   "outputs": [
    {
     "name": "stdout",
     "output_type": "stream",
     "text": [
      "[ 11.99991889  14.99972546  20.00041963  24.99943411]\n",
      "[12.0, 15.0, 20.0, 25.0]\n"
     ]
    }
   ],
   "source": [
    "print(np.sum(list(test.values()),axis=0)+table[0.0001]['mass_in_remnants']*masses)\n",
    "print(masses)"
   ]
  },
  {
   "cell_type": "code",
   "execution_count": 128,
   "metadata": {},
   "outputs": [
    {
     "name": "stdout",
     "output_type": "stream",
     "text": [
      "dict_keys([])\n"
     ]
    }
   ],
   "source": [
    "np.sum(list(subtable_yield.values()))+remnant_mass*mass\n",
    "print(subtable_yield.keys())"
   ]
  },
  {
   "cell_type": "code",
   "execution_count": null,
   "metadata": {
    "collapsed": true
   },
   "outputs": [],
   "source": []
  },
  {
   "cell_type": "code",
   "execution_count": 231,
   "metadata": {},
   "outputs": [
    {
     "data": {
      "text/plain": [
       "array([  2.52820208e-05,  -8.93036250e-06,  -2.66067166e-06,\n",
       "         1.56915585e-05])"
      ]
     },
     "execution_count": 231,
     "metadata": {},
     "output_type": "execute_result"
    }
   ],
   "source": [
    "total=0\n",
    "for el in list_of_elements:\n",
    "    total+=table[0.02][el]\n",
    "    \n",
    "total+table[0.02]['mass_in_remnants']"
   ]
  },
  {
   "cell_type": "code",
   "execution_count": null,
   "metadata": {
    "collapsed": true
   },
   "outputs": [],
   "source": []
  },
  {
   "cell_type": "code",
   "execution_count": 249,
   "metadata": {},
   "outputs": [
    {
     "data": {
      "text/plain": [
       "rec.array([ ( 12.,  0.135 ,  0.86500781, -0.22259461,  0.13791618,  -6.84013102e-14,  -5.13105973e-13,  0.01179864,   1.97837842e-05,  0.02717058,   2.08965241e-09,  0.00063658,   1.70563474e-06,  0.00157636,   5.92645948e-06,  0.00894736,   1.10044477e-05,  -1.07082852e-12,  0.00524551,   7.31649120e-06,   1.04317300e-03,   6.78578073e-06,   8.36678441e-04,   1.62560219e-08,   6.63037669e-05,   1.43600098e-06,   3.24353976e-04,   3.84764859e-05,   2.35342065e-02,   2.63387142e-04,   3.11359508e-03,   1.15500953e-05,   9.80494077e-06,   2.85457007e-08,   4.16840162e-08,   4.08634104e-11,   1.00233545e-09,   2.97144509e-12,   2.86050096e-11,   1.89768786e-12,   8.77720617e-12,   1.93892100e-12,   3.01443160e-12,   1.75071291e-13,   9.44701349e-14,  -3.22335260e-13,  -1.29121387e-13,  -1.29236994e-13,  -1.65728324e-13,  -1.05909441e-13,  -6.98341040e-14,  -5.46531792e-13,  -8.89152216e-14,  -1.83649326e-12,  -1.84470135e-13,  -1.03053950e-12,  -6.28381503e-14,  -1.07834297e-12,  -1.30186898e-13,  -2.26107900e-13,  -4.32414258e-14,  -2.94034682e-13,   1.67495183e-14,  -5.59822736e-14,  -9.94123314e-14,  -3.53705202e-14,  -2.00406551e-13,  -1.28979769e-13,  -3.86628131e-14,  -1.79699422e-14,  -1.51522158e-14,  -1.62539499e-14,   1.69622351e-14,  -2.17287091e-14,   3.57157996e-14,  -2.62306358e-14,  -4.95383430e-13,  -6.49732177e-13,  -7.32094412e-13,  -1.11938343e-13,   3.61905588e-13,   4.64720617e-14,  -7.17329480e-14),\n",
       " ( 15.,  0.108 ,  0.89202052, -0.26238655,  0.11540135,  -6.77791928e-14,  -6.42005979e-13,  0.0122894 ,   2.17312167e-05,  0.08781826,   2.80162870e-09,  0.01097317,   4.00122869e-05,  0.00565004,   8.64074768e-05,  0.00805522,   4.99480440e-05,   1.12591928e-12,  0.00333147,   8.91463182e-06,   5.74110385e-04,   3.68040389e-06,   3.84929217e-04,   9.58351971e-08,   2.58380991e-05,   2.59599736e-06,   2.36228312e-04,   2.91893090e-05,   3.79004082e-03,   1.92522163e-04,   1.26082856e-02,   5.47598727e-05,   7.35573105e-04,   1.76679703e-07,   1.84354431e-06,   1.39600390e-09,   1.62486692e-07,   4.87391898e-10,   2.78660628e-08,   1.01008819e-10,   3.65821356e-09,   2.89045291e-10,   1.36767354e-08,   1.03329689e-10,   2.56206727e-08,   8.59503737e-13,  -1.23264574e-13,  -4.03198804e-14,  -1.82455904e-13,   7.93467862e-14,  -8.18518685e-14,   6.48505232e-13,  -4.72301943e-14,  -1.84923767e-12,  -2.05142003e-13,  -6.98579970e-13,  -4.06023916e-14,   2.87644245e-12,   1.21798206e-13,   2.88714499e-13,   3.51674141e-15,  -2.07778774e-13,   7.88385650e-14,  -6.70923767e-14,  -1.58213752e-13,  -4.26940209e-14,  -2.53902840e-13,  -1.62653961e-13,  -4.88281016e-14,  -1.97554559e-14,   3.62272048e-14,   2.63590433e-14,   1.14713602e-13,  -1.75593423e-14,   1.42991779e-13,  -2.22850523e-14,  -5.71754858e-13,  -8.03529148e-13,  -1.00658744e-12,  -1.31832586e-13,   1.03135874e-12,   3.11313901e-13,  -5.34669656e-14),\n",
       " ( 20.,  0.141 ,  0.85897557, -0.2869064 ,  0.13042899,   5.64602400e-09,   1.74825902e-08,  0.01137279,   1.34934345e-03,  0.11884323,   4.86156647e-09,  0.00934799,   3.57283053e-05,  0.00675036,   8.75369926e-05,  0.0066224 ,   4.93642490e-05,   1.65965076e-12,  0.00174452,   7.74988712e-06,   2.03254626e-04,   4.12152759e-06,   7.92133377e-05,   3.92078090e-09,   2.76383871e-07,   1.27570934e-08,   3.62543213e-07,   1.22711979e-07,   3.01327008e-06,   3.25474913e-08,   3.61553981e-07,   8.30218906e-09,   1.01684761e-08,   7.56295285e-10,   1.63467800e-09,   1.18926321e-10,   3.24642724e-10,   3.68882189e-11,   1.91683353e-10,   4.94457509e-11,   1.38124063e-10,   1.67221187e-11,   1.98438766e-11,   8.08128056e-13,   1.06557625e-12,  -8.54621653e-14,  -1.21774156e-13,   9.34644936e-14,  -2.24322468e-13,   4.12005821e-13,  -7.28147846e-14,   1.63835856e-12,  -9.55378347e-14,  -1.70377183e-12,  -2.30081490e-13,  -7.05296857e-13,  -1.08606519e-13,   4.18828871e-12,   2.02925495e-13,   6.04365541e-13,   9.69697322e-15,  -1.46733411e-13,   3.84951106e-13,  -8.39147846e-14,  -1.55174622e-13,  -4.46860303e-14,  -2.42690338e-13,  -1.65565192e-13,  -5.56763679e-14,  -2.81494761e-14,   7.46169965e-14,   3.96114086e-14,   1.42348545e-13,  -2.35962747e-14,   1.40310244e-13,  -2.30450524e-14,  -5.56512224e-13,  -8.20338766e-13,  -1.01394296e-12,  -1.43371362e-13,   1.14641327e-12,   1.53037253e-13,  -5.88630966e-14),\n",
       " ( 25.,  0.2552,  0.74483039, -0.25322599,  0.19387379,   6.25670560e-08,   1.99230849e-09,  0.01092731,   1.50967714e-03,  0.03785284,   1.38267616e-07,  0.00658378,   5.46323653e-05,  0.00116803,   6.99742860e-06,  0.00110637,   2.52994393e-06,   1.57117078e-12,  0.00010877,   2.36944484e-07,   4.22977873e-07,   5.34350161e-09,  -7.14940924e-09,   2.76529656e-10,   6.95005371e-11,   9.84949517e-11,  -8.02814178e-10,   4.76165414e-10,  -8.34683136e-08,   1.08599946e-08,   6.52522342e-08,   1.09743755e-08,   6.31932223e-09,   5.65133029e-10,   4.91960902e-10,   5.84612137e-11,   9.63403867e-11,   2.23488937e-11,   7.88442535e-11,   1.35017186e-11,   5.81881096e-11,   8.19946294e-12,   9.72611171e-12,   9.23456498e-13,   2.04293233e-12,   5.11484425e-13,   2.29714286e-13,   3.43044039e-13,   4.33544576e-14,   2.40727175e-13,   8.43704619e-14,   5.91997852e-13,   6.10064447e-14,  -7.72137487e-13,   6.70247046e-15,   5.55692803e-13,   5.09806660e-14,   1.94055854e-12,   9.74403867e-14,   2.33458647e-13,   5.91055854e-14,   3.67780881e-13,   4.99001074e-14,  -2.42053706e-14,   1.86305048e-14,  -1.44013963e-14,  -2.04500537e-14,  -8.84903330e-14,  -2.17336198e-14,  -1.24528464e-14,   1.11346939e-13,  -8.38259936e-15,   1.25152095e-13,  -3.57465091e-16,   1.39031686e-13,   1.33498389e-14,  -3.47578947e-13,  -5.55680988e-13,  -7.17930183e-13,  -5.39248120e-14,   1.03772395e-12,   2.43105263e-13,   6.83237379e-14)], \n",
       "          dtype=[('Mass', '<f8'), ('mass_in_remnants', '<f8'), ('unprocessed_mass_in_winds', '<f8'), ('H', '<f8'), ('He', '<f8'), ('Li', '<f8'), ('B', '<f8'), ('C', '<f8'), ('N', '<f8'), ('O', '<f8'), ('F', '<f8'), ('Ne', '<f8'), ('Na', '<f8'), ('Mg', '<f8'), ('Al', '<f8'), ('Si', '<f8'), ('P', '<f8'), ('Pb', '<f8'), ('S', '<f8'), ('Cl', '<f8'), ('Ar', '<f8'), ('K', '<f8'), ('Ca', '<f8'), ('Sc', '<f8'), ('Ti', '<f8'), ('V', '<f8'), ('Cr', '<f8'), ('Mn', '<f8'), ('Fe', '<f8'), ('Co', '<f8'), ('Ni', '<f8'), ('Cu', '<f8'), ('Zn', '<f8'), ('Ga', '<f8'), ('Ge', '<f8'), ('As', '<f8'), ('Se', '<f8'), ('Br', '<f8'), ('Kr', '<f8'), ('Rb', '<f8'), ('Sr', '<f8'), ('Y', '<f8'), ('Zr', '<f8'), ('Nb', '<f8'), ('Mo', '<f8'), ('Ru', '<f8'), ('Rh', '<f8'), ('Pd', '<f8'), ('Ag', '<f8'), ('Cd', '<f8'), ('In', '<f8'), ('Sn', '<f8'), ('Sb', '<f8'), ('Te', '<f8'), ('I', '<f8'), ('Xe', '<f8'), ('Cs', '<f8'), ('Ba', '<f8'), ('La', '<f8'), ('Ce', '<f8'), ('Pr', '<f8'), ('Nd', '<f8'), ('Sm', '<f8'), ('Eu', '<f8'), ('Gd', '<f8'), ('Tb', '<f8'), ('Dy', '<f8'), ('Ho', '<f8'), ('Er', '<f8'), ('Tm', '<f8'), ('Yb', '<f8'), ('Lu', '<f8'), ('Hf', '<f8'), ('Ta', '<f8'), ('W', '<f8'), ('Re', '<f8'), ('Os', '<f8'), ('Ir', '<f8'), ('Pt', '<f8'), ('Au', '<f8'), ('Hg', '<f8'), ('Tl', '<f8'), ('Bi', '<f8')])"
      ]
     },
     "execution_count": 249,
     "metadata": {},
     "output_type": "execute_result"
    }
   ],
   "source": [
    "table[0.0001]"
   ]
  },
  {
   "cell_type": "code",
   "execution_count": null,
   "metadata": {
    "collapsed": true
   },
   "outputs": [],
   "source": []
  },
  {
   "cell_type": "code",
   "execution_count": 3,
   "metadata": {
    "collapsed": true
   },
   "outputs": [],
   "source": [
    "from Chempy.yields import SN2_feedback\n",
    "basic_sn2 = SN2_feedback()\n",
    "getattr(basic_sn2,'chieffi04_net')()\n",
    "from Chempy.yields import SN2_feedback\n",
    "basic_sn3 = SN2_feedback()\n",
    "getattr(basic_sn3,'NuGrid_net')()"
   ]
  },
  {
   "cell_type": "code",
   "execution_count": 6,
   "metadata": {},
   "outputs": [
    {
     "name": "stdout",
     "output_type": "stream",
     "text": [
      "Mass 20.0 20.0\n",
      "mass_in_remnants 0.0775 0.1405\n",
      "unprocessed_mass_in_winds 0.922499993992 0.859479465699\n",
      "Al 0.000217889547806 8.89382691681e-05\n",
      "Ar 0.000433646525587 0.00120297421524\n",
      "As 7.92206614577e-11 1.3486917452e-08\n",
      "Br 3.25771352163e-11 7.40690040721e-09\n",
      "C 0.014310724074 0.0128007198371\n",
      "Ca 0.00039598591216 0.000807378656777\n",
      "Cl 2.13557769225e-06 9.90865e-06\n",
      "Co 5.58930253732e-06 2.05367044793e-07\n",
      "Cr 8.45467535997e-05 0.000342152003607\n",
      "Cu 2.05213963148e-07 2.1449794299e-07\n",
      "F 1.23539954714e-09 1.06783571844e-08\n",
      "Fe 0.00521216354403 0.00236431855148\n",
      "Ga 2.04663386337e-09 4.19850997673e-08\n",
      "Ge 7.56396491933e-09 1.31158373473e-07\n",
      "H -0.215036093954 -0.283622280396\n",
      "He 0.0811782098707 0.120224374636\n",
      "K 8.85631049099e-07 7.50308435137e-06\n",
      "Kr 8.9261658718e-10 5.32669924375e-08\n",
      "Mg 0.00797620683444 0.00591108503781\n",
      "Mn 2.41578982502e-05 3.33223280396e-05\n",
      "Mo 6.21063883402e-09 1.57558772542e-09\n",
      "N 0.000132531431668 0.000222344293194\n",
      "Na 0.000155888673143 3.00825388598e-05\n",
      "Nb 8.88553848148e-13 9.22224909831e-10\n",
      "Ne 0.0271195763699 0.00998167134962\n",
      "Ni 0.000176008828589 9.38781076207e-06\n",
      "O 0.07005780566 0.108101150204\n",
      "P 1.28638175549e-05 5.2360516306e-05\n",
      "Rb -2.94453724849e-10 1.39745776614e-08\n",
      "S 0.00222955733148 0.0069871047993\n",
      "Sc 6.84460729193e-09 1.29485013962e-08\n",
      "Se 3.52963540567e-10 5.14269464805e-08\n",
      "Si 0.00529788134963 0.0144228371088\n",
      "Sr 1.3841828915e-09 7.05383151251e-08\n",
      "Ti 9.09119948369e-06 3.92374697208e-05\n",
      "V 5.18505835008e-07 2.74104869808e-06\n",
      "Y 8.85000912313e-11 1.16280180337e-08\n",
      "Zn 2.00425153182e-06 3.57574525887e-07\n",
      "Zr 1.23921201954e-10 1.84231034904e-08\n"
     ]
    }
   ],
   "source": [
    "basic_sn2.table[0.001]\n",
    "\n",
    "for key in basic_sn2.table[0.001].dtype.names:\n",
    "    if key in basic_sn3.table[0.001].dtype.names and key !='B' and key !='Li':\n",
    "        print(key,basic_sn2.table[0.001][2][key],basic_sn3.table[0.001][2][key])"
   ]
  },
  {
   "cell_type": "code",
   "execution_count": 258,
   "metadata": {},
   "outputs": [
    {
     "data": {
      "text/plain": [
       "-0.28362228039557885"
      ]
     },
     "execution_count": 258,
     "metadata": {},
     "output_type": "execute_result"
    }
   ],
   "source": [
    "table[0.001][2]['H']"
   ]
  },
  {
   "cell_type": "code",
   "execution_count": null,
   "metadata": {
    "collapsed": true
   },
   "outputs": [],
   "source": []
  },
  {
   "cell_type": "code",
   "execution_count": 97,
   "metadata": {},
   "outputs": [
    {
     "data": {
      "text/plain": [
       "[930]"
      ]
     },
     "execution_count": 97,
     "metadata": {},
     "output_type": "execute_result"
    }
   ],
   "source": [
    "cuts[0.02]"
   ]
  },
  {
   "cell_type": "code",
   "execution_count": null,
   "metadata": {
    "collapsed": true
   },
   "outputs": [],
   "source": [
    "list_of_elements = [H,He,Li,B,C,N,O,F,Ne,Na,Mg,Al,Si,P,Pb,S,Cl,Ar,K,Ca,Sc,Ti,V,Cr.Mn,Fe,Co,Ni,Cu,Zn,Ga,Ge,As,Se,Br,Kr,Rb,Sr,Y,Zr,Nb,Mo,Ru,Rh,Pd,Ag,Cd,In,Sn,Sb,Te,I,Xe,Cs,Ba,La,Ce,Pr,Nd,Sm,Eu,Gd,Tb,Dy,Ho,Er,Tm,Yb,Lu,Hf,Ta,W,Re,Os,Ir,Pt,Au,Hg,Tl,Bi]"
   ]
  }
 ],
 "metadata": {
  "kernelspec": {
   "display_name": "Python 3",
   "language": "python",
   "name": "python3"
  },
  "language_info": {
   "codemirror_mode": {
    "name": "ipython",
    "version": 3
   },
   "file_extension": ".py",
   "mimetype": "text/x-python",
   "name": "python",
   "nbconvert_exporter": "python",
   "pygments_lexer": "ipython3",
   "version": "3.6.1"
  }
 },
 "nbformat": 4,
 "nbformat_minor": 2
}
