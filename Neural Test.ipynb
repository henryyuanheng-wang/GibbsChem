{
 "cells": [
  {
   "cell_type": "code",
   "execution_count": null,
   "metadata": {
    "collapsed": true
   },
   "outputs": [],
   "source": [
    "import numpy as np\n",
    "import sys\n",
    "import os\n",
    "import torch\n",
    "from torch.autograd import Variable\n",
    "\n",
    "n_train = 20000\n",
    "# we're predicting J, H, and K magnitures from Teff, logg, and FeH\n",
    "\n",
    "tmp = np.load('/Users/kareem/Proposals/binaries/apogee/JHK_photometry_isochrones.npz')\n",
    "x_all = tmp['input_labels'].T\n",
    "y_all = tmp['output_labels'].T\n",
    "\n",
    "# scale labels\n",
    "x_max = np.max(x_all, axis = 0)\n",
    "x_min = np.min(x_all, axis = 0)\n",
    "x_all = (x_all - x_min)/(x_max - x_min) - 0.5\n",
    "\n",
    "x = x_all[:n_train]\n",
    "y = y_all[:n_train]\n",
    "\n",
    "dim_in = x.shape[1]\n",
    "\n",
    "x = Variable(torch.from_numpy(x)).type(torch.FloatTensor)\n",
    "y = Variable(torch.from_numpy(y), requires_grad=False).type(torch.FloatTensor)\n",
    "\n",
    "# define neural network: One layer with 20 neurons. \n",
    "model = torch.nn.Sequential(\n",
    "        torch.nn.Linear(dim_in, 20),\n",
    "        torch.nn.Sigmoid(),\n",
    "        torch.nn.Linear(20, 3),\n",
    ")\n",
    "loss_fn = torch.nn.L1Loss(size_average=True)\n",
    "\n",
    "# define optimizer (play with the learning rate to see what works. )\n",
    "learning_rate = 0.01\n",
    "optimizer = torch.optim.Adam(model.parameters(), lr=learning_rate)\n",
    "\n",
    "#-----------------------------------------------------------------------------\n",
    "# convergence counter\n",
    "current_loss = 1000.\n",
    "count = 0\n",
    "t = 0\n",
    "\n",
    "# train the neural network\n",
    "for i in range(int(1e5)):\n",
    "    y_pred = model(x)\n",
    "    loss = loss_fn(y_pred, y)\n",
    "    optimizer.zero_grad()\n",
    "    loss.backward()\n",
    "    optimizer.step()\n",
    "    \n",
    "    # print cost to monitor\n",
    "    if i % 1000 == 0:\n",
    "        print (i)\n",
    "        print (loss.data[0])\n",
    "    \n",
    "model_numpy = []\n",
    "for param in model.parameters():\n",
    "    model_numpy.append(param.data.numpy())\n",
    "    \n",
    "w_array_0 = model_numpy[0]\n",
    "b_array_0 = model_numpy[1]\n",
    "w_array_1 = model_numpy[2]\n",
    "b_array_1 = model_numpy[3]\n",
    "\n",
    "# save parameters and remember how we scale the labels\n",
    "np.savez(\"/Users/kareem/Proposals/binaries/NN_coeffs/NN_results_JHK.npz\",\n",
    "         w_array_0 = w_array_0,\n",
    "         w_array_1 = w_array_1,\n",
    "         b_array_0 = b_array_0,\n",
    "         b_array_1 = b_array_1,\n",
    "         x_max = x_max,\n",
    "         x_min = x_min)\n",
    "         \n",
    "def get_JHK_photometry(input_labels, NN_coeffs_JHK):\n",
    "    '''\n",
    "    this is the function you'd use to predict the output (photometry)\n",
    "    for a given set of input, *after* training the neural network. \n",
    "    NN_coeffs_JHK is the array of weights that parameterize the neural network\n",
    "    input_labels: [Teff, logg, feh]\n",
    "    '''\n",
    "    w_array_0, w_array_1, b_array_0, b_array_1, x_min, x_max = NN_coeffs_JHK\n",
    "    scaled_labels =  (input_labels - x_min)/(x_max - x_min) - 0.5\n",
    "    first = np.dot(w_array_0, scaled_labels) + b_array_0\n",
    "    second = np.dot(w_array_1, sigmoid(first)) + b_array_1\n",
    "    return second\n",
    "    \n",
    "def sigmoid(z):\n",
    "    return 1.0/(1.0 + np.exp(-z))\n",
    "    "
   ]
  },
  {
   "cell_type": "code",
   "execution_count": null,
   "metadata": {
    "collapsed": true
   },
   "outputs": [],
   "source": []
  },
  {
   "cell_type": "code",
   "execution_count": null,
   "metadata": {
    "collapsed": true
   },
   "outputs": [],
   "source": []
  },
  {
   "cell_type": "code",
   "execution_count": 3,
   "metadata": {},
   "outputs": [],
   "source": [
    "from __future__ import print_function\n",
    "import torch"
   ]
  },
  {
   "cell_type": "code",
   "execution_count": 6,
   "metadata": {},
   "outputs": [
    {
     "name": "stdout",
     "output_type": "stream",
     "text": [
      "\n",
      "-1.2465e+05  4.5783e-41 -1.2465e+05\n",
      " 4.5783e-41  0.0000e+00  0.0000e+00\n",
      " 0.0000e+00  0.0000e+00  0.0000e+00\n",
      " 0.0000e+00  4.6243e-44  0.0000e+00\n",
      " 1.4908e-37  0.0000e+00 -1.2465e+05\n",
      "[torch.FloatTensor of size 5x3]\n",
      "\n"
     ]
    }
   ],
   "source": [
    "x = torch.Tensor(5,3)\n",
    "print(x)"
   ]
  },
  {
   "cell_type": "code",
   "execution_count": 14,
   "metadata": {},
   "outputs": [
    {
     "name": "stdout",
     "output_type": "stream",
     "text": [
      "Populating the interactive namespace from numpy and matplotlib\n"
     ]
    }
   ],
   "source": [
    "%pylab inline"
   ]
  },
  {
   "cell_type": "code",
   "execution_count": null,
   "metadata": {
    "collapsed": true
   },
   "outputs": [],
   "source": []
  }
 ],
 "metadata": {
  "kernelspec": {
   "display_name": "Python 3",
   "language": "python",
   "name": "python3"
  },
  "language_info": {
   "codemirror_mode": {
    "name": "ipython",
    "version": 3
   },
   "file_extension": ".py",
   "mimetype": "text/x-python",
   "name": "python",
   "nbconvert_exporter": "python",
   "pygments_lexer": "ipython3",
   "version": "3.6.1"
  }
 },
 "nbformat": 4,
 "nbformat_minor": 2
}
