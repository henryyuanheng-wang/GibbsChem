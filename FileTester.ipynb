{
 "cells": [
  {
   "cell_type": "code",
   "execution_count": 1,
   "metadata": {
    "collapsed": true
   },
   "outputs": [],
   "source": [
    "import numpy as np\n",
    "from Chempy.parameter import ModelParameters\n",
    "import importlib\n",
    "import fileinput\n",
    "import sys   "
   ]
  },
  {
   "cell_type": "code",
   "execution_count": 3,
   "metadata": {},
   "outputs": [
    {
     "name": "stdout",
     "output_type": "stream",
     "text": [
      "Al\n",
      "['Ar', 'B', 'Be', 'C', 'Ca', 'Cl', 'Co', 'Cr', 'Cu', 'F', 'Fe', 'Ga', 'Ge', 'H', 'He', 'K', 'Li', 'Mg', 'Mn', 'N', 'Na', 'Ne', 'Ni', 'O', 'P', 'S', 'Sc', 'Si', 'Ti', 'V', 'Zn']\n",
      "Ar\n",
      "['Ar', 'B', 'Be', 'C', 'Ca', 'Cl', 'Co', 'Cr', 'Cu', 'F', 'Fe', 'Ga', 'Ge', 'H', 'He', 'K', 'Li', 'Mg', 'Mn', 'N', 'Na', 'Ne', 'Ni', 'O', 'P', 'S', 'Sc', 'Si', 'Ti', 'V', 'Zn']\n",
      "C\n",
      "['Al', 'Ar', 'B', 'Be', 'Ca', 'Cl', 'Co', 'Cr', 'Cu', 'F', 'Fe', 'Ga', 'Ge', 'H', 'He', 'K', 'Li', 'Mg', 'Mn', 'N', 'Na', 'Ne', 'Ni', 'O', 'P', 'S', 'Sc', 'Si', 'Ti', 'V', 'Zn']\n"
     ]
    }
   ],
   "source": [
    "## Code to rewrite parameter file for each element in turn, so as to run MCMC for 21/22 elements only\n",
    "# This is definitely not a good implementation (involves rewriting entire parameter file),\n",
    "# But other steps are far slower\n",
    "\n",
    "# Starting elements (copied from original parameter file)\n",
    "elements_to_trace = ['Al', 'Ar', 'B', 'Be', 'C', 'Ca', 'Cl', 'Co', 'Cr', 'Cu', 'F', 'Fe', 'Ga', 'Ge', 'H', 'He', 'K', 'Li', 'Mg', 'Mn', 'N', 'Na', 'Ne', 'Ni', 'O', 'P', 'S', 'Sc', 'Si', 'Ti', 'V', 'Zn']\n",
    "orig = \"\\telements_to_trace = \"+str(elements_to_trace) # Original element string\n",
    "\n",
    "# Calculate required Chempy elements\n",
    "sol_dat = np.load(\"Chempy/input/stars/Proto-sun.npy\")\n",
    "el_names = []\n",
    "for el in elements_to_trace:\n",
    "    if el in sol_dat.dtype.names:\n",
    "        el_names.append(el)\n",
    "\n",
    "# Create new parameter names\n",
    "newstr = []\n",
    "for i,el in enumerate(el_names):\n",
    "    if el !='Zn':\n",
    "        newstr.append(orig.replace(\"'\"+str(el)+\"', \",\"\"))\n",
    "    else:\n",
    "        newstr.append(orig.replace(\"'\"+str(el)+\"', \",\"\"))\n",
    "        \n",
    "        \n",
    "for i in range(len(el_names)): # Iterate over removed element\n",
    "    for line in fileinput.input(\"Chempy/parameter.py\", inplace=True):\n",
    "        if \"\\telements_to_trace\" in line:\n",
    "            print(newstr[i])\n",
    "        else:\n",
    "            print(line,end='')\n",
    "    del sys.modules['Chempy.parameter']\n",
    "    from Chempy.parameter import ModelParameters\n",
    "    a = ModelParameters()\n",
    "    print(el_names[i])\n",
    "    print(a.elements_to_trace)\n",
    "    ##############\n",
    "    # MCMC using 21 elements only goes here\n",
    "    \n",
    "    ##############\n",
    "    for line in fileinput.input(\"Chempy/parameter.py\", inplace=True):\n",
    "        if \"\\telements_to_trace\" in line:\n",
    "            print(orig)\n",
    "        else:\n",
    "            print(line,end='')\n",
    "    ##############\n",
    "    # Code needing all 22 elements goes here\n",
    "    "
   ]
  },
  {
   "cell_type": "code",
   "execution_count": null,
   "metadata": {},
   "outputs": [],
   "source": [
    "el_names"
   ]
  },
  {
   "cell_type": "code",
   "execution_count": null,
   "metadata": {
    "collapsed": true
   },
   "outputs": [],
   "source": [
    "for line in fileinput.input(\"Chempy/parameter.py\", inplace=True):\n",
    "        if \"\\telements_to_trace\" in line:\n",
    "            print('test')\n",
    "        else:\n",
    "            print(line,end=\"\")"
   ]
  },
  {
   "cell_type": "code",
   "execution_count": null,
   "metadata": {
    "collapsed": true
   },
   "outputs": [],
   "source": [
    "# Create replacement strings\n",
    "elements_to_trace = ['Al', 'Ar', 'B', 'Be', 'C', 'Ca', 'Cl', 'Co', 'Cr', 'Cu', 'F', 'Fe', 'Ga', 'Ge', 'H', 'He', 'K', 'Li', 'Mg', 'Mn', 'N', 'Na', 'Ne', 'Ni', 'O', 'P', 'S', 'Sc', 'Si', 'Ti', 'V', 'Zn']\n",
    "orig = \"\\telements_to_trace = \"+str(elements_to_trace) # Original element string\n",
    "newstr = []\n",
    "for i,el in enumerate(el_names):\n",
    "    newstr.append(orig.replace(\"'\"+str(el)+\"', \",\"\"))\n"
   ]
  },
  {
   "cell_type": "code",
   "execution_count": null,
   "metadata": {},
   "outputs": [],
   "source": [
    "for i in range(len(el_names)):\n",
    "    print(el_names[i])\n",
    "    print(newstr[i])"
   ]
  },
  {
   "cell_type": "code",
   "execution_count": null,
   "metadata": {
    "scrolled": true
   },
   "outputs": [],
   "source": [
    "for i in range(len(el_names)):\n",
    "    print(el_names[i])\n",
    "    print(newstr[i])"
   ]
  },
  {
   "cell_type": "code",
   "execution_count": null,
   "metadata": {
    "collapsed": true
   },
   "outputs": [],
   "source": []
  }
 ],
 "metadata": {
  "kernelspec": {
   "display_name": "Python 3",
   "language": "python",
   "name": "python3"
  },
  "language_info": {
   "codemirror_mode": {
    "name": "ipython",
    "version": 3
   },
   "file_extension": ".py",
   "mimetype": "text/x-python",
   "name": "python",
   "nbconvert_exporter": "python",
   "pygments_lexer": "ipython3",
   "version": "3.6.1"
  }
 },
 "nbformat": 4,
 "nbformat_minor": 1
}
