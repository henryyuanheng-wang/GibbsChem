{
 "cells": [
  {
   "cell_type": "code",
   "execution_count": null,
   "metadata": {},
   "outputs": [],
   "source": [
    "%pylab inline\n",
    "from Chempy import localpath"
   ]
  },
  {
   "cell_type": "code",
   "execution_count": null,
   "metadata": {},
   "outputs": [],
   "source": [
    "def CL18(self):\n",
    "    \"\"\"These are net yields from Chieffi + Limongi 2018 (unpublished), downloaded from http://orfeo.iaps.inaf.it/\"\"\"\n",
    "\n",
    "    datpath=localpath+'/input/yields/CL18/'\n",
    "\n",
    "    self.metallicities=[0.0134,0.00134,0.000134,0.0000134] # metallicities of [Fe/H]=[0,-1,-2,-3]\n",
    "    rotations=[0,150,300] # initial rotational velocity in km/s\n",
    "    self.masses=np.array([13,15,20,25,30,40,60,80,120])\n",
    "    weight_matrix=np.array([[0.7,0.3,0.],[0.6,0.4,0.],[0.48,0.48,0.04],[0.05,0.7,0.25]])\n",
    "\n",
    "    self.elements=['H','He','Li','Be','B','C','N','O','F','Ne','Na','Mg','Al','Si','P','S','Cl','Ar','K','Ca','Sc','Ti','V','Cr','Mn','Fe','Co','Ni','Cu','Zn','Ga','Ge','As','Se','Br','Kr','Rb','Sr','Y','Zr','Nb','Mo','Xe','Cs','Ba','La','Ce','Pr','Nd','Hg','Tl','Pb','Bi']\n",
    "    LEN=len(self.elements)\n",
    "    yield_table={}\n",
    "\n",
    "    # Import full table with correct rows and data-types\n",
    "    dt = np.dtype('U8,f8,f8,f8,f8,f8,f8,f8,f8,f8,f8,f8,f8')\n",
    "    \n",
    "    # Load once in full to find length\n",
    "    z = np.genfromtxt(datpath+'tab_yieldsnet_ele_exp.dec',skip_header=1,dtype=dt)\n",
    "    full_len=len(z)+1\n",
    "\n",
    "    for m,met in enumerate(self.metallicities):\n",
    "        z,zTot=[],[]\n",
    "        for rotation_index in range(3):\n",
    "            header=(3*m+rotation_index)*(LEN+1)+1\n",
    "            z.append(np.genfromtxt(datpath+'tab_yieldsnet_ele_exp.dec',skip_header=header,skip_footer=full_len-header-LEN,dtype=dt))\n",
    "            zTot.append(np.genfromtxt(datpath+'tab_yieldstot_ele_exp.dec',skip_header=header,skip_footer=full_len-header-LEN,dtype=dt))\n",
    "\n",
    "        additional_keys = ['Mass', 'mass_in_remnants','unprocessed_mass_in_winds'] # List of keys for table\n",
    "        names = additional_keys + self.elements\n",
    "\n",
    "        # Initialise table and arrays   \n",
    "        base = np.zeros(len(self.masses))\n",
    "        list_of_arrays = []\n",
    "        for i in range(len(names)):\n",
    "            list_of_arrays.append(base)\n",
    "        yield_subtable = np.core.records.fromarrays(list_of_arrays,names=names)\n",
    "        mass_in_remnants = np.zeros(len(self.masses))\n",
    "        total_mass_fraction = np.zeros(len(self.masses))\n",
    "        element_mass = np.zeros(len(self.masses))\n",
    "        yield_subtable['Mass']=self.masses\n",
    "        tot_yield=np.zeros(len(self.masses))\n",
    "\n",
    "        for e,el in enumerate(self.elements):\n",
    "            for m_index in range(len(self.masses)):\n",
    "                for rotation_index in range(3):\n",
    "                    yield_subtable[el][m_index]+=z[rotation_index][e][m_index+4]*weight_matrix[m,rotation_index]/self.masses[m_index]\n",
    "                tot_yield[m_index]+=yield_subtable[el][m_index]\n",
    "\n",
    "        # Compute total remnant mass\n",
    "        for m_index,mass in enumerate(self.masses):\n",
    "            for rotation_index in range(3):\n",
    "                yield_subtable['mass_in_remnants'][m_index]+=(1.-np.sum([zTot[rotation_index][i][m_index+4] for i in range(len(self.elements))])/mass)*weight_matrix[m,rotation_index]\n",
    "\n",
    "        # Compute unprocessed mass\n",
    "        yield_subtable['unprocessed_mass_in_winds']=1.-yield_subtable['mass_in_remnants']-tot_yield\n",
    "\n",
    "        yield_table[met]=yield_subtable\n",
    "    self.table=yield_table"
   ]
  },
  {
   "cell_type": "code",
   "execution_count": null,
   "metadata": {},
   "outputs": [],
   "source": []
  },
  {
   "cell_type": "code",
   "execution_count": null,
   "metadata": {},
   "outputs": [],
   "source": [
    "from Chempy.yields import SN2_feedback\n",
    "b=SN2_feedback()\n",
    "c=SN2_feedback()\n",
    "getattr(b,'CL18_net')()\n",
    "getattr(c,'West17_net')()"
   ]
  },
  {
   "cell_type": "code",
   "execution_count": null,
   "metadata": {},
   "outputs": [],
   "source": [
    "b.table[0.0134]['F'][2:],b.masses[2:]"
   ]
  },
  {
   "cell_type": "code",
   "execution_count": null,
   "metadata": {},
   "outputs": [],
   "source": [
    "c.table[c.metallicities[-1]]['F'][3:],c.masses[3:]"
   ]
  },
  {
   "cell_type": "code",
   "execution_count": null,
   "metadata": {
    "collapsed": true
   },
   "outputs": [],
   "source": []
  },
  {
   "cell_type": "code",
   "execution_count": null,
   "metadata": {
    "collapsed": true
   },
   "outputs": [],
   "source": []
  },
  {
   "cell_type": "code",
   "execution_count": 5,
   "metadata": {},
   "outputs": [
    {
     "name": "stderr",
     "output_type": "stream",
     "text": [
      "C:\\Users\\Oliver\\Anaconda3\\lib\\site-packages\\numpy\\core\\records.py:507: FutureWarning: Numpy has detected that you may be viewing or writing to an array returned by selecting multiple fields in a structured array. \n",
      "\n",
      "This code may break in numpy 1.13 because this will return a view instead of a copy -- see release notes for details.\n",
      "  return obj.view(dtype=(self.dtype.type, obj.dtype))\n",
      "C:\\Users\\Oliver\\ChempyScoring\\Chempy\\wrapper.py:167: RuntimeWarning: invalid value encountered in subtract\n",
      "  abundances[element] -= abundances['Fe']\n"
     ]
    }
   ],
   "source": [
    "from Chempy.parameter import ModelParameters\n",
    "a=ModelParameters()\n",
    "from Chempy.wrapper import Chempy\n",
    "cube,abun=Chempy(a)"
   ]
  },
  {
   "cell_type": "code",
   "execution_count": 4,
   "metadata": {},
   "outputs": [
    {
     "data": {
      "text/plain": [
       "'CL18_net'"
      ]
     },
     "execution_count": 4,
     "metadata": {},
     "output_type": "execute_result"
    }
   ],
   "source": [
    "a.yield_table_name_sn2"
   ]
  },
  {
   "cell_type": "code",
   "execution_count": null,
   "metadata": {
    "collapsed": true
   },
   "outputs": [],
   "source": []
  }
 ],
 "metadata": {
  "kernelspec": {
   "display_name": "Python 3",
   "language": "python",
   "name": "python3"
  },
  "language_info": {
   "codemirror_mode": {
    "name": "ipython",
    "version": 3
   },
   "file_extension": ".py",
   "mimetype": "text/x-python",
   "name": "python",
   "nbconvert_exporter": "python",
   "pygments_lexer": "ipython3",
   "version": "3.6.1"
  }
 },
 "nbformat": 4,
 "nbformat_minor": 2
}
