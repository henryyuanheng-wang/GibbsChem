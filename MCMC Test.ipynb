{
 "cells": [
  {
   "cell_type": "code",
   "execution_count": null,
   "metadata": {
    "collapsed": true
   },
   "outputs": [],
   "source": [
    "%pylab inline\n",
    "from Chempy.wrapper import single_star_optimization\n",
    "#%load_ext line_profiler"
   ]
  },
  {
   "cell_type": "markdown",
   "metadata": {},
   "source": [
    "## START here at line 1335 in cem_function and replace the likelihood_function\n",
    "- **Then need to also optimize the parameter_local, parameter_global etc.**"
   ]
  },
  {
   "cell_type": "code",
   "execution_count": null,
   "metadata": {
    "collapsed": true
   },
   "outputs": [],
   "source": [
    "single_star_optimization()"
   ]
  },
  {
   "cell_type": "code",
   "execution_count": null,
   "metadata": {
    "collapsed": true
   },
   "outputs": [],
   "source": []
  },
  {
   "cell_type": "code",
   "execution_count": null,
   "metadata": {
    "collapsed": true
   },
   "outputs": [],
   "source": []
  },
  {
   "cell_type": "code",
   "execution_count": null,
   "metadata": {
    "collapsed": true
   },
   "outputs": [],
   "source": [
    "%pylab inline\n",
    "from Chempy.wrapper import mcmc_quick\n",
    "%load_ext line_profiler"
   ]
  },
  {
   "cell_type": "code",
   "execution_count": null,
   "metadata": {
    "collapsed": true
   },
   "outputs": [],
   "source": [
    "changing_parameter = [-3.,-3.,-0.8,-0.3,0.6,0.4]\n",
    "from Chempy.score_function import preload_params, preload_params_mcmc\n",
    "b = preload_params()\n",
    "from Chempy.cem_function import posterior_function_mcmc_quick\n",
    "preload = preload_params_mcmc()"
   ]
  },
  {
   "cell_type": "code",
   "execution_count": null,
   "metadata": {
    "collapsed": true
   },
   "outputs": [],
   "source": [
    "%timeit -n 20 posterior_function_mcmc_quick(np.array(changing_parameter), b.star_error_list,b.elements,preload)\n",
    "post,_ = posterior_function_mcmc_quick(np.array(changing_parameter),b.star_error_list,b.elements,preload)\n",
    "print(post)"
   ]
  },
  {
   "cell_type": "code",
   "execution_count": null,
   "metadata": {
    "collapsed": true
   },
   "outputs": [],
   "source": [
    "%lprun -f posterior_function_mcmc_quick posterior_function_mcmc_quick(np.array(changing_parameter), b.star_error_list,b.elements,preload)"
   ]
  },
  {
   "cell_type": "code",
   "execution_count": null,
   "metadata": {
    "collapsed": true,
    "scrolled": true
   },
   "outputs": [],
   "source": [
    "%lprun -f mcmc_quick mcmc_quick(changing_parameter,b.errors_list,b.elements,preload)"
   ]
  },
  {
   "cell_type": "code",
   "execution_count": null,
   "metadata": {
    "collapsed": true
   },
   "outputs": [],
   "source": []
  },
  {
   "cell_type": "code",
   "execution_count": null,
   "metadata": {
    "collapsed": true
   },
   "outputs": [],
   "source": [
    "model = np.load('testmod')\n",
    "star = np.load('teststar')\n",
    "err = np.load('testerr.npy')"
   ]
  },
  {
   "cell_type": "code",
   "execution_count": null,
   "metadata": {
    "collapsed": true
   },
   "outputs": [],
   "source": [
    "from Chempy.data_to_test import likelihood_evaluation_int\n",
    "%timeit -r 10 -n 10 likelihood_evaluation_int(err,model,star)"
   ]
  },
  {
   "cell_type": "code",
   "execution_count": null,
   "metadata": {
    "collapsed": true
   },
   "outputs": [],
   "source": [
    "%lprun -f likelihood_evaluation_int likelihood_evaluation_int(err,model,star)"
   ]
  },
  {
   "cell_type": "code",
   "execution_count": null,
   "metadata": {
    "collapsed": true
   },
   "outputs": [],
   "source": [
    "changing_parameter = [-3.,-3.,-0.8,-0.3,0.6,0.4]\n",
    "from Chempy.cem_function import posterior_function_quick\n",
    "from Chempy.score_function import preload_params_mcmc\n",
    "from Chempy.parameter import ModelParameters\n",
    "a = ModelParameters()\n",
    "preload = preload_params_mcmc()"
   ]
  },
  {
   "cell_type": "code",
   "execution_count": null,
   "metadata": {
    "collapsed": true
   },
   "outputs": [],
   "source": [
    "%timeit posterior_function_quick(changing_parameter,a,preload)"
   ]
  },
  {
   "cell_type": "code",
   "execution_count": null,
   "metadata": {
    "collapsed": true
   },
   "outputs": [],
   "source": [
    "posterior_function_quick(changing_parameter,a,preload)"
   ]
  },
  {
   "cell_type": "code",
   "execution_count": null,
   "metadata": {
    "collapsed": true
   },
   "outputs": [],
   "source": [
    "from Chempy.cem_function import posterior_function_for_minimization_quick\n",
    "%timeit posterior_function_for_minimization_quick(changing_parameter,a,preload)"
   ]
  },
  {
   "cell_type": "code",
   "execution_count": null,
   "metadata": {
    "collapsed": true
   },
   "outputs": [],
   "source": []
  },
  {
   "cell_type": "code",
   "execution_count": null,
   "metadata": {
    "collapsed": true
   },
   "outputs": [],
   "source": []
  },
  {
   "cell_type": "code",
   "execution_count": null,
   "metadata": {
    "collapsed": true
   },
   "outputs": [],
   "source": []
  },
  {
   "cell_type": "code",
   "execution_count": 1,
   "metadata": {
    "collapsed": false
   },
   "outputs": [
    {
     "name": "stdout",
     "output_type": "stream",
     "text": [
      "Populating the interactive namespace from numpy and matplotlib\n"
     ]
    }
   ],
   "source": [
    "%pylab inline\n",
    "from Chempy.wrapper import single_star_optimization, mcmc_quick\n",
    "from Chempy.parameter import ModelParameters\n",
    "from Chempy.neural import neural_output_int\n",
    "a = ModelParameters()\n",
    "from Chempy.score_function import preload_params_mcmc\n",
    "from Chempy.cem_function import posterior_function_mcmc_quick, posterior_function_predictions_quick, cem_real2_int, extract_parameters_and_priors\n",
    "preload = preload_params_mcmc()\n",
    "%load_ext line_profiler\n",
    "elements = np.unique(a.elements_to_trace,preload.wildcard.dtype.names)\n",
    "changing_parameter = [-3.,-3.,-0.8,-0.6,0.51,0.6]\n",
    "a = extract_parameters_and_priors(changing_parameter,a)"
   ]
  },
  {
   "cell_type": "code",
   "execution_count": 47,
   "metadata": {
    "collapsed": false
   },
   "outputs": [
    {
     "name": "stdout",
     "output_type": "stream",
     "text": [
      "10000 loops, best of 3: 124 µs per loop\n"
     ]
    }
   ],
   "source": [
    "%timeit posterior_function_predictions_quick(changing_parameter,a,preload)"
   ]
  },
  {
   "cell_type": "code",
   "execution_count": 4,
   "metadata": {
    "collapsed": false
   },
   "outputs": [
    {
     "name": "stdout",
     "output_type": "stream",
     "text": [
      "[-0.3966354033720209, -0.09765144068642617, -0.09809168862089995, -0.14387340575364221, -0.4788038354736166, 0.07064603076251466, -0.060073073126825055, -0.1890601020861178, 0.18125942938938838, -1.0095891953903846, -0.2797542360014584, 0.26325274314924624, -0.027400734545390312, -0.2467819692466588, -0.03734202351520871, 0.18922749958519647, -0.12464341042763663, -0.3903096599977547, 0.05153249233150013, 0.08844147679963818, -0.5241173641885946, -0.2364491433691534]\n"
     ]
    }
   ],
   "source": [
    "p = posterior_function_predictions_quick(changing_parameter,a,preload)\n",
    "print(p)"
   ]
  },
  {
   "cell_type": "code",
   "execution_count": 48,
   "metadata": {
    "collapsed": false
   },
   "outputs": [
    {
     "name": "stdout",
     "output_type": "stream",
     "text": [
      "10 loops, best of 10: 8.93 ms per loop\n",
      "[-0.3966354033720209, -0.09765144068642617, -0.09809168862089995, -0.14387340575364221, -0.4788038354736166, 0.07064603076251466, -0.060073073126825055, -0.1890601020861178, 0.18125942938938838, -1.0095891953903846, -0.2797542360014584, 0.26325274314924624, -0.027400734545390312, -0.2467819692466588, -0.03734202351520871, 0.18922749958519647, -0.12464341042763663, -0.3903096599977547, 0.05153249233150013, 0.08844147679963818, -0.5241173641885946, -0.2364491433691534]\n"
     ]
    }
   ],
   "source": [
    "%timeit -r 10 -n 10 p=posterior_function_mcmc_quick(changing_parameter,elements,preload)\n",
    "print(p)"
   ]
  },
  {
   "cell_type": "code",
   "execution_count": 6,
   "metadata": {
    "collapsed": true
   },
   "outputs": [],
   "source": [
    "%lprun -f posterior_function_predictions_quick posterior_function_predictions_quick(changing_parameter,a,preload)"
   ]
  },
  {
   "cell_type": "code",
   "execution_count": 49,
   "metadata": {
    "collapsed": false
   },
   "outputs": [
    {
     "name": "stdout",
     "output_type": "stream",
     "text": [
      "['Proto-sun']\n",
      "first minimization for each star separately took:  0 seconds\n",
      "step  1 of  1000\n",
      "0.500383124814 0.49961370762\n",
      "calculation so far took 2.4962267875671387  seconds\n",
      "step  2 of  1000\n",
      "0.500383124814 0.497940417344\n",
      "calculation so far took 2.9724764823913574  seconds\n",
      "step  3 of  1000\n",
      "0.500383124814 0.494475333193\n",
      "calculation so far took 3.4457437992095947  seconds\n",
      "step  4 of  1000\n",
      "0.500383124814 0.489813526638\n",
      "calculation so far took 3.9187071323394775  seconds\n",
      "step  5 of  1000\n",
      "0.500383124814 0.474325268155\n",
      "calculation so far took 4.3935463428497314  seconds\n",
      "step  6 of  1000\n",
      "0.500383124814 0.45840882394\n",
      "calculation so far took 4.9467933177948  seconds\n",
      "step  7 of  1000\n",
      "0.500383124814 0.423549087635\n",
      "calculation so far took 5.735443830490112  seconds\n",
      "step  8 of  1000\n",
      "0.500383124814 0.311181123158\n",
      "calculation so far took 6.230035066604614  seconds\n",
      "step  9 of  1000\n",
      "0.500383124814 0.243231877267\n",
      "calculation so far took 6.708449125289917  seconds\n",
      "step  10 of  1000\n",
      "0.500383124814 0.135673104242\n",
      "calculation so far took 7.186822891235352  seconds\n",
      "step  11 of  1000\n",
      "0.500383124814 -0.264842740447\n",
      "calculation so far took 7.684155702590942  seconds\n",
      "step  12 of  1000\n",
      "0.500383124814 -0.493595987114\n",
      "calculation so far took 8.19966721534729  seconds\n",
      "step  13 of  1000\n",
      "*** KeyboardInterrupt exception caught in code being profiled."
     ]
    }
   ],
   "source": [
    "%lprun -f single_star_optimization single_star_optimization()"
   ]
  },
  {
   "cell_type": "code",
   "execution_count": null,
   "metadata": {
    "collapsed": true
   },
   "outputs": [],
   "source": [
    "%lprun -f cem_real2_int cem_real2_int(a,preload)"
   ]
  },
  {
   "cell_type": "code",
   "execution_count": 7,
   "metadata": {
    "collapsed": true
   },
   "outputs": [],
   "source": [
    "%lprun -f neural_output_int neural_output_int(changing_parameter,a,preload)"
   ]
  },
  {
   "cell_type": "code",
   "execution_count": 9,
   "metadata": {
    "collapsed": false
   },
   "outputs": [
    {
     "name": "stdout",
     "output_type": "stream",
     "text": [
      "100 loops, best of 100: 23.5 µs per loop\n"
     ]
    }
   ],
   "source": [
    "%timeit -r 100 -n 100 neural_output_int(changing_parameter,a,preload)"
   ]
  },
  {
   "cell_type": "code",
   "execution_count": null,
   "metadata": {
    "collapsed": true
   },
   "outputs": [],
   "source": []
  },
  {
   "cell_type": "code",
   "execution_count": null,
   "metadata": {
    "collapsed": true
   },
   "outputs": [],
   "source": []
  },
  {
   "cell_type": "code",
   "execution_count": 52,
   "metadata": {
    "collapsed": false
   },
   "outputs": [
    {
     "data": {
      "text/plain": [
       "28"
      ]
     },
     "execution_count": 52,
     "metadata": {},
     "output_type": "execute_result"
    }
   ],
   "source": []
  },
  {
   "cell_type": "code",
   "execution_count": 53,
   "metadata": {
    "collapsed": false
   },
   "outputs": [
    {
     "name": "stdout",
     "output_type": "stream",
     "text": [
      "['Proto-sun']\n",
      "first minimization for each star separately took:  1 seconds\n",
      "[-2.5174881737447081]\n",
      "step 1 global minimization took: 41 seconds\n",
      "step 1 local minimization took:  1 seconds\n",
      "[-2.5174881737447081, -2.4774364188230167]\n",
      "step 2 global minimization took: 42 seconds\n",
      "step 2 local minimization took:  1 seconds\n",
      "[array([[-2.46227299, -3.0039588 , -0.75835047, -0.32901782,  0.51796291,\n",
      "         0.48779961]]), 'initial minimization', (array([-2.53152442, -3.00082967, -0.76703991]), -2.5174881737447081), 'step 1 global minimization', array([[-2.53152442, -3.00082967, -0.76703991, -0.33998508,  0.53522834,\n",
      "         0.46340963]]), 'step 1 local minimization', (array([-2.50715654, -2.98560556, -0.79185329]), -2.4774364188230167), 'step 2 global minimization', array([[-2.50715654, -2.98560556, -0.79185329, -0.33998508,  0.53522834,\n",
      "         0.46340963]]), 'step 2 local minimization', [-2.5174881737447081, -2.4774364188230167]]\n",
      "step  1 of  1000\n",
      "0.507856918052 0.506922539724\n",
      "calculation so far took 22.749944925308228  seconds\n",
      "step  2 of  1000\n",
      "0.507856918052 0.50582754465\n",
      "calculation so far took 27.28979206085205  seconds\n",
      "step  3 of  1000\n",
      "0.507856918052 0.506995440809\n",
      "calculation so far took 32.10183787345886  seconds\n",
      "step  4 of  1000\n",
      "0.507856918052 0.500457169872\n",
      "calculation so far took 37.64346432685852  seconds\n",
      "step  5 of  1000\n",
      "0.507856918052 0.494617145244\n",
      "calculation so far took 41.79850697517395  seconds\n",
      "step  6 of  1000\n",
      "0.507856918052 0.481079227722\n",
      "calculation so far took 45.82764935493469  seconds\n",
      "step  7 of  1000\n",
      "0.507856918052 0.457595425775\n",
      "calculation so far took 49.94203281402588  seconds\n",
      "step  8 of  1000\n",
      "0.507856918052 0.435444854526\n",
      "calculation so far took 53.853432178497314  seconds\n",
      "step  9 of  1000\n",
      "0.507856918052 0.30200843176\n",
      "calculation so far took 58.291980028152466  seconds\n",
      "step  10 of  1000\n",
      "0.507856918052 0.133268368929\n",
      "calculation so far took 62.7693030834198  seconds\n",
      "step  11 of  1000\n",
      "0.507856918052 -0.222858141059\n",
      "calculation so far took 66.86575031280518  seconds\n",
      "step  12 of  1000\n"
     ]
    },
    {
     "name": "stderr",
     "output_type": "stream",
     "text": [
      "Traceback (most recent call last):\n",
      "  File \"/home/philcox/Chempy/Chempy/cem_function.py\", line 884, in posterior_function_many_stars\n",
      "    posterior, blobs = posterior_function_many_stars_real(changing_parameter,error_list,elements)\n",
      "  File \"/home/philcox/Chempy/Chempy/cem_function.py\", line 922, in posterior_function_many_stars_real\n",
      "    abundance_list,element_list = posterior_function_returning_predictions(args)\n",
      "  File \"/home/philcox/Chempy/Chempy/cem_function.py\", line 484, in posterior_function_returning_predictions\n",
      "    posterior, abundance_list, element_list = posterior_function_predictions(changing_parameter,a)\n",
      "  File \"/home/philcox/Chempy/Chempy/cem_function.py\", line 494, in posterior_function_predictions\n",
      "    a = extract_parameters_and_priors(changing_parameter, a)\n",
      "  File \"/home/philcox/Chempy/Chempy/cem_function.py\", line 721, in extract_parameters_and_priors\n",
      "    assert False, '%s upper border is violated' %(name)\n",
      "AssertionError: log10_sfr_scale upper border is violated\n"
     ]
    },
    {
     "name": "stdout",
     "output_type": "stream",
     "text": [
      "0.507856918052 -0.44929801877\n",
      "calculation so far took 72.37079048156738  seconds\n",
      "step  13 of  1000\n",
      "0.507856918052 -0.457829435144\n",
      "calculation so far took 76.44643568992615  seconds\n",
      "step  14 of  1000\n",
      "0.507856918052 -0.959697407648\n",
      "calculation so far took 80.62069153785706  seconds\n",
      "step  15 of  1000\n",
      "0.507856918052 -1.16455347662\n",
      "calculation so far took 84.96940469741821  seconds\n",
      "step  16 of  1000\n"
     ]
    },
    {
     "name": "stderr",
     "output_type": "stream",
     "text": [
      "Traceback (most recent call last):\n",
      "  File \"/home/philcox/Chempy/Chempy/cem_function.py\", line 884, in posterior_function_many_stars\n",
      "    posterior, blobs = posterior_function_many_stars_real(changing_parameter,error_list,elements)\n",
      "  File \"/home/philcox/Chempy/Chempy/cem_function.py\", line 922, in posterior_function_many_stars_real\n",
      "    abundance_list,element_list = posterior_function_returning_predictions(args)\n",
      "  File \"/home/philcox/Chempy/Chempy/cem_function.py\", line 484, in posterior_function_returning_predictions\n",
      "    posterior, abundance_list, element_list = posterior_function_predictions(changing_parameter,a)\n",
      "  File \"/home/philcox/Chempy/Chempy/cem_function.py\", line 494, in posterior_function_predictions\n",
      "    a = extract_parameters_and_priors(changing_parameter, a)\n",
      "  File \"/home/philcox/Chempy/Chempy/cem_function.py\", line 721, in extract_parameters_and_priors\n",
      "    assert False, '%s upper border is violated' %(name)\n",
      "AssertionError: log10_sfr_scale upper border is violated\n"
     ]
    },
    {
     "name": "stdout",
     "output_type": "stream",
     "text": [
      "0.507856918052 -1.11280778164\n",
      "calculation so far took 89.55947136878967  seconds\n",
      "step  17 of  1000\n"
     ]
    },
    {
     "name": "stderr",
     "output_type": "stream",
     "text": [
      "Traceback (most recent call last):\n",
      "  File \"/home/philcox/Chempy/Chempy/cem_function.py\", line 884, in posterior_function_many_stars\n",
      "    posterior, blobs = posterior_function_many_stars_real(changing_parameter,error_list,elements)\n",
      "  File \"/home/philcox/Chempy/Chempy/cem_function.py\", line 922, in posterior_function_many_stars_real\n",
      "    abundance_list,element_list = posterior_function_returning_predictions(args)\n",
      "  File \"/home/philcox/Chempy/Chempy/cem_function.py\", line 484, in posterior_function_returning_predictions\n",
      "    posterior, abundance_list, element_list = posterior_function_predictions(changing_parameter,a)\n",
      "  File \"/home/philcox/Chempy/Chempy/cem_function.py\", line 494, in posterior_function_predictions\n",
      "    a = extract_parameters_and_priors(changing_parameter, a)\n",
      "  File \"/home/philcox/Chempy/Chempy/cem_function.py\", line 721, in extract_parameters_and_priors\n",
      "    assert False, '%s upper border is violated' %(name)\n",
      "AssertionError: log10_sfr_scale upper border is violated\n",
      "Traceback (most recent call last):\n",
      "  File \"/home/philcox/Chempy/Chempy/cem_function.py\", line 884, in posterior_function_many_stars\n",
      "    posterior, blobs = posterior_function_many_stars_real(changing_parameter,error_list,elements)\n",
      "  File \"/home/philcox/Chempy/Chempy/cem_function.py\", line 922, in posterior_function_many_stars_real\n",
      "    abundance_list,element_list = posterior_function_returning_predictions(args)\n",
      "  File \"/home/philcox/Chempy/Chempy/cem_function.py\", line 484, in posterior_function_returning_predictions\n",
      "    posterior, abundance_list, element_list = posterior_function_predictions(changing_parameter,a)\n",
      "  File \"/home/philcox/Chempy/Chempy/cem_function.py\", line 494, in posterior_function_predictions\n",
      "    a = extract_parameters_and_priors(changing_parameter, a)\n",
      "  File \"/home/philcox/Chempy/Chempy/cem_function.py\", line 719, in extract_parameters_and_priors\n",
      "    assert False, '%s lower border is violated' %(name)\n",
      "AssertionError: log10_sfr_scale lower border is violated\n"
     ]
    },
    {
     "name": "stdout",
     "output_type": "stream",
     "text": [
      "0.507856918052 -1.42273254478\n",
      "calculation so far took 94.01290774345398  seconds\n",
      "step  18 of  1000\n",
      "0.507856918052 -1.53750275722\n",
      "calculation so far took 98.61103057861328  seconds\n",
      "step  19 of  1000\n",
      "0.507856918052 -1.7040122435\n",
      "calculation so far took 103.21125268936157  seconds\n",
      "step  20 of  1000\n"
     ]
    },
    {
     "name": "stderr",
     "output_type": "stream",
     "text": [
      "Traceback (most recent call last):\n",
      "  File \"/home/philcox/Chempy/Chempy/cem_function.py\", line 884, in posterior_function_many_stars\n",
      "    posterior, blobs = posterior_function_many_stars_real(changing_parameter,error_list,elements)\n",
      "  File \"/home/philcox/Chempy/Chempy/cem_function.py\", line 922, in posterior_function_many_stars_real\n",
      "    abundance_list,element_list = posterior_function_returning_predictions(args)\n",
      "  File \"/home/philcox/Chempy/Chempy/cem_function.py\", line 484, in posterior_function_returning_predictions\n",
      "    posterior, abundance_list, element_list = posterior_function_predictions(changing_parameter,a)\n",
      "  File \"/home/philcox/Chempy/Chempy/cem_function.py\", line 494, in posterior_function_predictions\n",
      "    a = extract_parameters_and_priors(changing_parameter, a)\n",
      "  File \"/home/philcox/Chempy/Chempy/cem_function.py\", line 719, in extract_parameters_and_priors\n",
      "    assert False, '%s lower border is violated' %(name)\n",
      "AssertionError: outflow_feedback_fraction lower border is violated\n"
     ]
    },
    {
     "name": "stdout",
     "output_type": "stream",
     "text": [
      "0.507856918052 -1.51972024319\n",
      "calculation so far took 108.12795352935791  seconds\n",
      "step  21 of  1000\n",
      "0.507856918052 -1.64908842311\n",
      "calculation so far took 113.76086187362671  seconds\n",
      "step  22 of  1000\n",
      "0.507856918052 -1.61536667972\n",
      "calculation so far took 119.53900361061096  seconds\n",
      "step  23 of  1000\n",
      "0.507856918052 -1.76274453632\n",
      "calculation so far took 123.77787566184998  seconds\n",
      "step  24 of  1000\n"
     ]
    },
    {
     "name": "stderr",
     "output_type": "stream",
     "text": [
      "Traceback (most recent call last):\n",
      "  File \"/home/philcox/Chempy/Chempy/cem_function.py\", line 884, in posterior_function_many_stars\n",
      "    posterior, blobs = posterior_function_many_stars_real(changing_parameter,error_list,elements)\n",
      "  File \"/home/philcox/Chempy/Chempy/cem_function.py\", line 922, in posterior_function_many_stars_real\n",
      "    abundance_list,element_list = posterior_function_returning_predictions(args)\n",
      "  File \"/home/philcox/Chempy/Chempy/cem_function.py\", line 484, in posterior_function_returning_predictions\n",
      "    posterior, abundance_list, element_list = posterior_function_predictions(changing_parameter,a)\n",
      "  File \"/home/philcox/Chempy/Chempy/cem_function.py\", line 494, in posterior_function_predictions\n",
      "    a = extract_parameters_and_priors(changing_parameter, a)\n",
      "  File \"/home/philcox/Chempy/Chempy/cem_function.py\", line 719, in extract_parameters_and_priors\n",
      "    assert False, '%s lower border is violated' %(name)\n",
      "AssertionError: log10_sfr_scale lower border is violated\n"
     ]
    },
    {
     "name": "stdout",
     "output_type": "stream",
     "text": [
      "0.507856918052 -1.55099449213\n",
      "calculation so far took 127.89490842819214  seconds\n",
      "step  25 of  1000\n"
     ]
    },
    {
     "name": "stderr",
     "output_type": "stream",
     "text": [
      "Traceback (most recent call last):\n",
      "  File \"/home/philcox/Chempy/Chempy/cem_function.py\", line 884, in posterior_function_many_stars\n",
      "    posterior, blobs = posterior_function_many_stars_real(changing_parameter,error_list,elements)\n",
      "  File \"/home/philcox/Chempy/Chempy/cem_function.py\", line 922, in posterior_function_many_stars_real\n",
      "    abundance_list,element_list = posterior_function_returning_predictions(args)\n",
      "  File \"/home/philcox/Chempy/Chempy/cem_function.py\", line 484, in posterior_function_returning_predictions\n",
      "    posterior, abundance_list, element_list = posterior_function_predictions(changing_parameter,a)\n",
      "  File \"/home/philcox/Chempy/Chempy/cem_function.py\", line 494, in posterior_function_predictions\n",
      "    a = extract_parameters_and_priors(changing_parameter, a)\n",
      "  File \"/home/philcox/Chempy/Chempy/cem_function.py\", line 719, in extract_parameters_and_priors\n",
      "    assert False, '%s lower border is violated' %(name)\n",
      "AssertionError: log10_sfr_scale lower border is violated\n"
     ]
    },
    {
     "name": "stdout",
     "output_type": "stream",
     "text": [
      "0.507856918052 -1.64530798063\n",
      "calculation so far took 132.11796402931213  seconds\n",
      "step  26 of  1000\n",
      "0.507856918052 -1.77184909551\n",
      "calculation so far took 136.82906651496887  seconds\n",
      "step  27 of  1000\n"
     ]
    },
    {
     "name": "stderr",
     "output_type": "stream",
     "text": [
      "Traceback (most recent call last):\n",
      "  File \"/home/philcox/Chempy/Chempy/cem_function.py\", line 884, in posterior_function_many_stars\n",
      "    posterior, blobs = posterior_function_many_stars_real(changing_parameter,error_list,elements)\n",
      "  File \"/home/philcox/Chempy/Chempy/cem_function.py\", line 922, in posterior_function_many_stars_real\n",
      "    abundance_list,element_list = posterior_function_returning_predictions(args)\n",
      "  File \"/home/philcox/Chempy/Chempy/cem_function.py\", line 484, in posterior_function_returning_predictions\n",
      "    posterior, abundance_list, element_list = posterior_function_predictions(changing_parameter,a)\n",
      "  File \"/home/philcox/Chempy/Chempy/cem_function.py\", line 494, in posterior_function_predictions\n",
      "    a = extract_parameters_and_priors(changing_parameter, a)\n",
      "  File \"/home/philcox/Chempy/Chempy/cem_function.py\", line 721, in extract_parameters_and_priors\n",
      "    assert False, '%s upper border is violated' %(name)\n",
      "AssertionError: outflow_feedback_fraction upper border is violated\n"
     ]
    },
    {
     "name": "stdout",
     "output_type": "stream",
     "text": [
      "0.507856918052 -1.63312248175\n",
      "calculation so far took 140.7044551372528  seconds\n",
      "step  28 of  1000\n"
     ]
    },
    {
     "name": "stderr",
     "output_type": "stream",
     "text": [
      "Traceback (most recent call last):\n",
      "  File \"/home/philcox/Chempy/Chempy/cem_function.py\", line 884, in posterior_function_many_stars\n",
      "    posterior, blobs = posterior_function_many_stars_real(changing_parameter,error_list,elements)\n",
      "  File \"/home/philcox/Chempy/Chempy/cem_function.py\", line 922, in posterior_function_many_stars_real\n",
      "    abundance_list,element_list = posterior_function_returning_predictions(args)\n",
      "  File \"/home/philcox/Chempy/Chempy/cem_function.py\", line 484, in posterior_function_returning_predictions\n",
      "    posterior, abundance_list, element_list = posterior_function_predictions(changing_parameter,a)\n",
      "  File \"/home/philcox/Chempy/Chempy/cem_function.py\", line 494, in posterior_function_predictions\n",
      "    a = extract_parameters_and_priors(changing_parameter, a)\n",
      "  File \"/home/philcox/Chempy/Chempy/cem_function.py\", line 719, in extract_parameters_and_priors\n",
      "    assert False, '%s lower border is violated' %(name)\n",
      "AssertionError: log10_sfr_scale lower border is violated\n"
     ]
    },
    {
     "name": "stdout",
     "output_type": "stream",
     "text": [
      "0.507856918052 -1.66224329697\n",
      "calculation so far took 146.09842014312744  seconds\n",
      "step  29 of  1000\n"
     ]
    },
    {
     "name": "stderr",
     "output_type": "stream",
     "text": [
      "Traceback (most recent call last):\n",
      "  File \"/home/philcox/Chempy/Chempy/cem_function.py\", line 884, in posterior_function_many_stars\n",
      "    posterior, blobs = posterior_function_many_stars_real(changing_parameter,error_list,elements)\n",
      "  File \"/home/philcox/Chempy/Chempy/cem_function.py\", line 922, in posterior_function_many_stars_real\n",
      "    abundance_list,element_list = posterior_function_returning_predictions(args)\n",
      "  File \"/home/philcox/Chempy/Chempy/cem_function.py\", line 484, in posterior_function_returning_predictions\n",
      "    posterior, abundance_list, element_list = posterior_function_predictions(changing_parameter,a)\n",
      "  File \"/home/philcox/Chempy/Chempy/cem_function.py\", line 494, in posterior_function_predictions\n",
      "    a = extract_parameters_and_priors(changing_parameter, a)\n",
      "  File \"/home/philcox/Chempy/Chempy/cem_function.py\", line 721, in extract_parameters_and_priors\n",
      "    assert False, '%s upper border is violated' %(name)\n",
      "AssertionError: outflow_feedback_fraction upper border is violated\n"
     ]
    },
    {
     "name": "stdout",
     "output_type": "stream",
     "text": [
      "0.507856918052 -1.5849765852\n",
      "calculation so far took 150.9647023677826  seconds\n",
      "step  30 of  1000\n",
      "0.507856918052 -1.3840746606\n",
      "calculation so far took 155.50121068954468  seconds\n",
      "step  31 of  1000\n",
      "0.507856918052 -1.2986848839\n",
      "calculation so far took 159.5957226753235  seconds\n",
      "step  32 of  1000\n",
      "0.507856918052 -1.43206533088\n",
      "calculation so far took 164.22936964035034  seconds\n",
      "step  33 of  1000\n",
      "0.507856918052 -1.41347243118\n",
      "calculation so far took 169.08491253852844  seconds\n",
      "step  34 of  1000\n",
      "0.507856918052 -1.42561382415\n",
      "calculation so far took 173.54626536369324  seconds\n",
      "step  35 of  1000\n",
      "0.507856918052 -1.44433820681\n",
      "calculation so far took 177.76190400123596  seconds\n",
      "step  36 of  1000\n",
      "0.507856918052 -1.55824817722\n",
      "calculation so far took 183.1221263408661  seconds\n",
      "step  37 of  1000\n"
     ]
    },
    {
     "name": "stderr",
     "output_type": "stream",
     "text": [
      "Traceback (most recent call last):\n",
      "  File \"/home/philcox/Chempy/Chempy/cem_function.py\", line 884, in posterior_function_many_stars\n",
      "    posterior, blobs = posterior_function_many_stars_real(changing_parameter,error_list,elements)\n",
      "  File \"/home/philcox/Chempy/Chempy/cem_function.py\", line 922, in posterior_function_many_stars_real\n",
      "    abundance_list,element_list = posterior_function_returning_predictions(args)\n",
      "  File \"/home/philcox/Chempy/Chempy/cem_function.py\", line 484, in posterior_function_returning_predictions\n",
      "    posterior, abundance_list, element_list = posterior_function_predictions(changing_parameter,a)\n",
      "  File \"/home/philcox/Chempy/Chempy/cem_function.py\", line 494, in posterior_function_predictions\n",
      "    a = extract_parameters_and_priors(changing_parameter, a)\n",
      "  File \"/home/philcox/Chempy/Chempy/cem_function.py\", line 721, in extract_parameters_and_priors\n",
      "    assert False, '%s upper border is violated' %(name)\n",
      "AssertionError: log10_sfr_scale upper border is violated\n"
     ]
    },
    {
     "name": "stdout",
     "output_type": "stream",
     "text": [
      "0.507856918052 -1.48033943017\n",
      "calculation so far took 187.50508284568787  seconds\n",
      "step  38 of  1000\n",
      "0.507856918052 -1.56738570474\n",
      "calculation so far took 191.58219838142395  seconds\n",
      "step  39 of  1000\n",
      "0.507856918052 -1.46568636955\n",
      "calculation so far took 196.1749143600464  seconds\n",
      "step  40 of  1000\n"
     ]
    },
    {
     "name": "stderr",
     "output_type": "stream",
     "text": [
      "Traceback (most recent call last):\n",
      "  File \"/home/philcox/Chempy/Chempy/cem_function.py\", line 884, in posterior_function_many_stars\n",
      "    posterior, blobs = posterior_function_many_stars_real(changing_parameter,error_list,elements)\n",
      "  File \"/home/philcox/Chempy/Chempy/cem_function.py\", line 922, in posterior_function_many_stars_real\n",
      "    abundance_list,element_list = posterior_function_returning_predictions(args)\n",
      "  File \"/home/philcox/Chempy/Chempy/cem_function.py\", line 484, in posterior_function_returning_predictions\n",
      "    posterior, abundance_list, element_list = posterior_function_predictions(changing_parameter,a)\n",
      "  File \"/home/philcox/Chempy/Chempy/cem_function.py\", line 494, in posterior_function_predictions\n",
      "    a = extract_parameters_and_priors(changing_parameter, a)\n",
      "  File \"/home/philcox/Chempy/Chempy/cem_function.py\", line 719, in extract_parameters_and_priors\n",
      "    assert False, '%s lower border is violated' %(name)\n",
      "AssertionError: log10_sfr_scale lower border is violated\n",
      "Traceback (most recent call last):\n",
      "  File \"/home/philcox/Chempy/Chempy/cem_function.py\", line 884, in posterior_function_many_stars\n",
      "    posterior, blobs = posterior_function_many_stars_real(changing_parameter,error_list,elements)\n",
      "  File \"/home/philcox/Chempy/Chempy/cem_function.py\", line 922, in posterior_function_many_stars_real\n",
      "    abundance_list,element_list = posterior_function_returning_predictions(args)\n",
      "  File \"/home/philcox/Chempy/Chempy/cem_function.py\", line 484, in posterior_function_returning_predictions\n",
      "    posterior, abundance_list, element_list = posterior_function_predictions(changing_parameter,a)\n",
      "  File \"/home/philcox/Chempy/Chempy/cem_function.py\", line 494, in posterior_function_predictions\n",
      "    a = extract_parameters_and_priors(changing_parameter, a)\n",
      "  File \"/home/philcox/Chempy/Chempy/cem_function.py\", line 719, in extract_parameters_and_priors\n",
      "    assert False, '%s lower border is violated' %(name)\n",
      "AssertionError: log10_sfr_scale lower border is violated\n"
     ]
    },
    {
     "name": "stdout",
     "output_type": "stream",
     "text": [
      "0.507856918052 -1.66204858588\n",
      "calculation so far took 200.50239396095276  seconds\n",
      "step  41 of  1000\n"
     ]
    },
    {
     "name": "stderr",
     "output_type": "stream",
     "text": [
      "Traceback (most recent call last):\n",
      "  File \"/home/philcox/Chempy/Chempy/cem_function.py\", line 884, in posterior_function_many_stars\n",
      "    posterior, blobs = posterior_function_many_stars_real(changing_parameter,error_list,elements)\n",
      "  File \"/home/philcox/Chempy/Chempy/cem_function.py\", line 922, in posterior_function_many_stars_real\n",
      "    abundance_list,element_list = posterior_function_returning_predictions(args)\n",
      "  File \"/home/philcox/Chempy/Chempy/cem_function.py\", line 484, in posterior_function_returning_predictions\n",
      "    posterior, abundance_list, element_list = posterior_function_predictions(changing_parameter,a)\n",
      "  File \"/home/philcox/Chempy/Chempy/cem_function.py\", line 494, in posterior_function_predictions\n",
      "    a = extract_parameters_and_priors(changing_parameter, a)\n",
      "  File \"/home/philcox/Chempy/Chempy/cem_function.py\", line 719, in extract_parameters_and_priors\n",
      "    assert False, '%s lower border is violated' %(name)\n",
      "AssertionError: log10_sfr_scale lower border is violated\n"
     ]
    },
    {
     "name": "stdout",
     "output_type": "stream",
     "text": [
      "0.507856918052 -1.71214889862\n",
      "calculation so far took 204.54312205314636  seconds\n",
      "step  42 of  1000\n",
      "0.507856918052 -1.9393297013\n",
      "calculation so far took 209.06391549110413  seconds\n",
      "step  43 of  1000\n"
     ]
    },
    {
     "name": "stderr",
     "output_type": "stream",
     "text": [
      "Traceback (most recent call last):\n",
      "  File \"/home/philcox/Chempy/Chempy/cem_function.py\", line 884, in posterior_function_many_stars\n",
      "    posterior, blobs = posterior_function_many_stars_real(changing_parameter,error_list,elements)\n",
      "  File \"/home/philcox/Chempy/Chempy/cem_function.py\", line 922, in posterior_function_many_stars_real\n",
      "    abundance_list,element_list = posterior_function_returning_predictions(args)\n",
      "  File \"/home/philcox/Chempy/Chempy/cem_function.py\", line 484, in posterior_function_returning_predictions\n",
      "    posterior, abundance_list, element_list = posterior_function_predictions(changing_parameter,a)\n",
      "  File \"/home/philcox/Chempy/Chempy/cem_function.py\", line 494, in posterior_function_predictions\n",
      "    a = extract_parameters_and_priors(changing_parameter, a)\n",
      "  File \"/home/philcox/Chempy/Chempy/cem_function.py\", line 721, in extract_parameters_and_priors\n",
      "    assert False, '%s upper border is violated' %(name)\n",
      "AssertionError: log10_sfr_scale upper border is violated\n"
     ]
    },
    {
     "name": "stdout",
     "output_type": "stream",
     "text": [
      "0.507856918052 -1.80848269889\n",
      "calculation so far took 213.4389247894287  seconds\n",
      "step  44 of  1000\n"
     ]
    },
    {
     "name": "stderr",
     "output_type": "stream",
     "text": [
      "Traceback (most recent call last):\n",
      "  File \"/home/philcox/Chempy/Chempy/cem_function.py\", line 884, in posterior_function_many_stars\n",
      "    posterior, blobs = posterior_function_many_stars_real(changing_parameter,error_list,elements)\n",
      "  File \"/home/philcox/Chempy/Chempy/cem_function.py\", line 922, in posterior_function_many_stars_real\n",
      "    abundance_list,element_list = posterior_function_returning_predictions(args)\n",
      "  File \"/home/philcox/Chempy/Chempy/cem_function.py\", line 484, in posterior_function_returning_predictions\n",
      "    posterior, abundance_list, element_list = posterior_function_predictions(changing_parameter,a)\n",
      "  File \"/home/philcox/Chempy/Chempy/cem_function.py\", line 494, in posterior_function_predictions\n",
      "    a = extract_parameters_and_priors(changing_parameter, a)\n",
      "  File \"/home/philcox/Chempy/Chempy/cem_function.py\", line 721, in extract_parameters_and_priors\n",
      "    assert False, '%s upper border is violated' %(name)\n",
      "AssertionError: log10_sfr_scale upper border is violated\n"
     ]
    },
    {
     "name": "stdout",
     "output_type": "stream",
     "text": [
      "0.507856918052 -1.58116192581\n",
      "calculation so far took 218.61245465278625  seconds\n",
      "step  45 of  1000\n",
      "0.507856918052 -1.6079011027\n",
      "calculation so far took 223.0660490989685  seconds\n",
      "step  46 of  1000\n"
     ]
    },
    {
     "name": "stderr",
     "output_type": "stream",
     "text": [
      "Traceback (most recent call last):\n",
      "  File \"/home/philcox/Chempy/Chempy/cem_function.py\", line 884, in posterior_function_many_stars\n",
      "    posterior, blobs = posterior_function_many_stars_real(changing_parameter,error_list,elements)\n",
      "  File \"/home/philcox/Chempy/Chempy/cem_function.py\", line 922, in posterior_function_many_stars_real\n",
      "    abundance_list,element_list = posterior_function_returning_predictions(args)\n",
      "  File \"/home/philcox/Chempy/Chempy/cem_function.py\", line 484, in posterior_function_returning_predictions\n",
      "    posterior, abundance_list, element_list = posterior_function_predictions(changing_parameter,a)\n",
      "  File \"/home/philcox/Chempy/Chempy/cem_function.py\", line 494, in posterior_function_predictions\n",
      "    a = extract_parameters_and_priors(changing_parameter, a)\n",
      "  File \"/home/philcox/Chempy/Chempy/cem_function.py\", line 721, in extract_parameters_and_priors\n",
      "    assert False, '%s upper border is violated' %(name)\n",
      "AssertionError: log10_sfr_scale upper border is violated\n",
      "Traceback (most recent call last):\n",
      "  File \"/home/philcox/Chempy/Chempy/cem_function.py\", line 884, in posterior_function_many_stars\n",
      "    posterior, blobs = posterior_function_many_stars_real(changing_parameter,error_list,elements)\n",
      "  File \"/home/philcox/Chempy/Chempy/cem_function.py\", line 922, in posterior_function_many_stars_real\n",
      "    abundance_list,element_list = posterior_function_returning_predictions(args)\n",
      "  File \"/home/philcox/Chempy/Chempy/cem_function.py\", line 484, in posterior_function_returning_predictions\n",
      "    posterior, abundance_list, element_list = posterior_function_predictions(changing_parameter,a)\n",
      "  File \"/home/philcox/Chempy/Chempy/cem_function.py\", line 494, in posterior_function_predictions\n",
      "    a = extract_parameters_and_priors(changing_parameter, a)\n",
      "  File \"/home/philcox/Chempy/Chempy/cem_function.py\", line 721, in extract_parameters_and_priors\n",
      "    assert False, '%s upper border is violated' %(name)\n",
      "AssertionError: log10_sfr_scale upper border is violated\n"
     ]
    },
    {
     "name": "stdout",
     "output_type": "stream",
     "text": [
      "0.507856918052 -1.6432481319\n",
      "calculation so far took 227.70623254776  seconds\n",
      "step  47 of  1000\n",
      "0.507856918052 -1.60196470313\n",
      "calculation so far took 232.07297372817993  seconds\n",
      "step  48 of  1000\n"
     ]
    },
    {
     "name": "stderr",
     "output_type": "stream",
     "text": [
      "Traceback (most recent call last):\n",
      "  File \"/home/philcox/Chempy/Chempy/cem_function.py\", line 884, in posterior_function_many_stars\n",
      "    posterior, blobs = posterior_function_many_stars_real(changing_parameter,error_list,elements)\n",
      "  File \"/home/philcox/Chempy/Chempy/cem_function.py\", line 922, in posterior_function_many_stars_real\n",
      "    abundance_list,element_list = posterior_function_returning_predictions(args)\n",
      "  File \"/home/philcox/Chempy/Chempy/cem_function.py\", line 484, in posterior_function_returning_predictions\n",
      "    posterior, abundance_list, element_list = posterior_function_predictions(changing_parameter,a)\n",
      "  File \"/home/philcox/Chempy/Chempy/cem_function.py\", line 494, in posterior_function_predictions\n",
      "    a = extract_parameters_and_priors(changing_parameter, a)\n",
      "  File \"/home/philcox/Chempy/Chempy/cem_function.py\", line 721, in extract_parameters_and_priors\n",
      "    assert False, '%s upper border is violated' %(name)\n",
      "AssertionError: log10_sfr_scale upper border is violated\n"
     ]
    },
    {
     "name": "stdout",
     "output_type": "stream",
     "text": [
      "0.507856918052 -1.54272937034\n",
      "calculation so far took 236.83252429962158  seconds\n",
      "step  49 of  1000\n",
      "0.507856918052 -1.50871510414\n",
      "calculation so far took 241.19468569755554  seconds\n",
      "step  50 of  1000\n",
      "0.507856918052 -1.7112516852\n",
      "calculation so far took 247.5010368824005  seconds\n",
      "step  51 of  1000\n",
      "0.507856918052 -1.60708049148\n",
      "calculation so far took 252.77845788002014  seconds\n",
      "step  52 of  1000\n"
     ]
    },
    {
     "name": "stderr",
     "output_type": "stream",
     "text": [
      "Traceback (most recent call last):\n",
      "  File \"/home/philcox/Chempy/Chempy/cem_function.py\", line 884, in posterior_function_many_stars\n",
      "    posterior, blobs = posterior_function_many_stars_real(changing_parameter,error_list,elements)\n",
      "  File \"/home/philcox/Chempy/Chempy/cem_function.py\", line 922, in posterior_function_many_stars_real\n",
      "    abundance_list,element_list = posterior_function_returning_predictions(args)\n",
      "  File \"/home/philcox/Chempy/Chempy/cem_function.py\", line 484, in posterior_function_returning_predictions\n",
      "    posterior, abundance_list, element_list = posterior_function_predictions(changing_parameter,a)\n",
      "  File \"/home/philcox/Chempy/Chempy/cem_function.py\", line 494, in posterior_function_predictions\n",
      "    a = extract_parameters_and_priors(changing_parameter, a)\n",
      "  File \"/home/philcox/Chempy/Chempy/cem_function.py\", line 719, in extract_parameters_and_priors\n",
      "    assert False, '%s lower border is violated' %(name)\n",
      "AssertionError: log10_sfr_scale lower border is violated\n"
     ]
    },
    {
     "name": "stdout",
     "output_type": "stream",
     "text": [
      "0.507856918052 -1.83011154415\n",
      "calculation so far took 257.3122184276581  seconds\n",
      "step  53 of  1000\n",
      "0.507856918052 -1.72019937174\n",
      "calculation so far took 262.9940071105957  seconds\n",
      "step  54 of  1000\n",
      "0.507856918052 -1.6721656169\n",
      "calculation so far took 268.36143350601196  seconds\n",
      "step  55 of  1000\n",
      "0.507856918052 -1.97358119513\n",
      "calculation so far took 273.53434228897095  seconds\n",
      "step  56 of  1000\n"
     ]
    },
    {
     "name": "stderr",
     "output_type": "stream",
     "text": [
      "Traceback (most recent call last):\n",
      "  File \"/home/philcox/Chempy/Chempy/cem_function.py\", line 884, in posterior_function_many_stars\n",
      "    posterior, blobs = posterior_function_many_stars_real(changing_parameter,error_list,elements)\n",
      "  File \"/home/philcox/Chempy/Chempy/cem_function.py\", line 922, in posterior_function_many_stars_real\n",
      "    abundance_list,element_list = posterior_function_returning_predictions(args)\n",
      "  File \"/home/philcox/Chempy/Chempy/cem_function.py\", line 484, in posterior_function_returning_predictions\n",
      "    posterior, abundance_list, element_list = posterior_function_predictions(changing_parameter,a)\n",
      "  File \"/home/philcox/Chempy/Chempy/cem_function.py\", line 494, in posterior_function_predictions\n",
      "    a = extract_parameters_and_priors(changing_parameter, a)\n",
      "  File \"/home/philcox/Chempy/Chempy/cem_function.py\", line 721, in extract_parameters_and_priors\n",
      "    assert False, '%s upper border is violated' %(name)\n",
      "AssertionError: outflow_feedback_fraction upper border is violated\n"
     ]
    },
    {
     "name": "stdout",
     "output_type": "stream",
     "text": [
      "0.507856918052 -1.91924206473\n",
      "calculation so far took 278.07172179222107  seconds\n",
      "step  57 of  1000\n",
      "0.507856918052 -1.85274293306\n",
      "calculation so far took 282.1076149940491  seconds\n",
      "step  58 of  1000\n",
      "0.507856918052 -1.83997636649\n",
      "calculation so far took 286.17967796325684  seconds\n",
      "step  59 of  1000\n"
     ]
    },
    {
     "name": "stderr",
     "output_type": "stream",
     "text": [
      "Traceback (most recent call last):\n",
      "  File \"/home/philcox/Chempy/Chempy/cem_function.py\", line 884, in posterior_function_many_stars\n",
      "    posterior, blobs = posterior_function_many_stars_real(changing_parameter,error_list,elements)\n",
      "  File \"/home/philcox/Chempy/Chempy/cem_function.py\", line 922, in posterior_function_many_stars_real\n",
      "    abundance_list,element_list = posterior_function_returning_predictions(args)\n",
      "  File \"/home/philcox/Chempy/Chempy/cem_function.py\", line 484, in posterior_function_returning_predictions\n",
      "    posterior, abundance_list, element_list = posterior_function_predictions(changing_parameter,a)\n",
      "  File \"/home/philcox/Chempy/Chempy/cem_function.py\", line 494, in posterior_function_predictions\n",
      "    a = extract_parameters_and_priors(changing_parameter, a)\n",
      "  File \"/home/philcox/Chempy/Chempy/cem_function.py\", line 721, in extract_parameters_and_priors\n",
      "    assert False, '%s upper border is violated' %(name)\n",
      "AssertionError: outflow_feedback_fraction upper border is violated\n"
     ]
    },
    {
     "name": "stdout",
     "output_type": "stream",
     "text": [
      "0.507856918052 -1.8279074583\n",
      "calculation so far took 290.23765802383423  seconds\n",
      "step  60 of  1000\n",
      "0.507856918052 -1.92733494827\n",
      "calculation so far took 294.20943903923035  seconds\n",
      "step  61 of  1000\n",
      "0.507856918052 -1.91994550397\n",
      "calculation so far took 298.1963608264923  seconds\n",
      "step  62 of  1000\n",
      "0.507856918052 -2.05519654272\n",
      "calculation so far took 302.1439070701599  seconds\n",
      "step  63 of  1000\n"
     ]
    },
    {
     "name": "stderr",
     "output_type": "stream",
     "text": [
      "Traceback (most recent call last):\n",
      "  File \"/home/philcox/Chempy/Chempy/cem_function.py\", line 884, in posterior_function_many_stars\n",
      "    posterior, blobs = posterior_function_many_stars_real(changing_parameter,error_list,elements)\n",
      "  File \"/home/philcox/Chempy/Chempy/cem_function.py\", line 922, in posterior_function_many_stars_real\n",
      "    abundance_list,element_list = posterior_function_returning_predictions(args)\n",
      "  File \"/home/philcox/Chempy/Chempy/cem_function.py\", line 484, in posterior_function_returning_predictions\n",
      "    posterior, abundance_list, element_list = posterior_function_predictions(changing_parameter,a)\n",
      "  File \"/home/philcox/Chempy/Chempy/cem_function.py\", line 494, in posterior_function_predictions\n",
      "    a = extract_parameters_and_priors(changing_parameter, a)\n",
      "  File \"/home/philcox/Chempy/Chempy/cem_function.py\", line 719, in extract_parameters_and_priors\n",
      "    assert False, '%s lower border is violated' %(name)\n",
      "AssertionError: log10_sfr_scale lower border is violated\n"
     ]
    },
    {
     "name": "stdout",
     "output_type": "stream",
     "text": [
      "0.507856918052 -2.16144889205\n",
      "calculation so far took 306.0882890224457  seconds\n",
      "step  64 of  1000\n",
      "0.507856918052 -2.16625538045\n",
      "calculation so far took 310.11835837364197  seconds\n",
      "step  65 of  1000\n"
     ]
    },
    {
     "name": "stderr",
     "output_type": "stream",
     "text": [
      "Traceback (most recent call last):\n",
      "  File \"/home/philcox/Chempy/Chempy/cem_function.py\", line 884, in posterior_function_many_stars\n",
      "    posterior, blobs = posterior_function_many_stars_real(changing_parameter,error_list,elements)\n",
      "  File \"/home/philcox/Chempy/Chempy/cem_function.py\", line 922, in posterior_function_many_stars_real\n",
      "    abundance_list,element_list = posterior_function_returning_predictions(args)\n",
      "  File \"/home/philcox/Chempy/Chempy/cem_function.py\", line 484, in posterior_function_returning_predictions\n",
      "    posterior, abundance_list, element_list = posterior_function_predictions(changing_parameter,a)\n",
      "  File \"/home/philcox/Chempy/Chempy/cem_function.py\", line 494, in posterior_function_predictions\n",
      "    a = extract_parameters_and_priors(changing_parameter, a)\n",
      "  File \"/home/philcox/Chempy/Chempy/cem_function.py\", line 721, in extract_parameters_and_priors\n",
      "    assert False, '%s upper border is violated' %(name)\n",
      "AssertionError: outflow_feedback_fraction upper border is violated\n"
     ]
    },
    {
     "name": "stdout",
     "output_type": "stream",
     "text": [
      "0.507856918052 -1.98374023759\n",
      "calculation so far took 314.3628959655762  seconds\n",
      "step  66 of  1000\n",
      "0.507856918052 -1.87060016271\n",
      "calculation so far took 318.3629734516144  seconds\n",
      "step  67 of  1000\n",
      "0.507856918052 -1.95316722316\n",
      "calculation so far took 323.4801969528198  seconds\n",
      "step  68 of  1000\n"
     ]
    },
    {
     "name": "stderr",
     "output_type": "stream",
     "text": [
      "Traceback (most recent call last):\n",
      "  File \"/home/philcox/Chempy/Chempy/cem_function.py\", line 884, in posterior_function_many_stars\n",
      "    posterior, blobs = posterior_function_many_stars_real(changing_parameter,error_list,elements)\n",
      "  File \"/home/philcox/Chempy/Chempy/cem_function.py\", line 922, in posterior_function_many_stars_real\n",
      "    abundance_list,element_list = posterior_function_returning_predictions(args)\n",
      "  File \"/home/philcox/Chempy/Chempy/cem_function.py\", line 484, in posterior_function_returning_predictions\n",
      "    posterior, abundance_list, element_list = posterior_function_predictions(changing_parameter,a)\n",
      "  File \"/home/philcox/Chempy/Chempy/cem_function.py\", line 494, in posterior_function_predictions\n",
      "    a = extract_parameters_and_priors(changing_parameter, a)\n",
      "  File \"/home/philcox/Chempy/Chempy/cem_function.py\", line 719, in extract_parameters_and_priors\n",
      "    assert False, '%s lower border is violated' %(name)\n",
      "AssertionError: log10_sfr_scale lower border is violated\n"
     ]
    },
    {
     "name": "stdout",
     "output_type": "stream",
     "text": [
      "0.507856918052 -1.73862484224\n",
      "calculation so far took 329.79980850219727  seconds\n",
      "step  69 of  1000\n",
      "0.507856918052 -1.91250681771\n",
      "calculation so far took 336.6233856678009  seconds\n",
      "step  70 of  1000\n"
     ]
    },
    {
     "name": "stderr",
     "output_type": "stream",
     "text": [
      "Traceback (most recent call last):\n",
      "  File \"/home/philcox/Chempy/Chempy/cem_function.py\", line 922, in posterior_function_many_stars_real\n",
      "    abundance_list,element_list = posterior_function_returning_predictions(args)\n",
      "  File \"/home/philcox/Chempy/Chempy/cem_function.py\", line 884, in posterior_function_many_stars\n",
      "    posterior, blobs = posterior_function_many_stars_real(changing_parameter,error_list,elements)\n",
      "  File \"/home/philcox/Chempy/Chempy/cem_function.py\", line 484, in posterior_function_returning_predictions\n",
      "    posterior, abundance_list, element_list = posterior_function_predictions(changing_parameter,a)\n",
      "  File \"/home/philcox/Chempy/Chempy/cem_function.py\", line 494, in posterior_function_predictions\n",
      "    a = extract_parameters_and_priors(changing_parameter, a)\n",
      "  File \"/home/philcox/Chempy/Chempy/cem_function.py\", line 719, in extract_parameters_and_priors\n",
      "    assert False, '%s lower border is violated' %(name)\n",
      "AssertionError: outflow_feedback_fraction lower border is violated\n"
     ]
    },
    {
     "name": "stdout",
     "output_type": "stream",
     "text": [
      "0.507856918052 -1.88393693376\n",
      "calculation so far took 342.8586208820343  seconds\n",
      "step  71 of  1000\n",
      "0.507856918052 -1.82062320491\n",
      "calculation so far took 349.35642981529236  seconds\n",
      "step  72 of  1000\n",
      "0.507856918052 -1.71911621504\n",
      "calculation so far took 356.26849126815796  seconds\n",
      "step  73 of  1000\n",
      "0.507856918052 -1.88047739954\n",
      "calculation so far took 362.6261200904846  seconds\n",
      "step  74 of  1000\n",
      "0.507856918052 -1.99811320706\n",
      "calculation so far took 369.0495455265045  seconds\n",
      "step  75 of  1000\n",
      "0.507856918052 -1.8751961137\n",
      "calculation so far took 375.8946342468262  seconds\n",
      "step  76 of  1000\n"
     ]
    },
    {
     "name": "stderr",
     "output_type": "stream",
     "text": [
      "Traceback (most recent call last):\n",
      "  File \"/home/philcox/Chempy/Chempy/cem_function.py\", line 884, in posterior_function_many_stars\n",
      "    posterior, blobs = posterior_function_many_stars_real(changing_parameter,error_list,elements)\n",
      "  File \"/home/philcox/Chempy/Chempy/cem_function.py\", line 922, in posterior_function_many_stars_real\n",
      "    abundance_list,element_list = posterior_function_returning_predictions(args)\n",
      "  File \"/home/philcox/Chempy/Chempy/cem_function.py\", line 484, in posterior_function_returning_predictions\n",
      "    posterior, abundance_list, element_list = posterior_function_predictions(changing_parameter,a)\n",
      "  File \"/home/philcox/Chempy/Chempy/cem_function.py\", line 494, in posterior_function_predictions\n",
      "    a = extract_parameters_and_priors(changing_parameter, a)\n",
      "  File \"/home/philcox/Chempy/Chempy/cem_function.py\", line 721, in extract_parameters_and_priors\n",
      "    assert False, '%s upper border is violated' %(name)\n",
      "AssertionError: outflow_feedback_fraction upper border is violated\n"
     ]
    },
    {
     "name": "stdout",
     "output_type": "stream",
     "text": [
      "0.507856918052 -1.82714763651\n",
      "calculation so far took 382.27613949775696  seconds\n",
      "step  77 of  1000\n",
      "0.507856918052 -2.0771988786\n",
      "calculation so far took 388.8211097717285  seconds\n",
      "step  78 of  1000\n",
      "0.507856918052 -2.30043244256\n",
      "calculation so far took 395.4316952228546  seconds\n",
      "step  79 of  1000\n"
     ]
    },
    {
     "name": "stderr",
     "output_type": "stream",
     "text": [
      "Traceback (most recent call last):\n",
      "  File \"/home/philcox/Chempy/Chempy/cem_function.py\", line 884, in posterior_function_many_stars\n",
      "    posterior, blobs = posterior_function_many_stars_real(changing_parameter,error_list,elements)\n",
      "  File \"/home/philcox/Chempy/Chempy/cem_function.py\", line 922, in posterior_function_many_stars_real\n",
      "    abundance_list,element_list = posterior_function_returning_predictions(args)\n",
      "  File \"/home/philcox/Chempy/Chempy/cem_function.py\", line 484, in posterior_function_returning_predictions\n",
      "    posterior, abundance_list, element_list = posterior_function_predictions(changing_parameter,a)\n",
      "  File \"/home/philcox/Chempy/Chempy/cem_function.py\", line 494, in posterior_function_predictions\n",
      "    a = extract_parameters_and_priors(changing_parameter, a)\n",
      "  File \"/home/philcox/Chempy/Chempy/cem_function.py\", line 719, in extract_parameters_and_priors\n",
      "    assert False, '%s lower border is violated' %(name)\n",
      "AssertionError: outflow_feedback_fraction lower border is violated\n"
     ]
    },
    {
     "name": "stdout",
     "output_type": "stream",
     "text": [
      "0.507856918052 -2.04816654518\n",
      "calculation so far took 402.0048143863678  seconds\n",
      "step  80 of  1000\n",
      "0.507856918052 -1.98595405839\n",
      "calculation so far took 408.50988817214966  seconds\n",
      "step  81 of  1000\n",
      "0.507856918052 -1.89455388937\n",
      "calculation so far took 415.5099492073059  seconds\n",
      "step  82 of  1000\n"
     ]
    },
    {
     "name": "stderr",
     "output_type": "stream",
     "text": [
      "Traceback (most recent call last):\n",
      "  File \"/home/philcox/Chempy/Chempy/cem_function.py\", line 884, in posterior_function_many_stars\n",
      "    posterior, blobs = posterior_function_many_stars_real(changing_parameter,error_list,elements)\n",
      "  File \"/home/philcox/Chempy/Chempy/cem_function.py\", line 922, in posterior_function_many_stars_real\n",
      "    abundance_list,element_list = posterior_function_returning_predictions(args)\n",
      "  File \"/home/philcox/Chempy/Chempy/cem_function.py\", line 484, in posterior_function_returning_predictions\n",
      "    posterior, abundance_list, element_list = posterior_function_predictions(changing_parameter,a)\n",
      "  File \"/home/philcox/Chempy/Chempy/cem_function.py\", line 494, in posterior_function_predictions\n",
      "    a = extract_parameters_and_priors(changing_parameter, a)\n",
      "  File \"/home/philcox/Chempy/Chempy/cem_function.py\", line 719, in extract_parameters_and_priors\n",
      "    assert False, '%s lower border is violated' %(name)\n",
      "AssertionError: log10_sfr_scale lower border is violated\n"
     ]
    },
    {
     "name": "stdout",
     "output_type": "stream",
     "text": [
      "0.507856918052 -1.95949921787\n",
      "calculation so far took 422.01352405548096  seconds\n",
      "step  83 of  1000\n"
     ]
    },
    {
     "name": "stderr",
     "output_type": "stream",
     "text": [
      "Traceback (most recent call last):\n",
      "  File \"/home/philcox/Chempy/Chempy/cem_function.py\", line 884, in posterior_function_many_stars\n",
      "    posterior, blobs = posterior_function_many_stars_real(changing_parameter,error_list,elements)\n",
      "  File \"/home/philcox/Chempy/Chempy/cem_function.py\", line 922, in posterior_function_many_stars_real\n",
      "    abundance_list,element_list = posterior_function_returning_predictions(args)\n",
      "  File \"/home/philcox/Chempy/Chempy/cem_function.py\", line 484, in posterior_function_returning_predictions\n",
      "    posterior, abundance_list, element_list = posterior_function_predictions(changing_parameter,a)\n",
      "  File \"/home/philcox/Chempy/Chempy/cem_function.py\", line 494, in posterior_function_predictions\n",
      "    a = extract_parameters_and_priors(changing_parameter, a)\n",
      "  File \"/home/philcox/Chempy/Chempy/cem_function.py\", line 721, in extract_parameters_and_priors\n",
      "    assert False, '%s upper border is violated' %(name)\n",
      "AssertionError: log10_sfr_scale upper border is violated\n"
     ]
    },
    {
     "name": "stdout",
     "output_type": "stream",
     "text": [
      "0.507856918052 -1.82803732234\n",
      "calculation so far took 428.0901963710785  seconds\n",
      "step  84 of  1000\n",
      "0.507856918052 -2.10948368358\n",
      "calculation so far took 434.81755352020264  seconds\n",
      "step  85 of  1000\n",
      "0.507856918052 -2.15163122255\n",
      "calculation so far took 441.7999258041382  seconds\n",
      "step  86 of  1000\n",
      "0.507856918052 -2.12650838887\n",
      "calculation so far took 448.57705450057983  seconds\n",
      "step  87 of  1000\n"
     ]
    },
    {
     "name": "stderr",
     "output_type": "stream",
     "text": [
      "Traceback (most recent call last):\n",
      "  File \"/home/philcox/Chempy/Chempy/cem_function.py\", line 884, in posterior_function_many_stars\n",
      "    posterior, blobs = posterior_function_many_stars_real(changing_parameter,error_list,elements)\n",
      "  File \"/home/philcox/Chempy/Chempy/cem_function.py\", line 922, in posterior_function_many_stars_real\n",
      "    abundance_list,element_list = posterior_function_returning_predictions(args)\n",
      "  File \"/home/philcox/Chempy/Chempy/cem_function.py\", line 484, in posterior_function_returning_predictions\n",
      "    posterior, abundance_list, element_list = posterior_function_predictions(changing_parameter,a)\n",
      "  File \"/home/philcox/Chempy/Chempy/cem_function.py\", line 494, in posterior_function_predictions\n",
      "    a = extract_parameters_and_priors(changing_parameter, a)\n",
      "  File \"/home/philcox/Chempy/Chempy/cem_function.py\", line 721, in extract_parameters_and_priors\n",
      "    assert False, '%s upper border is violated' %(name)\n",
      "AssertionError: log10_sfr_scale upper border is violated\n"
     ]
    },
    {
     "name": "stdout",
     "output_type": "stream",
     "text": [
      "0.507856918052 -1.93043167686\n",
      "calculation so far took 455.22392296791077  seconds\n",
      "step  88 of  1000\n"
     ]
    },
    {
     "name": "stderr",
     "output_type": "stream",
     "text": [
      "Traceback (most recent call last):\n",
      "  File \"/home/philcox/Chempy/Chempy/cem_function.py\", line 884, in posterior_function_many_stars\n",
      "    posterior, blobs = posterior_function_many_stars_real(changing_parameter,error_list,elements)\n",
      "  File \"/home/philcox/Chempy/Chempy/cem_function.py\", line 922, in posterior_function_many_stars_real\n",
      "    abundance_list,element_list = posterior_function_returning_predictions(args)\n",
      "  File \"/home/philcox/Chempy/Chempy/cem_function.py\", line 484, in posterior_function_returning_predictions\n",
      "    posterior, abundance_list, element_list = posterior_function_predictions(changing_parameter,a)\n",
      "  File \"/home/philcox/Chempy/Chempy/cem_function.py\", line 494, in posterior_function_predictions\n",
      "    a = extract_parameters_and_priors(changing_parameter, a)\n",
      "  File \"/home/philcox/Chempy/Chempy/cem_function.py\", line 719, in extract_parameters_and_priors\n",
      "    assert False, '%s lower border is violated' %(name)\n",
      "AssertionError: outflow_feedback_fraction lower border is violated\n"
     ]
    },
    {
     "name": "stdout",
     "output_type": "stream",
     "text": [
      "0.507856918052 -2.15053631541\n",
      "calculation so far took 461.48312759399414  seconds\n",
      "step  89 of  1000\n",
      "0.507856918052 -2.24156745477\n",
      "calculation so far took 468.4276440143585  seconds\n",
      "step  90 of  1000\n",
      "0.507856918052 -2.09396428878\n",
      "calculation so far took 475.3262028694153  seconds\n",
      "step  91 of  1000\n"
     ]
    },
    {
     "name": "stderr",
     "output_type": "stream",
     "text": [
      "Traceback (most recent call last):\n",
      "  File \"/home/philcox/Chempy/Chempy/cem_function.py\", line 884, in posterior_function_many_stars\n",
      "    posterior, blobs = posterior_function_many_stars_real(changing_parameter,error_list,elements)\n",
      "  File \"/home/philcox/Chempy/Chempy/cem_function.py\", line 922, in posterior_function_many_stars_real\n",
      "    abundance_list,element_list = posterior_function_returning_predictions(args)\n",
      "  File \"/home/philcox/Chempy/Chempy/cem_function.py\", line 484, in posterior_function_returning_predictions\n",
      "    posterior, abundance_list, element_list = posterior_function_predictions(changing_parameter,a)\n",
      "  File \"/home/philcox/Chempy/Chempy/cem_function.py\", line 494, in posterior_function_predictions\n",
      "    a = extract_parameters_and_priors(changing_parameter, a)\n",
      "  File \"/home/philcox/Chempy/Chempy/cem_function.py\", line 721, in extract_parameters_and_priors\n",
      "    assert False, '%s upper border is violated' %(name)\n",
      "AssertionError: log10_sfr_scale upper border is violated\n"
     ]
    },
    {
     "name": "stdout",
     "output_type": "stream",
     "text": [
      "0.507856918052 -2.06203283117\n",
      "calculation so far took 482.0170702934265  seconds\n",
      "step  92 of  1000\n"
     ]
    },
    {
     "name": "stderr",
     "output_type": "stream",
     "text": [
      "Traceback (most recent call last):\n",
      "  File \"/home/philcox/Chempy/Chempy/cem_function.py\", line 884, in posterior_function_many_stars\n",
      "    posterior, blobs = posterior_function_many_stars_real(changing_parameter,error_list,elements)\n",
      "  File \"/home/philcox/Chempy/Chempy/cem_function.py\", line 922, in posterior_function_many_stars_real\n",
      "    abundance_list,element_list = posterior_function_returning_predictions(args)\n",
      "  File \"/home/philcox/Chempy/Chempy/cem_function.py\", line 484, in posterior_function_returning_predictions\n",
      "    posterior, abundance_list, element_list = posterior_function_predictions(changing_parameter,a)\n",
      "  File \"/home/philcox/Chempy/Chempy/cem_function.py\", line 494, in posterior_function_predictions\n",
      "    a = extract_parameters_and_priors(changing_parameter, a)\n",
      "  File \"/home/philcox/Chempy/Chempy/cem_function.py\", line 721, in extract_parameters_and_priors\n",
      "    assert False, '%s upper border is violated' %(name)\n",
      "AssertionError: log10_sfr_scale upper border is violated\n"
     ]
    },
    {
     "name": "stdout",
     "output_type": "stream",
     "text": [
      "0.507856918052 -2.26179151924\n",
      "calculation so far took 488.3836030960083  seconds\n",
      "step  93 of  1000\n"
     ]
    },
    {
     "name": "stderr",
     "output_type": "stream",
     "text": [
      "Traceback (most recent call last):\n",
      "  File \"/home/philcox/Chempy/Chempy/cem_function.py\", line 884, in posterior_function_many_stars\n",
      "    posterior, blobs = posterior_function_many_stars_real(changing_parameter,error_list,elements)\n",
      "  File \"/home/philcox/Chempy/Chempy/cem_function.py\", line 922, in posterior_function_many_stars_real\n",
      "    abundance_list,element_list = posterior_function_returning_predictions(args)\n",
      "  File \"/home/philcox/Chempy/Chempy/cem_function.py\", line 484, in posterior_function_returning_predictions\n",
      "    posterior, abundance_list, element_list = posterior_function_predictions(changing_parameter,a)\n",
      "  File \"/home/philcox/Chempy/Chempy/cem_function.py\", line 494, in posterior_function_predictions\n",
      "    a = extract_parameters_and_priors(changing_parameter, a)\n",
      "  File \"/home/philcox/Chempy/Chempy/cem_function.py\", line 719, in extract_parameters_and_priors\n",
      "    assert False, '%s lower border is violated' %(name)\n",
      "AssertionError: outflow_feedback_fraction lower border is violated\n",
      "Traceback (most recent call last):\n",
      "  File \"/home/philcox/Chempy/Chempy/cem_function.py\", line 884, in posterior_function_many_stars\n",
      "    posterior, blobs = posterior_function_many_stars_real(changing_parameter,error_list,elements)\n",
      "  File \"/home/philcox/Chempy/Chempy/cem_function.py\", line 922, in posterior_function_many_stars_real\n",
      "    abundance_list,element_list = posterior_function_returning_predictions(args)\n",
      "  File \"/home/philcox/Chempy/Chempy/cem_function.py\", line 484, in posterior_function_returning_predictions\n",
      "    posterior, abundance_list, element_list = posterior_function_predictions(changing_parameter,a)\n",
      "  File \"/home/philcox/Chempy/Chempy/cem_function.py\", line 494, in posterior_function_predictions\n",
      "    a = extract_parameters_and_priors(changing_parameter, a)\n",
      "  File \"/home/philcox/Chempy/Chempy/cem_function.py\", line 721, in extract_parameters_and_priors\n",
      "    assert False, '%s upper border is violated' %(name)\n",
      "AssertionError: log10_sfr_scale upper border is violated\n"
     ]
    },
    {
     "name": "stdout",
     "output_type": "stream",
     "text": [
      "0.507856918052 -2.39793220367\n",
      "calculation so far took 494.61725330352783  seconds\n",
      "step  94 of  1000\n"
     ]
    },
    {
     "name": "stderr",
     "output_type": "stream",
     "text": [
      "Traceback (most recent call last):\n",
      "  File \"/home/philcox/Chempy/Chempy/cem_function.py\", line 884, in posterior_function_many_stars\n",
      "    posterior, blobs = posterior_function_many_stars_real(changing_parameter,error_list,elements)\n",
      "  File \"/home/philcox/Chempy/Chempy/cem_function.py\", line 922, in posterior_function_many_stars_real\n",
      "    abundance_list,element_list = posterior_function_returning_predictions(args)\n",
      "  File \"/home/philcox/Chempy/Chempy/cem_function.py\", line 484, in posterior_function_returning_predictions\n",
      "    posterior, abundance_list, element_list = posterior_function_predictions(changing_parameter,a)\n",
      "  File \"/home/philcox/Chempy/Chempy/cem_function.py\", line 494, in posterior_function_predictions\n",
      "    a = extract_parameters_and_priors(changing_parameter, a)\n",
      "  File \"/home/philcox/Chempy/Chempy/cem_function.py\", line 721, in extract_parameters_and_priors\n",
      "    assert False, '%s upper border is violated' %(name)\n",
      "AssertionError: log10_sfr_scale upper border is violated\n",
      "Traceback (most recent call last):\n",
      "  File \"/home/philcox/Chempy/Chempy/cem_function.py\", line 884, in posterior_function_many_stars\n",
      "    posterior, blobs = posterior_function_many_stars_real(changing_parameter,error_list,elements)\n",
      "  File \"/home/philcox/Chempy/Chempy/cem_function.py\", line 922, in posterior_function_many_stars_real\n",
      "    abundance_list,element_list = posterior_function_returning_predictions(args)\n",
      "  File \"/home/philcox/Chempy/Chempy/cem_function.py\", line 484, in posterior_function_returning_predictions\n",
      "    posterior, abundance_list, element_list = posterior_function_predictions(changing_parameter,a)\n",
      "  File \"/home/philcox/Chempy/Chempy/cem_function.py\", line 494, in posterior_function_predictions\n",
      "    a = extract_parameters_and_priors(changing_parameter, a)\n",
      "  File \"/home/philcox/Chempy/Chempy/cem_function.py\", line 719, in extract_parameters_and_priors\n",
      "    assert False, '%s lower border is violated' %(name)\n",
      "AssertionError: outflow_feedback_fraction lower border is violated\n"
     ]
    },
    {
     "name": "stdout",
     "output_type": "stream",
     "text": [
      "0.507856918052 -2.44350995262\n",
      "calculation so far took 500.24523735046387  seconds\n",
      "step  95 of  1000\n"
     ]
    },
    {
     "name": "stderr",
     "output_type": "stream",
     "text": [
      "Traceback (most recent call last):\n",
      "  File \"/home/philcox/Chempy/Chempy/cem_function.py\", line 884, in posterior_function_many_stars\n",
      "    posterior, blobs = posterior_function_many_stars_real(changing_parameter,error_list,elements)\n",
      "  File \"/home/philcox/Chempy/Chempy/cem_function.py\", line 922, in posterior_function_many_stars_real\n",
      "    abundance_list,element_list = posterior_function_returning_predictions(args)\n",
      "  File \"/home/philcox/Chempy/Chempy/cem_function.py\", line 484, in posterior_function_returning_predictions\n",
      "    posterior, abundance_list, element_list = posterior_function_predictions(changing_parameter,a)\n",
      "  File \"/home/philcox/Chempy/Chempy/cem_function.py\", line 494, in posterior_function_predictions\n",
      "    a = extract_parameters_and_priors(changing_parameter, a)\n",
      "  File \"/home/philcox/Chempy/Chempy/cem_function.py\", line 721, in extract_parameters_and_priors\n",
      "    assert False, '%s upper border is violated' %(name)\n",
      "AssertionError: log10_sfr_scale upper border is violated\n",
      "Traceback (most recent call last):\n",
      "  File \"/home/philcox/Chempy/Chempy/cem_function.py\", line 884, in posterior_function_many_stars\n",
      "    posterior, blobs = posterior_function_many_stars_real(changing_parameter,error_list,elements)\n",
      "  File \"/home/philcox/Chempy/Chempy/cem_function.py\", line 922, in posterior_function_many_stars_real\n",
      "    abundance_list,element_list = posterior_function_returning_predictions(args)\n",
      "  File \"/home/philcox/Chempy/Chempy/cem_function.py\", line 484, in posterior_function_returning_predictions\n",
      "    posterior, abundance_list, element_list = posterior_function_predictions(changing_parameter,a)\n",
      "  File \"/home/philcox/Chempy/Chempy/cem_function.py\", line 494, in posterior_function_predictions\n",
      "    a = extract_parameters_and_priors(changing_parameter, a)\n",
      "  File \"/home/philcox/Chempy/Chempy/cem_function.py\", line 719, in extract_parameters_and_priors\n",
      "    assert False, '%s lower border is violated' %(name)\n",
      "AssertionError: log10_sfr_scale lower border is violated\n",
      "Traceback (most recent call last):\n",
      "  File \"/home/philcox/Chempy/Chempy/cem_function.py\", line 884, in posterior_function_many_stars\n",
      "    posterior, blobs = posterior_function_many_stars_real(changing_parameter,error_list,elements)\n",
      "  File \"/home/philcox/Chempy/Chempy/cem_function.py\", line 922, in posterior_function_many_stars_real\n",
      "    abundance_list,element_list = posterior_function_returning_predictions(args)\n",
      "  File \"/home/philcox/Chempy/Chempy/cem_function.py\", line 484, in posterior_function_returning_predictions\n",
      "    posterior, abundance_list, element_list = posterior_function_predictions(changing_parameter,a)\n",
      "  File \"/home/philcox/Chempy/Chempy/cem_function.py\", line 494, in posterior_function_predictions\n",
      "    a = extract_parameters_and_priors(changing_parameter, a)\n",
      "  File \"/home/philcox/Chempy/Chempy/cem_function.py\", line 721, in extract_parameters_and_priors\n",
      "    assert False, '%s upper border is violated' %(name)\n",
      "AssertionError: log10_sfr_scale upper border is violated\n"
     ]
    },
    {
     "name": "stdout",
     "output_type": "stream",
     "text": [
      "0.507856918052 -2.41851297641\n",
      "calculation so far took 505.8882739543915  seconds\n",
      "step  96 of  1000\n",
      "0.507856918052 -2.0405777205\n",
      "calculation so far took 511.5708210468292  seconds\n",
      "step  97 of  1000\n"
     ]
    },
    {
     "name": "stderr",
     "output_type": "stream",
     "text": [
      "Traceback (most recent call last):\n",
      "  File \"/home/philcox/Chempy/Chempy/cem_function.py\", line 884, in posterior_function_many_stars\n",
      "    posterior, blobs = posterior_function_many_stars_real(changing_parameter,error_list,elements)\n",
      "  File \"/home/philcox/Chempy/Chempy/cem_function.py\", line 922, in posterior_function_many_stars_real\n",
      "    abundance_list,element_list = posterior_function_returning_predictions(args)\n",
      "  File \"/home/philcox/Chempy/Chempy/cem_function.py\", line 484, in posterior_function_returning_predictions\n",
      "    posterior, abundance_list, element_list = posterior_function_predictions(changing_parameter,a)\n",
      "  File \"/home/philcox/Chempy/Chempy/cem_function.py\", line 494, in posterior_function_predictions\n",
      "    a = extract_parameters_and_priors(changing_parameter, a)\n",
      "  File \"/home/philcox/Chempy/Chempy/cem_function.py\", line 721, in extract_parameters_and_priors\n",
      "    assert False, '%s upper border is violated' %(name)\n",
      "AssertionError: outflow_feedback_fraction upper border is violated\n"
     ]
    },
    {
     "name": "stdout",
     "output_type": "stream",
     "text": [
      "0.507856918052 -1.88293976745\n",
      "calculation so far took 517.1420121192932  seconds\n",
      "step  98 of  1000\n",
      "0.507856918052 -2.04531726728\n",
      "calculation so far took 522.7701320648193  seconds\n",
      "step  99 of  1000\n",
      "0.507856918052 -2.13103487361\n",
      "calculation so far took 528.438716173172  seconds\n",
      "step  100 of  1000\n",
      "0.507856918052 -2.0653385202\n",
      "calculation so far took 535.1507897377014  seconds\n",
      "step  101 of  1000\n"
     ]
    },
    {
     "name": "stderr",
     "output_type": "stream",
     "text": [
      "Traceback (most recent call last):\n",
      "  File \"/home/philcox/Chempy/Chempy/cem_function.py\", line 884, in posterior_function_many_stars\n",
      "    posterior, blobs = posterior_function_many_stars_real(changing_parameter,error_list,elements)\n",
      "  File \"/home/philcox/Chempy/Chempy/cem_function.py\", line 922, in posterior_function_many_stars_real\n",
      "    abundance_list,element_list = posterior_function_returning_predictions(args)\n",
      "  File \"/home/philcox/Chempy/Chempy/cem_function.py\", line 484, in posterior_function_returning_predictions\n",
      "    posterior, abundance_list, element_list = posterior_function_predictions(changing_parameter,a)\n",
      "  File \"/home/philcox/Chempy/Chempy/cem_function.py\", line 494, in posterior_function_predictions\n",
      "    a = extract_parameters_and_priors(changing_parameter, a)\n",
      "  File \"/home/philcox/Chempy/Chempy/cem_function.py\", line 721, in extract_parameters_and_priors\n",
      "    assert False, '%s upper border is violated' %(name)\n",
      "AssertionError: outflow_feedback_fraction upper border is violated\n"
     ]
    },
    {
     "name": "stdout",
     "output_type": "stream",
     "text": [
      "0.507856918052 -2.09357478488\n",
      "calculation so far took 540.9229242801666  seconds\n",
      "step  102 of  1000\n",
      "0.507856918052 -2.18894780669\n",
      "calculation so far took 546.538587808609  seconds\n",
      "step  103 of  1000\n",
      "0.507856918052 -1.98840346348\n",
      "calculation so far took 552.0466895103455  seconds\n",
      "step  104 of  1000\n"
     ]
    },
    {
     "name": "stderr",
     "output_type": "stream",
     "text": [
      "Traceback (most recent call last):\n",
      "  File \"/home/philcox/Chempy/Chempy/cem_function.py\", line 884, in posterior_function_many_stars\n",
      "    posterior, blobs = posterior_function_many_stars_real(changing_parameter,error_list,elements)\n",
      "  File \"/home/philcox/Chempy/Chempy/cem_function.py\", line 922, in posterior_function_many_stars_real\n",
      "    abundance_list,element_list = posterior_function_returning_predictions(args)\n",
      "  File \"/home/philcox/Chempy/Chempy/cem_function.py\", line 484, in posterior_function_returning_predictions\n",
      "    posterior, abundance_list, element_list = posterior_function_predictions(changing_parameter,a)\n",
      "  File \"/home/philcox/Chempy/Chempy/cem_function.py\", line 494, in posterior_function_predictions\n",
      "    a = extract_parameters_and_priors(changing_parameter, a)\n",
      "  File \"/home/philcox/Chempy/Chempy/cem_function.py\", line 721, in extract_parameters_and_priors\n",
      "    assert False, '%s upper border is violated' %(name)\n",
      "AssertionError: log10_sfr_scale upper border is violated\n"
     ]
    },
    {
     "name": "stdout",
     "output_type": "stream",
     "text": [
      "0.507856918052 -1.91271103525\n",
      "calculation so far took 557.9449429512024  seconds\n",
      "step  105 of  1000\n"
     ]
    },
    {
     "name": "stderr",
     "output_type": "stream",
     "text": [
      "Traceback (most recent call last):\n",
      "  File \"/home/philcox/Chempy/Chempy/cem_function.py\", line 884, in posterior_function_many_stars\n",
      "    posterior, blobs = posterior_function_many_stars_real(changing_parameter,error_list,elements)\n",
      "  File \"/home/philcox/Chempy/Chempy/cem_function.py\", line 922, in posterior_function_many_stars_real\n",
      "    abundance_list,element_list = posterior_function_returning_predictions(args)\n",
      "  File \"/home/philcox/Chempy/Chempy/cem_function.py\", line 484, in posterior_function_returning_predictions\n",
      "    posterior, abundance_list, element_list = posterior_function_predictions(changing_parameter,a)\n",
      "  File \"/home/philcox/Chempy/Chempy/cem_function.py\", line 494, in posterior_function_predictions\n",
      "    a = extract_parameters_and_priors(changing_parameter, a)\n",
      "  File \"/home/philcox/Chempy/Chempy/cem_function.py\", line 721, in extract_parameters_and_priors\n",
      "    assert False, '%s upper border is violated' %(name)\n",
      "AssertionError: log10_sfr_scale upper border is violated\n",
      "Traceback (most recent call last):\n",
      "  File \"/home/philcox/Chempy/Chempy/cem_function.py\", line 884, in posterior_function_many_stars\n",
      "    posterior, blobs = posterior_function_many_stars_real(changing_parameter,error_list,elements)\n",
      "  File \"/home/philcox/Chempy/Chempy/cem_function.py\", line 922, in posterior_function_many_stars_real\n",
      "    abundance_list,element_list = posterior_function_returning_predictions(args)\n",
      "  File \"/home/philcox/Chempy/Chempy/cem_function.py\", line 484, in posterior_function_returning_predictions\n",
      "    posterior, abundance_list, element_list = posterior_function_predictions(changing_parameter,a)\n",
      "  File \"/home/philcox/Chempy/Chempy/cem_function.py\", line 494, in posterior_function_predictions\n",
      "    a = extract_parameters_and_priors(changing_parameter, a)\n",
      "  File \"/home/philcox/Chempy/Chempy/cem_function.py\", line 721, in extract_parameters_and_priors\n",
      "    assert False, '%s upper border is violated' %(name)\n",
      "AssertionError: log10_sfr_scale upper border is violated\n",
      "Traceback (most recent call last):\n",
      "  File \"/home/philcox/Chempy/Chempy/cem_function.py\", line 884, in posterior_function_many_stars\n",
      "    posterior, blobs = posterior_function_many_stars_real(changing_parameter,error_list,elements)\n",
      "  File \"/home/philcox/Chempy/Chempy/cem_function.py\", line 922, in posterior_function_many_stars_real\n",
      "    abundance_list,element_list = posterior_function_returning_predictions(args)\n",
      "  File \"/home/philcox/Chempy/Chempy/cem_function.py\", line 484, in posterior_function_returning_predictions\n",
      "    posterior, abundance_list, element_list = posterior_function_predictions(changing_parameter,a)\n",
      "  File \"/home/philcox/Chempy/Chempy/cem_function.py\", line 494, in posterior_function_predictions\n",
      "    a = extract_parameters_and_priors(changing_parameter, a)\n",
      "  File \"/home/philcox/Chempy/Chempy/cem_function.py\", line 721, in extract_parameters_and_priors\n",
      "    assert False, '%s upper border is violated' %(name)\n",
      "AssertionError: log10_sfr_scale upper border is violated\n"
     ]
    },
    {
     "name": "stdout",
     "output_type": "stream",
     "text": [
      "0.507856918052 -2.04129964128\n",
      "calculation so far took 564.0948352813721  seconds\n",
      "step  106 of  1000\n"
     ]
    },
    {
     "name": "stderr",
     "output_type": "stream",
     "text": [
      "Traceback (most recent call last):\n",
      "  File \"/home/philcox/Chempy/Chempy/cem_function.py\", line 884, in posterior_function_many_stars\n",
      "    posterior, blobs = posterior_function_many_stars_real(changing_parameter,error_list,elements)\n",
      "  File \"/home/philcox/Chempy/Chempy/cem_function.py\", line 922, in posterior_function_many_stars_real\n",
      "    abundance_list,element_list = posterior_function_returning_predictions(args)\n",
      "  File \"/home/philcox/Chempy/Chempy/cem_function.py\", line 484, in posterior_function_returning_predictions\n",
      "    posterior, abundance_list, element_list = posterior_function_predictions(changing_parameter,a)\n",
      "  File \"/home/philcox/Chempy/Chempy/cem_function.py\", line 494, in posterior_function_predictions\n",
      "    a = extract_parameters_and_priors(changing_parameter, a)\n",
      "  File \"/home/philcox/Chempy/Chempy/cem_function.py\", line 721, in extract_parameters_and_priors\n",
      "    assert False, '%s upper border is violated' %(name)\n",
      "AssertionError: outflow_feedback_fraction upper border is violated\n"
     ]
    },
    {
     "name": "stdout",
     "output_type": "stream",
     "text": [
      "0.507856918052 -1.95882221721\n",
      "calculation so far took 570.014570236206  seconds\n",
      "step  107 of  1000\n",
      "0.507856918052 -2.05456646512\n",
      "calculation so far took 575.9080877304077  seconds\n",
      "step  108 of  1000\n"
     ]
    },
    {
     "name": "stderr",
     "output_type": "stream",
     "text": [
      "Traceback (most recent call last):\n",
      "  File \"/home/philcox/Chempy/Chempy/cem_function.py\", line 884, in posterior_function_many_stars\n",
      "    posterior, blobs = posterior_function_many_stars_real(changing_parameter,error_list,elements)\n",
      "  File \"/home/philcox/Chempy/Chempy/cem_function.py\", line 922, in posterior_function_many_stars_real\n",
      "    abundance_list,element_list = posterior_function_returning_predictions(args)\n",
      "  File \"/home/philcox/Chempy/Chempy/cem_function.py\", line 484, in posterior_function_returning_predictions\n",
      "    posterior, abundance_list, element_list = posterior_function_predictions(changing_parameter,a)\n",
      "  File \"/home/philcox/Chempy/Chempy/cem_function.py\", line 494, in posterior_function_predictions\n",
      "    a = extract_parameters_and_priors(changing_parameter, a)\n",
      "  File \"/home/philcox/Chempy/Chempy/cem_function.py\", line 721, in extract_parameters_and_priors\n",
      "    assert False, '%s upper border is violated' %(name)\n",
      "AssertionError: outflow_feedback_fraction upper border is violated\n"
     ]
    },
    {
     "name": "stdout",
     "output_type": "stream",
     "text": [
      "0.507856918052 -1.90097900635\n",
      "calculation so far took 582.396283864975  seconds\n",
      "step  109 of  1000\n"
     ]
    },
    {
     "name": "stderr",
     "output_type": "stream",
     "text": [
      "Traceback (most recent call last):\n",
      "  File \"/home/philcox/Chempy/Chempy/cem_function.py\", line 884, in posterior_function_many_stars\n",
      "    posterior, blobs = posterior_function_many_stars_real(changing_parameter,error_list,elements)\n",
      "  File \"/home/philcox/Chempy/Chempy/cem_function.py\", line 922, in posterior_function_many_stars_real\n",
      "    abundance_list,element_list = posterior_function_returning_predictions(args)\n",
      "  File \"/home/philcox/Chempy/Chempy/cem_function.py\", line 484, in posterior_function_returning_predictions\n",
      "    posterior, abundance_list, element_list = posterior_function_predictions(changing_parameter,a)\n",
      "  File \"/home/philcox/Chempy/Chempy/cem_function.py\", line 494, in posterior_function_predictions\n",
      "    a = extract_parameters_and_priors(changing_parameter, a)\n",
      "  File \"/home/philcox/Chempy/Chempy/cem_function.py\", line 721, in extract_parameters_and_priors\n",
      "    assert False, '%s upper border is violated' %(name)\n",
      "AssertionError: log10_sfr_scale upper border is violated\n"
     ]
    },
    {
     "name": "stdout",
     "output_type": "stream",
     "text": [
      "0.507856918052 -1.92289820368\n",
      "calculation so far took 588.7178170681  seconds\n",
      "step  110 of  1000\n",
      "0.507856918052 -1.92135728572\n",
      "calculation so far took 594.8455190658569  seconds\n",
      "step  111 of  1000\n",
      "0.507856918052 -2.00605002808\n",
      "calculation so far took 601.5370185375214  seconds\n",
      "step  112 of  1000\n"
     ]
    },
    {
     "name": "stderr",
     "output_type": "stream",
     "text": [
      "Traceback (most recent call last):\n",
      "  File \"/home/philcox/Chempy/Chempy/cem_function.py\", line 884, in posterior_function_many_stars\n",
      "    posterior, blobs = posterior_function_many_stars_real(changing_parameter,error_list,elements)\n",
      "  File \"/home/philcox/Chempy/Chempy/cem_function.py\", line 922, in posterior_function_many_stars_real\n",
      "    abundance_list,element_list = posterior_function_returning_predictions(args)\n",
      "  File \"/home/philcox/Chempy/Chempy/cem_function.py\", line 484, in posterior_function_returning_predictions\n",
      "    posterior, abundance_list, element_list = posterior_function_predictions(changing_parameter,a)\n",
      "  File \"/home/philcox/Chempy/Chempy/cem_function.py\", line 494, in posterior_function_predictions\n",
      "    a = extract_parameters_and_priors(changing_parameter, a)\n",
      "  File \"/home/philcox/Chempy/Chempy/cem_function.py\", line 719, in extract_parameters_and_priors\n",
      "    assert False, '%s lower border is violated' %(name)\n",
      "AssertionError: outflow_feedback_fraction lower border is violated\n",
      "Traceback (most recent call last):\n",
      "  File \"/home/philcox/Chempy/Chempy/cem_function.py\", line 884, in posterior_function_many_stars\n",
      "    posterior, blobs = posterior_function_many_stars_real(changing_parameter,error_list,elements)\n",
      "  File \"/home/philcox/Chempy/Chempy/cem_function.py\", line 922, in posterior_function_many_stars_real\n",
      "    abundance_list,element_list = posterior_function_returning_predictions(args)\n",
      "  File \"/home/philcox/Chempy/Chempy/cem_function.py\", line 484, in posterior_function_returning_predictions\n",
      "    posterior, abundance_list, element_list = posterior_function_predictions(changing_parameter,a)\n",
      "  File \"/home/philcox/Chempy/Chempy/cem_function.py\", line 494, in posterior_function_predictions\n",
      "    a = extract_parameters_and_priors(changing_parameter, a)\n",
      "  File \"/home/philcox/Chempy/Chempy/cem_function.py\", line 719, in extract_parameters_and_priors\n",
      "    assert False, '%s lower border is violated' %(name)\n",
      "AssertionError: log10_sfr_scale lower border is violated\n"
     ]
    },
    {
     "name": "stdout",
     "output_type": "stream",
     "text": [
      "0.507856918052 -2.12349494559\n",
      "calculation so far took 607.9587984085083  seconds\n",
      "step  113 of  1000\n"
     ]
    },
    {
     "name": "stderr",
     "output_type": "stream",
     "text": [
      "Traceback (most recent call last):\n",
      "  File \"/home/philcox/Chempy/Chempy/cem_function.py\", line 884, in posterior_function_many_stars\n",
      "    posterior, blobs = posterior_function_many_stars_real(changing_parameter,error_list,elements)\n",
      "  File \"/home/philcox/Chempy/Chempy/cem_function.py\", line 922, in posterior_function_many_stars_real\n",
      "    abundance_list,element_list = posterior_function_returning_predictions(args)\n",
      "  File \"/home/philcox/Chempy/Chempy/cem_function.py\", line 484, in posterior_function_returning_predictions\n",
      "    posterior, abundance_list, element_list = posterior_function_predictions(changing_parameter,a)\n",
      "  File \"/home/philcox/Chempy/Chempy/cem_function.py\", line 494, in posterior_function_predictions\n",
      "    a = extract_parameters_and_priors(changing_parameter, a)\n",
      "  File \"/home/philcox/Chempy/Chempy/cem_function.py\", line 721, in extract_parameters_and_priors\n",
      "    assert False, '%s upper border is violated' %(name)\n",
      "AssertionError: log10_sfr_scale upper border is violated\n"
     ]
    },
    {
     "name": "stdout",
     "output_type": "stream",
     "text": [
      "0.507856918052 -1.97303360571\n",
      "calculation so far took 614.1956372261047  seconds\n",
      "step  114 of  1000\n",
      "0.507856918052 -2.04279456367\n",
      "calculation so far took 620.5544040203094  seconds\n",
      "step  115 of  1000\n"
     ]
    },
    {
     "name": "stderr",
     "output_type": "stream",
     "text": [
      "Traceback (most recent call last):\n",
      "  File \"/home/philcox/Chempy/Chempy/cem_function.py\", line 884, in posterior_function_many_stars\n",
      "    posterior, blobs = posterior_function_many_stars_real(changing_parameter,error_list,elements)\n",
      "  File \"/home/philcox/Chempy/Chempy/cem_function.py\", line 922, in posterior_function_many_stars_real\n",
      "    abundance_list,element_list = posterior_function_returning_predictions(args)\n",
      "  File \"/home/philcox/Chempy/Chempy/cem_function.py\", line 484, in posterior_function_returning_predictions\n",
      "    posterior, abundance_list, element_list = posterior_function_predictions(changing_parameter,a)\n",
      "  File \"/home/philcox/Chempy/Chempy/cem_function.py\", line 494, in posterior_function_predictions\n",
      "    a = extract_parameters_and_priors(changing_parameter, a)\n",
      "  File \"/home/philcox/Chempy/Chempy/cem_function.py\", line 719, in extract_parameters_and_priors\n",
      "    assert False, '%s lower border is violated' %(name)\n",
      "AssertionError: log10_sfr_scale lower border is violated\n"
     ]
    },
    {
     "name": "stdout",
     "output_type": "stream",
     "text": [
      "0.507856918052 -2.25603645022\n",
      "calculation so far took 626.9660413265228  seconds\n",
      "step  116 of  1000\n"
     ]
    },
    {
     "name": "stderr",
     "output_type": "stream",
     "text": [
      "Traceback (most recent call last):\n",
      "  File \"/home/philcox/Chempy/Chempy/cem_function.py\", line 884, in posterior_function_many_stars\n",
      "    posterior, blobs = posterior_function_many_stars_real(changing_parameter,error_list,elements)\n",
      "  File \"/home/philcox/Chempy/Chempy/cem_function.py\", line 922, in posterior_function_many_stars_real\n",
      "    abundance_list,element_list = posterior_function_returning_predictions(args)\n",
      "  File \"/home/philcox/Chempy/Chempy/cem_function.py\", line 484, in posterior_function_returning_predictions\n",
      "    posterior, abundance_list, element_list = posterior_function_predictions(changing_parameter,a)\n",
      "  File \"/home/philcox/Chempy/Chempy/cem_function.py\", line 494, in posterior_function_predictions\n",
      "    a = extract_parameters_and_priors(changing_parameter, a)\n",
      "  File \"/home/philcox/Chempy/Chempy/cem_function.py\", line 721, in extract_parameters_and_priors\n",
      "    assert False, '%s upper border is violated' %(name)\n",
      "AssertionError: log10_sfr_scale upper border is violated\n"
     ]
    },
    {
     "name": "stdout",
     "output_type": "stream",
     "text": [
      "0.507856918052 -2.23726863755\n",
      "calculation so far took 632.8852159976959  seconds\n",
      "step  117 of  1000\n"
     ]
    },
    {
     "name": "stderr",
     "output_type": "stream",
     "text": [
      "Traceback (most recent call last):\n",
      "  File \"/home/philcox/Chempy/Chempy/cem_function.py\", line 884, in posterior_function_many_stars\n",
      "    posterior, blobs = posterior_function_many_stars_real(changing_parameter,error_list,elements)\n",
      "  File \"/home/philcox/Chempy/Chempy/cem_function.py\", line 922, in posterior_function_many_stars_real\n",
      "    abundance_list,element_list = posterior_function_returning_predictions(args)\n",
      "  File \"/home/philcox/Chempy/Chempy/cem_function.py\", line 484, in posterior_function_returning_predictions\n",
      "    posterior, abundance_list, element_list = posterior_function_predictions(changing_parameter,a)\n",
      "  File \"/home/philcox/Chempy/Chempy/cem_function.py\", line 494, in posterior_function_predictions\n",
      "    a = extract_parameters_and_priors(changing_parameter, a)\n",
      "  File \"/home/philcox/Chempy/Chempy/cem_function.py\", line 721, in extract_parameters_and_priors\n",
      "    assert False, '%s upper border is violated' %(name)\n",
      "AssertionError: log10_sfr_scale upper border is violated\n"
     ]
    },
    {
     "name": "stdout",
     "output_type": "stream",
     "text": [
      "0.507856918052 -2.22942659825\n",
      "calculation so far took 638.7142934799194  seconds\n",
      "step  118 of  1000\n",
      "0.507856918052 -2.26575614338\n",
      "calculation so far took 645.2657532691956  seconds\n",
      "step  119 of  1000\n",
      "0.507856918052 -2.20937064473\n",
      "calculation so far took 651.0242841243744  seconds\n",
      "step  120 of  1000\n",
      "0.507856918052 -2.3399696987\n",
      "calculation so far took 657.5599482059479  seconds\n",
      "step  121 of  1000\n",
      "0.507856918052 -2.27608800113\n",
      "calculation so far took 663.606915473938  seconds\n",
      "step  122 of  1000\n",
      "0.507856918052 -2.26653299904\n",
      "calculation so far took 668.7349677085876  seconds\n",
      "step  123 of  1000\n"
     ]
    },
    {
     "name": "stderr",
     "output_type": "stream",
     "text": [
      "Traceback (most recent call last):\n",
      "  File \"/home/philcox/Chempy/Chempy/cem_function.py\", line 884, in posterior_function_many_stars\n",
      "    posterior, blobs = posterior_function_many_stars_real(changing_parameter,error_list,elements)\n",
      "  File \"/home/philcox/Chempy/Chempy/cem_function.py\", line 922, in posterior_function_many_stars_real\n",
      "    abundance_list,element_list = posterior_function_returning_predictions(args)\n",
      "  File \"/home/philcox/Chempy/Chempy/cem_function.py\", line 484, in posterior_function_returning_predictions\n",
      "    posterior, abundance_list, element_list = posterior_function_predictions(changing_parameter,a)\n",
      "  File \"/home/philcox/Chempy/Chempy/cem_function.py\", line 494, in posterior_function_predictions\n",
      "    a = extract_parameters_and_priors(changing_parameter, a)\n",
      "  File \"/home/philcox/Chempy/Chempy/cem_function.py\", line 721, in extract_parameters_and_priors\n",
      "    assert False, '%s upper border is violated' %(name)\n",
      "AssertionError: log10_sfr_scale upper border is violated\n"
     ]
    },
    {
     "name": "stdout",
     "output_type": "stream",
     "text": [
      "0.507856918052 -2.35239640775\n",
      "calculation so far took 674.0325441360474  seconds\n",
      "step  124 of  1000\n",
      "0.507856918052 -2.41349035812\n",
      "calculation so far took 679.3211953639984  seconds\n",
      "step  125 of  1000\n",
      "0.507856918052 -2.34173539771\n",
      "calculation so far took 684.9966492652893  seconds\n",
      "step  126 of  1000\n",
      "0.507856918052 -2.06482271268\n",
      "calculation so far took 691.2167105674744  seconds\n",
      "step  127 of  1000\n",
      "0.507856918052 -2.4071059149\n",
      "calculation so far took 697.7374665737152  seconds\n",
      "step  128 of  1000\n",
      "0.507856918052 -2.33968919476\n",
      "calculation so far took 703.9035491943359  seconds\n",
      "step  129 of  1000\n"
     ]
    },
    {
     "name": "stderr",
     "output_type": "stream",
     "text": [
      "Traceback (most recent call last):\n",
      "  File \"/home/philcox/Chempy/Chempy/cem_function.py\", line 884, in posterior_function_many_stars\n",
      "    posterior, blobs = posterior_function_many_stars_real(changing_parameter,error_list,elements)\n",
      "  File \"/home/philcox/Chempy/Chempy/cem_function.py\", line 922, in posterior_function_many_stars_real\n",
      "    abundance_list,element_list = posterior_function_returning_predictions(args)\n",
      "  File \"/home/philcox/Chempy/Chempy/cem_function.py\", line 484, in posterior_function_returning_predictions\n",
      "    posterior, abundance_list, element_list = posterior_function_predictions(changing_parameter,a)\n",
      "  File \"/home/philcox/Chempy/Chempy/cem_function.py\", line 494, in posterior_function_predictions\n",
      "    a = extract_parameters_and_priors(changing_parameter, a)\n",
      "  File \"/home/philcox/Chempy/Chempy/cem_function.py\", line 721, in extract_parameters_and_priors\n",
      "    assert False, '%s upper border is violated' %(name)\n",
      "AssertionError: outflow_feedback_fraction upper border is violated\n"
     ]
    },
    {
     "name": "stdout",
     "output_type": "stream",
     "text": [
      "0.507856918052 -2.31722010416\n",
      "calculation so far took 709.8772733211517  seconds\n",
      "step  130 of  1000\n"
     ]
    },
    {
     "name": "stderr",
     "output_type": "stream",
     "text": [
      "Traceback (most recent call last):\n",
      "  File \"/home/philcox/Chempy/Chempy/cem_function.py\", line 884, in posterior_function_many_stars\n",
      "    posterior, blobs = posterior_function_many_stars_real(changing_parameter,error_list,elements)\n",
      "  File \"/home/philcox/Chempy/Chempy/cem_function.py\", line 922, in posterior_function_many_stars_real\n",
      "    abundance_list,element_list = posterior_function_returning_predictions(args)\n",
      "  File \"/home/philcox/Chempy/Chempy/cem_function.py\", line 484, in posterior_function_returning_predictions\n",
      "    posterior, abundance_list, element_list = posterior_function_predictions(changing_parameter,a)\n",
      "  File \"/home/philcox/Chempy/Chempy/cem_function.py\", line 494, in posterior_function_predictions\n",
      "    a = extract_parameters_and_priors(changing_parameter, a)\n",
      "  File \"/home/philcox/Chempy/Chempy/cem_function.py\", line 719, in extract_parameters_and_priors\n",
      "    assert False, '%s lower border is violated' %(name)\n",
      "AssertionError: outflow_feedback_fraction lower border is violated\n"
     ]
    },
    {
     "name": "stdout",
     "output_type": "stream",
     "text": [
      "0.507856918052 -2.1348551277\n",
      "calculation so far took 716.4948480129242  seconds\n",
      "step  131 of  1000\n",
      "0.507856918052 -2.08525750074\n",
      "calculation so far took 722.1756329536438  seconds\n",
      "step  132 of  1000\n",
      "0.507856918052 -1.98957136943\n",
      "calculation so far took 728.6895925998688  seconds\n",
      "step  133 of  1000\n"
     ]
    },
    {
     "name": "stderr",
     "output_type": "stream",
     "text": [
      "Traceback (most recent call last):\n",
      "  File \"/home/philcox/Chempy/Chempy/cem_function.py\", line 884, in posterior_function_many_stars\n",
      "    posterior, blobs = posterior_function_many_stars_real(changing_parameter,error_list,elements)\n",
      "  File \"/home/philcox/Chempy/Chempy/cem_function.py\", line 922, in posterior_function_many_stars_real\n",
      "    abundance_list,element_list = posterior_function_returning_predictions(args)\n",
      "  File \"/home/philcox/Chempy/Chempy/cem_function.py\", line 484, in posterior_function_returning_predictions\n",
      "    posterior, abundance_list, element_list = posterior_function_predictions(changing_parameter,a)\n",
      "  File \"/home/philcox/Chempy/Chempy/cem_function.py\", line 494, in posterior_function_predictions\n",
      "    a = extract_parameters_and_priors(changing_parameter, a)\n",
      "  File \"/home/philcox/Chempy/Chempy/cem_function.py\", line 721, in extract_parameters_and_priors\n",
      "    assert False, '%s upper border is violated' %(name)\n",
      "AssertionError: log10_sn1a_time_delay upper border is violated\n"
     ]
    },
    {
     "name": "stdout",
     "output_type": "stream",
     "text": [
      "0.507856918052 -2.16626279516\n",
      "calculation so far took 734.727249622345  seconds\n",
      "step  134 of  1000\n",
      "0.507856918052 -2.18871190728\n",
      "calculation so far took 740.2406370639801  seconds\n",
      "step  135 of  1000\n",
      "0.507856918052 -2.39432351045\n",
      "calculation so far took 746.0326387882233  seconds\n",
      "step  136 of  1000\n",
      "0.507856918052 -2.45626912274\n",
      "calculation so far took 751.9804241657257  seconds\n",
      "step  137 of  1000\n",
      "0.507856918052 -2.25700523461\n",
      "calculation so far took 757.9342646598816  seconds\n",
      "step  138 of  1000\n",
      "0.507856918052 -2.28915437521\n",
      "calculation so far took 764.3041651248932  seconds\n",
      "step  139 of  1000\n",
      "0.507856918052 -2.09092424866\n",
      "calculation so far took 769.7928233146667  seconds\n",
      "step  140 of  1000\n",
      "0.507856918052 -1.95570277637\n",
      "calculation so far took 775.5957090854645  seconds\n",
      "step  141 of  1000\n",
      "0.507856918052 -1.87312989847\n",
      "calculation so far took 780.818103313446  seconds\n",
      "step  142 of  1000\n",
      "0.507856918052 -1.95640244257\n",
      "calculation so far took 786.799152135849  seconds\n",
      "step  143 of  1000\n",
      "0.507856918052 -1.86653584324\n",
      "calculation so far took 792.0922698974609  seconds\n",
      "step  144 of  1000\n",
      "0.507856918052 -2.13192361336\n",
      "calculation so far took 797.4076271057129  seconds\n",
      "step  145 of  1000\n"
     ]
    },
    {
     "name": "stderr",
     "output_type": "stream",
     "text": [
      "Traceback (most recent call last):\n",
      "  File \"/home/philcox/Chempy/Chempy/cem_function.py\", line 884, in posterior_function_many_stars\n",
      "    posterior, blobs = posterior_function_many_stars_real(changing_parameter,error_list,elements)\n",
      "  File \"/home/philcox/Chempy/Chempy/cem_function.py\", line 922, in posterior_function_many_stars_real\n",
      "    abundance_list,element_list = posterior_function_returning_predictions(args)\n",
      "  File \"/home/philcox/Chempy/Chempy/cem_function.py\", line 484, in posterior_function_returning_predictions\n",
      "    posterior, abundance_list, element_list = posterior_function_predictions(changing_parameter,a)\n",
      "  File \"/home/philcox/Chempy/Chempy/cem_function.py\", line 494, in posterior_function_predictions\n",
      "    a = extract_parameters_and_priors(changing_parameter, a)\n",
      "  File \"/home/philcox/Chempy/Chempy/cem_function.py\", line 721, in extract_parameters_and_priors\n",
      "    assert False, '%s upper border is violated' %(name)\n",
      "AssertionError: outflow_feedback_fraction upper border is violated\n"
     ]
    },
    {
     "name": "stdout",
     "output_type": "stream",
     "text": [
      "0.507856918052 -2.29916080375\n",
      "calculation so far took 803.0606670379639  seconds\n",
      "step  146 of  1000\n",
      "0.507856918052 -2.36156061229\n",
      "calculation so far took 808.7588887214661  seconds\n",
      "step  147 of  1000\n",
      "0.507856918052 -2.33832190655\n",
      "calculation so far took 814.7090952396393  seconds\n",
      "step  148 of  1000\n",
      "0.507856918052 -2.46941875184\n",
      "calculation so far took 820.3681972026825  seconds\n",
      "step  149 of  1000\n"
     ]
    },
    {
     "name": "stderr",
     "output_type": "stream",
     "text": [
      "Traceback (most recent call last):\n",
      "  File \"/home/philcox/Chempy/Chempy/cem_function.py\", line 884, in posterior_function_many_stars\n",
      "    posterior, blobs = posterior_function_many_stars_real(changing_parameter,error_list,elements)\n",
      "  File \"/home/philcox/Chempy/Chempy/cem_function.py\", line 922, in posterior_function_many_stars_real\n",
      "    abundance_list,element_list = posterior_function_returning_predictions(args)\n",
      "  File \"/home/philcox/Chempy/Chempy/cem_function.py\", line 484, in posterior_function_returning_predictions\n",
      "    posterior, abundance_list, element_list = posterior_function_predictions(changing_parameter,a)\n",
      "  File \"/home/philcox/Chempy/Chempy/cem_function.py\", line 494, in posterior_function_predictions\n",
      "    a = extract_parameters_and_priors(changing_parameter, a)\n",
      "  File \"/home/philcox/Chempy/Chempy/cem_function.py\", line 721, in extract_parameters_and_priors\n",
      "    assert False, '%s upper border is violated' %(name)\n",
      "AssertionError: log10_sfr_scale upper border is violated\n"
     ]
    },
    {
     "name": "stdout",
     "output_type": "stream",
     "text": [
      "0.507856918052 -2.26712666887\n",
      "calculation so far took 826.2975862026215  seconds\n",
      "step  150 of  1000\n",
      "0.507856918052 -2.48543224219\n",
      "calculation so far took 832.2665529251099  seconds\n",
      "step  151 of  1000\n",
      "0.507856918052 -2.485615202\n",
      "calculation so far took 838.1557903289795  seconds\n",
      "step  152 of  1000\n",
      "0.507856918052 -2.49660509451\n",
      "calculation so far took 843.3669638633728  seconds\n",
      "step  153 of  1000\n",
      "0.507856918052 -2.22244480968\n",
      "calculation so far took 849.9153439998627  seconds\n",
      "step  154 of  1000\n",
      "0.507856918052 -2.42653559295\n",
      "calculation so far took 856.4637989997864  seconds\n",
      "step  155 of  1000\n",
      "0.507856918052 -2.68238075979\n",
      "calculation so far took 862.1753416061401  seconds\n",
      "step  156 of  1000\n"
     ]
    },
    {
     "name": "stderr",
     "output_type": "stream",
     "text": [
      "Traceback (most recent call last):\n",
      "  File \"/home/philcox/Chempy/Chempy/cem_function.py\", line 884, in posterior_function_many_stars\n",
      "    posterior, blobs = posterior_function_many_stars_real(changing_parameter,error_list,elements)\n",
      "  File \"/home/philcox/Chempy/Chempy/cem_function.py\", line 922, in posterior_function_many_stars_real\n",
      "    abundance_list,element_list = posterior_function_returning_predictions(args)\n",
      "  File \"/home/philcox/Chempy/Chempy/cem_function.py\", line 484, in posterior_function_returning_predictions\n",
      "    posterior, abundance_list, element_list = posterior_function_predictions(changing_parameter,a)\n",
      "  File \"/home/philcox/Chempy/Chempy/cem_function.py\", line 494, in posterior_function_predictions\n",
      "    a = extract_parameters_and_priors(changing_parameter, a)\n",
      "  File \"/home/philcox/Chempy/Chempy/cem_function.py\", line 721, in extract_parameters_and_priors\n",
      "    assert False, '%s upper border is violated' %(name)\n",
      "AssertionError: log10_sfr_scale upper border is violated\n",
      "Traceback (most recent call last):\n",
      "  File \"/home/philcox/Chempy/Chempy/cem_function.py\", line 884, in posterior_function_many_stars\n",
      "    posterior, blobs = posterior_function_many_stars_real(changing_parameter,error_list,elements)\n",
      "  File \"/home/philcox/Chempy/Chempy/cem_function.py\", line 922, in posterior_function_many_stars_real\n",
      "    abundance_list,element_list = posterior_function_returning_predictions(args)\n",
      "  File \"/home/philcox/Chempy/Chempy/cem_function.py\", line 484, in posterior_function_returning_predictions\n",
      "    posterior, abundance_list, element_list = posterior_function_predictions(changing_parameter,a)\n",
      "  File \"/home/philcox/Chempy/Chempy/cem_function.py\", line 494, in posterior_function_predictions\n",
      "    a = extract_parameters_and_priors(changing_parameter, a)\n",
      "  File \"/home/philcox/Chempy/Chempy/cem_function.py\", line 719, in extract_parameters_and_priors\n",
      "    assert False, '%s lower border is violated' %(name)\n",
      "AssertionError: outflow_feedback_fraction lower border is violated\n"
     ]
    },
    {
     "name": "stdout",
     "output_type": "stream",
     "text": [
      "0.507856918052 -2.50962360367\n",
      "calculation so far took 867.5696482658386  seconds\n",
      "step  157 of  1000\n",
      "0.507856918052 -2.3387587056\n",
      "calculation so far took 874.1214520931244  seconds\n",
      "step  158 of  1000\n"
     ]
    },
    {
     "name": "stderr",
     "output_type": "stream",
     "text": [
      "Traceback (most recent call last):\n",
      "  File \"/home/philcox/Chempy/Chempy/cem_function.py\", line 884, in posterior_function_many_stars\n",
      "    posterior, blobs = posterior_function_many_stars_real(changing_parameter,error_list,elements)\n",
      "  File \"/home/philcox/Chempy/Chempy/cem_function.py\", line 922, in posterior_function_many_stars_real\n",
      "    abundance_list,element_list = posterior_function_returning_predictions(args)\n",
      "  File \"/home/philcox/Chempy/Chempy/cem_function.py\", line 484, in posterior_function_returning_predictions\n",
      "    posterior, abundance_list, element_list = posterior_function_predictions(changing_parameter,a)\n",
      "  File \"/home/philcox/Chempy/Chempy/cem_function.py\", line 494, in posterior_function_predictions\n",
      "    a = extract_parameters_and_priors(changing_parameter, a)\n",
      "  File \"/home/philcox/Chempy/Chempy/cem_function.py\", line 721, in extract_parameters_and_priors\n",
      "    assert False, '%s upper border is violated' %(name)\n",
      "AssertionError: outflow_feedback_fraction upper border is violated\n"
     ]
    },
    {
     "name": "stdout",
     "output_type": "stream",
     "text": [
      "0.507856918052 -2.1455622555\n",
      "calculation so far took 880.2588980197906  seconds\n",
      "step  159 of  1000\n"
     ]
    },
    {
     "name": "stderr",
     "output_type": "stream",
     "text": [
      "Traceback (most recent call last):\n",
      "  File \"/home/philcox/Chempy/Chempy/cem_function.py\", line 884, in posterior_function_many_stars\n",
      "    posterior, blobs = posterior_function_many_stars_real(changing_parameter,error_list,elements)\n",
      "  File \"/home/philcox/Chempy/Chempy/cem_function.py\", line 922, in posterior_function_many_stars_real\n",
      "    abundance_list,element_list = posterior_function_returning_predictions(args)\n",
      "  File \"/home/philcox/Chempy/Chempy/cem_function.py\", line 484, in posterior_function_returning_predictions\n",
      "    posterior, abundance_list, element_list = posterior_function_predictions(changing_parameter,a)\n",
      "  File \"/home/philcox/Chempy/Chempy/cem_function.py\", line 494, in posterior_function_predictions\n",
      "    a = extract_parameters_and_priors(changing_parameter, a)\n",
      "  File \"/home/philcox/Chempy/Chempy/cem_function.py\", line 719, in extract_parameters_and_priors\n",
      "    assert False, '%s lower border is violated' %(name)\n",
      "AssertionError: outflow_feedback_fraction lower border is violated\n"
     ]
    },
    {
     "name": "stdout",
     "output_type": "stream",
     "text": [
      "0.507856918052 -2.44887601008\n",
      "calculation so far took 886.1706626415253  seconds\n",
      "step  160 of  1000\n",
      "0.507856918052 -2.51120671912\n",
      "calculation so far took 891.6625628471375  seconds\n",
      "step  161 of  1000\n",
      "0.507856918052 -2.44012423047\n",
      "calculation so far took 897.1111083030701  seconds\n",
      "step  162 of  1000\n"
     ]
    },
    {
     "name": "stderr",
     "output_type": "stream",
     "text": [
      "Traceback (most recent call last):\n",
      "  File \"/home/philcox/Chempy/Chempy/cem_function.py\", line 884, in posterior_function_many_stars\n",
      "    posterior, blobs = posterior_function_many_stars_real(changing_parameter,error_list,elements)\n",
      "  File \"/home/philcox/Chempy/Chempy/cem_function.py\", line 922, in posterior_function_many_stars_real\n",
      "    abundance_list,element_list = posterior_function_returning_predictions(args)\n",
      "  File \"/home/philcox/Chempy/Chempy/cem_function.py\", line 484, in posterior_function_returning_predictions\n",
      "    posterior, abundance_list, element_list = posterior_function_predictions(changing_parameter,a)\n",
      "  File \"/home/philcox/Chempy/Chempy/cem_function.py\", line 494, in posterior_function_predictions\n",
      "    a = extract_parameters_and_priors(changing_parameter, a)\n",
      "  File \"/home/philcox/Chempy/Chempy/cem_function.py\", line 721, in extract_parameters_and_priors\n",
      "    assert False, '%s upper border is violated' %(name)\n",
      "AssertionError: log10_sfr_scale upper border is violated\n"
     ]
    },
    {
     "name": "stdout",
     "output_type": "stream",
     "text": [
      "0.507856918052 -2.41486950944\n",
      "calculation so far took 902.7513649463654  seconds\n",
      "step  163 of  1000\n",
      "0.507856918052 -2.26807857976\n",
      "calculation so far took 908.0683357715607  seconds\n",
      "step  164 of  1000\n",
      "0.507856918052 -2.4251853737\n",
      "calculation so far took 913.5395450592041  seconds\n",
      "step  165 of  1000\n",
      "0.507856918052 -2.41483784684\n",
      "calculation so far took 919.3439564704895  seconds\n",
      "step  166 of  1000\n"
     ]
    },
    {
     "name": "stderr",
     "output_type": "stream",
     "text": [
      "Traceback (most recent call last):\n",
      "  File \"/home/philcox/Chempy/Chempy/cem_function.py\", line 884, in posterior_function_many_stars\n",
      "    posterior, blobs = posterior_function_many_stars_real(changing_parameter,error_list,elements)\n",
      "  File \"/home/philcox/Chempy/Chempy/cem_function.py\", line 922, in posterior_function_many_stars_real\n",
      "    abundance_list,element_list = posterior_function_returning_predictions(args)\n",
      "  File \"/home/philcox/Chempy/Chempy/cem_function.py\", line 484, in posterior_function_returning_predictions\n",
      "    posterior, abundance_list, element_list = posterior_function_predictions(changing_parameter,a)\n",
      "  File \"/home/philcox/Chempy/Chempy/cem_function.py\", line 494, in posterior_function_predictions\n",
      "    a = extract_parameters_and_priors(changing_parameter, a)\n",
      "  File \"/home/philcox/Chempy/Chempy/cem_function.py\", line 719, in extract_parameters_and_priors\n",
      "    assert False, '%s lower border is violated' %(name)\n",
      "AssertionError: outflow_feedback_fraction lower border is violated\n"
     ]
    },
    {
     "name": "stdout",
     "output_type": "stream",
     "text": [
      "0.507856918052 -2.49422161985\n",
      "calculation so far took 924.964649438858  seconds\n",
      "step  167 of  1000\n",
      "0.507856918052 -2.04587862237\n",
      "calculation so far took 928.9332463741302  seconds\n",
      "step  168 of  1000\n"
     ]
    },
    {
     "name": "stderr",
     "output_type": "stream",
     "text": [
      "Traceback (most recent call last):\n",
      "  File \"/home/philcox/Chempy/Chempy/cem_function.py\", line 884, in posterior_function_many_stars\n",
      "    posterior, blobs = posterior_function_many_stars_real(changing_parameter,error_list,elements)\n",
      "  File \"/home/philcox/Chempy/Chempy/cem_function.py\", line 922, in posterior_function_many_stars_real\n",
      "    abundance_list,element_list = posterior_function_returning_predictions(args)\n",
      "  File \"/home/philcox/Chempy/Chempy/cem_function.py\", line 484, in posterior_function_returning_predictions\n",
      "    posterior, abundance_list, element_list = posterior_function_predictions(changing_parameter,a)\n",
      "  File \"/home/philcox/Chempy/Chempy/cem_function.py\", line 494, in posterior_function_predictions\n",
      "    a = extract_parameters_and_priors(changing_parameter, a)\n",
      "  File \"/home/philcox/Chempy/Chempy/cem_function.py\", line 721, in extract_parameters_and_priors\n",
      "    assert False, '%s upper border is violated' %(name)\n",
      "AssertionError: log10_sfr_scale upper border is violated\n",
      "Traceback (most recent call last):\n",
      "  File \"/home/philcox/Chempy/Chempy/cem_function.py\", line 884, in posterior_function_many_stars\n",
      "    posterior, blobs = posterior_function_many_stars_real(changing_parameter,error_list,elements)\n",
      "  File \"/home/philcox/Chempy/Chempy/cem_function.py\", line 922, in posterior_function_many_stars_real\n",
      "    abundance_list,element_list = posterior_function_returning_predictions(args)\n",
      "  File \"/home/philcox/Chempy/Chempy/cem_function.py\", line 484, in posterior_function_returning_predictions\n",
      "    posterior, abundance_list, element_list = posterior_function_predictions(changing_parameter,a)\n",
      "  File \"/home/philcox/Chempy/Chempy/cem_function.py\", line 494, in posterior_function_predictions\n",
      "    a = extract_parameters_and_priors(changing_parameter, a)\n",
      "  File \"/home/philcox/Chempy/Chempy/cem_function.py\", line 719, in extract_parameters_and_priors\n",
      "    assert False, '%s lower border is violated' %(name)\n",
      "AssertionError: outflow_feedback_fraction lower border is violated\n"
     ]
    },
    {
     "name": "stdout",
     "output_type": "stream",
     "text": [
      "0.507856918052 -2.29326579904\n",
      "calculation so far took 933.1141300201416  seconds\n",
      "step  169 of  1000\n",
      "0.507856918052 -2.49384026852\n",
      "calculation so far took 936.9712119102478  seconds\n",
      "step  170 of  1000\n",
      "0.507856918052 -2.5701633506\n",
      "calculation so far took 940.9866378307343  seconds\n",
      "step  171 of  1000\n",
      "0.507856918052 -2.54003034661\n",
      "calculation so far took 945.1560482978821  seconds\n",
      "step  172 of  1000\n"
     ]
    },
    {
     "name": "stderr",
     "output_type": "stream",
     "text": [
      "Traceback (most recent call last):\n",
      "  File \"/home/philcox/Chempy/Chempy/cem_function.py\", line 884, in posterior_function_many_stars\n",
      "    posterior, blobs = posterior_function_many_stars_real(changing_parameter,error_list,elements)\n",
      "  File \"/home/philcox/Chempy/Chempy/cem_function.py\", line 922, in posterior_function_many_stars_real\n",
      "    abundance_list,element_list = posterior_function_returning_predictions(args)\n",
      "  File \"/home/philcox/Chempy/Chempy/cem_function.py\", line 484, in posterior_function_returning_predictions\n",
      "    posterior, abundance_list, element_list = posterior_function_predictions(changing_parameter,a)\n",
      "  File \"/home/philcox/Chempy/Chempy/cem_function.py\", line 494, in posterior_function_predictions\n",
      "    a = extract_parameters_and_priors(changing_parameter, a)\n",
      "  File \"/home/philcox/Chempy/Chempy/cem_function.py\", line 721, in extract_parameters_and_priors\n",
      "    assert False, '%s upper border is violated' %(name)\n",
      "AssertionError: log10_sfr_scale upper border is violated\n",
      "Traceback (most recent call last):\n",
      "  File \"/home/philcox/Chempy/Chempy/cem_function.py\", line 884, in posterior_function_many_stars\n",
      "    posterior, blobs = posterior_function_many_stars_real(changing_parameter,error_list,elements)\n",
      "  File \"/home/philcox/Chempy/Chempy/cem_function.py\", line 922, in posterior_function_many_stars_real\n",
      "    abundance_list,element_list = posterior_function_returning_predictions(args)\n",
      "  File \"/home/philcox/Chempy/Chempy/cem_function.py\", line 484, in posterior_function_returning_predictions\n",
      "    posterior, abundance_list, element_list = posterior_function_predictions(changing_parameter,a)\n",
      "  File \"/home/philcox/Chempy/Chempy/cem_function.py\", line 494, in posterior_function_predictions\n",
      "    a = extract_parameters_and_priors(changing_parameter, a)\n",
      "  File \"/home/philcox/Chempy/Chempy/cem_function.py\", line 721, in extract_parameters_and_priors\n",
      "    assert False, '%s upper border is violated' %(name)\n",
      "AssertionError: outflow_feedback_fraction upper border is violated\n"
     ]
    },
    {
     "name": "stdout",
     "output_type": "stream",
     "text": [
      "0.507856918052 -2.54600626728\n",
      "calculation so far took 949.5460298061371  seconds\n",
      "step  173 of  1000\n",
      "0.507856918052 -2.64697935763\n",
      "calculation so far took 953.57705950737  seconds\n",
      "step  174 of  1000\n"
     ]
    },
    {
     "name": "stderr",
     "output_type": "stream",
     "text": [
      "Traceback (most recent call last):\n",
      "  File \"/home/philcox/Chempy/Chempy/cem_function.py\", line 884, in posterior_function_many_stars\n",
      "    posterior, blobs = posterior_function_many_stars_real(changing_parameter,error_list,elements)\n",
      "  File \"/home/philcox/Chempy/Chempy/cem_function.py\", line 922, in posterior_function_many_stars_real\n",
      "    abundance_list,element_list = posterior_function_returning_predictions(args)\n",
      "  File \"/home/philcox/Chempy/Chempy/cem_function.py\", line 484, in posterior_function_returning_predictions\n",
      "    posterior, abundance_list, element_list = posterior_function_predictions(changing_parameter,a)\n",
      "  File \"/home/philcox/Chempy/Chempy/cem_function.py\", line 494, in posterior_function_predictions\n",
      "    a = extract_parameters_and_priors(changing_parameter, a)\n",
      "  File \"/home/philcox/Chempy/Chempy/cem_function.py\", line 721, in extract_parameters_and_priors\n",
      "    assert False, '%s upper border is violated' %(name)\n",
      "AssertionError: log10_sfr_scale upper border is violated\n"
     ]
    },
    {
     "name": "stdout",
     "output_type": "stream",
     "text": [
      "0.507856918052 -2.73403628387\n",
      "calculation so far took 957.4465012550354  seconds\n",
      "step  175 of  1000\n"
     ]
    },
    {
     "name": "stderr",
     "output_type": "stream",
     "text": [
      "Traceback (most recent call last):\n",
      "  File \"/home/philcox/Chempy/Chempy/cem_function.py\", line 884, in posterior_function_many_stars\n",
      "    posterior, blobs = posterior_function_many_stars_real(changing_parameter,error_list,elements)\n",
      "  File \"/home/philcox/Chempy/Chempy/cem_function.py\", line 922, in posterior_function_many_stars_real\n",
      "    abundance_list,element_list = posterior_function_returning_predictions(args)\n",
      "  File \"/home/philcox/Chempy/Chempy/cem_function.py\", line 484, in posterior_function_returning_predictions\n",
      "    posterior, abundance_list, element_list = posterior_function_predictions(changing_parameter,a)\n",
      "  File \"/home/philcox/Chempy/Chempy/cem_function.py\", line 494, in posterior_function_predictions\n",
      "    a = extract_parameters_and_priors(changing_parameter, a)\n",
      "  File \"/home/philcox/Chempy/Chempy/cem_function.py\", line 721, in extract_parameters_and_priors\n",
      "    assert False, '%s upper border is violated' %(name)\n",
      "AssertionError: log10_sfr_scale upper border is violated\n"
     ]
    },
    {
     "name": "stdout",
     "output_type": "stream",
     "text": [
      "0.507856918052 -2.65486267843\n",
      "calculation so far took 961.2988102436066  seconds\n",
      "step  176 of  1000\n"
     ]
    },
    {
     "name": "stderr",
     "output_type": "stream",
     "text": [
      "Traceback (most recent call last):\n",
      "  File \"/home/philcox/Chempy/Chempy/cem_function.py\", line 884, in posterior_function_many_stars\n",
      "    posterior, blobs = posterior_function_many_stars_real(changing_parameter,error_list,elements)\n",
      "  File \"/home/philcox/Chempy/Chempy/cem_function.py\", line 922, in posterior_function_many_stars_real\n",
      "    abundance_list,element_list = posterior_function_returning_predictions(args)\n",
      "  File \"/home/philcox/Chempy/Chempy/cem_function.py\", line 484, in posterior_function_returning_predictions\n",
      "    posterior, abundance_list, element_list = posterior_function_predictions(changing_parameter,a)\n",
      "  File \"/home/philcox/Chempy/Chempy/cem_function.py\", line 494, in posterior_function_predictions\n",
      "    a = extract_parameters_and_priors(changing_parameter, a)\n",
      "  File \"/home/philcox/Chempy/Chempy/cem_function.py\", line 721, in extract_parameters_and_priors\n",
      "    assert False, '%s upper border is violated' %(name)\n",
      "AssertionError: outflow_feedback_fraction upper border is violated\n"
     ]
    },
    {
     "name": "stdout",
     "output_type": "stream",
     "text": [
      "0.507856918052 -2.50135551836\n",
      "calculation so far took 965.1770660877228  seconds\n",
      "step  177 of  1000\n",
      "0.507856918052 -2.06785723216\n",
      "calculation so far took 968.999790430069  seconds\n",
      "step  178 of  1000\n",
      "0.507856918052 -2.32911444734\n",
      "calculation so far took 972.8905229568481  seconds\n",
      "step  179 of  1000\n",
      "0.507856918052 -2.04178993919\n",
      "calculation so far took 976.9067347049713  seconds\n",
      "step  180 of  1000\n",
      "0.507856918052 -1.97585345887\n",
      "calculation so far took 980.9903681278229  seconds\n",
      "step  181 of  1000\n",
      "0.507856918052 -1.85005665517\n",
      "calculation so far took 984.9910655021667  seconds\n",
      "step  182 of  1000\n"
     ]
    },
    {
     "name": "stderr",
     "output_type": "stream",
     "text": [
      "Traceback (most recent call last):\n",
      "  File \"/home/philcox/Chempy/Chempy/cem_function.py\", line 884, in posterior_function_many_stars\n",
      "    posterior, blobs = posterior_function_many_stars_real(changing_parameter,error_list,elements)\n",
      "  File \"/home/philcox/Chempy/Chempy/cem_function.py\", line 922, in posterior_function_many_stars_real\n",
      "    abundance_list,element_list = posterior_function_returning_predictions(args)\n",
      "  File \"/home/philcox/Chempy/Chempy/cem_function.py\", line 484, in posterior_function_returning_predictions\n",
      "    posterior, abundance_list, element_list = posterior_function_predictions(changing_parameter,a)\n",
      "  File \"/home/philcox/Chempy/Chempy/cem_function.py\", line 494, in posterior_function_predictions\n",
      "    a = extract_parameters_and_priors(changing_parameter, a)\n",
      "  File \"/home/philcox/Chempy/Chempy/cem_function.py\", line 721, in extract_parameters_and_priors\n",
      "    assert False, '%s upper border is violated' %(name)\n",
      "AssertionError: log10_sfr_scale upper border is violated\n"
     ]
    },
    {
     "name": "stdout",
     "output_type": "stream",
     "text": [
      "0.507856918052 -2.07686047019\n",
      "calculation so far took 989.0744137763977  seconds\n",
      "step  183 of  1000\n"
     ]
    },
    {
     "name": "stderr",
     "output_type": "stream",
     "text": [
      "Traceback (most recent call last):\n",
      "  File \"/home/philcox/Chempy/Chempy/cem_function.py\", line 884, in posterior_function_many_stars\n",
      "    posterior, blobs = posterior_function_many_stars_real(changing_parameter,error_list,elements)\n",
      "  File \"/home/philcox/Chempy/Chempy/cem_function.py\", line 922, in posterior_function_many_stars_real\n",
      "    abundance_list,element_list = posterior_function_returning_predictions(args)\n",
      "  File \"/home/philcox/Chempy/Chempy/cem_function.py\", line 484, in posterior_function_returning_predictions\n",
      "    posterior, abundance_list, element_list = posterior_function_predictions(changing_parameter,a)\n",
      "  File \"/home/philcox/Chempy/Chempy/cem_function.py\", line 494, in posterior_function_predictions\n",
      "    a = extract_parameters_and_priors(changing_parameter, a)\n",
      "  File \"/home/philcox/Chempy/Chempy/cem_function.py\", line 721, in extract_parameters_and_priors\n",
      "    assert False, '%s upper border is violated' %(name)\n",
      "AssertionError: log10_sn1a_time_delay upper border is violated\n"
     ]
    },
    {
     "name": "stdout",
     "output_type": "stream",
     "text": [
      "0.507856918052 -1.98425174104\n",
      "calculation so far took 993.1643431186676  seconds\n",
      "step  184 of  1000\n",
      "0.507856918052 -2.14121384493\n",
      "calculation so far took 997.1272449493408  seconds\n",
      "step  185 of  1000\n",
      "0.507856918052 -2.16202128642\n",
      "calculation so far took 1000.9706797599792  seconds\n",
      "step  186 of  1000\n",
      "0.507856918052 -1.8131735229\n",
      "calculation so far took 1004.9346334934235  seconds\n",
      "step  187 of  1000\n"
     ]
    },
    {
     "name": "stderr",
     "output_type": "stream",
     "text": [
      "Traceback (most recent call last):\n",
      "  File \"/home/philcox/Chempy/Chempy/cem_function.py\", line 884, in posterior_function_many_stars\n",
      "    posterior, blobs = posterior_function_many_stars_real(changing_parameter,error_list,elements)\n",
      "  File \"/home/philcox/Chempy/Chempy/cem_function.py\", line 922, in posterior_function_many_stars_real\n",
      "    abundance_list,element_list = posterior_function_returning_predictions(args)\n",
      "  File \"/home/philcox/Chempy/Chempy/cem_function.py\", line 484, in posterior_function_returning_predictions\n",
      "    posterior, abundance_list, element_list = posterior_function_predictions(changing_parameter,a)\n",
      "  File \"/home/philcox/Chempy/Chempy/cem_function.py\", line 494, in posterior_function_predictions\n",
      "    a = extract_parameters_and_priors(changing_parameter, a)\n",
      "  File \"/home/philcox/Chempy/Chempy/cem_function.py\", line 719, in extract_parameters_and_priors\n",
      "    assert False, '%s lower border is violated' %(name)\n",
      "AssertionError: outflow_feedback_fraction lower border is violated\n"
     ]
    },
    {
     "name": "stdout",
     "output_type": "stream",
     "text": [
      "0.507856918052 -2.20276340049\n",
      "calculation so far took 1008.8757150173187  seconds\n",
      "step  188 of  1000\n"
     ]
    },
    {
     "name": "stderr",
     "output_type": "stream",
     "text": [
      "Traceback (most recent call last):\n",
      "  File \"/home/philcox/Chempy/Chempy/cem_function.py\", line 884, in posterior_function_many_stars\n",
      "    posterior, blobs = posterior_function_many_stars_real(changing_parameter,error_list,elements)\n",
      "  File \"/home/philcox/Chempy/Chempy/cem_function.py\", line 922, in posterior_function_many_stars_real\n",
      "    abundance_list,element_list = posterior_function_returning_predictions(args)\n",
      "  File \"/home/philcox/Chempy/Chempy/cem_function.py\", line 484, in posterior_function_returning_predictions\n",
      "    posterior, abundance_list, element_list = posterior_function_predictions(changing_parameter,a)\n",
      "  File \"/home/philcox/Chempy/Chempy/cem_function.py\", line 494, in posterior_function_predictions\n",
      "    a = extract_parameters_and_priors(changing_parameter, a)\n",
      "  File \"/home/philcox/Chempy/Chempy/cem_function.py\", line 719, in extract_parameters_and_priors\n",
      "    assert False, '%s lower border is violated' %(name)\n",
      "AssertionError: outflow_feedback_fraction lower border is violated\n"
     ]
    },
    {
     "name": "stdout",
     "output_type": "stream",
     "text": [
      "0.507856918052 -2.23963857357\n",
      "calculation so far took 1012.7392249107361  seconds\n",
      "step  189 of  1000\n",
      "0.507856918052 -2.30696551492\n",
      "calculation so far took 1016.5959811210632  seconds\n",
      "step  190 of  1000\n"
     ]
    },
    {
     "name": "stderr",
     "output_type": "stream",
     "text": [
      "Traceback (most recent call last):\n",
      "  File \"/home/philcox/Chempy/Chempy/cem_function.py\", line 884, in posterior_function_many_stars\n",
      "    posterior, blobs = posterior_function_many_stars_real(changing_parameter,error_list,elements)\n",
      "  File \"/home/philcox/Chempy/Chempy/cem_function.py\", line 922, in posterior_function_many_stars_real\n",
      "    abundance_list,element_list = posterior_function_returning_predictions(args)\n",
      "  File \"/home/philcox/Chempy/Chempy/cem_function.py\", line 484, in posterior_function_returning_predictions\n",
      "    posterior, abundance_list, element_list = posterior_function_predictions(changing_parameter,a)\n",
      "  File \"/home/philcox/Chempy/Chempy/cem_function.py\", line 494, in posterior_function_predictions\n",
      "    a = extract_parameters_and_priors(changing_parameter, a)\n",
      "  File \"/home/philcox/Chempy/Chempy/cem_function.py\", line 721, in extract_parameters_and_priors\n",
      "    assert False, '%s upper border is violated' %(name)\n",
      "AssertionError: log10_sfr_scale upper border is violated\n"
     ]
    },
    {
     "name": "stdout",
     "output_type": "stream",
     "text": [
      "0.507856918052 -2.32120054396\n",
      "calculation so far took 1020.5582346916199  seconds\n",
      "step  191 of  1000\n",
      "0.507856918052 -2.30863197236\n",
      "calculation so far took 1024.436839580536  seconds\n",
      "step  192 of  1000\n",
      "0.507856918052 -2.30629176258\n",
      "calculation so far took 1028.8257784843445  seconds\n",
      "step  193 of  1000\n",
      "0.507856918052 -2.3296780455\n",
      "calculation so far took 1032.878603219986  seconds\n",
      "step  194 of  1000\n",
      "0.507856918052 -2.54220706203\n",
      "calculation so far took 1036.9861550331116  seconds\n",
      "step  195 of  1000\n",
      "0.507856918052 -2.40344190957\n",
      "calculation so far took 1041.0834448337555  seconds\n",
      "step  196 of  1000\n"
     ]
    },
    {
     "name": "stderr",
     "output_type": "stream",
     "text": [
      "Traceback (most recent call last):\n",
      "  File \"/home/philcox/Chempy/Chempy/cem_function.py\", line 884, in posterior_function_many_stars\n",
      "    posterior, blobs = posterior_function_many_stars_real(changing_parameter,error_list,elements)\n",
      "  File \"/home/philcox/Chempy/Chempy/cem_function.py\", line 922, in posterior_function_many_stars_real\n",
      "    abundance_list,element_list = posterior_function_returning_predictions(args)\n",
      "  File \"/home/philcox/Chempy/Chempy/cem_function.py\", line 484, in posterior_function_returning_predictions\n",
      "    posterior, abundance_list, element_list = posterior_function_predictions(changing_parameter,a)\n",
      "  File \"/home/philcox/Chempy/Chempy/cem_function.py\", line 494, in posterior_function_predictions\n",
      "    a = extract_parameters_and_priors(changing_parameter, a)\n",
      "  File \"/home/philcox/Chempy/Chempy/cem_function.py\", line 721, in extract_parameters_and_priors\n",
      "    assert False, '%s upper border is violated' %(name)\n",
      "AssertionError: log10_sfr_scale upper border is violated\n"
     ]
    },
    {
     "name": "stdout",
     "output_type": "stream",
     "text": [
      "0.507856918052 -2.45996170182\n",
      "calculation so far took 1045.1250576972961  seconds\n",
      "step  197 of  1000\n"
     ]
    },
    {
     "name": "stderr",
     "output_type": "stream",
     "text": [
      "Traceback (most recent call last):\n",
      "  File \"/home/philcox/Chempy/Chempy/cem_function.py\", line 884, in posterior_function_many_stars\n",
      "    posterior, blobs = posterior_function_many_stars_real(changing_parameter,error_list,elements)\n",
      "  File \"/home/philcox/Chempy/Chempy/cem_function.py\", line 922, in posterior_function_many_stars_real\n",
      "    abundance_list,element_list = posterior_function_returning_predictions(args)\n",
      "  File \"/home/philcox/Chempy/Chempy/cem_function.py\", line 484, in posterior_function_returning_predictions\n",
      "    posterior, abundance_list, element_list = posterior_function_predictions(changing_parameter,a)\n",
      "  File \"/home/philcox/Chempy/Chempy/cem_function.py\", line 494, in posterior_function_predictions\n",
      "    a = extract_parameters_and_priors(changing_parameter, a)\n",
      "  File \"/home/philcox/Chempy/Chempy/cem_function.py\", line 719, in extract_parameters_and_priors\n",
      "    assert False, '%s lower border is violated' %(name)\n",
      "AssertionError: log10_sfr_scale lower border is violated\n"
     ]
    },
    {
     "name": "stdout",
     "output_type": "stream",
     "text": [
      "0.507856918052 -2.48526016986\n",
      "calculation so far took 1049.4162888526917  seconds\n",
      "step  198 of  1000\n"
     ]
    },
    {
     "name": "stderr",
     "output_type": "stream",
     "text": [
      "Traceback (most recent call last):\n",
      "  File \"/home/philcox/Chempy/Chempy/cem_function.py\", line 884, in posterior_function_many_stars\n",
      "    posterior, blobs = posterior_function_many_stars_real(changing_parameter,error_list,elements)\n",
      "  File \"/home/philcox/Chempy/Chempy/cem_function.py\", line 922, in posterior_function_many_stars_real\n",
      "    abundance_list,element_list = posterior_function_returning_predictions(args)\n",
      "  File \"/home/philcox/Chempy/Chempy/cem_function.py\", line 484, in posterior_function_returning_predictions\n",
      "    posterior, abundance_list, element_list = posterior_function_predictions(changing_parameter,a)\n",
      "  File \"/home/philcox/Chempy/Chempy/cem_function.py\", line 494, in posterior_function_predictions\n",
      "    a = extract_parameters_and_priors(changing_parameter, a)\n",
      "  File \"/home/philcox/Chempy/Chempy/cem_function.py\", line 721, in extract_parameters_and_priors\n",
      "    assert False, '%s upper border is violated' %(name)\n",
      "AssertionError: outflow_feedback_fraction upper border is violated\n"
     ]
    },
    {
     "name": "stdout",
     "output_type": "stream",
     "text": [
      "0.507856918052 -2.59658885086\n",
      "calculation so far took 1053.3893439769745  seconds\n",
      "step  199 of  1000\n"
     ]
    },
    {
     "name": "stderr",
     "output_type": "stream",
     "text": [
      "Traceback (most recent call last):\n",
      "  File \"/home/philcox/Chempy/Chempy/cem_function.py\", line 884, in posterior_function_many_stars\n",
      "    posterior, blobs = posterior_function_many_stars_real(changing_parameter,error_list,elements)\n",
      "  File \"/home/philcox/Chempy/Chempy/cem_function.py\", line 922, in posterior_function_many_stars_real\n",
      "    abundance_list,element_list = posterior_function_returning_predictions(args)\n",
      "  File \"/home/philcox/Chempy/Chempy/cem_function.py\", line 484, in posterior_function_returning_predictions\n",
      "    posterior, abundance_list, element_list = posterior_function_predictions(changing_parameter,a)\n",
      "  File \"/home/philcox/Chempy/Chempy/cem_function.py\", line 494, in posterior_function_predictions\n",
      "    a = extract_parameters_and_priors(changing_parameter, a)\n",
      "  File \"/home/philcox/Chempy/Chempy/cem_function.py\", line 721, in extract_parameters_and_priors\n",
      "    assert False, '%s upper border is violated' %(name)\n",
      "AssertionError: log10_sfr_scale upper border is violated\n"
     ]
    },
    {
     "name": "stdout",
     "output_type": "stream",
     "text": [
      "0.507856918052 -2.12620013025\n",
      "calculation so far took 1057.429342508316  seconds\n",
      "step  200 of  1000\n",
      "0.507856918052 -2.10064535252\n",
      "calculation so far took 1061.5382373332977  seconds\n",
      "step  201 of  1000\n",
      "0.507856918052 -2.32252916434\n",
      "calculation so far took 1065.5578002929688  seconds\n",
      "step  202 of  1000\n",
      "0.507856918052 -2.35008896908\n",
      "calculation so far took 1069.4743967056274  seconds\n",
      "step  203 of  1000\n",
      "0.507856918052 -2.40819783281\n",
      "calculation so far took 1074.1482617855072  seconds\n",
      "step  204 of  1000\n",
      "0.507856918052 -2.1853195196\n",
      "posterior -1, -100, -200 -2.1853195196 -2.04129964128 0.494617145244\n",
      "posterior 0, 100, 200 0.507856918052 -2.0653385202 -2.10064535252\n",
      "calculation so far took 1078.970290184021  seconds\n",
      "step  205 of  1000\n",
      "0.507856918052 -2.11011003742\n",
      "posterior -1, -100, -200 -2.11011003742 -1.95882221721 0.481079227722\n",
      "posterior 0, 100, 200 0.507856918052 -2.0653385202 -2.10064535252\n",
      "calculation so far took 1083.2608320713043  seconds\n",
      "step  206 of  1000\n",
      "0.507856918052 -2.18173554453\n",
      "posterior -1, -100, -200 -2.18173554453 -2.05456646512 0.457595425775\n",
      "posterior 0, 100, 200 0.507856918052 -2.0653385202 -2.10064535252\n",
      "calculation so far took 1087.2567648887634  seconds\n",
      "step  207 of  1000\n",
      "0.507856918052 -2.35069677157\n",
      "posterior -1, -100, -200 -2.35069677157 -1.90097900635 0.435444854526\n",
      "posterior 0, 100, 200 0.507856918052 -2.0653385202 -2.10064535252\n",
      "calculation so far took 1091.5314333438873  seconds\n",
      "step  208 of  1000\n"
     ]
    },
    {
     "name": "stderr",
     "output_type": "stream",
     "text": [
      "Traceback (most recent call last):\n",
      "  File \"/home/philcox/Chempy/Chempy/cem_function.py\", line 884, in posterior_function_many_stars\n",
      "    posterior, blobs = posterior_function_many_stars_real(changing_parameter,error_list,elements)\n",
      "  File \"/home/philcox/Chempy/Chempy/cem_function.py\", line 922, in posterior_function_many_stars_real\n",
      "    abundance_list,element_list = posterior_function_returning_predictions(args)\n",
      "  File \"/home/philcox/Chempy/Chempy/cem_function.py\", line 484, in posterior_function_returning_predictions\n",
      "    posterior, abundance_list, element_list = posterior_function_predictions(changing_parameter,a)\n",
      "  File \"/home/philcox/Chempy/Chempy/cem_function.py\", line 494, in posterior_function_predictions\n",
      "    a = extract_parameters_and_priors(changing_parameter, a)\n",
      "  File \"/home/philcox/Chempy/Chempy/cem_function.py\", line 721, in extract_parameters_and_priors\n",
      "    assert False, '%s upper border is violated' %(name)\n",
      "AssertionError: outflow_feedback_fraction upper border is violated\n"
     ]
    },
    {
     "name": "stdout",
     "output_type": "stream",
     "text": [
      "0.507856918052 -2.32784663035\n",
      "posterior -1, -100, -200 -2.32784663035 -1.92289820368 0.30200843176\n",
      "posterior 0, 100, 200 0.507856918052 -2.0653385202 -2.10064535252\n",
      "calculation so far took 1095.7737486362457  seconds\n",
      "step  209 of  1000\n",
      "0.507856918052 -2.19711021686\n",
      "posterior -1, -100, -200 -2.19711021686 -1.92135728572 0.133268368929\n",
      "posterior 0, 100, 200 0.507856918052 -2.0653385202 -2.10064535252\n",
      "calculation so far took 1099.7418310642242  seconds\n",
      "step  210 of  1000\n"
     ]
    },
    {
     "name": "stderr",
     "output_type": "stream",
     "text": [
      "Traceback (most recent call last):\n",
      "  File \"/home/philcox/Chempy/Chempy/cem_function.py\", line 884, in posterior_function_many_stars\n",
      "    posterior, blobs = posterior_function_many_stars_real(changing_parameter,error_list,elements)\n",
      "  File \"/home/philcox/Chempy/Chempy/cem_function.py\", line 922, in posterior_function_many_stars_real\n",
      "    abundance_list,element_list = posterior_function_returning_predictions(args)\n",
      "  File \"/home/philcox/Chempy/Chempy/cem_function.py\", line 484, in posterior_function_returning_predictions\n",
      "    posterior, abundance_list, element_list = posterior_function_predictions(changing_parameter,a)\n",
      "  File \"/home/philcox/Chempy/Chempy/cem_function.py\", line 494, in posterior_function_predictions\n",
      "    a = extract_parameters_and_priors(changing_parameter, a)\n",
      "  File \"/home/philcox/Chempy/Chempy/cem_function.py\", line 721, in extract_parameters_and_priors\n",
      "    assert False, '%s upper border is violated' %(name)\n",
      "AssertionError: outflow_feedback_fraction upper border is violated\n"
     ]
    },
    {
     "name": "stdout",
     "output_type": "stream",
     "text": [
      "0.507856918052 -2.13717788339\n",
      "posterior -1, -100, -200 -2.13717788339 -2.00605002808 -0.222858141059\n",
      "posterior 0, 100, 200 0.507856918052 -2.0653385202 -2.10064535252\n",
      "calculation so far took 1103.7607600688934  seconds\n",
      "step  211 of  1000\n",
      "0.507856918052 -2.0696396054\n",
      "posterior -1, -100, -200 -2.0696396054 -2.12349494559 -0.44929801877\n",
      "posterior 0, 100, 200 0.507856918052 -2.0653385202 -2.10064535252\n",
      "calculation so far took 1107.871703863144  seconds\n",
      "step  212 of  1000\n",
      "0.507856918052 -2.0462844519\n",
      "posterior -1, -100, -200 -2.0462844519 -1.97303360571 -0.457829435144\n",
      "posterior 0, 100, 200 0.507856918052 -2.0653385202 -2.10064535252\n",
      "calculation so far took 1111.9551441669464  seconds\n",
      "step  213 of  1000\n",
      "0.507856918052 -2.32984521484\n",
      "posterior -1, -100, -200 -2.32984521484 -2.04279456367 -0.959697407648\n",
      "posterior 0, 100, 200 0.507856918052 -2.0653385202 -2.10064535252\n",
      "calculation so far took 1116.0275745391846  seconds\n",
      "step  214 of  1000\n",
      "0.507856918052 -2.18957941616\n",
      "posterior -1, -100, -200 -2.18957941616 -2.25603645022 -1.16455347662\n",
      "posterior 0, 100, 200 0.507856918052 -2.0653385202 -2.10064535252\n",
      "calculation so far took 1120.0878913402557  seconds\n",
      "step  215 of  1000\n"
     ]
    },
    {
     "name": "stderr",
     "output_type": "stream",
     "text": [
      "Traceback (most recent call last):\n",
      "  File \"/home/philcox/Chempy/Chempy/cem_function.py\", line 884, in posterior_function_many_stars\n",
      "    posterior, blobs = posterior_function_many_stars_real(changing_parameter,error_list,elements)\n",
      "  File \"/home/philcox/Chempy/Chempy/cem_function.py\", line 922, in posterior_function_many_stars_real\n",
      "    abundance_list,element_list = posterior_function_returning_predictions(args)\n",
      "  File \"/home/philcox/Chempy/Chempy/cem_function.py\", line 484, in posterior_function_returning_predictions\n",
      "    posterior, abundance_list, element_list = posterior_function_predictions(changing_parameter,a)\n",
      "  File \"/home/philcox/Chempy/Chempy/cem_function.py\", line 494, in posterior_function_predictions\n",
      "    a = extract_parameters_and_priors(changing_parameter, a)\n",
      "  File \"/home/philcox/Chempy/Chempy/cem_function.py\", line 721, in extract_parameters_and_priors\n",
      "    assert False, '%s upper border is violated' %(name)\n",
      "AssertionError: outflow_feedback_fraction upper border is violated\n"
     ]
    },
    {
     "name": "stdout",
     "output_type": "stream",
     "text": [
      "0.507856918052 -2.34806280367\n",
      "posterior -1, -100, -200 -2.34806280367 -2.23726863755 -1.11280778164\n",
      "posterior 0, 100, 200 0.507856918052 -2.0653385202 -2.10064535252\n",
      "calculation so far took 1124.1483225822449  seconds\n",
      "step  216 of  1000\n",
      "0.507856918052 -2.25511772245\n",
      "posterior -1, -100, -200 -2.25511772245 -2.22942659825 -1.42273254478\n",
      "posterior 0, 100, 200 0.507856918052 -2.0653385202 -2.10064535252\n",
      "calculation so far took 1128.2915325164795  seconds\n",
      "step  217 of  1000\n",
      "0.507856918052 -2.33310032867\n",
      "posterior -1, -100, -200 -2.33310032867 -2.26575614338 -1.53750275722\n",
      "posterior 0, 100, 200 0.507856918052 -2.0653385202 -2.10064535252\n",
      "calculation so far took 1132.3689980506897  seconds\n",
      "step  218 of  1000\n"
     ]
    },
    {
     "name": "stderr",
     "output_type": "stream",
     "text": [
      "Traceback (most recent call last):\n",
      "  File \"/home/philcox/Chempy/Chempy/cem_function.py\", line 884, in posterior_function_many_stars\n",
      "    posterior, blobs = posterior_function_many_stars_real(changing_parameter,error_list,elements)\n",
      "  File \"/home/philcox/Chempy/Chempy/cem_function.py\", line 922, in posterior_function_many_stars_real\n",
      "    abundance_list,element_list = posterior_function_returning_predictions(args)\n",
      "  File \"/home/philcox/Chempy/Chempy/cem_function.py\", line 484, in posterior_function_returning_predictions\n",
      "    posterior, abundance_list, element_list = posterior_function_predictions(changing_parameter,a)\n",
      "  File \"/home/philcox/Chempy/Chempy/cem_function.py\", line 494, in posterior_function_predictions\n",
      "    a = extract_parameters_and_priors(changing_parameter, a)\n",
      "  File \"/home/philcox/Chempy/Chempy/cem_function.py\", line 721, in extract_parameters_and_priors\n",
      "    assert False, '%s upper border is violated' %(name)\n",
      "AssertionError: outflow_feedback_fraction upper border is violated\n"
     ]
    },
    {
     "name": "stdout",
     "output_type": "stream",
     "text": [
      "0.507856918052 -2.53097948744\n",
      "posterior -1, -100, -200 -2.53097948744 -2.20937064473 -1.7040122435\n",
      "posterior 0, 100, 200 0.507856918052 -2.0653385202 -2.10064535252\n",
      "calculation so far took 1136.4662210941315  seconds\n",
      "step  219 of  1000\n",
      "0.507856918052 -2.5235255343\n",
      "posterior -1, -100, -200 -2.5235255343 -2.3399696987 -1.51972024319\n",
      "posterior 0, 100, 200 0.507856918052 -2.0653385202 -2.10064535252\n",
      "calculation so far took 1140.5123271942139  seconds\n",
      "step  220 of  1000\n",
      "0.507856918052 -2.47505858298\n",
      "posterior -1, -100, -200 -2.47505858298 -2.27608800113 -1.64908842311\n",
      "posterior 0, 100, 200 0.507856918052 -2.0653385202 -2.10064535252\n",
      "calculation so far took 1144.4452619552612  seconds\n",
      "step  221 of  1000\n",
      "0.507856918052 -2.50748624931\n",
      "posterior -1, -100, -200 -2.50748624931 -2.26653299904 -1.61536667972\n",
      "posterior 0, 100, 200 0.507856918052 -2.0653385202 -2.10064535252\n",
      "calculation so far took 1148.49356508255  seconds\n",
      "step  222 of  1000\n"
     ]
    },
    {
     "name": "stderr",
     "output_type": "stream",
     "text": [
      "Traceback (most recent call last):\n",
      "  File \"/home/philcox/Chempy/Chempy/cem_function.py\", line 884, in posterior_function_many_stars\n",
      "    posterior, blobs = posterior_function_many_stars_real(changing_parameter,error_list,elements)\n",
      "  File \"/home/philcox/Chempy/Chempy/cem_function.py\", line 922, in posterior_function_many_stars_real\n",
      "    abundance_list,element_list = posterior_function_returning_predictions(args)\n",
      "  File \"/home/philcox/Chempy/Chempy/cem_function.py\", line 484, in posterior_function_returning_predictions\n",
      "    posterior, abundance_list, element_list = posterior_function_predictions(changing_parameter,a)\n",
      "  File \"/home/philcox/Chempy/Chempy/cem_function.py\", line 494, in posterior_function_predictions\n",
      "    a = extract_parameters_and_priors(changing_parameter, a)\n",
      "  File \"/home/philcox/Chempy/Chempy/cem_function.py\", line 719, in extract_parameters_and_priors\n",
      "    assert False, '%s lower border is violated' %(name)\n",
      "AssertionError: outflow_feedback_fraction lower border is violated\n",
      "Traceback (most recent call last):\n",
      "  File \"/home/philcox/Chempy/Chempy/cem_function.py\", line 884, in posterior_function_many_stars\n",
      "    posterior, blobs = posterior_function_many_stars_real(changing_parameter,error_list,elements)\n",
      "  File \"/home/philcox/Chempy/Chempy/cem_function.py\", line 922, in posterior_function_many_stars_real\n",
      "    abundance_list,element_list = posterior_function_returning_predictions(args)\n",
      "  File \"/home/philcox/Chempy/Chempy/cem_function.py\", line 484, in posterior_function_returning_predictions\n",
      "    posterior, abundance_list, element_list = posterior_function_predictions(changing_parameter,a)\n",
      "  File \"/home/philcox/Chempy/Chempy/cem_function.py\", line 494, in posterior_function_predictions\n",
      "    a = extract_parameters_and_priors(changing_parameter, a)\n",
      "  File \"/home/philcox/Chempy/Chempy/cem_function.py\", line 721, in extract_parameters_and_priors\n",
      "    assert False, '%s upper border is violated' %(name)\n",
      "AssertionError: outflow_feedback_fraction upper border is violated\n"
     ]
    },
    {
     "name": "stdout",
     "output_type": "stream",
     "text": [
      "0.507856918052 -2.4688219677\n",
      "posterior -1, -100, -200 -2.4688219677 -2.35239640775 -1.76274453632\n",
      "posterior 0, 100, 200 0.507856918052 -2.0653385202 -2.10064535252\n",
      "calculation so far took 1152.4810395240784  seconds\n",
      "step  223 of  1000\n"
     ]
    },
    {
     "name": "stderr",
     "output_type": "stream",
     "text": [
      "Traceback (most recent call last):\n",
      "  File \"/home/philcox/Chempy/Chempy/cem_function.py\", line 884, in posterior_function_many_stars\n",
      "    posterior, blobs = posterior_function_many_stars_real(changing_parameter,error_list,elements)\n",
      "  File \"/home/philcox/Chempy/Chempy/cem_function.py\", line 922, in posterior_function_many_stars_real\n",
      "    abundance_list,element_list = posterior_function_returning_predictions(args)\n",
      "  File \"/home/philcox/Chempy/Chempy/cem_function.py\", line 484, in posterior_function_returning_predictions\n",
      "    posterior, abundance_list, element_list = posterior_function_predictions(changing_parameter,a)\n",
      "  File \"/home/philcox/Chempy/Chempy/cem_function.py\", line 494, in posterior_function_predictions\n",
      "    a = extract_parameters_and_priors(changing_parameter, a)\n",
      "  File \"/home/philcox/Chempy/Chempy/cem_function.py\", line 719, in extract_parameters_and_priors\n",
      "    assert False, '%s lower border is violated' %(name)\n",
      "AssertionError: outflow_feedback_fraction lower border is violated\n"
     ]
    },
    {
     "name": "stdout",
     "output_type": "stream",
     "text": [
      "0.507856918052 -2.40092696835\n",
      "posterior -1, -100, -200 -2.40092696835 -2.41349035812 -1.55099449213\n",
      "posterior 0, 100, 200 0.507856918052 -2.0653385202 -2.10064535252\n",
      "calculation so far took 1156.455399274826  seconds\n",
      "step  224 of  1000\n",
      "0.507856918052 -2.16584770632\n",
      "posterior -1, -100, -200 -2.16584770632 -2.34173539771 -1.64530798063\n",
      "posterior 0, 100, 200 0.507856918052 -2.0653385202 -2.10064535252\n",
      "calculation so far took 1160.9192411899567  seconds\n",
      "step  225 of  1000\n",
      "0.507856918052 -2.33460076863\n",
      "posterior -1, -100, -200 -2.33460076863 -2.06482271268 -1.77184909551\n",
      "posterior 0, 100, 200 0.507856918052 -2.0653385202 -2.10064535252\n",
      "calculation so far took 1165.0108485221863  seconds\n",
      "step  226 of  1000\n"
     ]
    },
    {
     "name": "stderr",
     "output_type": "stream",
     "text": [
      "Traceback (most recent call last):\n",
      "  File \"/home/philcox/Chempy/Chempy/cem_function.py\", line 884, in posterior_function_many_stars\n",
      "    posterior, blobs = posterior_function_many_stars_real(changing_parameter,error_list,elements)\n",
      "  File \"/home/philcox/Chempy/Chempy/cem_function.py\", line 922, in posterior_function_many_stars_real\n",
      "    abundance_list,element_list = posterior_function_returning_predictions(args)\n",
      "  File \"/home/philcox/Chempy/Chempy/cem_function.py\", line 484, in posterior_function_returning_predictions\n",
      "    posterior, abundance_list, element_list = posterior_function_predictions(changing_parameter,a)\n",
      "  File \"/home/philcox/Chempy/Chempy/cem_function.py\", line 494, in posterior_function_predictions\n",
      "    a = extract_parameters_and_priors(changing_parameter, a)\n",
      "  File \"/home/philcox/Chempy/Chempy/cem_function.py\", line 721, in extract_parameters_and_priors\n",
      "    assert False, '%s upper border is violated' %(name)\n",
      "AssertionError: log10_sfr_scale upper border is violated\n"
     ]
    },
    {
     "name": "stdout",
     "output_type": "stream",
     "text": [
      "0.507856918052 -2.28609593816\n",
      "posterior -1, -100, -200 -2.28609593816 -2.4071059149 -1.63312248175\n",
      "posterior 0, 100, 200 0.507856918052 -2.0653385202 -2.10064535252\n",
      "calculation so far took 1169.1625785827637  seconds\n",
      "step  227 of  1000\n"
     ]
    },
    {
     "name": "stderr",
     "output_type": "stream",
     "text": [
      "Traceback (most recent call last):\n",
      "  File \"/home/philcox/Chempy/Chempy/cem_function.py\", line 884, in posterior_function_many_stars\n",
      "    posterior, blobs = posterior_function_many_stars_real(changing_parameter,error_list,elements)\n",
      "  File \"/home/philcox/Chempy/Chempy/cem_function.py\", line 922, in posterior_function_many_stars_real\n",
      "    abundance_list,element_list = posterior_function_returning_predictions(args)\n",
      "  File \"/home/philcox/Chempy/Chempy/cem_function.py\", line 484, in posterior_function_returning_predictions\n",
      "    posterior, abundance_list, element_list = posterior_function_predictions(changing_parameter,a)\n",
      "  File \"/home/philcox/Chempy/Chempy/cem_function.py\", line 494, in posterior_function_predictions\n",
      "    a = extract_parameters_and_priors(changing_parameter, a)\n",
      "  File \"/home/philcox/Chempy/Chempy/cem_function.py\", line 719, in extract_parameters_and_priors\n",
      "    assert False, '%s lower border is violated' %(name)\n",
      "AssertionError: outflow_feedback_fraction lower border is violated\n"
     ]
    },
    {
     "name": "stdout",
     "output_type": "stream",
     "text": [
      "0.507856918052 -2.41003407128\n",
      "posterior -1, -100, -200 -2.41003407128 -2.33968919476 -1.66224329697\n",
      "posterior 0, 100, 200 0.507856918052 -2.0653385202 -2.10064535252\n",
      "calculation so far took 1173.357982635498  seconds\n",
      "step  228 of  1000\n"
     ]
    },
    {
     "name": "stderr",
     "output_type": "stream",
     "text": [
      "Traceback (most recent call last):\n",
      "  File \"/home/philcox/Chempy/Chempy/cem_function.py\", line 884, in posterior_function_many_stars\n",
      "    posterior, blobs = posterior_function_many_stars_real(changing_parameter,error_list,elements)\n",
      "  File \"/home/philcox/Chempy/Chempy/cem_function.py\", line 922, in posterior_function_many_stars_real\n",
      "    abundance_list,element_list = posterior_function_returning_predictions(args)\n",
      "  File \"/home/philcox/Chempy/Chempy/cem_function.py\", line 484, in posterior_function_returning_predictions\n",
      "    posterior, abundance_list, element_list = posterior_function_predictions(changing_parameter,a)\n",
      "  File \"/home/philcox/Chempy/Chempy/cem_function.py\", line 494, in posterior_function_predictions\n",
      "    a = extract_parameters_and_priors(changing_parameter, a)\n",
      "  File \"/home/philcox/Chempy/Chempy/cem_function.py\", line 721, in extract_parameters_and_priors\n",
      "    assert False, '%s upper border is violated' %(name)\n",
      "AssertionError: outflow_feedback_fraction upper border is violated\n"
     ]
    },
    {
     "name": "stdout",
     "output_type": "stream",
     "text": [
      "0.507856918052 -2.34634840608\n",
      "posterior -1, -100, -200 -2.34634840608 -2.31722010416 -1.5849765852\n",
      "posterior 0, 100, 200 0.507856918052 -2.0653385202 -2.10064535252\n",
      "calculation so far took 1177.7978510856628  seconds\n",
      "step  229 of  1000\n"
     ]
    },
    {
     "name": "stderr",
     "output_type": "stream",
     "text": [
      "Traceback (most recent call last):\n",
      "  File \"/home/philcox/Chempy/Chempy/cem_function.py\", line 884, in posterior_function_many_stars\n",
      "    posterior, blobs = posterior_function_many_stars_real(changing_parameter,error_list,elements)\n",
      "  File \"/home/philcox/Chempy/Chempy/cem_function.py\", line 922, in posterior_function_many_stars_real\n",
      "    abundance_list,element_list = posterior_function_returning_predictions(args)\n",
      "  File \"/home/philcox/Chempy/Chempy/cem_function.py\", line 484, in posterior_function_returning_predictions\n",
      "    posterior, abundance_list, element_list = posterior_function_predictions(changing_parameter,a)\n",
      "  File \"/home/philcox/Chempy/Chempy/cem_function.py\", line 494, in posterior_function_predictions\n",
      "    a = extract_parameters_and_priors(changing_parameter, a)\n",
      "  File \"/home/philcox/Chempy/Chempy/cem_function.py\", line 721, in extract_parameters_and_priors\n",
      "    assert False, '%s upper border is violated' %(name)\n",
      "AssertionError: outflow_feedback_fraction upper border is violated\n",
      "Traceback (most recent call last):\n",
      "  File \"/home/philcox/Chempy/Chempy/cem_function.py\", line 884, in posterior_function_many_stars\n",
      "    posterior, blobs = posterior_function_many_stars_real(changing_parameter,error_list,elements)\n",
      "  File \"/home/philcox/Chempy/Chempy/cem_function.py\", line 922, in posterior_function_many_stars_real\n",
      "    abundance_list,element_list = posterior_function_returning_predictions(args)\n",
      "  File \"/home/philcox/Chempy/Chempy/cem_function.py\", line 484, in posterior_function_returning_predictions\n",
      "    posterior, abundance_list, element_list = posterior_function_predictions(changing_parameter,a)\n",
      "  File \"/home/philcox/Chempy/Chempy/cem_function.py\", line 494, in posterior_function_predictions\n",
      "    a = extract_parameters_and_priors(changing_parameter, a)\n",
      "  File \"/home/philcox/Chempy/Chempy/cem_function.py\", line 719, in extract_parameters_and_priors\n",
      "    assert False, '%s lower border is violated' %(name)\n",
      "AssertionError: outflow_feedback_fraction lower border is violated\n"
     ]
    },
    {
     "name": "stdout",
     "output_type": "stream",
     "text": [
      "0.507856918052 -2.2463449478\n",
      "posterior -1, -100, -200 -2.2463449478 -2.1348551277 -1.3840746606\n",
      "posterior 0, 100, 200 0.507856918052 -2.0653385202 -2.10064535252\n",
      "calculation so far took 1181.7552316188812  seconds\n",
      "step  230 of  1000\n"
     ]
    },
    {
     "name": "stderr",
     "output_type": "stream",
     "text": [
      "Traceback (most recent call last):\n",
      "  File \"/home/philcox/Chempy/Chempy/cem_function.py\", line 884, in posterior_function_many_stars\n",
      "    posterior, blobs = posterior_function_many_stars_real(changing_parameter,error_list,elements)\n",
      "  File \"/home/philcox/Chempy/Chempy/cem_function.py\", line 922, in posterior_function_many_stars_real\n",
      "    abundance_list,element_list = posterior_function_returning_predictions(args)\n",
      "  File \"/home/philcox/Chempy/Chempy/cem_function.py\", line 484, in posterior_function_returning_predictions\n",
      "    posterior, abundance_list, element_list = posterior_function_predictions(changing_parameter,a)\n",
      "  File \"/home/philcox/Chempy/Chempy/cem_function.py\", line 494, in posterior_function_predictions\n",
      "    a = extract_parameters_and_priors(changing_parameter, a)\n",
      "  File \"/home/philcox/Chempy/Chempy/cem_function.py\", line 719, in extract_parameters_and_priors\n",
      "    assert False, '%s lower border is violated' %(name)\n",
      "AssertionError: outflow_feedback_fraction lower border is violated\n"
     ]
    },
    {
     "name": "stdout",
     "output_type": "stream",
     "text": [
      "0.507856918052 -2.26887027459\n",
      "posterior -1, -100, -200 -2.26887027459 -2.08525750074 -1.2986848839\n",
      "posterior 0, 100, 200 0.507856918052 -2.0653385202 -2.10064535252\n",
      "calculation so far took 1186.2052342891693  seconds\n",
      "step  231 of  1000\n",
      "0.507856918052 -2.13422760242\n",
      "posterior -1, -100, -200 -2.13422760242 -1.98957136943 -1.43206533088\n",
      "posterior 0, 100, 200 0.507856918052 -2.0653385202 -2.10064535252\n",
      "calculation so far took 1190.3738622665405  seconds\n",
      "step  232 of  1000\n"
     ]
    },
    {
     "name": "stderr",
     "output_type": "stream",
     "text": [
      "Traceback (most recent call last):\n",
      "  File \"/home/philcox/Chempy/Chempy/cem_function.py\", line 884, in posterior_function_many_stars\n",
      "    posterior, blobs = posterior_function_many_stars_real(changing_parameter,error_list,elements)\n",
      "  File \"/home/philcox/Chempy/Chempy/cem_function.py\", line 922, in posterior_function_many_stars_real\n",
      "    abundance_list,element_list = posterior_function_returning_predictions(args)\n",
      "  File \"/home/philcox/Chempy/Chempy/cem_function.py\", line 484, in posterior_function_returning_predictions\n",
      "    posterior, abundance_list, element_list = posterior_function_predictions(changing_parameter,a)\n",
      "  File \"/home/philcox/Chempy/Chempy/cem_function.py\", line 494, in posterior_function_predictions\n",
      "    a = extract_parameters_and_priors(changing_parameter, a)\n",
      "  File \"/home/philcox/Chempy/Chempy/cem_function.py\", line 721, in extract_parameters_and_priors\n",
      "    assert False, '%s upper border is violated' %(name)\n",
      "AssertionError: log10_sfr_scale upper border is violated\n"
     ]
    },
    {
     "name": "stdout",
     "output_type": "stream",
     "text": [
      "0.507856918052 -2.26394287616\n",
      "posterior -1, -100, -200 -2.26394287616 -2.16626279516 -1.41347243118\n",
      "posterior 0, 100, 200 0.507856918052 -2.0653385202 -2.10064535252\n",
      "calculation so far took 1195.1656079292297  seconds\n",
      "step  233 of  1000\n",
      "0.507856918052 -2.08071861587\n",
      "posterior -1, -100, -200 -2.08071861587 -2.18871190728 -1.42561382415\n",
      "posterior 0, 100, 200 0.507856918052 -2.0653385202 -2.10064535252\n",
      "calculation so far took 1199.7842025756836  seconds\n",
      "step  234 of  1000\n"
     ]
    },
    {
     "name": "stderr",
     "output_type": "stream",
     "text": [
      "Traceback (most recent call last):\n",
      "  File \"/home/philcox/Chempy/Chempy/cem_function.py\", line 884, in posterior_function_many_stars\n",
      "    posterior, blobs = posterior_function_many_stars_real(changing_parameter,error_list,elements)\n",
      "  File \"/home/philcox/Chempy/Chempy/cem_function.py\", line 922, in posterior_function_many_stars_real\n",
      "    abundance_list,element_list = posterior_function_returning_predictions(args)\n",
      "  File \"/home/philcox/Chempy/Chempy/cem_function.py\", line 484, in posterior_function_returning_predictions\n",
      "    posterior, abundance_list, element_list = posterior_function_predictions(changing_parameter,a)\n",
      "  File \"/home/philcox/Chempy/Chempy/cem_function.py\", line 494, in posterior_function_predictions\n",
      "    a = extract_parameters_and_priors(changing_parameter, a)\n",
      "  File \"/home/philcox/Chempy/Chempy/cem_function.py\", line 721, in extract_parameters_and_priors\n",
      "    assert False, '%s upper border is violated' %(name)\n",
      "AssertionError: outflow_feedback_fraction upper border is violated\n",
      "Traceback (most recent call last):\n",
      "  File \"/home/philcox/Chempy/Chempy/cem_function.py\", line 884, in posterior_function_many_stars\n",
      "    posterior, blobs = posterior_function_many_stars_real(changing_parameter,error_list,elements)\n",
      "  File \"/home/philcox/Chempy/Chempy/cem_function.py\", line 922, in posterior_function_many_stars_real\n",
      "    abundance_list,element_list = posterior_function_returning_predictions(args)\n",
      "  File \"/home/philcox/Chempy/Chempy/cem_function.py\", line 484, in posterior_function_returning_predictions\n",
      "    posterior, abundance_list, element_list = posterior_function_predictions(changing_parameter,a)\n",
      "  File \"/home/philcox/Chempy/Chempy/cem_function.py\", line 494, in posterior_function_predictions\n",
      "    a = extract_parameters_and_priors(changing_parameter, a)\n",
      "  File \"/home/philcox/Chempy/Chempy/cem_function.py\", line 719, in extract_parameters_and_priors\n",
      "    assert False, '%s lower border is violated' %(name)\n",
      "AssertionError: log10_sfr_scale lower border is violated\n"
     ]
    },
    {
     "name": "stdout",
     "output_type": "stream",
     "text": [
      "0.507856918052 -2.23749874094\n",
      "posterior -1, -100, -200 -2.23749874094 -2.39432351045 -1.44433820681\n",
      "posterior 0, 100, 200 0.507856918052 -2.0653385202 -2.10064535252\n",
      "calculation so far took 1204.750824689865  seconds\n",
      "step  235 of  1000\n",
      "0.507856918052 -2.06257875813\n",
      "posterior -1, -100, -200 -2.06257875813 -2.45626912274 -1.55824817722\n",
      "posterior 0, 100, 200 0.507856918052 -2.0653385202 -2.10064535252\n",
      "calculation so far took 1209.4119188785553  seconds\n",
      "step  236 of  1000\n",
      "0.507856918052 -1.99596597369\n",
      "posterior -1, -100, -200 -1.99596597369 -2.25700523461 -1.48033943017\n",
      "posterior 0, 100, 200 0.507856918052 -2.0653385202 -2.10064535252\n",
      "calculation so far took 1214.1200222969055  seconds\n",
      "step  237 of  1000\n",
      "0.507856918052 -1.75784721798\n",
      "posterior -1, -100, -200 -1.75784721798 -2.28915437521 -1.56738570474\n",
      "posterior 0, 100, 200 0.507856918052 -2.0653385202 -2.10064535252\n",
      "calculation so far took 1218.427941083908  seconds\n",
      "step  238 of  1000\n",
      "0.507856918052 -1.80406991486\n",
      "posterior -1, -100, -200 -1.80406991486 -2.09092424866 -1.46568636955\n",
      "posterior 0, 100, 200 0.507856918052 -2.0653385202 -2.10064535252\n",
      "calculation so far took 1222.2947735786438  seconds\n",
      "step  239 of  1000\n",
      "0.507856918052 -1.92292008013\n",
      "posterior -1, -100, -200 -1.92292008013 -1.95570277637 -1.66204858588\n",
      "posterior 0, 100, 200 0.507856918052 -2.0653385202 -2.10064535252\n",
      "calculation so far took 1226.3199210166931  seconds\n",
      "step  240 of  1000\n",
      "0.507856918052 -2.00075274638\n",
      "posterior -1, -100, -200 -2.00075274638 -1.87312989847 -1.71214889862\n",
      "posterior 0, 100, 200 0.507856918052 -2.0653385202 -2.10064535252\n",
      "calculation so far took 1230.5126280784607  seconds\n",
      "step  241 of  1000\n",
      "0.507856918052 -2.30609756356\n",
      "posterior -1, -100, -200 -2.30609756356 -1.95640244257 -1.9393297013\n",
      "posterior 0, 100, 200 0.507856918052 -2.0653385202 -2.10064535252\n",
      "calculation so far took 1234.596685886383  seconds\n",
      "step  242 of  1000\n"
     ]
    },
    {
     "name": "stderr",
     "output_type": "stream",
     "text": [
      "Traceback (most recent call last):\n",
      "  File \"/home/philcox/Chempy/Chempy/cem_function.py\", line 884, in posterior_function_many_stars\n",
      "    posterior, blobs = posterior_function_many_stars_real(changing_parameter,error_list,elements)\n",
      "  File \"/home/philcox/Chempy/Chempy/cem_function.py\", line 922, in posterior_function_many_stars_real\n",
      "    abundance_list,element_list = posterior_function_returning_predictions(args)\n",
      "  File \"/home/philcox/Chempy/Chempy/cem_function.py\", line 484, in posterior_function_returning_predictions\n",
      "    posterior, abundance_list, element_list = posterior_function_predictions(changing_parameter,a)\n",
      "  File \"/home/philcox/Chempy/Chempy/cem_function.py\", line 494, in posterior_function_predictions\n",
      "    a = extract_parameters_and_priors(changing_parameter, a)\n",
      "  File \"/home/philcox/Chempy/Chempy/cem_function.py\", line 721, in extract_parameters_and_priors\n",
      "    assert False, '%s upper border is violated' %(name)\n",
      "AssertionError: log10_sfr_scale upper border is violated\n"
     ]
    },
    {
     "name": "stdout",
     "output_type": "stream",
     "text": [
      "0.507856918052 -2.51582855526\n",
      "posterior -1, -100, -200 -2.51582855526 -1.86653584324 -1.80848269889\n",
      "posterior 0, 100, 200 0.507856918052 -2.0653385202 -2.10064535252\n",
      "calculation so far took 1238.7829520702362  seconds\n",
      "step  243 of  1000\n",
      "0.507856918052 -2.42632725426\n",
      "posterior -1, -100, -200 -2.42632725426 -2.13192361336 -1.58116192581\n",
      "posterior 0, 100, 200 0.507856918052 -2.0653385202 -2.10064535252\n",
      "calculation so far took 1242.6234436035156  seconds\n",
      "step  244 of  1000\n",
      "0.507856918052 -2.56257007617\n",
      "posterior -1, -100, -200 -2.56257007617 -2.29916080375 -1.6079011027\n",
      "posterior 0, 100, 200 0.507856918052 -2.0653385202 -2.10064535252\n",
      "calculation so far took 1246.9962282180786  seconds\n",
      "step  245 of  1000\n",
      "0.507856918052 -2.4928464486\n",
      "posterior -1, -100, -200 -2.4928464486 -2.36156061229 -1.6432481319\n",
      "posterior 0, 100, 200 0.507856918052 -2.0653385202 -2.10064535252\n",
      "calculation so far took 1250.980563879013  seconds\n",
      "step  246 of  1000\n",
      "0.507856918052 -2.17966443171\n",
      "posterior -1, -100, -200 -2.17966443171 -2.33832190655 -1.60196470313\n",
      "posterior 0, 100, 200 0.507856918052 -2.0653385202 -2.10064535252\n",
      "calculation so far took 1254.9988479614258  seconds\n",
      "step  247 of  1000\n",
      "0.507856918052 -2.08833235877\n",
      "posterior -1, -100, -200 -2.08833235877 -2.46941875184 -1.54272937034\n",
      "posterior 0, 100, 200 0.507856918052 -2.0653385202 -2.10064535252\n",
      "calculation so far took 1258.858871936798  seconds\n",
      "step  248 of  1000\n",
      "0.507856918052 -2.08959062022\n",
      "posterior -1, -100, -200 -2.08959062022 -2.26712666887 -1.50871510414\n",
      "posterior 0, 100, 200 0.507856918052 -2.0653385202 -2.10064535252\n",
      "calculation so far took 1262.74325633049  seconds\n",
      "step  249 of  1000\n"
     ]
    },
    {
     "name": "stderr",
     "output_type": "stream",
     "text": [
      "Traceback (most recent call last):\n",
      "  File \"/home/philcox/Chempy/Chempy/cem_function.py\", line 884, in posterior_function_many_stars\n",
      "    posterior, blobs = posterior_function_many_stars_real(changing_parameter,error_list,elements)\n",
      "  File \"/home/philcox/Chempy/Chempy/cem_function.py\", line 922, in posterior_function_many_stars_real\n",
      "    abundance_list,element_list = posterior_function_returning_predictions(args)\n",
      "  File \"/home/philcox/Chempy/Chempy/cem_function.py\", line 484, in posterior_function_returning_predictions\n",
      "    posterior, abundance_list, element_list = posterior_function_predictions(changing_parameter,a)\n",
      "  File \"/home/philcox/Chempy/Chempy/cem_function.py\", line 494, in posterior_function_predictions\n",
      "    a = extract_parameters_and_priors(changing_parameter, a)\n",
      "  File \"/home/philcox/Chempy/Chempy/cem_function.py\", line 721, in extract_parameters_and_priors\n",
      "    assert False, '%s upper border is violated' %(name)\n",
      "AssertionError: log10_sfr_scale upper border is violated\n"
     ]
    },
    {
     "name": "stdout",
     "output_type": "stream",
     "text": [
      "0.507856918052 -2.17003195824\n",
      "posterior -1, -100, -200 -2.17003195824 -2.48543224219 -1.7112516852\n",
      "posterior 0, 100, 200 0.507856918052 -2.0653385202 -2.10064535252\n",
      "calculation so far took 1266.943882226944  seconds\n",
      "step  250 of  1000\n",
      "0.507856918052 -1.92361831371\n",
      "posterior -1, -100, -200 -1.92361831371 -2.485615202 -1.60708049148\n",
      "posterior 0, 100, 200 0.507856918052 -2.0653385202 -2.10064535252\n",
      "calculation so far took 1270.8175654411316  seconds\n",
      "step  251 of  1000\n"
     ]
    },
    {
     "name": "stderr",
     "output_type": "stream",
     "text": [
      "Traceback (most recent call last):\n",
      "  File \"/home/philcox/Chempy/Chempy/cem_function.py\", line 884, in posterior_function_many_stars\n",
      "    posterior, blobs = posterior_function_many_stars_real(changing_parameter,error_list,elements)\n",
      "  File \"/home/philcox/Chempy/Chempy/cem_function.py\", line 922, in posterior_function_many_stars_real\n",
      "    abundance_list,element_list = posterior_function_returning_predictions(args)\n",
      "  File \"/home/philcox/Chempy/Chempy/cem_function.py\", line 484, in posterior_function_returning_predictions\n",
      "    posterior, abundance_list, element_list = posterior_function_predictions(changing_parameter,a)\n",
      "  File \"/home/philcox/Chempy/Chempy/cem_function.py\", line 494, in posterior_function_predictions\n",
      "    a = extract_parameters_and_priors(changing_parameter, a)\n",
      "  File \"/home/philcox/Chempy/Chempy/cem_function.py\", line 719, in extract_parameters_and_priors\n",
      "    assert False, '%s lower border is violated' %(name)\n",
      "AssertionError: log10_sfr_scale lower border is violated\n"
     ]
    },
    {
     "name": "stdout",
     "output_type": "stream",
     "text": [
      "0.507856918052 -1.94678625598\n",
      "posterior -1, -100, -200 -1.94678625598 -2.49660509451 -1.83011154415\n",
      "posterior 0, 100, 200 0.507856918052 -2.0653385202 -2.10064535252\n",
      "calculation so far took 1274.6797487735748  seconds\n",
      "step  252 of  1000\n",
      "0.507856918052 -2.04752069893\n",
      "posterior -1, -100, -200 -2.04752069893 -2.22244480968 -1.72019937174\n",
      "posterior 0, 100, 200 0.507856918052 -2.0653385202 -2.10064535252\n",
      "calculation so far took 1278.990758895874  seconds\n",
      "step  253 of  1000\n"
     ]
    },
    {
     "name": "stderr",
     "output_type": "stream",
     "text": [
      "Traceback (most recent call last):\n",
      "  File \"/home/philcox/Chempy/Chempy/cem_function.py\", line 884, in posterior_function_many_stars\n",
      "    posterior, blobs = posterior_function_many_stars_real(changing_parameter,error_list,elements)\n",
      "  File \"/home/philcox/Chempy/Chempy/cem_function.py\", line 922, in posterior_function_many_stars_real\n",
      "    abundance_list,element_list = posterior_function_returning_predictions(args)\n",
      "  File \"/home/philcox/Chempy/Chempy/cem_function.py\", line 484, in posterior_function_returning_predictions\n",
      "    posterior, abundance_list, element_list = posterior_function_predictions(changing_parameter,a)\n",
      "  File \"/home/philcox/Chempy/Chempy/cem_function.py\", line 494, in posterior_function_predictions\n",
      "    a = extract_parameters_and_priors(changing_parameter, a)\n",
      "  File \"/home/philcox/Chempy/Chempy/cem_function.py\", line 719, in extract_parameters_and_priors\n",
      "    assert False, '%s lower border is violated' %(name)\n",
      "AssertionError: log10_sfr_scale lower border is violated\n"
     ]
    },
    {
     "name": "stdout",
     "output_type": "stream",
     "text": [
      "0.507856918052 -2.0940566103\n",
      "posterior -1, -100, -200 -2.0940566103 -2.42653559295 -1.6721656169\n",
      "posterior 0, 100, 200 0.507856918052 -2.0653385202 -2.10064535252\n",
      "calculation so far took 1283.3214921951294  seconds\n",
      "step  254 of  1000\n",
      "0.507856918052 -1.94286832599\n",
      "posterior -1, -100, -200 -1.94286832599 -2.68238075979 -1.97358119513\n",
      "posterior 0, 100, 200 0.507856918052 -2.0653385202 -2.10064535252\n",
      "calculation so far took 1287.8710725307465  seconds\n",
      "step  255 of  1000\n"
     ]
    },
    {
     "name": "stderr",
     "output_type": "stream",
     "text": [
      "Traceback (most recent call last):\n",
      "  File \"/home/philcox/Chempy/Chempy/cem_function.py\", line 884, in posterior_function_many_stars\n",
      "    posterior, blobs = posterior_function_many_stars_real(changing_parameter,error_list,elements)\n",
      "  File \"/home/philcox/Chempy/Chempy/cem_function.py\", line 922, in posterior_function_many_stars_real\n",
      "    abundance_list,element_list = posterior_function_returning_predictions(args)\n",
      "  File \"/home/philcox/Chempy/Chempy/cem_function.py\", line 484, in posterior_function_returning_predictions\n",
      "    posterior, abundance_list, element_list = posterior_function_predictions(changing_parameter,a)\n",
      "  File \"/home/philcox/Chempy/Chempy/cem_function.py\", line 494, in posterior_function_predictions\n",
      "    a = extract_parameters_and_priors(changing_parameter, a)\n",
      "  File \"/home/philcox/Chempy/Chempy/cem_function.py\", line 721, in extract_parameters_and_priors\n",
      "    assert False, '%s upper border is violated' %(name)\n",
      "AssertionError: log10_sfr_scale upper border is violated\n"
     ]
    },
    {
     "name": "stdout",
     "output_type": "stream",
     "text": [
      "0.507856918052 -2.17472884147\n",
      "posterior -1, -100, -200 -2.17472884147 -2.50962360367 -1.91924206473\n",
      "posterior 0, 100, 200 0.507856918052 -2.0653385202 -2.10064535252\n",
      "calculation so far took 1292.290768623352  seconds\n",
      "step  256 of  1000\n"
     ]
    },
    {
     "name": "stderr",
     "output_type": "stream",
     "text": [
      "Traceback (most recent call last):\n",
      "  File \"/home/philcox/Chempy/Chempy/cem_function.py\", line 884, in posterior_function_many_stars\n",
      "    posterior, blobs = posterior_function_many_stars_real(changing_parameter,error_list,elements)\n",
      "  File \"/home/philcox/Chempy/Chempy/cem_function.py\", line 922, in posterior_function_many_stars_real\n",
      "    abundance_list,element_list = posterior_function_returning_predictions(args)\n",
      "  File \"/home/philcox/Chempy/Chempy/cem_function.py\", line 484, in posterior_function_returning_predictions\n",
      "    posterior, abundance_list, element_list = posterior_function_predictions(changing_parameter,a)\n",
      "  File \"/home/philcox/Chempy/Chempy/cem_function.py\", line 494, in posterior_function_predictions\n",
      "    a = extract_parameters_and_priors(changing_parameter, a)\n",
      "  File \"/home/philcox/Chempy/Chempy/cem_function.py\", line 719, in extract_parameters_and_priors\n",
      "    assert False, '%s lower border is violated' %(name)\n",
      "AssertionError: outflow_feedback_fraction lower border is violated\n"
     ]
    },
    {
     "name": "stdout",
     "output_type": "stream",
     "text": [
      "0.507856918052 -2.31269277732\n",
      "posterior -1, -100, -200 -2.31269277732 -2.3387587056 -1.85274293306\n",
      "posterior 0, 100, 200 0.507856918052 -2.0653385202 -2.10064535252\n",
      "calculation so far took 1296.4928119182587  seconds\n",
      "step  257 of  1000\n",
      "0.507856918052 -2.34463520016\n",
      "posterior -1, -100, -200 -2.34463520016 -2.1455622555 -1.83997636649\n",
      "posterior 0, 100, 200 0.507856918052 -2.0653385202 -2.10064535252\n",
      "calculation so far took 1300.8425705432892  seconds\n",
      "step  258 of  1000\n",
      "0.507856918052 -2.12384070553\n",
      "posterior -1, -100, -200 -2.12384070553 -2.44887601008 -1.8279074583\n",
      "posterior 0, 100, 200 0.507856918052 -2.0653385202 -2.10064535252\n",
      "calculation so far took 1304.9181714057922  seconds\n",
      "step  259 of  1000\n",
      "0.507856918052 -1.89717169361\n",
      "posterior -1, -100, -200 -1.89717169361 -2.51120671912 -1.92733494827\n",
      "posterior 0, 100, 200 0.507856918052 -2.0653385202 -2.10064535252\n",
      "calculation so far took 1309.2477314472198  seconds\n",
      "step  260 of  1000\n",
      "0.507856918052 -1.8483717381\n",
      "posterior -1, -100, -200 -1.8483717381 -2.44012423047 -1.91994550397\n",
      "posterior 0, 100, 200 0.507856918052 -2.0653385202 -2.10064535252\n",
      "calculation so far took 1313.8170924186707  seconds\n",
      "step  261 of  1000\n",
      "0.507856918052 -1.83349118833\n",
      "posterior -1, -100, -200 -1.83349118833 -2.41486950944 -2.05519654272\n",
      "posterior 0, 100, 200 0.507856918052 -2.0653385202 -2.10064535252\n",
      "calculation so far took 1317.8426127433777  seconds\n",
      "step  262 of  1000\n",
      "0.507856918052 -2.04460854265\n",
      "posterior -1, -100, -200 -2.04460854265 -2.26807857976 -2.16144889205\n",
      "posterior 0, 100, 200 0.507856918052 -2.0653385202 -2.10064535252\n",
      "calculation so far took 1321.9714589118958  seconds\n",
      "step  263 of  1000\n",
      "0.507856918052 -1.87078863427\n",
      "posterior -1, -100, -200 -1.87078863427 -2.4251853737 -2.16625538045\n",
      "posterior 0, 100, 200 0.507856918052 -2.0653385202 -2.10064535252\n",
      "calculation so far took 1326.0040996074677  seconds\n",
      "step  264 of  1000\n",
      "0.507856918052 -1.78415365822\n",
      "posterior -1, -100, -200 -1.78415365822 -2.41483784684 -1.98374023759\n",
      "posterior 0, 100, 200 0.507856918052 -2.0653385202 -2.10064535252\n",
      "calculation so far took 1330.0412511825562  seconds\n",
      "step  265 of  1000\n",
      "0.507856918052 -1.9522540967\n",
      "posterior -1, -100, -200 -1.9522540967 -2.49422161985 -1.87060016271\n",
      "posterior 0, 100, 200 0.507856918052 -2.0653385202 -2.10064535252\n",
      "calculation so far took 1334.2921087741852  seconds\n",
      "step  266 of  1000\n",
      "0.507856918052 -1.94891761178\n",
      "posterior -1, -100, -200 -1.94891761178 -2.04587862237 -1.95316722316\n",
      "posterior 0, 100, 200 0.507856918052 -2.0653385202 -2.10064535252\n",
      "calculation so far took 1338.4409549236298  seconds\n",
      "step  267 of  1000\n"
     ]
    },
    {
     "name": "stderr",
     "output_type": "stream",
     "text": [
      "Traceback (most recent call last):\n",
      "  File \"/home/philcox/Chempy/Chempy/cem_function.py\", line 884, in posterior_function_many_stars\n",
      "    posterior, blobs = posterior_function_many_stars_real(changing_parameter,error_list,elements)\n",
      "  File \"/home/philcox/Chempy/Chempy/cem_function.py\", line 922, in posterior_function_many_stars_real\n",
      "    abundance_list,element_list = posterior_function_returning_predictions(args)\n",
      "  File \"/home/philcox/Chempy/Chempy/cem_function.py\", line 484, in posterior_function_returning_predictions\n",
      "    posterior, abundance_list, element_list = posterior_function_predictions(changing_parameter,a)\n",
      "  File \"/home/philcox/Chempy/Chempy/cem_function.py\", line 494, in posterior_function_predictions\n",
      "    a = extract_parameters_and_priors(changing_parameter, a)\n",
      "  File \"/home/philcox/Chempy/Chempy/cem_function.py\", line 719, in extract_parameters_and_priors\n",
      "    assert False, '%s lower border is violated' %(name)\n",
      "AssertionError: log10_sfr_scale lower border is violated\n"
     ]
    },
    {
     "name": "stdout",
     "output_type": "stream",
     "text": [
      "0.507856918052 -2.16389839547\n",
      "posterior -1, -100, -200 -2.16389839547 -2.29326579904 -1.73862484224\n",
      "posterior 0, 100, 200 0.507856918052 -2.0653385202 -2.10064535252\n",
      "calculation so far took 1342.821286201477  seconds\n",
      "step  268 of  1000\n"
     ]
    },
    {
     "name": "stderr",
     "output_type": "stream",
     "text": [
      "Traceback (most recent call last):\n",
      "  File \"/home/philcox/Chempy/Chempy/cem_function.py\", line 884, in posterior_function_many_stars\n",
      "    posterior, blobs = posterior_function_many_stars_real(changing_parameter,error_list,elements)\n",
      "  File \"/home/philcox/Chempy/Chempy/cem_function.py\", line 922, in posterior_function_many_stars_real\n",
      "    abundance_list,element_list = posterior_function_returning_predictions(args)\n",
      "  File \"/home/philcox/Chempy/Chempy/cem_function.py\", line 484, in posterior_function_returning_predictions\n",
      "    posterior, abundance_list, element_list = posterior_function_predictions(changing_parameter,a)\n",
      "  File \"/home/philcox/Chempy/Chempy/cem_function.py\", line 494, in posterior_function_predictions\n",
      "    a = extract_parameters_and_priors(changing_parameter, a)\n",
      "  File \"/home/philcox/Chempy/Chempy/cem_function.py\", line 719, in extract_parameters_and_priors\n",
      "    assert False, '%s lower border is violated' %(name)\n",
      "AssertionError: log10_sfr_scale lower border is violated\n",
      "Traceback (most recent call last):\n",
      "  File \"/home/philcox/Chempy/Chempy/cem_function.py\", line 884, in posterior_function_many_stars\n",
      "    posterior, blobs = posterior_function_many_stars_real(changing_parameter,error_list,elements)\n",
      "  File \"/home/philcox/Chempy/Chempy/cem_function.py\", line 922, in posterior_function_many_stars_real\n",
      "    abundance_list,element_list = posterior_function_returning_predictions(args)\n",
      "  File \"/home/philcox/Chempy/Chempy/cem_function.py\", line 484, in posterior_function_returning_predictions\n",
      "    posterior, abundance_list, element_list = posterior_function_predictions(changing_parameter,a)\n",
      "  File \"/home/philcox/Chempy/Chempy/cem_function.py\", line 494, in posterior_function_predictions\n",
      "    a = extract_parameters_and_priors(changing_parameter, a)\n",
      "  File \"/home/philcox/Chempy/Chempy/cem_function.py\", line 721, in extract_parameters_and_priors\n",
      "    assert False, '%s upper border is violated' %(name)\n",
      "AssertionError: outflow_feedback_fraction upper border is violated\n"
     ]
    },
    {
     "name": "stdout",
     "output_type": "stream",
     "text": [
      "0.507856918052 -1.93772662796\n",
      "posterior -1, -100, -200 -1.93772662796 -2.49384026852 -1.91250681771\n",
      "posterior 0, 100, 200 0.507856918052 -2.0653385202 -2.10064535252\n",
      "calculation so far took 1347.0042378902435  seconds\n",
      "step  269 of  1000\n",
      "0.507856918052 -1.93166009575\n",
      "posterior -1, -100, -200 -1.93166009575 -2.5701633506 -1.88393693376\n",
      "posterior 0, 100, 200 0.507856918052 -2.0653385202 -2.10064535252\n",
      "calculation so far took 1351.6273431777954  seconds\n",
      "step  270 of  1000\n"
     ]
    },
    {
     "name": "stderr",
     "output_type": "stream",
     "text": [
      "Traceback (most recent call last):\n",
      "  File \"/home/philcox/Chempy/Chempy/cem_function.py\", line 884, in posterior_function_many_stars\n",
      "    posterior, blobs = posterior_function_many_stars_real(changing_parameter,error_list,elements)\n",
      "  File \"/home/philcox/Chempy/Chempy/cem_function.py\", line 922, in posterior_function_many_stars_real\n",
      "    abundance_list,element_list = posterior_function_returning_predictions(args)\n",
      "  File \"/home/philcox/Chempy/Chempy/cem_function.py\", line 484, in posterior_function_returning_predictions\n",
      "    posterior, abundance_list, element_list = posterior_function_predictions(changing_parameter,a)\n",
      "  File \"/home/philcox/Chempy/Chempy/cem_function.py\", line 494, in posterior_function_predictions\n",
      "    a = extract_parameters_and_priors(changing_parameter, a)\n",
      "  File \"/home/philcox/Chempy/Chempy/cem_function.py\", line 719, in extract_parameters_and_priors\n",
      "    assert False, '%s lower border is violated' %(name)\n",
      "AssertionError: log10_sfr_scale lower border is violated\n"
     ]
    },
    {
     "name": "stdout",
     "output_type": "stream",
     "text": [
      "0.507856918052 -1.97998933058\n",
      "posterior -1, -100, -200 -1.97998933058 -2.54003034661 -1.82062320491\n",
      "posterior 0, 100, 200 0.507856918052 -2.0653385202 -2.10064535252\n",
      "calculation so far took 1355.9744844436646  seconds\n",
      "step  271 of  1000\n"
     ]
    },
    {
     "name": "stderr",
     "output_type": "stream",
     "text": [
      "Traceback (most recent call last):\n",
      "  File \"/home/philcox/Chempy/Chempy/cem_function.py\", line 884, in posterior_function_many_stars\n",
      "    posterior, blobs = posterior_function_many_stars_real(changing_parameter,error_list,elements)\n",
      "  File \"/home/philcox/Chempy/Chempy/cem_function.py\", line 922, in posterior_function_many_stars_real\n",
      "    abundance_list,element_list = posterior_function_returning_predictions(args)\n",
      "  File \"/home/philcox/Chempy/Chempy/cem_function.py\", line 484, in posterior_function_returning_predictions\n",
      "    posterior, abundance_list, element_list = posterior_function_predictions(changing_parameter,a)\n",
      "  File \"/home/philcox/Chempy/Chempy/cem_function.py\", line 494, in posterior_function_predictions\n",
      "    a = extract_parameters_and_priors(changing_parameter, a)\n",
      "  File \"/home/philcox/Chempy/Chempy/cem_function.py\", line 719, in extract_parameters_and_priors\n",
      "    assert False, '%s lower border is violated' %(name)\n",
      "AssertionError: log10_sfr_scale lower border is violated\n",
      "Traceback (most recent call last):\n",
      "  File \"/home/philcox/Chempy/Chempy/cem_function.py\", line 884, in posterior_function_many_stars\n",
      "    posterior, blobs = posterior_function_many_stars_real(changing_parameter,error_list,elements)\n",
      "  File \"/home/philcox/Chempy/Chempy/cem_function.py\", line 922, in posterior_function_many_stars_real\n",
      "    abundance_list,element_list = posterior_function_returning_predictions(args)\n",
      "  File \"/home/philcox/Chempy/Chempy/cem_function.py\", line 484, in posterior_function_returning_predictions\n",
      "    posterior, abundance_list, element_list = posterior_function_predictions(changing_parameter,a)\n",
      "  File \"/home/philcox/Chempy/Chempy/cem_function.py\", line 494, in posterior_function_predictions\n",
      "    a = extract_parameters_and_priors(changing_parameter, a)\n",
      "  File \"/home/philcox/Chempy/Chempy/cem_function.py\", line 719, in extract_parameters_and_priors\n",
      "    assert False, '%s lower border is violated' %(name)\n",
      "AssertionError: outflow_feedback_fraction lower border is violated\n"
     ]
    },
    {
     "name": "stdout",
     "output_type": "stream",
     "text": [
      "0.507856918052 -2.27060508003\n",
      "posterior -1, -100, -200 -2.27060508003 -2.54600626728 -1.71911621504\n",
      "posterior 0, 100, 200 0.507856918052 -2.0653385202 -2.10064535252\n",
      "calculation so far took 1360.0184409618378  seconds\n",
      "step  272 of  1000\n"
     ]
    },
    {
     "name": "stderr",
     "output_type": "stream",
     "text": [
      "Traceback (most recent call last):\n",
      "  File \"/home/philcox/Chempy/Chempy/cem_function.py\", line 884, in posterior_function_many_stars\n",
      "    posterior, blobs = posterior_function_many_stars_real(changing_parameter,error_list,elements)\n",
      "  File \"/home/philcox/Chempy/Chempy/cem_function.py\", line 922, in posterior_function_many_stars_real\n",
      "    abundance_list,element_list = posterior_function_returning_predictions(args)\n",
      "  File \"/home/philcox/Chempy/Chempy/cem_function.py\", line 484, in posterior_function_returning_predictions\n",
      "    posterior, abundance_list, element_list = posterior_function_predictions(changing_parameter,a)\n",
      "  File \"/home/philcox/Chempy/Chempy/cem_function.py\", line 494, in posterior_function_predictions\n",
      "    a = extract_parameters_and_priors(changing_parameter, a)\n",
      "  File \"/home/philcox/Chempy/Chempy/cem_function.py\", line 721, in extract_parameters_and_priors\n",
      "    assert False, '%s upper border is violated' %(name)\n",
      "AssertionError: log10_sfr_scale upper border is violated\n"
     ]
    },
    {
     "name": "stdout",
     "output_type": "stream",
     "text": [
      "0.507856918052 -2.30637288372\n",
      "posterior -1, -100, -200 -2.30637288372 -2.64697935763 -1.88047739954\n",
      "posterior 0, 100, 200 0.507856918052 -2.0653385202 -2.10064535252\n",
      "calculation so far took 1364.1745629310608  seconds\n",
      "step  273 of  1000\n",
      "0.507856918052 -2.33254436578\n",
      "posterior -1, -100, -200 -2.33254436578 -2.73403628387 -1.99811320706\n",
      "posterior 0, 100, 200 0.507856918052 -2.0653385202 -2.10064535252\n",
      "calculation so far took 1368.3831729888916  seconds\n",
      "step  274 of  1000\n",
      "0.507856918052 -2.27686306886\n",
      "posterior -1, -100, -200 -2.27686306886 -2.65486267843 -1.8751961137\n",
      "posterior 0, 100, 200 0.507856918052 -2.0653385202 -2.10064535252\n",
      "calculation so far took 1372.74502658844  seconds\n",
      "step  275 of  1000\n",
      "0.507856918052 -2.25880678867\n",
      "posterior -1, -100, -200 -2.25880678867 -2.50135551836 -1.82714763651\n",
      "posterior 0, 100, 200 0.507856918052 -2.0653385202 -2.10064535252\n",
      "calculation so far took 1377.1127953529358  seconds\n",
      "step  276 of  1000\n"
     ]
    },
    {
     "name": "stderr",
     "output_type": "stream",
     "text": [
      "Traceback (most recent call last):\n",
      "  File \"/home/philcox/Chempy/Chempy/cem_function.py\", line 884, in posterior_function_many_stars\n",
      "    posterior, blobs = posterior_function_many_stars_real(changing_parameter,error_list,elements)\n",
      "  File \"/home/philcox/Chempy/Chempy/cem_function.py\", line 922, in posterior_function_many_stars_real\n",
      "    abundance_list,element_list = posterior_function_returning_predictions(args)\n",
      "  File \"/home/philcox/Chempy/Chempy/cem_function.py\", line 484, in posterior_function_returning_predictions\n",
      "    posterior, abundance_list, element_list = posterior_function_predictions(changing_parameter,a)\n",
      "  File \"/home/philcox/Chempy/Chempy/cem_function.py\", line 494, in posterior_function_predictions\n",
      "    a = extract_parameters_and_priors(changing_parameter, a)\n",
      "  File \"/home/philcox/Chempy/Chempy/cem_function.py\", line 719, in extract_parameters_and_priors\n",
      "    assert False, '%s lower border is violated' %(name)\n",
      "AssertionError: outflow_feedback_fraction lower border is violated\n"
     ]
    },
    {
     "name": "stdout",
     "output_type": "stream",
     "text": [
      "0.507856918052 -2.35678751107\n",
      "posterior -1, -100, -200 -2.35678751107 -2.06785723216 -2.0771988786\n",
      "posterior 0, 100, 200 0.507856918052 -2.0653385202 -2.10064535252\n",
      "calculation so far took 1381.4408822059631  seconds\n",
      "step  277 of  1000\n",
      "0.507856918052 -2.44062815401\n",
      "posterior -1, -100, -200 -2.44062815401 -2.32911444734 -2.30043244256\n",
      "posterior 0, 100, 200 0.507856918052 -2.0653385202 -2.10064535252\n",
      "calculation so far took 1385.7494394779205  seconds\n",
      "step  278 of  1000\n",
      "0.507856918052 -2.23600210557\n",
      "posterior -1, -100, -200 -2.23600210557 -2.04178993919 -2.04816654518\n",
      "posterior 0, 100, 200 0.507856918052 -2.0653385202 -2.10064535252\n",
      "calculation so far took 1390.0192909240723  seconds\n",
      "step  279 of  1000\n",
      "0.507856918052 -2.14414943265\n",
      "posterior -1, -100, -200 -2.14414943265 -1.97585345887 -1.98595405839\n",
      "posterior 0, 100, 200 0.507856918052 -2.0653385202 -2.10064535252\n",
      "calculation so far took 1394.6804223060608  seconds\n",
      "step  280 of  1000\n",
      "0.507856918052 -2.12295501266\n",
      "posterior -1, -100, -200 -2.12295501266 -1.85005665517 -1.89455388937\n",
      "posterior 0, 100, 200 0.507856918052 -2.0653385202 -2.10064535252\n",
      "calculation so far took 1399.7294948101044  seconds\n",
      "step  281 of  1000\n",
      "0.507856918052 -2.1198669819\n",
      "posterior -1, -100, -200 -2.1198669819 -2.07686047019 -1.95949921787\n",
      "posterior 0, 100, 200 0.507856918052 -2.0653385202 -2.10064535252\n",
      "calculation so far took 1404.158711194992  seconds\n",
      "step  282 of  1000\n",
      "0.507856918052 -1.83502130882\n",
      "posterior -1, -100, -200 -1.83502130882 -1.98425174104 -1.82803732234\n",
      "posterior 0, 100, 200 0.507856918052 -2.0653385202 -2.10064535252\n",
      "calculation so far took 1409.7788574695587  seconds\n",
      "step  283 of  1000\n",
      "0.507856918052 -1.77749300778\n",
      "posterior -1, -100, -200 -1.77749300778 -2.14121384493 -2.10948368358\n",
      "posterior 0, 100, 200 0.507856918052 -2.0653385202 -2.10064535252\n",
      "calculation so far took 1415.7076013088226  seconds\n",
      "step  284 of  1000\n",
      "0.507856918052 -1.86079150781\n",
      "posterior -1, -100, -200 -1.86079150781 -2.16202128642 -2.15163122255\n",
      "posterior 0, 100, 200 0.507856918052 -2.0653385202 -2.10064535252\n",
      "calculation so far took 1419.8693749904633  seconds\n",
      "step  285 of  1000\n",
      "0.507856918052 -2.04737305857\n",
      "posterior -1, -100, -200 -2.04737305857 -1.8131735229 -2.12650838887\n",
      "posterior 0, 100, 200 0.507856918052 -2.0653385202 -2.10064535252\n",
      "calculation so far took 1424.0333776474  seconds\n",
      "step  286 of  1000\n",
      "0.507856918052 -2.25511229441\n",
      "posterior -1, -100, -200 -2.25511229441 -2.20276340049 -1.93043167686\n",
      "posterior 0, 100, 200 0.507856918052 -2.0653385202 -2.10064535252\n",
      "calculation so far took 1428.1436252593994  seconds\n",
      "step  287 of  1000\n",
      "0.507856918052 -2.24042753403\n",
      "posterior -1, -100, -200 -2.24042753403 -2.23963857357 -2.15053631541\n",
      "posterior 0, 100, 200 0.507856918052 -2.0653385202 -2.10064535252\n",
      "calculation so far took 1432.635157585144  seconds\n",
      "step  288 of  1000\n"
     ]
    },
    {
     "name": "stderr",
     "output_type": "stream",
     "text": [
      "Traceback (most recent call last):\n",
      "  File \"/home/philcox/Chempy/Chempy/cem_function.py\", line 884, in posterior_function_many_stars\n",
      "    posterior, blobs = posterior_function_many_stars_real(changing_parameter,error_list,elements)\n",
      "  File \"/home/philcox/Chempy/Chempy/cem_function.py\", line 922, in posterior_function_many_stars_real\n",
      "    abundance_list,element_list = posterior_function_returning_predictions(args)\n",
      "  File \"/home/philcox/Chempy/Chempy/cem_function.py\", line 484, in posterior_function_returning_predictions\n",
      "    posterior, abundance_list, element_list = posterior_function_predictions(changing_parameter,a)\n",
      "  File \"/home/philcox/Chempy/Chempy/cem_function.py\", line 494, in posterior_function_predictions\n",
      "    a = extract_parameters_and_priors(changing_parameter, a)\n",
      "  File \"/home/philcox/Chempy/Chempy/cem_function.py\", line 721, in extract_parameters_and_priors\n",
      "    assert False, '%s upper border is violated' %(name)\n",
      "AssertionError: log10_sfr_scale upper border is violated\n"
     ]
    },
    {
     "name": "stdout",
     "output_type": "stream",
     "text": [
      "0.507856918052 -2.13378597558\n",
      "posterior -1, -100, -200 -2.13378597558 -2.30696551492 -2.24156745477\n",
      "posterior 0, 100, 200 0.507856918052 -2.0653385202 -2.10064535252\n",
      "calculation so far took 1436.7925317287445  seconds\n",
      "step  289 of  1000\n"
     ]
    },
    {
     "name": "stderr",
     "output_type": "stream",
     "text": [
      "Traceback (most recent call last):\n",
      "  File \"/home/philcox/Chempy/Chempy/cem_function.py\", line 884, in posterior_function_many_stars\n",
      "    posterior, blobs = posterior_function_many_stars_real(changing_parameter,error_list,elements)\n",
      "  File \"/home/philcox/Chempy/Chempy/cem_function.py\", line 922, in posterior_function_many_stars_real\n",
      "    abundance_list,element_list = posterior_function_returning_predictions(args)\n",
      "  File \"/home/philcox/Chempy/Chempy/cem_function.py\", line 484, in posterior_function_returning_predictions\n",
      "    posterior, abundance_list, element_list = posterior_function_predictions(changing_parameter,a)\n",
      "  File \"/home/philcox/Chempy/Chempy/cem_function.py\", line 494, in posterior_function_predictions\n",
      "    a = extract_parameters_and_priors(changing_parameter, a)\n",
      "  File \"/home/philcox/Chempy/Chempy/cem_function.py\", line 721, in extract_parameters_and_priors\n",
      "    assert False, '%s upper border is violated' %(name)\n",
      "AssertionError: log10_sfr_scale upper border is violated\n"
     ]
    },
    {
     "name": "stdout",
     "output_type": "stream",
     "text": [
      "0.507856918052 -2.12733023055\n",
      "posterior -1, -100, -200 -2.12733023055 -2.32120054396 -2.09396428878\n",
      "posterior 0, 100, 200 0.507856918052 -2.0653385202 -2.10064535252\n",
      "calculation so far took 1440.7620990276337  seconds\n",
      "step  290 of  1000\n",
      "0.507856918052 -2.17259153895\n",
      "posterior -1, -100, -200 -2.17259153895 -2.30863197236 -2.06203283117\n",
      "posterior 0, 100, 200 0.507856918052 -2.0653385202 -2.10064535252\n",
      "calculation so far took 1444.9088861942291  seconds\n",
      "step  291 of  1000\n",
      "0.507856918052 -2.23408691736\n",
      "posterior -1, -100, -200 -2.23408691736 -2.30629176258 -2.26179151924\n",
      "posterior 0, 100, 200 0.507856918052 -2.0653385202 -2.10064535252\n",
      "calculation so far took 1450.541754245758  seconds\n",
      "step  292 of  1000\n",
      "0.507856918052 -2.18877020153\n",
      "posterior -1, -100, -200 -2.18877020153 -2.3296780455 -2.39793220367\n",
      "posterior 0, 100, 200 0.507856918052 -2.0653385202 -2.10064535252\n",
      "calculation so far took 1455.0034964084625  seconds\n",
      "step  293 of  1000\n",
      "0.507856918052 -2.12074138646\n",
      "posterior -1, -100, -200 -2.12074138646 -2.54220706203 -2.44350995262\n",
      "posterior 0, 100, 200 0.507856918052 -2.0653385202 -2.10064535252\n",
      "calculation so far took 1459.1594433784485  seconds\n",
      "step  294 of  1000\n"
     ]
    },
    {
     "name": "stderr",
     "output_type": "stream",
     "text": [
      "Traceback (most recent call last):\n",
      "  File \"/home/philcox/Chempy/Chempy/cem_function.py\", line 884, in posterior_function_many_stars\n",
      "    posterior, blobs = posterior_function_many_stars_real(changing_parameter,error_list,elements)\n",
      "  File \"/home/philcox/Chempy/Chempy/cem_function.py\", line 922, in posterior_function_many_stars_real\n",
      "    abundance_list,element_list = posterior_function_returning_predictions(args)\n",
      "  File \"/home/philcox/Chempy/Chempy/cem_function.py\", line 484, in posterior_function_returning_predictions\n",
      "    posterior, abundance_list, element_list = posterior_function_predictions(changing_parameter,a)\n",
      "  File \"/home/philcox/Chempy/Chempy/cem_function.py\", line 494, in posterior_function_predictions\n",
      "    a = extract_parameters_and_priors(changing_parameter, a)\n",
      "  File \"/home/philcox/Chempy/Chempy/cem_function.py\", line 719, in extract_parameters_and_priors\n",
      "    assert False, '%s lower border is violated' %(name)\n",
      "AssertionError: outflow_feedback_fraction lower border is violated\n"
     ]
    },
    {
     "name": "stdout",
     "output_type": "stream",
     "text": [
      "0.507856918052 -2.32702291153\n",
      "posterior -1, -100, -200 -2.32702291153 -2.40344190957 -2.41851297641\n",
      "posterior 0, 100, 200 0.507856918052 -2.0653385202 -2.10064535252\n",
      "calculation so far took 1463.310712814331  seconds\n",
      "step  295 of  1000\n",
      "0.507856918052 -2.48187841452\n",
      "posterior -1, -100, -200 -2.48187841452 -2.45996170182 -2.0405777205\n",
      "posterior 0, 100, 200 0.507856918052 -2.0653385202 -2.10064535252\n",
      "calculation so far took 1467.499517917633  seconds\n",
      "step  296 of  1000\n"
     ]
    },
    {
     "name": "stderr",
     "output_type": "stream",
     "text": [
      "Traceback (most recent call last):\n",
      "  File \"/home/philcox/Chempy/Chempy/cem_function.py\", line 884, in posterior_function_many_stars\n",
      "    posterior, blobs = posterior_function_many_stars_real(changing_parameter,error_list,elements)\n",
      "  File \"/home/philcox/Chempy/Chempy/cem_function.py\", line 922, in posterior_function_many_stars_real\n",
      "    abundance_list,element_list = posterior_function_returning_predictions(args)\n",
      "  File \"/home/philcox/Chempy/Chempy/cem_function.py\", line 484, in posterior_function_returning_predictions\n",
      "    posterior, abundance_list, element_list = posterior_function_predictions(changing_parameter,a)\n",
      "  File \"/home/philcox/Chempy/Chempy/cem_function.py\", line 494, in posterior_function_predictions\n",
      "    a = extract_parameters_and_priors(changing_parameter, a)\n",
      "  File \"/home/philcox/Chempy/Chempy/cem_function.py\", line 719, in extract_parameters_and_priors\n",
      "    assert False, '%s lower border is violated' %(name)\n",
      "AssertionError: outflow_feedback_fraction lower border is violated\n"
     ]
    },
    {
     "name": "stdout",
     "output_type": "stream",
     "text": [
      "0.507856918052 -2.36279346703\n",
      "posterior -1, -100, -200 -2.36279346703 -2.48526016986 -1.88293976745\n",
      "posterior 0, 100, 200 0.507856918052 -2.0653385202 -2.10064535252\n",
      "calculation so far took 1471.6654934883118  seconds\n",
      "step  297 of  1000\n",
      "0.507856918052 -2.20591535801\n",
      "posterior -1, -100, -200 -2.20591535801 -2.59658885086 -2.04531726728\n",
      "posterior 0, 100, 200 0.507856918052 -2.0653385202 -2.10064535252\n",
      "calculation so far took 1475.7357804775238  seconds\n",
      "step  298 of  1000\n",
      "0.507856918052 -2.21760843589\n",
      "posterior -1, -100, -200 -2.21760843589 -2.12620013025 -2.13103487361\n",
      "posterior 0, 100, 200 0.507856918052 -2.0653385202 -2.10064535252\n",
      "calculation so far took 1480.020109653473  seconds\n",
      "step  299 of  1000\n"
     ]
    },
    {
     "name": "stderr",
     "output_type": "stream",
     "text": [
      "Traceback (most recent call last):\n",
      "  File \"/home/philcox/Chempy/Chempy/cem_function.py\", line 884, in posterior_function_many_stars\n",
      "    posterior, blobs = posterior_function_many_stars_real(changing_parameter,error_list,elements)\n",
      "  File \"/home/philcox/Chempy/Chempy/cem_function.py\", line 922, in posterior_function_many_stars_real\n",
      "    abundance_list,element_list = posterior_function_returning_predictions(args)\n",
      "  File \"/home/philcox/Chempy/Chempy/cem_function.py\", line 484, in posterior_function_returning_predictions\n",
      "    posterior, abundance_list, element_list = posterior_function_predictions(changing_parameter,a)\n",
      "  File \"/home/philcox/Chempy/Chempy/cem_function.py\", line 494, in posterior_function_predictions\n",
      "    a = extract_parameters_and_priors(changing_parameter, a)\n",
      "  File \"/home/philcox/Chempy/Chempy/cem_function.py\", line 721, in extract_parameters_and_priors\n",
      "    assert False, '%s upper border is violated' %(name)\n",
      "AssertionError: log10_sfr_scale upper border is violated\n"
     ]
    },
    {
     "name": "stdout",
     "output_type": "stream",
     "text": [
      "0.507856918052 -2.39771075096\n",
      "posterior -1, -100, -200 -2.39771075096 -2.10064535252 -2.0653385202\n",
      "posterior 0, 100, 200 0.507856918052 -2.0653385202 -2.10064535252\n",
      "calculation so far took 1486.2170259952545  seconds\n",
      "step  300 of  1000\n"
     ]
    },
    {
     "name": "stderr",
     "output_type": "stream",
     "text": [
      "Traceback (most recent call last):\n",
      "  File \"/home/philcox/Chempy/Chempy/cem_function.py\", line 884, in posterior_function_many_stars\n",
      "    posterior, blobs = posterior_function_many_stars_real(changing_parameter,error_list,elements)\n",
      "  File \"/home/philcox/Chempy/Chempy/cem_function.py\", line 922, in posterior_function_many_stars_real\n",
      "    abundance_list,element_list = posterior_function_returning_predictions(args)\n",
      "  File \"/home/philcox/Chempy/Chempy/cem_function.py\", line 484, in posterior_function_returning_predictions\n",
      "    posterior, abundance_list, element_list = posterior_function_predictions(changing_parameter,a)\n",
      "  File \"/home/philcox/Chempy/Chempy/cem_function.py\", line 494, in posterior_function_predictions\n",
      "    a = extract_parameters_and_priors(changing_parameter, a)\n",
      "  File \"/home/philcox/Chempy/Chempy/cem_function.py\", line 719, in extract_parameters_and_priors\n",
      "    assert False, '%s lower border is violated' %(name)\n",
      "AssertionError: outflow_feedback_fraction lower border is violated\n"
     ]
    },
    {
     "name": "stdout",
     "output_type": "stream",
     "text": [
      "0.507856918052 -2.27029971547\n",
      "posterior -1, -100, -200 -2.27029971547 -2.32252916434 -2.09357478488\n",
      "posterior 0, 100, 200 0.507856918052 -2.0653385202 -2.10064535252\n",
      "calculation so far took 1491.8446578979492  seconds\n",
      "step  301 of  1000\n",
      "0.507856918052 -2.47465494725\n",
      "posterior -1, -100, -200 -2.47465494725 -2.35008896908 -2.18894780669\n",
      "posterior 0, 100, 200 0.507856918052 -2.0653385202 -2.10064535252\n",
      "calculation so far took 1498.119780778885  seconds\n",
      "step  302 of  1000\n"
     ]
    },
    {
     "name": "stderr",
     "output_type": "stream",
     "text": [
      "Traceback (most recent call last):\n",
      "  File \"/home/philcox/Chempy/Chempy/cem_function.py\", line 884, in posterior_function_many_stars\n",
      "    posterior, blobs = posterior_function_many_stars_real(changing_parameter,error_list,elements)\n",
      "  File \"/home/philcox/Chempy/Chempy/cem_function.py\", line 922, in posterior_function_many_stars_real\n",
      "    abundance_list,element_list = posterior_function_returning_predictions(args)\n",
      "  File \"/home/philcox/Chempy/Chempy/cem_function.py\", line 484, in posterior_function_returning_predictions\n",
      "    posterior, abundance_list, element_list = posterior_function_predictions(changing_parameter,a)\n",
      "  File \"/home/philcox/Chempy/Chempy/cem_function.py\", line 494, in posterior_function_predictions\n",
      "    a = extract_parameters_and_priors(changing_parameter, a)\n",
      "  File \"/home/philcox/Chempy/Chempy/cem_function.py\", line 721, in extract_parameters_and_priors\n",
      "    assert False, '%s upper border is violated' %(name)\n",
      "AssertionError: log10_sfr_scale upper border is violated\n"
     ]
    },
    {
     "name": "stdout",
     "output_type": "stream",
     "text": [
      "0.507856918052 -2.44311615493\n",
      "posterior -1, -100, -200 -2.44311615493 -2.40819783281 -1.98840346348\n",
      "posterior 0, 100, 200 0.507856918052 -2.0653385202 -2.10064535252\n",
      "calculation so far took 1504.5348253250122  seconds\n"
     ]
    },
    {
     "data": {
      "text/plain": [
       "[array([[-2.46227299, -3.0039588 , -0.75835047, -0.32901782,  0.51796291,\n",
       "          0.48779961]]),\n",
       " 'initial minimization',\n",
       " (array([-2.53152442, -3.00082967, -0.76703991]), -2.5174881737447081),\n",
       " 'step 1 global minimization',\n",
       " array([[-2.53152442, -3.00082967, -0.76703991, -0.33998508,  0.53522834,\n",
       "          0.46340963]]),\n",
       " 'step 1 local minimization',\n",
       " (array([-2.50715654, -2.98560556, -0.79185329]), -2.4774364188230167),\n",
       " 'step 2 global minimization',\n",
       " array([[-2.50715654, -2.98560556, -0.79185329, -0.33998508,  0.53522834,\n",
       "          0.46340963]]),\n",
       " 'step 2 local minimization',\n",
       " [-2.5174881737447081, -2.4774364188230167]]"
      ]
     },
     "execution_count": 53,
     "metadata": {},
     "output_type": "execute_result"
    }
   ],
   "source": [
    "from Chempy.wrapper import multi_star_optimization\n",
    "multi_star_optimization()"
   ]
  },
  {
   "cell_type": "code",
   "execution_count": 55,
   "metadata": {
    "collapsed": false
   },
   "outputs": [
    {
     "name": "stdout",
     "output_type": "stream",
     "text": [
      "blob shape =  (64, 303, 22, 1) probably some runs did not return results and were stored anyway.\n",
      "The chain has a length of 303 iterations, each iteration having 64 evaluations/walkers\n",
      "Mean posteriors at the beginning and the end of the chain:\n",
      "-2.44311615493 0.507856918052\n",
      "Mean posteriors after the burn-in tail is cut out:\n",
      "-2.44311615493 -2.33460076863\n",
      "We are left with a sample of 4992 posterior evaluations from the converged MCMC chain\n",
      "We have 4992 iterations good enough posterior, their posteriors range from\n",
      "0.756887034285 -13.0764894767\n",
      "Highest posterior was obtained at parameters:  [[-2.42727052 -2.92771336 -0.8725254  -0.36264549  0.57706935  0.47206082]]\n",
      "Number of unique posterior values:  2613\n",
      "Inferred marginalized parameter distributions are:\n",
      "0 -2.40711991434 +- 0.129158461191\n",
      "1 -2.92203363283 +- 0.159855636917\n",
      "2 -0.820041789869 +- 0.274171243455\n",
      "3 -0.255156927283 +- 0.290369524902\n",
      "4 0.570133413047 +- 0.0910091282172\n",
      "5 0.518600558297 +- 0.100506605386\n"
     ]
    },
    {
     "data": {
      "text/plain": [
       "<matplotlib.figure.Figure at 0x7f9426b0f8d0>"
      ]
     },
     "metadata": {},
     "output_type": "display_data"
    },
    {
     "data": {
      "text/plain": [
       "<matplotlib.figure.Figure at 0x7f9424565a58>"
      ]
     },
     "metadata": {},
     "output_type": "display_data"
    }
   ],
   "source": [
    "from Chempy.plot_mcmc import restructure_chain\n",
    "restructure_chain('mcmc/')\n"
   ]
  },
  {
   "cell_type": "code",
   "execution_count": null,
   "metadata": {
    "collapsed": true
   },
   "outputs": [],
   "source": []
  },
  {
   "cell_type": "code",
   "execution_count": null,
   "metadata": {
    "collapsed": true
   },
   "outputs": [],
   "source": []
  },
  {
   "cell_type": "code",
   "execution_count": null,
   "metadata": {
    "collapsed": true
   },
   "outputs": [],
   "source": []
  },
  {
   "cell_type": "markdown",
   "metadata": {},
   "source": [
    "## Why do we get different results from multi_star and single_star optimization??"
   ]
  },
  {
   "cell_type": "code",
   "execution_count": 3,
   "metadata": {
    "collapsed": false
   },
   "outputs": [
    {
     "name": "stdout",
     "output_type": "stream",
     "text": [
      "Populating the interactive namespace from numpy and matplotlib\n"
     ]
    }
   ],
   "source": [
    "%pylab inline\n",
    "from Chempy.wrapper import mcmc_multi,mcmc_quick\n",
    "changing_parameter = [-3.,-3.,-0.8,-0.3,0.6,0.4]\n",
    "from Chempy.score_function import preload_params_mcmc\n",
    "preload = preload_params_mcmc()\n",
    "from Chempy.parameter import ModelParameters\n",
    "a = ModelParameters()\n",
    "elements = np.unique(a.elements_to_trace,preload.wildcard.dtype.names)"
   ]
  },
  {
   "cell_type": "code",
   "execution_count": 5,
   "metadata": {
    "collapsed": false
   },
   "outputs": [
    {
     "name": "stdout",
     "output_type": "stream",
     "text": [
      "step  1 of  1000\n",
      "-16.1270111454 -16.1228572046\n",
      "calculation so far took 8.401021242141724  seconds\n",
      "step  2 of  1000\n",
      "-16.1270111454 -16.1265074971\n",
      "calculation so far took 9.21363377571106  seconds\n",
      "step  3 of  1000\n",
      "-16.1270111454 -16.1234553518\n",
      "calculation so far took 10.092761754989624  seconds\n",
      "step  4 of  1000\n",
      "-16.1270111454 -16.1244928947\n",
      "calculation so far took 11.008933782577515  seconds\n",
      "step  5 of  1000\n",
      "-16.1270111454 -16.1166689227\n",
      "calculation so far took 11.89984679222107  seconds\n",
      "step  6 of  1000\n",
      "-16.1270111454 -16.1351356484\n",
      "calculation so far took 12.723942041397095  seconds\n",
      "step  7 of  1000\n",
      "-16.1270111454 -16.2064499754\n",
      "calculation so far took 13.599059343338013  seconds\n",
      "step  8 of  1000\n",
      "-16.1270111454 -16.1170004238\n",
      "calculation so far took 14.598269701004028  seconds\n",
      "step  9 of  1000\n",
      "-16.1270111454 -16.2043513537\n",
      "calculation so far took 15.644013166427612  seconds\n",
      "step  10 of  1000\n",
      "-16.1270111454 -16.1796075956\n",
      "calculation so far took 16.648226737976074  seconds\n",
      "step  11 of  1000\n",
      "-16.1270111454 -16.1410989369\n",
      "calculation so far took 17.987184286117554  seconds\n",
      "step  12 of  1000\n",
      "-16.1270111454 -15.9021955334\n",
      "calculation so far took 18.936888456344604  seconds\n",
      "step  13 of  1000\n",
      "-16.1270111454 -15.7866971588\n",
      "calculation so far took 19.956114292144775  seconds\n",
      "step  14 of  1000\n",
      "-16.1270111454 -15.8516899313\n",
      "calculation so far took 20.97583818435669  seconds\n",
      "step  15 of  1000\n",
      "-16.1270111454 -15.8863983935\n",
      "calculation so far took 22.078622579574585  seconds\n",
      "step  16 of  1000\n",
      "-16.1270111454 -15.7893807324\n",
      "calculation so far took 23.43010663986206  seconds\n",
      "step  17 of  1000\n",
      "-16.1270111454 -15.7429192323\n",
      "calculation so far took 24.34325385093689  seconds\n",
      "step  18 of  1000\n",
      "-16.1270111454 -14.9909075234\n",
      "calculation so far took 25.463562726974487  seconds\n",
      "step  19 of  1000\n",
      "-16.1270111454 -15.0520588935\n",
      "calculation so far took 26.814022302627563  seconds\n",
      "step  20 of  1000\n",
      "-16.1270111454 -14.5729377556\n",
      "calculation so far took 28.510728120803833  seconds\n",
      "step  21 of  1000\n",
      "-16.1270111454 -14.3254266973\n",
      "calculation so far took 30.304503679275513  seconds\n",
      "step  22 of  1000\n",
      "-16.1270111454 -13.9099893207\n",
      "calculation so far took 31.63044571876526  seconds\n",
      "step  23 of  1000\n",
      "-16.1270111454 -13.6731746228\n",
      "calculation so far took 32.54410696029663  seconds\n",
      "step  24 of  1000\n",
      "-16.1270111454 -13.1194999985\n",
      "calculation so far took 33.679412603378296  seconds\n",
      "step  25 of  1000\n",
      "-16.1270111454 -12.8346551285\n",
      "calculation so far took 34.609073638916016  seconds\n",
      "step  26 of  1000\n",
      "-16.1270111454 -12.1604667982\n",
      "calculation so far took 35.51771879196167  seconds\n",
      "step  27 of  1000\n",
      "-16.1270111454 -12.0354548802\n",
      "calculation so far took 37.00727820396423  seconds\n",
      "step  28 of  1000\n",
      "-16.1270111454 -11.7107524514\n",
      "calculation so far took 37.967997312545776  seconds\n",
      "step  29 of  1000\n",
      "-16.1270111454 -11.8118590435\n",
      "calculation so far took 38.81810188293457  seconds\n",
      "step  30 of  1000\n",
      "-16.1270111454 -11.7495470239\n",
      "calculation so far took 39.95744609832764  seconds\n",
      "step  31 of  1000\n",
      "-16.1270111454 -11.6642402307\n",
      "calculation so far took 40.94965171813965  seconds\n",
      "step  32 of  1000\n",
      "-16.1270111454 -11.5075557612\n",
      "calculation so far took 41.896860122680664  seconds\n",
      "step  33 of  1000\n",
      "-16.1270111454 -10.9026762475\n",
      "calculation so far took 42.798500776290894  seconds\n",
      "step  34 of  1000\n",
      "-16.1270111454 -10.5404139596\n",
      "calculation so far took 43.75818228721619  seconds\n",
      "step  35 of  1000\n",
      "-16.1270111454 -9.82419906932\n",
      "calculation so far took 44.735214710235596  seconds\n",
      "step  36 of  1000\n",
      "-16.1270111454 -9.58971437245\n",
      "calculation so far took 45.9065465927124  seconds\n",
      "step  37 of  1000\n",
      "-16.1270111454 -9.58996776528\n",
      "calculation so far took 47.061367988586426  seconds\n",
      "step  38 of  1000\n",
      "-16.1270111454 -9.4953653176\n",
      "calculation so far took 48.12112092971802  seconds\n",
      "step  39 of  1000\n",
      "-16.1270111454 -9.35286034073\n",
      "calculation so far took 49.052308082580566  seconds\n",
      "step  40 of  1000\n",
      "-16.1270111454 -9.21610784922\n",
      "calculation so far took 50.1340754032135  seconds\n",
      "step  41 of  1000\n",
      "-16.1270111454 -8.93684166908\n",
      "calculation so far took 51.32292151451111  seconds\n",
      "step  42 of  1000\n",
      "-16.1270111454 -8.77823036434\n",
      "calculation so far took 52.361660957336426  seconds\n",
      "step  43 of  1000\n",
      "-16.1270111454 -8.69184014901\n",
      "calculation so far took 53.60155701637268  seconds\n",
      "step  44 of  1000\n",
      "-16.1270111454 -8.66364821349\n",
      "calculation so far took 54.514209270477295  seconds\n",
      "step  45 of  1000\n",
      "-16.1270111454 -8.35363263201\n",
      "calculation so far took 55.43040490150452  seconds\n",
      "step  46 of  1000\n",
      "-16.1270111454 -7.92159642561\n",
      "calculation so far took 56.339550733566284  seconds\n",
      "step  47 of  1000\n",
      "-16.1270111454 -7.78672897158\n",
      "calculation so far took 57.570927143096924  seconds\n",
      "step  48 of  1000\n",
      "-16.1270111454 -7.74967093067\n",
      "calculation so far took 58.702231884002686  seconds\n",
      "step  49 of  1000\n",
      "-16.1270111454 -7.58590784695\n",
      "calculation so far took 59.866058111190796  seconds\n",
      "step  50 of  1000\n",
      "-16.1270111454 -7.24029335689\n",
      "calculation so far took 60.972344160079956  seconds\n",
      "step  51 of  1000\n",
      "-16.1270111454 -7.23354058249\n",
      "calculation so far took 62.00607919692993  seconds\n",
      "step  52 of  1000\n",
      "-16.1270111454 -7.24689969546\n",
      "calculation so far took 63.01229405403137  seconds\n",
      "step  53 of  1000\n",
      "-16.1270111454 -7.13498065397\n",
      "calculation so far took 63.95146179199219  seconds\n",
      "step  54 of  1000\n",
      "-16.1270111454 -7.15456898703\n",
      "calculation so far took 64.96718335151672  seconds\n",
      "step  55 of  1000\n",
      "-16.1270111454 -7.14746825645\n",
      "calculation so far took 65.93701767921448  seconds\n",
      "step  56 of  1000\n",
      "-16.1270111454 -6.90682550657\n",
      "calculation so far took 66.8866925239563  seconds\n",
      "step  57 of  1000\n",
      "-16.1270111454 -6.76938722566\n",
      "calculation so far took 67.84837627410889  seconds\n",
      "step  58 of  1000\n",
      "-16.1270111454 -6.68420571432\n",
      "calculation so far took 68.95223712921143  seconds\n",
      "step  59 of  1000\n",
      "-16.1270111454 -6.52742847268\n",
      "calculation so far took 70.22013735771179  seconds\n",
      "step  60 of  1000\n",
      "-16.1270111454 -6.57631107863\n",
      "calculation so far took 71.15580248832703  seconds\n",
      "step  61 of  1000\n",
      "-16.1270111454 -6.68954671654\n",
      "calculation so far took 72.18003034591675  seconds\n",
      "step  62 of  1000\n",
      "-16.1270111454 -6.77962862809\n",
      "calculation so far took 73.21476554870605  seconds\n",
      "step  63 of  1000\n",
      "-16.1270111454 -6.83804900559\n",
      "calculation so far took 74.273020029068  seconds\n",
      "step  64 of  1000\n",
      "-16.1270111454 -6.76613942082\n",
      "calculation so far took 75.36432766914368  seconds\n",
      "step  65 of  1000\n",
      "-16.1270111454 -6.70657568461\n",
      "calculation so far took 76.59320068359375  seconds\n",
      "step  66 of  1000\n",
      "-16.1270111454 -6.7255976862\n",
      "calculation so far took 77.75002336502075  seconds\n",
      "step  67 of  1000\n",
      "-16.1270111454 -6.85647688026\n",
      "calculation so far took 78.95738101005554  seconds\n",
      "step  68 of  1000\n",
      "-16.1270111454 -6.69419056172\n",
      "calculation so far took 80.12423133850098  seconds\n",
      "step  69 of  1000\n",
      "-16.1270111454 -6.7183396481\n",
      "calculation so far took 81.47870898246765  seconds\n",
      "step  70 of  1000\n",
      "-16.1270111454 -6.70844782015\n",
      "calculation so far took 82.86619448661804  seconds\n",
      "step  71 of  1000\n",
      "-16.1270111454 -6.68009313443\n",
      "calculation so far took 84.13859868049622  seconds\n",
      "step  72 of  1000\n",
      "-16.1270111454 -6.7168045348\n",
      "calculation so far took 85.61171507835388  seconds\n",
      "step  73 of  1000\n",
      "-16.1270111454 -6.45518739861\n",
      "calculation so far took 86.85359740257263  seconds\n",
      "step  74 of  1000\n",
      "-16.1270111454 -6.30685368895\n",
      "calculation so far took 88.0099196434021  seconds\n",
      "step  75 of  1000\n",
      "-16.1270111454 -6.32832036849\n",
      "calculation so far took 89.18225264549255  seconds\n",
      "step  76 of  1000\n",
      "-16.1270111454 -6.22724713242\n",
      "calculation so far took 90.43414163589478  seconds\n",
      "step  77 of  1000\n",
      "-16.1270111454 -6.25156592475\n",
      "calculation so far took 91.47488164901733  seconds\n",
      "step  78 of  1000\n",
      "-16.1270111454 -6.50136512503\n",
      "calculation so far took 92.5876727104187  seconds\n",
      "step  79 of  1000\n",
      "-16.1270111454 -6.49477873886\n",
      "calculation so far took 93.69195747375488  seconds\n",
      "step  80 of  1000\n",
      "-16.1270111454 -6.36826229645\n",
      "calculation so far took 94.71868824958801  seconds\n",
      "step  81 of  1000\n",
      "-16.1270111454 -6.61262991883\n",
      "calculation so far took 95.79895520210266  seconds\n",
      "step  82 of  1000\n",
      "-16.1270111454 -6.62405283532\n",
      "calculation so far took 96.98586583137512  seconds\n",
      "step  83 of  1000\n",
      "-16.1270111454 -6.48102651773\n",
      "calculation so far took 98.11016535758972  seconds\n",
      "step  84 of  1000\n",
      "-16.1270111454 -6.61575436383\n",
      "calculation so far took 99.22145533561707  seconds\n",
      "step  85 of  1000\n",
      "-16.1270111454 -6.38646945093\n",
      "calculation so far took 100.40429592132568  seconds\n",
      "step  86 of  1000\n",
      "-16.1270111454 -6.28522450235\n",
      "calculation so far took 101.4875659942627  seconds\n",
      "step  87 of  1000\n",
      "-16.1270111454 -6.11540886175\n",
      "calculation so far took 102.49227929115295  seconds\n",
      "step  88 of  1000\n",
      "-16.1270111454 -6.18632406426\n",
      "calculation so far took 103.88777136802673  seconds\n",
      "step  89 of  1000\n",
      "-16.1270111454 -6.03943562825\n",
      "calculation so far took 105.00056505203247  seconds\n",
      "step  90 of  1000\n",
      "-16.1270111454 -5.89041482338\n",
      "calculation so far took 106.40055751800537  seconds\n",
      "step  91 of  1000\n",
      "-16.1270111454 -5.91307745528\n",
      "calculation so far took 107.55437707901001  seconds\n",
      "step  92 of  1000\n",
      "-16.1270111454 -6.01421931468\n",
      "calculation so far took 108.57510256767273  seconds\n",
      "step  93 of  1000\n",
      "-16.1270111454 -6.39547642593\n",
      "calculation so far took 109.6078372001648  seconds\n",
      "step  94 of  1000\n",
      "-16.1270111454 -6.28688560433\n",
      "calculation so far took 110.77916932106018  seconds\n",
      "step  95 of  1000\n",
      "-16.1270111454 -6.498218942\n",
      "calculation so far took 112.30075025558472  seconds\n",
      "step  96 of  1000\n",
      "-16.1270111454 -6.22052264871\n",
      "calculation so far took 113.61918759346008  seconds\n",
      "step  97 of  1000\n",
      "-16.1270111454 -6.2110153008\n",
      "calculation so far took 114.89909768104553  seconds\n",
      "step  98 of  1000\n",
      "-16.1270111454 -6.29487795027\n",
      "calculation so far took 116.2880859375  seconds\n",
      "step  99 of  1000\n",
      "-16.1270111454 -6.33469614921\n",
      "calculation so far took 117.82117366790771  seconds\n",
      "step  100 of  1000\n",
      "-16.1270111454 -6.28040839058\n",
      "calculation so far took 119.45733618736267  seconds\n",
      "step  101 of  1000\n",
      "-16.1270111454 -6.11941876804\n",
      "calculation so far took 120.90586686134338  seconds\n",
      "step  102 of  1000\n",
      "-16.1270111454 -6.20699185453\n",
      "calculation so far took 122.53102135658264  seconds\n",
      "step  103 of  1000\n",
      "-16.1270111454 -6.32578721439\n",
      "calculation so far took 123.96804308891296  seconds\n",
      "step  104 of  1000\n",
      "-16.1270111454 -6.43535267082\n",
      "calculation so far took 125.51113986968994  seconds\n",
      "step  105 of  1000\n",
      "-16.1270111454 -6.32916709186\n",
      "calculation so far took 127.11527967453003  seconds\n",
      "step  106 of  1000\n",
      "-16.1270111454 -6.3615974927\n",
      "calculation so far took 128.3351457118988  seconds\n",
      "step  107 of  1000\n",
      "-16.1270111454 -6.16842662141\n",
      "calculation so far took 129.37988877296448  seconds\n",
      "step  108 of  1000\n",
      "-16.1270111454 -5.99143004439\n",
      "calculation so far took 130.6823148727417  seconds\n",
      "step  109 of  1000\n",
      "-16.1270111454 -6.03660509864\n",
      "calculation so far took 131.64199662208557  seconds\n",
      "step  110 of  1000\n",
      "-16.1270111454 -5.88430878375\n",
      "calculation so far took 132.97844696044922  seconds\n",
      "step  111 of  1000\n",
      "-16.1270111454 -6.03039597693\n",
      "calculation so far took 134.0026741027832  seconds\n",
      "step  112 of  1000\n",
      "-16.1270111454 -6.14936179267\n",
      "calculation so far took 135.15399312973022  seconds\n",
      "step  113 of  1000\n",
      "-16.1270111454 -6.05497310879\n",
      "calculation so far took 136.47993516921997  seconds\n",
      "step  114 of  1000\n",
      "-16.1270111454 -6.15555678426\n",
      "calculation so far took 137.8253915309906  seconds\n",
      "step  115 of  1000\n",
      "-16.1270111454 -6.05393653678\n",
      "calculation so far took 139.41351985931396  seconds\n",
      "step  116 of  1000\n",
      "-16.1270111454 -6.17475248814\n",
      "calculation so far took 141.0812554359436  seconds\n",
      "step  117 of  1000\n",
      "-16.1270111454 -6.13056854062\n",
      "calculation so far took 142.14951515197754  seconds\n",
      "step  118 of  1000\n",
      "-16.1270111454 -6.16510812658\n",
      "calculation so far took 143.409410238266  seconds\n",
      "step  119 of  1000\n",
      "-16.1270111454 -6.25870158765\n",
      "calculation so far took 144.36859273910522  seconds\n",
      "step  120 of  1000\n",
      "-16.1270111454 -6.34352689884\n",
      "calculation so far took 145.2802402973175  seconds\n",
      "step  121 of  1000\n",
      "-16.1270111454 -6.36013810033\n",
      "calculation so far took 146.25793433189392  seconds\n",
      "step  122 of  1000\n",
      "-16.1270111454 -6.70673668056\n",
      "calculation so far took 147.2376308441162  seconds\n",
      "step  123 of  1000\n",
      "-16.1270111454 -6.19560526355\n",
      "calculation so far took 148.19330978393555  seconds\n",
      "step  124 of  1000\n",
      "-16.1270111454 -6.13178138133\n",
      "calculation so far took 149.1174669265747  seconds\n",
      "step  125 of  1000\n",
      "-16.1270111454 -6.2733679631\n",
      "calculation so far took 150.10416769981384  seconds\n",
      "step  126 of  1000\n",
      "-16.1270111454 -6.54019492804\n",
      "calculation so far took 151.07785987854004  seconds\n",
      "step  127 of  1000\n",
      "-16.1270111454 -6.51293608413\n",
      "calculation so far took 152.040043592453  seconds\n",
      "step  128 of  1000\n",
      "-16.1270111454 -6.3586301772\n",
      "calculation so far took 153.01023364067078  seconds\n",
      "step  129 of  1000\n",
      "-16.1270111454 -6.20560889446\n",
      "calculation so far took 154.00394082069397  seconds\n",
      "step  130 of  1000\n",
      "-16.1270111454 -6.42475972997\n",
      "calculation so far took 155.0046513080597  seconds\n",
      "step  131 of  1000\n",
      "-16.1270111454 -6.40252452352\n",
      "calculation so far took 155.9117956161499  seconds\n",
      "step  132 of  1000\n",
      "-16.1270111454 -6.47718430224\n",
      "calculation so far took 156.8609697818756  seconds\n",
      "step  133 of  1000\n",
      "-16.1270111454 -6.52517440664\n",
      "calculation so far took 157.88519883155823  seconds\n",
      "step  134 of  1000\n",
      "-16.1270111454 -6.28076214818\n",
      "calculation so far took 158.8734004497528  seconds\n",
      "step  135 of  1000\n",
      "-16.1270111454 -6.37224304704\n",
      "calculation so far took 159.82857942581177  seconds\n",
      "step  136 of  1000\n",
      "-16.1270111454 -6.37347745201\n",
      "calculation so far took 160.8107771873474  seconds\n",
      "step  137 of  1000\n",
      "-16.1270111454 -6.19969407478\n",
      "calculation so far took 161.7569489479065  seconds\n",
      "step  138 of  1000\n",
      "-16.1270111454 -6.20073552666\n",
      "calculation so far took 162.68711113929749  seconds\n",
      "step  139 of  1000\n",
      "-16.1270111454 -6.18969177414\n",
      "calculation so far took 163.6167721748352  seconds\n",
      "step  140 of  1000\n",
      "-16.1270111454 -6.24858628761\n",
      "calculation so far took 164.58846187591553  seconds\n",
      "step  141 of  1000\n",
      "-16.1270111454 -6.18251595668\n",
      "calculation so far took 165.57216119766235  seconds\n",
      "step  142 of  1000\n",
      "-16.1270111454 -6.26739022753\n",
      "calculation so far took 166.47430205345154  seconds\n",
      "step  143 of  1000\n",
      "-16.1270111454 -6.28387297188\n",
      "calculation so far took 167.4419903755188  seconds\n",
      "step  144 of  1000\n",
      "-16.1270111454 -6.11012435752\n",
      "calculation so far took 168.3801567554474  seconds\n",
      "step  145 of  1000\n",
      "-16.1270111454 -5.80816675242\n",
      "calculation so far took 169.3318328857422  seconds\n",
      "step  146 of  1000\n",
      "-16.1270111454 -6.06382192855\n",
      "calculation so far took 170.2409791946411  seconds\n",
      "step  147 of  1000\n",
      "-16.1270111454 -6.21463923461\n",
      "calculation so far took 171.2216761112213  seconds\n",
      "step  148 of  1000\n",
      "-16.1270111454 -6.13866409125\n",
      "calculation so far took 172.18336057662964  seconds\n",
      "step  149 of  1000\n",
      "-16.1270111454 -5.98551221098\n",
      "calculation so far took 173.12552881240845  seconds\n",
      "step  150 of  1000\n",
      "-16.1270111454 -6.07379996957\n",
      "calculation so far took 174.05018663406372  seconds\n",
      "step  151 of  1000\n",
      "-16.1270111454 -6.06707458572\n",
      "calculation so far took 175.03288435935974  seconds\n",
      "step  152 of  1000\n",
      "-16.1270111454 -5.8628268105\n",
      "calculation so far took 175.98756289482117  seconds\n",
      "step  153 of  1000\n",
      "-16.1270111454 -5.89112947703\n",
      "calculation so far took 176.95224905014038  seconds\n",
      "step  154 of  1000\n",
      "-16.1270111454 -5.83444032556\n",
      "calculation so far took 177.87440490722656  seconds\n",
      "step  155 of  1000\n",
      "-16.1270111454 -5.97405754688\n",
      "calculation so far took 178.9471673965454  seconds\n",
      "step  156 of  1000\n",
      "-16.1270111454 -6.29896602426\n",
      "calculation so far took 179.93086671829224  seconds\n",
      "step  157 of  1000\n",
      "-16.1270111454 -6.47682544353\n",
      "calculation so far took 180.90455794334412  seconds\n",
      "step  158 of  1000\n",
      "-16.1270111454 -6.24200229308\n",
      "calculation so far took 181.91077280044556  seconds\n",
      "step  159 of  1000\n",
      "-16.1270111454 -6.28693030551\n",
      "calculation so far took 182.872456073761  seconds\n",
      "step  160 of  1000\n",
      "-16.1270111454 -6.14257322435\n",
      "calculation so far took 184.2089068889618  seconds\n",
      "step  161 of  1000\n",
      "-16.1270111454 -6.21735112043\n",
      "calculation so far took 185.40175461769104  seconds\n",
      "step  162 of  1000\n",
      "-16.1270111454 -6.25584681376\n",
      "calculation so far took 186.73770380020142  seconds\n",
      "step  163 of  1000\n",
      "-16.1270111454 -6.40239767936\n",
      "calculation so far took 187.96857810020447  seconds\n",
      "step  164 of  1000\n",
      "-16.1270111454 -6.21188541516\n",
      "calculation so far took 189.09287810325623  seconds\n",
      "step  165 of  1000\n",
      "-16.1270111454 -6.21686007548\n",
      "calculation so far took 190.3472695350647  seconds\n",
      "step  166 of  1000\n",
      "-16.1270111454 -6.03312915727\n",
      "calculation so far took 191.6021614074707  seconds\n",
      "step  167 of  1000\n",
      "-16.1270111454 -5.79646365455\n",
      "calculation so far took 192.97413611412048  seconds\n",
      "step  168 of  1000\n",
      "-16.1270111454 -5.7746879137\n",
      "calculation so far took 194.0660011768341  seconds\n",
      "step  169 of  1000\n",
      "-16.1270111454 -5.84092116335\n",
      "calculation so far took 195.12625455856323  seconds\n",
      "step  170 of  1000\n",
      "-16.1270111454 -5.80178651098\n",
      "calculation so far took 196.21953177452087  seconds\n",
      "step  171 of  1000\n",
      "-16.1270111454 -5.96327085589\n",
      "calculation so far took 197.3698489665985  seconds\n",
      "step  172 of  1000\n",
      "-16.1270111454 -5.94591990712\n",
      "calculation so far took 198.50065279006958  seconds\n",
      "step  173 of  1000\n",
      "-16.1270111454 -6.20581863986\n",
      "calculation so far took 199.62645316123962  seconds\n",
      "step  174 of  1000\n",
      "-16.1270111454 -6.17537408014\n",
      "calculation so far took 200.7047200202942  seconds\n",
      "step  175 of  1000\n",
      "-16.1270111454 -6.03291497246\n",
      "calculation so far took 201.8095052242279  seconds\n",
      "step  176 of  1000\n",
      "-16.1270111454 -5.92796210371\n",
      "calculation so far took 203.0924162864685  seconds\n",
      "step  177 of  1000\n",
      "-16.1270111454 -5.96809576579\n",
      "calculation so far took 204.22822260856628  seconds\n",
      "step  178 of  1000\n",
      "-16.1270111454 -6.17026493932\n",
      "calculation so far took 205.3064901828766  seconds\n",
      "step  179 of  1000\n",
      "-16.1270111454 -6.158216522\n",
      "calculation so far took 206.354234457016  seconds\n",
      "step  180 of  1000\n",
      "-16.1270111454 -6.134285816\n",
      "calculation so far took 207.39297246932983  seconds\n",
      "step  181 of  1000\n",
      "-16.1270111454 -6.25309993735\n",
      "calculation so far took 208.48725008964539  seconds\n",
      "step  182 of  1000\n",
      "-16.1270111454 -6.3314012738\n",
      "calculation so far took 209.56251525878906  seconds\n",
      "step  183 of  1000\n",
      "-16.1270111454 -6.66070950299\n",
      "calculation so far took 210.59124565124512  seconds\n",
      "step  184 of  1000\n",
      "-16.1270111454 -6.34826147654\n",
      "calculation so far took 211.67901849746704  seconds\n",
      "step  185 of  1000\n",
      "-16.1270111454 -6.1568583859\n",
      "calculation so far took 212.7352695465088  seconds\n",
      "step  186 of  1000\n",
      "-16.1270111454 -5.81534340657\n",
      "calculation so far took 213.82455587387085  seconds\n",
      "step  187 of  1000\n",
      "-16.1270111454 -5.77761540145\n",
      "calculation so far took 214.85779094696045  seconds\n",
      "step  188 of  1000\n",
      "-16.1270111454 -5.80502904991\n",
      "calculation so far took 215.9275505542755  seconds\n",
      "step  189 of  1000\n",
      "-16.1270111454 -6.23696330585\n",
      "calculation so far took 216.99180674552917  seconds\n",
      "step  190 of  1000\n",
      "-16.1270111454 -6.23500361185\n",
      "calculation so far took 218.00252556800842  seconds\n",
      "step  191 of  1000\n",
      "-16.1270111454 -5.96638125548\n",
      "calculation so far took 219.09230041503906  seconds\n",
      "step  192 of  1000\n",
      "-16.1270111454 -5.99653692947\n",
      "calculation so far took 220.17106652259827  seconds\n",
      "step  193 of  1000\n",
      "-16.1270111454 -6.01695261594\n",
      "calculation so far took 221.18478965759277  seconds\n",
      "step  194 of  1000\n",
      "-16.1270111454 -6.05351754021\n",
      "calculation so far took 222.42674016952515  seconds\n",
      "step  195 of  1000\n",
      "-16.1270111454 -6.11380068542\n",
      "calculation so far took 223.53402733802795  seconds\n",
      "step  196 of  1000\n",
      "-16.1270111454 -6.01158902302\n",
      "calculation so far took 224.58377313613892  seconds\n",
      "step  197 of  1000\n",
      "-16.1270111454 -6.05004637052\n",
      "calculation so far took 225.61600708961487  seconds\n",
      "step  198 of  1000\n",
      "-16.1270111454 -5.99535269624\n",
      "calculation so far took 226.66975569725037  seconds\n",
      "step  199 of  1000\n",
      "-16.1270111454 -5.93823283048\n",
      "calculation so far took 227.7430181503296  seconds\n",
      "step  200 of  1000\n",
      "-16.1270111454 -6.30381141297\n",
      "calculation so far took 228.76124215126038  seconds\n",
      "step  201 of  1000\n",
      "-16.1270111454 -6.18143207853\n",
      "calculation so far took 229.82800030708313  seconds\n",
      "step  202 of  1000\n",
      "-16.1270111454 -6.20123328815\n",
      "calculation so far took 230.9337866306305  seconds\n",
      "step  203 of  1000\n",
      "-16.1270111454 -5.87818929782\n",
      "calculation so far took 232.00404715538025  seconds\n",
      "step  204 of  1000\n",
      "-16.1270111454 -6.12192662232\n",
      "calculation so far took 233.11083364486694  seconds\n",
      "step  205 of  1000\n",
      "-16.1270111454 -6.04283619443\n",
      "calculation so far took 234.1906008720398  seconds\n",
      "step  206 of  1000\n",
      "-16.1270111454 -6.01096584275\n",
      "calculation so far took 235.22683763504028  seconds\n",
      "step  207 of  1000\n",
      "-16.1270111454 -6.09951018079\n",
      "calculation so far took 236.22754955291748  seconds\n",
      "step  208 of  1000\n",
      "-16.1270111454 -6.13191762297\n",
      "calculation so far took 237.34184074401855  seconds\n",
      "step  209 of  1000\n",
      "-16.1270111454 -5.8884126212\n",
      "calculation so far took 238.44312477111816  seconds\n",
      "step  210 of  1000\n",
      "-16.1270111454 -6.01989440387\n",
      "calculation so far took 239.43782997131348  seconds\n",
      "step  211 of  1000\n",
      "-16.1270111454 -5.99926321664\n",
      "calculation so far took 240.54981350898743  seconds\n",
      "step  212 of  1000\n",
      "-16.1270111454 -6.09217787988\n",
      "calculation so far took 241.61456847190857  seconds\n",
      "step  213 of  1000\n",
      "-16.1270111454 -5.91092257507\n",
      "calculation so far took 242.6347939968109  seconds\n",
      "step  214 of  1000\n",
      "-16.1270111454 -6.00266924919\n",
      "calculation so far took 243.6325032711029  seconds\n",
      "step  215 of  1000\n",
      "-16.1270111454 -6.08518122971\n",
      "calculation so far took 244.7292833328247  seconds\n",
      "step  216 of  1000\n",
      "-16.1270111454 -6.21904113781\n",
      "calculation so far took 245.81305694580078  seconds\n",
      "step  217 of  1000\n",
      "-16.1270111454 -6.16420911944\n",
      "calculation so far took 246.82084727287292  seconds\n",
      "step  218 of  1000\n",
      "-16.1270111454 -6.24356241157\n",
      "calculation so far took 247.89461064338684  seconds\n",
      "step  219 of  1000\n",
      "-16.1270111454 -6.02960859392\n",
      "calculation so far took 248.98838758468628  seconds\n",
      "step  220 of  1000\n",
      "-16.1270111454 -6.01020831238\n",
      "calculation so far took 250.05414533615112  seconds\n",
      "step  221 of  1000\n",
      "-16.1270111454 -6.22148512992\n",
      "calculation so far took 251.26250386238098  seconds\n",
      "step  222 of  1000\n",
      "-16.1270111454 -6.49951128847\n",
      "calculation so far took 252.33876872062683  seconds\n",
      "step  223 of  1000\n",
      "-16.1270111454 -6.24813983786\n",
      "calculation so far took 253.4085292816162  seconds\n",
      "step  224 of  1000\n",
      "-16.1270111454 -6.11332190354\n",
      "calculation so far took 254.3877248764038  seconds\n",
      "step  225 of  1000\n",
      "-16.1270111454 -6.02938802047\n",
      "calculation so far took 255.45399570465088  seconds\n",
      "step  226 of  1000\n",
      "-16.1270111454 -6.32140228882\n",
      "calculation so far took 256.49973917007446  seconds\n",
      "step  227 of  1000\n",
      "-16.1270111454 -6.49821805164\n",
      "calculation so far took 257.5204646587372  seconds\n",
      "step  228 of  1000\n",
      "-16.1270111454 -6.30631872568\n",
      "calculation so far took 258.55622458457947  seconds\n",
      "step  229 of  1000\n",
      "-16.1270111454 -6.26154892288\n",
      "calculation so far took 259.60196805000305  seconds\n",
      "step  230 of  1000\n",
      "-16.1270111454 -6.37206023094\n",
      "calculation so far took 260.69974875450134  seconds\n",
      "step  231 of  1000\n",
      "-16.1270111454 -6.48903073584\n",
      "calculation so far took 261.7269787788391  seconds\n",
      "step  232 of  1000\n",
      "-16.1270111454 -6.42704131505\n",
      "calculation so far took 263.020898103714  seconds\n",
      "step  233 of  1000\n",
      "-16.1270111454 -6.51684769764\n",
      "calculation so far took 264.100665807724  seconds\n",
      "step  234 of  1000\n",
      "-16.1270111454 -6.46447627869\n",
      "calculation so far took 265.1258945465088  seconds\n",
      "step  235 of  1000\n",
      "-16.1270111454 -6.45995789966\n",
      "calculation so far took 266.2131676673889  seconds\n",
      "step  236 of  1000\n",
      "-16.1270111454 -6.21562643554\n",
      "calculation so far took 267.2929472923279  seconds\n",
      "step  237 of  1000\n",
      "-16.1270111454 -6.07616616372\n",
      "calculation so far took 268.32918310165405  seconds\n",
      "step  238 of  1000\n",
      "-16.1270111454 -5.83886196195\n",
      "calculation so far took 269.3749272823334  seconds\n",
      "step  239 of  1000\n",
      "-16.1270111454 -6.16309187327\n",
      "calculation so far took 270.482714176178  seconds\n",
      "step  240 of  1000\n",
      "-16.1270111454 -6.24648986043\n",
      "calculation so far took 271.5094437599182  seconds\n",
      "step  241 of  1000\n",
      "-16.1270111454 -6.07077018225\n",
      "calculation so far took 272.47713136672974  seconds\n",
      "step  242 of  1000\n",
      "-16.1270111454 -6.0949885142\n",
      "calculation so far took 273.5163700580597  seconds\n",
      "step  243 of  1000\n",
      "-16.1270111454 -6.20209197562\n",
      "calculation so far took 274.6086583137512  seconds\n",
      "step  244 of  1000\n",
      "-16.1270111454 -6.24516182948\n",
      "calculation so far took 275.6483976840973  seconds\n",
      "step  245 of  1000\n",
      "-16.1270111454 -6.03735725048\n",
      "calculation so far took 276.6861352920532  seconds\n",
      "step  246 of  1000\n",
      "-16.1270111454 -6.01252813438\n",
      "calculation so far took 277.7764108181  seconds\n",
      "step  247 of  1000\n",
      "-16.1270111454 -5.98533163075\n",
      "calculation so far took 278.90020966529846  seconds\n",
      "step  248 of  1000\n",
      "-16.1270111454 -6.05015233045\n",
      "calculation so far took 279.9189338684082  seconds\n",
      "step  249 of  1000\n",
      "-16.1270111454 -6.09106210158\n",
      "calculation so far took 281.05774307250977  seconds\n",
      "step  250 of  1000\n",
      "-16.1270111454 -6.15067821371\n",
      "calculation so far took 282.0974817276001  seconds\n",
      "step  251 of  1000\n",
      "-16.1270111454 -6.0679747981\n",
      "calculation so far took 283.1612374782562  seconds\n",
      "step  252 of  1000\n",
      "-16.1270111454 -6.17701270694\n",
      "calculation so far took 284.19497179985046  seconds\n",
      "step  253 of  1000\n",
      "-16.1270111454 -6.29374631876\n",
      "calculation so far took 285.26623344421387  seconds\n",
      "step  254 of  1000\n",
      "-16.1270111454 -6.29601483587\n",
      "calculation so far took 286.3535056114197  seconds\n",
      "step  255 of  1000\n",
      "-16.1270111454 -6.4723972221\n",
      "calculation so far took 287.3552191257477  seconds\n",
      "step  256 of  1000\n",
      "-16.1270111454 -6.40418351948\n",
      "calculation so far took 288.39095425605774  seconds\n",
      "step  257 of  1000\n",
      "-16.1270111454 -6.1413847308\n",
      "calculation so far took 289.4507064819336  seconds\n",
      "step  258 of  1000\n",
      "-16.1270111454 -6.23891307913\n",
      "calculation so far took 290.5139629840851  seconds\n",
      "step  259 of  1000\n",
      "-16.1270111454 -6.14443971828\n",
      "calculation so far took 291.55180764198303  seconds\n",
      "step  260 of  1000\n",
      "-16.1270111454 -6.04106683369\n",
      "calculation so far took 292.6210677623749  seconds\n",
      "step  261 of  1000\n",
      "-16.1270111454 -6.10662285834\n",
      "calculation so far took 293.7173478603363  seconds\n",
      "step  262 of  1000\n",
      "-16.1270111454 -5.83271849018\n",
      "calculation so far took 294.78760838508606  seconds\n",
      "step  263 of  1000\n",
      "-16.1270111454 -5.79514040656\n",
      "calculation so far took 295.8513648509979  seconds\n",
      "step  264 of  1000\n",
      "-16.1270111454 -6.0766958357\n",
      "calculation so far took 296.90461230278015  seconds\n",
      "step  265 of  1000\n",
      "-16.1270111454 -6.25201357129\n",
      "calculation so far took 297.9108271598816  seconds\n",
      "step  266 of  1000\n",
      "-16.1270111454 -6.25177228959\n",
      "calculation so far took 298.92805099487305  seconds\n",
      "step  267 of  1000\n",
      "-16.1270111454 -5.97740490047\n",
      "calculation so far took 299.97379875183105  seconds\n",
      "step  268 of  1000\n",
      "-16.1270111454 -5.87915906214\n",
      "calculation so far took 301.0705728530884  seconds\n",
      "step  269 of  1000\n",
      "-16.1270111454 -6.12592633365\n",
      "calculation so far took 302.056272983551  seconds\n",
      "step  270 of  1000\n",
      "-16.1270111454 -6.0568958172\n",
      "calculation so far took 303.13253831863403  seconds\n",
      "step  271 of  1000\n",
      "-16.1270111454 -6.07454627151\n",
      "calculation so far took 304.21331787109375  seconds\n",
      "step  272 of  1000\n",
      "-16.1270111454 -6.21876517503\n",
      "calculation so far took 305.2170310020447  seconds\n",
      "step  273 of  1000\n",
      "-16.1270111454 -6.20393879232\n",
      "calculation so far took 306.4539113044739  seconds\n",
      "step  274 of  1000\n",
      "-16.1270111454 -6.32320857254\n",
      "calculation so far took 307.5131642818451  seconds\n",
      "step  275 of  1000\n",
      "-16.1270111454 -6.21935001984\n",
      "calculation so far took 308.5609073638916  seconds\n",
      "step  276 of  1000\n",
      "-16.1270111454 -6.04661497529\n",
      "calculation so far took 309.60264801979065  seconds\n",
      "step  277 of  1000\n",
      "-16.1270111454 -6.01697115532\n",
      "calculation so far took 310.69743824005127  seconds\n",
      "step  278 of  1000\n",
      "-16.1270111454 -6.24546959809\n",
      "calculation so far took 311.8492569923401  seconds\n",
      "step  279 of  1000\n",
      "-16.1270111454 -6.17606031091\n",
      "calculation so far took 312.9150142669678  seconds\n",
      "step  280 of  1000\n",
      "-16.1270111454 -6.36982374983\n",
      "calculation so far took 314.01429557800293  seconds\n",
      "step  281 of  1000\n",
      "-16.1270111454 -6.47061666882\n",
      "calculation so far took 315.1030695438385  seconds\n",
      "step  282 of  1000\n",
      "-16.1270111454 -6.44728939779\n",
      "calculation so far took 316.1448094844818  seconds\n",
      "step  283 of  1000\n",
      "-16.1270111454 -6.27624406483\n",
      "calculation so far took 317.19155406951904  seconds\n",
      "step  284 of  1000\n",
      "-16.1270111454 -6.42287859923\n",
      "calculation so far took 318.28983330726624  seconds\n",
      "step  285 of  1000\n",
      "-16.1270111454 -6.2306456154\n",
      "calculation so far took 319.39862298965454  seconds\n",
      "step  286 of  1000\n",
      "-16.1270111454 -5.93306228475\n",
      "calculation so far took 320.4653799533844  seconds\n",
      "step  287 of  1000\n",
      "-16.1270111454 -5.9642706148\n",
      "calculation so far took 321.58317470550537  seconds\n",
      "step  288 of  1000\n",
      "-16.1270111454 -6.0953391819\n",
      "calculation so far took 322.780024766922  seconds\n",
      "step  289 of  1000\n",
      "-16.1270111454 -6.18981164036\n",
      "calculation so far took 323.8462836742401  seconds\n",
      "step  290 of  1000\n",
      "-16.1270111454 -6.12418093099\n",
      "calculation so far took 324.9395594596863  seconds\n",
      "step  291 of  1000\n",
      "-16.1270111454 -6.09930285155\n",
      "calculation so far took 326.0068187713623  seconds\n",
      "step  292 of  1000\n",
      "-16.1270111454 -6.09181540046\n",
      "calculation so far took 327.06006693840027  seconds\n",
      "step  293 of  1000\n",
      "-16.1270111454 -5.96839694129\n",
      "calculation so far took 328.11731910705566  seconds\n",
      "step  294 of  1000\n",
      "-16.1270111454 -5.84560494188\n",
      "calculation so far took 329.2271075248718  seconds\n",
      "step  295 of  1000\n",
      "-16.1270111454 -5.81071891073\n",
      "calculation so far took 330.35340785980225  seconds\n",
      "step  296 of  1000\n",
      "-16.1270111454 -5.60427630251\n",
      "calculation so far took 331.6158049106598  seconds\n",
      "step  297 of  1000\n",
      "-16.1270111454 -6.04375060563\n",
      "calculation so far took 332.71858978271484  seconds\n",
      "step  298 of  1000\n",
      "-16.1270111454 -6.13726340103\n",
      "calculation so far took 333.79034996032715  seconds\n",
      "step  299 of  1000\n",
      "-16.1270111454 -6.10223168963\n",
      "calculation so far took 334.80807304382324  seconds\n",
      "step  300 of  1000\n",
      "-16.1270111454 -6.21976659756\n",
      "calculation so far took 335.9618945121765  seconds\n",
      "step  301 of  1000\n",
      "-16.1270111454 -6.44489561422\n",
      "calculation so far took 337.0496668815613  seconds\n",
      "step  302 of  1000\n",
      "-16.1270111454 -6.20198206318\n",
      "calculation so far took 338.15645456314087  seconds\n"
     ]
    }
   ],
   "source": [
    "mcmc_quick(changing_parameter,elements,preload)"
   ]
  },
  {
   "cell_type": "code",
   "execution_count": 6,
   "metadata": {
    "collapsed": false
   },
   "outputs": [
    {
     "name": "stdout",
     "output_type": "stream",
     "text": [
      "blob shape =  (64, 303, 28, 1) probably some runs did not return results and were stored anyway.\n",
      "The chain has a length of 303 iterations, each iteration having 64 evaluations/walkers\n",
      "Mean posteriors at the beginning and the end of the chain:\n",
      "-6.20198206318 -16.1270111454\n",
      "Mean posteriors after the burn-in tail is cut out:\n",
      "-6.20198206318 -6.02938802047\n",
      "We are left with a sample of 4992 posterior evaluations from the converged MCMC chain\n",
      "We have 4992 iterations good enough posterior, their posteriors range from\n",
      "-3.3583772798 -14.5414302898\n",
      "Highest posterior was obtained at parameters:  [[-2.39743005 -3.00094579 -0.7196173  -0.29756725  0.53552653  0.50570946]]\n",
      "Number of unique posterior values:  2607\n",
      "Inferred marginalized parameter distributions are:\n",
      "0 -2.31548686528 +- 0.14781494545\n",
      "1 -2.91227645502 +- 0.190944241625\n",
      "2 -0.770900092276 +- 0.298558270751\n",
      "3 -0.263359328175 +- 0.291731942072\n",
      "4 0.563763436811 +- 0.0963926043164\n",
      "5 0.503290693195 +- 0.093505369776\n"
     ]
    },
    {
     "data": {
      "text/plain": [
       "<matplotlib.figure.Figure at 0x14a6241cf60>"
      ]
     },
     "metadata": {},
     "output_type": "display_data"
    },
    {
     "data": {
      "text/plain": [
       "<matplotlib.figure.Figure at 0x14a625bd320>"
      ]
     },
     "metadata": {},
     "output_type": "display_data"
    }
   ],
   "source": [
    "from Chempy.plot_mcmc import restructure_chain\n",
    "restructure_chain('mcmc/')"
   ]
  },
  {
   "cell_type": "code",
   "execution_count": null,
   "metadata": {
    "collapsed": true
   },
   "outputs": [],
   "source": []
  },
  {
   "cell_type": "code",
   "execution_count": 10,
   "metadata": {
    "collapsed": false
   },
   "outputs": [],
   "source": [
    "from Chempy.cem_function import posterior_function_mcmc_quick,posterior_function_many_stars\n",
    "p1,a1 = posterior_function_mcmc_quick(changing_parameter,elements,preload)\n",
    "p2,a2 = posterior_function_many_stars(np.array(changing_parameter),[0],elements)\n"
   ]
  },
  {
   "cell_type": "code",
   "execution_count": 16,
   "metadata": {
    "collapsed": false
   },
   "outputs": [
    {
     "name": "stdout",
     "output_type": "stream",
     "text": [
      "The line_profiler extension is already loaded. To reload it, use:\n",
      "  %reload_ext line_profiler\n"
     ]
    }
   ],
   "source": [
    "%load_ext line_profiler\n",
    "%lprun -f posterior_function_mcmc_quick posterior_function_mcmc_quick(changing_parameter,elements,preload)"
   ]
  },
  {
   "cell_type": "code",
   "execution_count": null,
   "metadata": {
    "collapsed": true
   },
   "outputs": [],
   "source": []
  }
 ],
 "metadata": {
  "kernelspec": {
   "display_name": "Python 3",
   "language": "python",
   "name": "python3"
  },
  "language_info": {
   "codemirror_mode": {
    "name": "ipython",
    "version": 3
   },
   "file_extension": ".py",
   "mimetype": "text/x-python",
   "name": "python",
   "nbconvert_exporter": "python",
   "pygments_lexer": "ipython3",
   "version": "3.5.1"
  }
 },
 "nbformat": 4,
 "nbformat_minor": 1
}
