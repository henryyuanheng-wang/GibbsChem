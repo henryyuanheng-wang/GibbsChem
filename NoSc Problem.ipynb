{
 "cells": [
  {
   "cell_type": "code",
   "execution_count": 1,
   "metadata": {},
   "outputs": [
    {
     "name": "stdout",
     "output_type": "stream",
     "text": [
      "Populating the interactive namespace from numpy and matplotlib\n"
     ]
    }
   ],
   "source": [
    "%pylab inline"
   ]
  },
  {
   "cell_type": "markdown",
   "metadata": {},
   "source": [
    "**Code is not predicting correctly for case when Sc is excluded. This is due to different list of names somewhere?**"
   ]
  },
  {
   "cell_type": "code",
   "execution_count": 9,
   "metadata": {
    "collapsed": true
   },
   "outputs": [],
   "source": [
    "from Chempy.score_function import preload_params_mcmc\n",
    "preload = preload_params_mcmc()\n",
    "from Chempy.parameter import ModelParameters\n",
    "a = ModelParameters()\n",
    "sol_dat = np.load('Chempy/input/stars/'+a.stellar_identifier+'.npy')"
   ]
  },
  {
   "cell_type": "code",
   "execution_count": 12,
   "metadata": {},
   "outputs": [
    {
     "name": "stdout",
     "output_type": "stream",
     "text": [
      "['Al', 'Ar', 'B', 'Be', 'C', 'Ca', 'Cl', 'Co', 'Cr', 'Cu', 'F', 'Fe', 'Ga', 'Ge', 'H', 'He', 'K', 'Li', 'Mg', 'Mn', 'N', 'Na', 'Ne', 'Ni', 'O', 'P', 'S', 'Si', 'Ti', 'V', 'Zn']\n",
      "['Al', 'Ar', 'B', 'Be', 'C', 'Ca', 'Cl', 'Co', 'Cr', 'Cu', 'F', 'Fe', 'Ga', 'Ge', 'H', 'He', 'K', 'Li', 'Mg', 'Mn', 'N', 'Na', 'Ne', 'Ni', 'O', 'P', 'S', 'Si', 'Ti', 'V', 'Zn', 'Zcorona', 'SNratio']\n",
      "['Al' 'Ar' 'C' 'Ca' 'Cl' 'Co' 'Cr' 'Cu' 'F' 'Fe' 'Ga' 'Ge' 'He' 'K' 'Mg'\n",
      " 'Mn' 'N' 'Na' 'Ne' 'Ni' 'O' 'P' 'S' 'Si' 'Ti' 'V' 'Zn']\n",
      "29\n"
     ]
    }
   ],
   "source": [
    "print(a.elements_to_trace)\n",
    "print(preload.elements_to_trace)\n",
    "print(preload.elements)\n",
    "print(len(sol_dat.dtype.names))"
   ]
  },
  {
   "cell_type": "code",
   "execution_count": 24,
   "metadata": {},
   "outputs": [
    {
     "name": "stdout",
     "output_type": "stream",
     "text": [
      "['Al', 'Ar', 'C', 'Ca', 'Cl', 'Co', 'Cr', 'Cu', 'F', 'Fe', 'Ga', 'Ge', 'He', 'K', 'Mg', 'Mn', 'N', 'Na', 'Ne', 'Ni', 'O', 'P', 'S', 'Si', 'Ti', 'V', 'Zn']\n"
     ]
    }
   ],
   "source": [
    "from Chempy.cem_function import posterior_function_returning_predictions\n",
    "ab,n=posterior_function_returning_predictions((a.p0,a))\n",
    "print(n)"
   ]
  },
  {
   "cell_type": "code",
   "execution_count": 19,
   "metadata": {
    "collapsed": true
   },
   "outputs": [
    {
     "data": {
      "text/plain": [
       "([0.046828755728672816,\n",
       "  0.043038807465755169,\n",
       "  0,\n",
       "  0,\n",
       "  -0.28376826356347407,\n",
       "  -0.020343013761648099,\n",
       "  -0.50508619620429807,\n",
       "  -0.34445292314449211,\n",
       "  0.10426687684126304,\n",
       "  0.01772713921263136,\n",
       "  -0.09978050517913585,\n",
       "  0.18591100651147496,\n",
       "  0.34734832884257927,\n",
       "  0.56511478228666312,\n",
       "  0,\n",
       "  -0.14640519163049781,\n",
       "  -0.87838819120665002,\n",
       "  0,\n",
       "  -0.040879649147992581,\n",
       "  0.18564910310349581,\n",
       "  0.051303145999634481,\n",
       "  0.28427847380955423,\n",
       "  0.2074582576131544,\n",
       "  0.1625570212371647,\n",
       "  0.073040923770360699,\n",
       "  0.032307467488700697,\n",
       "  0.20537034909980162,\n",
       "  -0.91624626191704495,\n",
       "  0.23470349687411482,\n",
       "  -0.43124120664937521,\n",
       "  -0.24265370489801608,\n",
       "  0,\n",
       "  0],\n",
       " ['Al',\n",
       "  'Ar',\n",
       "  'B',\n",
       "  'Be',\n",
       "  'C',\n",
       "  'Ca',\n",
       "  'Cl',\n",
       "  'Co',\n",
       "  'Cr',\n",
       "  'Cu',\n",
       "  'F',\n",
       "  'Fe',\n",
       "  'Ga',\n",
       "  'Ge',\n",
       "  'H',\n",
       "  'He',\n",
       "  'K',\n",
       "  'Li',\n",
       "  'Mg',\n",
       "  'Mn',\n",
       "  'N',\n",
       "  'Na',\n",
       "  'Ne',\n",
       "  'Ni',\n",
       "  'O',\n",
       "  'P',\n",
       "  'S',\n",
       "  'Si',\n",
       "  'Ti',\n",
       "  'V',\n",
       "  'Zn',\n",
       "  'Zcorona',\n",
       "  'SNratio'])"
      ]
     },
     "execution_count": 19,
     "metadata": {},
     "output_type": "execute_result"
    }
   ],
   "source": [
    "from Chempy.cem_function import cem_real2\n",
    "cem_real2(a)"
   ]
  },
  {
   "cell_type": "code",
   "execution_count": 23,
   "metadata": {},
   "outputs": [
    {
     "name": "stdout",
     "output_type": "stream",
     "text": [
      "['Al', 'Ar', 'C', 'Ca', 'Cl', 'Co', 'Cr', 'Cu', 'F', 'Fe', 'Ga', 'Ge', 'He', 'K', 'Mg', 'Mn', 'N', 'Na', 'Ne', 'Ni', 'O', 'P', 'S', 'Si', 'Ti', 'V', 'Zn']\n"
     ]
    }
   ],
   "source": [
    "from Chempy.data_to_test import likelihood_function\n",
    "_,x,_,_,_,_=likelihood_function(a.stellar_identifier,ab,n)\n",
    "print(x)"
   ]
  },
  {
   "cell_type": "code",
   "execution_count": 27,
   "metadata": {},
   "outputs": [
    {
     "data": {
      "text/plain": [
       "array(['Al', 'Ar', 'C', 'Ca', 'Cl', 'Co', 'Cr', 'Cu', 'F', 'Fe', 'Ga',\n",
       "       'Ge', 'He', 'K', 'Mg', 'Mn', 'N', 'Na', 'Ne', 'Ni', 'O', 'P', 'S',\n",
       "       'Si', 'Ti', 'V', 'Zn'], \n",
       "      dtype='<U2')"
      ]
     },
     "execution_count": 27,
     "metadata": {},
     "output_type": "execute_result"
    }
   ],
   "source": [
    "preload.elements"
   ]
  },
  {
   "cell_type": "code",
   "execution_count": 31,
   "metadata": {},
   "outputs": [
    {
     "data": {
      "text/plain": [
       "array(['Al', 'Ar', 'C', 'Ca', 'Cl', 'Co', 'Cr', 'Cu', 'F', 'Fe', 'Ga',\n",
       "       'Ge', 'He', 'K', 'Mg', 'Mn', 'N', 'Na', 'Ne', 'Ni', 'O', 'P', 'S',\n",
       "       'Si', 'Ti', 'V', 'Zn'], \n",
       "      dtype='<U2')"
      ]
     },
     "execution_count": 31,
     "metadata": {},
     "output_type": "execute_result"
    }
   ],
   "source": [
    "np.load('/home/philcox/Save/SCORES/Nomoto_netNoSc/Hogg_elements.npy')"
   ]
  },
  {
   "cell_type": "code",
   "execution_count": null,
   "metadata": {
    "collapsed": true
   },
   "outputs": [],
   "source": []
  }
 ],
 "metadata": {
  "kernelspec": {
   "display_name": "Python 3",
   "language": "python",
   "name": "python3"
  },
  "language_info": {
   "codemirror_mode": {
    "name": "ipython",
    "version": 3
   },
   "file_extension": ".py",
   "mimetype": "text/x-python",
   "name": "python",
   "nbconvert_exporter": "python",
   "pygments_lexer": "ipython3",
   "version": "3.6.1"
  }
 },
 "nbformat": 4,
 "nbformat_minor": 2
}
