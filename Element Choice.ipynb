{
 "cells": [
  {
   "cell_type": "code",
   "execution_count": 1,
   "metadata": {},
   "outputs": [
    {
     "name": "stdout",
     "output_type": "stream",
     "text": [
      "Populating the interactive namespace from numpy and matplotlib\n"
     ]
    }
   ],
   "source": [
    "%pylab inline"
   ]
  },
  {
   "cell_type": "code",
   "execution_count": 2,
   "metadata": {
    "collapsed": true
   },
   "outputs": [],
   "source": [
    "from Chempy.parameter import ModelParameters\n",
    "a = ModelParameters()"
   ]
  },
  {
   "cell_type": "code",
   "execution_count": 3,
   "metadata": {},
   "outputs": [
    {
     "data": {
      "text/plain": [
       "['N']"
      ]
     },
     "execution_count": 3,
     "metadata": {},
     "output_type": "execute_result"
    }
   ],
   "source": [
    "a.elements_to_trace"
   ]
  },
  {
   "cell_type": "code",
   "execution_count": null,
   "metadata": {},
   "outputs": [
    {
     "name": "stdout",
     "output_type": "stream",
     "text": [
      "['Proto-sun']\n",
      "first minimization for each star separately took:  1 seconds\n",
      "[2.1908674188165111]\n",
      "step 1 global minimization took:  3 seconds\n",
      "step 1 local minimization took:  0 seconds\n",
      "[2.1908674188165111, 2.1986842675842695]\n",
      "step 2 global minimization took:  3 seconds\n",
      "step 2 local minimization took:  0 seconds\n",
      "[array([[-2.54706817, -2.57255334, -0.78783501, -0.32051299,  0.53376218,\n",
      "         0.49662872]]), 'initial minimization', (array([-2.54706817, -2.57255334, -0.78783501]), 2.1908674188165111), 'step 1 global minimization', array([[-2.54706817, -2.57255334, -0.78783501, -0.33653864,  0.53376218,\n",
      "         0.49662872]]), 'step 1 local minimization', (array([-2.54706817, -2.57255334, -0.78783501]), 2.1986842675842695), 'step 2 global minimization', array([[-2.54706817, -2.57255334, -0.78783501, -0.33653864,  0.53376218,\n",
      "         0.49662872]]), 'step 2 local minimization', [2.1908674188165111, 2.1986842675842695]]\n",
      "step  1 of  1000\n",
      "5.22882051364 5.22820714037\n",
      "calculation so far took 3.1680333614349365  seconds\n",
      "step  2 of  1000\n",
      "5.22882051364 5.2258989777\n",
      "calculation so far took 3.845198392868042  seconds\n",
      "step  3 of  1000\n",
      "5.22882051364 5.22281813326\n",
      "calculation so far took 4.470798969268799  seconds\n",
      "step  4 of  1000\n",
      "5.22882051364 5.21292372243\n",
      "calculation so far took 5.092695713043213  seconds\n",
      "step  5 of  1000\n",
      "5.22882051364 5.17819563575\n",
      "calculation so far took 5.716578245162964  seconds\n",
      "step  6 of  1000\n",
      "5.22882051364 5.11047727601\n",
      "calculation so far took 6.402952671051025  seconds\n",
      "step  7 of  1000\n",
      "5.22882051364 4.97105190984\n",
      "calculation so far took 7.073971748352051  seconds\n",
      "step  8 of  1000\n",
      "5.22882051364 4.73099024132\n",
      "calculation so far took 7.750349521636963  seconds\n",
      "step  9 of  1000\n",
      "5.22882051364 4.37984959409\n",
      "calculation so far took 8.455044746398926  seconds\n",
      "step  10 of  1000\n",
      "5.22882051364 4.20645469075\n",
      "calculation so far took 9.081466913223267  seconds\n",
      "step  11 of  1000\n",
      "5.22882051364 4.20442295445\n",
      "calculation so far took 9.922218084335327  seconds\n",
      "step  12 of  1000\n",
      "5.22882051364 3.72350912\n",
      "calculation so far took 10.608783483505249  seconds\n",
      "step  13 of  1000\n",
      "5.22882051364 3.79805278345\n",
      "calculation so far took 11.304819107055664  seconds\n",
      "step  14 of  1000\n",
      "5.22882051364 3.59233299697\n",
      "calculation so far took 11.982191324234009  seconds\n",
      "step  15 of  1000\n",
      "5.22882051364 3.52029724939\n",
      "calculation so far took 12.727290868759155  seconds\n",
      "step  16 of  1000\n",
      "5.22882051364 3.47492529935\n",
      "calculation so far took 13.397424936294556  seconds\n",
      "step  17 of  1000\n",
      "5.22882051364 3.42968148404\n",
      "calculation so far took 14.074414253234863  seconds\n",
      "step  18 of  1000\n",
      "5.22882051364 3.57398292595\n",
      "calculation so far took 14.762774229049683  seconds\n",
      "step  19 of  1000\n",
      "5.22882051364 3.55107807715\n",
      "calculation so far took 15.442107439041138  seconds\n",
      "step  20 of  1000\n",
      "5.22882051364 3.35947548069\n",
      "calculation so far took 16.238940715789795  seconds\n",
      "step  21 of  1000\n",
      "5.22882051364 3.528054035\n",
      "calculation so far took 17.08885955810547  seconds\n",
      "step  22 of  1000\n",
      "5.22882051364 3.53253298926\n",
      "calculation so far took 17.786041021347046  seconds\n",
      "step  23 of  1000\n",
      "5.22882051364 3.42348180739\n",
      "calculation so far took 18.564171075820923  seconds\n",
      "step  24 of  1000\n",
      "5.22882051364 3.05037652533\n",
      "calculation so far took 19.256873607635498  seconds\n",
      "step  25 of  1000\n",
      "5.22882051364 2.93310659214\n",
      "calculation so far took 19.97863268852234  seconds\n",
      "step  26 of  1000\n",
      "5.22882051364 3.02929850353\n",
      "calculation so far took 20.67172074317932  seconds\n",
      "step  27 of  1000\n",
      "5.22882051364 2.89455106067\n",
      "calculation so far took 21.47843909263611  seconds\n",
      "step  28 of  1000\n",
      "5.22882051364 2.75913168167\n",
      "calculation so far took 22.148290395736694  seconds\n",
      "step  29 of  1000\n",
      "5.22882051364 3.0521839367\n",
      "calculation so far took 22.89639163017273  seconds\n",
      "step  30 of  1000\n"
     ]
    },
    {
     "name": "stderr",
     "output_type": "stream",
     "text": [
      "Traceback (most recent call last):\n",
      "  File \"/home/philcox/Chempy/Chempy/cem_function.py\", line 882, in posterior_function_many_stars\n",
      "    posterior, blobs = posterior_function_many_stars_real(changing_parameter,error_list,elements)\n",
      "  File \"/home/philcox/Chempy/Chempy/cem_function.py\", line 920, in posterior_function_many_stars_real\n",
      "    abundance_list,element_list = posterior_function_returning_predictions(args)\n",
      "  File \"/home/philcox/Chempy/Chempy/cem_function.py\", line 482, in posterior_function_returning_predictions\n",
      "    posterior, abundance_list, element_list = posterior_function_predictions(changing_parameter,a)\n",
      "  File \"/home/philcox/Chempy/Chempy/cem_function.py\", line 492, in posterior_function_predictions\n",
      "    a = extract_parameters_and_priors(changing_parameter, a)\n",
      "  File \"/home/philcox/Chempy/Chempy/cem_function.py\", line 719, in extract_parameters_and_priors\n",
      "    assert False, '%s upper border is violated' %(name)\n",
      "AssertionError: outflow_feedback_fraction upper border is violated\n",
      "Traceback (most recent call last):\n",
      "  File \"/home/philcox/Chempy/Chempy/cem_function.py\", line 882, in posterior_function_many_stars\n",
      "    posterior, blobs = posterior_function_many_stars_real(changing_parameter,error_list,elements)\n",
      "  File \"/home/philcox/Chempy/Chempy/cem_function.py\", line 920, in posterior_function_many_stars_real\n",
      "    abundance_list,element_list = posterior_function_returning_predictions(args)\n",
      "  File \"/home/philcox/Chempy/Chempy/cem_function.py\", line 482, in posterior_function_returning_predictions\n",
      "    posterior, abundance_list, element_list = posterior_function_predictions(changing_parameter,a)\n",
      "  File \"/home/philcox/Chempy/Chempy/cem_function.py\", line 492, in posterior_function_predictions\n",
      "    a = extract_parameters_and_priors(changing_parameter, a)\n",
      "  File \"/home/philcox/Chempy/Chempy/cem_function.py\", line 717, in extract_parameters_and_priors\n",
      "    assert False, '%s lower border is violated' %(name)\n",
      "AssertionError: outflow_feedback_fraction lower border is violated\n",
      "Traceback (most recent call last):\n",
      "  File \"/home/philcox/Chempy/Chempy/cem_function.py\", line 882, in posterior_function_many_stars\n",
      "    posterior, blobs = posterior_function_many_stars_real(changing_parameter,error_list,elements)\n",
      "  File \"/home/philcox/Chempy/Chempy/cem_function.py\", line 920, in posterior_function_many_stars_real\n",
      "    abundance_list,element_list = posterior_function_returning_predictions(args)\n",
      "  File \"/home/philcox/Chempy/Chempy/cem_function.py\", line 482, in posterior_function_returning_predictions\n",
      "    posterior, abundance_list, element_list = posterior_function_predictions(changing_parameter,a)\n",
      "  File \"/home/philcox/Chempy/Chempy/cem_function.py\", line 492, in posterior_function_predictions\n",
      "    a = extract_parameters_and_priors(changing_parameter, a)\n"
     ]
    },
    {
     "name": "stdout",
     "output_type": "stream",
     "text": [
      "5.22882051364 3.1033664114\n",
      "calculation so far took 23.606600522994995  seconds\n",
      "step  31 of  1000\n"
     ]
    },
    {
     "name": "stderr",
     "output_type": "stream",
     "text": [
      "  File \"/home/philcox/Chempy/Chempy/cem_function.py\", line 717, in extract_parameters_and_priors\n",
      "    assert False, '%s lower border is violated' %(name)\n",
      "AssertionError: outflow_feedback_fraction lower border is violated\n"
     ]
    },
    {
     "name": "stdout",
     "output_type": "stream",
     "text": [
      "5.22882051364 3.39538041273\n",
      "calculation so far took 24.452939987182617  seconds\n",
      "step  32 of  1000\n"
     ]
    },
    {
     "name": "stderr",
     "output_type": "stream",
     "text": [
      "Traceback (most recent call last):\n",
      "  File \"/home/philcox/Chempy/Chempy/cem_function.py\", line 882, in posterior_function_many_stars\n",
      "    posterior, blobs = posterior_function_many_stars_real(changing_parameter,error_list,elements)\n",
      "  File \"/home/philcox/Chempy/Chempy/cem_function.py\", line 920, in posterior_function_many_stars_real\n",
      "    abundance_list,element_list = posterior_function_returning_predictions(args)\n",
      "  File \"/home/philcox/Chempy/Chempy/cem_function.py\", line 482, in posterior_function_returning_predictions\n",
      "    posterior, abundance_list, element_list = posterior_function_predictions(changing_parameter,a)\n",
      "  File \"/home/philcox/Chempy/Chempy/cem_function.py\", line 492, in posterior_function_predictions\n",
      "    a = extract_parameters_and_priors(changing_parameter, a)\n",
      "  File \"/home/philcox/Chempy/Chempy/cem_function.py\", line 717, in extract_parameters_and_priors\n",
      "    assert False, '%s lower border is violated' %(name)\n",
      "AssertionError: outflow_feedback_fraction lower border is violated\n"
     ]
    },
    {
     "name": "stdout",
     "output_type": "stream",
     "text": [
      "5.22882051364 3.41357142919\n",
      "calculation so far took 25.17765188217163  seconds\n",
      "step  33 of  1000\n"
     ]
    },
    {
     "name": "stderr",
     "output_type": "stream",
     "text": [
      "Traceback (most recent call last):\n",
      "  File \"/home/philcox/Chempy/Chempy/cem_function.py\", line 882, in posterior_function_many_stars\n",
      "    posterior, blobs = posterior_function_many_stars_real(changing_parameter,error_list,elements)\n",
      "  File \"/home/philcox/Chempy/Chempy/cem_function.py\", line 920, in posterior_function_many_stars_real\n",
      "    abundance_list,element_list = posterior_function_returning_predictions(args)\n",
      "  File \"/home/philcox/Chempy/Chempy/cem_function.py\", line 482, in posterior_function_returning_predictions\n",
      "    posterior, abundance_list, element_list = posterior_function_predictions(changing_parameter,a)\n",
      "  File \"/home/philcox/Chempy/Chempy/cem_function.py\", line 492, in posterior_function_predictions\n",
      "    a = extract_parameters_and_priors(changing_parameter, a)\n",
      "  File \"/home/philcox/Chempy/Chempy/cem_function.py\", line 719, in extract_parameters_and_priors\n",
      "    assert False, '%s upper border is violated' %(name)\n",
      "AssertionError: log10_sfr_scale upper border is violated\n"
     ]
    },
    {
     "name": "stdout",
     "output_type": "stream",
     "text": [
      "5.22882051364 3.40779436442\n",
      "calculation so far took 25.92146921157837  seconds\n",
      "step  34 of  1000\n"
     ]
    },
    {
     "name": "stderr",
     "output_type": "stream",
     "text": [
      "Traceback (most recent call last):\n",
      "  File \"/home/philcox/Chempy/Chempy/cem_function.py\", line 882, in posterior_function_many_stars\n",
      "    posterior, blobs = posterior_function_many_stars_real(changing_parameter,error_list,elements)\n",
      "  File \"/home/philcox/Chempy/Chempy/cem_function.py\", line 920, in posterior_function_many_stars_real\n",
      "    abundance_list,element_list = posterior_function_returning_predictions(args)\n",
      "  File \"/home/philcox/Chempy/Chempy/cem_function.py\", line 482, in posterior_function_returning_predictions\n",
      "    posterior, abundance_list, element_list = posterior_function_predictions(changing_parameter,a)\n",
      "  File \"/home/philcox/Chempy/Chempy/cem_function.py\", line 492, in posterior_function_predictions\n",
      "    a = extract_parameters_and_priors(changing_parameter, a)\n",
      "  File \"/home/philcox/Chempy/Chempy/cem_function.py\", line 719, in extract_parameters_and_priors\n",
      "    assert False, '%s upper border is violated' %(name)\n",
      "AssertionError: outflow_feedback_fraction upper border is violated\n"
     ]
    },
    {
     "name": "stdout",
     "output_type": "stream",
     "text": [
      "5.22882051364 3.26446842208\n",
      "calculation so far took 26.73903465270996  seconds\n",
      "step  35 of  1000\n"
     ]
    },
    {
     "name": "stderr",
     "output_type": "stream",
     "text": [
      "Traceback (most recent call last):\n",
      "  File \"/home/philcox/Chempy/Chempy/cem_function.py\", line 882, in posterior_function_many_stars\n",
      "    posterior, blobs = posterior_function_many_stars_real(changing_parameter,error_list,elements)\n",
      "  File \"/home/philcox/Chempy/Chempy/cem_function.py\", line 920, in posterior_function_many_stars_real\n",
      "    abundance_list,element_list = posterior_function_returning_predictions(args)\n",
      "  File \"/home/philcox/Chempy/Chempy/cem_function.py\", line 482, in posterior_function_returning_predictions\n",
      "    posterior, abundance_list, element_list = posterior_function_predictions(changing_parameter,a)\n",
      "  File \"/home/philcox/Chempy/Chempy/cem_function.py\", line 492, in posterior_function_predictions\n",
      "    a = extract_parameters_and_priors(changing_parameter, a)\n",
      "  File \"/home/philcox/Chempy/Chempy/cem_function.py\", line 719, in extract_parameters_and_priors\n",
      "    assert False, '%s upper border is violated' %(name)\n",
      "AssertionError: outflow_feedback_fraction upper border is violated\n"
     ]
    },
    {
     "name": "stdout",
     "output_type": "stream",
     "text": [
      "5.22882051364 3.38370975409\n",
      "calculation so far took 27.48400592803955  seconds\n",
      "step  36 of  1000\n",
      "5.22882051364 3.15462788643\n",
      "calculation so far took 28.279426097869873  seconds\n",
      "step  37 of  1000\n"
     ]
    },
    {
     "name": "stderr",
     "output_type": "stream",
     "text": [
      "Traceback (most recent call last):\n",
      "  File \"/home/philcox/Chempy/Chempy/cem_function.py\", line 882, in posterior_function_many_stars\n",
      "    posterior, blobs = posterior_function_many_stars_real(changing_parameter,error_list,elements)\n",
      "  File \"/home/philcox/Chempy/Chempy/cem_function.py\", line 920, in posterior_function_many_stars_real\n",
      "    abundance_list,element_list = posterior_function_returning_predictions(args)\n",
      "  File \"/home/philcox/Chempy/Chempy/cem_function.py\", line 482, in posterior_function_returning_predictions\n",
      "    posterior, abundance_list, element_list = posterior_function_predictions(changing_parameter,a)\n",
      "  File \"/home/philcox/Chempy/Chempy/cem_function.py\", line 492, in posterior_function_predictions\n",
      "    a = extract_parameters_and_priors(changing_parameter, a)\n",
      "  File \"/home/philcox/Chempy/Chempy/cem_function.py\", line 717, in extract_parameters_and_priors\n",
      "    assert False, '%s lower border is violated' %(name)\n",
      "AssertionError: outflow_feedback_fraction lower border is violated\n"
     ]
    },
    {
     "name": "stdout",
     "output_type": "stream",
     "text": [
      "5.22882051364 3.23820791087\n",
      "calculation so far took 28.974393606185913  seconds\n",
      "step  38 of  1000\n",
      "5.22882051364 3.36369124352\n",
      "calculation so far took 29.81733512878418  seconds\n",
      "step  39 of  1000\n"
     ]
    },
    {
     "name": "stderr",
     "output_type": "stream",
     "text": [
      "Traceback (most recent call last):\n",
      "  File \"/home/philcox/Chempy/Chempy/cem_function.py\", line 882, in posterior_function_many_stars\n",
      "    posterior, blobs = posterior_function_many_stars_real(changing_parameter,error_list,elements)\n",
      "  File \"/home/philcox/Chempy/Chempy/cem_function.py\", line 920, in posterior_function_many_stars_real\n",
      "    abundance_list,element_list = posterior_function_returning_predictions(args)\n",
      "  File \"/home/philcox/Chempy/Chempy/cem_function.py\", line 482, in posterior_function_returning_predictions\n",
      "    posterior, abundance_list, element_list = posterior_function_predictions(changing_parameter,a)\n",
      "  File \"/home/philcox/Chempy/Chempy/cem_function.py\", line 492, in posterior_function_predictions\n",
      "    a = extract_parameters_and_priors(changing_parameter, a)\n",
      "  File \"/home/philcox/Chempy/Chempy/cem_function.py\", line 717, in extract_parameters_and_priors\n",
      "    assert False, '%s lower border is violated' %(name)\n",
      "AssertionError: outflow_feedback_fraction lower border is violated\n"
     ]
    },
    {
     "name": "stdout",
     "output_type": "stream",
     "text": [
      "5.22882051364 3.13980209662\n",
      "calculation so far took 30.555097341537476  seconds\n",
      "step  40 of  1000\n"
     ]
    },
    {
     "name": "stderr",
     "output_type": "stream",
     "text": [
      "Traceback (most recent call last):\n",
      "  File \"/home/philcox/Chempy/Chempy/cem_function.py\", line 882, in posterior_function_many_stars\n",
      "    posterior, blobs = posterior_function_many_stars_real(changing_parameter,error_list,elements)\n",
      "  File \"/home/philcox/Chempy/Chempy/cem_function.py\", line 920, in posterior_function_many_stars_real\n",
      "    abundance_list,element_list = posterior_function_returning_predictions(args)\n",
      "  File \"/home/philcox/Chempy/Chempy/cem_function.py\", line 482, in posterior_function_returning_predictions\n",
      "    posterior, abundance_list, element_list = posterior_function_predictions(changing_parameter,a)\n",
      "  File \"/home/philcox/Chempy/Chempy/cem_function.py\", line 492, in posterior_function_predictions\n",
      "    a = extract_parameters_and_priors(changing_parameter, a)\n",
      "  File \"/home/philcox/Chempy/Chempy/cem_function.py\", line 717, in extract_parameters_and_priors\n",
      "    assert False, '%s lower border is violated' %(name)\n",
      "AssertionError: outflow_feedback_fraction lower border is violated\n"
     ]
    },
    {
     "name": "stdout",
     "output_type": "stream",
     "text": [
      "5.22882051364 3.03386411302\n",
      "calculation so far took 31.309707164764404  seconds\n",
      "step  41 of  1000\n",
      "5.22882051364 2.93620231797\n",
      "calculation so far took 31.989747524261475  seconds\n",
      "step  42 of  1000\n"
     ]
    },
    {
     "name": "stderr",
     "output_type": "stream",
     "text": [
      "Traceback (most recent call last):\n",
      "  File \"/home/philcox/Chempy/Chempy/cem_function.py\", line 882, in posterior_function_many_stars\n",
      "    posterior, blobs = posterior_function_many_stars_real(changing_parameter,error_list,elements)\n",
      "  File \"/home/philcox/Chempy/Chempy/cem_function.py\", line 920, in posterior_function_many_stars_real\n",
      "    abundance_list,element_list = posterior_function_returning_predictions(args)\n",
      "  File \"/home/philcox/Chempy/Chempy/cem_function.py\", line 482, in posterior_function_returning_predictions\n",
      "    posterior, abundance_list, element_list = posterior_function_predictions(changing_parameter,a)\n",
      "  File \"/home/philcox/Chempy/Chempy/cem_function.py\", line 492, in posterior_function_predictions\n",
      "    a = extract_parameters_and_priors(changing_parameter, a)\n",
      "  File \"/home/philcox/Chempy/Chempy/cem_function.py\", line 719, in extract_parameters_and_priors\n",
      "    assert False, '%s upper border is violated' %(name)\n",
      "AssertionError: outflow_feedback_fraction upper border is violated\n",
      "Traceback (most recent call last):\n",
      "  File \"/home/philcox/Chempy/Chempy/cem_function.py\", line 882, in posterior_function_many_stars\n",
      "    posterior, blobs = posterior_function_many_stars_real(changing_parameter,error_list,elements)\n"
     ]
    },
    {
     "name": "stdout",
     "output_type": "stream",
     "text": [
      "5.22882051364 3.038225065\n",
      "calculation so far took 32.92658448219299  seconds\n",
      "step  43 of  1000\n"
     ]
    },
    {
     "name": "stderr",
     "output_type": "stream",
     "text": [
      "  File \"/home/philcox/Chempy/Chempy/cem_function.py\", line 920, in posterior_function_many_stars_real\n",
      "    abundance_list,element_list = posterior_function_returning_predictions(args)\n",
      "  File \"/home/philcox/Chempy/Chempy/cem_function.py\", line 482, in posterior_function_returning_predictions\n",
      "    posterior, abundance_list, element_list = posterior_function_predictions(changing_parameter,a)\n",
      "  File \"/home/philcox/Chempy/Chempy/cem_function.py\", line 492, in posterior_function_predictions\n",
      "    a = extract_parameters_and_priors(changing_parameter, a)\n",
      "  File \"/home/philcox/Chempy/Chempy/cem_function.py\", line 717, in extract_parameters_and_priors\n",
      "    assert False, '%s lower border is violated' %(name)\n",
      "AssertionError: outflow_feedback_fraction lower border is violated\n",
      "Traceback (most recent call last):\n",
      "  File \"/home/philcox/Chempy/Chempy/cem_function.py\", line 882, in posterior_function_many_stars\n",
      "    posterior, blobs = posterior_function_many_stars_real(changing_parameter,error_list,elements)\n",
      "  File \"/home/philcox/Chempy/Chempy/cem_function.py\", line 920, in posterior_function_many_stars_real\n",
      "    abundance_list,element_list = posterior_function_returning_predictions(args)\n",
      "  File \"/home/philcox/Chempy/Chempy/cem_function.py\", line 482, in posterior_function_returning_predictions\n",
      "    posterior, abundance_list, element_list = posterior_function_predictions(changing_parameter,a)\n",
      "  File \"/home/philcox/Chempy/Chempy/cem_function.py\", line 492, in posterior_function_predictions\n",
      "    a = extract_parameters_and_priors(changing_parameter, a)\n",
      "  File \"/home/philcox/Chempy/Chempy/cem_function.py\", line 719, in extract_parameters_and_priors\n",
      "    assert False, '%s upper border is violated' %(name)\n",
      "AssertionError: log10_sfr_scale upper border is violated\n",
      "Traceback (most recent call last):\n",
      "  File \"/home/philcox/Chempy/Chempy/cem_function.py\", line 882, in posterior_function_many_stars\n",
      "    posterior, blobs = posterior_function_many_stars_real(changing_parameter,error_list,elements)\n",
      "  File \"/home/philcox/Chempy/Chempy/cem_function.py\", line 920, in posterior_function_many_stars_real\n",
      "    abundance_list,element_list = posterior_function_returning_predictions(args)\n",
      "  File \"/home/philcox/Chempy/Chempy/cem_function.py\", line 482, in posterior_function_returning_predictions\n",
      "    posterior, abundance_list, element_list = posterior_function_predictions(changing_parameter,a)\n",
      "  File \"/home/philcox/Chempy/Chempy/cem_function.py\", line 492, in posterior_function_predictions\n",
      "    a = extract_parameters_and_priors(changing_parameter, a)\n",
      "  File \"/home/philcox/Chempy/Chempy/cem_function.py\", line 717, in extract_parameters_and_priors\n",
      "    assert False, '%s lower border is violated' %(name)\n",
      "AssertionError: outflow_feedback_fraction lower border is violated\n"
     ]
    },
    {
     "name": "stdout",
     "output_type": "stream",
     "text": [
      "5.22882051364 2.79546405336\n",
      "calculation so far took 33.714184522628784  seconds\n",
      "step  44 of  1000\n"
     ]
    },
    {
     "name": "stderr",
     "output_type": "stream",
     "text": [
      "Traceback (most recent call last):\n",
      "  File \"/home/philcox/Chempy/Chempy/cem_function.py\", line 882, in posterior_function_many_stars\n",
      "    posterior, blobs = posterior_function_many_stars_real(changing_parameter,error_list,elements)\n",
      "  File \"/home/philcox/Chempy/Chempy/cem_function.py\", line 920, in posterior_function_many_stars_real\n",
      "    abundance_list,element_list = posterior_function_returning_predictions(args)\n",
      "  File \"/home/philcox/Chempy/Chempy/cem_function.py\", line 482, in posterior_function_returning_predictions\n",
      "    posterior, abundance_list, element_list = posterior_function_predictions(changing_parameter,a)\n",
      "  File \"/home/philcox/Chempy/Chempy/cem_function.py\", line 492, in posterior_function_predictions\n",
      "    a = extract_parameters_and_priors(changing_parameter, a)\n",
      "  File \"/home/philcox/Chempy/Chempy/cem_function.py\", line 717, in extract_parameters_and_priors\n",
      "    assert False, '%s lower border is violated' %(name)\n",
      "AssertionError: outflow_feedback_fraction lower border is violated\n",
      "Traceback (most recent call last):\n",
      "  File \"/home/philcox/Chempy/Chempy/cem_function.py\", line 882, in posterior_function_many_stars\n",
      "    posterior, blobs = posterior_function_many_stars_real(changing_parameter,error_list,elements)\n",
      "  File \"/home/philcox/Chempy/Chempy/cem_function.py\", line 920, in posterior_function_many_stars_real\n",
      "    abundance_list,element_list = posterior_function_returning_predictions(args)\n",
      "  File \"/home/philcox/Chempy/Chempy/cem_function.py\", line 482, in posterior_function_returning_predictions\n",
      "    posterior, abundance_list, element_list = posterior_function_predictions(changing_parameter,a)\n",
      "  File \"/home/philcox/Chempy/Chempy/cem_function.py\", line 492, in posterior_function_predictions\n",
      "    a = extract_parameters_and_priors(changing_parameter, a)\n",
      "  File \"/home/philcox/Chempy/Chempy/cem_function.py\", line 719, in extract_parameters_and_priors\n",
      "    assert False, '%s upper border is violated' %(name)\n",
      "AssertionError: log10_sfr_scale upper border is violated\n"
     ]
    },
    {
     "name": "stdout",
     "output_type": "stream",
     "text": [
      "5.22882051364 2.71465795005\n",
      "calculation so far took 34.4954297542572  seconds\n",
      "step  45 of  1000\n",
      "5.22882051364 2.88285918717\n",
      "calculation so far took 35.18398404121399  seconds\n",
      "step  46 of  1000\n"
     ]
    },
    {
     "name": "stderr",
     "output_type": "stream",
     "text": [
      "Traceback (most recent call last):\n",
      "  File \"/home/philcox/Chempy/Chempy/cem_function.py\", line 882, in posterior_function_many_stars\n",
      "    posterior, blobs = posterior_function_many_stars_real(changing_parameter,error_list,elements)\n",
      "  File \"/home/philcox/Chempy/Chempy/cem_function.py\", line 920, in posterior_function_many_stars_real\n",
      "    abundance_list,element_list = posterior_function_returning_predictions(args)\n",
      "  File \"/home/philcox/Chempy/Chempy/cem_function.py\", line 482, in posterior_function_returning_predictions\n",
      "    posterior, abundance_list, element_list = posterior_function_predictions(changing_parameter,a)\n",
      "  File \"/home/philcox/Chempy/Chempy/cem_function.py\", line 492, in posterior_function_predictions\n",
      "    a = extract_parameters_and_priors(changing_parameter, a)\n",
      "  File \"/home/philcox/Chempy/Chempy/cem_function.py\", line 719, in extract_parameters_and_priors\n",
      "    assert False, '%s upper border is violated' %(name)\n",
      "AssertionError: outflow_feedback_fraction upper border is violated\n"
     ]
    },
    {
     "name": "stdout",
     "output_type": "stream",
     "text": [
      "5.22882051364 2.76052060717\n",
      "calculation so far took 35.907187938690186  seconds\n",
      "step  47 of  1000\n"
     ]
    },
    {
     "name": "stderr",
     "output_type": "stream",
     "text": [
      "Traceback (most recent call last):\n",
      "  File \"/home/philcox/Chempy/Chempy/cem_function.py\", line 882, in posterior_function_many_stars\n",
      "    posterior, blobs = posterior_function_many_stars_real(changing_parameter,error_list,elements)\n",
      "  File \"/home/philcox/Chempy/Chempy/cem_function.py\", line 920, in posterior_function_many_stars_real\n",
      "    abundance_list,element_list = posterior_function_returning_predictions(args)\n",
      "  File \"/home/philcox/Chempy/Chempy/cem_function.py\", line 482, in posterior_function_returning_predictions\n",
      "    posterior, abundance_list, element_list = posterior_function_predictions(changing_parameter,a)\n",
      "  File \"/home/philcox/Chempy/Chempy/cem_function.py\", line 492, in posterior_function_predictions\n",
      "    a = extract_parameters_and_priors(changing_parameter, a)\n",
      "  File \"/home/philcox/Chempy/Chempy/cem_function.py\", line 719, in extract_parameters_and_priors\n",
      "    assert False, '%s upper border is violated' %(name)\n",
      "AssertionError: outflow_feedback_fraction upper border is violated\n"
     ]
    },
    {
     "name": "stdout",
     "output_type": "stream",
     "text": [
      "5.22882051364 2.67625778465\n",
      "calculation so far took 36.649152755737305  seconds\n",
      "step  48 of  1000\n"
     ]
    },
    {
     "name": "stderr",
     "output_type": "stream",
     "text": [
      "Traceback (most recent call last):\n",
      "  File \"/home/philcox/Chempy/Chempy/cem_function.py\", line 882, in posterior_function_many_stars\n",
      "    posterior, blobs = posterior_function_many_stars_real(changing_parameter,error_list,elements)\n",
      "  File \"/home/philcox/Chempy/Chempy/cem_function.py\", line 920, in posterior_function_many_stars_real\n",
      "    abundance_list,element_list = posterior_function_returning_predictions(args)\n",
      "  File \"/home/philcox/Chempy/Chempy/cem_function.py\", line 482, in posterior_function_returning_predictions\n",
      "    posterior, abundance_list, element_list = posterior_function_predictions(changing_parameter,a)\n",
      "  File \"/home/philcox/Chempy/Chempy/cem_function.py\", line 492, in posterior_function_predictions\n",
      "    a = extract_parameters_and_priors(changing_parameter, a)\n",
      "  File \"/home/philcox/Chempy/Chempy/cem_function.py\", line 719, in extract_parameters_and_priors\n",
      "    assert False, '%s upper border is violated' %(name)\n",
      "AssertionError: outflow_feedback_fraction upper border is violated\n"
     ]
    },
    {
     "name": "stdout",
     "output_type": "stream",
     "text": [
      "5.22882051364 2.61856600406\n",
      "calculation so far took 37.379852294921875  seconds\n",
      "step  49 of  1000\n"
     ]
    },
    {
     "name": "stderr",
     "output_type": "stream",
     "text": [
      "Traceback (most recent call last):\n",
      "  File \"/home/philcox/Chempy/Chempy/cem_function.py\", line 882, in posterior_function_many_stars\n",
      "    posterior, blobs = posterior_function_many_stars_real(changing_parameter,error_list,elements)\n",
      "  File \"/home/philcox/Chempy/Chempy/cem_function.py\", line 920, in posterior_function_many_stars_real\n",
      "    abundance_list,element_list = posterior_function_returning_predictions(args)\n",
      "  File \"/home/philcox/Chempy/Chempy/cem_function.py\", line 482, in posterior_function_returning_predictions\n",
      "    posterior, abundance_list, element_list = posterior_function_predictions(changing_parameter,a)\n",
      "  File \"/home/philcox/Chempy/Chempy/cem_function.py\", line 492, in posterior_function_predictions\n",
      "    a = extract_parameters_and_priors(changing_parameter, a)\n",
      "  File \"/home/philcox/Chempy/Chempy/cem_function.py\", line 719, in extract_parameters_and_priors\n",
      "    assert False, '%s upper border is violated' %(name)\n",
      "AssertionError: outflow_feedback_fraction upper border is violated\n"
     ]
    },
    {
     "name": "stdout",
     "output_type": "stream",
     "text": [
      "5.22882051364 2.57963249653\n",
      "calculation so far took 38.1934769153595  seconds\n",
      "step  50 of  1000\n"
     ]
    },
    {
     "name": "stderr",
     "output_type": "stream",
     "text": [
      "Traceback (most recent call last):\n",
      "  File \"/home/philcox/Chempy/Chempy/cem_function.py\", line 882, in posterior_function_many_stars\n",
      "    posterior, blobs = posterior_function_many_stars_real(changing_parameter,error_list,elements)\n",
      "  File \"/home/philcox/Chempy/Chempy/cem_function.py\", line 920, in posterior_function_many_stars_real\n",
      "    abundance_list,element_list = posterior_function_returning_predictions(args)\n",
      "  File \"/home/philcox/Chempy/Chempy/cem_function.py\", line 482, in posterior_function_returning_predictions\n",
      "    posterior, abundance_list, element_list = posterior_function_predictions(changing_parameter,a)\n",
      "  File \"/home/philcox/Chempy/Chempy/cem_function.py\", line 492, in posterior_function_predictions\n",
      "    a = extract_parameters_and_priors(changing_parameter, a)\n",
      "  File \"/home/philcox/Chempy/Chempy/cem_function.py\", line 717, in extract_parameters_and_priors\n",
      "    assert False, '%s lower border is violated' %(name)\n",
      "AssertionError: outflow_feedback_fraction lower border is violated\n"
     ]
    },
    {
     "name": "stdout",
     "output_type": "stream",
     "text": [
      "5.22882051364 2.8364907377\n",
      "calculation so far took 38.911322355270386  seconds\n",
      "step  51 of  1000\n",
      "5.22882051364 2.54164793062\n",
      "calculation so far took 39.66895008087158  seconds\n",
      "step  52 of  1000\n"
     ]
    },
    {
     "name": "stderr",
     "output_type": "stream",
     "text": [
      "Traceback (most recent call last):\n",
      "  File \"/home/philcox/Chempy/Chempy/cem_function.py\", line 882, in posterior_function_many_stars\n",
      "    posterior, blobs = posterior_function_many_stars_real(changing_parameter,error_list,elements)\n",
      "  File \"/home/philcox/Chempy/Chempy/cem_function.py\", line 920, in posterior_function_many_stars_real\n",
      "    abundance_list,element_list = posterior_function_returning_predictions(args)\n",
      "  File \"/home/philcox/Chempy/Chempy/cem_function.py\", line 482, in posterior_function_returning_predictions\n",
      "    posterior, abundance_list, element_list = posterior_function_predictions(changing_parameter,a)\n",
      "  File \"/home/philcox/Chempy/Chempy/cem_function.py\", line 507, in posterior_function_predictions\n",
      "    abundance_list,elements_to_trace = cem_real2(a)\n",
      "  File \"/home/philcox/Chempy/Chempy/cem_function.py\", line 337, in cem_real2\n",
      "    a = shorten_sfr(a)\n",
      "  File \"/home/philcox/Chempy/Chempy/cem_function.py\", line 130, in shorten_sfr\n",
      "    assert fraction_of_mean_sfr > 0.05, ('The total SFR of the last age bin is below 5% of the mean SFR', 'stellar identifier = ', a.stellar_identifier, 'star time = ', star_time, 'model time = ', time_model )\n",
      "AssertionError: ('The total SFR of the last age bin is below 5% of the mean SFR', 'stellar identifier = ', 'Proto-sun', 'star time = ', 8.9400000000000013, 'model time = ', 9.0)\n"
     ]
    },
    {
     "name": "stdout",
     "output_type": "stream",
     "text": [
      "5.22882051364 2.52375304661\n",
      "calculation so far took 40.367024660110474  seconds\n",
      "step  53 of  1000\n"
     ]
    },
    {
     "name": "stderr",
     "output_type": "stream",
     "text": [
      "Traceback (most recent call last):\n",
      "  File \"/home/philcox/Chempy/Chempy/cem_function.py\", line 882, in posterior_function_many_stars\n",
      "    posterior, blobs = posterior_function_many_stars_real(changing_parameter,error_list,elements)\n",
      "  File \"/home/philcox/Chempy/Chempy/cem_function.py\", line 920, in posterior_function_many_stars_real\n",
      "    abundance_list,element_list = posterior_function_returning_predictions(args)\n",
      "  File \"/home/philcox/Chempy/Chempy/cem_function.py\", line 482, in posterior_function_returning_predictions\n",
      "    posterior, abundance_list, element_list = posterior_function_predictions(changing_parameter,a)\n",
      "  File \"/home/philcox/Chempy/Chempy/cem_function.py\", line 507, in posterior_function_predictions\n",
      "    abundance_list,elements_to_trace = cem_real2(a)\n",
      "  File \"/home/philcox/Chempy/Chempy/cem_function.py\", line 337, in cem_real2\n",
      "    a = shorten_sfr(a)\n",
      "  File \"/home/philcox/Chempy/Chempy/cem_function.py\", line 130, in shorten_sfr\n",
      "    assert fraction_of_mean_sfr > 0.05, ('The total SFR of the last age bin is below 5% of the mean SFR', 'stellar identifier = ', a.stellar_identifier, 'star time = ', star_time, 'model time = ', time_model )\n",
      "AssertionError: ('The total SFR of the last age bin is below 5% of the mean SFR', 'stellar identifier = ', 'Proto-sun', 'star time = ', 8.9400000000000013, 'model time = ', 9.0)\n"
     ]
    },
    {
     "name": "stdout",
     "output_type": "stream",
     "text": [
      "5.22882051364 2.6794747106\n",
      "calculation so far took 41.10849380493164  seconds\n",
      "step  54 of  1000\n"
     ]
    },
    {
     "name": "stderr",
     "output_type": "stream",
     "text": [
      "Traceback (most recent call last):\n",
      "  File \"/home/philcox/Chempy/Chempy/cem_function.py\", line 882, in posterior_function_many_stars\n",
      "    posterior, blobs = posterior_function_many_stars_real(changing_parameter,error_list,elements)\n",
      "  File \"/home/philcox/Chempy/Chempy/cem_function.py\", line 920, in posterior_function_many_stars_real\n",
      "    abundance_list,element_list = posterior_function_returning_predictions(args)\n",
      "  File \"/home/philcox/Chempy/Chempy/cem_function.py\", line 482, in posterior_function_returning_predictions\n",
      "    posterior, abundance_list, element_list = posterior_function_predictions(changing_parameter,a)\n",
      "  File \"/home/philcox/Chempy/Chempy/cem_function.py\", line 492, in posterior_function_predictions\n",
      "    a = extract_parameters_and_priors(changing_parameter, a)\n",
      "  File \"/home/philcox/Chempy/Chempy/cem_function.py\", line 719, in extract_parameters_and_priors\n",
      "    assert False, '%s upper border is violated' %(name)\n",
      "AssertionError: log10_sfr_scale upper border is violated\n"
     ]
    },
    {
     "name": "stdout",
     "output_type": "stream",
     "text": [
      "5.22882051364 2.82693008363\n",
      "calculation so far took 41.89720582962036  seconds\n",
      "step  55 of  1000\n",
      "5.22882051364 2.76207081576\n",
      "calculation so far took 42.66283202171326  seconds\n",
      "step  56 of  1000\n"
     ]
    },
    {
     "name": "stderr",
     "output_type": "stream",
     "text": [
      "Traceback (most recent call last):\n",
      "  File \"/home/philcox/Chempy/Chempy/cem_function.py\", line 882, in posterior_function_many_stars\n",
      "    posterior, blobs = posterior_function_many_stars_real(changing_parameter,error_list,elements)\n",
      "  File \"/home/philcox/Chempy/Chempy/cem_function.py\", line 920, in posterior_function_many_stars_real\n",
      "    abundance_list,element_list = posterior_function_returning_predictions(args)\n",
      "  File \"/home/philcox/Chempy/Chempy/cem_function.py\", line 482, in posterior_function_returning_predictions\n",
      "    posterior, abundance_list, element_list = posterior_function_predictions(changing_parameter,a)\n",
      "  File \"/home/philcox/Chempy/Chempy/cem_function.py\", line 492, in posterior_function_predictions\n",
      "    a = extract_parameters_and_priors(changing_parameter, a)\n",
      "  File \"/home/philcox/Chempy/Chempy/cem_function.py\", line 719, in extract_parameters_and_priors\n",
      "    assert False, '%s upper border is violated' %(name)\n",
      "AssertionError: outflow_feedback_fraction upper border is violated\n"
     ]
    },
    {
     "name": "stdout",
     "output_type": "stream",
     "text": [
      "5.22882051364 2.7315069289\n",
      "calculation so far took 43.598726987838745  seconds\n",
      "step  57 of  1000\n"
     ]
    },
    {
     "name": "stderr",
     "output_type": "stream",
     "text": [
      "Traceback (most recent call last):\n",
      "  File \"/home/philcox/Chempy/Chempy/cem_function.py\", line 882, in posterior_function_many_stars\n",
      "    posterior, blobs = posterior_function_many_stars_real(changing_parameter,error_list,elements)\n",
      "  File \"/home/philcox/Chempy/Chempy/cem_function.py\", line 920, in posterior_function_many_stars_real\n",
      "    abundance_list,element_list = posterior_function_returning_predictions(args)\n",
      "  File \"/home/philcox/Chempy/Chempy/cem_function.py\", line 482, in posterior_function_returning_predictions\n",
      "    posterior, abundance_list, element_list = posterior_function_predictions(changing_parameter,a)\n",
      "  File \"/home/philcox/Chempy/Chempy/cem_function.py\", line 492, in posterior_function_predictions\n",
      "    a = extract_parameters_and_priors(changing_parameter, a)\n",
      "  File \"/home/philcox/Chempy/Chempy/cem_function.py\", line 719, in extract_parameters_and_priors\n",
      "    assert False, '%s upper border is violated' %(name)\n",
      "AssertionError: log10_sfr_scale upper border is violated\n"
     ]
    },
    {
     "name": "stdout",
     "output_type": "stream",
     "text": [
      "5.22882051364 2.52484662646\n",
      "calculation so far took 44.412468910217285  seconds\n",
      "step  58 of  1000\n"
     ]
    },
    {
     "name": "stderr",
     "output_type": "stream",
     "text": [
      "Traceback (most recent call last):\n",
      "  File \"/home/philcox/Chempy/Chempy/cem_function.py\", line 882, in posterior_function_many_stars\n",
      "    posterior, blobs = posterior_function_many_stars_real(changing_parameter,error_list,elements)\n",
      "  File \"/home/philcox/Chempy/Chempy/cem_function.py\", line 920, in posterior_function_many_stars_real\n",
      "    abundance_list,element_list = posterior_function_returning_predictions(args)\n",
      "  File \"/home/philcox/Chempy/Chempy/cem_function.py\", line 482, in posterior_function_returning_predictions\n",
      "    posterior, abundance_list, element_list = posterior_function_predictions(changing_parameter,a)\n",
      "  File \"/home/philcox/Chempy/Chempy/cem_function.py\", line 492, in posterior_function_predictions\n",
      "    a = extract_parameters_and_priors(changing_parameter, a)\n",
      "  File \"/home/philcox/Chempy/Chempy/cem_function.py\", line 719, in extract_parameters_and_priors\n",
      "    assert False, '%s upper border is violated' %(name)\n",
      "AssertionError: log10_sfr_scale upper border is violated\n",
      "Traceback (most recent call last):\n",
      "  File \"/home/philcox/Chempy/Chempy/cem_function.py\", line 882, in posterior_function_many_stars\n",
      "    posterior, blobs = posterior_function_many_stars_real(changing_parameter,error_list,elements)\n",
      "  File \"/home/philcox/Chempy/Chempy/cem_function.py\", line 920, in posterior_function_many_stars_real\n",
      "    abundance_list,element_list = posterior_function_returning_predictions(args)\n",
      "  File \"/home/philcox/Chempy/Chempy/cem_function.py\", line 482, in posterior_function_returning_predictions\n",
      "    posterior, abundance_list, element_list = posterior_function_predictions(changing_parameter,a)\n",
      "  File \"/home/philcox/Chempy/Chempy/cem_function.py\", line 492, in posterior_function_predictions\n",
      "    a = extract_parameters_and_priors(changing_parameter, a)\n",
      "  File \"/home/philcox/Chempy/Chempy/cem_function.py\", line 717, in extract_parameters_and_priors\n",
      "    assert False, '%s lower border is violated' %(name)\n",
      "AssertionError: outflow_feedback_fraction lower border is violated\n"
     ]
    },
    {
     "name": "stdout",
     "output_type": "stream",
     "text": [
      "5.22882051364 2.38723981241\n",
      "calculation so far took 45.21633219718933  seconds\n",
      "step  59 of  1000\n"
     ]
    },
    {
     "name": "stderr",
     "output_type": "stream",
     "text": [
      "Traceback (most recent call last):\n",
      "  File \"/home/philcox/Chempy/Chempy/cem_function.py\", line 882, in posterior_function_many_stars\n",
      "    posterior, blobs = posterior_function_many_stars_real(changing_parameter,error_list,elements)\n",
      "  File \"/home/philcox/Chempy/Chempy/cem_function.py\", line 920, in posterior_function_many_stars_real\n",
      "    abundance_list,element_list = posterior_function_returning_predictions(args)\n",
      "  File \"/home/philcox/Chempy/Chempy/cem_function.py\", line 482, in posterior_function_returning_predictions\n",
      "    posterior, abundance_list, element_list = posterior_function_predictions(changing_parameter,a)\n",
      "  File \"/home/philcox/Chempy/Chempy/cem_function.py\", line 492, in posterior_function_predictions\n",
      "    a = extract_parameters_and_priors(changing_parameter, a)\n",
      "  File \"/home/philcox/Chempy/Chempy/cem_function.py\", line 719, in extract_parameters_and_priors\n",
      "    assert False, '%s upper border is violated' %(name)\n",
      "AssertionError: log10_sfr_scale upper border is violated\n"
     ]
    },
    {
     "name": "stdout",
     "output_type": "stream",
     "text": [
      "5.22882051364 2.26124261639\n",
      "calculation so far took 45.955413818359375  seconds\n",
      "step  60 of  1000\n"
     ]
    },
    {
     "name": "stderr",
     "output_type": "stream",
     "text": [
      "Traceback (most recent call last):\n",
      "  File \"/home/philcox/Chempy/Chempy/cem_function.py\", line 882, in posterior_function_many_stars\n",
      "    posterior, blobs = posterior_function_many_stars_real(changing_parameter,error_list,elements)\n",
      "  File \"/home/philcox/Chempy/Chempy/cem_function.py\", line 920, in posterior_function_many_stars_real\n",
      "    abundance_list,element_list = posterior_function_returning_predictions(args)\n",
      "  File \"/home/philcox/Chempy/Chempy/cem_function.py\", line 482, in posterior_function_returning_predictions\n",
      "    posterior, abundance_list, element_list = posterior_function_predictions(changing_parameter,a)\n",
      "  File \"/home/philcox/Chempy/Chempy/cem_function.py\", line 492, in posterior_function_predictions\n",
      "    a = extract_parameters_and_priors(changing_parameter, a)\n",
      "  File \"/home/philcox/Chempy/Chempy/cem_function.py\", line 719, in extract_parameters_and_priors\n",
      "    assert False, '%s upper border is violated' %(name)\n",
      "AssertionError: outflow_feedback_fraction upper border is violated\n",
      "Traceback (most recent call last):\n",
      "  File \"/home/philcox/Chempy/Chempy/cem_function.py\", line 882, in posterior_function_many_stars\n",
      "    posterior, blobs = posterior_function_many_stars_real(changing_parameter,error_list,elements)\n",
      "  File \"/home/philcox/Chempy/Chempy/cem_function.py\", line 920, in posterior_function_many_stars_real\n",
      "    abundance_list,element_list = posterior_function_returning_predictions(args)\n",
      "  File \"/home/philcox/Chempy/Chempy/cem_function.py\", line 482, in posterior_function_returning_predictions\n",
      "    posterior, abundance_list, element_list = posterior_function_predictions(changing_parameter,a)\n",
      "  File \"/home/philcox/Chempy/Chempy/cem_function.py\", line 507, in posterior_function_predictions\n",
      "    abundance_list,elements_to_trace = cem_real2(a)\n",
      "  File \"/home/philcox/Chempy/Chempy/cem_function.py\", line 337, in cem_real2\n",
      "    a = shorten_sfr(a)\n",
      "  File \"/home/philcox/Chempy/Chempy/cem_function.py\", line 130, in shorten_sfr\n",
      "    assert fraction_of_mean_sfr > 0.05, ('The total SFR of the last age bin is below 5% of the mean SFR', 'stellar identifier = ', a.stellar_identifier, 'star time = ', star_time, 'model time = ', time_model )\n",
      "AssertionError: ('The total SFR of the last age bin is below 5% of the mean SFR', 'stellar identifier = ', 'Proto-sun', 'star time = ', 8.9400000000000013, 'model time = ', 9.0)\n"
     ]
    },
    {
     "name": "stdout",
     "output_type": "stream",
     "text": [
      "5.22882051364 2.12994730394\n",
      "calculation so far took 46.68827033042908  seconds\n",
      "step  61 of  1000\n"
     ]
    },
    {
     "name": "stderr",
     "output_type": "stream",
     "text": [
      "Traceback (most recent call last):\n",
      "  File \"/home/philcox/Chempy/Chempy/cem_function.py\", line 882, in posterior_function_many_stars\n",
      "    posterior, blobs = posterior_function_many_stars_real(changing_parameter,error_list,elements)\n",
      "  File \"/home/philcox/Chempy/Chempy/cem_function.py\", line 920, in posterior_function_many_stars_real\n",
      "    abundance_list,element_list = posterior_function_returning_predictions(args)\n",
      "  File \"/home/philcox/Chempy/Chempy/cem_function.py\", line 482, in posterior_function_returning_predictions\n",
      "    posterior, abundance_list, element_list = posterior_function_predictions(changing_parameter,a)\n",
      "  File \"/home/philcox/Chempy/Chempy/cem_function.py\", line 492, in posterior_function_predictions\n",
      "    a = extract_parameters_and_priors(changing_parameter, a)\n",
      "  File \"/home/philcox/Chempy/Chempy/cem_function.py\", line 719, in extract_parameters_and_priors\n",
      "    assert False, '%s upper border is violated' %(name)\n",
      "AssertionError: log10_sfr_scale upper border is violated\n",
      "Traceback (most recent call last):\n",
      "  File \"/home/philcox/Chempy/Chempy/cem_function.py\", line 882, in posterior_function_many_stars\n",
      "    posterior, blobs = posterior_function_many_stars_real(changing_parameter,error_list,elements)\n",
      "  File \"/home/philcox/Chempy/Chempy/cem_function.py\", line 920, in posterior_function_many_stars_real\n",
      "    abundance_list,element_list = posterior_function_returning_predictions(args)\n",
      "  File \"/home/philcox/Chempy/Chempy/cem_function.py\", line 482, in posterior_function_returning_predictions\n",
      "    posterior, abundance_list, element_list = posterior_function_predictions(changing_parameter,a)\n",
      "  File \"/home/philcox/Chempy/Chempy/cem_function.py\", line 492, in posterior_function_predictions\n",
      "    a = extract_parameters_and_priors(changing_parameter, a)\n",
      "  File \"/home/philcox/Chempy/Chempy/cem_function.py\", line 717, in extract_parameters_and_priors\n",
      "    assert False, '%s lower border is violated' %(name)\n",
      "AssertionError: outflow_feedback_fraction lower border is violated\n"
     ]
    },
    {
     "name": "stdout",
     "output_type": "stream",
     "text": [
      "5.22882051364 2.214566673\n",
      "calculation so far took 47.49280762672424  seconds\n",
      "step  62 of  1000\n",
      "5.22882051364 2.42337746512\n",
      "calculation so far took 48.28155446052551  seconds\n",
      "step  63 of  1000\n",
      "5.22882051364 2.31164807937\n",
      "calculation so far took 49.01320958137512  seconds\n",
      "step  64 of  1000\n",
      "5.22882051364 2.64771494171\n",
      "calculation so far took 49.74737858772278  seconds\n",
      "step  65 of  1000\n"
     ]
    },
    {
     "name": "stderr",
     "output_type": "stream",
     "text": [
      "Traceback (most recent call last):\n",
      "  File \"/home/philcox/Chempy/Chempy/cem_function.py\", line 882, in posterior_function_many_stars\n",
      "    posterior, blobs = posterior_function_many_stars_real(changing_parameter,error_list,elements)\n",
      "  File \"/home/philcox/Chempy/Chempy/cem_function.py\", line 920, in posterior_function_many_stars_real\n",
      "    abundance_list,element_list = posterior_function_returning_predictions(args)\n",
      "  File \"/home/philcox/Chempy/Chempy/cem_function.py\", line 482, in posterior_function_returning_predictions\n",
      "    posterior, abundance_list, element_list = posterior_function_predictions(changing_parameter,a)\n",
      "  File \"/home/philcox/Chempy/Chempy/cem_function.py\", line 507, in posterior_function_predictions\n",
      "    abundance_list,elements_to_trace = cem_real2(a)\n",
      "  File \"/home/philcox/Chempy/Chempy/cem_function.py\", line 337, in cem_real2\n",
      "    a = shorten_sfr(a)\n",
      "  File \"/home/philcox/Chempy/Chempy/cem_function.py\", line 130, in shorten_sfr\n",
      "    assert fraction_of_mean_sfr > 0.05, ('The total SFR of the last age bin is below 5% of the mean SFR', 'stellar identifier = ', a.stellar_identifier, 'star time = ', star_time, 'model time = ', time_model )\n",
      "AssertionError: ('The total SFR of the last age bin is below 5% of the mean SFR', 'stellar identifier = ', 'Proto-sun', 'star time = ', 8.9400000000000013, 'model time = ', 9.0)\n"
     ]
    },
    {
     "name": "stdout",
     "output_type": "stream",
     "text": [
      "5.22882051364 2.6138673144\n",
      "calculation so far took 50.43304443359375  seconds\n",
      "step  66 of  1000\n"
     ]
    },
    {
     "name": "stderr",
     "output_type": "stream",
     "text": [
      "Traceback (most recent call last):\n",
      "  File \"/home/philcox/Chempy/Chempy/cem_function.py\", line 882, in posterior_function_many_stars\n",
      "    posterior, blobs = posterior_function_many_stars_real(changing_parameter,error_list,elements)\n",
      "  File \"/home/philcox/Chempy/Chempy/cem_function.py\", line 920, in posterior_function_many_stars_real\n",
      "    abundance_list,element_list = posterior_function_returning_predictions(args)\n",
      "  File \"/home/philcox/Chempy/Chempy/cem_function.py\", line 482, in posterior_function_returning_predictions\n",
      "    posterior, abundance_list, element_list = posterior_function_predictions(changing_parameter,a)\n",
      "  File \"/home/philcox/Chempy/Chempy/cem_function.py\", line 507, in posterior_function_predictions\n",
      "    abundance_list,elements_to_trace = cem_real2(a)\n",
      "  File \"/home/philcox/Chempy/Chempy/cem_function.py\", line 337, in cem_real2\n",
      "    a = shorten_sfr(a)\n",
      "  File \"/home/philcox/Chempy/Chempy/cem_function.py\", line 130, in shorten_sfr\n",
      "    assert fraction_of_mean_sfr > 0.05, ('The total SFR of the last age bin is below 5% of the mean SFR', 'stellar identifier = ', a.stellar_identifier, 'star time = ', star_time, 'model time = ', time_model )\n",
      "AssertionError: ('The total SFR of the last age bin is below 5% of the mean SFR', 'stellar identifier = ', 'Proto-sun', 'star time = ', 8.9400000000000013, 'model time = ', 9.0)\n"
     ]
    },
    {
     "name": "stdout",
     "output_type": "stream",
     "text": [
      "5.22882051364 2.53811396969\n",
      "calculation so far took 51.220537185668945  seconds\n",
      "step  67 of  1000\n"
     ]
    },
    {
     "name": "stderr",
     "output_type": "stream",
     "text": [
      "Traceback (most recent call last):\n",
      "  File \"/home/philcox/Chempy/Chempy/cem_function.py\", line 882, in posterior_function_many_stars\n",
      "    posterior, blobs = posterior_function_many_stars_real(changing_parameter,error_list,elements)\n",
      "  File \"/home/philcox/Chempy/Chempy/cem_function.py\", line 920, in posterior_function_many_stars_real\n",
      "    abundance_list,element_list = posterior_function_returning_predictions(args)\n",
      "  File \"/home/philcox/Chempy/Chempy/cem_function.py\", line 482, in posterior_function_returning_predictions\n",
      "    posterior, abundance_list, element_list = posterior_function_predictions(changing_parameter,a)\n",
      "  File \"/home/philcox/Chempy/Chempy/cem_function.py\", line 492, in posterior_function_predictions\n",
      "    a = extract_parameters_and_priors(changing_parameter, a)\n",
      "  File \"/home/philcox/Chempy/Chempy/cem_function.py\", line 717, in extract_parameters_and_priors\n",
      "    assert False, '%s lower border is violated' %(name)\n",
      "AssertionError: outflow_feedback_fraction lower border is violated\n"
     ]
    },
    {
     "name": "stdout",
     "output_type": "stream",
     "text": [
      "5.22882051364 2.3889564021\n",
      "calculation so far took 51.90272569656372  seconds\n",
      "step  68 of  1000\n"
     ]
    },
    {
     "name": "stderr",
     "output_type": "stream",
     "text": [
      "Traceback (most recent call last):\n",
      "  File \"/home/philcox/Chempy/Chempy/cem_function.py\", line 882, in posterior_function_many_stars\n",
      "    posterior, blobs = posterior_function_many_stars_real(changing_parameter,error_list,elements)\n",
      "  File \"/home/philcox/Chempy/Chempy/cem_function.py\", line 920, in posterior_function_many_stars_real\n",
      "    abundance_list,element_list = posterior_function_returning_predictions(args)\n",
      "  File \"/home/philcox/Chempy/Chempy/cem_function.py\", line 482, in posterior_function_returning_predictions\n",
      "    posterior, abundance_list, element_list = posterior_function_predictions(changing_parameter,a)\n",
      "  File \"/home/philcox/Chempy/Chempy/cem_function.py\", line 492, in posterior_function_predictions\n",
      "    a = extract_parameters_and_priors(changing_parameter, a)\n",
      "  File \"/home/philcox/Chempy/Chempy/cem_function.py\", line 719, in extract_parameters_and_priors\n",
      "    assert False, '%s upper border is violated' %(name)\n",
      "AssertionError: outflow_feedback_fraction upper border is violated\n",
      "Traceback (most recent call last):\n",
      "  File \"/home/philcox/Chempy/Chempy/cem_function.py\", line 882, in posterior_function_many_stars\n",
      "    posterior, blobs = posterior_function_many_stars_real(changing_parameter,error_list,elements)\n",
      "  File \"/home/philcox/Chempy/Chempy/cem_function.py\", line 920, in posterior_function_many_stars_real\n",
      "    abundance_list,element_list = posterior_function_returning_predictions(args)\n",
      "  File \"/home/philcox/Chempy/Chempy/cem_function.py\", line 482, in posterior_function_returning_predictions\n",
      "    posterior, abundance_list, element_list = posterior_function_predictions(changing_parameter,a)\n",
      "  File \"/home/philcox/Chempy/Chempy/cem_function.py\", line 507, in posterior_function_predictions\n",
      "    abundance_list,elements_to_trace = cem_real2(a)\n",
      "  File \"/home/philcox/Chempy/Chempy/cem_function.py\", line 337, in cem_real2\n",
      "    a = shorten_sfr(a)\n",
      "  File \"/home/philcox/Chempy/Chempy/cem_function.py\", line 130, in shorten_sfr\n",
      "    assert fraction_of_mean_sfr > 0.05, ('The total SFR of the last age bin is below 5% of the mean SFR', 'stellar identifier = ', a.stellar_identifier, 'star time = ', star_time, 'model time = ', time_model )\n",
      "AssertionError: ('The total SFR of the last age bin is below 5% of the mean SFR', 'stellar identifier = ', 'Proto-sun', 'star time = ', 8.9400000000000013, 'model time = ', 9.0)\n"
     ]
    },
    {
     "name": "stdout",
     "output_type": "stream",
     "text": [
      "5.22882051364 2.32779635624\n",
      "calculation so far took 52.6503586769104  seconds\n",
      "step  69 of  1000\n"
     ]
    },
    {
     "name": "stderr",
     "output_type": "stream",
     "text": [
      "Traceback (most recent call last):\n",
      "  File \"/home/philcox/Chempy/Chempy/cem_function.py\", line 882, in posterior_function_many_stars\n",
      "    posterior, blobs = posterior_function_many_stars_real(changing_parameter,error_list,elements)\n",
      "  File \"/home/philcox/Chempy/Chempy/cem_function.py\", line 920, in posterior_function_many_stars_real\n",
      "    abundance_list,element_list = posterior_function_returning_predictions(args)\n",
      "  File \"/home/philcox/Chempy/Chempy/cem_function.py\", line 482, in posterior_function_returning_predictions\n",
      "    posterior, abundance_list, element_list = posterior_function_predictions(changing_parameter,a)\n",
      "  File \"/home/philcox/Chempy/Chempy/cem_function.py\", line 492, in posterior_function_predictions\n",
      "    a = extract_parameters_and_priors(changing_parameter, a)\n",
      "  File \"/home/philcox/Chempy/Chempy/cem_function.py\", line 717, in extract_parameters_and_priors\n",
      "    assert False, '%s lower border is violated' %(name)\n",
      "AssertionError: outflow_feedback_fraction lower border is violated\n"
     ]
    },
    {
     "name": "stdout",
     "output_type": "stream",
     "text": [
      "5.22882051364 2.49882430776\n",
      "calculation so far took 53.380242109298706  seconds\n",
      "step  70 of  1000\n"
     ]
    },
    {
     "name": "stderr",
     "output_type": "stream",
     "text": [
      "Traceback (most recent call last):\n",
      "  File \"/home/philcox/Chempy/Chempy/cem_function.py\", line 882, in posterior_function_many_stars\n",
      "    posterior, blobs = posterior_function_many_stars_real(changing_parameter,error_list,elements)\n",
      "  File \"/home/philcox/Chempy/Chempy/cem_function.py\", line 920, in posterior_function_many_stars_real\n",
      "    abundance_list,element_list = posterior_function_returning_predictions(args)\n",
      "  File \"/home/philcox/Chempy/Chempy/cem_function.py\", line 482, in posterior_function_returning_predictions\n",
      "    posterior, abundance_list, element_list = posterior_function_predictions(changing_parameter,a)\n",
      "  File \"/home/philcox/Chempy/Chempy/cem_function.py\", line 492, in posterior_function_predictions\n",
      "    a = extract_parameters_and_priors(changing_parameter, a)\n",
      "  File \"/home/philcox/Chempy/Chempy/cem_function.py\", line 719, in extract_parameters_and_priors\n",
      "    assert False, '%s upper border is violated' %(name)\n",
      "AssertionError: log10_sfr_scale upper border is violated\n"
     ]
    },
    {
     "name": "stdout",
     "output_type": "stream",
     "text": [
      "5.22882051364 2.35260551941\n",
      "calculation so far took 54.163820028305054  seconds\n",
      "step  71 of  1000\n"
     ]
    },
    {
     "name": "stderr",
     "output_type": "stream",
     "text": [
      "Traceback (most recent call last):\n",
      "  File \"/home/philcox/Chempy/Chempy/cem_function.py\", line 882, in posterior_function_many_stars\n",
      "    posterior, blobs = posterior_function_many_stars_real(changing_parameter,error_list,elements)\n",
      "  File \"/home/philcox/Chempy/Chempy/cem_function.py\", line 920, in posterior_function_many_stars_real\n",
      "    abundance_list,element_list = posterior_function_returning_predictions(args)\n",
      "  File \"/home/philcox/Chempy/Chempy/cem_function.py\", line 482, in posterior_function_returning_predictions\n",
      "    posterior, abundance_list, element_list = posterior_function_predictions(changing_parameter,a)\n",
      "  File \"/home/philcox/Chempy/Chempy/cem_function.py\", line 492, in posterior_function_predictions\n",
      "    a = extract_parameters_and_priors(changing_parameter, a)\n",
      "  File \"/home/philcox/Chempy/Chempy/cem_function.py\", line 717, in extract_parameters_and_priors\n",
      "    assert False, '%s lower border is violated' %(name)\n",
      "AssertionError: outflow_feedback_fraction lower border is violated\n"
     ]
    },
    {
     "name": "stdout",
     "output_type": "stream",
     "text": [
      "5.22882051364 2.28666885008\n",
      "calculation so far took 54.821659088134766  seconds\n",
      "step  72 of  1000\n",
      "5.22882051364 2.36198174485\n",
      "calculation so far took 55.50700116157532  seconds\n",
      "step  73 of  1000\n"
     ]
    },
    {
     "name": "stderr",
     "output_type": "stream",
     "text": [
      "Traceback (most recent call last):\n",
      "  File \"/home/philcox/Chempy/Chempy/cem_function.py\", line 882, in posterior_function_many_stars\n",
      "    posterior, blobs = posterior_function_many_stars_real(changing_parameter,error_list,elements)\n",
      "  File \"/home/philcox/Chempy/Chempy/cem_function.py\", line 920, in posterior_function_many_stars_real\n",
      "    abundance_list,element_list = posterior_function_returning_predictions(args)\n",
      "  File \"/home/philcox/Chempy/Chempy/cem_function.py\", line 482, in posterior_function_returning_predictions\n",
      "    posterior, abundance_list, element_list = posterior_function_predictions(changing_parameter,a)\n",
      "  File \"/home/philcox/Chempy/Chempy/cem_function.py\", line 507, in posterior_function_predictions\n",
      "    abundance_list,elements_to_trace = cem_real2(a)\n"
     ]
    },
    {
     "name": "stdout",
     "output_type": "stream",
     "text": [
      "5.22882051364 2.45265756519\n",
      "calculation so far took 56.16455912590027  seconds\n",
      "step  74 of  1000\n"
     ]
    },
    {
     "name": "stderr",
     "output_type": "stream",
     "text": [
      "  File \"/home/philcox/Chempy/Chempy/cem_function.py\", line 337, in cem_real2\n",
      "    a = shorten_sfr(a)\n",
      "  File \"/home/philcox/Chempy/Chempy/cem_function.py\", line 130, in shorten_sfr\n",
      "    assert fraction_of_mean_sfr > 0.05, ('The total SFR of the last age bin is below 5% of the mean SFR', 'stellar identifier = ', a.stellar_identifier, 'star time = ', star_time, 'model time = ', time_model )\n",
      "AssertionError: ('The total SFR of the last age bin is below 5% of the mean SFR', 'stellar identifier = ', 'Proto-sun', 'star time = ', 8.9400000000000013, 'model time = ', 9.0)\n",
      "Traceback (most recent call last):\n",
      "  File \"/home/philcox/Chempy/Chempy/cem_function.py\", line 882, in posterior_function_many_stars\n",
      "    posterior, blobs = posterior_function_many_stars_real(changing_parameter,error_list,elements)\n",
      "  File \"/home/philcox/Chempy/Chempy/cem_function.py\", line 920, in posterior_function_many_stars_real\n",
      "    abundance_list,element_list = posterior_function_returning_predictions(args)\n",
      "  File \"/home/philcox/Chempy/Chempy/cem_function.py\", line 482, in posterior_function_returning_predictions\n",
      "    posterior, abundance_list, element_list = posterior_function_predictions(changing_parameter,a)\n",
      "  File \"/home/philcox/Chempy/Chempy/cem_function.py\", line 492, in posterior_function_predictions\n",
      "    a = extract_parameters_and_priors(changing_parameter, a)\n",
      "  File \"/home/philcox/Chempy/Chempy/cem_function.py\", line 717, in extract_parameters_and_priors\n",
      "    assert False, '%s lower border is violated' %(name)\n",
      "AssertionError: outflow_feedback_fraction lower border is violated\n"
     ]
    },
    {
     "name": "stdout",
     "output_type": "stream",
     "text": [
      "5.22882051364 2.36082413941\n",
      "calculation so far took 56.8838210105896  seconds\n",
      "step  75 of  1000\n",
      "5.22882051364 2.46992229794\n",
      "calculation so far took 57.71277737617493  seconds\n",
      "step  76 of  1000\n",
      "5.22882051364 2.56551314995\n",
      "calculation so far took 58.52436017990112  seconds\n",
      "step  77 of  1000\n",
      "5.22882051364 2.33261630706\n",
      "calculation so far took 59.23642563819885  seconds\n",
      "step  78 of  1000\n",
      "5.22882051364 2.34367489105\n",
      "calculation so far took 59.93613028526306  seconds\n",
      "step  79 of  1000\n"
     ]
    },
    {
     "name": "stderr",
     "output_type": "stream",
     "text": [
      "Traceback (most recent call last):\n",
      "  File \"/home/philcox/Chempy/Chempy/cem_function.py\", line 882, in posterior_function_many_stars\n",
      "    posterior, blobs = posterior_function_many_stars_real(changing_parameter,error_list,elements)\n",
      "  File \"/home/philcox/Chempy/Chempy/cem_function.py\", line 920, in posterior_function_many_stars_real\n",
      "    abundance_list,element_list = posterior_function_returning_predictions(args)\n",
      "  File \"/home/philcox/Chempy/Chempy/cem_function.py\", line 482, in posterior_function_returning_predictions\n",
      "    posterior, abundance_list, element_list = posterior_function_predictions(changing_parameter,a)\n",
      "  File \"/home/philcox/Chempy/Chempy/cem_function.py\", line 492, in posterior_function_predictions\n",
      "    a = extract_parameters_and_priors(changing_parameter, a)\n",
      "  File \"/home/philcox/Chempy/Chempy/cem_function.py\", line 719, in extract_parameters_and_priors\n",
      "    assert False, '%s upper border is violated' %(name)\n",
      "AssertionError: log10_sfr_scale upper border is violated\n"
     ]
    },
    {
     "name": "stdout",
     "output_type": "stream",
     "text": [
      "5.22882051364 2.23495223799\n",
      "calculation so far took 60.63088774681091  seconds\n",
      "step  80 of  1000\n",
      "5.22882051364 1.92388812376\n",
      "calculation so far took 61.27590298652649  seconds\n",
      "step  81 of  1000\n"
     ]
    },
    {
     "name": "stderr",
     "output_type": "stream",
     "text": [
      "Traceback (most recent call last):\n",
      "  File \"/home/philcox/Chempy/Chempy/cem_function.py\", line 882, in posterior_function_many_stars\n",
      "    posterior, blobs = posterior_function_many_stars_real(changing_parameter,error_list,elements)\n",
      "  File \"/home/philcox/Chempy/Chempy/cem_function.py\", line 920, in posterior_function_many_stars_real\n",
      "    abundance_list,element_list = posterior_function_returning_predictions(args)\n",
      "  File \"/home/philcox/Chempy/Chempy/cem_function.py\", line 482, in posterior_function_returning_predictions\n",
      "    posterior, abundance_list, element_list = posterior_function_predictions(changing_parameter,a)\n",
      "  File \"/home/philcox/Chempy/Chempy/cem_function.py\", line 507, in posterior_function_predictions\n",
      "    abundance_list,elements_to_trace = cem_real2(a)\n",
      "  File \"/home/philcox/Chempy/Chempy/cem_function.py\", line 337, in cem_real2\n",
      "    a = shorten_sfr(a)\n",
      "  File \"/home/philcox/Chempy/Chempy/cem_function.py\", line 130, in shorten_sfr\n",
      "    assert fraction_of_mean_sfr > 0.05, ('The total SFR of the last age bin is below 5% of the mean SFR', 'stellar identifier = ', a.stellar_identifier, 'star time = ', star_time, 'model time = ', time_model )\n",
      "AssertionError: ('The total SFR of the last age bin is below 5% of the mean SFR', 'stellar identifier = ', 'Proto-sun', 'star time = ', 8.9400000000000013, 'model time = ', 9.0)\n",
      "Traceback (most recent call last):\n",
      "  File \"/home/philcox/Chempy/Chempy/cem_function.py\", line 882, in posterior_function_many_stars\n",
      "    posterior, blobs = posterior_function_many_stars_real(changing_parameter,error_list,elements)\n",
      "  File \"/home/philcox/Chempy/Chempy/cem_function.py\", line 920, in posterior_function_many_stars_real\n",
      "    abundance_list,element_list = posterior_function_returning_predictions(args)\n",
      "  File \"/home/philcox/Chempy/Chempy/cem_function.py\", line 482, in posterior_function_returning_predictions\n",
      "    posterior, abundance_list, element_list = posterior_function_predictions(changing_parameter,a)\n",
      "  File \"/home/philcox/Chempy/Chempy/cem_function.py\", line 492, in posterior_function_predictions\n",
      "    a = extract_parameters_and_priors(changing_parameter, a)\n",
      "  File \"/home/philcox/Chempy/Chempy/cem_function.py\", line 719, in extract_parameters_and_priors\n",
      "    assert False, '%s upper border is violated' %(name)\n",
      "AssertionError: log10_sfr_scale upper border is violated\n",
      "Traceback (most recent call last):\n",
      "  File \"/home/philcox/Chempy/Chempy/cem_function.py\", line 882, in posterior_function_many_stars\n",
      "    posterior, blobs = posterior_function_many_stars_real(changing_parameter,error_list,elements)\n",
      "  File \"/home/philcox/Chempy/Chempy/cem_function.py\", line 920, in posterior_function_many_stars_real\n",
      "    abundance_list,element_list = posterior_function_returning_predictions(args)\n",
      "  File \"/home/philcox/Chempy/Chempy/cem_function.py\", line 482, in posterior_function_returning_predictions\n",
      "    posterior, abundance_list, element_list = posterior_function_predictions(changing_parameter,a)\n",
      "  File \"/home/philcox/Chempy/Chempy/cem_function.py\", line 492, in posterior_function_predictions\n",
      "    a = extract_parameters_and_priors(changing_parameter, a)\n",
      "  File \"/home/philcox/Chempy/Chempy/cem_function.py\", line 719, in extract_parameters_and_priors\n",
      "    assert False, '%s upper border is violated' %(name)\n",
      "AssertionError: log10_sfr_scale upper border is violated\n"
     ]
    },
    {
     "name": "stdout",
     "output_type": "stream",
     "text": [
      "5.22882051364 1.84362326717\n",
      "calculation so far took 62.057652711868286  seconds\n",
      "step  82 of  1000\n"
     ]
    },
    {
     "name": "stderr",
     "output_type": "stream",
     "text": [
      "Traceback (most recent call last):\n",
      "  File \"/home/philcox/Chempy/Chempy/cem_function.py\", line 882, in posterior_function_many_stars\n",
      "    posterior, blobs = posterior_function_many_stars_real(changing_parameter,error_list,elements)\n",
      "  File \"/home/philcox/Chempy/Chempy/cem_function.py\", line 920, in posterior_function_many_stars_real\n",
      "    abundance_list,element_list = posterior_function_returning_predictions(args)\n",
      "  File \"/home/philcox/Chempy/Chempy/cem_function.py\", line 482, in posterior_function_returning_predictions\n",
      "    posterior, abundance_list, element_list = posterior_function_predictions(changing_parameter,a)\n",
      "  File \"/home/philcox/Chempy/Chempy/cem_function.py\", line 492, in posterior_function_predictions\n",
      "    a = extract_parameters_and_priors(changing_parameter, a)\n",
      "  File \"/home/philcox/Chempy/Chempy/cem_function.py\", line 717, in extract_parameters_and_priors\n",
      "    assert False, '%s lower border is violated' %(name)\n",
      "AssertionError: outflow_feedback_fraction lower border is violated\n"
     ]
    },
    {
     "name": "stdout",
     "output_type": "stream",
     "text": [
      "5.22882051364 1.91368512974\n",
      "calculation so far took 62.848410844802856  seconds\n",
      "step  83 of  1000\n"
     ]
    },
    {
     "name": "stderr",
     "output_type": "stream",
     "text": [
      "Traceback (most recent call last):\n",
      "  File \"/home/philcox/Chempy/Chempy/cem_function.py\", line 882, in posterior_function_many_stars\n",
      "    posterior, blobs = posterior_function_many_stars_real(changing_parameter,error_list,elements)\n",
      "  File \"/home/philcox/Chempy/Chempy/cem_function.py\", line 920, in posterior_function_many_stars_real\n",
      "    abundance_list,element_list = posterior_function_returning_predictions(args)\n",
      "  File \"/home/philcox/Chempy/Chempy/cem_function.py\", line 482, in posterior_function_returning_predictions\n",
      "    posterior, abundance_list, element_list = posterior_function_predictions(changing_parameter,a)\n",
      "  File \"/home/philcox/Chempy/Chempy/cem_function.py\", line 492, in posterior_function_predictions\n",
      "    a = extract_parameters_and_priors(changing_parameter, a)\n",
      "  File \"/home/philcox/Chempy/Chempy/cem_function.py\", line 717, in extract_parameters_and_priors\n",
      "    assert False, '%s lower border is violated' %(name)\n",
      "AssertionError: outflow_feedback_fraction lower border is violated\n",
      "Traceback (most recent call last):\n",
      "  File \"/home/philcox/Chempy/Chempy/cem_function.py\", line 882, in posterior_function_many_stars\n",
      "    posterior, blobs = posterior_function_many_stars_real(changing_parameter,error_list,elements)\n",
      "  File \"/home/philcox/Chempy/Chempy/cem_function.py\", line 920, in posterior_function_many_stars_real\n",
      "    abundance_list,element_list = posterior_function_returning_predictions(args)\n",
      "  File \"/home/philcox/Chempy/Chempy/cem_function.py\", line 482, in posterior_function_returning_predictions\n",
      "    posterior, abundance_list, element_list = posterior_function_predictions(changing_parameter,a)\n",
      "  File \"/home/philcox/Chempy/Chempy/cem_function.py\", line 507, in posterior_function_predictions\n",
      "    abundance_list,elements_to_trace = cem_real2(a)\n",
      "  File \"/home/philcox/Chempy/Chempy/cem_function.py\", line 337, in cem_real2\n",
      "    a = shorten_sfr(a)\n",
      "  File \"/home/philcox/Chempy/Chempy/cem_function.py\", line 130, in shorten_sfr\n",
      "    assert fraction_of_mean_sfr > 0.05, ('The total SFR of the last age bin is below 5% of the mean SFR', 'stellar identifier = ', a.stellar_identifier, 'star time = ', star_time, 'model time = ', time_model )\n",
      "AssertionError: ('The total SFR of the last age bin is below 5% of the mean SFR', 'stellar identifier = ', 'Proto-sun', 'star time = ', 8.9400000000000013, 'model time = ', 9.0)\n",
      "Traceback (most recent call last):\n",
      "  File \"/home/philcox/Chempy/Chempy/cem_function.py\", line 882, in posterior_function_many_stars\n",
      "    posterior, blobs = posterior_function_many_stars_real(changing_parameter,error_list,elements)\n",
      "  File \"/home/philcox/Chempy/Chempy/cem_function.py\", line 920, in posterior_function_many_stars_real\n",
      "    abundance_list,element_list = posterior_function_returning_predictions(args)\n",
      "  File \"/home/philcox/Chempy/Chempy/cem_function.py\", line 482, in posterior_function_returning_predictions\n",
      "    posterior, abundance_list, element_list = posterior_function_predictions(changing_parameter,a)\n",
      "  File \"/home/philcox/Chempy/Chempy/cem_function.py\", line 492, in posterior_function_predictions\n",
      "    a = extract_parameters_and_priors(changing_parameter, a)\n",
      "  File \"/home/philcox/Chempy/Chempy/cem_function.py\", line 719, in extract_parameters_and_priors\n",
      "    assert False, '%s upper border is violated' %(name)\n",
      "AssertionError: outflow_feedback_fraction upper border is violated\n"
     ]
    },
    {
     "name": "stdout",
     "output_type": "stream",
     "text": [
      "5.22882051364 1.93369199374\n",
      "calculation so far took 63.59105634689331  seconds\n",
      "step  84 of  1000\n"
     ]
    },
    {
     "name": "stderr",
     "output_type": "stream",
     "text": [
      "Traceback (most recent call last):\n",
      "  File \"/home/philcox/Chempy/Chempy/cem_function.py\", line 882, in posterior_function_many_stars\n",
      "    posterior, blobs = posterior_function_many_stars_real(changing_parameter,error_list,elements)\n",
      "  File \"/home/philcox/Chempy/Chempy/cem_function.py\", line 920, in posterior_function_many_stars_real\n",
      "    abundance_list,element_list = posterior_function_returning_predictions(args)\n",
      "  File \"/home/philcox/Chempy/Chempy/cem_function.py\", line 482, in posterior_function_returning_predictions\n",
      "    posterior, abundance_list, element_list = posterior_function_predictions(changing_parameter,a)\n",
      "  File \"/home/philcox/Chempy/Chempy/cem_function.py\", line 492, in posterior_function_predictions\n",
      "    a = extract_parameters_and_priors(changing_parameter, a)\n",
      "  File \"/home/philcox/Chempy/Chempy/cem_function.py\", line 719, in extract_parameters_and_priors\n",
      "    assert False, '%s upper border is violated' %(name)\n",
      "AssertionError: log10_sfr_scale upper border is violated\n",
      "Traceback (most recent call last):\n",
      "  File \"/home/philcox/Chempy/Chempy/cem_function.py\", line 882, in posterior_function_many_stars\n",
      "    posterior, blobs = posterior_function_many_stars_real(changing_parameter,error_list,elements)\n",
      "  File \"/home/philcox/Chempy/Chempy/cem_function.py\", line 920, in posterior_function_many_stars_real\n",
      "    abundance_list,element_list = posterior_function_returning_predictions(args)\n",
      "  File \"/home/philcox/Chempy/Chempy/cem_function.py\", line 482, in posterior_function_returning_predictions\n",
      "    posterior, abundance_list, element_list = posterior_function_predictions(changing_parameter,a)\n",
      "  File \"/home/philcox/Chempy/Chempy/cem_function.py\", line 492, in posterior_function_predictions\n",
      "    a = extract_parameters_and_priors(changing_parameter, a)\n"
     ]
    },
    {
     "name": "stdout",
     "output_type": "stream",
     "text": [
      "5.22882051364 2.04730202445\n",
      "calculation so far took 64.27460432052612  seconds\n",
      "step  85 of  1000\n"
     ]
    },
    {
     "name": "stderr",
     "output_type": "stream",
     "text": [
      "  File \"/home/philcox/Chempy/Chempy/cem_function.py\", line 719, in extract_parameters_and_priors\n",
      "    assert False, '%s upper border is violated' %(name)\n",
      "AssertionError: log10_sfr_scale upper border is violated\n",
      "Traceback (most recent call last):\n",
      "  File \"/home/philcox/Chempy/Chempy/cem_function.py\", line 882, in posterior_function_many_stars\n",
      "    posterior, blobs = posterior_function_many_stars_real(changing_parameter,error_list,elements)\n",
      "  File \"/home/philcox/Chempy/Chempy/cem_function.py\", line 920, in posterior_function_many_stars_real\n",
      "    abundance_list,element_list = posterior_function_returning_predictions(args)\n",
      "  File \"/home/philcox/Chempy/Chempy/cem_function.py\", line 482, in posterior_function_returning_predictions\n",
      "    posterior, abundance_list, element_list = posterior_function_predictions(changing_parameter,a)\n",
      "  File \"/home/philcox/Chempy/Chempy/cem_function.py\", line 492, in posterior_function_predictions\n",
      "    a = extract_parameters_and_priors(changing_parameter, a)\n",
      "  File \"/home/philcox/Chempy/Chempy/cem_function.py\", line 719, in extract_parameters_and_priors\n",
      "    assert False, '%s upper border is violated' %(name)\n",
      "AssertionError: outflow_feedback_fraction upper border is violated\n",
      "Traceback (most recent call last):\n",
      "  File \"/home/philcox/Chempy/Chempy/cem_function.py\", line 882, in posterior_function_many_stars\n",
      "    posterior, blobs = posterior_function_many_stars_real(changing_parameter,error_list,elements)\n",
      "  File \"/home/philcox/Chempy/Chempy/cem_function.py\", line 920, in posterior_function_many_stars_real\n",
      "    abundance_list,element_list = posterior_function_returning_predictions(args)\n",
      "  File \"/home/philcox/Chempy/Chempy/cem_function.py\", line 482, in posterior_function_returning_predictions\n",
      "    posterior, abundance_list, element_list = posterior_function_predictions(changing_parameter,a)\n",
      "  File \"/home/philcox/Chempy/Chempy/cem_function.py\", line 492, in posterior_function_predictions\n",
      "    a = extract_parameters_and_priors(changing_parameter, a)\n",
      "  File \"/home/philcox/Chempy/Chempy/cem_function.py\", line 719, in extract_parameters_and_priors\n",
      "    assert False, '%s upper border is violated' %(name)\n",
      "AssertionError: outflow_feedback_fraction upper border is violated\n"
     ]
    },
    {
     "name": "stdout",
     "output_type": "stream",
     "text": [
      "5.22882051364 2.21011940162\n",
      "calculation so far took 64.95201778411865  seconds\n",
      "step  86 of  1000\n"
     ]
    },
    {
     "name": "stderr",
     "output_type": "stream",
     "text": [
      "Traceback (most recent call last):\n",
      "  File \"/home/philcox/Chempy/Chempy/cem_function.py\", line 882, in posterior_function_many_stars\n",
      "    posterior, blobs = posterior_function_many_stars_real(changing_parameter,error_list,elements)\n",
      "  File \"/home/philcox/Chempy/Chempy/cem_function.py\", line 920, in posterior_function_many_stars_real\n",
      "    abundance_list,element_list = posterior_function_returning_predictions(args)\n",
      "  File \"/home/philcox/Chempy/Chempy/cem_function.py\", line 482, in posterior_function_returning_predictions\n",
      "    posterior, abundance_list, element_list = posterior_function_predictions(changing_parameter,a)\n",
      "  File \"/home/philcox/Chempy/Chempy/cem_function.py\", line 492, in posterior_function_predictions\n",
      "    a = extract_parameters_and_priors(changing_parameter, a)\n",
      "  File \"/home/philcox/Chempy/Chempy/cem_function.py\", line 719, in extract_parameters_and_priors\n",
      "    assert False, '%s upper border is violated' %(name)\n",
      "AssertionError: outflow_feedback_fraction upper border is violated\n",
      "Traceback (most recent call last):\n",
      "  File \"/home/philcox/Chempy/Chempy/cem_function.py\", line 882, in posterior_function_many_stars\n",
      "    posterior, blobs = posterior_function_many_stars_real(changing_parameter,error_list,elements)\n",
      "  File \"/home/philcox/Chempy/Chempy/cem_function.py\", line 920, in posterior_function_many_stars_real\n",
      "    abundance_list,element_list = posterior_function_returning_predictions(args)\n",
      "  File \"/home/philcox/Chempy/Chempy/cem_function.py\", line 482, in posterior_function_returning_predictions\n",
      "    posterior, abundance_list, element_list = posterior_function_predictions(changing_parameter,a)\n",
      "  File \"/home/philcox/Chempy/Chempy/cem_function.py\", line 507, in posterior_function_predictions\n",
      "    abundance_list,elements_to_trace = cem_real2(a)\n",
      "  File \"/home/philcox/Chempy/Chempy/cem_function.py\", line 337, in cem_real2\n",
      "    a = shorten_sfr(a)\n",
      "  File \"/home/philcox/Chempy/Chempy/cem_function.py\", line 130, in shorten_sfr\n",
      "    assert fraction_of_mean_sfr > 0.05, ('The total SFR of the last age bin is below 5% of the mean SFR', 'stellar identifier = ', a.stellar_identifier, 'star time = ', star_time, 'model time = ', time_model )\n",
      "AssertionError: ('The total SFR of the last age bin is below 5% of the mean SFR', 'stellar identifier = ', 'Proto-sun', 'star time = ', 8.9400000000000013, 'model time = ', 9.0)\n",
      "Traceback (most recent call last):\n",
      "  File \"/home/philcox/Chempy/Chempy/cem_function.py\", line 882, in posterior_function_many_stars\n",
      "    posterior, blobs = posterior_function_many_stars_real(changing_parameter,error_list,elements)\n",
      "  File \"/home/philcox/Chempy/Chempy/cem_function.py\", line 920, in posterior_function_many_stars_real\n",
      "    abundance_list,element_list = posterior_function_returning_predictions(args)\n",
      "  File \"/home/philcox/Chempy/Chempy/cem_function.py\", line 482, in posterior_function_returning_predictions\n",
      "    posterior, abundance_list, element_list = posterior_function_predictions(changing_parameter,a)\n",
      "  File \"/home/philcox/Chempy/Chempy/cem_function.py\", line 492, in posterior_function_predictions\n",
      "    a = extract_parameters_and_priors(changing_parameter, a)\n",
      "  File \"/home/philcox/Chempy/Chempy/cem_function.py\", line 719, in extract_parameters_and_priors\n",
      "    assert False, '%s upper border is violated' %(name)\n",
      "AssertionError: outflow_feedback_fraction upper border is violated\n"
     ]
    },
    {
     "name": "stdout",
     "output_type": "stream",
     "text": [
      "5.22882051364 1.98134257234\n",
      "calculation so far took 65.78821420669556  seconds\n",
      "step  87 of  1000\n"
     ]
    },
    {
     "name": "stderr",
     "output_type": "stream",
     "text": [
      "Traceback (most recent call last):\n",
      "  File \"/home/philcox/Chempy/Chempy/cem_function.py\", line 882, in posterior_function_many_stars\n",
      "    posterior, blobs = posterior_function_many_stars_real(changing_parameter,error_list,elements)\n",
      "  File \"/home/philcox/Chempy/Chempy/cem_function.py\", line 920, in posterior_function_many_stars_real\n",
      "    abundance_list,element_list = posterior_function_returning_predictions(args)\n",
      "  File \"/home/philcox/Chempy/Chempy/cem_function.py\", line 482, in posterior_function_returning_predictions\n",
      "    posterior, abundance_list, element_list = posterior_function_predictions(changing_parameter,a)\n",
      "  File \"/home/philcox/Chempy/Chempy/cem_function.py\", line 492, in posterior_function_predictions\n",
      "    a = extract_parameters_and_priors(changing_parameter, a)\n",
      "  File \"/home/philcox/Chempy/Chempy/cem_function.py\", line 717, in extract_parameters_and_priors\n",
      "    assert False, '%s lower border is violated' %(name)\n",
      "AssertionError: outflow_feedback_fraction lower border is violated\n",
      "Traceback (most recent call last):\n"
     ]
    },
    {
     "name": "stdout",
     "output_type": "stream",
     "text": [
      "5.22882051364 2.15981051277\n",
      "calculation so far took 66.58459830284119  seconds\n",
      "step  88 of  1000\n"
     ]
    },
    {
     "name": "stderr",
     "output_type": "stream",
     "text": [
      "  File \"/home/philcox/Chempy/Chempy/cem_function.py\", line 882, in posterior_function_many_stars\n",
      "    posterior, blobs = posterior_function_many_stars_real(changing_parameter,error_list,elements)\n",
      "  File \"/home/philcox/Chempy/Chempy/cem_function.py\", line 920, in posterior_function_many_stars_real\n",
      "    abundance_list,element_list = posterior_function_returning_predictions(args)\n",
      "  File \"/home/philcox/Chempy/Chempy/cem_function.py\", line 482, in posterior_function_returning_predictions\n",
      "    posterior, abundance_list, element_list = posterior_function_predictions(changing_parameter,a)\n",
      "  File \"/home/philcox/Chempy/Chempy/cem_function.py\", line 492, in posterior_function_predictions\n",
      "    a = extract_parameters_and_priors(changing_parameter, a)\n",
      "  File \"/home/philcox/Chempy/Chempy/cem_function.py\", line 719, in extract_parameters_and_priors\n",
      "    assert False, '%s upper border is violated' %(name)\n",
      "AssertionError: outflow_feedback_fraction upper border is violated\n",
      "Traceback (most recent call last):\n",
      "  File \"/home/philcox/Chempy/Chempy/cem_function.py\", line 882, in posterior_function_many_stars\n",
      "    posterior, blobs = posterior_function_many_stars_real(changing_parameter,error_list,elements)\n",
      "  File \"/home/philcox/Chempy/Chempy/cem_function.py\", line 920, in posterior_function_many_stars_real\n",
      "    abundance_list,element_list = posterior_function_returning_predictions(args)\n",
      "  File \"/home/philcox/Chempy/Chempy/cem_function.py\", line 482, in posterior_function_returning_predictions\n",
      "    posterior, abundance_list, element_list = posterior_function_predictions(changing_parameter,a)\n",
      "  File \"/home/philcox/Chempy/Chempy/cem_function.py\", line 492, in posterior_function_predictions\n",
      "    a = extract_parameters_and_priors(changing_parameter, a)\n",
      "  File \"/home/philcox/Chempy/Chempy/cem_function.py\", line 719, in extract_parameters_and_priors\n",
      "    assert False, '%s upper border is violated' %(name)\n",
      "AssertionError: outflow_feedback_fraction upper border is violated\n"
     ]
    },
    {
     "name": "stdout",
     "output_type": "stream",
     "text": [
      "5.22882051364 2.04175948487\n",
      "calculation so far took 67.26371884346008  seconds\n",
      "step  89 of  1000\n",
      "5.22882051364 1.96293883054\n",
      "calculation so far took 68.05955648422241  seconds\n",
      "step  90 of  1000\n"
     ]
    },
    {
     "name": "stderr",
     "output_type": "stream",
     "text": [
      "Traceback (most recent call last):\n",
      "  File \"/home/philcox/Chempy/Chempy/cem_function.py\", line 882, in posterior_function_many_stars\n",
      "    posterior, blobs = posterior_function_many_stars_real(changing_parameter,error_list,elements)\n",
      "  File \"/home/philcox/Chempy/Chempy/cem_function.py\", line 920, in posterior_function_many_stars_real\n",
      "    abundance_list,element_list = posterior_function_returning_predictions(args)\n",
      "  File \"/home/philcox/Chempy/Chempy/cem_function.py\", line 482, in posterior_function_returning_predictions\n",
      "    posterior, abundance_list, element_list = posterior_function_predictions(changing_parameter,a)\n",
      "  File \"/home/philcox/Chempy/Chempy/cem_function.py\", line 492, in posterior_function_predictions\n",
      "    a = extract_parameters_and_priors(changing_parameter, a)\n",
      "  File \"/home/philcox/Chempy/Chempy/cem_function.py\", line 719, in extract_parameters_and_priors\n",
      "    assert False, '%s upper border is violated' %(name)\n",
      "AssertionError: log10_sfr_scale upper border is violated\n",
      "Traceback (most recent call last):\n",
      "  File \"/home/philcox/Chempy/Chempy/cem_function.py\", line 882, in posterior_function_many_stars\n",
      "    posterior, blobs = posterior_function_many_stars_real(changing_parameter,error_list,elements)\n",
      "  File \"/home/philcox/Chempy/Chempy/cem_function.py\", line 920, in posterior_function_many_stars_real\n",
      "    abundance_list,element_list = posterior_function_returning_predictions(args)\n",
      "  File \"/home/philcox/Chempy/Chempy/cem_function.py\", line 482, in posterior_function_returning_predictions\n",
      "    posterior, abundance_list, element_list = posterior_function_predictions(changing_parameter,a)\n",
      "  File \"/home/philcox/Chempy/Chempy/cem_function.py\", line 507, in posterior_function_predictions\n",
      "    abundance_list,elements_to_trace = cem_real2(a)\n",
      "  File \"/home/philcox/Chempy/Chempy/cem_function.py\", line 337, in cem_real2\n",
      "    a = shorten_sfr(a)\n",
      "  File \"/home/philcox/Chempy/Chempy/cem_function.py\", line 130, in shorten_sfr\n",
      "    assert fraction_of_mean_sfr > 0.05, ('The total SFR of the last age bin is below 5% of the mean SFR', 'stellar identifier = ', a.stellar_identifier, 'star time = ', star_time, 'model time = ', time_model )\n",
      "AssertionError: ('The total SFR of the last age bin is below 5% of the mean SFR', 'stellar identifier = ', 'Proto-sun', 'star time = ', 8.9400000000000013, 'model time = ', 9.0)\n"
     ]
    },
    {
     "name": "stdout",
     "output_type": "stream",
     "text": [
      "5.22882051364 2.15453079642\n",
      "calculation so far took 68.9015200138092  seconds\n",
      "step  91 of  1000\n"
     ]
    },
    {
     "name": "stderr",
     "output_type": "stream",
     "text": [
      "Traceback (most recent call last):\n",
      "  File \"/home/philcox/Chempy/Chempy/cem_function.py\", line 882, in posterior_function_many_stars\n",
      "    posterior, blobs = posterior_function_many_stars_real(changing_parameter,error_list,elements)\n",
      "  File \"/home/philcox/Chempy/Chempy/cem_function.py\", line 920, in posterior_function_many_stars_real\n",
      "    abundance_list,element_list = posterior_function_returning_predictions(args)\n",
      "  File \"/home/philcox/Chempy/Chempy/cem_function.py\", line 482, in posterior_function_returning_predictions\n",
      "    posterior, abundance_list, element_list = posterior_function_predictions(changing_parameter,a)\n",
      "  File \"/home/philcox/Chempy/Chempy/cem_function.py\", line 492, in posterior_function_predictions\n",
      "    a = extract_parameters_and_priors(changing_parameter, a)\n",
      "  File \"/home/philcox/Chempy/Chempy/cem_function.py\", line 719, in extract_parameters_and_priors\n",
      "    assert False, '%s upper border is violated' %(name)\n",
      "AssertionError: log10_sfr_scale upper border is violated\n"
     ]
    },
    {
     "name": "stdout",
     "output_type": "stream",
     "text": [
      "5.22882051364 2.25797637337\n",
      "calculation so far took 69.66351056098938  seconds\n",
      "step  92 of  1000\n",
      "5.22882051364 2.17300048251\n",
      "calculation so far took 70.48810458183289  seconds\n",
      "step  93 of  1000\n"
     ]
    },
    {
     "name": "stderr",
     "output_type": "stream",
     "text": [
      "Traceback (most recent call last):\n",
      "  File \"/home/philcox/Chempy/Chempy/cem_function.py\", line 882, in posterior_function_many_stars\n",
      "    posterior, blobs = posterior_function_many_stars_real(changing_parameter,error_list,elements)\n",
      "  File \"/home/philcox/Chempy/Chempy/cem_function.py\", line 920, in posterior_function_many_stars_real\n",
      "    abundance_list,element_list = posterior_function_returning_predictions(args)\n",
      "  File \"/home/philcox/Chempy/Chempy/cem_function.py\", line 482, in posterior_function_returning_predictions\n",
      "    posterior, abundance_list, element_list = posterior_function_predictions(changing_parameter,a)\n",
      "Traceback (most recent call last):\n",
      "  File \"/home/philcox/Chempy/Chempy/cem_function.py\", line 492, in posterior_function_predictions\n",
      "    a = extract_parameters_and_priors(changing_parameter, a)\n",
      "  File \"/home/philcox/Chempy/Chempy/cem_function.py\", line 717, in extract_parameters_and_priors\n",
      "    assert False, '%s lower border is violated' %(name)\n",
      "  File \"/home/philcox/Chempy/Chempy/cem_function.py\", line 882, in posterior_function_many_stars\n",
      "    posterior, blobs = posterior_function_many_stars_real(changing_parameter,error_list,elements)\n",
      "  File \"/home/philcox/Chempy/Chempy/cem_function.py\", line 920, in posterior_function_many_stars_real\n",
      "    abundance_list,element_list = posterior_function_returning_predictions(args)\n",
      "AssertionError: outflow_feedback_fraction lower border is violated\n",
      "  File \"/home/philcox/Chempy/Chempy/cem_function.py\", line 482, in posterior_function_returning_predictions\n",
      "    posterior, abundance_list, element_list = posterior_function_predictions(changing_parameter,a)\n",
      "  File \"/home/philcox/Chempy/Chempy/cem_function.py\", line 492, in posterior_function_predictions\n",
      "    a = extract_parameters_and_priors(changing_parameter, a)\n",
      "  File \"/home/philcox/Chempy/Chempy/cem_function.py\", line 719, in extract_parameters_and_priors\n",
      "    assert False, '%s upper border is violated' %(name)\n",
      "AssertionError: log10_sfr_scale upper border is violated\n"
     ]
    },
    {
     "name": "stdout",
     "output_type": "stream",
     "text": [
      "5.22882051364 2.23734709936\n",
      "calculation so far took 71.23084664344788  seconds\n",
      "step  94 of  1000\n"
     ]
    },
    {
     "name": "stderr",
     "output_type": "stream",
     "text": [
      "Traceback (most recent call last):\n",
      "  File \"/home/philcox/Chempy/Chempy/cem_function.py\", line 882, in posterior_function_many_stars\n",
      "    posterior, blobs = posterior_function_many_stars_real(changing_parameter,error_list,elements)\n",
      "  File \"/home/philcox/Chempy/Chempy/cem_function.py\", line 920, in posterior_function_many_stars_real\n",
      "    abundance_list,element_list = posterior_function_returning_predictions(args)\n",
      "  File \"/home/philcox/Chempy/Chempy/cem_function.py\", line 482, in posterior_function_returning_predictions\n",
      "    posterior, abundance_list, element_list = posterior_function_predictions(changing_parameter,a)\n",
      "  File \"/home/philcox/Chempy/Chempy/cem_function.py\", line 492, in posterior_function_predictions\n",
      "    a = extract_parameters_and_priors(changing_parameter, a)\n",
      "  File \"/home/philcox/Chempy/Chempy/cem_function.py\", line 717, in extract_parameters_and_priors\n",
      "    assert False, '%s lower border is violated' %(name)\n",
      "AssertionError: outflow_feedback_fraction lower border is violated\n"
     ]
    },
    {
     "name": "stdout",
     "output_type": "stream",
     "text": [
      "5.22882051364 2.26816903005\n",
      "calculation so far took 71.96647500991821  seconds\n",
      "step  95 of  1000\n"
     ]
    },
    {
     "name": "stderr",
     "output_type": "stream",
     "text": [
      "Traceback (most recent call last):\n",
      "  File \"/home/philcox/Chempy/Chempy/cem_function.py\", line 882, in posterior_function_many_stars\n",
      "    posterior, blobs = posterior_function_many_stars_real(changing_parameter,error_list,elements)\n",
      "  File \"/home/philcox/Chempy/Chempy/cem_function.py\", line 920, in posterior_function_many_stars_real\n",
      "    abundance_list,element_list = posterior_function_returning_predictions(args)\n",
      "  File \"/home/philcox/Chempy/Chempy/cem_function.py\", line 482, in posterior_function_returning_predictions\n",
      "    posterior, abundance_list, element_list = posterior_function_predictions(changing_parameter,a)\n",
      "  File \"/home/philcox/Chempy/Chempy/cem_function.py\", line 492, in posterior_function_predictions\n",
      "    a = extract_parameters_and_priors(changing_parameter, a)\n",
      "  File \"/home/philcox/Chempy/Chempy/cem_function.py\", line 719, in extract_parameters_and_priors\n",
      "    assert False, '%s upper border is violated' %(name)\n",
      "AssertionError: outflow_feedback_fraction upper border is violated\n"
     ]
    },
    {
     "name": "stdout",
     "output_type": "stream",
     "text": [
      "5.22882051364 2.43316177238\n",
      "calculation so far took 72.6594774723053  seconds\n",
      "step  96 of  1000\n",
      "5.22882051364 2.52200122068\n",
      "calculation so far took 73.32191276550293  seconds\n",
      "step  97 of  1000\n"
     ]
    },
    {
     "name": "stderr",
     "output_type": "stream",
     "text": [
      "Traceback (most recent call last):\n",
      "  File \"/home/philcox/Chempy/Chempy/cem_function.py\", line 882, in posterior_function_many_stars\n",
      "    posterior, blobs = posterior_function_many_stars_real(changing_parameter,error_list,elements)\n",
      "  File \"/home/philcox/Chempy/Chempy/cem_function.py\", line 920, in posterior_function_many_stars_real\n",
      "    abundance_list,element_list = posterior_function_returning_predictions(args)\n",
      "  File \"/home/philcox/Chempy/Chempy/cem_function.py\", line 482, in posterior_function_returning_predictions\n",
      "    posterior, abundance_list, element_list = posterior_function_predictions(changing_parameter,a)\n",
      "  File \"/home/philcox/Chempy/Chempy/cem_function.py\", line 492, in posterior_function_predictions\n",
      "    a = extract_parameters_and_priors(changing_parameter, a)\n",
      "  File \"/home/philcox/Chempy/Chempy/cem_function.py\", line 719, in extract_parameters_and_priors\n",
      "    assert False, '%s upper border is violated' %(name)\n",
      "AssertionError: outflow_feedback_fraction upper border is violated\n"
     ]
    },
    {
     "name": "stdout",
     "output_type": "stream",
     "text": [
      "5.22882051364 2.44515995787\n",
      "calculation so far took 73.99225950241089  seconds\n",
      "step  98 of  1000\n"
     ]
    },
    {
     "name": "stderr",
     "output_type": "stream",
     "text": [
      "Traceback (most recent call last):\n",
      "  File \"/home/philcox/Chempy/Chempy/cem_function.py\", line 882, in posterior_function_many_stars\n",
      "    posterior, blobs = posterior_function_many_stars_real(changing_parameter,error_list,elements)\n",
      "  File \"/home/philcox/Chempy/Chempy/cem_function.py\", line 920, in posterior_function_many_stars_real\n",
      "    abundance_list,element_list = posterior_function_returning_predictions(args)\n",
      "  File \"/home/philcox/Chempy/Chempy/cem_function.py\", line 482, in posterior_function_returning_predictions\n",
      "    posterior, abundance_list, element_list = posterior_function_predictions(changing_parameter,a)\n",
      "  File \"/home/philcox/Chempy/Chempy/cem_function.py\", line 492, in posterior_function_predictions\n",
      "    a = extract_parameters_and_priors(changing_parameter, a)\n",
      "  File \"/home/philcox/Chempy/Chempy/cem_function.py\", line 719, in extract_parameters_and_priors\n",
      "    assert False, '%s upper border is violated' %(name)\n",
      "AssertionError: outflow_feedback_fraction upper border is violated\n"
     ]
    },
    {
     "name": "stdout",
     "output_type": "stream",
     "text": [
      "5.22882051364 2.49640923757\n",
      "calculation so far took 74.68138694763184  seconds\n",
      "step  99 of  1000\n"
     ]
    },
    {
     "name": "stderr",
     "output_type": "stream",
     "text": [
      "Traceback (most recent call last):\n",
      "  File \"/home/philcox/Chempy/Chempy/cem_function.py\", line 882, in posterior_function_many_stars\n",
      "    posterior, blobs = posterior_function_many_stars_real(changing_parameter,error_list,elements)\n",
      "  File \"/home/philcox/Chempy/Chempy/cem_function.py\", line 920, in posterior_function_many_stars_real\n",
      "    abundance_list,element_list = posterior_function_returning_predictions(args)\n",
      "  File \"/home/philcox/Chempy/Chempy/cem_function.py\", line 482, in posterior_function_returning_predictions\n",
      "    posterior, abundance_list, element_list = posterior_function_predictions(changing_parameter,a)\n",
      "  File \"/home/philcox/Chempy/Chempy/cem_function.py\", line 492, in posterior_function_predictions\n",
      "    a = extract_parameters_and_priors(changing_parameter, a)\n",
      "  File \"/home/philcox/Chempy/Chempy/cem_function.py\", line 717, in extract_parameters_and_priors\n",
      "    assert False, '%s lower border is violated' %(name)\n",
      "AssertionError: outflow_feedback_fraction lower border is violated\n"
     ]
    },
    {
     "name": "stdout",
     "output_type": "stream",
     "text": [
      "5.22882051364 2.56667227973\n",
      "calculation so far took 75.34361362457275  seconds\n",
      "step  100 of  1000\n"
     ]
    },
    {
     "name": "stderr",
     "output_type": "stream",
     "text": [
      "Traceback (most recent call last):\n",
      "  File \"/home/philcox/Chempy/Chempy/cem_function.py\", line 882, in posterior_function_many_stars\n",
      "    posterior, blobs = posterior_function_many_stars_real(changing_parameter,error_list,elements)\n",
      "  File \"/home/philcox/Chempy/Chempy/cem_function.py\", line 920, in posterior_function_many_stars_real\n",
      "    abundance_list,element_list = posterior_function_returning_predictions(args)\n",
      "  File \"/home/philcox/Chempy/Chempy/cem_function.py\", line 482, in posterior_function_returning_predictions\n",
      "    posterior, abundance_list, element_list = posterior_function_predictions(changing_parameter,a)\n",
      "  File \"/home/philcox/Chempy/Chempy/cem_function.py\", line 492, in posterior_function_predictions\n",
      "    a = extract_parameters_and_priors(changing_parameter, a)\n",
      "  File \"/home/philcox/Chempy/Chempy/cem_function.py\", line 719, in extract_parameters_and_priors\n",
      "    assert False, '%s upper border is violated' %(name)\n",
      "AssertionError: outflow_feedback_fraction upper border is violated\n"
     ]
    },
    {
     "name": "stdout",
     "output_type": "stream",
     "text": [
      "5.22882051364 2.53188697603\n",
      "calculation so far took 76.01830959320068  seconds\n",
      "step  101 of  1000\n"
     ]
    },
    {
     "name": "stderr",
     "output_type": "stream",
     "text": [
      "Traceback (most recent call last):\n",
      "  File \"/home/philcox/Chempy/Chempy/cem_function.py\", line 882, in posterior_function_many_stars\n",
      "    posterior, blobs = posterior_function_many_stars_real(changing_parameter,error_list,elements)\n",
      "  File \"/home/philcox/Chempy/Chempy/cem_function.py\", line 920, in posterior_function_many_stars_real\n",
      "    abundance_list,element_list = posterior_function_returning_predictions(args)\n",
      "  File \"/home/philcox/Chempy/Chempy/cem_function.py\", line 482, in posterior_function_returning_predictions\n",
      "    posterior, abundance_list, element_list = posterior_function_predictions(changing_parameter,a)\n",
      "  File \"/home/philcox/Chempy/Chempy/cem_function.py\", line 492, in posterior_function_predictions\n",
      "    a = extract_parameters_and_priors(changing_parameter, a)\n",
      "  File \"/home/philcox/Chempy/Chempy/cem_function.py\", line 719, in extract_parameters_and_priors\n",
      "    assert False, '%s upper border is violated' %(name)\n",
      "AssertionError: outflow_feedback_fraction upper border is violated\n"
     ]
    },
    {
     "name": "stdout",
     "output_type": "stream",
     "text": [
      "5.22882051364 2.34180148502\n",
      "calculation so far took 76.73487281799316  seconds\n",
      "step  102 of  1000\n"
     ]
    },
    {
     "name": "stderr",
     "output_type": "stream",
     "text": [
      "Traceback (most recent call last):\n",
      "  File \"/home/philcox/Chempy/Chempy/cem_function.py\", line 882, in posterior_function_many_stars\n",
      "    posterior, blobs = posterior_function_many_stars_real(changing_parameter,error_list,elements)\n",
      "  File \"/home/philcox/Chempy/Chempy/cem_function.py\", line 920, in posterior_function_many_stars_real\n",
      "    abundance_list,element_list = posterior_function_returning_predictions(args)\n",
      "  File \"/home/philcox/Chempy/Chempy/cem_function.py\", line 482, in posterior_function_returning_predictions\n",
      "    posterior, abundance_list, element_list = posterior_function_predictions(changing_parameter,a)\n",
      "  File \"/home/philcox/Chempy/Chempy/cem_function.py\", line 492, in posterior_function_predictions\n",
      "    a = extract_parameters_and_priors(changing_parameter, a)\n",
      "  File \"/home/philcox/Chempy/Chempy/cem_function.py\", line 717, in extract_parameters_and_priors\n",
      "    assert False, '%s lower border is violated' %(name)\n",
      "AssertionError: outflow_feedback_fraction lower border is violated\n",
      "Traceback (most recent call last):\n",
      "  File \"/home/philcox/Chempy/Chempy/cem_function.py\", line 882, in posterior_function_many_stars\n",
      "    posterior, blobs = posterior_function_many_stars_real(changing_parameter,error_list,elements)\n",
      "  File \"/home/philcox/Chempy/Chempy/cem_function.py\", line 920, in posterior_function_many_stars_real\n",
      "    abundance_list,element_list = posterior_function_returning_predictions(args)\n",
      "  File \"/home/philcox/Chempy/Chempy/cem_function.py\", line 482, in posterior_function_returning_predictions\n",
      "    posterior, abundance_list, element_list = posterior_function_predictions(changing_parameter,a)\n",
      "  File \"/home/philcox/Chempy/Chempy/cem_function.py\", line 507, in posterior_function_predictions\n",
      "    abundance_list,elements_to_trace = cem_real2(a)\n",
      "  File \"/home/philcox/Chempy/Chempy/cem_function.py\", line 337, in cem_real2\n",
      "    a = shorten_sfr(a)\n",
      "  File \"/home/philcox/Chempy/Chempy/cem_function.py\", line 130, in shorten_sfr\n",
      "    assert fraction_of_mean_sfr > 0.05, ('The total SFR of the last age bin is below 5% of the mean SFR', 'stellar identifier = ', a.stellar_identifier, 'star time = ', star_time, 'model time = ', time_model )\n",
      "AssertionError: ('The total SFR of the last age bin is below 5% of the mean SFR', 'stellar identifier = ', 'Proto-sun', 'star time = ', 8.9400000000000013, 'model time = ', 9.0)\n"
     ]
    },
    {
     "name": "stdout",
     "output_type": "stream",
     "text": [
      "5.22882051364 2.53472028405\n",
      "calculation so far took 77.42805290222168  seconds\n",
      "step  103 of  1000\n",
      "5.22882051364 2.49957537427\n",
      "calculation so far took 78.10504865646362  seconds\n",
      "step  104 of  1000\n",
      "5.22882051364 2.45191788308\n",
      "calculation so far took 78.7957284450531  seconds\n",
      "step  105 of  1000\n"
     ]
    },
    {
     "name": "stderr",
     "output_type": "stream",
     "text": [
      "Traceback (most recent call last):\n",
      "  File \"/home/philcox/Chempy/Chempy/cem_function.py\", line 882, in posterior_function_many_stars\n",
      "    posterior, blobs = posterior_function_many_stars_real(changing_parameter,error_list,elements)\n",
      "  File \"/home/philcox/Chempy/Chempy/cem_function.py\", line 920, in posterior_function_many_stars_real\n",
      "    abundance_list,element_list = posterior_function_returning_predictions(args)\n",
      "  File \"/home/philcox/Chempy/Chempy/cem_function.py\", line 482, in posterior_function_returning_predictions\n",
      "    posterior, abundance_list, element_list = posterior_function_predictions(changing_parameter,a)\n",
      "  File \"/home/philcox/Chempy/Chempy/cem_function.py\", line 492, in posterior_function_predictions\n",
      "    a = extract_parameters_and_priors(changing_parameter, a)\n",
      "  File \"/home/philcox/Chempy/Chempy/cem_function.py\", line 717, in extract_parameters_and_priors\n",
      "    assert False, '%s lower border is violated' %(name)\n",
      "AssertionError: outflow_feedback_fraction lower border is violated\n"
     ]
    },
    {
     "name": "stdout",
     "output_type": "stream",
     "text": [
      "5.22882051364 2.36965702723\n",
      "calculation so far took 79.67132830619812  seconds\n",
      "step  106 of  1000\n",
      "5.22882051364 2.45486124639\n",
      "calculation so far took 80.40302467346191  seconds\n",
      "step  107 of  1000\n",
      "5.22882051364 2.58133082353\n",
      "calculation so far took 81.05327105522156  seconds\n",
      "step  108 of  1000\n"
     ]
    },
    {
     "name": "stderr",
     "output_type": "stream",
     "text": [
      "Traceback (most recent call last):\n",
      "  File \"/home/philcox/Chempy/Chempy/cem_function.py\", line 882, in posterior_function_many_stars\n",
      "    posterior, blobs = posterior_function_many_stars_real(changing_parameter,error_list,elements)\n",
      "  File \"/home/philcox/Chempy/Chempy/cem_function.py\", line 920, in posterior_function_many_stars_real\n",
      "    abundance_list,element_list = posterior_function_returning_predictions(args)\n",
      "  File \"/home/philcox/Chempy/Chempy/cem_function.py\", line 482, in posterior_function_returning_predictions\n",
      "    posterior, abundance_list, element_list = posterior_function_predictions(changing_parameter,a)\n",
      "  File \"/home/philcox/Chempy/Chempy/cem_function.py\", line 492, in posterior_function_predictions\n",
      "    a = extract_parameters_and_priors(changing_parameter, a)\n",
      "  File \"/home/philcox/Chempy/Chempy/cem_function.py\", line 719, in extract_parameters_and_priors\n",
      "    assert False, '%s upper border is violated' %(name)\n",
      "AssertionError: log10_sfr_scale upper border is violated\n"
     ]
    },
    {
     "name": "stdout",
     "output_type": "stream",
     "text": [
      "5.22882051364 2.42816137145\n",
      "calculation so far took 81.82555079460144  seconds\n",
      "step  109 of  1000\n"
     ]
    },
    {
     "name": "stderr",
     "output_type": "stream",
     "text": [
      "Traceback (most recent call last):\n",
      "  File \"/home/philcox/Chempy/Chempy/cem_function.py\", line 882, in posterior_function_many_stars\n",
      "    posterior, blobs = posterior_function_many_stars_real(changing_parameter,error_list,elements)\n",
      "  File \"/home/philcox/Chempy/Chempy/cem_function.py\", line 920, in posterior_function_many_stars_real\n",
      "    abundance_list,element_list = posterior_function_returning_predictions(args)\n",
      "  File \"/home/philcox/Chempy/Chempy/cem_function.py\", line 482, in posterior_function_returning_predictions\n",
      "    posterior, abundance_list, element_list = posterior_function_predictions(changing_parameter,a)\n",
      "  File \"/home/philcox/Chempy/Chempy/cem_function.py\", line 492, in posterior_function_predictions\n",
      "    a = extract_parameters_and_priors(changing_parameter, a)\n",
      "  File \"/home/philcox/Chempy/Chempy/cem_function.py\", line 719, in extract_parameters_and_priors\n",
      "    assert False, '%s upper border is violated' %(name)\n",
      "AssertionError: log10_sfr_scale upper border is violated\n",
      "Traceback (most recent call last):\n",
      "  File \"/home/philcox/Chempy/Chempy/cem_function.py\", line 882, in posterior_function_many_stars\n",
      "    posterior, blobs = posterior_function_many_stars_real(changing_parameter,error_list,elements)\n",
      "  File \"/home/philcox/Chempy/Chempy/cem_function.py\", line 920, in posterior_function_many_stars_real\n",
      "    abundance_list,element_list = posterior_function_returning_predictions(args)\n",
      "  File \"/home/philcox/Chempy/Chempy/cem_function.py\", line 482, in posterior_function_returning_predictions\n",
      "    posterior, abundance_list, element_list = posterior_function_predictions(changing_parameter,a)\n",
      "  File \"/home/philcox/Chempy/Chempy/cem_function.py\", line 507, in posterior_function_predictions\n",
      "    abundance_list,elements_to_trace = cem_real2(a)\n",
      "  File \"/home/philcox/Chempy/Chempy/cem_function.py\", line 337, in cem_real2\n",
      "    a = shorten_sfr(a)\n",
      "  File \"/home/philcox/Chempy/Chempy/cem_function.py\", line 130, in shorten_sfr\n",
      "    assert fraction_of_mean_sfr > 0.05, ('The total SFR of the last age bin is below 5% of the mean SFR', 'stellar identifier = ', a.stellar_identifier, 'star time = ', star_time, 'model time = ', time_model )\n",
      "AssertionError: ('The total SFR of the last age bin is below 5% of the mean SFR', 'stellar identifier = ', 'Proto-sun', 'star time = ', 8.9400000000000013, 'model time = ', 9.0)\n"
     ]
    },
    {
     "name": "stdout",
     "output_type": "stream",
     "text": [
      "5.22882051364 2.40371109148\n",
      "calculation so far took 82.57322287559509  seconds\n",
      "step  110 of  1000\n",
      "5.22882051364 2.42331671294\n",
      "calculation so far took 83.23859786987305  seconds\n",
      "step  111 of  1000\n"
     ]
    },
    {
     "name": "stderr",
     "output_type": "stream",
     "text": [
      "Traceback (most recent call last):\n",
      "  File \"/home/philcox/Chempy/Chempy/cem_function.py\", line 882, in posterior_function_many_stars\n",
      "    posterior, blobs = posterior_function_many_stars_real(changing_parameter,error_list,elements)\n",
      "  File \"/home/philcox/Chempy/Chempy/cem_function.py\", line 920, in posterior_function_many_stars_real\n",
      "    abundance_list,element_list = posterior_function_returning_predictions(args)\n",
      "  File \"/home/philcox/Chempy/Chempy/cem_function.py\", line 482, in posterior_function_returning_predictions\n",
      "    posterior, abundance_list, element_list = posterior_function_predictions(changing_parameter,a)\n",
      "  File \"/home/philcox/Chempy/Chempy/cem_function.py\", line 492, in posterior_function_predictions\n",
      "    a = extract_parameters_and_priors(changing_parameter, a)\n",
      "  File \"/home/philcox/Chempy/Chempy/cem_function.py\", line 719, in extract_parameters_and_priors\n",
      "    assert False, '%s upper border is violated' %(name)\n",
      "AssertionError: outflow_feedback_fraction upper border is violated\n"
     ]
    },
    {
     "name": "stdout",
     "output_type": "stream",
     "text": [
      "5.22882051364 2.48154353509\n",
      "calculation so far took 83.88519883155823  seconds\n",
      "step  112 of  1000\n",
      "5.22882051364 2.55479958619\n",
      "calculation so far took 84.49979209899902  seconds\n",
      "step  113 of  1000\n"
     ]
    },
    {
     "name": "stderr",
     "output_type": "stream",
     "text": [
      "Traceback (most recent call last):\n",
      "  File \"/home/philcox/Chempy/Chempy/cem_function.py\", line 882, in posterior_function_many_stars\n",
      "    posterior, blobs = posterior_function_many_stars_real(changing_parameter,error_list,elements)\n",
      "  File \"/home/philcox/Chempy/Chempy/cem_function.py\", line 920, in posterior_function_many_stars_real\n",
      "    abundance_list,element_list = posterior_function_returning_predictions(args)\n",
      "  File \"/home/philcox/Chempy/Chempy/cem_function.py\", line 482, in posterior_function_returning_predictions\n",
      "    posterior, abundance_list, element_list = posterior_function_predictions(changing_parameter,a)\n",
      "  File \"/home/philcox/Chempy/Chempy/cem_function.py\", line 492, in posterior_function_predictions\n",
      "    a = extract_parameters_and_priors(changing_parameter, a)\n",
      "  File \"/home/philcox/Chempy/Chempy/cem_function.py\", line 719, in extract_parameters_and_priors\n",
      "    assert False, '%s upper border is violated' %(name)\n",
      "AssertionError: log10_sfr_scale upper border is violated\n"
     ]
    },
    {
     "name": "stdout",
     "output_type": "stream",
     "text": [
      "5.22882051364 2.45196079217\n",
      "calculation so far took 85.12875628471375  seconds\n",
      "step  114 of  1000\n"
     ]
    },
    {
     "name": "stderr",
     "output_type": "stream",
     "text": [
      "Traceback (most recent call last):\n",
      "  File \"/home/philcox/Chempy/Chempy/cem_function.py\", line 882, in posterior_function_many_stars\n",
      "    posterior, blobs = posterior_function_many_stars_real(changing_parameter,error_list,elements)\n",
      "  File \"/home/philcox/Chempy/Chempy/cem_function.py\", line 920, in posterior_function_many_stars_real\n",
      "    abundance_list,element_list = posterior_function_returning_predictions(args)\n",
      "  File \"/home/philcox/Chempy/Chempy/cem_function.py\", line 482, in posterior_function_returning_predictions\n",
      "    posterior, abundance_list, element_list = posterior_function_predictions(changing_parameter,a)\n",
      "  File \"/home/philcox/Chempy/Chempy/cem_function.py\", line 492, in posterior_function_predictions\n",
      "    a = extract_parameters_and_priors(changing_parameter, a)\n",
      "  File \"/home/philcox/Chempy/Chempy/cem_function.py\", line 719, in extract_parameters_and_priors\n",
      "    assert False, '%s upper border is violated' %(name)\n",
      "AssertionError: log10_sfr_scale upper border is violated\n"
     ]
    },
    {
     "name": "stdout",
     "output_type": "stream",
     "text": [
      "5.22882051364 2.66218049288\n",
      "calculation so far took 85.76556158065796  seconds\n",
      "step  115 of  1000\n",
      "5.22882051364 2.64514838281\n",
      "calculation so far took 86.38405275344849  seconds\n",
      "step  116 of  1000\n",
      "5.22882051364 2.318689442\n",
      "calculation so far took 86.99720287322998  seconds\n",
      "step  117 of  1000\n"
     ]
    },
    {
     "name": "stderr",
     "output_type": "stream",
     "text": [
      "Traceback (most recent call last):\n",
      "  File \"/home/philcox/Chempy/Chempy/cem_function.py\", line 882, in posterior_function_many_stars\n",
      "    posterior, blobs = posterior_function_many_stars_real(changing_parameter,error_list,elements)\n",
      "  File \"/home/philcox/Chempy/Chempy/cem_function.py\", line 920, in posterior_function_many_stars_real\n",
      "    abundance_list,element_list = posterior_function_returning_predictions(args)\n",
      "  File \"/home/philcox/Chempy/Chempy/cem_function.py\", line 482, in posterior_function_returning_predictions\n",
      "    posterior, abundance_list, element_list = posterior_function_predictions(changing_parameter,a)\n",
      "  File \"/home/philcox/Chempy/Chempy/cem_function.py\", line 492, in posterior_function_predictions\n",
      "    a = extract_parameters_and_priors(changing_parameter, a)\n",
      "  File \"/home/philcox/Chempy/Chempy/cem_function.py\", line 719, in extract_parameters_and_priors\n",
      "    assert False, '%s upper border is violated' %(name)\n",
      "AssertionError: log10_sfr_scale upper border is violated\n"
     ]
    },
    {
     "name": "stdout",
     "output_type": "stream",
     "text": [
      "5.22882051364 2.22754374608\n",
      "calculation so far took 87.64037704467773  seconds\n",
      "step  118 of  1000\n"
     ]
    },
    {
     "name": "stderr",
     "output_type": "stream",
     "text": [
      "Traceback (most recent call last):\n",
      "  File \"/home/philcox/Chempy/Chempy/cem_function.py\", line 882, in posterior_function_many_stars\n",
      "    posterior, blobs = posterior_function_many_stars_real(changing_parameter,error_list,elements)\n",
      "  File \"/home/philcox/Chempy/Chempy/cem_function.py\", line 920, in posterior_function_many_stars_real\n",
      "    abundance_list,element_list = posterior_function_returning_predictions(args)\n",
      "  File \"/home/philcox/Chempy/Chempy/cem_function.py\", line 482, in posterior_function_returning_predictions\n",
      "    posterior, abundance_list, element_list = posterior_function_predictions(changing_parameter,a)\n",
      "  File \"/home/philcox/Chempy/Chempy/cem_function.py\", line 492, in posterior_function_predictions\n",
      "    a = extract_parameters_and_priors(changing_parameter, a)\n",
      "  File \"/home/philcox/Chempy/Chempy/cem_function.py\", line 719, in extract_parameters_and_priors\n",
      "    assert False, '%s upper border is violated' %(name)\n",
      "AssertionError: log10_sfr_scale upper border is violated\n"
     ]
    },
    {
     "name": "stdout",
     "output_type": "stream",
     "text": [
      "5.22882051364 2.11844455764\n",
      "calculation so far took 88.2783842086792  seconds\n",
      "step  119 of  1000\n",
      "5.22882051364 2.04289444011\n",
      "calculation so far took 88.9603762626648  seconds\n",
      "step  120 of  1000\n",
      "5.22882051364 2.11573370343\n",
      "calculation so far took 89.67085075378418  seconds\n",
      "step  121 of  1000\n",
      "5.22882051364 2.02663968997\n",
      "calculation so far took 90.43557810783386  seconds\n",
      "step  122 of  1000\n",
      "5.22882051364 1.97290663332\n",
      "calculation so far took 91.19141387939453  seconds\n",
      "step  123 of  1000\n"
     ]
    },
    {
     "name": "stderr",
     "output_type": "stream",
     "text": [
      "Traceback (most recent call last):\n",
      "  File \"/home/philcox/Chempy/Chempy/cem_function.py\", line 882, in posterior_function_many_stars\n",
      "    posterior, blobs = posterior_function_many_stars_real(changing_parameter,error_list,elements)\n",
      "  File \"/home/philcox/Chempy/Chempy/cem_function.py\", line 920, in posterior_function_many_stars_real\n",
      "    abundance_list,element_list = posterior_function_returning_predictions(args)\n",
      "  File \"/home/philcox/Chempy/Chempy/cem_function.py\", line 482, in posterior_function_returning_predictions\n",
      "    posterior, abundance_list, element_list = posterior_function_predictions(changing_parameter,a)\n",
      "  File \"/home/philcox/Chempy/Chempy/cem_function.py\", line 492, in posterior_function_predictions\n",
      "    a = extract_parameters_and_priors(changing_parameter, a)\n",
      "  File \"/home/philcox/Chempy/Chempy/cem_function.py\", line 719, in extract_parameters_and_priors\n",
      "    assert False, '%s upper border is violated' %(name)\n",
      "AssertionError: log10_sn1a_time_delay upper border is violated\n"
     ]
    },
    {
     "name": "stdout",
     "output_type": "stream",
     "text": [
      "5.22882051364 2.05141734654\n",
      "calculation so far took 91.90059089660645  seconds\n",
      "step  124 of  1000\n"
     ]
    },
    {
     "name": "stderr",
     "output_type": "stream",
     "text": [
      "Traceback (most recent call last):\n",
      "  File \"/home/philcox/Chempy/Chempy/cem_function.py\", line 882, in posterior_function_many_stars\n",
      "    posterior, blobs = posterior_function_many_stars_real(changing_parameter,error_list,elements)\n",
      "  File \"/home/philcox/Chempy/Chempy/cem_function.py\", line 920, in posterior_function_many_stars_real\n",
      "    abundance_list,element_list = posterior_function_returning_predictions(args)\n",
      "  File \"/home/philcox/Chempy/Chempy/cem_function.py\", line 482, in posterior_function_returning_predictions\n",
      "    posterior, abundance_list, element_list = posterior_function_predictions(changing_parameter,a)\n",
      "  File \"/home/philcox/Chempy/Chempy/cem_function.py\", line 507, in posterior_function_predictions\n",
      "    abundance_list,elements_to_trace = cem_real2(a)\n",
      "  File \"/home/philcox/Chempy/Chempy/cem_function.py\", line 337, in cem_real2\n",
      "    a = shorten_sfr(a)\n",
      "  File \"/home/philcox/Chempy/Chempy/cem_function.py\", line 130, in shorten_sfr\n",
      "    assert fraction_of_mean_sfr > 0.05, ('The total SFR of the last age bin is below 5% of the mean SFR', 'stellar identifier = ', a.stellar_identifier, 'star time = ', star_time, 'model time = ', time_model )\n",
      "AssertionError: ('The total SFR of the last age bin is below 5% of the mean SFR', 'stellar identifier = ', 'Proto-sun', 'star time = ', 8.9400000000000013, 'model time = ', 9.0)\n"
     ]
    },
    {
     "name": "stdout",
     "output_type": "stream",
     "text": [
      "5.22882051364 2.47073330115\n",
      "calculation so far took 92.62463641166687  seconds\n",
      "step  125 of  1000\n",
      "5.22882051364 2.36267438442\n",
      "calculation so far took 93.24188756942749  seconds\n",
      "step  126 of  1000\n",
      "5.22882051364 2.10981711348\n",
      "calculation so far took 93.86874127388  seconds\n",
      "step  127 of  1000\n",
      "5.22882051364 2.25407220543\n",
      "calculation so far took 94.48837780952454  seconds\n",
      "step  128 of  1000\n"
     ]
    },
    {
     "name": "stderr",
     "output_type": "stream",
     "text": [
      "Traceback (most recent call last):\n",
      "  File \"/home/philcox/Chempy/Chempy/cem_function.py\", line 882, in posterior_function_many_stars\n",
      "    posterior, blobs = posterior_function_many_stars_real(changing_parameter,error_list,elements)\n",
      "  File \"/home/philcox/Chempy/Chempy/cem_function.py\", line 920, in posterior_function_many_stars_real\n",
      "    abundance_list,element_list = posterior_function_returning_predictions(args)\n",
      "  File \"/home/philcox/Chempy/Chempy/cem_function.py\", line 482, in posterior_function_returning_predictions\n",
      "    posterior, abundance_list, element_list = posterior_function_predictions(changing_parameter,a)\n",
      "  File \"/home/philcox/Chempy/Chempy/cem_function.py\", line 507, in posterior_function_predictions\n",
      "    abundance_list,elements_to_trace = cem_real2(a)\n",
      "  File \"/home/philcox/Chempy/Chempy/cem_function.py\", line 337, in cem_real2\n",
      "    a = shorten_sfr(a)\n",
      "  File \"/home/philcox/Chempy/Chempy/cem_function.py\", line 130, in shorten_sfr\n",
      "    assert fraction_of_mean_sfr > 0.05, ('The total SFR of the last age bin is below 5% of the mean SFR', 'stellar identifier = ', a.stellar_identifier, 'star time = ', star_time, 'model time = ', time_model )\n",
      "AssertionError: ('The total SFR of the last age bin is below 5% of the mean SFR', 'stellar identifier = ', 'Proto-sun', 'star time = ', 8.9400000000000013, 'model time = ', 9.0)\n",
      "Traceback (most recent call last):\n",
      "  File \"/home/philcox/Chempy/Chempy/cem_function.py\", line 882, in posterior_function_many_stars\n",
      "    posterior, blobs = posterior_function_many_stars_real(changing_parameter,error_list,elements)\n",
      "  File \"/home/philcox/Chempy/Chempy/cem_function.py\", line 920, in posterior_function_many_stars_real\n",
      "    abundance_list,element_list = posterior_function_returning_predictions(args)\n",
      "  File \"/home/philcox/Chempy/Chempy/cem_function.py\", line 482, in posterior_function_returning_predictions\n",
      "    posterior, abundance_list, element_list = posterior_function_predictions(changing_parameter,a)\n",
      "  File \"/home/philcox/Chempy/Chempy/cem_function.py\", line 507, in posterior_function_predictions\n",
      "    abundance_list,elements_to_trace = cem_real2(a)\n",
      "  File \"/home/philcox/Chempy/Chempy/cem_function.py\", line 337, in cem_real2\n",
      "    a = shorten_sfr(a)\n",
      "  File \"/home/philcox/Chempy/Chempy/cem_function.py\", line 130, in shorten_sfr\n",
      "    assert fraction_of_mean_sfr > 0.05, ('The total SFR of the last age bin is below 5% of the mean SFR', 'stellar identifier = ', a.stellar_identifier, 'star time = ', star_time, 'model time = ', time_model )\n",
      "AssertionError: ('The total SFR of the last age bin is below 5% of the mean SFR', 'stellar identifier = ', 'Proto-sun', 'star time = ', 8.9400000000000013, 'model time = ', 9.0)\n"
     ]
    },
    {
     "name": "stdout",
     "output_type": "stream",
     "text": [
      "5.22882051364 2.31276386964\n",
      "calculation so far took 95.13459396362305  seconds\n",
      "step  129 of  1000\n",
      "5.22882051364 2.17521678893\n",
      "calculation so far took 95.7762062549591  seconds\n",
      "step  130 of  1000\n",
      "5.22882051364 2.01318693213\n",
      "calculation so far took 96.39578604698181  seconds\n",
      "step  131 of  1000\n"
     ]
    },
    {
     "name": "stderr",
     "output_type": "stream",
     "text": [
      "Traceback (most recent call last):\n",
      "  File \"/home/philcox/Chempy/Chempy/cem_function.py\", line 882, in posterior_function_many_stars\n",
      "    posterior, blobs = posterior_function_many_stars_real(changing_parameter,error_list,elements)\n",
      "  File \"/home/philcox/Chempy/Chempy/cem_function.py\", line 920, in posterior_function_many_stars_real\n",
      "    abundance_list,element_list = posterior_function_returning_predictions(args)\n",
      "  File \"/home/philcox/Chempy/Chempy/cem_function.py\", line 482, in posterior_function_returning_predictions\n",
      "    posterior, abundance_list, element_list = posterior_function_predictions(changing_parameter,a)\n",
      "  File \"/home/philcox/Chempy/Chempy/cem_function.py\", line 492, in posterior_function_predictions\n",
      "    a = extract_parameters_and_priors(changing_parameter, a)\n",
      "  File \"/home/philcox/Chempy/Chempy/cem_function.py\", line 717, in extract_parameters_and_priors\n",
      "    assert False, '%s lower border is violated' %(name)\n",
      "AssertionError: outflow_feedback_fraction lower border is violated\n"
     ]
    },
    {
     "name": "stdout",
     "output_type": "stream",
     "text": [
      "5.22882051364 2.15930120791\n",
      "calculation so far took 97.01036930084229  seconds\n",
      "step  132 of  1000\n",
      "5.22882051364 2.14918329215\n",
      "calculation so far took 97.70966458320618  seconds\n",
      "step  133 of  1000\n"
     ]
    },
    {
     "name": "stderr",
     "output_type": "stream",
     "text": [
      "Traceback (most recent call last):\n",
      "  File \"/home/philcox/Chempy/Chempy/cem_function.py\", line 882, in posterior_function_many_stars\n",
      "    posterior, blobs = posterior_function_many_stars_real(changing_parameter,error_list,elements)\n",
      "  File \"/home/philcox/Chempy/Chempy/cem_function.py\", line 920, in posterior_function_many_stars_real\n",
      "    abundance_list,element_list = posterior_function_returning_predictions(args)\n",
      "  File \"/home/philcox/Chempy/Chempy/cem_function.py\", line 482, in posterior_function_returning_predictions\n",
      "    posterior, abundance_list, element_list = posterior_function_predictions(changing_parameter,a)\n",
      "  File \"/home/philcox/Chempy/Chempy/cem_function.py\", line 492, in posterior_function_predictions\n",
      "    a = extract_parameters_and_priors(changing_parameter, a)\n",
      "  File \"/home/philcox/Chempy/Chempy/cem_function.py\", line 717, in extract_parameters_and_priors\n",
      "    assert False, '%s lower border is violated' %(name)\n",
      "AssertionError: outflow_feedback_fraction lower border is violated\n"
     ]
    },
    {
     "name": "stdout",
     "output_type": "stream",
     "text": [
      "5.22882051364 2.18480122237\n",
      "calculation so far took 98.32905912399292  seconds\n",
      "step  134 of  1000\n",
      "5.22882051364 2.51961254024\n",
      "calculation so far took 98.96887683868408  seconds\n",
      "step  135 of  1000\n",
      "5.22882051364 2.46754324847\n",
      "calculation so far took 99.59258723258972  seconds\n",
      "step  136 of  1000\n",
      "5.22882051364 2.23898196018\n",
      "calculation so far took 100.21420502662659  seconds\n",
      "step  137 of  1000\n",
      "5.22882051364 2.17104989628\n",
      "calculation so far took 100.83373785018921  seconds\n",
      "step  138 of  1000\n",
      "5.22882051364 2.17313697962\n",
      "calculation so far took 101.45370626449585  seconds\n",
      "step  139 of  1000\n",
      "5.22882051364 2.20182393718\n",
      "calculation so far took 102.07280325889587  seconds\n",
      "step  140 of  1000\n",
      "5.22882051364 2.10553169056\n",
      "calculation so far took 102.69045042991638  seconds\n",
      "step  141 of  1000\n"
     ]
    },
    {
     "name": "stderr",
     "output_type": "stream",
     "text": [
      "Traceback (most recent call last):\n",
      "  File \"/home/philcox/Chempy/Chempy/cem_function.py\", line 882, in posterior_function_many_stars\n",
      "    posterior, blobs = posterior_function_many_stars_real(changing_parameter,error_list,elements)\n",
      "  File \"/home/philcox/Chempy/Chempy/cem_function.py\", line 920, in posterior_function_many_stars_real\n",
      "    abundance_list,element_list = posterior_function_returning_predictions(args)\n",
      "  File \"/home/philcox/Chempy/Chempy/cem_function.py\", line 482, in posterior_function_returning_predictions\n",
      "    posterior, abundance_list, element_list = posterior_function_predictions(changing_parameter,a)\n",
      "  File \"/home/philcox/Chempy/Chempy/cem_function.py\", line 507, in posterior_function_predictions\n",
      "    abundance_list,elements_to_trace = cem_real2(a)\n",
      "  File \"/home/philcox/Chempy/Chempy/cem_function.py\", line 337, in cem_real2\n",
      "    a = shorten_sfr(a)\n",
      "  File \"/home/philcox/Chempy/Chempy/cem_function.py\", line 130, in shorten_sfr\n",
      "    assert fraction_of_mean_sfr > 0.05, ('The total SFR of the last age bin is below 5% of the mean SFR', 'stellar identifier = ', a.stellar_identifier, 'star time = ', star_time, 'model time = ', time_model )\n",
      "AssertionError: ('The total SFR of the last age bin is below 5% of the mean SFR', 'stellar identifier = ', 'Proto-sun', 'star time = ', 8.9400000000000013, 'model time = ', 9.0)\n"
     ]
    },
    {
     "name": "stdout",
     "output_type": "stream",
     "text": [
      "5.22882051364 2.31470191242\n",
      "calculation so far took 103.3385579586029  seconds\n",
      "step  142 of  1000\n"
     ]
    },
    {
     "name": "stderr",
     "output_type": "stream",
     "text": [
      "Traceback (most recent call last):\n",
      "  File \"/home/philcox/Chempy/Chempy/cem_function.py\", line 882, in posterior_function_many_stars\n",
      "    posterior, blobs = posterior_function_many_stars_real(changing_parameter,error_list,elements)\n",
      "  File \"/home/philcox/Chempy/Chempy/cem_function.py\", line 920, in posterior_function_many_stars_real\n",
      "    abundance_list,element_list = posterior_function_returning_predictions(args)\n",
      "  File \"/home/philcox/Chempy/Chempy/cem_function.py\", line 482, in posterior_function_returning_predictions\n",
      "    posterior, abundance_list, element_list = posterior_function_predictions(changing_parameter,a)\n",
      "  File \"/home/philcox/Chempy/Chempy/cem_function.py\", line 507, in posterior_function_predictions\n",
      "    abundance_list,elements_to_trace = cem_real2(a)\n",
      "  File \"/home/philcox/Chempy/Chempy/cem_function.py\", line 337, in cem_real2\n",
      "    a = shorten_sfr(a)\n",
      "  File \"/home/philcox/Chempy/Chempy/cem_function.py\", line 130, in shorten_sfr\n",
      "    assert fraction_of_mean_sfr > 0.05, ('The total SFR of the last age bin is below 5% of the mean SFR', 'stellar identifier = ', a.stellar_identifier, 'star time = ', star_time, 'model time = ', time_model )\n",
      "AssertionError: ('The total SFR of the last age bin is below 5% of the mean SFR', 'stellar identifier = ', 'Proto-sun', 'star time = ', 8.9400000000000013, 'model time = ', 9.0)\n"
     ]
    },
    {
     "name": "stdout",
     "output_type": "stream",
     "text": [
      "5.22882051364 2.26727696191\n",
      "calculation so far took 103.99915027618408  seconds\n",
      "step  143 of  1000\n",
      "5.22882051364 2.0020326239\n",
      "calculation so far took 104.62089824676514  seconds\n",
      "step  144 of  1000\n"
     ]
    },
    {
     "name": "stderr",
     "output_type": "stream",
     "text": [
      "Traceback (most recent call last):\n",
      "  File \"/home/philcox/Chempy/Chempy/cem_function.py\", line 882, in posterior_function_many_stars\n",
      "    posterior, blobs = posterior_function_many_stars_real(changing_parameter,error_list,elements)\n",
      "  File \"/home/philcox/Chempy/Chempy/cem_function.py\", line 920, in posterior_function_many_stars_real\n",
      "    abundance_list,element_list = posterior_function_returning_predictions(args)\n",
      "  File \"/home/philcox/Chempy/Chempy/cem_function.py\", line 482, in posterior_function_returning_predictions\n",
      "    posterior, abundance_list, element_list = posterior_function_predictions(changing_parameter,a)\n",
      "  File \"/home/philcox/Chempy/Chempy/cem_function.py\", line 507, in posterior_function_predictions\n",
      "    abundance_list,elements_to_trace = cem_real2(a)\n",
      "  File \"/home/philcox/Chempy/Chempy/cem_function.py\", line 337, in cem_real2\n",
      "    a = shorten_sfr(a)\n",
      "  File \"/home/philcox/Chempy/Chempy/cem_function.py\", line 130, in shorten_sfr\n",
      "    assert fraction_of_mean_sfr > 0.05, ('The total SFR of the last age bin is below 5% of the mean SFR', 'stellar identifier = ', a.stellar_identifier, 'star time = ', star_time, 'model time = ', time_model )\n",
      "AssertionError: ('The total SFR of the last age bin is below 5% of the mean SFR', 'stellar identifier = ', 'Proto-sun', 'star time = ', 8.9400000000000013, 'model time = ', 9.0)\n",
      "Traceback (most recent call last):\n",
      "  File \"/home/philcox/Chempy/Chempy/cem_function.py\", line 882, in posterior_function_many_stars\n",
      "    posterior, blobs = posterior_function_many_stars_real(changing_parameter,error_list,elements)\n",
      "  File \"/home/philcox/Chempy/Chempy/cem_function.py\", line 920, in posterior_function_many_stars_real\n",
      "    abundance_list,element_list = posterior_function_returning_predictions(args)\n",
      "  File \"/home/philcox/Chempy/Chempy/cem_function.py\", line 482, in posterior_function_returning_predictions\n",
      "    posterior, abundance_list, element_list = posterior_function_predictions(changing_parameter,a)\n",
      "  File \"/home/philcox/Chempy/Chempy/cem_function.py\", line 492, in posterior_function_predictions\n",
      "    a = extract_parameters_and_priors(changing_parameter, a)\n",
      "  File \"/home/philcox/Chempy/Chempy/cem_function.py\", line 717, in extract_parameters_and_priors\n",
      "    assert False, '%s lower border is violated' %(name)\n",
      "AssertionError: outflow_feedback_fraction lower border is violated\n"
     ]
    },
    {
     "name": "stdout",
     "output_type": "stream",
     "text": [
      "5.22882051364 2.05826390679\n",
      "calculation so far took 105.28870558738708  seconds\n",
      "step  145 of  1000\n"
     ]
    },
    {
     "name": "stderr",
     "output_type": "stream",
     "text": [
      "Traceback (most recent call last):\n",
      "  File \"/home/philcox/Chempy/Chempy/cem_function.py\", line 882, in posterior_function_many_stars\n",
      "    posterior, blobs = posterior_function_many_stars_real(changing_parameter,error_list,elements)\n",
      "  File \"/home/philcox/Chempy/Chempy/cem_function.py\", line 920, in posterior_function_many_stars_real\n",
      "    abundance_list,element_list = posterior_function_returning_predictions(args)\n",
      "  File \"/home/philcox/Chempy/Chempy/cem_function.py\", line 482, in posterior_function_returning_predictions\n",
      "    posterior, abundance_list, element_list = posterior_function_predictions(changing_parameter,a)\n",
      "  File \"/home/philcox/Chempy/Chempy/cem_function.py\", line 507, in posterior_function_predictions\n",
      "    abundance_list,elements_to_trace = cem_real2(a)\n",
      "  File \"/home/philcox/Chempy/Chempy/cem_function.py\", line 337, in cem_real2\n",
      "    a = shorten_sfr(a)\n",
      "  File \"/home/philcox/Chempy/Chempy/cem_function.py\", line 130, in shorten_sfr\n",
      "    assert fraction_of_mean_sfr > 0.05, ('The total SFR of the last age bin is below 5% of the mean SFR', 'stellar identifier = ', a.stellar_identifier, 'star time = ', star_time, 'model time = ', time_model )\n",
      "AssertionError: ('The total SFR of the last age bin is below 5% of the mean SFR', 'stellar identifier = ', 'Proto-sun', 'star time = ', 8.9400000000000013, 'model time = ', 9.0)\n"
     ]
    },
    {
     "name": "stdout",
     "output_type": "stream",
     "text": [
      "5.22882051364 2.15749959308\n",
      "calculation so far took 106.05288457870483  seconds\n",
      "step  146 of  1000\n",
      "5.22882051364 1.96886962852\n",
      "calculation so far took 106.86144304275513  seconds\n",
      "step  147 of  1000\n",
      "5.22882051364 2.14145022476\n",
      "calculation so far took 107.62143874168396  seconds\n",
      "step  148 of  1000\n",
      "5.22882051364 1.95685261985\n",
      "calculation so far took 108.28032994270325  seconds\n",
      "step  149 of  1000\n",
      "5.22882051364 2.22855316002\n",
      "calculation so far took 109.0181839466095  seconds\n",
      "step  150 of  1000\n",
      "5.22882051364 2.03847435285\n",
      "calculation so far took 109.7647910118103  seconds\n",
      "step  151 of  1000\n"
     ]
    },
    {
     "name": "stderr",
     "output_type": "stream",
     "text": [
      "Traceback (most recent call last):\n",
      "  File \"/home/philcox/Chempy/Chempy/cem_function.py\", line 882, in posterior_function_many_stars\n",
      "    posterior, blobs = posterior_function_many_stars_real(changing_parameter,error_list,elements)\n",
      "  File \"/home/philcox/Chempy/Chempy/cem_function.py\", line 920, in posterior_function_many_stars_real\n",
      "    abundance_list,element_list = posterior_function_returning_predictions(args)\n",
      "  File \"/home/philcox/Chempy/Chempy/cem_function.py\", line 482, in posterior_function_returning_predictions\n",
      "    posterior, abundance_list, element_list = posterior_function_predictions(changing_parameter,a)\n",
      "  File \"/home/philcox/Chempy/Chempy/cem_function.py\", line 507, in posterior_function_predictions\n",
      "    abundance_list,elements_to_trace = cem_real2(a)\n",
      "  File \"/home/philcox/Chempy/Chempy/cem_function.py\", line 337, in cem_real2\n",
      "    a = shorten_sfr(a)\n",
      "  File \"/home/philcox/Chempy/Chempy/cem_function.py\", line 130, in shorten_sfr\n",
      "    assert fraction_of_mean_sfr > 0.05, ('The total SFR of the last age bin is below 5% of the mean SFR', 'stellar identifier = ', a.stellar_identifier, 'star time = ', star_time, 'model time = ', time_model )\n",
      "AssertionError: ('The total SFR of the last age bin is below 5% of the mean SFR', 'stellar identifier = ', 'Proto-sun', 'star time = ', 8.9400000000000013, 'model time = ', 9.0)\n"
     ]
    },
    {
     "name": "stdout",
     "output_type": "stream",
     "text": [
      "5.22882051364 2.05065913976\n",
      "calculation so far took 110.46006417274475  seconds\n",
      "step  152 of  1000\n"
     ]
    },
    {
     "name": "stderr",
     "output_type": "stream",
     "text": [
      "Traceback (most recent call last):\n",
      "  File \"/home/philcox/Chempy/Chempy/cem_function.py\", line 882, in posterior_function_many_stars\n",
      "    posterior, blobs = posterior_function_many_stars_real(changing_parameter,error_list,elements)\n",
      "  File \"/home/philcox/Chempy/Chempy/cem_function.py\", line 920, in posterior_function_many_stars_real\n",
      "    abundance_list,element_list = posterior_function_returning_predictions(args)\n",
      "  File \"/home/philcox/Chempy/Chempy/cem_function.py\", line 482, in posterior_function_returning_predictions\n",
      "    posterior, abundance_list, element_list = posterior_function_predictions(changing_parameter,a)\n",
      "  File \"/home/philcox/Chempy/Chempy/cem_function.py\", line 492, in posterior_function_predictions\n",
      "    a = extract_parameters_and_priors(changing_parameter, a)\n",
      "  File \"/home/philcox/Chempy/Chempy/cem_function.py\", line 719, in extract_parameters_and_priors\n",
      "    assert False, '%s upper border is violated' %(name)\n",
      "AssertionError: log10_sfr_scale upper border is violated\n"
     ]
    },
    {
     "name": "stdout",
     "output_type": "stream",
     "text": [
      "5.22882051364 2.13634831479\n",
      "calculation so far took 111.36296820640564  seconds\n",
      "step  153 of  1000\n",
      "5.22882051364 2.05021857894\n",
      "calculation so far took 112.35325574874878  seconds\n",
      "step  154 of  1000\n",
      "5.22882051364 2.13810458508\n",
      "calculation so far took 113.17825293540955  seconds\n",
      "step  155 of  1000\n"
     ]
    },
    {
     "name": "stderr",
     "output_type": "stream",
     "text": [
      "Traceback (most recent call last):\n",
      "  File \"/home/philcox/Chempy/Chempy/cem_function.py\", line 882, in posterior_function_many_stars\n",
      "    posterior, blobs = posterior_function_many_stars_real(changing_parameter,error_list,elements)\n",
      "  File \"/home/philcox/Chempy/Chempy/cem_function.py\", line 920, in posterior_function_many_stars_real\n",
      "    abundance_list,element_list = posterior_function_returning_predictions(args)\n",
      "  File \"/home/philcox/Chempy/Chempy/cem_function.py\", line 482, in posterior_function_returning_predictions\n",
      "    posterior, abundance_list, element_list = posterior_function_predictions(changing_parameter,a)\n",
      "  File \"/home/philcox/Chempy/Chempy/cem_function.py\", line 492, in posterior_function_predictions\n",
      "    a = extract_parameters_and_priors(changing_parameter, a)\n",
      "  File \"/home/philcox/Chempy/Chempy/cem_function.py\", line 719, in extract_parameters_and_priors\n",
      "    assert False, '%s upper border is violated' %(name)\n",
      "AssertionError: log10_sn1a_time_delay upper border is violated\n"
     ]
    },
    {
     "name": "stdout",
     "output_type": "stream",
     "text": [
      "5.22882051364 2.04557988714\n",
      "calculation so far took 113.82442998886108  seconds\n",
      "step  156 of  1000\n",
      "5.22882051364 2.11015236969\n",
      "calculation so far took 114.4544517993927  seconds\n",
      "step  157 of  1000\n",
      "5.22882051364 2.18083647679\n",
      "calculation so far took 115.08092474937439  seconds\n",
      "step  158 of  1000\n",
      "5.22882051364 2.18820693719\n",
      "calculation so far took 115.70254683494568  seconds\n",
      "step  159 of  1000\n",
      "5.22882051364 2.22128982437\n",
      "calculation so far took 116.31798696517944  seconds\n",
      "step  160 of  1000\n",
      "5.22882051364 2.26202943833\n",
      "calculation so far took 116.9352114200592  seconds\n",
      "step  161 of  1000\n",
      "5.22882051364 2.35883581274\n",
      "calculation so far took 117.55238771438599  seconds\n",
      "step  162 of  1000\n"
     ]
    },
    {
     "name": "stderr",
     "output_type": "stream",
     "text": [
      "Traceback (most recent call last):\n"
     ]
    },
    {
     "name": "stdout",
     "output_type": "stream",
     "text": [
      "5.22882051364 2.3013917059\n",
      "calculation so far took 118.21019387245178  seconds\n",
      "step  163 of  1000\n"
     ]
    },
    {
     "name": "stderr",
     "output_type": "stream",
     "text": [
      "  File \"/home/philcox/Chempy/Chempy/cem_function.py\", line 882, in posterior_function_many_stars\n",
      "    posterior, blobs = posterior_function_many_stars_real(changing_parameter,error_list,elements)\n",
      "  File \"/home/philcox/Chempy/Chempy/cem_function.py\", line 920, in posterior_function_many_stars_real\n",
      "    abundance_list,element_list = posterior_function_returning_predictions(args)\n",
      "  File \"/home/philcox/Chempy/Chempy/cem_function.py\", line 482, in posterior_function_returning_predictions\n",
      "    posterior, abundance_list, element_list = posterior_function_predictions(changing_parameter,a)\n",
      "  File \"/home/philcox/Chempy/Chempy/cem_function.py\", line 492, in posterior_function_predictions\n",
      "    a = extract_parameters_and_priors(changing_parameter, a)\n",
      "  File \"/home/philcox/Chempy/Chempy/cem_function.py\", line 719, in extract_parameters_and_priors\n",
      "    assert False, '%s upper border is violated' %(name)\n",
      "AssertionError: log10_N_0 upper border is violated\n"
     ]
    },
    {
     "name": "stdout",
     "output_type": "stream",
     "text": [
      "5.22882051364 2.38213445277\n",
      "calculation so far took 118.91788744926453  seconds\n",
      "step  164 of  1000\n",
      "5.22882051364 2.63631293552\n",
      "calculation so far took 119.54778552055359  seconds\n",
      "step  165 of  1000\n"
     ]
    },
    {
     "name": "stderr",
     "output_type": "stream",
     "text": [
      "Traceback (most recent call last):\n",
      "  File \"/home/philcox/Chempy/Chempy/cem_function.py\", line 882, in posterior_function_many_stars\n",
      "    posterior, blobs = posterior_function_many_stars_real(changing_parameter,error_list,elements)\n",
      "  File \"/home/philcox/Chempy/Chempy/cem_function.py\", line 920, in posterior_function_many_stars_real\n",
      "    abundance_list,element_list = posterior_function_returning_predictions(args)\n"
     ]
    },
    {
     "name": "stdout",
     "output_type": "stream",
     "text": [
      "5.22882051364 2.3105333455\n",
      "calculation so far took 120.16521215438843  seconds\n",
      "step  166 of  1000\n"
     ]
    },
    {
     "name": "stderr",
     "output_type": "stream",
     "text": [
      "  File \"/home/philcox/Chempy/Chempy/cem_function.py\", line 482, in posterior_function_returning_predictions\n",
      "    posterior, abundance_list, element_list = posterior_function_predictions(changing_parameter,a)\n",
      "  File \"/home/philcox/Chempy/Chempy/cem_function.py\", line 492, in posterior_function_predictions\n",
      "    a = extract_parameters_and_priors(changing_parameter, a)\n",
      "  File \"/home/philcox/Chempy/Chempy/cem_function.py\", line 719, in extract_parameters_and_priors\n",
      "    assert False, '%s upper border is violated' %(name)\n",
      "AssertionError: log10_N_0 upper border is violated\n",
      "Traceback (most recent call last):\n",
      "  File \"/home/philcox/Chempy/Chempy/cem_function.py\", line 882, in posterior_function_many_stars\n",
      "    posterior, blobs = posterior_function_many_stars_real(changing_parameter,error_list,elements)\n",
      "  File \"/home/philcox/Chempy/Chempy/cem_function.py\", line 920, in posterior_function_many_stars_real\n",
      "    abundance_list,element_list = posterior_function_returning_predictions(args)\n",
      "  File \"/home/philcox/Chempy/Chempy/cem_function.py\", line 482, in posterior_function_returning_predictions\n",
      "    posterior, abundance_list, element_list = posterior_function_predictions(changing_parameter,a)\n",
      "  File \"/home/philcox/Chempy/Chempy/cem_function.py\", line 507, in posterior_function_predictions\n",
      "    abundance_list,elements_to_trace = cem_real2(a)\n",
      "  File \"/home/philcox/Chempy/Chempy/cem_function.py\", line 337, in cem_real2\n",
      "    a = shorten_sfr(a)\n",
      "  File \"/home/philcox/Chempy/Chempy/cem_function.py\", line 130, in shorten_sfr\n",
      "    assert fraction_of_mean_sfr > 0.05, ('The total SFR of the last age bin is below 5% of the mean SFR', 'stellar identifier = ', a.stellar_identifier, 'star time = ', star_time, 'model time = ', time_model )\n",
      "AssertionError: ('The total SFR of the last age bin is below 5% of the mean SFR', 'stellar identifier = ', 'Proto-sun', 'star time = ', 8.9400000000000013, 'model time = ', 9.0)\n",
      "Traceback (most recent call last):\n",
      "  File \"/home/philcox/Chempy/Chempy/cem_function.py\", line 882, in posterior_function_many_stars\n",
      "    posterior, blobs = posterior_function_many_stars_real(changing_parameter,error_list,elements)\n",
      "  File \"/home/philcox/Chempy/Chempy/cem_function.py\", line 920, in posterior_function_many_stars_real\n",
      "    abundance_list,element_list = posterior_function_returning_predictions(args)\n",
      "  File \"/home/philcox/Chempy/Chempy/cem_function.py\", line 482, in posterior_function_returning_predictions\n",
      "    posterior, abundance_list, element_list = posterior_function_predictions(changing_parameter,a)\n",
      "  File \"/home/philcox/Chempy/Chempy/cem_function.py\", line 492, in posterior_function_predictions\n",
      "    a = extract_parameters_and_priors(changing_parameter, a)\n",
      "  File \"/home/philcox/Chempy/Chempy/cem_function.py\", line 717, in extract_parameters_and_priors\n",
      "    assert False, '%s lower border is violated' %(name)\n",
      "AssertionError: outflow_feedback_fraction lower border is violated\n"
     ]
    },
    {
     "name": "stdout",
     "output_type": "stream",
     "text": [
      "5.22882051364 2.28872883759\n",
      "calculation so far took 120.84286046028137  seconds\n",
      "step  167 of  1000\n"
     ]
    },
    {
     "name": "stderr",
     "output_type": "stream",
     "text": [
      "Traceback (most recent call last):\n",
      "  File \"/home/philcox/Chempy/Chempy/cem_function.py\", line 882, in posterior_function_many_stars\n",
      "    posterior, blobs = posterior_function_many_stars_real(changing_parameter,error_list,elements)\n",
      "  File \"/home/philcox/Chempy/Chempy/cem_function.py\", line 920, in posterior_function_many_stars_real\n",
      "    abundance_list,element_list = posterior_function_returning_predictions(args)\n",
      "  File \"/home/philcox/Chempy/Chempy/cem_function.py\", line 482, in posterior_function_returning_predictions\n",
      "    posterior, abundance_list, element_list = posterior_function_predictions(changing_parameter,a)\n",
      "  File \"/home/philcox/Chempy/Chempy/cem_function.py\", line 492, in posterior_function_predictions\n",
      "    a = extract_parameters_and_priors(changing_parameter, a)\n",
      "  File \"/home/philcox/Chempy/Chempy/cem_function.py\", line 719, in extract_parameters_and_priors\n",
      "    assert False, '%s upper border is violated' %(name)\n",
      "AssertionError: log10_sfr_scale upper border is violated\n"
     ]
    },
    {
     "name": "stdout",
     "output_type": "stream",
     "text": [
      "5.22882051364 2.24804998697\n",
      "calculation so far took 121.52942514419556  seconds\n",
      "step  168 of  1000\n",
      "5.22882051364 2.38792959315\n",
      "calculation so far took 122.211186170578  seconds\n",
      "step  169 of  1000\n",
      "5.22882051364 2.32388917029\n",
      "calculation so far took 122.84806227684021  seconds\n",
      "step  170 of  1000\n"
     ]
    },
    {
     "name": "stderr",
     "output_type": "stream",
     "text": [
      "Traceback (most recent call last):\n",
      "  File \"/home/philcox/Chempy/Chempy/cem_function.py\", line 882, in posterior_function_many_stars\n",
      "    posterior, blobs = posterior_function_many_stars_real(changing_parameter,error_list,elements)\n",
      "  File \"/home/philcox/Chempy/Chempy/cem_function.py\", line 920, in posterior_function_many_stars_real\n",
      "    abundance_list,element_list = posterior_function_returning_predictions(args)\n",
      "  File \"/home/philcox/Chempy/Chempy/cem_function.py\", line 482, in posterior_function_returning_predictions\n",
      "    posterior, abundance_list, element_list = posterior_function_predictions(changing_parameter,a)\n",
      "  File \"/home/philcox/Chempy/Chempy/cem_function.py\", line 492, in posterior_function_predictions\n",
      "    a = extract_parameters_and_priors(changing_parameter, a)\n",
      "  File \"/home/philcox/Chempy/Chempy/cem_function.py\", line 719, in extract_parameters_and_priors\n",
      "    assert False, '%s upper border is violated' %(name)\n",
      "AssertionError: log10_sn1a_time_delay upper border is violated\n",
      "Traceback (most recent call last):\n",
      "  File \"/home/philcox/Chempy/Chempy/cem_function.py\", line 882, in posterior_function_many_stars\n",
      "    posterior, blobs = posterior_function_many_stars_real(changing_parameter,error_list,elements)\n",
      "  File \"/home/philcox/Chempy/Chempy/cem_function.py\", line 920, in posterior_function_many_stars_real\n",
      "    abundance_list,element_list = posterior_function_returning_predictions(args)\n",
      "  File \"/home/philcox/Chempy/Chempy/cem_function.py\", line 482, in posterior_function_returning_predictions\n",
      "    posterior, abundance_list, element_list = posterior_function_predictions(changing_parameter,a)\n",
      "  File \"/home/philcox/Chempy/Chempy/cem_function.py\", line 492, in posterior_function_predictions\n",
      "    a = extract_parameters_and_priors(changing_parameter, a)\n",
      "  File \"/home/philcox/Chempy/Chempy/cem_function.py\", line 719, in extract_parameters_and_priors\n",
      "    assert False, '%s upper border is violated' %(name)\n",
      "AssertionError: log10_N_0 upper border is violated\n"
     ]
    },
    {
     "name": "stdout",
     "output_type": "stream",
     "text": [
      "5.22882051364 2.27039301155\n",
      "calculation so far took 123.48524832725525  seconds\n",
      "step  171 of  1000\n",
      "5.22882051364 2.01529733565\n",
      "calculation so far took 124.10351324081421  seconds\n",
      "step  172 of  1000\n",
      "5.22882051364 1.81988561214\n",
      "calculation so far took 124.71853137016296  seconds\n",
      "step  173 of  1000\n"
     ]
    },
    {
     "name": "stderr",
     "output_type": "stream",
     "text": [
      "Traceback (most recent call last):\n",
      "  File \"/home/philcox/Chempy/Chempy/cem_function.py\", line 882, in posterior_function_many_stars\n",
      "    posterior, blobs = posterior_function_many_stars_real(changing_parameter,error_list,elements)\n",
      "  File \"/home/philcox/Chempy/Chempy/cem_function.py\", line 920, in posterior_function_many_stars_real\n",
      "    abundance_list,element_list = posterior_function_returning_predictions(args)\n",
      "  File \"/home/philcox/Chempy/Chempy/cem_function.py\", line 482, in posterior_function_returning_predictions\n",
      "    posterior, abundance_list, element_list = posterior_function_predictions(changing_parameter,a)\n",
      "  File \"/home/philcox/Chempy/Chempy/cem_function.py\", line 492, in posterior_function_predictions\n",
      "    a = extract_parameters_and_priors(changing_parameter, a)\n",
      "  File \"/home/philcox/Chempy/Chempy/cem_function.py\", line 719, in extract_parameters_and_priors\n",
      "    assert False, '%s upper border is violated' %(name)\n",
      "AssertionError: log10_starformation_efficiency upper border is violated\n",
      "Traceback (most recent call last):\n",
      "  File \"/home/philcox/Chempy/Chempy/cem_function.py\", line 882, in posterior_function_many_stars\n",
      "    posterior, blobs = posterior_function_many_stars_real(changing_parameter,error_list,elements)\n",
      "  File \"/home/philcox/Chempy/Chempy/cem_function.py\", line 920, in posterior_function_many_stars_real\n",
      "    abundance_list,element_list = posterior_function_returning_predictions(args)\n",
      "  File \"/home/philcox/Chempy/Chempy/cem_function.py\", line 482, in posterior_function_returning_predictions\n",
      "    posterior, abundance_list, element_list = posterior_function_predictions(changing_parameter,a)\n",
      "  File \"/home/philcox/Chempy/Chempy/cem_function.py\", line 492, in posterior_function_predictions\n",
      "    a = extract_parameters_and_priors(changing_parameter, a)\n",
      "  File \"/home/philcox/Chempy/Chempy/cem_function.py\", line 719, in extract_parameters_and_priors\n",
      "    assert False, '%s upper border is violated' %(name)\n",
      "AssertionError: log10_N_0 upper border is violated\n"
     ]
    },
    {
     "name": "stdout",
     "output_type": "stream",
     "text": [
      "5.22882051364 1.82840866805\n",
      "calculation so far took 125.51015114784241  seconds\n",
      "step  174 of  1000\n"
     ]
    },
    {
     "name": "stderr",
     "output_type": "stream",
     "text": [
      "Traceback (most recent call last):\n",
      "  File \"/home/philcox/Chempy/Chempy/cem_function.py\", line 882, in posterior_function_many_stars\n",
      "    posterior, blobs = posterior_function_many_stars_real(changing_parameter,error_list,elements)\n",
      "  File \"/home/philcox/Chempy/Chempy/cem_function.py\", line 920, in posterior_function_many_stars_real\n",
      "    abundance_list,element_list = posterior_function_returning_predictions(args)\n",
      "  File \"/home/philcox/Chempy/Chempy/cem_function.py\", line 482, in posterior_function_returning_predictions\n",
      "    posterior, abundance_list, element_list = posterior_function_predictions(changing_parameter,a)\n",
      "  File \"/home/philcox/Chempy/Chempy/cem_function.py\", line 492, in posterior_function_predictions\n",
      "    a = extract_parameters_and_priors(changing_parameter, a)\n",
      "  File \"/home/philcox/Chempy/Chempy/cem_function.py\", line 719, in extract_parameters_and_priors\n",
      "    assert False, '%s upper border is violated' %(name)\n",
      "AssertionError: log10_sfr_scale upper border is violated\n"
     ]
    },
    {
     "name": "stdout",
     "output_type": "stream",
     "text": [
      "5.22882051364 1.80229015629\n",
      "calculation so far took 126.16218852996826  seconds\n",
      "step  175 of  1000\n",
      "5.22882051364 1.98103440844\n",
      "calculation so far took 126.93548822402954  seconds\n",
      "step  176 of  1000\n"
     ]
    },
    {
     "name": "stderr",
     "output_type": "stream",
     "text": [
      "Traceback (most recent call last):\n",
      "  File \"/home/philcox/Chempy/Chempy/cem_function.py\", line 882, in posterior_function_many_stars\n",
      "    posterior, blobs = posterior_function_many_stars_real(changing_parameter,error_list,elements)\n",
      "  File \"/home/philcox/Chempy/Chempy/cem_function.py\", line 920, in posterior_function_many_stars_real\n",
      "    abundance_list,element_list = posterior_function_returning_predictions(args)\n",
      "  File \"/home/philcox/Chempy/Chempy/cem_function.py\", line 482, in posterior_function_returning_predictions\n",
      "    posterior, abundance_list, element_list = posterior_function_predictions(changing_parameter,a)\n",
      "  File \"/home/philcox/Chempy/Chempy/cem_function.py\", line 492, in posterior_function_predictions\n",
      "    a = extract_parameters_and_priors(changing_parameter, a)\n",
      "  File \"/home/philcox/Chempy/Chempy/cem_function.py\", line 719, in extract_parameters_and_priors\n",
      "    assert False, '%s upper border is violated' %(name)\n",
      "AssertionError: log10_N_0 upper border is violated\n"
     ]
    },
    {
     "name": "stdout",
     "output_type": "stream",
     "text": [
      "5.22882051364 2.08455934967\n",
      "calculation so far took 127.687992811203  seconds\n",
      "step  177 of  1000\n",
      "5.22882051364 2.14391939006\n",
      "calculation so far took 128.47779846191406  seconds\n",
      "step  178 of  1000\n"
     ]
    },
    {
     "name": "stderr",
     "output_type": "stream",
     "text": [
      "Traceback (most recent call last):\n",
      "  File \"/home/philcox/Chempy/Chempy/cem_function.py\", line 882, in posterior_function_many_stars\n",
      "    posterior, blobs = posterior_function_many_stars_real(changing_parameter,error_list,elements)\n",
      "  File \"/home/philcox/Chempy/Chempy/cem_function.py\", line 920, in posterior_function_many_stars_real\n",
      "    abundance_list,element_list = posterior_function_returning_predictions(args)\n",
      "  File \"/home/philcox/Chempy/Chempy/cem_function.py\", line 482, in posterior_function_returning_predictions\n",
      "    posterior, abundance_list, element_list = posterior_function_predictions(changing_parameter,a)\n",
      "  File \"/home/philcox/Chempy/Chempy/cem_function.py\", line 492, in posterior_function_predictions\n",
      "    a = extract_parameters_and_priors(changing_parameter, a)\n",
      "  File \"/home/philcox/Chempy/Chempy/cem_function.py\", line 719, in extract_parameters_and_priors\n",
      "    assert False, '%s upper border is violated' %(name)\n",
      "AssertionError: log10_sfr_scale upper border is violated\n",
      "Traceback (most recent call last):\n",
      "  File \"/home/philcox/Chempy/Chempy/cem_function.py\", line 882, in posterior_function_many_stars\n",
      "    posterior, blobs = posterior_function_many_stars_real(changing_parameter,error_list,elements)\n",
      "  File \"/home/philcox/Chempy/Chempy/cem_function.py\", line 920, in posterior_function_many_stars_real\n",
      "    abundance_list,element_list = posterior_function_returning_predictions(args)\n",
      "  File \"/home/philcox/Chempy/Chempy/cem_function.py\", line 482, in posterior_function_returning_predictions\n",
      "    posterior, abundance_list, element_list = posterior_function_predictions(changing_parameter,a)\n",
      "  File \"/home/philcox/Chempy/Chempy/cem_function.py\", line 492, in posterior_function_predictions\n",
      "    a = extract_parameters_and_priors(changing_parameter, a)\n",
      "  File \"/home/philcox/Chempy/Chempy/cem_function.py\", line 719, in extract_parameters_and_priors\n",
      "    assert False, '%s upper border is violated' %(name)\n",
      "AssertionError: log10_N_0 upper border is violated\n"
     ]
    },
    {
     "name": "stdout",
     "output_type": "stream",
     "text": [
      "5.22882051364 1.98771957594\n",
      "calculation so far took 129.18191719055176  seconds\n",
      "step  179 of  1000\n"
     ]
    },
    {
     "name": "stderr",
     "output_type": "stream",
     "text": [
      "Traceback (most recent call last):\n",
      "  File \"/home/philcox/Chempy/Chempy/cem_function.py\", line 882, in posterior_function_many_stars\n",
      "    posterior, blobs = posterior_function_many_stars_real(changing_parameter,error_list,elements)\n",
      "  File \"/home/philcox/Chempy/Chempy/cem_function.py\", line 920, in posterior_function_many_stars_real\n",
      "    abundance_list,element_list = posterior_function_returning_predictions(args)\n",
      "  File \"/home/philcox/Chempy/Chempy/cem_function.py\", line 482, in posterior_function_returning_predictions\n",
      "    posterior, abundance_list, element_list = posterior_function_predictions(changing_parameter,a)\n",
      "  File \"/home/philcox/Chempy/Chempy/cem_function.py\", line 492, in posterior_function_predictions\n",
      "    a = extract_parameters_and_priors(changing_parameter, a)\n",
      "  File \"/home/philcox/Chempy/Chempy/cem_function.py\", line 719, in extract_parameters_and_priors\n",
      "    assert False, '%s upper border is violated' %(name)\n",
      "AssertionError: log10_sfr_scale upper border is violated\n"
     ]
    },
    {
     "name": "stdout",
     "output_type": "stream",
     "text": [
      "5.22882051364 2.23319590712\n",
      "calculation so far took 129.8418834209442  seconds\n",
      "step  180 of  1000\n",
      "5.22882051364 2.11986554689\n",
      "calculation so far took 130.47925972938538  seconds\n",
      "step  181 of  1000\n",
      "5.22882051364 2.06537341328\n",
      "calculation so far took 131.1622405052185  seconds\n",
      "step  182 of  1000\n",
      "5.22882051364 2.27815063228\n",
      "calculation so far took 131.9088273048401  seconds\n",
      "step  183 of  1000\n",
      "5.22882051364 2.29816217157\n",
      "calculation so far took 132.5981879234314  seconds\n",
      "step  184 of  1000\n",
      "5.22882051364 2.51330664316\n",
      "calculation so far took 133.21550464630127  seconds\n",
      "step  185 of  1000\n",
      "5.22882051364 2.56572285502\n",
      "calculation so far took 133.83262062072754  seconds\n",
      "step  186 of  1000\n"
     ]
    },
    {
     "name": "stderr",
     "output_type": "stream",
     "text": [
      "Traceback (most recent call last):\n",
      "  File \"/home/philcox/Chempy/Chempy/cem_function.py\", line 882, in posterior_function_many_stars\n",
      "    posterior, blobs = posterior_function_many_stars_real(changing_parameter,error_list,elements)\n",
      "  File \"/home/philcox/Chempy/Chempy/cem_function.py\", line 920, in posterior_function_many_stars_real\n",
      "    abundance_list,element_list = posterior_function_returning_predictions(args)\n",
      "  File \"/home/philcox/Chempy/Chempy/cem_function.py\", line 482, in posterior_function_returning_predictions\n",
      "    posterior, abundance_list, element_list = posterior_function_predictions(changing_parameter,a)\n",
      "  File \"/home/philcox/Chempy/Chempy/cem_function.py\", line 492, in posterior_function_predictions\n",
      "    a = extract_parameters_and_priors(changing_parameter, a)\n",
      "  File \"/home/philcox/Chempy/Chempy/cem_function.py\", line 719, in extract_parameters_and_priors\n",
      "    assert False, '%s upper border is violated' %(name)\n",
      "AssertionError: log10_sn1a_time_delay upper border is violated\n",
      "Traceback (most recent call last):\n",
      "  File \"/home/philcox/Chempy/Chempy/cem_function.py\", line 882, in posterior_function_many_stars\n",
      "    posterior, blobs = posterior_function_many_stars_real(changing_parameter,error_list,elements)\n",
      "  File \"/home/philcox/Chempy/Chempy/cem_function.py\", line 920, in posterior_function_many_stars_real\n",
      "    abundance_list,element_list = posterior_function_returning_predictions(args)\n",
      "  File \"/home/philcox/Chempy/Chempy/cem_function.py\", line 482, in posterior_function_returning_predictions\n",
      "    posterior, abundance_list, element_list = posterior_function_predictions(changing_parameter,a)\n",
      "  File \"/home/philcox/Chempy/Chempy/cem_function.py\", line 507, in posterior_function_predictions\n",
      "    abundance_list,elements_to_trace = cem_real2(a)\n",
      "  File \"/home/philcox/Chempy/Chempy/cem_function.py\", line 337, in cem_real2\n",
      "    a = shorten_sfr(a)\n",
      "  File \"/home/philcox/Chempy/Chempy/cem_function.py\", line 130, in shorten_sfr\n",
      "    assert fraction_of_mean_sfr > 0.05, ('The total SFR of the last age bin is below 5% of the mean SFR', 'stellar identifier = ', a.stellar_identifier, 'star time = ', star_time, 'model time = ', time_model )\n",
      "AssertionError: ('The total SFR of the last age bin is below 5% of the mean SFR', 'stellar identifier = ', 'Proto-sun', 'star time = ', 8.9400000000000013, 'model time = ', 9.0)\n"
     ]
    },
    {
     "name": "stdout",
     "output_type": "stream",
     "text": [
      "5.22882051364 2.53387496986\n",
      "calculation so far took 134.5046145915985  seconds\n",
      "step  187 of  1000\n",
      "5.22882051364 2.37534232547\n",
      "calculation so far took 135.21253180503845  seconds\n",
      "step  188 of  1000\n",
      "5.22882051364 2.44725543712\n",
      "calculation so far took 136.0415163040161  seconds\n",
      "step  189 of  1000\n"
     ]
    },
    {
     "name": "stderr",
     "output_type": "stream",
     "text": [
      "Traceback (most recent call last):\n",
      "  File \"/home/philcox/Chempy/Chempy/cem_function.py\", line 882, in posterior_function_many_stars\n",
      "    posterior, blobs = posterior_function_many_stars_real(changing_parameter,error_list,elements)\n",
      "  File \"/home/philcox/Chempy/Chempy/cem_function.py\", line 920, in posterior_function_many_stars_real\n",
      "    abundance_list,element_list = posterior_function_returning_predictions(args)\n",
      "  File \"/home/philcox/Chempy/Chempy/cem_function.py\", line 482, in posterior_function_returning_predictions\n",
      "    posterior, abundance_list, element_list = posterior_function_predictions(changing_parameter,a)\n",
      "  File \"/home/philcox/Chempy/Chempy/cem_function.py\", line 492, in posterior_function_predictions\n",
      "    a = extract_parameters_and_priors(changing_parameter, a)\n",
      "  File \"/home/philcox/Chempy/Chempy/cem_function.py\", line 719, in extract_parameters_and_priors\n",
      "    assert False, '%s upper border is violated' %(name)\n",
      "AssertionError: outflow_feedback_fraction upper border is violated\n"
     ]
    },
    {
     "name": "stdout",
     "output_type": "stream",
     "text": [
      "5.22882051364 2.46018876822\n",
      "calculation so far took 136.82083296775818  seconds\n",
      "step  190 of  1000\n",
      "5.22882051364 2.33405198781\n",
      "calculation so far took 137.52764058113098  seconds\n",
      "step  191 of  1000\n"
     ]
    },
    {
     "name": "stderr",
     "output_type": "stream",
     "text": [
      "Traceback (most recent call last):\n",
      "  File \"/home/philcox/Chempy/Chempy/cem_function.py\", line 882, in posterior_function_many_stars\n",
      "    posterior, blobs = posterior_function_many_stars_real(changing_parameter,error_list,elements)\n",
      "  File \"/home/philcox/Chempy/Chempy/cem_function.py\", line 920, in posterior_function_many_stars_real\n",
      "    abundance_list,element_list = posterior_function_returning_predictions(args)\n",
      "  File \"/home/philcox/Chempy/Chempy/cem_function.py\", line 482, in posterior_function_returning_predictions\n",
      "    posterior, abundance_list, element_list = posterior_function_predictions(changing_parameter,a)\n",
      "  File \"/home/philcox/Chempy/Chempy/cem_function.py\", line 492, in posterior_function_predictions\n",
      "    a = extract_parameters_and_priors(changing_parameter, a)\n",
      "  File \"/home/philcox/Chempy/Chempy/cem_function.py\", line 719, in extract_parameters_and_priors\n",
      "    assert False, '%s upper border is violated' %(name)\n",
      "AssertionError: outflow_feedback_fraction upper border is violated\n"
     ]
    },
    {
     "name": "stdout",
     "output_type": "stream",
     "text": [
      "5.22882051364 1.93911134278\n",
      "calculation so far took 138.1992154121399  seconds\n",
      "step  192 of  1000\n",
      "5.22882051364 2.23516617797\n",
      "calculation so far took 138.9049859046936  seconds\n",
      "step  193 of  1000\n",
      "5.22882051364 2.07764274521\n",
      "calculation so far took 139.66475677490234  seconds\n",
      "step  194 of  1000\n",
      "5.22882051364 2.12869982139\n",
      "calculation so far took 140.3481433391571  seconds\n",
      "step  195 of  1000\n",
      "5.22882051364 2.23692738036\n",
      "calculation so far took 140.97284364700317  seconds\n",
      "step  196 of  1000\n"
     ]
    },
    {
     "name": "stderr",
     "output_type": "stream",
     "text": [
      "Traceback (most recent call last):\n",
      "  File \"/home/philcox/Chempy/Chempy/cem_function.py\", line 882, in posterior_function_many_stars\n",
      "    posterior, blobs = posterior_function_many_stars_real(changing_parameter,error_list,elements)\n",
      "  File \"/home/philcox/Chempy/Chempy/cem_function.py\", line 920, in posterior_function_many_stars_real\n",
      "    abundance_list,element_list = posterior_function_returning_predictions(args)\n",
      "  File \"/home/philcox/Chempy/Chempy/cem_function.py\", line 482, in posterior_function_returning_predictions\n",
      "    posterior, abundance_list, element_list = posterior_function_predictions(changing_parameter,a)\n",
      "  File \"/home/philcox/Chempy/Chempy/cem_function.py\", line 492, in posterior_function_predictions\n",
      "    a = extract_parameters_and_priors(changing_parameter, a)\n",
      "  File \"/home/philcox/Chempy/Chempy/cem_function.py\", line 719, in extract_parameters_and_priors\n",
      "    assert False, '%s upper border is violated' %(name)\n",
      "AssertionError: log10_sfr_scale upper border is violated\n",
      "Traceback (most recent call last):\n",
      "  File \"/home/philcox/Chempy/Chempy/cem_function.py\", line 882, in posterior_function_many_stars\n",
      "    posterior, blobs = posterior_function_many_stars_real(changing_parameter,error_list,elements)\n",
      "  File \"/home/philcox/Chempy/Chempy/cem_function.py\", line 920, in posterior_function_many_stars_real\n",
      "    abundance_list,element_list = posterior_function_returning_predictions(args)\n",
      "  File \"/home/philcox/Chempy/Chempy/cem_function.py\", line 482, in posterior_function_returning_predictions\n",
      "    posterior, abundance_list, element_list = posterior_function_predictions(changing_parameter,a)\n",
      "  File \"/home/philcox/Chempy/Chempy/cem_function.py\", line 492, in posterior_function_predictions\n",
      "    a = extract_parameters_and_priors(changing_parameter, a)\n",
      "  File \"/home/philcox/Chempy/Chempy/cem_function.py\", line 717, in extract_parameters_and_priors\n",
      "    assert False, '%s lower border is violated' %(name)\n",
      "AssertionError: log10_starformation_efficiency lower border is violated\n"
     ]
    },
    {
     "name": "stdout",
     "output_type": "stream",
     "text": [
      "5.22882051364 2.09406433277\n",
      "calculation so far took 141.71960759162903  seconds\n",
      "step  197 of  1000\n",
      "5.22882051364 1.98450594621\n",
      "calculation so far took 142.34378933906555  seconds\n",
      "step  198 of  1000\n",
      "5.22882051364 1.95804124835\n",
      "calculation so far took 142.99069738388062  seconds\n",
      "step  199 of  1000\n",
      "5.22882051364 2.02148602231\n",
      "calculation so far took 143.65785336494446  seconds\n",
      "step  200 of  1000\n"
     ]
    },
    {
     "name": "stderr",
     "output_type": "stream",
     "text": [
      "Traceback (most recent call last):\n",
      "  File \"/home/philcox/Chempy/Chempy/cem_function.py\", line 882, in posterior_function_many_stars\n",
      "    posterior, blobs = posterior_function_many_stars_real(changing_parameter,error_list,elements)\n",
      "  File \"/home/philcox/Chempy/Chempy/cem_function.py\", line 920, in posterior_function_many_stars_real\n",
      "    abundance_list,element_list = posterior_function_returning_predictions(args)\n",
      "  File \"/home/philcox/Chempy/Chempy/cem_function.py\", line 482, in posterior_function_returning_predictions\n",
      "    posterior, abundance_list, element_list = posterior_function_predictions(changing_parameter,a)\n",
      "  File \"/home/philcox/Chempy/Chempy/cem_function.py\", line 492, in posterior_function_predictions\n",
      "    a = extract_parameters_and_priors(changing_parameter, a)\n",
      "  File \"/home/philcox/Chempy/Chempy/cem_function.py\", line 719, in extract_parameters_and_priors\n",
      "    assert False, '%s upper border is violated' %(name)\n",
      "AssertionError: log10_sfr_scale upper border is violated\n",
      "Traceback (most recent call last):\n",
      "  File \"/home/philcox/Chempy/Chempy/cem_function.py\", line 882, in posterior_function_many_stars\n",
      "    posterior, blobs = posterior_function_many_stars_real(changing_parameter,error_list,elements)\n",
      "  File \"/home/philcox/Chempy/Chempy/cem_function.py\", line 920, in posterior_function_many_stars_real\n",
      "    abundance_list,element_list = posterior_function_returning_predictions(args)\n",
      "  File \"/home/philcox/Chempy/Chempy/cem_function.py\", line 482, in posterior_function_returning_predictions\n",
      "    posterior, abundance_list, element_list = posterior_function_predictions(changing_parameter,a)\n",
      "  File \"/home/philcox/Chempy/Chempy/cem_function.py\", line 492, in posterior_function_predictions\n",
      "    a = extract_parameters_and_priors(changing_parameter, a)\n",
      "  File \"/home/philcox/Chempy/Chempy/cem_function.py\", line 719, in extract_parameters_and_priors\n",
      "    assert False, '%s upper border is violated' %(name)\n",
      "AssertionError: log10_sfr_scale upper border is violated\n"
     ]
    },
    {
     "name": "stdout",
     "output_type": "stream",
     "text": [
      "5.22882051364 2.01481161265\n",
      "calculation so far took 144.36077904701233  seconds\n",
      "step  201 of  1000\n",
      "5.22882051364 2.34518185722\n",
      "calculation so far took 145.03655123710632  seconds\n",
      "step  202 of  1000\n",
      "5.22882051364 2.37819899949\n",
      "calculation so far took 145.70304465293884  seconds\n",
      "step  203 of  1000\n",
      "5.22882051364 2.21907070075\n",
      "calculation so far took 146.62861156463623  seconds\n",
      "step  204 of  1000\n",
      "5.22882051364 2.24025004867\n",
      "posterior -1, -100, -200 2.24025004867 2.36965702723 5.17819563575\n",
      "posterior 0, 100, 200 5.22882051364 2.53188697603 2.01481161265\n",
      "calculation so far took 147.43709301948547  seconds\n",
      "step  205 of  1000\n",
      "5.22882051364 2.19560105965\n",
      "posterior -1, -100, -200 2.19560105965 2.45486124639 5.11047727601\n",
      "posterior 0, 100, 200 5.22882051364 2.53188697603 2.01481161265\n",
      "calculation so far took 148.07282328605652  seconds\n",
      "step  206 of  1000\n",
      "5.22882051364 2.16608868149\n",
      "posterior -1, -100, -200 2.16608868149 2.58133082353 4.97105190984\n",
      "posterior 0, 100, 200 5.22882051364 2.53188697603 2.01481161265\n",
      "calculation so far took 148.73309636116028  seconds\n",
      "step  207 of  1000\n",
      "5.22882051364 2.41895174187\n",
      "posterior -1, -100, -200 2.41895174187 2.42816137145 4.73099024132\n",
      "posterior 0, 100, 200 5.22882051364 2.53188697603 2.01481161265\n",
      "calculation so far took 149.37831330299377  seconds\n",
      "step  208 of  1000\n",
      "5.22882051364 2.44161335467\n",
      "posterior -1, -100, -200 2.44161335467 2.40371109148 4.37984959409\n",
      "posterior 0, 100, 200 5.22882051364 2.53188697603 2.01481161265\n",
      "calculation so far took 150.22851514816284  seconds\n",
      "step  209 of  1000\n",
      "5.22882051364 2.53448065783\n",
      "posterior -1, -100, -200 2.53448065783 2.42331671294 4.20645469075\n",
      "posterior 0, 100, 200 5.22882051364 2.53188697603 2.01481161265\n",
      "calculation so far took 150.92408895492554  seconds\n",
      "step  210 of  1000\n",
      "5.22882051364 2.49659249742\n",
      "posterior -1, -100, -200 2.49659249742 2.48154353509 4.20442295445\n",
      "posterior 0, 100, 200 5.22882051364 2.53188697603 2.01481161265\n",
      "calculation so far took 151.5767216682434  seconds\n",
      "step  211 of  1000\n",
      "5.22882051364 2.53006864598\n",
      "posterior -1, -100, -200 2.53006864598 2.55479958619 3.72350912\n",
      "posterior 0, 100, 200 5.22882051364 2.53188697603 2.01481161265\n",
      "calculation so far took 152.19952630996704  seconds\n",
      "step  212 of  1000\n"
     ]
    },
    {
     "name": "stderr",
     "output_type": "stream",
     "text": [
      "Traceback (most recent call last):\n",
      "  File \"/home/philcox/Chempy/Chempy/cem_function.py\", line 882, in posterior_function_many_stars\n",
      "    posterior, blobs = posterior_function_many_stars_real(changing_parameter,error_list,elements)\n",
      "  File \"/home/philcox/Chempy/Chempy/cem_function.py\", line 920, in posterior_function_many_stars_real\n",
      "    abundance_list,element_list = posterior_function_returning_predictions(args)\n",
      "  File \"/home/philcox/Chempy/Chempy/cem_function.py\", line 482, in posterior_function_returning_predictions\n",
      "    posterior, abundance_list, element_list = posterior_function_predictions(changing_parameter,a)\n",
      "  File \"/home/philcox/Chempy/Chempy/cem_function.py\", line 492, in posterior_function_predictions\n",
      "    a = extract_parameters_and_priors(changing_parameter, a)\n",
      "  File \"/home/philcox/Chempy/Chempy/cem_function.py\", line 719, in extract_parameters_and_priors\n",
      "    assert False, '%s upper border is violated' %(name)\n",
      "AssertionError: outflow_feedback_fraction upper border is violated\n"
     ]
    },
    {
     "name": "stdout",
     "output_type": "stream",
     "text": [
      "5.22882051364 2.55974162729\n",
      "posterior -1, -100, -200 2.55974162729 2.45196079217 3.79805278345\n",
      "posterior 0, 100, 200 5.22882051364 2.53188697603 2.01481161265\n",
      "calculation so far took 152.93142938613892  seconds\n",
      "step  213 of  1000\n",
      "5.22882051364 2.58313378961\n",
      "posterior -1, -100, -200 2.58313378961 2.66218049288 3.59233299697\n",
      "posterior 0, 100, 200 5.22882051364 2.53188697603 2.01481161265\n",
      "calculation so far took 153.55433249473572  seconds\n",
      "step  214 of  1000\n",
      "5.22882051364 2.42631313736\n",
      "posterior -1, -100, -200 2.42631313736 2.64514838281 3.52029724939\n",
      "posterior 0, 100, 200 5.22882051364 2.53188697603 2.01481161265\n",
      "calculation so far took 154.56248879432678  seconds\n",
      "step  215 of  1000\n"
     ]
    },
    {
     "name": "stderr",
     "output_type": "stream",
     "text": [
      "Traceback (most recent call last):\n",
      "  File \"/home/philcox/Chempy/Chempy/cem_function.py\", line 882, in posterior_function_many_stars\n",
      "    posterior, blobs = posterior_function_many_stars_real(changing_parameter,error_list,elements)\n",
      "  File \"/home/philcox/Chempy/Chempy/cem_function.py\", line 920, in posterior_function_many_stars_real\n",
      "    abundance_list,element_list = posterior_function_returning_predictions(args)\n",
      "  File \"/home/philcox/Chempy/Chempy/cem_function.py\", line 482, in posterior_function_returning_predictions\n",
      "    posterior, abundance_list, element_list = posterior_function_predictions(changing_parameter,a)\n",
      "  File \"/home/philcox/Chempy/Chempy/cem_function.py\", line 492, in posterior_function_predictions\n",
      "    a = extract_parameters_and_priors(changing_parameter, a)\n",
      "  File \"/home/philcox/Chempy/Chempy/cem_function.py\", line 719, in extract_parameters_and_priors\n",
      "    assert False, '%s upper border is violated' %(name)\n",
      "AssertionError: log10_sfr_scale upper border is violated\n",
      "Traceback (most recent call last):\n",
      "  File \"/home/philcox/Chempy/Chempy/cem_function.py\", line 882, in posterior_function_many_stars\n",
      "    posterior, blobs = posterior_function_many_stars_real(changing_parameter,error_list,elements)\n",
      "  File \"/home/philcox/Chempy/Chempy/cem_function.py\", line 920, in posterior_function_many_stars_real\n",
      "    abundance_list,element_list = posterior_function_returning_predictions(args)\n",
      "  File \"/home/philcox/Chempy/Chempy/cem_function.py\", line 482, in posterior_function_returning_predictions\n",
      "    posterior, abundance_list, element_list = posterior_function_predictions(changing_parameter,a)\n",
      "  File \"/home/philcox/Chempy/Chempy/cem_function.py\", line 507, in posterior_function_predictions\n",
      "    abundance_list,elements_to_trace = cem_real2(a)\n",
      "  File \"/home/philcox/Chempy/Chempy/cem_function.py\", line 337, in cem_real2\n",
      "    a = shorten_sfr(a)\n",
      "  File \"/home/philcox/Chempy/Chempy/cem_function.py\", line 130, in shorten_sfr\n",
      "    assert fraction_of_mean_sfr > 0.05, ('The total SFR of the last age bin is below 5% of the mean SFR', 'stellar identifier = ', a.stellar_identifier, 'star time = ', star_time, 'model time = ', time_model )\n",
      "AssertionError: ('The total SFR of the last age bin is below 5% of the mean SFR', 'stellar identifier = ', 'Proto-sun', 'star time = ', 8.9400000000000013, 'model time = ', 9.0)\n"
     ]
    },
    {
     "name": "stdout",
     "output_type": "stream",
     "text": [
      "5.22882051364 2.3309115223\n",
      "posterior -1, -100, -200 2.3309115223 2.318689442 3.47492529935\n",
      "posterior 0, 100, 200 5.22882051364 2.53188697603 2.01481161265\n",
      "calculation so far took 155.36799883842468  seconds\n",
      "step  216 of  1000\n",
      "5.22882051364 2.39694008348\n",
      "posterior -1, -100, -200 2.39694008348 2.22754374608 3.42968148404\n",
      "posterior 0, 100, 200 5.22882051364 2.53188697603 2.01481161265\n",
      "calculation so far took 155.9925787448883  seconds\n",
      "step  217 of  1000\n",
      "5.22882051364 2.54476175801\n",
      "posterior -1, -100, -200 2.54476175801 2.11844455764 3.57398292595\n",
      "posterior 0, 100, 200 5.22882051364 2.53188697603 2.01481161265\n",
      "calculation so far took 156.61137318611145  seconds\n",
      "step  218 of  1000\n",
      "5.22882051364 2.53027941495\n",
      "posterior -1, -100, -200 2.53027941495 2.04289444011 3.55107807715\n",
      "posterior 0, 100, 200 5.22882051364 2.53188697603 2.01481161265\n",
      "calculation so far took 157.24974822998047  seconds\n",
      "step  219 of  1000\n",
      "5.22882051364 2.40886272031\n",
      "posterior -1, -100, -200 2.40886272031 2.11573370343 3.35947548069\n",
      "posterior 0, 100, 200 5.22882051364 2.53188697603 2.01481161265\n",
      "calculation so far took 157.87314820289612  seconds\n",
      "step  220 of  1000\n",
      "5.22882051364 2.47520547612\n",
      "posterior -1, -100, -200 2.47520547612 2.02663968997 3.528054035\n",
      "posterior 0, 100, 200 5.22882051364 2.53188697603 2.01481161265\n",
      "calculation so far took 158.49506950378418  seconds\n",
      "step  221 of  1000\n"
     ]
    },
    {
     "name": "stderr",
     "output_type": "stream",
     "text": [
      "Traceback (most recent call last):\n",
      "  File \"/home/philcox/Chempy/Chempy/cem_function.py\", line 882, in posterior_function_many_stars\n",
      "    posterior, blobs = posterior_function_many_stars_real(changing_parameter,error_list,elements)\n",
      "  File \"/home/philcox/Chempy/Chempy/cem_function.py\", line 920, in posterior_function_many_stars_real\n",
      "    abundance_list,element_list = posterior_function_returning_predictions(args)\n",
      "  File \"/home/philcox/Chempy/Chempy/cem_function.py\", line 482, in posterior_function_returning_predictions\n",
      "    posterior, abundance_list, element_list = posterior_function_predictions(changing_parameter,a)\n",
      "  File \"/home/philcox/Chempy/Chempy/cem_function.py\", line 492, in posterior_function_predictions\n",
      "    a = extract_parameters_and_priors(changing_parameter, a)\n",
      "  File \"/home/philcox/Chempy/Chempy/cem_function.py\", line 717, in extract_parameters_and_priors\n",
      "    assert False, '%s lower border is violated' %(name)\n",
      "AssertionError: outflow_feedback_fraction lower border is violated\n",
      "Traceback (most recent call last):\n",
      "  File \"/home/philcox/Chempy/Chempy/cem_function.py\", line 882, in posterior_function_many_stars\n",
      "    posterior, blobs = posterior_function_many_stars_real(changing_parameter,error_list,elements)\n",
      "  File \"/home/philcox/Chempy/Chempy/cem_function.py\", line 920, in posterior_function_many_stars_real\n",
      "    abundance_list,element_list = posterior_function_returning_predictions(args)\n",
      "  File \"/home/philcox/Chempy/Chempy/cem_function.py\", line 482, in posterior_function_returning_predictions\n",
      "    posterior, abundance_list, element_list = posterior_function_predictions(changing_parameter,a)\n",
      "  File \"/home/philcox/Chempy/Chempy/cem_function.py\", line 507, in posterior_function_predictions\n",
      "    abundance_list,elements_to_trace = cem_real2(a)\n",
      "  File \"/home/philcox/Chempy/Chempy/cem_function.py\", line 337, in cem_real2\n",
      "    a = shorten_sfr(a)\n",
      "  File \"/home/philcox/Chempy/Chempy/cem_function.py\", line 130, in shorten_sfr\n",
      "    assert fraction_of_mean_sfr > 0.05, ('The total SFR of the last age bin is below 5% of the mean SFR', 'stellar identifier = ', a.stellar_identifier, 'star time = ', star_time, 'model time = ', time_model )\n",
      "AssertionError: ('The total SFR of the last age bin is below 5% of the mean SFR', 'stellar identifier = ', 'Proto-sun', 'star time = ', 8.9400000000000013, 'model time = ', 9.0)\n"
     ]
    },
    {
     "name": "stdout",
     "output_type": "stream",
     "text": [
      "5.22882051364 2.40048851378\n",
      "posterior -1, -100, -200 2.40048851378 1.97290663332 3.53253298926\n",
      "posterior 0, 100, 200 5.22882051364 2.53188697603 2.01481161265\n",
      "calculation so far took 159.15880584716797  seconds\n",
      "step  222 of  1000\n",
      "5.22882051364 2.37774432333\n",
      "posterior -1, -100, -200 2.37774432333 2.05141734654 3.42348180739\n",
      "posterior 0, 100, 200 5.22882051364 2.53188697603 2.01481161265\n",
      "calculation so far took 159.7804160118103  seconds\n",
      "step  223 of  1000\n"
     ]
    },
    {
     "name": "stderr",
     "output_type": "stream",
     "text": [
      "Traceback (most recent call last):\n",
      "  File \"/home/philcox/Chempy/Chempy/cem_function.py\", line 882, in posterior_function_many_stars\n",
      "    posterior, blobs = posterior_function_many_stars_real(changing_parameter,error_list,elements)\n",
      "  File \"/home/philcox/Chempy/Chempy/cem_function.py\", line 920, in posterior_function_many_stars_real\n",
      "    abundance_list,element_list = posterior_function_returning_predictions(args)\n",
      "  File \"/home/philcox/Chempy/Chempy/cem_function.py\", line 482, in posterior_function_returning_predictions\n",
      "    posterior, abundance_list, element_list = posterior_function_predictions(changing_parameter,a)\n",
      "  File \"/home/philcox/Chempy/Chempy/cem_function.py\", line 507, in posterior_function_predictions\n",
      "    abundance_list,elements_to_trace = cem_real2(a)\n",
      "  File \"/home/philcox/Chempy/Chempy/cem_function.py\", line 337, in cem_real2\n",
      "    a = shorten_sfr(a)\n",
      "  File \"/home/philcox/Chempy/Chempy/cem_function.py\", line 130, in shorten_sfr\n",
      "    assert fraction_of_mean_sfr > 0.05, ('The total SFR of the last age bin is below 5% of the mean SFR', 'stellar identifier = ', a.stellar_identifier, 'star time = ', star_time, 'model time = ', time_model )\n",
      "AssertionError: ('The total SFR of the last age bin is below 5% of the mean SFR', 'stellar identifier = ', 'Proto-sun', 'star time = ', 8.9400000000000013, 'model time = ', 9.0)\n"
     ]
    },
    {
     "name": "stdout",
     "output_type": "stream",
     "text": [
      "5.22882051364 2.48247752512\n",
      "posterior -1, -100, -200 2.48247752512 2.47073330115 3.05037652533\n",
      "posterior 0, 100, 200 5.22882051364 2.53188697603 2.01481161265\n",
      "calculation so far took 160.42214727401733  seconds\n",
      "step  224 of  1000\n"
     ]
    },
    {
     "name": "stderr",
     "output_type": "stream",
     "text": [
      "Traceback (most recent call last):\n",
      "  File \"/home/philcox/Chempy/Chempy/cem_function.py\", line 882, in posterior_function_many_stars\n",
      "    posterior, blobs = posterior_function_many_stars_real(changing_parameter,error_list,elements)\n",
      "  File \"/home/philcox/Chempy/Chempy/cem_function.py\", line 920, in posterior_function_many_stars_real\n",
      "    abundance_list,element_list = posterior_function_returning_predictions(args)\n",
      "  File \"/home/philcox/Chempy/Chempy/cem_function.py\", line 482, in posterior_function_returning_predictions\n",
      "    posterior, abundance_list, element_list = posterior_function_predictions(changing_parameter,a)\n",
      "  File \"/home/philcox/Chempy/Chempy/cem_function.py\", line 507, in posterior_function_predictions\n",
      "    abundance_list,elements_to_trace = cem_real2(a)\n",
      "  File \"/home/philcox/Chempy/Chempy/cem_function.py\", line 337, in cem_real2\n",
      "    a = shorten_sfr(a)\n",
      "  File \"/home/philcox/Chempy/Chempy/cem_function.py\", line 130, in shorten_sfr\n",
      "    assert fraction_of_mean_sfr > 0.05, ('The total SFR of the last age bin is below 5% of the mean SFR', 'stellar identifier = ', a.stellar_identifier, 'star time = ', star_time, 'model time = ', time_model )\n",
      "AssertionError: ('The total SFR of the last age bin is below 5% of the mean SFR', 'stellar identifier = ', 'Proto-sun', 'star time = ', 8.9400000000000013, 'model time = ', 9.0)\n"
     ]
    },
    {
     "name": "stdout",
     "output_type": "stream",
     "text": [
      "5.22882051364 2.54358879987\n",
      "posterior -1, -100, -200 2.54358879987 2.36267438442 2.93310659214\n",
      "posterior 0, 100, 200 5.22882051364 2.53188697603 2.01481161265\n",
      "calculation so far took 161.06857705116272  seconds\n",
      "step  225 of  1000\n",
      "5.22882051364 2.56393482556\n",
      "posterior -1, -100, -200 2.56393482556 2.10981711348 3.02929850353\n",
      "posterior 0, 100, 200 5.22882051364 2.53188697603 2.01481161265\n",
      "calculation so far took 161.7389039993286  seconds\n",
      "step  226 of  1000\n",
      "5.22882051364 2.59252864472\n",
      "posterior -1, -100, -200 2.59252864472 2.25407220543 2.89455106067\n",
      "posterior 0, 100, 200 5.22882051364 2.53188697603 2.01481161265\n",
      "calculation so far took 162.3599190711975  seconds\n",
      "step  227 of  1000\n"
     ]
    }
   ],
   "source": [
    "from Chempy.wrapper import multi_star_optimization\n",
    "from Chempy.plot_mcmc import plot_mcmc_chain_with_prior,restructure_chain\n",
    "abundances = multi_star_optimization()\n",
    "restructure_chain('mcmc/')\n",
    "plot_mcmc_chain_with_prior('mcmc/',use_prior=True,only_first_star = False,plot_true_parameters=False,plot_only_SSP_parameter=False)"
   ]
  },
  {
   "cell_type": "code",
   "execution_count": null,
   "metadata": {
    "collapsed": true
   },
   "outputs": [],
   "source": []
  },
  {
   "cell_type": "code",
   "execution_count": null,
   "metadata": {
    "collapsed": true
   },
   "outputs": [],
   "source": []
  },
  {
   "cell_type": "code",
   "execution_count": null,
   "metadata": {
    "collapsed": true
   },
   "outputs": [],
   "source": []
  },
  {
   "cell_type": "code",
   "execution_count": null,
   "metadata": {
    "collapsed": true
   },
   "outputs": [],
   "source": []
  },
  {
   "cell_type": "code",
   "execution_count": null,
   "metadata": {
    "collapsed": true
   },
   "outputs": [],
   "source": []
  }
 ],
 "metadata": {
  "kernelspec": {
   "display_name": "Python 3",
   "language": "python",
   "name": "python3"
  },
  "language_info": {
   "codemirror_mode": {
    "name": "ipython",
    "version": 3
   },
   "file_extension": ".py",
   "mimetype": "text/x-python",
   "name": "python",
   "nbconvert_exporter": "python",
   "pygments_lexer": "ipython3",
   "version": "3.6.1"
  }
 },
 "nbformat": 4,
 "nbformat_minor": 2
}
