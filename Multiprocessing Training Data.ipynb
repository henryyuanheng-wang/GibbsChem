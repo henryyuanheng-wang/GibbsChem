{
 "cells": [
  {
   "cell_type": "code",
   "execution_count": 1,
   "metadata": {},
   "outputs": [
    {
     "name": "stdout",
     "output_type": "stream",
     "text": [
      "Populating the interactive namespace from numpy and matplotlib\n"
     ]
    }
   ],
   "source": [
    "%pylab inline"
   ]
  },
  {
   "cell_type": "code",
   "execution_count": 2,
   "metadata": {},
   "outputs": [],
   "source": [
    "from Chempy.neural import create_dataset"
   ]
  },
  {
   "cell_type": "code",
   "execution_count": 3,
   "metadata": {},
   "outputs": [],
   "source": [
    "from scipy.stats import norm as gaussian\n",
    "import multiprocessing as mp\n",
    "from Chempy.parameter import ModelParameters\n",
    "import tqdm\n",
    "\n",
    "# FOR TESTING\n",
    "import warnings\n",
    "warnings.filterwarnings(\"ignore\")\n",
    "\n",
    "a = ModelParameters()\n",
    "\n",
    "N = a.training_size # No. data points per parameter\n",
    "widths = a.training_widths # Gaussian widths for parameters\n",
    "\n",
    "# Create 1d grid of data points equally spaced in probability space\n",
    "prob = np.linspace(1/(N+1), 1-1/(N+1), N)\n",
    "grids = [gaussian.ppf(prob) for _ in range(len(a.p0))] # Normalize to unit Gaussian\n",
    "norm_grid = np.array(np.meshgrid(*grids)).T.reshape(-1,len(a.p0))\n",
    "\n",
    "# Create grid in parameter space\n",
    "param_grid = [item*widths+a.p0 for item in norm_grid]\n"
   ]
  },
  {
   "cell_type": "code",
   "execution_count": null,
   "metadata": {
    "scrolled": true
   },
   "outputs": [],
   "source": [
    "index = range(len(param_grid))\n",
    "\n",
    "p = mp.Pool(processes=mp.cpu_count())#len(param_grid))\n",
    "\n",
    "#t = p.imap(create_dataset, zip(param_grid[:6],index[:6]))\n",
    "r = list(tqdm.tqdm(p.imap_unordered(create_dataset, zip(param_grid[:6],index[:6])), total=6))\n",
    "#p.join()\n",
    "#p.close()\n",
    "#result = np.vstack(t)"
   ]
  },
  {
   "cell_type": "code",
   "execution_count": null,
   "metadata": {},
   "outputs": [],
   "source": [
    "params = []\n",
    "norm_params = []\n",
    "abun = []\n",
    "for item in r:\n",
    "    params.append(item[0])\n",
    "    norm_params.append(item[1])\n",
    "    abun.append(item[2])"
   ]
  },
  {
   "cell_type": "code",
   "execution_count": null,
   "metadata": {},
   "outputs": [],
   "source": []
  },
  {
   "cell_type": "code",
   "execution_count": null,
   "metadata": {
    "collapsed": true
   },
   "outputs": [],
   "source": []
  }
 ],
 "metadata": {
  "kernelspec": {
   "display_name": "Python 3",
   "language": "python",
   "name": "python3"
  },
  "language_info": {
   "codemirror_mode": {
    "name": "ipython",
    "version": 3
   },
   "file_extension": ".py",
   "mimetype": "text/x-python",
   "name": "python",
   "nbconvert_exporter": "python",
   "pygments_lexer": "ipython3",
   "version": "3.6.1"
  }
 },
 "nbformat": 4,
 "nbformat_minor": 2
}
