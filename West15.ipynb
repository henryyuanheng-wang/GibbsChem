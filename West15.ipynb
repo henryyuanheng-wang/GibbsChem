{
 "cells": [
  {
   "cell_type": "code",
   "execution_count": 5,
   "metadata": {},
   "outputs": [
    {
     "name": "stdout",
     "output_type": "stream",
     "text": [
      "Populating the interactive namespace from numpy and matplotlib\n"
     ]
    }
   ],
   "source": [
    "%pylab inline\n",
    "dat = np.genfromtxt('Chempy/input/yields/West15/ertl.txt',skip_header=102,skip_footer=209-104,dtype='<U8')"
   ]
  },
  {
   "cell_type": "code",
   "execution_count": 17,
   "metadata": {},
   "outputs": [
    {
     "name": "stdout",
     "output_type": "stream",
     "text": [
      "indexing['H'] =  ['H1', 'H2', 'He3', 'He4']\n",
      "indexing['He'] =  ['He3', 'He4']\n",
      "indexing['Li'] =  ['Li6', 'Li7']\n",
      "indexing['Be'] =  ['Be9']\n",
      "indexing['B'] =  ['Be9', 'B10', 'B11']\n",
      "indexing['C'] =  ['C12', 'C13']\n",
      "indexing['N'] =  ['N14', 'N15']\n",
      "indexing['O'] =  ['O16', 'O17', 'O18']\n",
      "indexing['F'] =  ['F19']\n",
      "indexing['Ne'] =  ['Ne20', 'Ne21', 'Ne22']\n",
      "indexing['Na'] =  ['Na23']\n",
      "indexing['Mg'] =  ['Mg24', 'Mg25', 'Mg26']\n",
      "indexing['Al'] =  ['Al27']\n",
      "indexing['Si'] =  ['Si28', 'Si29', 'Si30']\n",
      "indexing['P'] =  ['P31']\n",
      "indexing['S'] =  ['Si28', 'Si29', 'Si30']\n",
      "indexing['Cl'] =  ['Cl35', 'Cl37']\n",
      "indexing['Ar'] =  ['Ar36', 'Ar38', 'Ar40']\n",
      "indexing['K'] =  ['K39', 'K40', 'K41']\n",
      "indexing['Ca'] =  ['Ca40', 'Ca42', 'Ca43', 'Ca44', 'Ca46', 'Ca48']\n",
      "indexing['Sc'] =  ['Sc45']\n",
      "indexing['Ti'] =  ['Ti46', 'Ti47', 'Ti48', 'Ti49', 'Ti50']\n",
      "indexing['V'] =  ['V50', 'V51']\n",
      "indexing['Cr'] =  ['Cr50', 'Cr52', 'Cr53', 'Cr54']\n",
      "indexing['Ni'] =  ['Ni58', 'Ni60', 'Ni61', 'Ni62', 'Ni64']\n",
      "indexing['Cu'] =  ['Cu63', 'Cu65']\n",
      "indexing['Zn'] =  ['Zn64', 'Zn66', 'Zn67', 'Zn68', 'Zn70']\n",
      "indexing['Ga'] =  ['Ga69', 'Ga71']\n",
      "indexing['Ge'] =  ['Ge70', 'Ge72', 'Ge73', 'Ge74', 'Ge76']\n"
     ]
    }
   ],
   "source": [
    "for el in elements:\n",
    "    list = []\n",
    "    stop=0\n",
    "    for item in dat:\n",
    "        if el in item:\n",
    "            list.append(item)\n",
    "            stop+=1\n",
    "        if el not in item and stop != 0:\n",
    "            break\n",
    "    print(\"indexing['%s'] = \" %(el),list)"
   ]
  },
  {
   "cell_type": "code",
   "execution_count": 16,
   "metadata": {
    "collapsed": true
   },
   "outputs": [],
   "source": [
    "elements = ['H','He','Li','Be','B','C','N','O','F','Ne','Na','Mg','Al','Si','P','S','Cl','Ar','K','Ca','Sc','Ti','V','Cr','Ni','Cu','Zn','Ga','Ge']"
   ]
  },
  {
   "cell_type": "code",
   "execution_count": 46,
   "metadata": {},
   "outputs": [
    {
     "name": "stdout",
     "output_type": "stream",
     "text": [
      "/home/philcox/Chempy/Chempy/input/yields/West15\n"
     ]
    }
   ],
   "source": [
    "cd ~/Chempy/Chempy/input/yields/West15/\n"
   ]
  },
  {
   "cell_type": "code",
   "execution_count": 47,
   "metadata": {},
   "outputs": [
    {
     "name": "stderr",
     "output_type": "stream",
     "text": [
      " [GCHWH13] Abundance set generated in 26 ms.\n",
      " [GCHWH13] X = 0.747583, Y = 0.250887, Z = 0.00153032\n"
     ]
    }
   ],
   "source": [
    "import gch_wh13\n",
    "z = 1\n",
    "s = gch_wh13.GCHWH13(.1)\n"
   ]
  },
  {
   "cell_type": "code",
   "execution_count": 49,
   "metadata": {},
   "outputs": [
    {
     "name": "stderr",
     "output_type": "stream",
     "text": [
      " [GCHWH13] Abundance set generated in 28 ms.\n",
      " [GCHWH13] X = 0.711262, Y = 0.273434, Z = 0.0153032\n"
     ]
    }
   ],
   "source": [
    "s = gch_wh13.GCHWH13(1.0)"
   ]
  },
  {
   "cell_type": "code",
   "execution_count": null,
   "metadata": {
    "collapsed": true
   },
   "outputs": [],
   "source": [
    "s = gch_wh13.GCHWH13"
   ]
  },
  {
   "cell_type": "code",
   "execution_count": 20,
   "metadata": {},
   "outputs": [
    {
     "data": {
      "text/plain": [
       "0.00027025323607301934"
      ]
     },
     "execution_count": 20,
     "metadata": {},
     "output_type": "execute_result"
    }
   ],
   "source": [
    "s.c12"
   ]
  },
  {
   "cell_type": "code",
   "execution_count": null,
   "metadata": {
    "collapsed": true
   },
   "outputs": [],
   "source": []
  },
  {
   "cell_type": "code",
   "execution_count": 51,
   "metadata": {},
   "outputs": [
    {
     "name": "stdout",
     "output_type": "stream",
     "text": [
      "/home/philcox/Chempy\n"
     ]
    }
   ],
   "source": [
    "cd ~/Chempy"
   ]
  },
  {
   "cell_type": "code",
   "execution_count": 82,
   "metadata": {},
   "outputs": [
    {
     "name": "stdout",
     "output_type": "stream",
     "text": [
      "Populating the interactive namespace from numpy and matplotlib\n"
     ]
    },
    {
     "name": "stderr",
     "output_type": "stream",
     "text": [
      "/home/philcox/anaconda3/lib/python3.6/site-packages/IPython/core/magics/pylab.py:161: UserWarning: pylab import has clobbered these variables: ['table']\n",
      "`%matplotlib` prevents importing * from pylab and numpy\n",
      "  \"\\n`%matplotlib` prevents importing * from pylab and numpy\"\n"
     ]
    }
   ],
   "source": [
    "%pylab inline\n",
    "\n",
    "data = np.genfromtxt('Chempy/input/yields/West15/ertl.txt',skip_header=102,names=True)\n",
    "\n",
    "z_solar = 0.0153032\n",
    "\n",
    "masses = np.unique(data['mass'])\n",
    "scaled_z = np.unique(data['metallicity'])\n",
    "metallicities = scaled_z*z_solar\n",
    "\n",
    "# output table\n",
    "table = {}\n",
    "\n",
    "for z_index,z in enumerate(metallicities): # Define table for each metallicity\n",
    "    \n",
    "    yield_subtable = {}\n",
    "    yield_subtable['mass_in_remnants'] = []\n",
    "    yield_subtable['Mass'] = masses\n",
    "    \n",
    "    for mass in masses:\n",
    "        for r,row in enumerate(data):\n",
    "            if row['mass'] == mass and row['metallicity']==scaled_z[z_index]:\n",
    "                row_index = r\n",
    "                \n",
    "        subtable = {}\n",
    "        remnant = data['remnant'][row_index]\n",
    "        \n",
    "        yield_subtable['mass_in_remnants'].append(remnant/mass)\n",
    "        \n",
    "        \n",
    "    table[z] = yield_subtable"
   ]
  },
  {
   "cell_type": "code",
   "execution_count": 83,
   "metadata": {},
   "outputs": [
    {
     "data": {
      "text/plain": [
       "104"
      ]
     },
     "execution_count": 83,
     "metadata": {},
     "output_type": "execute_result"
    }
   ],
   "source": [
    "r"
   ]
  },
  {
   "cell_type": "code",
   "execution_count": 84,
   "metadata": {},
   "outputs": [
    {
     "data": {
      "text/plain": [
       "array([ 13.,  15.,  17.,  20.,  22.,  25.,  30.])"
      ]
     },
     "execution_count": 84,
     "metadata": {},
     "output_type": "execute_result"
    }
   ],
   "source": [
    "masses"
   ]
  },
  {
   "cell_type": "code",
   "execution_count": null,
   "metadata": {
    "collapsed": true
   },
   "outputs": [],
   "source": []
  },
  {
   "cell_type": "code",
   "execution_count": 85,
   "metadata": {},
   "outputs": [
    {
     "data": {
      "text/plain": [
       "{'Mass': array([ 13.,  15.,  17.,  20.,  22.,  25.,  30.]),\n",
       " 'mass_in_remnants': [0.1299523076923077,\n",
       "  0.11450066666666667,\n",
       "  0.097098235294117652,\n",
       "  0.99938499999999997,\n",
       "  0.9993045454545455,\n",
       "  0.077018400000000001,\n",
       "  0.99880333333333327]}"
      ]
     },
     "execution_count": 85,
     "metadata": {},
     "output_type": "execute_result"
    }
   ],
   "source": [
    "table[metallicities[1]]"
   ]
  },
  {
   "cell_type": "code",
   "execution_count": null,
   "metadata": {
    "collapsed": true
   },
   "outputs": [],
   "source": []
  }
 ],
 "metadata": {
  "kernelspec": {
   "display_name": "Python 3",
   "language": "python",
   "name": "python3"
  },
  "language_info": {
   "codemirror_mode": {
    "name": "ipython",
    "version": 3
   },
   "file_extension": ".py",
   "mimetype": "text/x-python",
   "name": "python",
   "nbconvert_exporter": "python",
   "pygments_lexer": "ipython3",
   "version": "3.6.1"
  }
 },
 "nbformat": 4,
 "nbformat_minor": 2
}
