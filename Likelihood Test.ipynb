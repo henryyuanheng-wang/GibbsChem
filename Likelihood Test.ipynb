{
 "cells": [
  {
   "cell_type": "code",
   "execution_count": null,
   "metadata": {
    "collapsed": false,
    "scrolled": true
   },
   "outputs": [],
   "source": [
    "changing_parameter = [-3.,-3.,-0.8,-0.3,0.5,0.6]\n",
    "from Chempy.cem_function import posterior_function_for_integration"
   ]
  },
  {
   "cell_type": "code",
   "execution_count": null,
   "metadata": {
    "collapsed": false
   },
   "outputs": [],
   "source": [
    "%timeit -r 10 posterior_function_for_integration(changing_parameter)\n",
    "\n",
    "## DEFINITELY CAN IMPROVE THIS"
   ]
  },
  {
   "cell_type": "code",
   "execution_count": null,
   "metadata": {
    "collapsed": true
   },
   "outputs": [],
   "source": []
  },
  {
   "cell_type": "code",
   "execution_count": null,
   "metadata": {
    "collapsed": true
   },
   "outputs": [],
   "source": [
    "def posterior_function_for_integration(changing_parameter):\n",
    "\t'''\n",
    "\tThis is the actual posterior function. But the functionality is explained in posterior_function. \n",
    "\tThis is a cut down version for integration - ONLY using beta function, and solar data\n",
    "\t'''\n",
    "\tfrom .parameter import ModelParameters\n",
    "\tfrom .cem_function import posterior_function_returning_predictions\n",
    "\tfrom .data_to_test import likelihood_function_for_integration\n",
    "\t\t\n",
    "\ta = ModelParameters()\n",
    "\tstellar_identifier = a.stellar_identifier\n",
    "\t\n",
    "\t# the values in a are updated according to changing_parameters and the prior list is appended\n",
    "\ta = extract_parameters_and_priors(changing_parameter, a)\n",
    "\t\n",
    "\t# the log prior is calculated\n",
    "\tprior = sum(np.log(a.prior))\n",
    "\n",
    "\t#_,elements = posterior_function_returning_predictions((changing_parameter,a))\n",
    "\t\n",
    "\t# call Chempy and return the abundances at the end of the simulation = time of star's birth and the corresponding element names as a list\n",
    "\tabundance_list,elements_to_trace = cem_real2(a)\n",
    "\t\n",
    "\t# The last two entries of the abundance list are the Corona metallicity and the SN-ratio\n",
    "\tabundance_list = abundance_list[:-2]\n",
    "\telements_to_trace = elements_to_trace[:-2]\n",
    "\n",
    "    wildcard = np.load('Chempy/input/stars/Proto-sun.npy')\t\n",
    "\n",
    "\t \n",
    "\n",
    "\t# a likelihood is calculated where the model error is optimized analytically if you do not want model error uncomment one line in the likelihood function\n",
    "\tfrom scipy.stats import beta\n",
    "\tlikelihood_list = []\n",
    "\tmodel_errors = np.linspace(a.flat_model_error_prior[0],a.flat_model_error_prior[1],a.flat_model_error_prior[2])\n",
    "\terror_weight = beta.pdf(model_errors, a = a.beta_error_distribution[1], b = a.beta_error_distribution[2])\n",
    "\terror_weight/= sum(error_weight)\n",
    "\n",
    "\t\n",
    "\tfor i, item in enumerate(model_errors):\n",
    "\t\terror_temp = np.ones(len(elements)) * item \n",
    "\t\tlikelihood_temp, _, _, _, _, _ = likelihood_function_for_integration(wildcard, abundance_list, elements_to_trace, fixed_model_error = error_temp, elements = elements)\n",
    "\t\tlikelihood_list.append(likelihood_temp)\n",
    "\tlikelihood = logsumexp(likelihood_list, b = error_weight)\n",
    "\n",
    "\treturn(prior+likelihood)"
   ]
  },
  {
   "cell_type": "code",
   "execution_count": null,
   "metadata": {
    "collapsed": true
   },
   "outputs": [],
   "source": [
    "from Chempy.cem_function import posterior_function_returning_predictions"
   ]
  },
  {
   "cell_type": "code",
   "execution_count": 1,
   "metadata": {
    "collapsed": true
   },
   "outputs": [],
   "source": [
    "%load_ext line_profiler"
   ]
  },
  {
   "cell_type": "code",
   "execution_count": 2,
   "metadata": {
    "collapsed": false
   },
   "outputs": [],
   "source": [
    "from Chempy.cem_function import posterior_function_for_integration\n",
    "from Chempy.score_function import preload_params\n",
    "b = preload_params()\n",
    "changing_parameter = [-3.,-3.,-0.8,-0.3,0.5,0.6]"
   ]
  },
  {
   "cell_type": "code",
   "execution_count": 3,
   "metadata": {
    "collapsed": false
   },
   "outputs": [
    {
     "name": "stdout",
     "output_type": "stream",
     "text": [
      "100 loops, best of 3: 3.55 ms per loop\n"
     ]
    }
   ],
   "source": [
    "from Chempy.cem_function import cem_real2_int, extract_parameters_and_priors\n",
    "from Chempy.parameter import ModelParameters\n",
    "a = ModelParameters\n",
    "a = extract_parameters_and_priors(changing_parameter,a)\n",
    "%timeit cem_real2_int(a,b)"
   ]
  },
  {
   "cell_type": "code",
   "execution_count": 4,
   "metadata": {
    "collapsed": false
   },
   "outputs": [],
   "source": [
    "abundance_list = cem_real2_int(a,b)\n",
    "\n",
    "# The last two entries of the abundance list are the Corona metallicity and the SN-ratio\n",
    "list_of_abundances = abundance_list[:-2]\n",
    "abundance_list = []\n",
    "#star_abundance_list = []\n",
    "#star_error_list = []\n",
    "# Change to arrays to speed up?\n",
    "for i,item in enumerate(a.elements_to_trace):\n",
    "    if item in list(b.wildcard.dtype.names):\n",
    "        #elements.append(item)\n",
    "        abundance_list.append(float(list_of_abundances[i]))\n"
   ]
  },
  {
   "cell_type": "code",
   "execution_count": 5,
   "metadata": {
    "collapsed": false
   },
   "outputs": [],
   "source": [
    "from Chempy.data_to_test import likelihood_evaluation_int\n",
    "import numpy as np\n",
    "%lprun -f likelihood_evaluation_int likelihood_evaluation_int(b.errors_list[0],abundance_list,b.star_abundance_list)\n",
    "#%timeit likelihood_evaluation(error_temp,b.star_error_list,abundance_list,b.star_abundance_list)\n"
   ]
  },
  {
   "cell_type": "code",
   "execution_count": 6,
   "metadata": {
    "collapsed": false
   },
   "outputs": [
    {
     "name": "stdout",
     "output_type": "stream",
     "text": [
      "10 loops, best of 10: 8.36 ms per loop\n"
     ]
    }
   ],
   "source": [
    "%timeit -r 10 -n 10 posterior_function_for_integration(changing_parameter,b)"
   ]
  },
  {
   "cell_type": "code",
   "execution_count": 7,
   "metadata": {
    "collapsed": false
   },
   "outputs": [],
   "source": [
    "%lprun -f posterior_function_for_integration posterior_function_for_integration(changing_parameter,b)"
   ]
  },
  {
   "cell_type": "code",
   "execution_count": null,
   "metadata": {
    "collapsed": false
   },
   "outputs": [],
   "source": [
    "%lprun -f cem_real2_int cem_real2_int(a,b)"
   ]
  },
  {
   "cell_type": "code",
   "execution_count": null,
   "metadata": {
    "collapsed": true
   },
   "outputs": [],
   "source": []
  }
 ],
 "metadata": {
  "kernelspec": {
   "display_name": "Python 3",
   "language": "python",
   "name": "python3"
  },
  "language_info": {
   "codemirror_mode": {
    "name": "ipython",
    "version": 3
   },
   "file_extension": ".py",
   "mimetype": "text/x-python",
   "name": "python",
   "nbconvert_exporter": "python",
   "pygments_lexer": "ipython3",
   "version": "3.5.1"
  }
 },
 "nbformat": 4,
 "nbformat_minor": 2
}
