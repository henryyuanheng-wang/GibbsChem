{
 "cells": [
  {
   "cell_type": "code",
   "execution_count": null,
   "metadata": {},
   "outputs": [],
   "source": [
    "import matplotlib.pyplot as plt\n",
    "import numpy as np\n",
    "\n",
    "def likelihood_function(wildcard, list_of_abundances, elements_to_trace, **keyword_parameters):    \n",
    "    '''\n",
    "    This function calculates analytically an optimal model error and the resulting likelihood from the comparison of predictions and observations\n",
    "\n",
    "    INPUT:\n",
    "        list_of_abundances = a list of the abundances coming from Chempy\n",
    "        elements_to_trace = a list of the elemental symbols\n",
    "\n",
    "    OUTPUT:\n",
    "        likelihood = the added log likelihood\n",
    "\n",
    "        element_list = the elements that were in common between the predictions and the observations, has the same sequence as the following arrays\n",
    "   \n",
    "        model_error = the analytic optimal model error\n",
    "\n",
    "        star_error_list = the observed error\n",
    "   \n",
    "       abundance_list = the predictions\n",
    "   \n",
    "       star_abundance_list = the observations\n",
    "    '''\n",
    "    #try:\n",
    "    #    wildcard = np.load(stellar_identifier + '.npy')\n",
    "    #except Exception as ex:\n",
    "    #    from . import localpath\n",
    "    #    wildcard = np.load(localpath + 'input/stars/' + stellar_identifier + '.npy')\n",
    "    # Brings the model_abundances, the stellar abundances and the associated error into the same sequence\n",
    "    abundance_list = []\n",
    "    element_list = []\n",
    "    star_abundance_list = []\n",
    "    star_error_list = []\n",
    "    for i,item in enumerate(elements_to_trace):\n",
    "        if item in list(wildcard.dtype.names):\n",
    "            element_list.append(item)\n",
    "            abundance_list.append(float(list_of_abundances[i]))\n",
    "            star_abundance_list.append(float(wildcard[item][0]))\n",
    "            star_error_list.append(float(wildcard[item][1]))\n",
    "    abundance_list = np.hstack(abundance_list)\n",
    "    star_abundance_list = np.hstack(star_abundance_list)\n",
    "    star_error_list = np.hstack(star_error_list)\n",
    "    assert len(abundance_list) == len(star_abundance_list) == len(star_error_list), 'no equal length, something went wrong'\n",
    "    ###################\n",
    "\n",
    "    # Introduces the optimal model error which can be derived analytically\n",
    "    if ('fixed_model_error' in keyword_parameters):\n",
    "        fixed_model_error = keyword_parameters['fixed_model_error']\n",
    "        elements = keyword_parameters['elements']\n",
    "        el_list = []\n",
    "        for i,item in enumerate(elements):\n",
    "            el_list.append(item)#.decode('utf-8'))\n",
    "        elements = np.hstack(el_list)\n",
    "        model_error = []\n",
    "        for i,item in enumerate(element_list):\n",
    "            model_error.append(fixed_model_error[np.where(elements == item)])\n",
    "        model_error = np.hstack(model_error)\n",
    "    else:\n",
    "        model_error = []\n",
    "        for i, item in enumerate(element_list):\n",
    "            if (abundance_list[i] - star_abundance_list[i]) * (abundance_list[i] - star_abundance_list[i]) <= star_error_list[i] * star_error_list[i]:\n",
    "                model_error.append(0.)\n",
    "            else:\n",
    "                model_error.append(np.sqrt((abundance_list[i] - star_abundance_list[i]) * (abundance_list[i] - star_abundance_list[i]) - star_error_list[i] * star_error_list[i]))\n",
    "        model_error = np.hstack(model_error)\n",
    "\n",
    "    ## Uncomment next line if you do not want to use model errors\n",
    "    #model_error = np.zeros_like(model_error)\n",
    "    \n",
    "    # This is the best model error at the median posterior of the Proto-sun (just used to see how this effects the posterior distribution)\n",
    "    #model_error = np.array([ 0.0780355, 0., 0.15495525, 0.00545988,  0.3063154,   0., 0.1057009,  0.05165564,  0., 0.72038212,  0., 0.08926388,  0., 0.27583715,  0.22945499,  0.09774014,  0.17965589 , 0. ,0.17686723,  0.21137374,  0.37973184,  0.2263486 ])\n",
    "    \n",
    "    # Now the likelihood is evaluated\n",
    "    \n",
    "    # Test to check correct abundances fed in\t\n",
    "    #print('Abundance List')\n",
    "    #print(abundance_list)\n",
    "    \n",
    "    likelihood = likelihood_evaluation(model_error, star_error_list, abundance_list, star_abundance_list)\n",
    "    return likelihood, element_list, model_error, star_error_list, abundance_list, star_abundance_list\n"
   ]
  },
  {
   "cell_type": "code",
   "execution_count": null,
   "metadata": {},
   "outputs": [],
   "source": [
    "from Chempy.cem_function import cem_real2,extract_parameters_and_priors,posterior_function_returning_predictions\n",
    "from Chempy.parameter import ModelParameters\n",
    "from Chempy.data_to_test import likelihood_evaluation\n",
    "changing_parameter = [-3.,-3.,-0.8,-0.3,0.5,0.6]\n",
    "a = ModelParameters()\n",
    "stellar_identifier = a.stellar_identifier\n",
    "\n",
    "# the values in a are updated according to changing_parameters and the prior list is appended\n",
    "a = extract_parameters_and_priors(changing_parameter, a)\n",
    "\n",
    "# the log prior is calculated\n",
    "prior = sum(np.log(a.prior))\n",
    "_,elements = posterior_function_returning_predictions((changing_parameter,a))\n",
    "\n",
    "# call Chempy and return the abundances at the end of the simulation = time of star's birth and the corresponding element names as a list\n",
    "abundance_list,elements_to_trace = cem_real2(a)\n",
    "\n",
    "# The last two entries of the abundance list are the Corona metallicity and the SN-ratio\n",
    "abundance_list = abundance_list[:-2]\n",
    "elements_to_trace = elements_to_trace[:-2]\n",
    "\n",
    "# a likelihood is calculated where the model error is optimized analytically if you do not want model error uncomment one line in the likelihood function\n",
    "from scipy.stats import beta\n",
    "likelihood_list = []\n",
    "model_errors = np.linspace(a.flat_model_error_prior[0],a.flat_model_error_prior[1],a.flat_model_error_prior[2])\n",
    "error_weight = beta.pdf(model_errors, a = a.beta_error_distribution[1], b = a.beta_error_distribution[2])\n",
    "error_weight/= sum(error_weight)\n",
    "\n",
    "error_temp = error_temp = np.ones(len(elements)) * model_errors[0] \n",
    "wildcard = np.load('Chempy/input/stars/Proto-sun.npy')"
   ]
  },
  {
   "cell_type": "code",
   "execution_count": 1,
   "metadata": {},
   "outputs": [
    {
     "name": "stdout",
     "output_type": "stream",
     "text": [
      "1 loop, best of 3: 152 ms per loop\n"
     ]
    }
   ],
   "source": [
    "changing_parameter = [-3.,-3.,-0.8,-0.3,0.5,0.6]\n",
    "from Chempy.cem_function import posterior_function_for_integration\n",
    "%timeit posterior_function_for_integration(changing_parameter)\n",
    "\n",
    "## DEFINITELY CAN IMPROVE THIS"
   ]
  },
  {
   "cell_type": "code",
   "execution_count": null,
   "metadata": {
    "collapsed": true
   },
   "outputs": [],
   "source": []
  },
  {
   "cell_type": "code",
   "execution_count": null,
   "metadata": {
    "collapsed": true
   },
   "outputs": [],
   "source": []
  }
 ],
 "metadata": {
  "kernelspec": {
   "display_name": "Python 3",
   "language": "python",
   "name": "python3"
  },
  "language_info": {
   "codemirror_mode": {
    "name": "ipython",
    "version": 3
   },
   "file_extension": ".py",
   "mimetype": "text/x-python",
   "name": "python",
   "nbconvert_exporter": "python",
   "pygments_lexer": "ipython3",
   "version": "3.6.1"
  }
 },
 "nbformat": 4,
 "nbformat_minor": 2
}
