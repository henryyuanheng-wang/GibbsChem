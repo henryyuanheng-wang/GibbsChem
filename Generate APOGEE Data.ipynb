{
 "cells": [
  {
   "cell_type": "code",
   "execution_count": 15,
   "metadata": {},
   "outputs": [
    {
     "name": "stdout",
     "output_type": "stream",
     "text": [
      "Populating the interactive namespace from numpy and matplotlib\n"
     ]
    },
    {
     "name": "stderr",
     "output_type": "stream",
     "text": [
      "/home/oliver/anaconda2/lib/python2.7/site-packages/IPython/core/magics/pylab.py:161: UserWarning: pylab import has clobbered these variables: ['dtype']\n",
      "`%matplotlib` prevents importing * from pylab and numpy\n",
      "  \"\\n`%matplotlib` prevents importing * from pylab and numpy\"\n"
     ]
    }
   ],
   "source": [
    "%pylab inline\n",
    "inDir=\"/home/oliver/GibbsChem/\""
   ]
  },
  {
   "cell_type": "markdown",
   "metadata": {},
   "source": [
    "## Assumptions"
   ]
  },
  {
   "cell_type": "markdown",
   "metadata": {},
   "source": [
    "- We are ignoring the post-birth changes in abundance. i.e. not using heavy element corrections - include these?"
   ]
  },
  {
   "cell_type": "markdown",
   "metadata": {},
   "source": [
    "## Read in age table"
   ]
  },
  {
   "cell_type": "markdown",
   "metadata": {},
   "source": [
    "Taking ages from Ness+16 i.e. http://iopscience.iop.org/article/10.3847/0004-637X/823/2/114/meta#apj523069t1\n",
    "\n",
    "NB: Some of these ages exceed the age of the universe - we remove any with age > 12 Gyr and with $\\chi^2<2$"
   ]
  },
  {
   "cell_type": "code",
   "execution_count": 60,
   "metadata": {},
   "outputs": [],
   "source": [
    "# Define datatype\n",
    "dtype={'names': ('ID', 'log_age', 'chi2', 'log_err_age'),'formats': ('S18', 'f8', 'f8','f8')}\n",
    "\n",
    "table=np.loadtxt(inDir+\"apj523069t1_mrt.txt\",skiprows=39,usecols=[1,7,8,15],dtype=dtype)"
   ]
  },
  {
   "cell_type": "markdown",
   "metadata": {},
   "source": [
    "Now filter to take well fitted ages only and pick sample size (as in Chempy paper)"
   ]
  },
  {
   "cell_type": "code",
   "execution_count": 86,
   "metadata": {},
   "outputs": [],
   "source": [
    "chi_filter = np.where((table['chi2']>2.))\n",
    "filt1=table[chi_filter]\n",
    "age_filt = np.where(filt1['log_age']<np.log(12.))\n",
    "filt2 = filt1[age_filt]"
   ]
  },
  {
   "cell_type": "code",
   "execution_count": 89,
   "metadata": {},
   "outputs": [],
   "source": [
    "# Define some random subset of 100 (save this filtering for posterity):\n",
    "N=100\n",
    "random_indices = np.random.choice(range(len(filt_table)),100)\n",
    "#np.save('RandomIndices.npy',random_indices)\n",
    "random_indices=np.load('RandomIndices.npy')"
   ]
  },
  {
   "cell_type": "code",
   "execution_count": 90,
   "metadata": {},
   "outputs": [],
   "source": [
    "# Pick 100 random samples from this table\n",
    "filt_table=filt2[random_indices]\n",
    "ID_labels=filt_table['ID']\n",
    "log_ages = filt_table['log_age'] # ln(stellar age in Gyr)\n",
    "log_age_errs = filt_table['log_err_age'] # uncertainty in ln(Age)"
   ]
  },
  {
   "cell_type": "markdown",
   "metadata": {},
   "source": [
    "Now save the output"
   ]
  },
  {
   "cell_type": "code",
   "execution_count": 91,
   "metadata": {},
   "outputs": [],
   "source": [
    "with open(inDir+'apogee_ages_IDs.txt',\"w+\") as outfile:\n",
    "    for ID in ID_labels:\n",
    "        outfile.write(\"%s\\n\" %ID)"
   ]
  },
  {
   "cell_type": "markdown",
   "metadata": {},
   "source": [
    "## Extract Data\n",
    "\n",
    "Dataset is here: https://dr12.sdss.org/infrared/spectrum/view/\n",
    "\n",
    "We use the ASPCAP abundances from APOGEE using DR12 for consistency with ages.\n",
    "\n",
    "Description of fits files is here (but only applies to DR14 not this DR12): https://data.sdss.org/datamodel/files/APOGEE_REDUX/APRED_VERS/APSTAR_VERS/ASPCAP_VERS/RESULTS_VERS/LOCATION_ID/aspcapStar.html"
   ]
  },
  {
   "cell_type": "markdown",
   "metadata": {},
   "source": [
    "## NB:\n",
    "\n",
    "Format of abundances (see https://www.sdss.org/dr12/irspec/abundances/):\n",
    "\n",
    "If using uncalibrated FELEM:\n",
    "- (C, N, O, Mg, Si, S, Ca, Ti) are given as [X/M] abundances (i.e. relative to solar-scaled metallicity)\n",
    "- (Na, Al, K, V, Mn, Fe, Ni) are given as [X/H] abundances\n",
    "\n",
    "If using calibrated ELEM (as here):\n",
    "- All are given as [X/H] abundances (i.e. relative to solar-scaled metallicity)\n",
    "\n",
    "**Thus we must convert to [X/Fe] abundances**"
   ]
  },
  {
   "cell_type": "code",
   "execution_count": 92,
   "metadata": {},
   "outputs": [],
   "source": [
    "# Define element ordering:\n",
    "abundance_names = np.asarray([\"C\",\"N\",\"O\",\"Na\",\"Mg\",\"Al\",\"Si\",\"S\",\"K\",\"Ca\",\"Ti\",\"V\",\"Mn\",\"Fe\",\"Ni\"])"
   ]
  },
  {
   "cell_type": "code",
   "execution_count": 93,
   "metadata": {},
   "outputs": [],
   "source": [
    "specDir=inDir+'dr12/'\n",
    "from astropy.io import fits\n",
    "X_H_list = np.zeros([N,15])\n",
    "X_H_err=np.zeros([N,15])\n",
    "\n",
    "for i,ID in enumerate(ID_labels):\n",
    "    name = 'aspcapStar-r5-v603-%s.fits'%ID\n",
    "    \n",
    "    # Now load fits file\n",
    "    hdul = fits.open(specDir+name)  # open a FITS file\n",
    "    data = hdul[4].data  # assume the first extension is a table\n",
    "    \n",
    "    # Calibrated Abundances are from the DR12 FERRE fits in the order defined below\n",
    "    X_H_list[i]=data['ELEM'][0]\n",
    "    X_H_err[i]=data['ELEM_ERR'][0]"
   ]
  },
  {
   "cell_type": "markdown",
   "metadata": {},
   "source": [
    "** Convert these to [X/Fe] ratios**. NB: [Fe/H] remains relative to H here."
   ]
  },
  {
   "cell_type": "markdown",
   "metadata": {},
   "source": [
    "We here add the [X/H] and [Fe/H] errors in quadrature. This generally overestimates the error, since it does not take into account correlated errors."
   ]
  },
  {
   "cell_type": "code",
   "execution_count": 94,
   "metadata": {},
   "outputs": [],
   "source": [
    "Fe_index = np.where(abundance_names=='Fe')[0]\n",
    "X_Fe_abun=np.zeros_like(X_H_list)\n",
    "X_Fe_err=np.zeros_like(X_H_list)\n",
    "for j in range(len(abundance_names)):\n",
    "    for i in range(len(ID_labels)):\n",
    "        if j!=Fe_index:\n",
    "            ## Subtract [Fe/H] from each\n",
    "            X_Fe_abun[i,j]=X_H_list[i,j]-X_H_list[i,Fe_index]\n",
    "            ## Add errors in quadrature\n",
    "            X_Fe_err[i,j]=np.sqrt(X_H_err[i,j]**2.+X_H_err[i,Fe_index]**2.)\n",
    "        else: # for [Fe/H] case\n",
    "            X_Fe_abun[i,j]=X_H_list[i,j]\n",
    "            X_Fe_err[i,j]=X_H_err[i,j]"
   ]
  },
  {
   "cell_type": "markdown",
   "metadata": {},
   "source": [
    "** Save to file**"
   ]
  },
  {
   "cell_type": "code",
   "execution_count": 95,
   "metadata": {},
   "outputs": [],
   "source": [
    "np.savez('APOGEE_dataset.npz',abun=X_Fe_abun,abun_err=X_Fe_err,ln_age=log_ages,ln_age_err=log_age_errs)"
   ]
  },
  {
   "cell_type": "markdown",
   "metadata": {},
   "source": [
    "Now compute the range of ages in the sample (needed for network training):"
   ]
  },
  {
   "cell_type": "code",
   "execution_count": 96,
   "metadata": {},
   "outputs": [
    {
     "name": "stdout",
     "output_type": "stream",
     "text": [
      "Min age: 0.86 Gyr, Max age: 11.88 Gyr\n"
     ]
    }
   ],
   "source": [
    "print(\"Min age: %.2f Gyr, Max age: %.2f Gyr\" %(min(np.e**log_ages),max(np.e**log_ages)))"
   ]
  },
  {
   "cell_type": "code",
   "execution_count": 97,
   "metadata": {},
   "outputs": [
    {
     "name": "stdout",
     "output_type": "stream",
     "text": [
      "Min log age: -0.15, Max log age: 2.48\n"
     ]
    }
   ],
   "source": [
    "print(\"Min log age: %.2f, Max log age: %.2f\" %(min(log_ages),max(log_ages)))"
   ]
  },
  {
   "cell_type": "code",
   "execution_count": 102,
   "metadata": {},
   "outputs": [
    {
     "data": {
      "text/plain": [
       "(array([ 3.,  0.,  3.,  5.,  3., 10., 20., 12., 25., 19.]),\n",
       " array([-0.14831 ,  0.114031,  0.376372,  0.638713,  0.901054,  1.163395,\n",
       "         1.425736,  1.688077,  1.950418,  2.212759,  2.4751  ]),\n",
       " <a list of 10 Patch objects>)"
      ]
     },
     "execution_count": 102,
     "metadata": {},
     "output_type": "execute_result"
    },
    {
     "data": {
      "image/png": "[encoded data removed]",
      "text/plain": [
       "<Figure size 432x288 with 1 Axes>"
      ]
     },
     "metadata": {},
     "output_type": "display_data"
    }
   ],
   "source": [
    "plt.hist(log_ages)"
   ]
  },
  {
   "cell_type": "code",
   "execution_count": 99,
   "metadata": {},
   "outputs": [
    {
     "data": {
      "text/plain": [
       "<ErrorbarContainer object of 3 artists>"
      ]
     },
     "execution_count": 99,
     "metadata": {},
     "output_type": "execute_result"
    },
    {
     "data": {
      "image/png": "[encoded data removed]",
      "text/plain": [
       "<Figure size 432x288 with 1 Axes>"
      ]
     },
     "metadata": {},
     "output_type": "display_data"
    }
   ],
   "source": [
    "plt.errorbar(log_ages,X_Fe_abun[:,1],yerr=X_Fe_err[:,1],xerr=log_age_errs,linestyle='',alpha=0.7)"
   ]
  }
 ],
 "metadata": {
  "kernelspec": {
   "display_name": "Python 2",
   "language": "python",
   "name": "python2"
  },
  "language_info": {
   "codemirror_mode": {
    "name": "ipython",
    "version": 2
   },
   "file_extension": ".py",
   "mimetype": "text/x-python",
   "name": "python",
   "nbconvert_exporter": "python",
   "pygments_lexer": "ipython2",
   "version": "2.7.15"
  }
 },
 "nbformat": 4,
 "nbformat_minor": 2
}
