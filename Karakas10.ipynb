{
 "cells": [
  {
   "cell_type": "markdown",
   "metadata": {},
   "source": [
    "## Karakas 2010 yields from MCMC\n",
    "\n",
    "Run the multi_star_optimization script to calculate the posterior parameter set with Karakas 10 yield (via MCMC), using the new model error beta function marginalization."
   ]
  },
  {
   "cell_type": "code",
   "execution_count": null,
   "metadata": {},
   "outputs": [],
   "source": [
    "%pylab inline"
   ]
  },
  {
   "cell_type": "code",
   "execution_count": null,
   "metadata": {
    "collapsed": true
   },
   "outputs": [],
   "source": [
    "from Chempy.wrapper import multi_star_optimization # (there will be many gas reservoir/upper border errors but these can be ignored)\n",
    "%timeit multi_star_optimization()\n",
    "\n",
    "# This was done on a different PC but results are shown below"
   ]
  },
  {
   "cell_type": "markdown",
   "metadata": {
    "collapsed": true
   },
   "source": [
    " ## ^^ CHECK that this is with model errors for correct yield set"
   ]
  },
  {
   "cell_type": "markdown",
   "metadata": {},
   "source": [
    "This takes a time of **** seconds to run. Data is in the mcmc/ folder - copy this into the karakas10 folder to save. Output is shown above."
   ]
  },
  {
   "cell_type": "code",
   "execution_count": null,
   "metadata": {
    "collapsed": true
   },
   "outputs": [],
   "source": []
  },
  {
   "cell_type": "code",
   "execution_count": null,
   "metadata": {
    "collapsed": true,
    "scrolled": true
   },
   "outputs": [],
   "source": [
    "## Now restructure the chain\n",
    "\n",
    "from Chempy.plot_mcmc import restructure_chain\n",
    "restructure_chain('karakas10/')"
   ]
  },
  {
   "cell_type": "code",
   "execution_count": null,
   "metadata": {
    "collapsed": true
   },
   "outputs": [],
   "source": [
    "## Plot the posterior and prior values and correlation grid\n",
    "from Chempy.plot_mcmc import plot_mcmc_chain_with_prior\n",
    "plot_mcmc_chain_with_prior('karakas10/',use_prior = True, only_first_star = False,plot_true_parameters = False,plot_only_SSP_parameter = False)"
   ]
  },
  {
   "cell_type": "code",
   "execution_count": null,
   "metadata": {
    "collapsed": true
   },
   "outputs": [],
   "source": []
  },
  {
   "cell_type": "markdown",
   "metadata": {},
   "source": [
    "## Rerun without error optimization\n",
    "Set model errors to zero to test with no error marginalization, and stored in karakas10_zero_error"
   ]
  },
  {
   "cell_type": "code",
   "execution_count": null,
   "metadata": {
    "collapsed": true
   },
   "outputs": [],
   "source": [
    "## Change these settings in the parameter.py file, since multi_star_optimization resets parameters to defaults.\n",
    "\n",
    "a.error_marginalization = False\n",
    "a.zero_model_error = True"
   ]
  },
  {
   "cell_type": "code",
   "execution_count": null,
   "metadata": {},
   "outputs": [
    {
     "name": "stdout",
     "output_type": "stream",
     "text": [
      "Populating the interactive namespace from numpy and matplotlib\n",
      "['Proto-sun']\n"
     ]
    },
    {
     "name": "stderr",
     "output_type": "stream",
     "text": [
      "/home/philcox/anaconda3/lib/python3.6/site-packages/numpy/core/records.py:507: FutureWarning: Numpy has detected that you may be viewing or writing to an array returned by selecting multiple fields in a structured array. \n",
      "\n",
      "This code may break in numpy 1.13 because this will return a view instead of a copy -- see release notes for details.\n",
      "  return obj.view(dtype=(self.dtype.type, obj.dtype))\n",
      "/home/philcox/Chempy/Chempy/wrapper.py:159: RuntimeWarning: invalid value encountered in subtract\n",
      "  abundances[element] -= abundances['Fe']\n"
     ]
    },
    {
     "name": "stdout",
     "output_type": "stream",
     "text": [
      "first minimization for each star separately took: 88 seconds\n"
     ]
    },
    {
     "name": "stderr",
     "output_type": "stream",
     "text": [
      "/home/philcox/anaconda3/lib/python3.6/site-packages/numpy/core/records.py:507: FutureWarning: Numpy has detected that you may be viewing or writing to an array returned by selecting multiple fields in a structured array. \n",
      "\n",
      "This code may break in numpy 1.13 because this will return a view instead of a copy -- see release notes for details.\n",
      "  return obj.view(dtype=(self.dtype.type, obj.dtype))\n",
      "/home/philcox/Chempy/Chempy/wrapper.py:159: RuntimeWarning: invalid value encountered in subtract\n",
      "  abundances[element] -= abundances['Fe']\n",
      "/home/philcox/anaconda3/lib/python3.6/site-packages/numpy/core/records.py:507: FutureWarning: Numpy has detected that you may be viewing or writing to an array returned by selecting multiple fields in a structured array. \n",
      "\n",
      "This code may break in numpy 1.13 because this will return a view instead of a copy -- see release notes for details.\n",
      "  return obj.view(dtype=(self.dtype.type, obj.dtype))\n",
      "/home/philcox/Chempy/Chempy/wrapper.py:159: RuntimeWarning: invalid value encountered in subtract\n",
      "  abundances[element] -= abundances['Fe']\n",
      "/home/philcox/anaconda3/lib/python3.6/site-packages/numpy/core/records.py:507: FutureWarning: Numpy has detected that you may be viewing or writing to an array returned by selecting multiple fields in a structured array. \n",
      "\n",
      "This code may break in numpy 1.13 because this will return a view instead of a copy -- see release notes for details.\n",
      "  return obj.view(dtype=(self.dtype.type, obj.dtype))\n",
      "/home/philcox/Chempy/Chempy/wrapper.py:159: RuntimeWarning: invalid value encountered in subtract\n",
      "  abundances[element] -= abundances['Fe']\n",
      "/home/philcox/anaconda3/lib/python3.6/site-packages/numpy/core/records.py:507: FutureWarning: Numpy has detected that you may be viewing or writing to an array returned by selecting multiple fields in a structured array. \n",
      "\n",
      "This code may break in numpy 1.13 because this will return a view instead of a copy -- see release notes for details.\n",
      "  return obj.view(dtype=(self.dtype.type, obj.dtype))\n",
      "/home/philcox/Chempy/Chempy/wrapper.py:159: RuntimeWarning: invalid value encountered in subtract\n",
      "  abundances[element] -= abundances['Fe']\n",
      "/home/philcox/anaconda3/lib/python3.6/site-packages/numpy/core/records.py:507: FutureWarning: Numpy has detected that you may be viewing or writing to an array returned by selecting multiple fields in a structured array. \n",
      "\n",
      "This code may break in numpy 1.13 because this will return a view instead of a copy -- see release notes for details.\n",
      "  return obj.view(dtype=(self.dtype.type, obj.dtype))\n",
      "/home/philcox/Chempy/Chempy/wrapper.py:159: RuntimeWarning: invalid value encountered in subtract\n",
      "  abundances[element] -= abundances['Fe']\n",
      "/home/philcox/anaconda3/lib/python3.6/site-packages/numpy/core/records.py:507: FutureWarning: Numpy has detected that you may be viewing or writing to an array returned by selecting multiple fields in a structured array. \n",
      "\n",
      "This code may break in numpy 1.13 because this will return a view instead of a copy -- see release notes for details.\n",
      "  return obj.view(dtype=(self.dtype.type, obj.dtype))\n",
      "/home/philcox/Chempy/Chempy/wrapper.py:159: RuntimeWarning: invalid value encountered in subtract\n",
      "  abundances[element] -= abundances['Fe']\n",
      "/home/philcox/anaconda3/lib/python3.6/site-packages/numpy/core/records.py:507: FutureWarning: Numpy has detected that you may be viewing or writing to an array returned by selecting multiple fields in a structured array. \n",
      "\n",
      "This code may break in numpy 1.13 because this will return a view instead of a copy -- see release notes for details.\n",
      "  return obj.view(dtype=(self.dtype.type, obj.dtype))\n",
      "/home/philcox/Chempy/Chempy/wrapper.py:159: RuntimeWarning: invalid value encountered in subtract\n",
      "  abundances[element] -= abundances['Fe']\n",
      "/home/philcox/anaconda3/lib/python3.6/site-packages/numpy/core/records.py:507: FutureWarning: Numpy has detected that you may be viewing or writing to an array returned by selecting multiple fields in a structured array. \n",
      "\n",
      "This code may break in numpy 1.13 because this will return a view instead of a copy -- see release notes for details.\n",
      "  return obj.view(dtype=(self.dtype.type, obj.dtype))\n",
      "/home/philcox/Chempy/Chempy/wrapper.py:159: RuntimeWarning: invalid value encountered in subtract\n",
      "  abundances[element] -= abundances['Fe']\n",
      "/home/philcox/anaconda3/lib/python3.6/site-packages/numpy/core/records.py:507: FutureWarning: Numpy has detected that you may be viewing or writing to an array returned by selecting multiple fields in a structured array. \n",
      "\n",
      "This code may break in numpy 1.13 because this will return a view instead of a copy -- see release notes for details.\n",
      "  return obj.view(dtype=(self.dtype.type, obj.dtype))\n",
      "/home/philcox/Chempy/Chempy/wrapper.py:159: RuntimeWarning: invalid value encountered in subtract\n",
      "  abundances[element] -= abundances['Fe']\n",
      "/home/philcox/anaconda3/lib/python3.6/site-packages/numpy/core/records.py:507: FutureWarning: Numpy has detected that you may be viewing or writing to an array returned by selecting multiple fields in a structured array. \n",
      "\n",
      "This code may break in numpy 1.13 because this will return a view instead of a copy -- see release notes for details.\n",
      "  return obj.view(dtype=(self.dtype.type, obj.dtype))\n",
      "/home/philcox/Chempy/Chempy/wrapper.py:159: RuntimeWarning: invalid value encountered in subtract\n",
      "  abundances[element] -= abundances['Fe']\n",
      "/home/philcox/anaconda3/lib/python3.6/site-packages/numpy/core/records.py:507: FutureWarning: Numpy has detected that you may be viewing or writing to an array returned by selecting multiple fields in a structured array. \n",
      "\n",
      "This code may break in numpy 1.13 because this will return a view instead of a copy -- see release notes for details.\n",
      "  return obj.view(dtype=(self.dtype.type, obj.dtype))\n",
      "/home/philcox/Chempy/Chempy/wrapper.py:159: RuntimeWarning: invalid value encountered in subtract\n",
      "  abundances[element] -= abundances['Fe']\n",
      "/home/philcox/anaconda3/lib/python3.6/site-packages/numpy/core/records.py:507: FutureWarning: Numpy has detected that you may be viewing or writing to an array returned by selecting multiple fields in a structured array. \n",
      "\n",
      "This code may break in numpy 1.13 because this will return a view instead of a copy -- see release notes for details.\n",
      "  return obj.view(dtype=(self.dtype.type, obj.dtype))\n",
      "/home/philcox/Chempy/Chempy/wrapper.py:159: RuntimeWarning: invalid value encountered in subtract\n",
      "  abundances[element] -= abundances['Fe']\n",
      "/home/philcox/anaconda3/lib/python3.6/site-packages/numpy/core/records.py:507: FutureWarning: Numpy has detected that you may be viewing or writing to an array returned by selecting multiple fields in a structured array. \n",
      "\n",
      "This code may break in numpy 1.13 because this will return a view instead of a copy -- see release notes for details.\n",
      "  return obj.view(dtype=(self.dtype.type, obj.dtype))\n",
      "/home/philcox/Chempy/Chempy/wrapper.py:159: RuntimeWarning: invalid value encountered in subtract\n",
      "  abundances[element] -= abundances['Fe']\n",
      "/home/philcox/anaconda3/lib/python3.6/site-packages/numpy/core/records.py:507: FutureWarning: Numpy has detected that you may be viewing or writing to an array returned by selecting multiple fields in a structured array. \n",
      "\n",
      "This code may break in numpy 1.13 because this will return a view instead of a copy -- see release notes for details.\n",
      "  return obj.view(dtype=(self.dtype.type, obj.dtype))\n",
      "/home/philcox/Chempy/Chempy/wrapper.py:159: RuntimeWarning: invalid value encountered in subtract\n",
      "  abundances[element] -= abundances['Fe']\n",
      "/home/philcox/anaconda3/lib/python3.6/site-packages/numpy/core/records.py:507: FutureWarning: Numpy has detected that you may be viewing or writing to an array returned by selecting multiple fields in a structured array. \n",
      "\n",
      "This code may break in numpy 1.13 because this will return a view instead of a copy -- see release notes for details.\n",
      "  return obj.view(dtype=(self.dtype.type, obj.dtype))\n",
      "/home/philcox/Chempy/Chempy/wrapper.py:159: RuntimeWarning: invalid value encountered in subtract\n",
      "  abundances[element] -= abundances['Fe']\n",
      "/home/philcox/anaconda3/lib/python3.6/site-packages/numpy/core/records.py:507: FutureWarning: Numpy has detected that you may be viewing or writing to an array returned by selecting multiple fields in a structured array. \n",
      "\n",
      "This code may break in numpy 1.13 because this will return a view instead of a copy -- see release notes for details.\n",
      "  return obj.view(dtype=(self.dtype.type, obj.dtype))\n"
     ]
    },
    {
     "name": "stderr",
     "output_type": "stream",
     "text": [
      "/home/philcox/Chempy/Chempy/wrapper.py:159: RuntimeWarning: invalid value encountered in subtract\n",
      "  abundances[element] -= abundances['Fe']\n",
      "/home/philcox/anaconda3/lib/python3.6/site-packages/numpy/core/records.py:507: FutureWarning: Numpy has detected that you may be viewing or writing to an array returned by selecting multiple fields in a structured array. \n",
      "\n",
      "This code may break in numpy 1.13 because this will return a view instead of a copy -- see release notes for details.\n",
      "  return obj.view(dtype=(self.dtype.type, obj.dtype))\n",
      "/home/philcox/Chempy/Chempy/wrapper.py:159: RuntimeWarning: invalid value encountered in subtract\n",
      "  abundances[element] -= abundances['Fe']\n",
      "/home/philcox/anaconda3/lib/python3.6/site-packages/numpy/core/records.py:507: FutureWarning: Numpy has detected that you may be viewing or writing to an array returned by selecting multiple fields in a structured array. \n",
      "\n",
      "This code may break in numpy 1.13 because this will return a view instead of a copy -- see release notes for details.\n",
      "  return obj.view(dtype=(self.dtype.type, obj.dtype))\n",
      "/home/philcox/Chempy/Chempy/wrapper.py:159: RuntimeWarning: invalid value encountered in subtract\n",
      "  abundances[element] -= abundances['Fe']\n",
      "/home/philcox/anaconda3/lib/python3.6/site-packages/numpy/core/records.py:507: FutureWarning: Numpy has detected that you may be viewing or writing to an array returned by selecting multiple fields in a structured array. \n",
      "\n",
      "This code may break in numpy 1.13 because this will return a view instead of a copy -- see release notes for details.\n",
      "  return obj.view(dtype=(self.dtype.type, obj.dtype))\n",
      "/home/philcox/Chempy/Chempy/wrapper.py:159: RuntimeWarning: invalid value encountered in subtract\n",
      "  abundances[element] -= abundances['Fe']\n",
      "/home/philcox/anaconda3/lib/python3.6/site-packages/numpy/core/records.py:507: FutureWarning: Numpy has detected that you may be viewing or writing to an array returned by selecting multiple fields in a structured array. \n",
      "\n",
      "This code may break in numpy 1.13 because this will return a view instead of a copy -- see release notes for details.\n",
      "  return obj.view(dtype=(self.dtype.type, obj.dtype))\n",
      "/home/philcox/Chempy/Chempy/wrapper.py:159: RuntimeWarning: invalid value encountered in subtract\n",
      "  abundances[element] -= abundances['Fe']\n",
      "/home/philcox/anaconda3/lib/python3.6/site-packages/numpy/core/records.py:507: FutureWarning: Numpy has detected that you may be viewing or writing to an array returned by selecting multiple fields in a structured array. \n",
      "\n",
      "This code may break in numpy 1.13 because this will return a view instead of a copy -- see release notes for details.\n",
      "  return obj.view(dtype=(self.dtype.type, obj.dtype))\n",
      "/home/philcox/Chempy/Chempy/wrapper.py:159: RuntimeWarning: invalid value encountered in subtract\n",
      "  abundances[element] -= abundances['Fe']\n",
      "/home/philcox/anaconda3/lib/python3.6/site-packages/numpy/core/records.py:507: FutureWarning: Numpy has detected that you may be viewing or writing to an array returned by selecting multiple fields in a structured array. \n",
      "\n",
      "This code may break in numpy 1.13 because this will return a view instead of a copy -- see release notes for details.\n",
      "  return obj.view(dtype=(self.dtype.type, obj.dtype))\n",
      "/home/philcox/Chempy/Chempy/wrapper.py:159: RuntimeWarning: invalid value encountered in subtract\n",
      "  abundances[element] -= abundances['Fe']\n",
      "/home/philcox/anaconda3/lib/python3.6/site-packages/numpy/core/records.py:507: FutureWarning: Numpy has detected that you may be viewing or writing to an array returned by selecting multiple fields in a structured array. \n",
      "\n",
      "This code may break in numpy 1.13 because this will return a view instead of a copy -- see release notes for details.\n",
      "  return obj.view(dtype=(self.dtype.type, obj.dtype))\n",
      "/home/philcox/Chempy/Chempy/wrapper.py:159: RuntimeWarning: invalid value encountered in subtract\n",
      "  abundances[element] -= abundances['Fe']\n",
      "/home/philcox/anaconda3/lib/python3.6/site-packages/numpy/core/records.py:507: FutureWarning: Numpy has detected that you may be viewing or writing to an array returned by selecting multiple fields in a structured array. \n",
      "\n",
      "This code may break in numpy 1.13 because this will return a view instead of a copy -- see release notes for details.\n",
      "  return obj.view(dtype=(self.dtype.type, obj.dtype))\n",
      "/home/philcox/Chempy/Chempy/wrapper.py:159: RuntimeWarning: invalid value encountered in subtract\n",
      "  abundances[element] -= abundances['Fe']\n",
      "/home/philcox/anaconda3/lib/python3.6/site-packages/numpy/core/records.py:507: FutureWarning: Numpy has detected that you may be viewing or writing to an array returned by selecting multiple fields in a structured array. \n",
      "\n",
      "This code may break in numpy 1.13 because this will return a view instead of a copy -- see release notes for details.\n",
      "  return obj.view(dtype=(self.dtype.type, obj.dtype))\n",
      "/home/philcox/Chempy/Chempy/wrapper.py:159: RuntimeWarning: invalid value encountered in subtract\n",
      "  abundances[element] -= abundances['Fe']\n",
      "/home/philcox/anaconda3/lib/python3.6/site-packages/numpy/core/records.py:507: FutureWarning: Numpy has detected that you may be viewing or writing to an array returned by selecting multiple fields in a structured array. \n",
      "\n",
      "This code may break in numpy 1.13 because this will return a view instead of a copy -- see release notes for details.\n",
      "  return obj.view(dtype=(self.dtype.type, obj.dtype))\n",
      "/home/philcox/Chempy/Chempy/wrapper.py:159: RuntimeWarning: invalid value encountered in subtract\n",
      "  abundances[element] -= abundances['Fe']\n",
      "/home/philcox/anaconda3/lib/python3.6/site-packages/numpy/core/records.py:507: FutureWarning: Numpy has detected that you may be viewing or writing to an array returned by selecting multiple fields in a structured array. \n",
      "\n",
      "This code may break in numpy 1.13 because this will return a view instead of a copy -- see release notes for details.\n",
      "  return obj.view(dtype=(self.dtype.type, obj.dtype))\n",
      "/home/philcox/Chempy/Chempy/wrapper.py:159: RuntimeWarning: invalid value encountered in subtract\n",
      "  abundances[element] -= abundances['Fe']\n",
      "/home/philcox/anaconda3/lib/python3.6/site-packages/numpy/core/records.py:507: FutureWarning: Numpy has detected that you may be viewing or writing to an array returned by selecting multiple fields in a structured array. \n",
      "\n",
      "This code may break in numpy 1.13 because this will return a view instead of a copy -- see release notes for details.\n",
      "  return obj.view(dtype=(self.dtype.type, obj.dtype))\n",
      "/home/philcox/Chempy/Chempy/wrapper.py:159: RuntimeWarning: invalid value encountered in subtract\n",
      "  abundances[element] -= abundances['Fe']\n",
      "/home/philcox/anaconda3/lib/python3.6/site-packages/numpy/core/records.py:507: FutureWarning: Numpy has detected that you may be viewing or writing to an array returned by selecting multiple fields in a structured array. \n",
      "\n",
      "This code may break in numpy 1.13 because this will return a view instead of a copy -- see release notes for details.\n",
      "  return obj.view(dtype=(self.dtype.type, obj.dtype))\n",
      "/home/philcox/Chempy/Chempy/wrapper.py:159: RuntimeWarning: invalid value encountered in subtract\n",
      "  abundances[element] -= abundances['Fe']\n"
     ]
    },
    {
     "name": "stdout",
     "output_type": "stream",
     "text": [
      "[-90.025933199836132]\n",
      "step 1 global minimization took: 108 seconds\n"
     ]
    },
    {
     "name": "stderr",
     "output_type": "stream",
     "text": [
      "/home/philcox/anaconda3/lib/python3.6/site-packages/numpy/core/records.py:507: FutureWarning: Numpy has detected that you may be viewing or writing to an array returned by selecting multiple fields in a structured array. \n",
      "\n",
      "This code may break in numpy 1.13 because this will return a view instead of a copy -- see release notes for details.\n",
      "  return obj.view(dtype=(self.dtype.type, obj.dtype))\n",
      "/home/philcox/Chempy/Chempy/wrapper.py:159: RuntimeWarning: invalid value encountered in subtract\n",
      "  abundances[element] -= abundances['Fe']\n"
     ]
    },
    {
     "name": "stdout",
     "output_type": "stream",
     "text": [
      "step 1 local minimization took: 26 seconds\n"
     ]
    },
    {
     "name": "stderr",
     "output_type": "stream",
     "text": [
      "/home/philcox/anaconda3/lib/python3.6/site-packages/numpy/core/records.py:507: FutureWarning: Numpy has detected that you may be viewing or writing to an array returned by selecting multiple fields in a structured array. \n",
      "\n",
      "This code may break in numpy 1.13 because this will return a view instead of a copy -- see release notes for details.\n",
      "  return obj.view(dtype=(self.dtype.type, obj.dtype))\n",
      "/home/philcox/Chempy/Chempy/wrapper.py:159: RuntimeWarning: invalid value encountered in subtract\n",
      "  abundances[element] -= abundances['Fe']\n",
      "/home/philcox/anaconda3/lib/python3.6/site-packages/numpy/core/records.py:507: FutureWarning: Numpy has detected that you may be viewing or writing to an array returned by selecting multiple fields in a structured array. \n",
      "\n",
      "This code may break in numpy 1.13 because this will return a view instead of a copy -- see release notes for details.\n",
      "  return obj.view(dtype=(self.dtype.type, obj.dtype))\n",
      "/home/philcox/Chempy/Chempy/wrapper.py:159: RuntimeWarning: invalid value encountered in subtract\n",
      "  abundances[element] -= abundances['Fe']\n",
      "/home/philcox/anaconda3/lib/python3.6/site-packages/numpy/core/records.py:507: FutureWarning: Numpy has detected that you may be viewing or writing to an array returned by selecting multiple fields in a structured array. \n",
      "\n",
      "This code may break in numpy 1.13 because this will return a view instead of a copy -- see release notes for details.\n",
      "  return obj.view(dtype=(self.dtype.type, obj.dtype))\n",
      "/home/philcox/Chempy/Chempy/wrapper.py:159: RuntimeWarning: invalid value encountered in subtract\n",
      "  abundances[element] -= abundances['Fe']\n",
      "/home/philcox/anaconda3/lib/python3.6/site-packages/numpy/core/records.py:507: FutureWarning: Numpy has detected that you may be viewing or writing to an array returned by selecting multiple fields in a structured array. \n",
      "\n",
      "This code may break in numpy 1.13 because this will return a view instead of a copy -- see release notes for details.\n",
      "  return obj.view(dtype=(self.dtype.type, obj.dtype))\n",
      "/home/philcox/Chempy/Chempy/wrapper.py:159: RuntimeWarning: invalid value encountered in subtract\n",
      "  abundances[element] -= abundances['Fe']\n",
      "/home/philcox/anaconda3/lib/python3.6/site-packages/numpy/core/records.py:507: FutureWarning: Numpy has detected that you may be viewing or writing to an array returned by selecting multiple fields in a structured array. \n",
      "\n",
      "This code may break in numpy 1.13 because this will return a view instead of a copy -- see release notes for details.\n",
      "  return obj.view(dtype=(self.dtype.type, obj.dtype))\n",
      "/home/philcox/Chempy/Chempy/wrapper.py:159: RuntimeWarning: invalid value encountered in subtract\n",
      "  abundances[element] -= abundances['Fe']\n",
      "/home/philcox/anaconda3/lib/python3.6/site-packages/numpy/core/records.py:507: FutureWarning: Numpy has detected that you may be viewing or writing to an array returned by selecting multiple fields in a structured array. \n",
      "\n",
      "This code may break in numpy 1.13 because this will return a view instead of a copy -- see release notes for details.\n",
      "  return obj.view(dtype=(self.dtype.type, obj.dtype))\n",
      "/home/philcox/Chempy/Chempy/wrapper.py:159: RuntimeWarning: invalid value encountered in subtract\n",
      "  abundances[element] -= abundances['Fe']\n",
      "/home/philcox/anaconda3/lib/python3.6/site-packages/numpy/core/records.py:507: FutureWarning: Numpy has detected that you may be viewing or writing to an array returned by selecting multiple fields in a structured array. \n",
      "\n",
      "This code may break in numpy 1.13 because this will return a view instead of a copy -- see release notes for details.\n",
      "  return obj.view(dtype=(self.dtype.type, obj.dtype))\n",
      "/home/philcox/Chempy/Chempy/wrapper.py:159: RuntimeWarning: invalid value encountered in subtract\n",
      "  abundances[element] -= abundances['Fe']\n"
     ]
    }
   ],
   "source": [
    "%pylab inline\n",
    "from Chempy.wrapper import multi_star_optimization # Run code without error optimization\n",
    "# errors in abundance['Fe'] are fine, since initial Fe mass is zero, so abundance is -inf\n",
    "%timeit multi_star_optimization()"
   ]
  },
  {
   "cell_type": "code",
   "execution_count": null,
   "metadata": {
    "collapsed": true
   },
   "outputs": [],
   "source": []
  },
  {
   "cell_type": "code",
   "execution_count": null,
   "metadata": {
    "collapsed": true
   },
   "outputs": [],
   "source": []
  },
  {
   "cell_type": "code",
   "execution_count": null,
   "metadata": {
    "collapsed": true
   },
   "outputs": [],
   "source": []
  },
  {
   "cell_type": "code",
   "execution_count": null,
   "metadata": {
    "collapsed": true
   },
   "outputs": [],
   "source": [
    "%pylab inline\n",
    "from Chempy.cem_function import cem2, extract_parameters_and_priors\n",
    "from Chempy.parameter import ModelParameters\n",
    "a=ModelParameters()\n",
    "a.p0 = np.array([-2.63,-2.81,-0.83,-0.29,0.55,0.50]) # Parameters found by model\n",
    "a = extract_parameters_and_priors(a.p0, a) # To update to new model\n",
    "abundances, names = cem2(a) # predict abundances\n"
   ]
  },
  {
   "cell_type": "code",
   "execution_count": null,
   "metadata": {
    "collapsed": true
   },
   "outputs": [],
   "source": []
  },
  {
   "cell_type": "code",
   "execution_count": null,
   "metadata": {
    "collapsed": true
   },
   "outputs": [],
   "source": []
  },
  {
   "cell_type": "code",
   "execution_count": null,
   "metadata": {
    "collapsed": true
   },
   "outputs": [],
   "source": []
  },
  {
   "cell_type": "markdown",
   "metadata": {},
   "source": [
    "**Not being used at the moment**\n",
    "\n",
    "%pylab inline\n",
    "from Chempy.parameter import ModelParameters\n",
    "from Chempy.cem_function import posterior_function_predictions\n",
    "a=ModelParameters()\n",
    "a.p0 = np.array([-2.63,-2.81,-0.83,-0.29,0.55,0.50]) # Parameters found by model\n",
    "posterior, abundances, names = posterior_function_predictions(a.p0,a)\n",
    "\n"
   ]
  },
  {
   "cell_type": "markdown",
   "metadata": {},
   "source": [
    "proto_sun = np.load('Chempy/input/stars/Proto-sun.npy')\n",
    "proto_sun_abundance=[]\n",
    "proto_sun_error=[]\n",
    "for item in names:\n",
    "    temp_abundance = proto_sun[0][item]\n",
    "    temp_error = proto_sun[1][item]\n",
    "    proto_sun_abundance.append(temp_abundance)\n",
    "    proto_sun_error.append(temp_error)\n",
    "    \n",
    "\n",
    "fig = plt.figure(figsize=(30.69,8.27), dpi=100)\n",
    "ax = fig.add_subplot(111)\n",
    "plt.plot(np.arange(len(names)),abundances,label='Final model abundances',linestyle='-') # Plot model data\n",
    "plt.errorbar(np.arange(len(a.element_names)),sun_list,xerr=None,yerr=sol_error,linestyle = '',mew=3,marker='x',capthick =3,capsize = 20, ms = 10,elinewidth=3,label='solar')\n",
    "plt.ylim((-0.5,0.5))\n",
    "abundance_names = ['[%s/H]' %(item) for item in a.element_names]\n",
    "plt.xticks(np.arange(len(a.element_names)),abundance_names)\n",
    "plt.ylabel(\"abundance relative to solar in dex\")\n",
    "plt.xlabel(\"Element\")"
   ]
  },
  {
   "cell_type": "markdown",
   "metadata": {},
   "source": [
    "### Check protosolar abundances - use these or those in input/stars/Proto_solar.npy"
   ]
  },
  {
   "cell_type": "code",
   "execution_count": null,
   "metadata": {
    "collapsed": true
   },
   "outputs": [],
   "source": [
    "## CREATE PLOT OF RESULTS vs PROTOSOLAR ABUNDANCES\n",
    "\n",
    "from Chempy.solar_abundance import solar_abundances\n",
    "basic_solar = solar_abundances()\n",
    "getattr(basic_solar,'Asplund09')()\n",
    "sol_table = basic_solar.table\n",
    "names = np.asarray(names)\n",
    "abundances = np.asarray(abundances)\n",
    "\n",
    "abundance_list = [] # To reorder abundance data\n",
    "sol_error = [] # Solar data\n",
    "sun_list = []\n",
    "\n",
    "for i,item in enumerate(a.element_names):\n",
    "    temp_error = sol_table['error'][np.where(sol_table['Symbol']==item)]\n",
    "    temp_abundance = abundances[np.where(names==item)]\n",
    "    sol_error.append(temp_error)\n",
    "    abundance_list.append(temp_abundance)\n",
    "    if item != \"C+N\":\n",
    "        if item == 'He':\n",
    "            sun_list.append(0.05)\n",
    "        else:\n",
    "            sun_list.append(0.04) ## add 0.04dex to get protosolar abundances (Asplund 2009)\n",
    "    else:\n",
    "        sun_list.append(np.log10(2.)) \n",
    "        \n",
    "fig = plt.figure(figsize=(30.69,8.27), dpi=100)\n",
    "ax = fig.add_subplot(111)\n",
    "plt.plot(np.arange(len(a.element_names)),abundance_list,label='Final model abundances',linestyle='-') # Plot model data\n",
    "plt.errorbar(np.arange(len(a.element_names)),sun_list,xerr=None,yerr=sol_error,linestyle = '',mew=3,marker='x',capthick =3,capsize = 20, ms = 10,elinewidth=3,label='solar')\n",
    "plt.ylim((-0.5,0.5))\n",
    "abundance_names = ['[%s/H]' %(item) for item in a.element_names]\n",
    "plt.xticks(np.arange(len(a.element_names)),abundance_names)\n",
    "plt.ylabel(\"abundance relative to solar in dex\")\n",
    "plt.xlabel(\"Element\")"
   ]
  },
  {
   "cell_type": "markdown",
   "metadata": {},
   "source": [
    "**Test log(posterior) - different to MCMC output???**"
   ]
  },
  {
   "cell_type": "code",
   "execution_count": null,
   "metadata": {
    "collapsed": true
   },
   "outputs": [],
   "source": [
    "\n",
    "\n",
    "from Chempy.cem_function import posterior_function_predictions\n",
    "posterior, abundances, names = posterior_function_predictions(a.p0,a)\n",
    "print(posterior)"
   ]
  },
  {
   "cell_type": "markdown",
   "metadata": {},
   "source": [
    "**Test effect of turning off model error - GET THIS WORKING**"
   ]
  },
  {
   "cell_type": "code",
   "execution_count": null,
   "metadata": {
    "collapsed": true
   },
   "outputs": [],
   "source": [
    "\n",
    "\n",
    "a.error_marginalization = False\n",
    "a.zero_model_error = True\n",
    "#posterior, abundances, names = posterior_function_predictions(a.p0,a)\n",
    "print(posterior)"
   ]
  },
  {
   "cell_type": "code",
   "execution_count": null,
   "metadata": {
    "collapsed": true
   },
   "outputs": [],
   "source": []
  },
  {
   "cell_type": "code",
   "execution_count": null,
   "metadata": {
    "collapsed": true
   },
   "outputs": [],
   "source": [
    "%pylab inline\n",
    "from Chempy.cem_function import posterior_function_predictions\n",
    "from Chempy.parameter import ModelParameters\n",
    "a = ModelParameters()\n",
    "posterior,abundances,names = posterior_function_predictions(a.p0,a)"
   ]
  },
  {
   "cell_type": "code",
   "execution_count": null,
   "metadata": {
    "collapsed": true
   },
   "outputs": [],
   "source": [
    "a.p0"
   ]
  },
  {
   "cell_type": "code",
   "execution_count": null,
   "metadata": {
    "collapsed": true
   },
   "outputs": [],
   "source": [
    "a.yield_table_name_agb_index"
   ]
  },
  {
   "cell_type": "code",
   "execution_count": null,
   "metadata": {
    "collapsed": true
   },
   "outputs": [],
   "source": []
  }
 ],
 "metadata": {
  "kernelspec": {
   "display_name": "Python 3",
   "language": "python",
   "name": "python3"
  },
  "language_info": {
   "codemirror_mode": {
    "name": "ipython",
    "version": 3
   },
   "file_extension": ".py",
   "mimetype": "text/x-python",
   "name": "python",
   "nbconvert_exporter": "python",
   "pygments_lexer": "ipython3",
   "version": "3.6.1"
  }
 },
 "nbformat": 4,
 "nbformat_minor": 2
}
