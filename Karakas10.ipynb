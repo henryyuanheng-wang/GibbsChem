{
 "cells": [
  {
   "cell_type": "markdown",
   "metadata": {},
   "source": [
    "## Karakas 2010 yields from MCMC\n",
    "\n",
    "Using all default settings. Time taken was 4299.766675710678  seconds"
   ]
  },
  {
   "cell_type": "code",
   "execution_count": null,
   "metadata": {},
   "outputs": [
    {
     "name": "stdout",
     "output_type": "stream",
     "text": [
      "Populating the interactive namespace from numpy and matplotlib\n"
     ]
    }
   ],
   "source": [
    "%pylab inline"
   ]
  },
  {
   "cell_type": "markdown",
   "metadata": {},
   "source": [
    "Output from mcmc\n",
    "\n",
    "[array([[-2.70296043, -3.07486087, -0.75194978, -0.29123924,  0.51871529,\n",
    "          0.50217262]]),\n",
    " 'initial minimization',\n",
    " (array([-2.68304278, -3.0362274 , -0.77824288]), 1.069812759180552),\n",
    " 'step 1 global minimization',\n",
    " array([[-2.68304278, -3.0362274 , -0.77824288, -0.32036316,  0.49277952,\n",
    "          0.45195536]]),\n",
    " 'step 1 local minimization',\n",
    " (array([-2.72857389, -3.08996898, -0.79428642]), 1.1084093390131533),\n",
    " 'step 2 global minimization',\n",
    " array([[-2.72857389, -3.08996898, -0.79428642, -0.3435005 ,  0.44715179,\n",
    "          0.41429241]]),\n",
    " 'step 2 local minimization',\n",
    "\n",
    "[1.069812759180552, 1.1084093390131533]]\n"
   ]
  },
  {
   "cell_type": "code",
   "execution_count": null,
   "metadata": {
    "scrolled": true
   },
   "outputs": [
    {
     "name": "stdout",
     "output_type": "stream",
     "text": [
      "blob shape =  (64, 303, 22, 1) probably some runs did not return results and were stored anyway.\n",
      "The chain has a length of 303 iterations, each iteration having 64 evaluations/walkers\n",
      "Mean posteriors at the beginning and the end of the chain:\n",
      "-1.37415732046 -0.0644624776272\n",
      "Mean posteriors after the burn-in tail is cut out:\n",
      "-1.37415732046 -1.37351918182\n",
      "We are left with a sample of 4992 posterior evaluations from the converged MCMC chain\n",
      "We have 4990 iterations good enough posterior, their posteriors range from\n",
      "2 runs of the stabilised MCMC had a posterior that was worse -15 ln\n",
      "1.44956242711 -12.774860528\n",
      "Highest posterior was obtained at parameters:  [[-2.65589367 -2.82262019 -0.8408339  -0.38275959  0.53528676  0.51009285]]\n",
      "Number of unique posterior values:  2574\n",
      "Inferred marginalized parameter distributions are:\n",
      "0 -2.63056427689 +- 0.0923373251025\n",
      "1 -2.80911639102 +- 0.168416879634\n",
      "2 -0.8218930704 +- 0.300196148878\n",
      "3 -0.270093400902 +- 0.280734949936\n",
      "4 0.552184876323 +- 0.091720638131\n",
      "5 0.493411893893 +- 0.0976484969559\n"
     ]
    }
   ],
   "source": [
    "from Chempy.plot_mcmc import restructure_chain\n",
    "restructure_chain('karakas10/')"
   ]
  },
  {
   "cell_type": "code",
   "execution_count": null,
   "metadata": {},
   "outputs": [],
   "source": [
    "from Chempy.plot_mcmc import plot_mcmc_chain_with_prior\n",
    "plot_mcmc_chain_with_prior('karakas10/',use_prior = True, only_first_star = False,plot_true_parameters = False,plot_only_SSP_parameter = False)"
   ]
  },
  {
   "cell_type": "code",
   "execution_count": null,
   "metadata": {
    "collapsed": true
   },
   "outputs": [],
   "source": []
  }
 ],
 "metadata": {
  "kernelspec": {
   "display_name": "Python 3",
   "language": "python",
   "name": "python3"
  },
  "language_info": {
   "codemirror_mode": {
    "name": "ipython",
    "version": 3
   },
   "file_extension": ".py",
   "mimetype": "text/x-python",
   "name": "python",
   "nbconvert_exporter": "python",
   "pygments_lexer": "ipython3",
   "version": "3.6.1"
  }
 },
 "nbformat": 4,
 "nbformat_minor": 2
}
