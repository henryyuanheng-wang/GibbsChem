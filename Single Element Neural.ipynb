{
 "cells": [
  {
   "cell_type": "markdown",
   "metadata": {},
   "source": [
    "## Function to calculate neural predictions for a single element"
   ]
  },
  {
   "cell_type": "code",
   "execution_count": 17,
   "metadata": {},
   "outputs": [
    {
     "name": "stdout",
     "output_type": "stream",
     "text": [
      "Populating the interactive namespace from numpy and matplotlib\n"
     ]
    }
   ],
   "source": [
    "%pylab inline\n",
    "import torch\n",
    "from torch.autograd import Variable\n",
    "from Chempy.parameter import ModelParameters\n",
    "a = ModelParameters\n",
    "a.neurons = 40 # 10 neurons\n",
    "a.epochs = 1000\n",
    "learning_rate = 0.01\n",
    "element_index = 0"
   ]
  },
  {
   "cell_type": "code",
   "execution_count": 23,
   "metadata": {
    "collapsed": true
   },
   "outputs": [],
   "source": [
    "def single_neural(lr,element_index,neurons=a.neurons):\n",
    "\n",
    "    training_abundances = np.load('Neural/training_abundances.npy')\n",
    "    tr_input = np.load('Neural/training_norm_grid.npy')\n",
    "    tr_output = training_abundances[:,element_index]\n",
    "\n",
    "    dim_in = tr_input.shape[1]\n",
    "    dim_out = 1\n",
    "\n",
    "    tr_input = Variable(torch.from_numpy(tr_input)).type(torch.FloatTensor)\n",
    "    tr_output = Variable(torch.from_numpy(tr_output), requires_grad=False).type(torch.FloatTensor)\n",
    "\n",
    "    model = []\n",
    "    model = torch.nn.Sequential(\n",
    "        torch.nn.Linear(dim_in,neurons),\n",
    "        torch.nn.Tanh(),\n",
    "        torch.nn.Linear(neurons,dim_out)\n",
    "        )\n",
    "    loss_fn = torch.nn.L1Loss(size_average=True)\n",
    "\n",
    "\n",
    "    optimizer = torch.optim.Adam(model.parameters(), lr = lr)\n",
    "    losslog = []\n",
    "    epoch = []\n",
    "\n",
    "    # Train neural network\n",
    "    for i in range(a.epochs):\n",
    "        pred_output = model(tr_input)\n",
    "        loss = loss_fn(pred_output, tr_output)\n",
    "        optimizer.zero_grad() # Initially zero gradient\n",
    "        loss.backward() # Backpropagation\n",
    "        optimizer.step() # Update via optimizer\n",
    "\n",
    "        # Output loss\n",
    "        if i % 3 ==0:\n",
    "            losslog.append(loss.data[0])\n",
    "            epoch.append(i)\n",
    "        if i % 100==0:\n",
    "            print(\"Training epoch %d of %d complete\" %(i,a.epochs))\n",
    "\n",
    "    # Convert weights to numpy arrays\n",
    "    model_numpy = []\n",
    "    for param in model.parameters():\n",
    "        model_numpy.append(param.data.numpy())\n",
    "        \n",
    "    w_array_0=model_numpy[0]\n",
    "    b_array_0=model_numpy[1]\n",
    "    w_array_1=model_numpy[2]\n",
    "    b_array_1=model_numpy[3]\n",
    "    \n",
    "    np.save('SingleElement/w0.npy',w_array_0)\n",
    "    np.save('SingleElement/w1.npy',w_array_1)\n",
    "    np.save('SingleElement/b0.npy',b_array_0)\n",
    "    np.save('SingleElement/b1.npy',b_array_1)\n",
    "    \n",
    "    # Test network\n",
    "    all_abun = np.load('Neural/verif_abundances.npy')\n",
    "    test_abun = all_abun[:,element_index]\n",
    "    test_param = np.load('Neural/verif_param_grid.npy')\n",
    "\n",
    "    err = []\n",
    "    for i,item in enumerate(test_param):\n",
    "        norm_data = (item - a.p0)/np.array(a.training_widths)\n",
    "        hidden1 = np.tanh(np.array(np.dot(w_array_0,norm_data)+b_array_0))\n",
    "        output = np.dot(w_array_1, hidden1)+b_array_1\n",
    "        err.append(np.absolute(output-test_abun[i]))\n",
    "    print(np.median(err),max(err),min(err))\n",
    "    return np.median(err),np.std(err),epoch,losslog"
   ]
  },
  {
   "cell_type": "code",
   "execution_count": 19,
   "metadata": {
    "collapsed": true
   },
   "outputs": [],
   "source": [
    "def neural_pred(test_param):\n",
    "    \"\"\"\n",
    "    Predict element output from pre-trained neural network\n",
    "    \"\"\"\n",
    "    # Load coefficients\n",
    "    w_array_0 = np.load('SingleElement/w0.npy')\n",
    "    w_array_1 = np.load('SingleElement/w1.npy')\n",
    "    b_array_0 = np.load('SingleElement/b0.npy')\n",
    "    b_array_1 = np.load('SingleElement/b1.npy')\n",
    "        \n",
    "    norm_data = (test_param - a.p0)/np.array(a.training_widths)\n",
    "    hidden1 = np.tanh(np.array(np.dot(w_array_0,norm_data)+b_array_0))\n",
    "    output = np.dot(w_array_1, hidden1)+b_array_1\n",
    "    return output"
   ]
  },
  {
   "cell_type": "code",
   "execution_count": null,
   "metadata": {
    "scrolled": true
   },
   "outputs": [],
   "source": [
    "error = []\n",
    "stderr = []\n",
    "learning_rate = [0.01]\n",
    "neurons = 10\n",
    "for lr in learning_rate:\n",
    "    print(lr)\n",
    "    er,ste,epoch,losslog,w_array_0,b_array_0,w_array_1,b_array_1 = single_neural(lr,element_index,neurons)\n",
    "    error.append(er)\n",
    "    stderr.append(ste)\n",
    "    plt.plot(epoch,losslog)"
   ]
  },
  {
   "cell_type": "code",
   "execution_count": null,
   "metadata": {
    "collapsed": true,
    "scrolled": true
   },
   "outputs": [],
   "source": [
    "plt.errorbar((learning_rate),error,yerr=stderr)\n"
   ]
  },
  {
   "cell_type": "code",
   "execution_count": null,
   "metadata": {
    "collapsed": true
   },
   "outputs": [],
   "source": [
    "# Create random parameters up to 3 sigma from mean\n",
    "from Chempy.cem_function import posterior_function_returning_predictions\n",
    "err = []\n",
    "sigma = np.array([0.3,0.3,0.3,0.3,0.1,0.1])\n",
    "Ntest = 500\n",
    "param = np.zeros((Ntest,len(a.p0)))\n",
    "for i in range(Ntest):\n",
    "    print(i)\n",
    "    param[i,:] = a.p0+3*sigma*np.random.rand(6)\n",
    "    rescaled_param = (param[i,:]-a.p0)/np.array(a.training_widths)\n",
    "    hidden1 = np.tanh(np.array(np.dot(w_array_0,rescaled_param)+b_array_0))\n",
    "    neural_output = np.dot(w_array_1, hidden1)+b_array_1\n",
    "    abun,_= posterior_function_returning_predictions((param[i,:],a))\n",
    "    chem_output = abun[element_index]\n",
    "    err.append(np.absolute(chem_output-neural_output))\n"
   ]
  },
  {
   "cell_type": "code",
   "execution_count": null,
   "metadata": {
    "collapsed": true
   },
   "outputs": [],
   "source": [
    "plt.scatter(param[:,0],param[:,1],c=err)\n",
    "plt.colorbar()"
   ]
  },
  {
   "cell_type": "code",
   "execution_count": null,
   "metadata": {
    "collapsed": true
   },
   "outputs": [],
   "source": []
  },
  {
   "cell_type": "markdown",
   "metadata": {},
   "source": [
    "## New testing of dataset"
   ]
  },
  {
   "cell_type": "code",
   "execution_count": 22,
   "metadata": {},
   "outputs": [
    {
     "name": "stdout",
     "output_type": "stream",
     "text": [
      "[0.016025219887305341, 0.016960882934654305, 0.047589471591412802, 0.099110594333807062, 0.10847095278927554] [0.0018837098826944808, 0.0021493873680176589, 0.0064055507339572312, 0.0095992383489005798, 0.011362435639802642]\n"
     ]
    },
    {
     "data": {
      "image/png": "[encoded data removed]",
      "text/plain": [
       "<matplotlib.figure.Figure at 0x7f278a5440f0>"
      ]
     },
     "metadata": {},
     "output_type": "display_data"
    }
   ],
   "source": [
    "widths = [1,2,3,4,4.3]\n",
    "err_median = []\n",
    "err_up = []\n",
    "err_low = []\n",
    "for width in widths:\n",
    "    tr_abun = np.load('SingleElement/'+str(width)+'_sigma_abundances.npy')[:,element_index]\n",
    "    tr_param = np.load('SingleElement/'+str(width)+'_sigma_param_grid.npy')\n",
    "    \n",
    "    err = []\n",
    "    for i,param in enumerate(tr_param):\n",
    "        neural_abun = neural_pred(param)\n",
    "        err.append(np.absolute(neural_abun-tr_abun[i]))\n",
    "    err_median.append(np.percentile(err,50))\n",
    "    err_up.append(np.percentile(err,100-15.865))\n",
    "    err_low.append(np.percentile(err,15.865))\n",
    "                   \n",
    "errorbar_widths = [np.array(err_median)-np.array(err_low),np.array(err_up)-np.array(err_median)]\n",
    "plt.errorbar(widths,err_median,yerr = errorbar_widths,fmt='-o')\n",
    "plt.ylabel('Network error')\n",
    "plt.xlabel('Width of dataset (sigma)')\n",
    "plt.title('1 element predictions')\n",
    "print(err_up,err_low)"
   ]
  },
  {
   "cell_type": "code",
   "execution_count": null,
   "metadata": {},
   "outputs": [],
   "source": [
    "# For all elements\n",
    "from Chempy.neural import neural_output\n",
    "widths = [1,2,3,4,4.3]\n",
    "err_median = []\n",
    "err_up = []\n",
    "err_low = []\n",
    "for width in widths:\n",
    "    tr_abun = np.load('SingleElement/'+str(width)+'_sigma_abundances.npy')[:]\n",
    "    tr_param = np.load('SingleElement/'+str(width)+'_sigma_param_grid.npy')\n",
    "    \n",
    "    err = []\n",
    "    for i,param in enumerate(tr_param):\n",
    "        neural_abun = neural_output(param)\n",
    "        temp_err = (np.absolute(neural_abun-tr_abun[i]))\n",
    "        err.append(mean(temp_err))\n",
    "    err_median.append(np.percentile(err,50))\n",
    "    err_up.append(np.percentile(err,100-15.865))\n",
    "    err_low.append(np.percentile(err,15.865))\n",
    "                   \n",
    "errorbar_widths = [np.array(err_median)-np.array(err_low),np.array(err_up)-np.array(err_median)]\n",
    "plt.errorbar(widths,err_median,yerr = errorbar_widths,fmt='-o')\n",
    "plt.ylabel('Mean network error across all elements')\n",
    "plt.xlabel('Width of dataset (sigma)')\n",
    "plt.title('Network for all 28 elements')"
   ]
  },
  {
   "cell_type": "code",
   "execution_count": null,
   "metadata": {
    "collapsed": true
   },
   "outputs": [],
   "source": []
  },
  {
   "cell_type": "code",
   "execution_count": null,
   "metadata": {
    "collapsed": true
   },
   "outputs": [],
   "source": []
  },
  {
   "cell_type": "markdown",
   "metadata": {},
   "source": [
    "## Optimizing network with 3 sigma ranges"
   ]
  },
  {
   "cell_type": "code",
   "execution_count": 20,
   "metadata": {
    "collapsed": true
   },
   "outputs": [],
   "source": [
    "def single_3sigma(lr,element_index,neurons=a.neurons):\n",
    "\n",
    "    training_abundances = np.load('Neural/training_abundances.npy')\n",
    "    tr_input = np.load('Neural/training_norm_grid.npy')\n",
    "    tr_output = training_abundances[:,element_index]\n",
    "\n",
    "    dim_in = tr_input.shape[1]\n",
    "    dim_out = 1\n",
    "\n",
    "    tr_input = Variable(torch.from_numpy(tr_input)).type(torch.FloatTensor)\n",
    "    tr_output = Variable(torch.from_numpy(tr_output), requires_grad=False).type(torch.FloatTensor)\n",
    "\n",
    "    model = []\n",
    "    model = torch.nn.Sequential(\n",
    "        torch.nn.Linear(dim_in,neurons),\n",
    "        torch.nn.Tanh(),\n",
    "        torch.nn.Linear(neurons,dim_out)\n",
    "        )\n",
    "    loss_fn = torch.nn.L1Loss(size_average=True)\n",
    "\n",
    "\n",
    "    optimizer = torch.optim.Adam(model.parameters(), lr = lr)\n",
    "    losslog = []\n",
    "    epoch = []\n",
    "\n",
    "    # Train neural network\n",
    "    for i in range(a.epochs):\n",
    "        pred_output = model(tr_input)\n",
    "        loss = loss_fn(pred_output, tr_output)\n",
    "        optimizer.zero_grad() # Initially zero gradient\n",
    "        loss.backward() # Backpropagation\n",
    "        optimizer.step() # Update via optimizer\n",
    "\n",
    "        # Output loss\n",
    "        if i % 3 ==0:\n",
    "            losslog.append(loss.data[0])\n",
    "            epoch.append(i)\n",
    "        if i % 500==0:\n",
    "            print(\"Training epoch %d of %d complete\" %(i,a.epochs))\n",
    "\n",
    "    # Convert weights to numpy arrays\n",
    "    model_numpy = []\n",
    "    for param in model.parameters():\n",
    "        model_numpy.append(param.data.numpy())\n",
    "        \n",
    "    w_array_0=model_numpy[0]\n",
    "    b_array_0=model_numpy[1]\n",
    "    w_array_1=model_numpy[2]\n",
    "    b_array_1=model_numpy[3]\n",
    "    \n",
    "    np.save('SingleElement/w0.npy',w_array_0)\n",
    "    np.save('SingleElement/w1.npy',w_array_1)\n",
    "    np.save('SingleElement/b0.npy',b_array_0)\n",
    "    np.save('SingleElement/b1.npy',b_array_1)\n",
    "    \n",
    "    # Test network\n",
    "    all_abun = np.load('SingleElement/3_sigma_abundances.npy')\n",
    "    test_abun = all_abun[:,element_index]\n",
    "    test_param = np.load('SingleElement/3_sigma_param_grid.npy')\n",
    "\n",
    "    err = []\n",
    "    for i,item in enumerate(test_param):\n",
    "        norm_data = (item - a.p0)/np.array(a.training_widths)\n",
    "        hidden1 = np.tanh(np.array(np.dot(w_array_0,norm_data)+b_array_0))\n",
    "        output = np.dot(w_array_1, hidden1)+b_array_1\n",
    "        err.append(abs(output-test_abun[i]))\n",
    "    \n",
    "    err_median =(np.percentile(err,50))\n",
    "    err_up =(np.percentile(err,100-15.865))\n",
    "    err_low =(np.percentile(err,15.865))\n",
    "    return err_median,err_up,err_low"
   ]
  },
  {
   "cell_type": "code",
   "execution_count": 21,
   "metadata": {},
   "outputs": [
    {
     "name": "stdout",
     "output_type": "stream",
     "text": [
      "30 neurons testing\n",
      "Training epoch 0 of 1000 complete\n",
      "Training epoch 500 of 1000 complete\n",
      "[0.018683320645638879]\n"
     ]
    }
   ],
   "source": [
    "learning_rate = [0.007] # This seems to be best number\n",
    "neurons = [30]\n",
    "err_med = []\n",
    "err_low = []\n",
    "err_up=[]\n",
    "for n in neurons:\n",
    "    print(\"%d neurons testing\" %(n))\n",
    "    med,low,up = single_3sigma(learning_rate[-1],element_index,n)\n",
    "    err_med.append(med)\n",
    "    err_low.append(low)\n",
    "    err_up.append(up)\n",
    "print(err_med)"
   ]
  },
  {
   "cell_type": "code",
   "execution_count": null,
   "metadata": {},
   "outputs": [],
   "source": [
    "errorbar_widths = [np.array(err_med)-np.array(err_low),np.array(err_up)-np.array(err_med)]\n",
    "plt.errorbar(neurons,err_med,yerr = errorbar_widths,fmt='o')\n",
    "plt.ylabel('3 sigma network error across all elements')\n",
    "plt.xlabel('No. neurons')\n",
    "plt.title('Error plot for optimization using 3 sigma test set')"
   ]
  },
  {
   "cell_type": "code",
   "execution_count": null,
   "metadata": {},
   "outputs": [],
   "source": [
    "errorbar_widths = [np.array(err_med)-np.array(err_low),np.array(err_up)-np.array(err_med)]\n",
    "plt.errorbar(learning_rate,err_med,yerr = errorbar_widths,fmt='o')\n",
    "plt.ylabel('3 sigma network error across all elements')\n",
    "plt.xlabel('Learning rate')\n",
    "plt.title('Error plot for optimization using 3 sigma test set')"
   ]
  },
  {
   "cell_type": "markdown",
   "metadata": {},
   "source": [
    "##### This gives best output for 30 neurons at learning_rate = 0.007. Best output is err = 0.0058+0.0092-0.0047 for the 3sigma test set"
   ]
  },
  {
   "cell_type": "markdown",
   "metadata": {},
   "source": [
    "## Compute best errors from all 28 elements at once"
   ]
  },
  {
   "cell_type": "code",
   "execution_count": 16,
   "metadata": {},
   "outputs": [
    {
     "name": "stdout",
     "output_type": "stream",
     "text": [
      "Populating the interactive namespace from numpy and matplotlib\n",
      "[ 0.00414226  0.00686105  0.00987227  0.02347043  0.03776999]\n"
     ]
    },
    {
     "data": {
      "image/png": "[encoded data removed]",
      "text/plain": [
       "<matplotlib.figure.Figure at 0x7f278a67f518>"
      ]
     },
     "metadata": {},
     "output_type": "display_data"
    }
   ],
   "source": [
    "%pylab inline\n",
    "from Chempy.neural import create_network\n",
    "from Chempy.neural import neural_output\n",
    "\n",
    "# Create neural network\n",
    "\n",
    "#create_network(learning_rate=0.007,Plot=False)\n",
    "\n",
    "widths = [1,2,3,4,4.3]\n",
    "err_median = []\n",
    "err_up = []\n",
    "err_low = []\n",
    "for width in widths:\n",
    "    # Use training data of restricted sigma ranges\n",
    "    tr_abun = np.load('SingleElement/'+str(width)+'_sigma_abundances.npy')[:]\n",
    "    tr_param = np.load('SingleElement/'+str(width)+'_sigma_param_grid.npy')\n",
    "    \n",
    "    err = []\n",
    "    for i,param in enumerate(tr_param):\n",
    "        neural_abun = neural_output(param)\n",
    "        temp_err = (np.absolute(neural_abun-tr_abun[i]))\n",
    "        err.append(temp_err)\n",
    "    err_median.append(np.percentile(err,50,axis=0))\n",
    "    err_up.append(np.percentile(err,100-15.865,axis=0))\n",
    "    err_low.append(np.percentile(err,15.865,axis=0))\n",
    "\n",
    "j=0 # Element index                \n",
    "\n",
    "errorbar_widths = [np.array(err_median)[:,j]-np.array(err_low)[:,j],np.array(err_up)[:,j]-np.array(err_median)[:,j]]\n",
    "plt.errorbar(widths,np.array(err_median)[:,j],yerr = errorbar_widths,fmt='o')\n",
    "plt.ylabel('Mean network error across all elements')\n",
    "plt.xlabel('Width of dataset (sigma)')\n",
    "plt.title('Network for all 28 elements')\n",
    "print(np.array(err_median)[:,j])"
   ]
  },
  {
   "cell_type": "code",
   "execution_count": null,
   "metadata": {
    "collapsed": true
   },
   "outputs": [],
   "source": []
  },
  {
   "cell_type": "code",
   "execution_count": null,
   "metadata": {
    "collapsed": true
   },
   "outputs": [],
   "source": []
  },
  {
   "cell_type": "markdown",
   "metadata": {},
   "source": [
    "## Compare all elements vs each in turn"
   ]
  },
  {
   "cell_type": "code",
   "execution_count": 46,
   "metadata": {},
   "outputs": [
    {
     "name": "stdout",
     "output_type": "stream",
     "text": [
      "Using element 0 only\n",
      "Training epoch 0 of 1000 complete\n",
      "Training epoch 500 of 1000 complete\n",
      "Using element 1 only\n",
      "Training epoch 0 of 1000 complete\n",
      "Training epoch 500 of 1000 complete\n",
      "Using element 2 only\n",
      "Training epoch 0 of 1000 complete\n",
      "Training epoch 500 of 1000 complete\n",
      "Using element 3 only\n",
      "Training epoch 0 of 1000 complete\n",
      "Training epoch 500 of 1000 complete\n",
      "Using element 4 only\n",
      "Training epoch 0 of 1000 complete\n",
      "Training epoch 500 of 1000 complete\n",
      "Using element 5 only\n",
      "Training epoch 0 of 1000 complete\n",
      "Training epoch 500 of 1000 complete\n",
      "Using element 6 only\n",
      "Training epoch 0 of 1000 complete\n",
      "Training epoch 500 of 1000 complete\n",
      "Using element 7 only\n",
      "Training epoch 0 of 1000 complete\n",
      "Training epoch 500 of 1000 complete\n",
      "Using element 8 only\n",
      "Training epoch 0 of 1000 complete\n",
      "Training epoch 500 of 1000 complete\n",
      "Using element 9 only\n",
      "Training epoch 0 of 1000 complete\n",
      "Training epoch 500 of 1000 complete\n",
      "Using element 10 only\n",
      "Training epoch 0 of 1000 complete\n",
      "Training epoch 500 of 1000 complete\n",
      "Using element 11 only\n",
      "Training epoch 0 of 1000 complete\n",
      "Training epoch 500 of 1000 complete\n",
      "Using element 12 only\n",
      "Training epoch 0 of 1000 complete\n",
      "Training epoch 500 of 1000 complete\n",
      "Using element 13 only\n",
      "Training epoch 0 of 1000 complete\n",
      "Training epoch 500 of 1000 complete\n",
      "Using element 14 only\n",
      "Training epoch 0 of 1000 complete\n",
      "Training epoch 500 of 1000 complete\n",
      "Using element 15 only\n",
      "Training epoch 0 of 1000 complete\n",
      "Training epoch 500 of 1000 complete\n",
      "Using element 16 only\n",
      "Training epoch 0 of 1000 complete\n",
      "Training epoch 500 of 1000 complete\n",
      "Using element 17 only\n",
      "Training epoch 0 of 1000 complete\n",
      "Training epoch 500 of 1000 complete\n",
      "Using element 18 only\n",
      "Training epoch 0 of 1000 complete\n",
      "Training epoch 500 of 1000 complete\n",
      "Using element 19 only\n",
      "Training epoch 0 of 1000 complete\n",
      "Training epoch 500 of 1000 complete\n",
      "Using element 20 only\n",
      "Training epoch 0 of 1000 complete\n",
      "Training epoch 500 of 1000 complete\n",
      "Using element 21 only\n",
      "Training epoch 0 of 1000 complete\n",
      "Training epoch 500 of 1000 complete\n",
      "Using element 22 only\n",
      "Training epoch 0 of 1000 complete\n",
      "Training epoch 500 of 1000 complete\n",
      "Using element 23 only\n",
      "Training epoch 0 of 1000 complete\n",
      "Training epoch 500 of 1000 complete\n",
      "Using element 24 only\n",
      "Training epoch 0 of 1000 complete\n",
      "Training epoch 500 of 1000 complete\n",
      "Using element 25 only\n",
      "Training epoch 0 of 1000 complete\n",
      "Training epoch 500 of 1000 complete\n",
      "Using element 26 only\n",
      "Training epoch 0 of 1000 complete\n",
      "Training epoch 500 of 1000 complete\n",
      "Using element 27 only\n",
      "Training epoch 0 of 1000 complete\n",
      "Training epoch 500 of 1000 complete\n",
      "Using element 28 only\n"
     ]
    },
    {
     "ename": "IndexError",
     "evalue": "index 28 is out of bounds for axis 1 with size 28",
     "output_type": "error",
     "traceback": [
      "\u001b[0;31m---------------------------------------------------------------------------\u001b[0m",
      "\u001b[0;31mIndexError\u001b[0m                                Traceback (most recent call last)",
      "\u001b[0;32m<ipython-input-46-c13d07cd5c9e>\u001b[0m in \u001b[0;36m<module>\u001b[0;34m()\u001b[0m\n\u001b[1;32m      7\u001b[0m     \u001b[0melement_index\u001b[0m \u001b[0;34m=\u001b[0m \u001b[0mi\u001b[0m\u001b[0;34m\u001b[0m\u001b[0m\n\u001b[1;32m      8\u001b[0m     \u001b[0mprint\u001b[0m\u001b[0;34m(\u001b[0m\u001b[0;34m'Using element %d only'\u001b[0m \u001b[0;34m%\u001b[0m\u001b[0;34m(\u001b[0m\u001b[0melement_index\u001b[0m\u001b[0;34m)\u001b[0m\u001b[0;34m)\u001b[0m\u001b[0;34m\u001b[0m\u001b[0m\n\u001b[0;32m----> 9\u001b[0;31m     \u001b[0mmed\u001b[0m\u001b[0;34m,\u001b[0m\u001b[0mlow\u001b[0m\u001b[0;34m,\u001b[0m\u001b[0mup\u001b[0m \u001b[0;34m=\u001b[0m \u001b[0msingle_3sigma\u001b[0m\u001b[0;34m(\u001b[0m\u001b[0;36m0.007\u001b[0m\u001b[0;34m,\u001b[0m\u001b[0melement_index\u001b[0m\u001b[0;34m,\u001b[0m\u001b[0;36m30\u001b[0m\u001b[0;34m)\u001b[0m\u001b[0;34m\u001b[0m\u001b[0m\n\u001b[0m\u001b[1;32m     10\u001b[0m     \u001b[0merr_med\u001b[0m\u001b[0;34m.\u001b[0m\u001b[0mappend\u001b[0m\u001b[0;34m(\u001b[0m\u001b[0mmed\u001b[0m\u001b[0;34m)\u001b[0m\u001b[0;34m\u001b[0m\u001b[0m\n\u001b[1;32m     11\u001b[0m     \u001b[0mup_bar\u001b[0m\u001b[0;34m.\u001b[0m\u001b[0mappend\u001b[0m\u001b[0;34m(\u001b[0m\u001b[0mup\u001b[0m\u001b[0;34m-\u001b[0m\u001b[0mmed\u001b[0m\u001b[0;34m)\u001b[0m \u001b[0;31m# For error bars\u001b[0m\u001b[0;34m\u001b[0m\u001b[0m\n",
      "\u001b[0;32m<ipython-input-20-8f09e4514b38>\u001b[0m in \u001b[0;36msingle_3sigma\u001b[0;34m(lr, element_index, neurons)\u001b[0m\n\u001b[1;32m      3\u001b[0m     \u001b[0mtraining_abundances\u001b[0m \u001b[0;34m=\u001b[0m \u001b[0mnp\u001b[0m\u001b[0;34m.\u001b[0m\u001b[0mload\u001b[0m\u001b[0;34m(\u001b[0m\u001b[0;34m'Neural/training_abundances.npy'\u001b[0m\u001b[0;34m)\u001b[0m\u001b[0;34m\u001b[0m\u001b[0m\n\u001b[1;32m      4\u001b[0m     \u001b[0mtr_input\u001b[0m \u001b[0;34m=\u001b[0m \u001b[0mnp\u001b[0m\u001b[0;34m.\u001b[0m\u001b[0mload\u001b[0m\u001b[0;34m(\u001b[0m\u001b[0;34m'Neural/training_norm_grid.npy'\u001b[0m\u001b[0;34m)\u001b[0m\u001b[0;34m\u001b[0m\u001b[0m\n\u001b[0;32m----> 5\u001b[0;31m     \u001b[0mtr_output\u001b[0m \u001b[0;34m=\u001b[0m \u001b[0mtraining_abundances\u001b[0m\u001b[0;34m[\u001b[0m\u001b[0;34m:\u001b[0m\u001b[0;34m,\u001b[0m\u001b[0melement_index\u001b[0m\u001b[0;34m]\u001b[0m\u001b[0;34m\u001b[0m\u001b[0m\n\u001b[0m\u001b[1;32m      6\u001b[0m \u001b[0;34m\u001b[0m\u001b[0m\n\u001b[1;32m      7\u001b[0m     \u001b[0mdim_in\u001b[0m \u001b[0;34m=\u001b[0m \u001b[0mtr_input\u001b[0m\u001b[0;34m.\u001b[0m\u001b[0mshape\u001b[0m\u001b[0;34m[\u001b[0m\u001b[0;36m1\u001b[0m\u001b[0;34m]\u001b[0m\u001b[0;34m\u001b[0m\u001b[0m\n",
      "\u001b[0;31mIndexError\u001b[0m: index 28 is out of bounds for axis 1 with size 28"
     ]
    }
   ],
   "source": [
    "# For each element in turn\n",
    "err_med = []\n",
    "up_bar = []\n",
    "low_bar = []\n",
    "\n",
    "for i in range(len(a.elements_to_trace)):\n",
    "    element_index = i\n",
    "    print('Using element %d only' %(element_index))\n",
    "    med,low,up = single_3sigma(0.007,element_index,30)\n",
    "    err_med.append(med)\n",
    "    up_bar.append(up-med) # For error bars\n",
    "    low_bar.append(med-low)\n",
    "    \n",
    "# For all elements at once\n",
    "from Chempy.neural import create_network\n",
    "from Chempy.neural import neural_output\n",
    "create_network(learning_rate=0.007,Plot=False)\n",
    "\n",
    "width = 3\n",
    "\n",
    "print('Using all elements simulatenously')\n",
    "# Use training data of restricted sigma ranges\n",
    "tr_abun = np.load('SingleElement/'+str(width)+'_sigma_abundances.npy')[:]\n",
    "tr_param = np.load('SingleElement/'+str(width)+'_sigma_param_grid.npy')\n",
    "  \n",
    "err = []\n",
    "for j,param in enumerate(tr_param):\n",
    "    neural_abun = neural_output(param)\n",
    "    temp_err = (np.absolute(neural_abun-tr_abun[j]))\n",
    "    err.append(temp_err)\n",
    "err_med2=(np.percentile(err,50,axis=0))\n",
    "up_bar2=(np.percentile(err,100-15.865,axis=0)-np.percentile(err,50,axis=0))\n",
    "low_bar2=(np.percentile(err,50,axis=0)-np.percentile(err,15.865,axis=0))\n"
   ]
  },
  {
   "cell_type": "code",
   "execution_count": null,
   "metadata": {},
   "outputs": [],
   "source": [
    "# Plot for each element\n",
    "x = range(len(a.elements_to_trace))\n",
    "plt.clf()\n",
    "errorbars1 = [low_bar,up_bar]\n",
    "errorbars2 = [low_bar2,up_bar2]\n",
    "plt.errorbar(x,err_med,yerr=errorbars1,c='r',fmt='o',label='Separate elements')\n",
    "plt.errorbar(x,err_med2,yerr=errorbars2,c='b',fmt='x',label='All together')\n",
    "plt.xlabel('Element number')\n",
    "plt.ylabel(Neural network error)\n",
    "plt.legend()"
   ]
  },
  {
   "cell_type": "code",
   "execution_count": null,
   "metadata": {
    "collapsed": true
   },
   "outputs": [],
   "source": []
  }
 ],
 "metadata": {
  "kernelspec": {
   "display_name": "Python 3",
   "language": "python",
   "name": "python3"
  },
  "language_info": {
   "codemirror_mode": {
    "name": "ipython",
    "version": 3
   },
   "file_extension": ".py",
   "mimetype": "text/x-python",
   "name": "python",
   "nbconvert_exporter": "python",
   "pygments_lexer": "ipython3",
   "version": "3.6.1"
  }
 },
 "nbformat": 4,
 "nbformat_minor": 2
}
