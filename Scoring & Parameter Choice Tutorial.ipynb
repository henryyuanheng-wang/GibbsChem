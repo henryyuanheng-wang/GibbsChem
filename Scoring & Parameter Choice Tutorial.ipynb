{
 "cells": [
  {
   "cell_type": "markdown",
   "metadata": {},
   "source": [
    "# Tutorial Outline"
   ]
  },
  {
   "cell_type": "markdown",
   "metadata": {},
   "source": [
    "**Tutorial contents**:\n",
    "- Adding new yield tables\n",
    "- Choosing element set\n",
    "- Training of a neural network\n",
    "- Running MCMC analysis\n",
    "- Computing Bayes/LOO-CV scores\n",
    "\n",
    "The above are based on the Philcox & Rybizki (2017) paper which should be cited when using this code. This is based on the $\\mathit{Chempy}$ software, described in Rybizki et al. (2017, arXiv:1702.08729) and full tutorials for this can be found at https://github.com/jan-rybizki/Chempy/tree/master/tutorials.\n",
    "\n",
    "** Requirements**:\n",
    "Before running this tutorial, the $\\mathit{ChempyScoring}$ code and its dependencies must be installed (https://github.com/oliverphilcox/ChempyScoring/blob/master/requirements.txt)\n",
    "\n",
    "The authors Oliver Philcox (ohep2@cam.ac.uk) and Jan Rybizki (rybizki@mpia.de) are happy to assist with any problems which may arise"
   ]
  },
  {
   "cell_type": "markdown",
   "metadata": {},
   "source": [
    "## Step 1: Load Yield Tables\n",
    "\n",
    "First we must load in the Nucleosynthetic yield table to be tested. Here we will test the SN2 net yields of Frischknecht et al. (2016, arXiv:1511.05730). These include s-process elements for stars of mass 15-40Msun, with rotation. Here we implement the yield tables for standard rotation and differing metallicities.\n",
    "\n",
    "The yield tables provide data for masses 15,20,25,40 Msun, metalicities of solar (0.0134), 0.001, 1e-5 and 1e-7 and differing stellar rotation speeds. Here we only use solar, 0.001 and 1e-5 metallicities and standard rotations, since only these have data for all masses. \n",
    "\n",
    "To add this into *Chempy* we add a `Frischknecht16_net` function to the `SN2_feedback()` class in `yields.py` as shown below:"
   ]
  },
  {
   "cell_type": "code",
   "execution_count": null,
   "metadata": {
    "collapsed": true
   },
   "outputs": [],
   "source": [
    "## NB: The Frischknecht16 definition should be inserted into the yields.py file\n",
    "\n",
    "from Chempy import localpath # For file locations\n",
    "import numpy as np\n",
    "\n",
    "class SN2_feedback(object):\n",
    "    def __init__(self):   \n",
    "        \"\"\"\n",
    "        This is the object that holds the feedback table for SN2 stars.\n",
    "                The different methods load different tables from the literature. They are in the input/yields/ folder.\n",
    "        \"\"\"\n",
    "\n",
    "    def Frischknecht16_net(self):\n",
    "        \"\"\"SN2 yields from Frischknecht et al. 2016. These are implemented for masses of 15-40Msun, for rotating stars.\n",
    "        Yields from stars with 'normal' rotations are used here.\n",
    "        These are net yields automatically, so no conversions need to be made\n",
    "        \"\"\"\n",
    "        import numpy.lib.recfunctions as rcfuncs\n",
    "        import os\n",
    "\n",
    "        # Define metallicites \n",
    "        self.metallicities = [0.0134,1e-3,1e-5] # First is solar value\n",
    "\n",
    "        # Define masses\n",
    "        self.masses=  np.array((15,20,25,40))\n",
    "\n",
    "        # Load yield table dictionary in correct format from npy file if it exists\n",
    "        saved_yields = localpath+'input/yields/Frischknecht16_net.npy'\n",
    "        if os.path.exists(saved_yields):\n",
    "            self.table = np.load(saved_yields).item()\n",
    "\n",
    "        else:\n",
    "            # If not, create yield table from .txt file\n",
    "\n",
    "            # Define data types\n",
    "            dt = np.dtype('U8,f8,f8,f8,f8,f8,f8,f8,f8,f8,f8,f8,f8,f8,f8,f8,f8,f8,f8,f8,f8,f8,f8,f8,f8,f8,f8,f8,f8,f8')\n",
    "\n",
    "            # Initialise yield table\n",
    "            yield_table = {}\n",
    "\n",
    "\n",
    "            # Import full table with correct rows and data-types\n",
    "            z = np.genfromtxt(localpath+'input/yields/Frischknecht16/yields_total.txt',skip_header=62,dtype=dt)\n",
    "\n",
    "            # Define isotope indexing. For radioactive isotopes with half-lives << Chempy time_step they are assigned to their daughter element\n",
    "            # NB: we only use elements up to Ge here, as in the paper\n",
    "            indexing={}\n",
    "            indexing['H']=['p','d']\n",
    "            indexing['He'] = ['he3','he4']\n",
    "            indexing['Li'] = ['li6','li7']\n",
    "            indexing['Be']  = ['be9']\n",
    "            indexing['B']  = ['b10','b11']\n",
    "            indexing['C']  = ['c12','c13']\n",
    "            indexing['N']  = ['n14','n15']\n",
    "            indexing['O']  = ['o16','o17','o18']\n",
    "            indexing['F']  = ['f19']\n",
    "            indexing['Ne']  = ['ne20','ne21','ne22']\n",
    "            indexing['Na']  = ['na23']\n",
    "            indexing['Mg']  = ['mg24','mg25','mg26','al26']\n",
    "            indexing['Al']  = ['al27']\n",
    "            indexing['Si']  = ['si28','si29','si30']\n",
    "            indexing['P']  = ['p31']\n",
    "            indexing['S']  = ['s32','s33','s34','s36']\n",
    "            indexing['Cl']  = ['cl35','cl37']\n",
    "            indexing['Ar']  = ['ar36','ar38','ar40']\n",
    "            indexing['K']  = ['k39','k41']\n",
    "            indexing['Ca']  = ['ca40','ca42','ca43','ca44','ca46','ca48']\n",
    "            indexing['Sc']  = ['sc45']\n",
    "            indexing['Ti']  = ['ti46','ti47','ti48','ti49','ti50']\n",
    "            indexing['V']  = ['v50','v51']\n",
    "            indexing['Cr']  = ['cr50','cr52','cr53','cr54']\n",
    "            indexing['Mn']  = ['mn55']\n",
    "            indexing['Fe']  = ['fe54', 'fe56','fe57','fe58']\n",
    "            indexing['Co']  = ['fe60', 'co59']\n",
    "            indexing['Ni']  = ['ni58','ni60','ni61','ni62','ni64']\n",
    "            indexing['Cu']  = ['cu63','cu65']\n",
    "            indexing['Zn']  = ['zn64','zn66','zn67','zn68','zn70']\n",
    "            indexing['Ga']  = ['ga69','ga71']\n",
    "            indexing['Ge']  = ['ge70','ge72','ge73','ge74','ge76']\n",
    "\n",
    "            # Define indexed elements \n",
    "            self.elements = list(indexing.keys())\n",
    "\n",
    "            # Create model dictionary indexed by metallicity, giving relevant model number for each choice of mass\n",
    "            # See Frischknecht info_yields.txt file for model information\n",
    "            model_dict = {}\n",
    "            model_dict[0.0134] = [2,8,14,27]\n",
    "            model_dict[1e-3]=[4,10,16,28]\n",
    "            model_dict[1e-5]=[6,12,18,29]\n",
    "\n",
    "            # Import list of remnant masses for each model (from row 32-60, column 6 of .txt file) \n",
    "            # NB: these are in solar masses\n",
    "            rem_mass_table = np.loadtxt(localpath+'input/yields/Frischknecht16/yields_total.txt',skiprows=31,usecols=6)[:29]\n",
    "\n",
    "            # Create one subtable for each metallicity \n",
    "            for metallicity in self.metallicities:\n",
    "                additional_keys = ['Mass', 'mass_in_remnants','unprocessed_mass_in_winds'] # List of keys for table\n",
    "                names = additional_keys + self.elements\n",
    "\n",
    "                # Initialise table and arrays   \n",
    "                base = np.zeros(len(self.masses))\n",
    "                list_of_arrays = []\n",
    "                for i in range(len(names)):\n",
    "                    list_of_arrays.append(base)\n",
    "                yield_subtable = np.core.records.fromarrays(list_of_arrays,names=names)\n",
    "                mass_in_remnants = np.zeros(len(self.masses))\n",
    "                total_mass_fraction = np.zeros(len(self.masses))\n",
    "                element_mass = np.zeros(len(self.masses))\n",
    "\n",
    "                # Add masses to table\n",
    "                yield_subtable['Mass'] = self.masses\n",
    "\n",
    "\n",
    "                # Extract remnant masses (in solar masses) for each model:\n",
    "                for mass_index,model_index in enumerate(model_dict[metallicity]):\n",
    "                    mass_in_remnants[mass_index] = rem_mass_table[model_index-1] \n",
    "\n",
    "               # Iterate over all elements \n",
    "                for element in self.elements:\n",
    "                    element_mass = np.zeros(len(self.masses))\n",
    "                    for isotope in indexing[element]: # Iterate over isotopes of each element\n",
    "                        for mass_index,model_index in enumerate(model_dict[metallicity]): # Iterate over masses \n",
    "                            for row in z: # Find required row in table \n",
    "                                if row[0] == isotope:\n",
    "                                    element_mass[mass_index]+=row[model_index] # Compute cumulative mass for all isotopes\n",
    "                    yield_subtable[element]=element_mass # Add entry to subtable\n",
    "\n",
    "                all_fractions = [row[model_index] for row in z] # This lists all elements (not just up to Ge)\n",
    "                total_mass_fraction[mass_index] = np.sum(all_fractions) # Compute total net mass fraction (sums to approximately 0)\n",
    "\n",
    "                # Add fields for remnant mass (now as a mass fraction) and unprocessed mass fraction\n",
    "                yield_subtable['mass_in_remnants']=np.divide(mass_in_remnants,self.masses)                    \n",
    "                yield_subtable['unprocessed_mass_in_winds'] = 1.-(yield_subtable['mass_in_remnants']+total_mass_fraction) # This is all mass not from yields/remnants\n",
    "\n",
    "                # Add subtable to full table\n",
    "                yield_table[metallicity]=yield_subtable\n",
    "\n",
    "            # Define final yield table for output\n",
    "            self.table = yield_table\n",
    "\n",
    "            # Save yield table to avoid reloading each time\n",
    "            np.save(saved_yields,self.table)\n"
   ]
  },
  {
   "cell_type": "markdown",
   "metadata": {},
   "source": [
    "We can now test the new yield table (using Ca as an example element):"
   ]
  },
  {
   "cell_type": "code",
   "execution_count": 2,
   "metadata": {},
   "outputs": [
    {
     "name": "stdout",
     "output_type": "stream",
     "text": [
      "Ca Yields\n",
      "\n",
      " Metallicity = 1.34e-02\n",
      "Mass = 15, Yield  = -4.661234e-05\n",
      "Mass = 20, Yield  = -1.013723e-04\n",
      "Mass = 25, Yield  = -1.498169e-04\n",
      "Mass = 40, Yield  = -3.603430e-04\n",
      "\n",
      " Metallicity = 1.00e-03\n",
      "Mass = 15, Yield  = -2.467764e-06\n",
      "Mass = 20, Yield  = -4.861126e-06\n",
      "Mass = 25, Yield  = -8.312735e-06\n",
      "Mass = 40, Yield  = -1.565401e-05\n",
      "\n",
      " Metallicity = 1.00e-05\n",
      "Mass = 15, Yield  = -2.234603e-08\n",
      "Mass = 20, Yield  = -4.682224e-08\n",
      "Mass = 25, Yield  = -6.924936e-08\n",
      "Mass = 40, Yield  = -1.481142e-07\n"
     ]
    }
   ],
   "source": [
    "# Define correct yield table\n",
    "from Chempy.wrapper import SN2_feedback\n",
    "basic_sn2 = SN2_feedback()\n",
    "getattr(basic_sn2, 'Frischknecht16_net')()\n",
    "\n",
    "print(\"Ca Yields\")\n",
    "for metallicity in basic_sn2.metallicities:\n",
    "    print(\"\\n Metallicity = %.2e\" %(metallicity))\n",
    "    for i in range(len(basic_sn2.masses)):\n",
    "        print(\"Mass = %d, Yield  = %.6e\" %(basic_sn2.masses[i],basic_sn2.table[metallicity]['Ca'][i]))\n"
   ]
  },
  {
   "cell_type": "code",
   "execution_count": 3,
   "metadata": {},
   "outputs": [
    {
     "data": {
      "text/plain": [
       "array([ -8.71712663e-10,  -1.17302861e-09,  -1.90546586e-09,\n",
       "        -2.32895755e-09])"
      ]
     },
     "execution_count": 3,
     "metadata": {},
     "output_type": "execute_result"
    }
   ],
   "source": [
    "basic_sn2.table[1e-3]['B']"
   ]
  },
  {
   "cell_type": "markdown",
   "metadata": {},
   "source": [
    "## *(Optional: Choice of Elements)*\n",
    "\n",
    "*In the scoring paper we use all chemical elements up to Ge, but this can be changed (e.g. for the paper analysis excluding Sc). To select the required elements we simply modify the `Chempy/parameter.py` file.*\n",
    "\n",
    "*The `elements_to_trace` field contains a list of elements which are in the proto-solar data-file, including B, Be, Li and H which are not predicted directly by the neural network. The network predicts those elements in `initial_neural_names` (as [X/Fe] or [Fe/H] abundances).*\n",
    "\n",
    "*Both fields must be changed to alter the element choices.*\n",
    "\n",
    "*In addition, if extra elements are added, it should be checked that they are predicted by the yield tables and feature in the `Chempy/input/stars/proto_sun_all.npy` observational data-set.*\n",
    "\n",
    "*To properly compare yield tables using the metrics described in Philcox et al. (2017) we should keep the element choice constant (28 elements up to Ge is the default).*"
   ]
  },
  {
   "cell_type": "code",
   "execution_count": 2,
   "metadata": {
    "collapsed": true
   },
   "outputs": [],
   "source": [
    "## Modify these lines in Chempy/parameter.py\n",
    "\n",
    "# This field should contain all required elements  (and B,Be,Li,H) in alphabetical order\n",
    "elements_to_trace = ['Al', 'Ar', 'B', 'Be', 'C', 'Ca', 'Cl', 'Co', 'Cr', 'Cu', 'F', 'Fe', 'Ga', 'Ge', 'H', 'He', 'K', 'Li', 'Mg', 'Mn', 'N', 'Na', 'Ne', 'Ni', 'O', 'P', 'S', 'Sc', 'Si', 'Ti', 'V', 'Zn']\n",
    "\n",
    "# This field contains names of elements predicted by neural network\n",
    "initial_neural_names = ['Al', 'Ar', 'C', 'Ca', 'Cl', 'Co', 'Cr', 'Cu', 'F', 'Fe', 'Ga', 'Ge', 'He', 'K', 'Mg', 'Mn', 'N', 'Na', 'Ne', 'Ni', 'O', 'P', 'S', 'Sc', 'Si', 'Ti', 'V', 'Zn']\n"
   ]
  },
  {
   "cell_type": "markdown",
   "metadata": {},
   "source": [
    "## Step 2: Create Neural Network Dataset\n",
    "\n",
    "Now that the yield set has been implemented, we must next create a training data-set for the neural network.\n",
    "\n",
    "Firstly it is important to change the `parameter.py` file such that *Chempy* uses the correct yields. Here we add the new SN2 yield table name and set *Chempy* to use it by default. "
   ]
  },
  {
   "cell_type": "code",
   "execution_count": 3,
   "metadata": {
    "collapsed": true
   },
   "outputs": [],
   "source": [
    "## Modify these lines in Chempy/parameter.py to add new yield set\n",
    "yield_table_name_sn2_list = ['chieffi04','Nugrid','Nomoto2013','Portinari', 'chieffi04_net', 'Nomoto2013_net','Frischknecht16_net']\n",
    "yield_table_name_sn2_index = 6\n",
    "yield_table_name_sn2 = yield_table_name_sn2_list[yield_table_name_sn2_index]\n"
   ]
  },
  {
   "cell_type": "markdown",
   "metadata": {},
   "source": [
    "We can test this as follows:"
   ]
  },
  {
   "cell_type": "code",
   "execution_count": 1,
   "metadata": {},
   "outputs": [
    {
     "name": "stdout",
     "output_type": "stream",
     "text": [
      "Frischknecht16_net\n"
     ]
    }
   ],
   "source": [
    "# Load parameter file\n",
    "from Chempy.parameter import ModelParameters\n",
    "a = ModelParameters()\n",
    "\n",
    "# Print new SN2 yield table name\n",
    "print(a.yield_table_name_sn2)"
   ]
  },
  {
   "cell_type": "markdown",
   "metadata": {},
   "source": [
    "We must also set the list of parameters to optimize over to include only the 5 free *Chempy* parameters (i.e. not $\\beta$). This will be changed later in the analysis, but must be done at this point, else the `training_data()` routine will fail. \n",
    "\n",
    "For compatibility reasons $\\beta$ (when later added) is normally included in the SSP_parameters definition.\n"
   ]
  },
  {
   "cell_type": "code",
   "execution_count": 5,
   "metadata": {
    "collapsed": true
   },
   "outputs": [],
   "source": [
    "# Modify these lines in Chempy/parameter.py file\n",
    "\n",
    "if True:\n",
    "    # Priors\n",
    "    SSP_parameters =  [-2.29 ,-2.75 ]\n",
    "    SSP_parameters_to_optimize = ['high_mass_slope', 'log10_N_0']\n",
    "else:\n",
    "    SSP_parameters = []\n",
    "    SSP_parameters_to_optimize = []\n",
    "assert len(SSP_parameters) == len(SSP_parameters_to_optimize)\n",
    "if True:\n",
    "    # Priors\n",
    "    ISM_parameters =  [-0.3, 0.55,0.5]\n",
    "    ISM_parameters_to_optimize = ['log10_starformation_efficiency', 'log10_sfr_scale', 'outflow_feedback_fraction']\n",
    "else:\n",
    "    ISM_parameters = []\n",
    "    ISM_parameters_to_optimize = []\n",
    "assert len(ISM_parameters) == len(ISM_parameters_to_optimize)\n"
   ]
  },
  {
   "cell_type": "markdown",
   "metadata": {},
   "source": [
    "We must also turn OFF the neural network predictions:"
   ]
  },
  {
   "cell_type": "code",
   "execution_count": 6,
   "metadata": {},
   "outputs": [
    {
     "data": {
      "text/plain": [
       "False"
      ]
     },
     "execution_count": 6,
     "metadata": {},
     "output_type": "execute_result"
    }
   ],
   "source": [
    "# In Chempy/parameter.py\n",
    "UseNeural=False\n",
    "\n",
    "# To test\n",
    "a.UseNeural"
   ]
  },
  {
   "cell_type": "markdown",
   "metadata": {},
   "source": [
    "Data-sets can be created using the `Chempy.neural` module as follows and are saved in the `Neural/` directory. \n",
    "\n",
    "This uses multiprocessing to create a training data-set using 10 values of each of the 5 free *Chempy* parameters. (This value can be changed using `training_size` in `parameter.py`). These are written to file as `Neural/training_abundances.npy` (abundance output) and `Neural/training_norm_grid.npy` (normalised input)"
   ]
  },
  {
   "cell_type": "code",
   "execution_count": 1,
   "metadata": {
    "collapsed": true
   },
   "outputs": [],
   "source": [
    "from Chempy.neural import training_data\n",
    "#training_data()"
   ]
  },
  {
   "cell_type": "markdown",
   "metadata": {},
   "source": [
    "The above was run on a 64-core machine, taking 45 minutes. "
   ]
  },
  {
   "cell_type": "markdown",
   "metadata": {},
   "source": [
    "## Step 3: Train Neural Network"
   ]
  },
  {
   "cell_type": "markdown",
   "metadata": {},
   "source": [
    "Next we must train the neural network using the previously constructed data-sets. This can be simply done with the `Chempy/neural.py` `create_network()` function. This creates and trains a 30-neuron network over 1000 training epochs, using a learning rate of 0.007 by default (optimised via a validation data-set)."
   ]
  },
  {
   "cell_type": "code",
   "execution_count": null,
   "metadata": {
    "collapsed": true
   },
   "outputs": [],
   "source": [
    "from Chempy.neural import create_network\n",
    "#create_network(Plot=True)"
   ]
  },
  {
   "cell_type": "markdown",
   "metadata": {},
   "source": [
    "The above was run on an 8-core machine taking 6 minutes. The trained network is saved as `Neural/neural_model.npz`. A loss plot is also produced, showing the network loss function against training epoch (if `Plot=True`).\n",
    "\n",
    "Using `Chempy/neural.py`'s `neural_output()` function we may simulate the output of *Chempy* for any set of input parameters;"
   ]
  },
  {
   "cell_type": "code",
   "execution_count": 13,
   "metadata": {},
   "outputs": [
    {
     "name": "stdout",
     "output_type": "stream",
     "text": [
      "Element \t Predicted abundance\n",
      "------------------------------------\n",
      "Al \t\t 0.0468287557287\n",
      "Ar \t\t 0.0430388074658\n",
      "C \t\t -0.283768263563\n",
      "Ca \t\t -0.0203430137616\n",
      "Cl \t\t -0.505086196204\n",
      "Co \t\t -0.344452923144\n",
      "Cr \t\t 0.104266876841\n",
      "Cu \t\t 0.0177271392126\n",
      "F \t\t -0.0997805051791\n",
      "Fe \t\t 0.185911006511\n",
      "Ga \t\t 0.347348328843\n",
      "Ge \t\t 0.565114782287\n",
      "He \t\t -0.14640519163\n",
      "K \t\t -0.878388191207\n",
      "Mg \t\t -0.040879649148\n",
      "Mn \t\t 0.185649103103\n",
      "N \t\t 0.0513031459996\n",
      "Na \t\t 0.28427847381\n",
      "Ne \t\t 0.207458257613\n",
      "Ni \t\t 0.162557021237\n",
      "O \t\t 0.0730409237704\n",
      "P \t\t 0.0323074674887\n",
      "S \t\t 0.2053703491\n",
      "Sc \t\t -0.916246261917\n",
      "Si \t\t 0.234703496874\n",
      "Ti \t\t -0.431241206649\n",
      "V \t\t -0.242653704898\n",
      "Zn \t\t 0.00616649432223\n"
     ]
    }
   ],
   "source": [
    "from Chempy.parameter import ModelParameters\n",
    "a = ModelParameters()\n",
    "\n",
    "from Chempy.neural import neural_output\n",
    "# Here we compute the neural network predictions for the prior values of the free parameters (a.p0) \n",
    "output = neural_output(a.p0)\n",
    "\n",
    "print(\"Element \\t Predicted abundance\")\n",
    "print(\"------------------------------------\")\n",
    "for i in range(len(output)):\n",
    "    print(a.initial_neural_names[i],\"\\t\\t\",output[i])"
   ]
  },
  {
   "cell_type": "markdown",
   "metadata": {},
   "source": [
    "## Step 4: Compute Bayes + LOO-CV Scores as a function of $\\beta$\n",
    "\n",
    "We are now ready to compute both the Bayes and LOO-CV scores for the network. Before computation, we instruct *Chempy* to use the trained neural network which is done by altering the `Chempy/parameter.py` file:"
   ]
  },
  {
   "cell_type": "code",
   "execution_count": 2,
   "metadata": {},
   "outputs": [
    {
     "data": {
      "text/plain": [
       "True"
      ]
     },
     "execution_count": 2,
     "metadata": {},
     "output_type": "execute_result"
    }
   ],
   "source": [
    "## Modify these lines in Chempy/parameter.py\n",
    "UseNeural = True \n",
    "\n",
    "# To test if this has worked:\n",
    "a.UseNeural"
   ]
  },
  {
   "cell_type": "markdown",
   "metadata": {},
   "source": []
  },
  {
   "cell_type": "markdown",
   "metadata": {},
   "source": [
    "## Step 5: Compute Overall Scores"
   ]
  },
  {
   "cell_type": "code",
   "execution_count": null,
   "metadata": {
    "collapsed": true
   },
   "outputs": [],
   "source": []
  },
  {
   "cell_type": "code",
   "execution_count": null,
   "metadata": {
    "collapsed": true
   },
   "outputs": [],
   "source": []
  },
  {
   "cell_type": "code",
   "execution_count": null,
   "metadata": {
    "collapsed": true
   },
   "outputs": [],
   "source": []
  },
  {
   "cell_type": "code",
   "execution_count": null,
   "metadata": {
    "collapsed": true
   },
   "outputs": [],
   "source": []
  }
 ],
 "metadata": {
  "kernelspec": {
   "display_name": "Python 3",
   "language": "python",
   "name": "python3"
  },
  "language_info": {
   "codemirror_mode": {
    "name": "ipython",
    "version": 3
   },
   "file_extension": ".py",
   "mimetype": "text/x-python",
   "name": "python",
   "nbconvert_exporter": "python",
   "pygments_lexer": "ipython3",
   "version": "3.6.1"
  }
 },
 "nbformat": 4,
 "nbformat_minor": 2
}
