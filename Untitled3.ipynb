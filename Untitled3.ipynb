{
 "cells": [
  {
   "cell_type": "markdown",
   "metadata": {},
   "source": [
    "Metallicities seem to get far too high too quickly"
   ]
  },
  {
   "cell_type": "code",
   "execution_count": 1,
   "metadata": {},
   "outputs": [
    {
     "name": "stdout",
     "output_type": "stream",
     "text": [
      "Populating the interactive namespace from numpy and matplotlib\n",
      "0.0\n",
      "5.799691227799108e-07\n",
      "0.0018363311314842667\n",
      "0.004582037842621364\n"
     ]
    },
    {
     "name": "stderr",
     "output_type": "stream",
     "text": [
      "/home/philcox/anaconda3/lib/python3.6/site-packages/numpy/core/records.py:507: FutureWarning: Numpy has detected that you may be viewing or writing to an array returned by selecting multiple fields in a structured array. \n",
      "\n",
      "This code may break in numpy 1.13 because this will return a view instead of a copy -- see release notes for details.\n",
      "  return obj.view(dtype=(self.dtype.type, obj.dtype))\n"
     ]
    },
    {
     "name": "stdout",
     "output_type": "stream",
     "text": [
      "0.007480397594780115\n",
      "0.010280582767572263\n",
      "0.012860907630953338\n",
      "0.01517524432188899\n",
      "0.017229335736724225\n",
      "0.019030045214882017\n",
      "0.01608003821831896\n",
      "0.017088903193651587\n",
      "0.017961732467164843\n",
      "0.018706159486697297\n",
      "0.019332591916937775\n",
      "0.01986011572444789\n",
      "0.020294997204770546\n",
      "0.020656312508056534\n",
      "0.020954814899456487\n",
      "0.021193289382614774\n",
      "0.021389154356367825\n",
      "0.02154498876389254\n",
      "0.021673386394693638\n",
      "0.021775855356417004\n",
      "0.021854269269936687\n",
      "0.021920575113597837\n",
      "0.02196732659958117\n",
      "( 2.21575735,  2.19680821,  1.83476068,  1.42058053,  1.8942595,  1.75215585,  1.69433688,  1.64360092,  0.94022346,  1.07532148,  0.07054583,  0.15635616, -0.19956887, -0.26083332, -0.32090679, -0.57998583, -0.42563762,  0.13563346, -0.57899555, -0.25495019,  0.04213484,  0.34861177, -2.21575735,  0.52059277,  0.35602693,  0.93219772,  0.41169261,  0.83134935,  0.60738784,  0.09435861,  1.5)\n"
     ]
    },
    {
     "name": "stderr",
     "output_type": "stream",
     "text": [
      "/home/philcox/Chempy/Chempy/wrapper.py:164: RuntimeWarning: invalid value encountered in subtract\n",
      "  abundances[element] -= abundances['Fe']\n"
     ]
    }
   ],
   "source": [
    "# %load init.ipy\n",
    "%pylab inline\n",
    "from Chempy.parameter import ModelParameters\n",
    "a = ModelParameters()\n",
    "a.yield_table_name_sn2 = 'Frischknecht16_net'#'Nomoto2013_net'\n",
    "\n",
    "from Chempy.wrapper import Chempy\n",
    "p = [-2.22148882, -3.55110664, -1.10110664,  0.28296445,  0.23296445]\n",
    "from Chempy.cem_function import extract_parameters_and_priors\n",
    "a = extract_parameters_and_priors(p,a)\n",
    "\n",
    "cub,ab=Chempy(a)\n",
    "print(ab[:][3])"
   ]
  },
  {
   "cell_type": "code",
   "execution_count": 4,
   "metadata": {
    "collapsed": true
   },
   "outputs": [],
   "source": [
    "from Chempy.yields import SN2_feedback\n",
    "basic_sn2 = SN2_feedback()\n",
    "getattr(basic_sn2,'Frischknecht16_net')()\n",
    "basic2_sn2 = SN2_feedback()\n",
    "getattr(basic2_sn2,'Nomoto2013_net')()"
   ]
  },
  {
   "cell_type": "code",
   "execution_count": null,
   "metadata": {},
   "outputs": [],
   "source": [
    "basic_sn2.table"
   ]
  },
  {
   "cell_type": "code",
   "execution_count": null,
   "metadata": {},
   "outputs": [],
   "source": [
    "basic2_sn2.table"
   ]
  },
  {
   "cell_type": "code",
   "execution_count": null,
   "metadata": {},
   "outputs": [],
   "source": [
    "for i in range(len(basic_sn2.table[0.0134])):\n",
    "    for j in range(len(basic_sn2.table[0.0134][i])):\n",
    "        print(basic_sn2.table[0.0134][i][j],basic2_sn2.table[0.02][i][j])\n",
    "    print('\\n')"
   ]
  },
  {
   "cell_type": "code",
   "execution_count": 5,
   "metadata": {},
   "outputs": [
    {
     "data": {
      "text/plain": [
       "array([ -3.52323618,  -5.55086186,  -7.65446094, -14.56327825])"
      ]
     },
     "execution_count": 5,
     "metadata": {},
     "output_type": "execute_result"
    }
   ],
   "source": [
    "basic_sn2.table[0.0134]['H']"
   ]
  },
  {
   "cell_type": "code",
   "execution_count": null,
   "metadata": {
    "collapsed": true
   },
   "outputs": [],
   "source": []
  },
  {
   "cell_type": "code",
   "execution_count": null,
   "metadata": {
    "collapsed": true
   },
   "outputs": [],
   "source": []
  },
  {
   "cell_type": "code",
   "execution_count": null,
   "metadata": {},
   "outputs": [],
   "source": [
    "cub.cube['gas'][:]"
   ]
  },
  {
   "cell_type": "code",
   "execution_count": null,
   "metadata": {},
   "outputs": [],
   "source": [
    "cub.cube['Z']"
   ]
  },
  {
   "cell_type": "code",
   "execution_count": null,
   "metadata": {},
   "outputs": [],
   "source": [
    "basic_sn2.metallicities"
   ]
  },
  {
   "cell_type": "code",
   "execution_count": null,
   "metadata": {},
   "outputs": [],
   "source": [
    "from Chempy.wrapper import SSP_wrap\n",
    "basic_ssp = SSP_wrap(a)\n",
    "basic_ssp.sn2_table"
   ]
  },
  {
   "cell_type": "code",
   "execution_count": null,
   "metadata": {},
   "outputs": [],
   "source": [
    "metallicity = 0.1\n",
    "time_steps = np.linspace(0,13.5,a.time_steps)\n",
    "basic_ssp.calculate_feedback(float(metallicity), list(a.elements_to_trace), list(element_fractions), np.copy(time_steps))"
   ]
  },
  {
   "cell_type": "code",
   "execution_count": null,
   "metadata": {},
   "outputs": [],
   "source": [
    "i=3\n",
    "element_fractions = []\n",
    "for item in a.elements_to_trace:\n",
    "    element_fractions.append(float(np.copy(cub.cube[item][max(i-1,0)]/cub.cube['gas'][max(i-1,0)])))## gas element fractions from one time step before\t\n"
   ]
  },
  {
   "cell_type": "code",
   "execution_count": null,
   "metadata": {},
   "outputs": [],
   "source": [
    "basic_ssp.sn2_table"
   ]
  },
  {
   "cell_type": "code",
   "execution_count": null,
   "metadata": {
    "collapsed": true
   },
   "outputs": [],
   "source": []
  }
 ],
 "metadata": {
  "kernelspec": {
   "display_name": "Python 3",
   "language": "python",
   "name": "python3"
  },
  "language_info": {
   "codemirror_mode": {
    "name": "ipython",
    "version": 3
   },
   "file_extension": ".py",
   "mimetype": "text/x-python",
   "name": "python",
   "nbconvert_exporter": "python",
   "pygments_lexer": "ipython3",
   "version": "3.6.1"
  }
 },
 "nbformat": 4,
 "nbformat_minor": 2
}
