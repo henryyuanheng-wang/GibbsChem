{
 "cells": [
  {
   "cell_type": "markdown",
   "metadata": {},
   "source": [
    "## Create wildcard for new elements\n",
    "- Use all available elements (i.e. CC-SN and SN-Ia have elements up to Ge loaded)\n",
    "- Exclude H (since normalizing element), Li,Be,B since modified in atmosphere\n",
    "- This gives 28 elements"
   ]
  },
  {
   "cell_type": "code",
   "execution_count": null,
   "metadata": {},
   "outputs": [],
   "source": [
    "%pylab inline"
   ]
  },
  {
   "cell_type": "code",
   "execution_count": null,
   "metadata": {
    "collapsed": true
   },
   "outputs": [],
   "source": [
    "list_of_elements = ['He','C', 'N', 'O', 'F','Ne','Na', 'Mg', 'Al', 'Si', 'P','S', 'Cl','Ar','K', 'Ca','Sc','Ti', 'V', 'Cr', 'Mn', 'Fe', 'Co', 'Ni','Cu','Zn','Ga','Ge']#, 'Zn','Y', 'Ba']# Runs with sun\n"
   ]
  },
  {
   "cell_type": "code",
   "execution_count": null,
   "metadata": {},
   "outputs": [],
   "source": [
    "basic_solar.table['Symbol'][0]"
   ]
  },
  {
   "cell_type": "code",
   "execution_count": null,
   "metadata": {},
   "outputs": [],
   "source": [
    "from Chempy.solar_abundance import solar_abundances\n",
    "basic_solar = solar_abundances()\n",
    "basic_solar.Asplund09()\n",
    "age = 4.56\n",
    "age_error = 0.01\n",
    "scaled_abun = [] # Produce proto-solar abundance data for all elements (cut down later)\n",
    "solar_err = []\n",
    "for item in list_of_elements:\n",
    "    if item =='He':\n",
    "        scaled_abun.append(0.01)\n",
    "    elif item =='Fe':\n",
    "        scaled_abun.append(0.04)\n",
    "    else:\n",
    "        scaled_abun.append(0.)\n",
    "    for i in range(len(basic_solar.table['Symbol'])):\n",
    "        if basic_solar.table['Symbol'][i] == item:\n",
    "            temp = basic_solar.table['error'][i]\n",
    "            break\n",
    "    solar_err.append(temp+0.01) # add correction for proto-solar data"
   ]
  },
  {
   "cell_type": "code",
   "execution_count": null,
   "metadata": {},
   "outputs": [],
   "source": [
    "from Chempy.data_to_test import produce_wildcard_stellar_abundances\n",
    "\n",
    "produce_wildcard_stellar_abundances(stellar_identifier = 'Proto-sun_all', \n",
    "                                     age_of_star = age,\n",
    "                                     sigma_age = age_error,\n",
    "                                     element_symbols = list_of_elements,\n",
    "                                     element_abundances = scaled_abun,\n",
    "                                     element_errors = solar_err)"
   ]
  },
  {
   "cell_type": "code",
   "execution_count": null,
   "metadata": {},
   "outputs": [],
   "source": [
    "proto_sun_new = np.load('Proto-sun_all.npy')"
   ]
  },
  {
   "cell_type": "code",
   "execution_count": null,
   "metadata": {},
   "outputs": [],
   "source": [
    "proto_sun_new"
   ]
  },
  {
   "cell_type": "code",
   "execution_count": 3,
   "metadata": {},
   "outputs": [
    {
     "name": "stdout",
     "output_type": "stream",
     "text": [
      "Populating the interactive namespace from numpy and matplotlib\n"
     ]
    }
   ],
   "source": [
    "%pylab inline"
   ]
  },
  {
   "cell_type": "code",
   "execution_count": 4,
   "metadata": {},
   "outputs": [],
   "source": [
    "proto_sun = np.load('Chempy/input/stars/Proto-sun_all.npy')"
   ]
  },
  {
   "cell_type": "code",
   "execution_count": 6,
   "metadata": {},
   "outputs": [
    {
     "data": {
      "text/plain": [
       "29"
      ]
     },
     "execution_count": 6,
     "metadata": {},
     "output_type": "execute_result"
    }
   ],
   "source": [
    "len(proto_sun[0])"
   ]
  },
  {
   "cell_type": "code",
   "execution_count": null,
   "metadata": {
    "collapsed": true
   },
   "outputs": [],
   "source": []
  }
 ],
 "metadata": {
  "kernelspec": {
   "display_name": "Python 3",
   "language": "python",
   "name": "python3"
  },
  "language_info": {
   "codemirror_mode": {
    "name": "ipython",
    "version": 3
   },
   "file_extension": ".py",
   "mimetype": "text/x-python",
   "name": "python",
   "nbconvert_exporter": "python",
   "pygments_lexer": "ipython3",
   "version": "3.6.1"
  }
 },
 "nbformat": 4,
 "nbformat_minor": 2
}
