{
 "cells": [
  {
   "cell_type": "code",
   "execution_count": null,
   "metadata": {
    "collapsed": true
   },
   "outputs": [],
   "source": [
    "%pylab inline\n",
    "import mcint\n",
    "import random\n",
    "import math\n",
    "import time\n",
    "\n",
    "from Chempy.parameter import ModelParameters\n",
    "from Chempy.cem_function import posterior_function_many_stars\n",
    "a = ModelParameters\n"
   ]
  },
  {
   "cell_type": "markdown",
   "metadata": {},
   "source": []
  },
  {
   "cell_type": "code",
   "execution_count": null,
   "metadata": {
    "collapsed": true
   },
   "outputs": [],
   "source": [
    "\n",
    "# Necessary function returns posterior value - posterior_function_real(param,a)\n",
    "# Must also check convergence using wider ranges / just using outer ranges\n",
    "\n",
    "def integrand(x):\n",
    "    alpha     = x[0]\n",
    "    logN = x[1]\n",
    "    logtau = x[2]\n",
    "    logSFE  = x[3]\n",
    "    logSFR = x[4]\n",
    "    xout   = x[5]\n",
    "    posterior,_ = posterior_function_many_stars((alpha,logN,logtau,logSFE,logSFR,xout),a)\n",
    "    return posterior\n",
    "\n",
    "priors = [-2.3,-2.75,-0.8,-0.3,0.55,0.5]\n",
    "sigma = [0.3,0.3,0.3,0.3,0.1,0.1]\n",
    "f = 1.5\n",
    "def sampler():\n",
    "    while True:\n",
    "        alpha,logN,logtau,logSFE,logSFR,xout = random.uniform(np.array(priors)-f*np.array(sigma),np.array(priors)+f*np.array(sigma))\n",
    "        yield (alpha, logN, logtau, logSFE, logSFR, xout)\n",
    "\n",
    "\n",
    "domainsize = (2.*f)**6.*sigma[0]*sigma[1]*sigma[2]*sigma[3]*sigma[4]*sigma[5] # Streamline this\n",
    "\n",
    "results = []\n",
    "errors = []\n",
    "nval = []\n",
    "f_sigma = []\n",
    "start_time = time.time()\n",
    "for f in [1.,1.5,1.7,1.8,2.0,2.4,2.8,3.]: # NB neural is only trained up to 2-sigma MAX!\n",
    "    for nmc in [20000]:#[100,200,300,500,1000,2000,5000,10000,20000,50000,100000]:#[1000, 10000, 100000, 1000000, 10000000, 100000000]:\n",
    "        random.seed(1)\n",
    "        result, error = mcint.integrate(integrand, sampler(), measure=domainsize, n=nmc)\n",
    "        results.append(result)\n",
    "        errors.append(error)\n",
    "        f_sigma.append(f)\n",
    "        print(\"Using f = %f after %.2f seconds\" %(f,time.time()-start_time))\n",
    "        print(\"Result = %f\" %(result))\n",
    "    \n"
   ]
  },
  {
   "cell_type": "code",
   "execution_count": null,
   "metadata": {
    "collapsed": true
   },
   "outputs": [],
   "source": [
    "plt.errorbar(f_sigma,results,errors)\n",
    "plt.xlim(min(f_sigma)-0.1,max(f_sigma)+0.1)\n",
    "plt.xlabel('Sigma range used for each parameter')\n",
    "plt.ylabel('Integrand')\n",
    "plt.title('mcint output for 20,000 Monte Carlo iterations in 6D space')"
   ]
  },
  {
   "cell_type": "code",
   "execution_count": null,
   "metadata": {
    "collapsed": true
   },
   "outputs": [],
   "source": [
    "domainsize = ((2.*f)**6.)*sigma[0]*sigma[1]*sigma[2]*sigma[3]*sigma[4]*sigma[5] # Streamline this\n",
    "print(domainsize)\n",
    "f"
   ]
  },
  {
   "cell_type": "markdown",
   "metadata": {},
   "source": [
    "Originally using 2-sigma limits gives 0.939+-0.007 for nmc = 20,000\n",
    "Reducing range to 1.5-sigma gives **???**"
   ]
  },
  {
   "cell_type": "code",
   "execution_count": null,
   "metadata": {
    "collapsed": true
   },
   "outputs": [],
   "source": [
    "a = ModelParameters()\n",
    "alpha = np.arange(-3.2,-1.4,0.05)\n",
    "logN = np.arange(-3.65,-1.85,0.05)\n",
    "logtau = -0.8\n",
    "logSFE = -0.3\n",
    "logSFR = 0.55\n",
    "xout = 0.5\n",
    "X,Y=np.meshgrid(alpha,logN,sparse=False)\n",
    "Z = np.zeros((len(X),len(Y)))\n",
    "for i in range(len(X)):\n",
    "    for j in range(len(Y)):\n",
    "        Z[i,j],_ = posterior_function_real((float(X[i,j]),float(Y[i,j]),logtau,logSFE,logSFR,xout),a)\n",
    "plt.figure()\n",
    "plt.contourf(X,Y,Z,cmap='inferno')\n",
    "plt.colorbar()"
   ]
  },
  {
   "cell_type": "code",
   "execution_count": null,
   "metadata": {
    "collapsed": true
   },
   "outputs": [],
   "source": [
    "out,_ = posterior_function_real((alpha[0],logN[0],logtau,logSFE,logSFR,xout),a)\n",
    "out"
   ]
  },
  {
   "cell_type": "code",
   "execution_count": null,
   "metadata": {
    "collapsed": true
   },
   "outputs": [],
   "source": []
  },
  {
   "cell_type": "code",
   "execution_count": null,
   "metadata": {
    "collapsed": true
   },
   "outputs": [],
   "source": []
  },
  {
   "cell_type": "markdown",
   "metadata": {},
   "source": [
    "POSTERIOR FUNCTION SHOULD KEEP SAME SIGN ALWAYS!!"
   ]
  },
  {
   "cell_type": "code",
   "execution_count": null,
   "metadata": {
    "collapsed": true
   },
   "outputs": [],
   "source": [
    "from Chempy.cem_function import extract_parameters_and_priors\n",
    "p0 = [-2.8,-2.6,-0.9,-0.31,0.56,0.4]\n",
    "a = extract_parameters_and_priors(p0,a)"
   ]
  },
  {
   "cell_type": "code",
   "execution_count": null,
   "metadata": {
    "collapsed": true
   },
   "outputs": [],
   "source": [
    "prior = np.sum(np.log(a.prior))"
   ]
  },
  {
   "cell_type": "code",
   "execution_count": null,
   "metadata": {
    "collapsed": true
   },
   "outputs": [],
   "source": [
    "from Chempy.neural import neural_output\n",
    "abundances = neural_output(p0)\n",
    "sol_dat=np.load('Chempy/input/stars/Proto-sun.npy')\t\n",
    "neural_names = []\n",
    "for item in a.elements_to_trace:\n",
    "    if item in list(sol_dat.dtype.names):\n",
    "        neural_names.append(item)\n",
    "from Chempy.data_to_test import likelihood_function"
   ]
  },
  {
   "cell_type": "code",
   "execution_count": null,
   "metadata": {
    "collapsed": true
   },
   "outputs": [],
   "source": [
    "likelihood, element_list, model_error, star_error_list, abundance_list, star_abundance_list = \\\n",
    "likelihood_function('proto-sun', abundances, neural_names)"
   ]
  },
  {
   "cell_type": "code",
   "execution_count": null,
   "metadata": {
    "collapsed": true
   },
   "outputs": [],
   "source": [
    "likelihood"
   ]
  },
  {
   "cell_type": "code",
   "execution_count": null,
   "metadata": {
    "collapsed": true
   },
   "outputs": [],
   "source": [
    "from Chempy.data_to_test import likelihood_evaluation\n",
    "output = likelihood_evaluation(model_error,star_error_list, abundance_list, star_abundance_list)"
   ]
  },
  {
   "cell_type": "code",
   "execution_count": null,
   "metadata": {
    "collapsed": true
   },
   "outputs": [],
   "source": [
    "output"
   ]
  },
  {
   "cell_type": "code",
   "execution_count": null,
   "metadata": {
    "collapsed": true
   },
   "outputs": [],
   "source": [
    "error = np.sqrt(model_error * model_error + star_error_list * star_error_list)\n",
    "#print(error, 'error')\n",
    "#print(star_abundance_list, 'star_abundance_list')\n",
    "#print(abundance_list, 'abundance_list')\n",
    "list_of_likelihoods = gaussian(star_abundance_list,abundance_list,error)\n",
    "#print(list_of_likelihoods, 'list_of_likelihoods')\n",
    "log_likelihood_list = np.log(list_of_likelihoods)\n",
    "#print(log_likelihood_list, 'log_likelihood_list')\n",
    "likelihood = np.sum(log_likelihood_list)\n"
   ]
  },
  {
   "cell_type": "code",
   "execution_count": null,
   "metadata": {
    "collapsed": true
   },
   "outputs": [],
   "source": [
    "from scipy.stats import beta,norm\n",
    "import scipy.integrate as integrate\n",
    "obs=0.5 # Protosolar observation\n",
    "mod = 0.4 # Model prediction\n",
    "sigma_obs = 0.04 # Model error\n",
    "delta = 0.04 # Model ideal error\n",
    "def integrand(delta,obs,mod,sigma_obs):\n",
    "    return beta.pdf(delta,1,3)*norm.pdf(delta,obs-mod,sigma_obs) # For each of 22 dimensions\n",
    "result = integrate.quad(lambda x: integrand(x,obs,mod,sigma_obs),0,1)"
   ]
  },
  {
   "cell_type": "code",
   "execution_count": null,
   "metadata": {
    "collapsed": true
   },
   "outputs": [],
   "source": [
    "result"
   ]
  },
  {
   "cell_type": "code",
   "execution_count": 2,
   "metadata": {},
   "outputs": [
    {
     "name": "stdout",
     "output_type": "stream",
     "text": [
      "Populating the interactive namespace from numpy and matplotlib\n"
     ]
    }
   ],
   "source": [
    "%pylab inline\n",
    "from scipy.stats import beta,norm\n",
    "import scipy.integrate as integrate\n",
    "from Chempy.parameter import ModelParameters\n",
    "\n",
    "a = ModelParameters()\n",
    "\n",
    "sol_data = np.load('Chempy/input/stars/Proto-sun.npy')\n",
    "\n",
    "# REMOVE AGE COLUMN\n",
    "obs = list(sol_data[0])[:-1]\n",
    "sigma_obs = list(sol_data[1])[:-1]\n"
   ]
  },
  {
   "cell_type": "code",
   "execution_count": null,
   "metadata": {
    "collapsed": true
   },
   "outputs": [],
   "source": [
    "from Chempy.cem_function import posterior_function_returning_predictions\n",
    "mod,_ = posterior_function_returning_predictions((a.p0,a))\n"
   ]
  },
  {
   "cell_type": "code",
   "execution_count": null,
   "metadata": {
    "collapsed": true
   },
   "outputs": [],
   "source": [
    "def integrand(delta,obs,mod,sigma_obs):\n",
    "    return beta.pdf(delta,1,3)*norm.pdf(delta,loc=obs-mod,scale=sigma_obs) # For each of 22 dimensions\n",
    "\n",
    "#result = integrate.quad(lambda x: integrand(x,obs,mod,sigma_obs),0,1)\n",
    "\n",
    "likelihood = double(1)\n",
    "quadrature_error = double(0) # Error in form sum(delta_x/x)^2\n",
    "for i in range(22):\n",
    "    result,error = integrate.quad(lambda x: integrand(x,obs[i],mod[i],sigma_obs[i]),0,1)\n",
    "    likelihood *= result\n",
    "    quadrature_error += (error/result)**2\n",
    "error = np.sqrt(quadrature_error)*likelihood\n",
    "print(\"Result is %.8f +/- %.8f\" %(likelihood,error))"
   ]
  },
  {
   "cell_type": "code",
   "execution_count": 6,
   "metadata": {},
   "outputs": [
    {
     "name": "stdout",
     "output_type": "stream",
     "text": [
      "Populating the interactive namespace from numpy and matplotlib\n"
     ]
    },
    {
     "name": "stderr",
     "output_type": "stream",
     "text": [
      "/home/philcox/anaconda3/lib/python3.6/site-packages/IPython/core/magics/pylab.py:161: UserWarning: pylab import has clobbered these variables: ['norm', 'beta']\n",
      "`%matplotlib` prevents importing * from pylab and numpy\n",
      "  \"\\n`%matplotlib` prevents importing * from pylab and numpy\"\n"
     ]
    }
   ],
   "source": [
    "%pylab inline\n",
    "from scipy.stats import beta,norm\n",
    "import scipy.integrate as integrate\n",
    "from Chempy.parameter import ModelParameters\n",
    "from Chempy.cem_function import posterior_function_returning_predictions\n",
    "\n",
    "a = ModelParameters()\n",
    "\n",
    "sol_data = np.load('Chempy/input/stars/Proto-sun.npy')\n",
    "\n",
    "#Remove age column\n",
    "obs = list(sol_data[0])[:-1]\n",
    "sigma_obs = list(sol_data[1])[:-1]"
   ]
  },
  {
   "cell_type": "code",
   "execution_count": 7,
   "metadata": {
    "collapsed": true
   },
   "outputs": [],
   "source": [
    "\n",
    "\n",
    "prior = a.p0\n",
    "sigma_prior = [0.3,0.3,0.3,0.3,0.1,0.1]\n",
    "\n",
    "def integrand(delta,obs,mod,sigma_obs):\n",
    "    return beta.pdf(delta,1,3)*norm.pdf(delta,loc=obs-mod,scale=sigma_obs) # For each of 22 dimensions\n",
    "\n",
    "\n",
    "def six_integrand(param):\n",
    "    mod,_ = posterior_function_returning_predictions((param,a))\n",
    "    likelihood = double(1)\n",
    "    quadrature_error = double(0)\n",
    "    for i in range(len(mod)):\n",
    "        result,error = integrate.quad(lambda delta: integrand(delta,obs[i],mod[i],sigma_obs[i]),0,1)\n",
    "        likelihood *= result\n",
    "        quadrature_error += (error/result)**2\n",
    "    error = np.sqrt(quadrature_error)*likelihood\n",
    "    total_prior = double(1)\n",
    "    for i in range(len(prior)):\n",
    "        total_prior *= norm.pdf(param[i],loc=prior[i],scale=sigma_prior[i])\n",
    "    error *= total_prior\n",
    "    return double(total_prior*likelihood)"
   ]
  },
  {
   "cell_type": "code",
   "execution_count": 8,
   "metadata": {},
   "outputs": [
    {
     "data": {
      "text/plain": [
       "8.8178738359911022e-203"
      ]
     },
     "execution_count": 8,
     "metadata": {},
     "output_type": "execute_result"
    }
   ],
   "source": [
    "six_integrand(a.p0+np.random.rand(6)*0.1)"
   ]
  },
  {
   "cell_type": "code",
   "execution_count": 9,
   "metadata": {
    "collapsed": true
   },
   "outputs": [],
   "source": [
    "import mcint"
   ]
  },
  {
   "cell_type": "code",
   "execution_count": null,
   "metadata": {
    "collapsed": true
   },
   "outputs": [],
   "source": []
  }
 ],
 "metadata": {
  "kernelspec": {
   "display_name": "Python 3",
   "language": "python",
   "name": "python3"
  },
  "language_info": {
   "codemirror_mode": {
    "name": "ipython",
    "version": 3
   },
   "file_extension": ".py",
   "mimetype": "text/x-python",
   "name": "python",
   "nbconvert_exporter": "python",
   "pygments_lexer": "ipython3",
   "version": "3.6.1"
  }
 },
 "nbformat": 4,
 "nbformat_minor": 1
}
