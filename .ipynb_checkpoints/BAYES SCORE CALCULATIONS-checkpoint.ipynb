{
 "cells": [
  {
   "cell_type": "code",
   "execution_count": null,
   "metadata": {},
   "outputs": [
    {
     "name": "stdout",
     "output_type": "stream",
     "text": [
      "Populating the interactive namespace from numpy and matplotlib\n"
     ]
    }
   ],
   "source": [
    "from Chempy.score_function import Bayes_score\n",
    "%pylab inline"
   ]
  },
  {
   "cell_type": "code",
   "execution_count": null,
   "metadata": {
    "scrolled": true
   },
   "outputs": [
    {
     "name": "stdout",
     "output_type": "stream",
     "text": [
      "Finding posterior parameter values\n",
      "['Proto-sun_all']\n",
      "first minimization for each star separately took:  0 seconds\n",
      "step  1 of  1000\n",
      "-4.12947742661 -4.12918663833\n",
      "calculation so far took 1.5377631187438965  seconds\n",
      "step  2 of  1000\n",
      "-4.12947742661 -4.13196041592\n",
      "calculation so far took 1.874619722366333  seconds\n",
      "step  3 of  1000\n",
      "-4.12947742661 -4.13640007185\n",
      "calculation so far took 2.391767740249634  seconds\n",
      "step  4 of  1000\n",
      "-4.12947742661 -4.1401417061\n",
      "calculation so far took 2.719719409942627  seconds\n",
      "step  5 of  1000\n",
      "-4.12947742661 -4.14354704328\n",
      "calculation so far took 3.067133665084839  seconds\n",
      "step  6 of  1000\n",
      "-4.12947742661 -4.16531820378\n",
      "calculation so far took 3.3752567768096924  seconds\n",
      "step  7 of  1000\n",
      "-4.12947742661 -4.21496804503\n",
      "calculation so far took 3.711510181427002  seconds\n",
      "step  8 of  1000\n",
      "-4.12947742661 -4.30469689905\n",
      "calculation so far took 4.064397573471069  seconds\n",
      "step  9 of  1000\n",
      "-4.12947742661 -4.50256984786\n",
      "calculation so far took 4.393985986709595  seconds\n",
      "step  10 of  1000\n",
      "-4.12947742661 -4.73145133138\n",
      "calculation so far took 4.724050760269165  seconds\n",
      "step  11 of  1000\n",
      "-4.12947742661 -5.00653132422\n",
      "calculation so far took 5.051058769226074  seconds\n",
      "step  12 of  1000\n",
      "-4.12947742661 -5.17698254899\n",
      "calculation so far took 5.369196176528931  seconds\n",
      "step  13 of  1000\n",
      "-4.12947742661 -5.40102655776\n",
      "calculation so far took 5.717632055282593  seconds\n",
      "step  14 of  1000\n",
      "-4.12947742661 -5.55132216663\n",
      "calculation so far took 6.182387351989746  seconds\n",
      "step  15 of  1000\n",
      "-4.12947742661 -5.46515632889\n",
      "calculation so far took 6.490091562271118  seconds\n",
      "step  16 of  1000\n",
      "-4.12947742661 -5.44098701471\n",
      "calculation so far took 6.878897666931152  seconds\n",
      "step  17 of  1000\n",
      "-4.12947742661 -5.66810089412\n",
      "calculation so far took 7.199934244155884  seconds\n",
      "step  18 of  1000\n",
      "-4.12947742661 -5.92444621713\n",
      "calculation so far took 7.512386083602905  seconds\n",
      "step  19 of  1000\n",
      "-4.12947742661 -5.87027778101\n",
      "calculation so far took 7.838958501815796  seconds\n",
      "step  20 of  1000\n",
      "-4.12947742661 -5.5753006716\n",
      "calculation so far took 8.178531408309937  seconds\n",
      "step  21 of  1000\n",
      "-4.12947742661 -5.59361741161\n",
      "calculation so far took 8.517003536224365  seconds\n",
      "step  22 of  1000\n",
      "-4.12947742661 -5.75714186906\n",
      "calculation so far took 8.896708965301514  seconds\n",
      "step  23 of  1000\n",
      "-4.12947742661 -5.62276100759\n",
      "calculation so far took 9.244243860244751  seconds\n",
      "step  24 of  1000\n",
      "-4.12947742661 -5.81516187792\n",
      "calculation so far took 9.573859214782715  seconds\n",
      "step  25 of  1000\n",
      "-4.12947742661 -6.03901298642\n",
      "calculation so far took 9.912662506103516  seconds\n",
      "step  26 of  1000\n"
     ]
    }
   ],
   "source": [
    "%timeit -r 1 -n 1 Bayes_score()"
   ]
  },
  {
   "cell_type": "code",
   "execution_count": null,
   "metadata": {
    "collapsed": true
   },
   "outputs": [],
   "source": [
    "# This should give Bayes score for this beta parameter value"
   ]
  }
 ],
 "metadata": {
  "kernelspec": {
   "display_name": "Python 3",
   "language": "python",
   "name": "python3"
  },
  "language_info": {
   "codemirror_mode": {
    "name": "ipython",
    "version": 3
   },
   "file_extension": ".py",
   "mimetype": "text/x-python",
   "name": "python",
   "nbconvert_exporter": "python",
   "pygments_lexer": "ipython3",
   "version": "3.6.1"
  }
 },
 "nbformat": 4,
 "nbformat_minor": 2
}
