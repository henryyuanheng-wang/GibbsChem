{
 "cells": [
  {
   "cell_type": "code",
   "execution_count": null,
   "metadata": {
    "collapsed": true
   },
   "outputs": [],
   "source": [
    "from Chempy.score_function import Bayes_score\n",
    "%pylab inline"
   ]
  },
  {
   "cell_type": "code",
   "execution_count": null,
   "metadata": {
    "collapsed": true,
    "scrolled": true
   },
   "outputs": [],
   "source": [
    "score,err = Bayes_score()"
   ]
  },
  {
   "cell_type": "code",
   "execution_count": null,
   "metadata": {
    "collapsed": true
   },
   "outputs": [],
   "source": [
    "# This should give Bayes score for this beta parameter value\n",
    "print(score,err)"
   ]
  },
  {
   "cell_type": "code",
   "execution_count": null,
   "metadata": {
    "scrolled": true
   },
   "outputs": [],
   "source": [
    "%pylab inline\n",
    "from Chempy.score_function import Bayes_wrapper\n",
    "Bayes_wrapper()"
   ]
  },
  {
   "cell_type": "code",
   "execution_count": 8,
   "metadata": {},
   "outputs": [
    {
     "name": "stdout",
     "output_type": "stream",
     "text": [
      "Populating the interactive namespace from numpy and matplotlib\n"
     ]
    },
    {
     "name": "stderr",
     "output_type": "stream",
     "text": [
      "/home/philcox/anaconda3/lib/python3.6/site-packages/IPython/core/magics/pylab.py:161: UserWarning: pylab import has clobbered these variables: ['beta']\n",
      "`%matplotlib` prevents importing * from pylab and numpy\n",
      "  \"\\n`%matplotlib` prevents importing * from pylab and numpy\"\n"
     ]
    }
   ],
   "source": [
    "%pylab inline\n",
    "data2 = np.load('/home/philcox/Save/SCORES/Chieffi04Score/Bayes_score - Chieffi04, Karakas_net_yield, Seitenzahl.npz')\n",
    "data = np.load('/home/philcox/Save/SCORES/DefaultYieldScore/Bayes_score - Nomoto2013, Karakas_net_yield, Seitenzahl.npz')\n",
    "beta = data['beta_param']\n",
    "score = data['score']\n",
    "score_err = data['score_err']\n",
    "score2 = data2['score']\n",
    "score_err2 = data2['score_err']\n",
    "data.close()\n",
    "data2.close()"
   ]
  },
  {
   "cell_type": "code",
   "execution_count": 9,
   "metadata": {},
   "outputs": [
    {
     "data": {
      "text/plain": [
       "<matplotlib.text.Text at 0x7fdc9f591320>"
      ]
     },
     "execution_count": 9,
     "metadata": {},
     "output_type": "execute_result"
    },
    {
     "data": {
      "image/png": "[encoded data removed]",
      "text/plain": [
       "<matplotlib.figure.Figure at 0x7fdca1eaaba8>"
      ]
     },
     "metadata": {},
     "output_type": "display_data"
    }
   ],
   "source": [
    "fig=plt.figure()\n",
    "ax1=fig.add_subplot(111)\n",
    "l1=ax1.plot(np.log10(beta),np.log10(score),'ro',label='Nomoto')\n",
    "l2=ax1.plot(np.log10(beta),np.log10(score2),'bx',label='Chieffi')\n",
    "ax2=ax1.twinx()\n",
    "l3=ax2.plot(np.log10(beta),np.array(score)/np.array(score2),'kx',label='Nomoto/Chieffi')\n",
    "lns = l1 + l2 + l3\n",
    "labs = [l.get_label() for l in lns]\n",
    "ax1.legend(lns, labs, loc=0)\n",
    "ax1.set_xlabel('log10(beta_param)')\n",
    "ax1.set_ylabel('log10(Bayes Score)')\n",
    "ax2.set_ylabel('Relative Score')\n",
    "ax1.legend()\n",
    "ax1.set_title('##,Karakas_net,Seitenzhal scores')\n"
   ]
  },
  {
   "cell_type": "code",
   "execution_count": null,
   "metadata": {
    "collapsed": true
   },
   "outputs": [],
   "source": []
  }
 ],
 "metadata": {
  "kernelspec": {
   "display_name": "Python 3",
   "language": "python",
   "name": "python3"
  },
  "language_info": {
   "codemirror_mode": {
    "name": "ipython",
    "version": 3
   },
   "file_extension": ".py",
   "mimetype": "text/x-python",
   "name": "python",
   "nbconvert_exporter": "python",
   "pygments_lexer": "ipython3",
   "version": "3.6.1"
  }
 },
 "nbformat": 4,
 "nbformat_minor": 2
}
