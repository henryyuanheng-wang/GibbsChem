{
 "cells": [
  {
   "cell_type": "code",
   "execution_count": 1,
   "metadata": {},
   "outputs": [
    {
     "name": "stdout",
     "output_type": "stream",
     "text": [
      "Populating the interactive namespace from numpy and matplotlib\n"
     ]
    }
   ],
   "source": [
    "%pylab inline"
   ]
  },
  {
   "cell_type": "code",
   "execution_count": 134,
   "metadata": {},
   "outputs": [],
   "source": [
    "from Chempy import localpath\n",
    "from Chempy.parameter import ModelParameters\n",
    "a = ModelParameters()\n",
    "\n",
    "\n",
    "type = 'delay' # or rapid\n",
    "\n",
    "if type == 'delay':\n",
    "    name=localpath+'input/yields/NuGrid/H NuGrid yields delay_total.txt'\n",
    "    remnants = {}\n",
    "    remnants[0.02] = [1.61,1.61,2.73,5.71]\n",
    "    remnants[0.01] = [1.61,1.61,2.77,6.05]\n",
    "    remnants[0.006] = [1.62,1.62,2.79,6.18]\n",
    "    remnants[0.001] = [1.62,1.62,2.81,6.35]\n",
    "    remnants[0.0001] = [1.62,1.62,2.82,6.38]\n",
    "elif type == 'rapid':\n",
    "    name = localpath+'Chempy/input/yields/NuGrid/H NuGrid yields rapid total.txt'\n",
    "    remants = {}\n",
    "    remnants[0.02] = [1.44,1.44,2.70,12.81] # Define remnants from metallicities\n",
    "    remnants[0.01] = [1.44,1.44,1.83,9.84]\n",
    "    remnants[0.006] = [1.44, 1.44, 1.77, 7.84]\n",
    "    remnants[0.001] = [1.44,1.44,1.76,5.88]\n",
    "    remnants[0.0001] = [1.44,1.44,1.76,5.61]\n",
    "else:\n",
    "    raise ValueError('Wrong type: must be delay or rapid')\n",
    "    \n",
    "\n",
    "# Create list of masses and metallicites:\n",
    "masses = [12.0,15.0,20.0,25.0]\n",
    "metallicities = [0.02,0.01,0.006,0.001,0.0001]\n",
    "\n",
    "\n",
    "elements_list = ['&'+el for el in a.elements_to_trace]\n",
    "\n",
    "cuts={}\n",
    "for z in metallicities:\n",
    "    cuts[z] = [] \n",
    "    for mass in masses:\n",
    "        file=open(name,\"r\")\n",
    "        for line_no,line in enumerate(file):\n",
    "            if str(mass) in line and str(z) in line:\n",
    "                cuts[z].append(line_no)\n",
    "                \n",
    "line_end = line_no\n",
    "#index = 0\n",
    "\n",
    "table={}\n",
    "\n",
    "for z in metallicities:\n",
    "    yield_subtable={}\n",
    "    yield_subtable['Mass'] = masses\n",
    "    yield_subtable['mass_in_remnants'] = []\n",
    "    for el in a.elements_to_trace:\n",
    "            yield_subtable[el] = []\n",
    "    for m_index,mass in enumerate(masses):        \n",
    "        #subtable_net_fraction={}\n",
    "        yield_subtable['mass_in_remnants'].append(remnants[z][m_index])\n",
    "        data = np.genfromtxt(name,skip_header=int(cuts[z][m_index])+3,\n",
    "                             skip_footer=line_end-int(cuts[z][m_index])-80,\n",
    "                    dtype=['<U8','<U15','<U15','<U15'])\n",
    "        for line in data:\n",
    "            if line[0] in elements_list:\n",
    "                el_name = str(line[0][1:]) # Name of element - only do this for relevant elements\n",
    "                el_yield = float(line[1][1:]) # Yield in Msun\n",
    "                el_init = float(line[2][1:]) # Initial mass fraction \n",
    "                el_net=el_yield-el_init*mass # Net yield in Msun\n",
    "                yield_subtable[el_name].append(el_net/mass) # Net mass fraction\n",
    "            # Net fractions+ remnant fraction do not sum to 1 - this is due to absence of elements e.g. Be\n",
    "        #index+=1\n",
    "        #for el in a.elements_to_trace:\n",
    "        #    fraction_list = [subtable_net_fraction[el]]\n",
    "    for el in a.elements_to_trace:\n",
    "        yield_subtable[el] = np.asarray(yield_subtable[el])\n",
    "    yield_subtable['mass_in_remnants'] = np.asarray(yield_subtable['mass_in_remnants'])\n",
    "    \n",
    "    \n",
    "    table[z] = yield_subtable"
   ]
  },
  {
   "cell_type": "code",
   "execution_count": 128,
   "metadata": {},
   "outputs": [
    {
     "name": "stdout",
     "output_type": "stream",
     "text": [
      "dict_keys([])\n"
     ]
    }
   ],
   "source": [
    "np.sum(list(subtable_yield.values()))+remnant_mass*mass\n",
    "print(subtable_yield.keys())"
   ]
  },
  {
   "cell_type": "code",
   "execution_count": 135,
   "metadata": {},
   "outputs": [
    {
     "data": {
      "text/plain": [
       "{'Al': array([  3.91500000e-06,   1.32856667e-04,   2.19840000e-04,\n",
       "          1.12870000e-04]),\n",
       " 'Ar': array([  6.31293333e-04,   2.51087667e-03,   2.75310000e-04,\n",
       "         -6.63000000e-06]),\n",
       " 'C': array([ 0.00310067,  0.00688733,  0.006789  ,  0.00583   ]),\n",
       " 'Ca': array([  4.09666667e-04,   1.08583333e-04,  -2.45000000e-06,\n",
       "         -2.16700000e-05]),\n",
       " 'Cl': array([  7.53730000e-05,   5.84339667e-04,   1.26673000e-04,\n",
       "          2.79010000e-05]),\n",
       " 'Co': array([  1.34342333e-04,   2.28956667e-05,   1.90290000e-05,\n",
       "          1.30570000e-05]),\n",
       " 'Cr': array([  1.54283333e-04,   6.68666667e-05,  -3.47000000e-06,\n",
       "         -5.60800000e-06]),\n",
       " 'Cu': array([  6.17900000e-06,   7.38983333e-06,   2.24415000e-05,\n",
       "          1.82965000e-05]),\n",
       " 'F': array([  2.33233333e-07,   6.89566667e-07,   1.12900000e-07,\n",
       "         -2.19000000e-08]),\n",
       " 'Fe': array([ 0.01142867,  0.002542  , -0.0003605 , -0.0004384 ]),\n",
       " 'Ga': array([  4.76253333e-07,   6.36753333e-07,   2.82592000e-06,\n",
       "          1.95182000e-06]),\n",
       " 'Ge': array([  6.74566667e-07,   2.02056667e-06,   4.90290000e-06,\n",
       "          2.32270000e-06]),\n",
       " 'H': array([-0.2325    , -0.27143333, -0.30125   , -0.32718   ]),\n",
       " 'He': array([ 0.06908333,  0.0643    ,  0.05885   ,  0.04986   ]),\n",
       " 'K': array([  3.42623333e-05,   1.38604000e-04,   2.47440000e-05,\n",
       "          2.21600000e-06]),\n",
       " 'Mass': [12.0, 15.0, 20.0, 25.0],\n",
       " 'Mg': array([ 0.00039957,  0.00198523,  0.0062529 ,  0.0035439 ]),\n",
       " 'Mn': array([  5.15366667e-05,   6.18200000e-05,  -2.23500000e-06,\n",
       "         -2.97200000e-06]),\n",
       " 'N': array([ 0.00253783,  0.002253  ,  0.002406  ,  0.002333  ]),\n",
       " 'Na': array([  3.57583333e-05,   1.33133333e-04,   2.58850000e-04,\n",
       "          1.30720000e-04]),\n",
       " 'Ne': array([ 0.00026017,  0.00390433,  0.012316  ,  0.007039  ]),\n",
       " 'Ni': array([  2.29001000e-03,   7.76343333e-04,   1.03760000e-04,\n",
       "          5.48100000e-05]),\n",
       " 'O': array([ 0.00105   ,  0.05180333,  0.0675    ,  0.02783   ]),\n",
       " 'P': array([  4.62856667e-05,   7.93560667e-04,   2.32444000e-04,\n",
       "          1.01334000e-04]),\n",
       " 'S': array([ 0.00282753,  0.01303003,  0.0028757 ,  0.0004439 ]),\n",
       " 'Sc': array([  1.91276667e-07,   2.25052667e-06,   3.28810000e-07,\n",
       "          2.24540000e-07]),\n",
       " 'Si': array([ 0.0037513 ,  0.01202213,  0.0068088 ,  0.0019112 ]),\n",
       " 'Ti': array([  3.50523333e-05,   8.96566667e-06,   4.45500000e-07,\n",
       "         -7.09800000e-07]),\n",
       " 'V': array([  1.96603333e-06,   1.87586667e-06,   1.11700000e-07,\n",
       "         -3.89200000e-08]),\n",
       " 'Zn': array([  7.84600000e-06,   8.06766667e-06,   2.17460000e-05,\n",
       "          1.35770000e-05]),\n",
       " 'mass_in_remnants': array([ 1.61,  1.61,  2.73,  5.71])}"
      ]
     },
     "execution_count": 135,
     "metadata": {},
     "output_type": "execute_result"
    }
   ],
   "source": [
    "table[0.02]"
   ]
  },
  {
   "cell_type": "code",
   "execution_count": null,
   "metadata": {
    "collapsed": true
   },
   "outputs": [],
   "source": []
  },
  {
   "cell_type": "code",
   "execution_count": 67,
   "metadata": {
    "collapsed": true
   },
   "outputs": [],
   "source": [
    "from Chempy.yields import SN2_feedback\n",
    "basic_sn2 = SN2_feedback()\n",
    "getattr(basic_sn2,'Frischknecht16_net')()"
   ]
  },
  {
   "cell_type": "code",
   "execution_count": 132,
   "metadata": {},
   "outputs": [
    {
     "data": {
      "text/plain": [
       "rec.array([ ( 15.,  0.116  ,  0.884     , -0.23488241,  0.09491937,  -5.02422379e-11,  0.,  -3.74497666e-09,  0.03452323,  0.00175197,  0.08179708,   2.67747950e-07,  0.01847469,  0.00079479,  0.00222817,  0.00030332,   9.02317647e-05,   4.20949921e-06,  -1.14176206e-05,   2.48144076e-06,  -5.96023063e-07,   7.22040019e-07,  -3.10748930e-06,   6.13316519e-08,   1.09868887e-07,  -2.00756768e-08,  -3.10221161e-07,   8.46234318e-07,  -3.84941348e-05,   1.61843910e-05,   2.03911130e-05,   4.83026974e-06,   2.50487925e-06,   1.62806318e-07,   2.96859183e-07),\n",
       " ( 20.,  0.11   ,  0.89      , -0.27754309,  0.08938794,  -5.04839089e-11,  0.,  -3.76246278e-09,  0.0468751 ,  0.00185673,  0.11879171,   1.39134597e-06,  0.01701649,  0.00066686,  0.00252666,  0.00032116,   9.81662790e-05,   7.04746376e-06,  -1.88650483e-05,   3.90645982e-06,  -7.57008519e-07,   9.62456455e-07,  -5.06861436e-06,   1.04432722e-07,   2.36447468e-07,  -4.49143342e-08,  -5.93438206e-07,  -2.42875272e-07,  -7.23729251e-05,   2.29363639e-05,   4.33795202e-05,   1.09710037e-05,   6.30673116e-06,   3.99879774e-07,   7.57021492e-07),\n",
       " ( 25.,  0.1064 ,  0.8936    , -0.30617844,  0.09592563,  -5.06735286e-11,  0.,  -3.77432189e-09,  0.03328157,  0.00197854,  0.13084204,   9.73897998e-07,  0.03727044,  0.00113796,  0.00464212,  0.00082712,   2.96709278e-04,   1.26118444e-05,  -2.34755938e-05,   4.16330431e-06,  -6.09612689e-07,   1.28957041e-06,  -5.99267710e-06,   1.47900063e-07,   3.22182811e-07,  -3.61093688e-08,  -8.32106521e-07,  -4.89249381e-07,  -1.00718722e-04,   2.96203520e-05,   5.95341600e-05,   1.55270611e-05,   1.02367397e-05,   7.04827935e-07,   1.36099388e-06),\n",
       " ( 40.,  0.11625,  0.88379726, -0.36408196,  0.09082774,  -5.00307647e-11,  0.,  -3.72136630e-09,  0.02822347,  0.00210359,  0.19336623,   2.03828767e-06,  0.04071384,  0.00136446,  0.00577277,  0.00128735,   4.08027821e-04,   2.21421622e-05,  -3.65975205e-05,   5.31389205e-06,  -5.61200387e-07,   2.06521060e-06,  -9.00857478e-06,   2.44321799e-07,   6.49070055e-07,  -3.82777417e-08,  -1.49161936e-06,  -1.69381417e-06,  -1.76623788e-04,   3.94459212e-05,   1.05062460e-04,   3.12459643e-05,   2.37456033e-05,   1.70229598e-06,   3.77040500e-06)], \n",
       "          dtype=[('Mass', '<f8'), ('mass_in_remnants', '<f8'), ('unprocessed_mass_in_winds', '<f8'), ('H', '<f8'), ('He', '<f8'), ('Li', '<f8'), ('Be', '<f8'), ('B', '<f8'), ('C', '<f8'), ('N', '<f8'), ('O', '<f8'), ('F', '<f8'), ('Ne', '<f8'), ('Na', '<f8'), ('Mg', '<f8'), ('Al', '<f8'), ('Si', '<f8'), ('P', '<f8'), ('S', '<f8'), ('Cl', '<f8'), ('Ar', '<f8'), ('K', '<f8'), ('Ca', '<f8'), ('Sc', '<f8'), ('Ti', '<f8'), ('V', '<f8'), ('Cr', '<f8'), ('Mn', '<f8'), ('Fe', '<f8'), ('Co', '<f8'), ('Ni', '<f8'), ('Cu', '<f8'), ('Zn', '<f8'), ('Ga', '<f8'), ('Ge', '<f8')])"
      ]
     },
     "execution_count": 132,
     "metadata": {},
     "output_type": "execute_result"
    }
   ],
   "source": [
    "basic_sn2.table[0.0134]"
   ]
  },
  {
   "cell_type": "code",
   "execution_count": null,
   "metadata": {
    "collapsed": true
   },
   "outputs": [],
   "source": []
  },
  {
   "cell_type": "code",
   "execution_count": null,
   "metadata": {
    "collapsed": true
   },
   "outputs": [],
   "source": []
  },
  {
   "cell_type": "code",
   "execution_count": 97,
   "metadata": {},
   "outputs": [
    {
     "data": {
      "text/plain": [
       "[930]"
      ]
     },
     "execution_count": 97,
     "metadata": {},
     "output_type": "execute_result"
    }
   ],
   "source": [
    "cuts[0.02]"
   ]
  },
  {
   "cell_type": "code",
   "execution_count": null,
   "metadata": {
    "collapsed": true
   },
   "outputs": [],
   "source": []
  }
 ],
 "metadata": {
  "kernelspec": {
   "display_name": "Python 3",
   "language": "python",
   "name": "python3"
  },
  "language_info": {
   "codemirror_mode": {
    "name": "ipython",
    "version": 3
   },
   "file_extension": ".py",
   "mimetype": "text/x-python",
   "name": "python",
   "nbconvert_exporter": "python",
   "pygments_lexer": "ipython3",
   "version": "3.6.1"
  }
 },
 "nbformat": 4,
 "nbformat_minor": 2
}
