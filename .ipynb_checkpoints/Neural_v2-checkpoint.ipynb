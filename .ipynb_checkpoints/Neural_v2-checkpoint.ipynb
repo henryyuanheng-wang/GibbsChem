{
 "cells": [
  {
   "cell_type": "code",
   "execution_count": null,
   "metadata": {
    "collapsed": true
   },
   "outputs": [],
   "source": [
    "## The code below will allow optimization of hyperparameter\n",
    "%pylab inline\n",
    "from Chempy.parameter import ModelParameters\n",
    "a = ModelParameters()"
   ]
  },
  {
   "cell_type": "code",
   "execution_count": null,
   "metadata": {
    "collapsed": true
   },
   "outputs": [],
   "source": [
    "# To plot neural network error against learning rate for optimization\n",
    "\n",
    "from Chempy.neural import create_network,calculate_errors\n",
    "\n",
    "# Now create and train the neural network for optimal hyperparameters\n",
    "learning_rate = 0.003\n",
    "epoch, loss = create_network(learning_rate=learning_rate)\n",
    "error,std,max_err = calculate_errors('test')"
   ]
  },
  {
   "cell_type": "code",
   "execution_count": null,
   "metadata": {
    "collapsed": true
   },
   "outputs": [],
   "source": [
    "mean_err = np.mean(error)\n",
    "std_err = np.std(error)\n",
    "mean_max_err = np.mean(max_err)\n",
    "print('Mean error is %.5f +/- %.5f with mean maximum %.5f' %(mean_err,std_err,mean_max_err))"
   ]
  },
  {
   "cell_type": "code",
   "execution_count": null,
   "metadata": {
    "collapsed": true
   },
   "outputs": [],
   "source": [
    "max_err"
   ]
  },
  {
   "cell_type": "code",
   "execution_count": null,
   "metadata": {
    "collapsed": true
   },
   "outputs": [],
   "source": [
    "np.max(max_err)"
   ]
  },
  {
   "cell_type": "code",
   "execution_count": null,
   "metadata": {
    "collapsed": true
   },
   "outputs": [],
   "source": [
    "dat=plt.hist(max_err,bins=100)"
   ]
  },
  {
   "cell_type": "code",
   "execution_count": null,
   "metadata": {
    "collapsed": true,
    "scrolled": false
   },
   "outputs": [],
   "source": [
    "from Chempy.neural import max_err_corner_plot\n",
    "max_err_corner_plot('test')"
   ]
  },
  {
   "cell_type": "code",
   "execution_count": null,
   "metadata": {
    "collapsed": true
   },
   "outputs": [],
   "source": [
    "plt.plot(epoch,loss)"
   ]
  },
  {
   "cell_type": "markdown",
   "metadata": {
    "collapsed": true
   },
   "source": []
  },
  {
   "cell_type": "code",
   "execution_count": null,
   "metadata": {
    "collapsed": true
   },
   "outputs": [],
   "source": [
    "sol_dat = np.load('Chempy/input/stars/Proto-sun.npy')\n",
    "sol_dat = array([ ( 0.  ,  4.56),\n",
    "       ( 0.06,  0.01)], \n",
    "      dtype=[('He', '<f8'),  ('age', '<f8')])"
   ]
  },
  {
   "cell_type": "code",
   "execution_count": null,
   "metadata": {
    "collapsed": true
   },
   "outputs": [],
   "source": [
    "sol_dat"
   ]
  },
  {
   "cell_type": "code",
   "execution_count": null,
   "metadata": {
    "collapsed": true
   },
   "outputs": [],
   "source": [
    "np.save('Chempy/input/stars/Proto-sun.npy',sol_dat)"
   ]
  },
  {
   "cell_type": "code",
   "execution_count": null,
   "metadata": {
    "collapsed": true
   },
   "outputs": [],
   "source": [
    "sol_dat.dtype.names"
   ]
  },
  {
   "cell_type": "code",
   "execution_count": null,
   "metadata": {
    "collapsed": true
   },
   "outputs": [],
   "source": [
    "from Chempy.wrapper import multi_star_optimization\n",
    "multi_star_optimization()"
   ]
  },
  {
   "cell_type": "code",
   "execution_count": null,
   "metadata": {
    "collapsed": true
   },
   "outputs": [],
   "source": [
    "from Chempy.plot_mcmc import restructure_chain\n",
    "restructure_chain('karakas10_neural/')\n"
   ]
  },
  {
   "cell_type": "code",
   "execution_count": null,
   "metadata": {
    "collapsed": true
   },
   "outputs": [],
   "source": []
  },
  {
   "cell_type": "code",
   "execution_count": null,
   "metadata": {
    "collapsed": true
   },
   "outputs": [],
   "source": []
  },
  {
   "cell_type": "code",
   "execution_count": null,
   "metadata": {
    "collapsed": true
   },
   "outputs": [],
   "source": []
  },
  {
   "cell_type": "code",
   "execution_count": null,
   "metadata": {},
   "outputs": [],
   "source": [
    "%pylab inline\n",
    "from Chempy.parameter import ModelParameters\n",
    "a = ModelParameters()"
   ]
  },
  {
   "cell_type": "code",
   "execution_count": null,
   "metadata": {},
   "outputs": [],
   "source": [
    "from Chempy.neural import neural_output\n",
    "from Chempy.cem_function import cem_real2,posterior_function_returning_predictions,extract_parameters_and_priors\n",
    "param = [-2.8,-3.06,-0.83,-0.26,0.43,0.36]\n",
    "a = extract_parameters_and_priors(param,a)\n",
    "a.UseNeural = False\n",
    "abun,_ = cem_real2(a)"
   ]
  },
  {
   "cell_type": "code",
   "execution_count": null,
   "metadata": {
    "collapsed": true
   },
   "outputs": [],
   "source": [
    "a = ModelParameters()\n",
    "a.UseNeural = True\n",
    "param = [-2.8,-3.06,-0.83,-0.26,0.43,0.36]\n",
    "a = extract_parameters_and_priors(param,a)\n",
    "abun2,_ = cem_real2(a)"
   ]
  },
  {
   "cell_type": "code",
   "execution_count": null,
   "metadata": {},
   "outputs": [],
   "source": [
    "print(abun)\n",
    "print(abun2)"
   ]
  },
  {
   "cell_type": "code",
   "execution_count": null,
   "metadata": {},
   "outputs": [],
   "source": [
    "err = []\n",
    "ab1 = []\n",
    "ab2 = []\n",
    "for i,item in enumerate(abun2):\n",
    "    if item !=0:\n",
    "        err.append(abun[i]-item)\n",
    "        ab1.append(abun[i])\n",
    "        ab2.append(item)\n",
    "#plt.plot(range(len(err)),err)\n",
    "plt.plot(range(len(ab1)),ab1,label='Chempy')\n",
    "plt.plot(range(len(ab1)),ab2,label='Neural')\n",
    "plt.legend()"
   ]
  },
  {
   "cell_type": "code",
   "execution_count": null,
   "metadata": {
    "collapsed": true
   },
   "outputs": [],
   "source": []
  },
  {
   "cell_type": "code",
   "execution_count": null,
   "metadata": {
    "collapsed": true
   },
   "outputs": [],
   "source": [
    "neural_output(param)"
   ]
  },
  {
   "cell_type": "code",
   "execution_count": null,
   "metadata": {
    "collapsed": true
   },
   "outputs": [],
   "source": [
    "a.UseNeural=False\n",
    "posterior_function_returning_predictions((param,a))"
   ]
  },
  {
   "cell_type": "code",
   "execution_count": null,
   "metadata": {
    "collapsed": true
   },
   "outputs": [],
   "source": []
  },
  {
   "cell_type": "code",
   "execution_count": null,
   "metadata": {
    "collapsed": true
   },
   "outputs": [],
   "source": []
  },
  {
   "cell_type": "code",
   "execution_count": null,
   "metadata": {
    "collapsed": true
   },
   "outputs": [],
   "source": [
    "from Chempy.wrapper import multi_star_optimization\n",
    "multi_star_optimization()\n",
    "from Chempy.plot_mcmc import plot_mcmc_chain_with_prior,restructure_chain\n",
    "restructure_chain('mcmc/')\n"
   ]
  },
  {
   "cell_type": "code",
   "execution_count": null,
   "metadata": {
    "collapsed": true
   },
   "outputs": [],
   "source": []
  },
  {
   "cell_type": "code",
   "execution_count": null,
   "metadata": {
    "collapsed": true
   },
   "outputs": [],
   "source": []
  },
  {
   "cell_type": "code",
   "execution_count": null,
   "metadata": {},
   "outputs": [],
   "source": [
    "%pylab inline"
   ]
  },
  {
   "cell_type": "code",
   "execution_count": null,
   "metadata": {
    "collapsed": true
   },
   "outputs": [],
   "source": [
    "from Chempy.parameter import ModelParameters\n",
    "a = ModelParameters()\n",
    "\n",
    "N = a.training_size # No. data points per parameter\n",
    "widths = a.training_widths # Gaussian widths for parameters\t\n",
    "widths = [3.,3.,3.,3.,3.,3.]\n",
    "\n",
    "# Create 1d grid of data points equally spaced in probability space \n",
    "prob = np.linspace(1/(N+1), 1-1/(N+1), N)"
   ]
  },
  {
   "cell_type": "code",
   "execution_count": null,
   "metadata": {},
   "outputs": [],
   "source": [
    "gaussian.ppf(prob)"
   ]
  },
  {
   "cell_type": "code",
   "execution_count": null,
   "metadata": {
    "collapsed": true
   },
   "outputs": [],
   "source": [
    "from scipy.stats import norm as gaussian"
   ]
  },
  {
   "cell_type": "code",
   "execution_count": null,
   "metadata": {
    "collapsed": true
   },
   "outputs": [],
   "source": [
    "prob = np.linspace(1/(N+1), 1-1/(N+1), N)\n",
    "grids = [gaussian.ppf(prob) for _ in range(len(a.p0))] # Normalize to unit Gaussian\n",
    "norm_grid = np.array(np.meshgrid(*grids)).T.reshape(-1,len(a.p0))\n",
    "\n",
    "# Create grid in parameter space\n",
    "param_grid = [item*widths+a.p0 for item in norm_grid]\n"
   ]
  },
  {
   "cell_type": "code",
   "execution_count": null,
   "metadata": {},
   "outputs": [],
   "source": [
    "%pylab inline\n",
    "from Chempy.parameter import ModelParameters\n",
    "from Chempy.cem_function import posterior_function_returning_predictions\n",
    "a = ModelParameters()\n",
    "import warnings\n",
    "warnings.filterwarnings(\"ignore\")"
   ]
  },
  {
   "cell_type": "code",
   "execution_count": null,
   "metadata": {
    "scrolled": true
   },
   "outputs": [],
   "source": [
    "lower = np.zeros(len(a.p0))\n",
    "upper = np.zeros(len(a.p0))\n",
    "names = ['verif','test'] # Two datasets\n",
    "\n",
    "a.verif_test_sizes = [5,5]\n",
    "\n",
    "# Set upper/lower bounds in parameter space\n",
    "for i,param_name in enumerate(a.to_optimize):\n",
    "    lower[i], upper[i] = a.constraints.get(param_name)\n",
    "    \n",
    "for j ,name in enumerate(names): # Create both test sets\n",
    "    param_grid = []\n",
    "    model_abundances = []\n",
    "    for k in range(a.verif_test_sizes[j]): \n",
    "        param = np.ones(len(a.p0))*np.inf # To ensure initial value is not in range\n",
    "        for i in range(len(a.p0)):\n",
    "            param[i] = np.inf\n",
    "            while param[i] > upper[i] or param[i] < lower[i]: # Continue until param is in correct range\n",
    "                param[i] = np.random.normal(loc=a.p0[i],scale=a.test_widths[i])\n",
    "        param_grid.append(param)\n",
    "        abundances,_ = posterior_function_returning_predictions((param,a))\n",
    "        model_abundances.append(abundances)\n",
    "        if k%100==0 :\n",
    "            print(\"Calculating %s abundance set %d of %d\" %(name,k,a.verif_test_sizes[j]))\n",
    "    np.save(\"Neural/\"+name+\"_param_grid.npy\",param_grid)\n",
    "    np.save(\"Neural/\"+name+\"_abundances.npy\",model_abundances)"
   ]
  },
  {
   "cell_type": "code",
   "execution_count": null,
   "metadata": {},
   "outputs": [],
   "source": [
    "lower"
   ]
  },
  {
   "cell_type": "code",
   "execution_count": null,
   "metadata": {
    "collapsed": true
   },
   "outputs": [],
   "source": [
    "\tfor i,name in enumerate(names): # Create two identically distributed datasets\n",
    "\t\tlength = a.verif_test_sizes[i]\n",
    "\t\tparam_grid = []\n",
    "\t\t\n",
    "\t\t# Distribute data with prior widths\n",
    "\t\tfor _ in range(length):\n",
    "\t\t\tparam_grid.append(np.random.normal(size = len(a.p0), loc = a.p0,\n",
    "\t\t\t\t\t\t\t\t\tscale = a.test_widths))\n",
    "\t\t\tnp.save(\"Neural/\"+name+\"_param_grid.npy\",param_grid)\n",
    "    \n",
    "\t\tmodel_abundances = []\n",
    "\t\tfor j,jtem in enumerate(param_grid):\n",
    "\t\t\tabundances,_ = posterior_function_returning_predictions((jtem,a))\n",
    "\t\t\tmodel_abundances.append(abundances)\n",
    "\t\t\tif j%100 == 0:\n",
    "\t\t\t\t#print(\"Calculating %s abundance set %d of %d\" %(name,j,length))\n",
    "\t\t\t\tcontinue\n",
    " \t\t\n",
    " \t\t# Save abundance table\n",
    "\t\tnp.save(\"Neural/\"+name+\"_abundances.npy\",model_abundances)\n"
   ]
  },
  {
   "cell_type": "code",
   "execution_count": null,
   "metadata": {},
   "outputs": [],
   "source": [
    "param_grid"
   ]
  },
  {
   "cell_type": "code",
   "execution_count": null,
   "metadata": {},
   "outputs": [],
   "source": [
    "lower"
   ]
  },
  {
   "cell_type": "code",
   "execution_count": null,
   "metadata": {},
   "outputs": [],
   "source": [
    "upper"
   ]
  },
  {
   "cell_type": "code",
   "execution_count": null,
   "metadata": {
    "collapsed": true
   },
   "outputs": [],
   "source": []
  },
  {
   "cell_type": "code",
   "execution_count": null,
   "metadata": {
    "collapsed": true
   },
   "outputs": [],
   "source": []
  },
  {
   "cell_type": "code",
   "execution_count": null,
   "metadata": {},
   "outputs": [],
   "source": [
    "%pylab inline"
   ]
  },
  {
   "cell_type": "code",
   "execution_count": null,
   "metadata": {},
   "outputs": [],
   "source": [
    "from Chempy.neural import verification_and_testing\n",
    "%timeit -r 1 -n 1 verification_and_testing()"
   ]
  },
  {
   "cell_type": "code",
   "execution_count": 1,
   "metadata": {},
   "outputs": [
    {
     "name": "stdout",
     "output_type": "stream",
     "text": [
      "4.56\n",
      "0.5\n"
     ]
    },
    {
     "data": {
      "text/plain": [
       "<Chempy.parameter.ModelParameters at 0x7f9a20096588>"
      ]
     },
     "execution_count": 1,
     "metadata": {},
     "output_type": "execute_result"
    }
   ],
   "source": [
    "from Chempy.cem_function import shorten_sfr\n",
    "from Chempy.parameter import ModelParameters\n",
    "a = ModelParameters()\n",
    "shorten_sfr(a)"
   ]
  },
  {
   "cell_type": "code",
   "execution_count": 3,
   "metadata": {},
   "outputs": [
    {
     "name": "stdout",
     "output_type": "stream",
     "text": [
      "Populating the interactive namespace from numpy and matplotlib\n"
     ]
    },
    {
     "name": "stderr",
     "output_type": "stream",
     "text": [
      "/home/philcox/anaconda3/lib/python3.6/site-packages/IPython/core/magics/pylab.py:161: UserWarning: pylab import has clobbered these variables: ['gamma']\n",
      "`%matplotlib` prevents importing * from pylab and numpy\n",
      "  \"\\n`%matplotlib` prevents importing * from pylab and numpy\"\n"
     ]
    }
   ],
   "source": [
    "%pylab inline"
   ]
  },
  {
   "cell_type": "code",
   "execution_count": null,
   "metadata": {
    "collapsed": true
   },
   "outputs": [],
   "source": []
  },
  {
   "cell_type": "code",
   "execution_count": null,
   "metadata": {
    "collapsed": true
   },
   "outputs": [],
   "source": []
  },
  {
   "cell_type": "markdown",
   "metadata": {},
   "source": [
    "## To find SFR peak limits"
   ]
  },
  {
   "cell_type": "code",
   "execution_count": 21,
   "metadata": {},
   "outputs": [
    {
     "data": {
      "text/plain": [
       "<matplotlib.legend.Legend at 0x7f99f1e20898>"
      ]
     },
     "execution_count": 21,
     "metadata": {},
     "output_type": "execute_result"
    },
    {
     "data": {
      "image/png": "[encoded data removed]",
      "text/plain": [
       "<matplotlib.figure.Figure at 0x7f99f2265048>"
      ]
     },
     "metadata": {},
     "output_type": "display_data"
    }
   ],
   "source": [
    "from scipy.stats import gamma\n",
    "# Try for 8.4 as well...\n",
    "sigma = np.linspace(1.2,1.3,10)\n",
    "LHS = np.zeros(len(sigma))\n",
    "RHS = np.zeros(len(sigma))\n",
    "for i,s in enumerate(sigma):\n",
    "    LHS[i] = gamma.pdf(8.5,2,0,s)\n",
    "    RHS[i] = 0\n",
    "    for j in range(int(2*8.5)):\n",
    "        RHS[i]+=gamma.pdf(0.5*j+0.25,2,0,s)*2.96e-3\n",
    "plt.plot(sigma,LHS,label='LHS')\n",
    "plt.plot(sigma,RHS,label='RHS')\n",
    "plt.legend()"
   ]
  },
  {
   "cell_type": "code",
   "execution_count": null,
   "metadata": {
    "collapsed": true
   },
   "outputs": [],
   "source": []
  }
 ],
 "metadata": {
  "kernelspec": {
   "display_name": "Python 3",
   "language": "python",
   "name": "python3"
  },
  "language_info": {
   "codemirror_mode": {
    "name": "ipython",
    "version": 3
   },
   "file_extension": ".py",
   "mimetype": "text/x-python",
   "name": "python",
   "nbconvert_exporter": "python",
   "pygments_lexer": "ipython3",
   "version": "3.6.1"
  }
 },
 "nbformat": 4,
 "nbformat_minor": 2
}
