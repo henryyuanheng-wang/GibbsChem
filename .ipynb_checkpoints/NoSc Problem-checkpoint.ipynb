{
 "cells": [
  {
   "cell_type": "code",
   "execution_count": null,
   "metadata": {},
   "outputs": [],
   "source": [
    "%pylab inline"
   ]
  },
  {
   "cell_type": "markdown",
   "metadata": {},
   "source": [
    "**Code is not predicting correctly for case when Sc is excluded. This is due to different list of names somewhere?**"
   ]
  },
  {
   "cell_type": "code",
   "execution_count": null,
   "metadata": {},
   "outputs": [],
   "source": [
    "from Chempy.score_function import preload_params_mcmc\n",
    "preload = preload_params_mcmc()\n",
    "from Chempy.parameter import ModelParameters\n",
    "a = ModelParameters()\n",
    "sol_dat = np.load('Chempy/input/stars/'+a.stellar_identifier+'.npy')"
   ]
  },
  {
   "cell_type": "code",
   "execution_count": null,
   "metadata": {},
   "outputs": [],
   "source": [
    "print(a.elements_to_trace)\n",
    "print(preload.elements_to_trace)\n",
    "print(preload.elements)\n",
    "print(len(sol_dat.dtype.names))"
   ]
  },
  {
   "cell_type": "code",
   "execution_count": null,
   "metadata": {},
   "outputs": [],
   "source": [
    "from Chempy.cem_function import posterior_function_returning_predictions\n",
    "ab,n=posterior_function_returning_predictions((a.p0,a))\n",
    "print(n)"
   ]
  },
  {
   "cell_type": "code",
   "execution_count": null,
   "metadata": {
    "collapsed": true
   },
   "outputs": [],
   "source": [
    "from Chempy.cem_function import cem_real2\n",
    "cem_real2(a)"
   ]
  },
  {
   "cell_type": "code",
   "execution_count": null,
   "metadata": {},
   "outputs": [],
   "source": [
    "from Chempy.data_to_test import likelihood_function\n",
    "_,x,_,_,_,_=likelihood_function(a.stellar_identifier,ab,n)\n",
    "print(x)"
   ]
  },
  {
   "cell_type": "code",
   "execution_count": null,
   "metadata": {},
   "outputs": [],
   "source": [
    "preload.elements"
   ]
  },
  {
   "cell_type": "code",
   "execution_count": null,
   "metadata": {},
   "outputs": [],
   "source": [
    "np.load('/home/philcox/Save/SCORES/Nomoto_netNoSc/Hogg_elements.npy')"
   ]
  },
  {
   "cell_type": "code",
   "execution_count": null,
   "metadata": {
    "collapsed": true
   },
   "outputs": [],
   "source": []
  },
  {
   "cell_type": "code",
   "execution_count": null,
   "metadata": {
    "collapsed": true
   },
   "outputs": [],
   "source": []
  },
  {
   "cell_type": "markdown",
   "metadata": {},
   "source": [
    "Check neural network output is same with / without Sc for other elements"
   ]
  },
  {
   "cell_type": "code",
   "execution_count": null,
   "metadata": {},
   "outputs": [],
   "source": [
    "%pylab inline\n",
    "from Chempy.score_function import preload_params_mcmc\n",
    "preload = preload_params_mcmc()\n",
    "from Chempy.parameter import ModelParameters\n",
    "a = ModelParameters()\n",
    "sol_dat = np.load('Chempy/input/stars/'+a.stellar_identifier+'.npy')\n",
    "from Chempy.neural import neural_output\n",
    "neural_output(a.p0)"
   ]
  },
  {
   "cell_type": "code",
   "execution_count": null,
   "metadata": {},
   "outputs": [],
   "source": [
    "from Chempy.cem_function import posterior_function_mcmc_quick\n",
    "_,abun27 = posterior_function_mcmc_quick(a.p0,preload.elements,preload)\n",
    "abun27"
   ]
  },
  {
   "cell_type": "code",
   "execution_count": null,
   "metadata": {},
   "outputs": [],
   "source": [
    "abun28 = array([[ 0.04682876],\n",
    "       [ 0.04303881],\n",
    "       [-0.28376826],\n",
    "       [-0.02034301],\n",
    "       [-0.5050862 ],\n",
    "       [-0.34445292],\n",
    "       [ 0.10426688],\n",
    "       [ 0.01772714],\n",
    "       [-0.09978051],\n",
    "       [ 0.18591101],\n",
    "       [ 0.34734833],\n",
    "       [ 0.56511478],\n",
    "       [-0.14640519],\n",
    "       [-0.87838819],\n",
    "       [-0.04087965],\n",
    "       [ 0.1856491 ],\n",
    "       [ 0.05130315],\n",
    "       [ 0.28427847],\n",
    "       [ 0.20745826],\n",
    "       [ 0.16255702],\n",
    "       [ 0.07304092],\n",
    "       [ 0.03230747],\n",
    "       [ 0.20537035],\n",
    "       [-0.91624626],\n",
    "       [ 0.2347035 ],\n",
    "       [-0.43124121],\n",
    "       [-0.2426537 ],\n",
    "       [ 0.00616649]])\n",
    "names28=['Al', 'Ar', 'C', 'Ca', 'Cl', 'Co', 'Cr', 'Cu', 'F', 'Fe', 'Ga', 'Ge', 'He', 'K', 'Mg',\n",
    " 'Mn', 'N', 'Na', 'Ne', 'Ni', 'O', 'P', 'S', 'Sc', 'Si', 'Ti', 'V', 'Zn']\n"
   ]
  },
  {
   "cell_type": "code",
   "execution_count": null,
   "metadata": {},
   "outputs": [],
   "source": [
    "for i in range(27):\n",
    "    print(preload.elements[i],abun27[i],names28[i],abun28[i])"
   ]
  },
  {
   "cell_type": "code",
   "execution_count": 1,
   "metadata": {},
   "outputs": [
    {
     "name": "stdout",
     "output_type": "stream",
     "text": [
      "Populating the interactive namespace from numpy and matplotlib\n"
     ]
    }
   ],
   "source": [
    "%pylab inline\n",
    "from Chempy.parameter import ModelParameters\n",
    "a = ModelParameters()\n",
    "from Chempy.cem_function import cem_real2_int,extract_parameters_and_priors\n",
    "from Chempy.score_function import preload_params_mcmc\n",
    "preload = preload_params_mcmc()"
   ]
  },
  {
   "cell_type": "code",
   "execution_count": 2,
   "metadata": {
    "scrolled": false
   },
   "outputs": [
    {
     "data": {
      "text/plain": [
       "array([ 0.04682876,  0.04303881,  0.        ,  0.        , -0.28376826,\n",
       "       -0.02034301, -0.5050862 , -0.34445292,  0.10426688,  0.01772714,\n",
       "       -0.09978051,  0.18591101,  0.34734833,  0.56511478,  0.        ,\n",
       "       -0.14640519, -0.87838819,  0.        , -0.04087965,  0.1856491 ,\n",
       "        0.05130315,  0.28427847,  0.20745826,  0.16255702,  0.07304092,\n",
       "        0.03230747,  0.20537035,  0.        ,  0.2347035 , -0.43124121,\n",
       "       -0.2426537 ,  0.00616649,  0.        ,  0.        ])"
      ]
     },
     "execution_count": 2,
     "metadata": {},
     "output_type": "execute_result"
    }
   ],
   "source": [
    "a = extract_parameters_and_priors(a.p0,a)\n",
    "cem_real2_int(a,preload)"
   ]
  },
  {
   "cell_type": "code",
   "execution_count": 4,
   "metadata": {},
   "outputs": [],
   "source": [
    "data = array([ 0.04682876,  0.04303881,  0.        ,  0.        , -0.28376826,\n",
    "       -0.02034301, -0.5050862 , -0.34445292,  0.10426688,  0.01772714,\n",
    "       -0.09978051,  0.18591101,  0.34734833,  0.56511478,  0.        ,\n",
    "       -0.14640519, -0.87838819,  0.        , -0.04087965,  0.1856491 ,\n",
    "        0.05130315,  0.28427847,  0.20745826,  0.16255702,  0.07304092,\n",
    "        0.03230747,  0.20537035,  0.        ,  0.2347035 , -0.43124121,\n",
    "       -0.2426537 ,  0.00616649,  0.        ,  0.        ])"
   ]
  },
  {
   "cell_type": "code",
   "execution_count": null,
   "metadata": {},
   "outputs": [],
   "source": [
    "b = preload\n",
    "abundance_list=np.zeros(len(b.elements_to_trace))\n",
    "j=0 # This indexes neural_abundances for ordering\n",
    "\n",
    "for i,name in enumerate(b.elements_to_trace):\n",
    "        if name in a.neural_names:\n",
    "            print(name)# Required elements for later\n",
    "            \n",
    "        else:\n",
    "            print(0)\n",
    "            # All unwanted elements set to arbitrary value\n"
   ]
  },
  {
   "cell_type": "code",
   "execution_count": null,
   "metadata": {
    "collapsed": true
   },
   "outputs": [],
   "source": [
    "a.elements_to_trace"
   ]
  }
 ],
 "metadata": {
  "kernelspec": {
   "display_name": "Python 3",
   "language": "python",
   "name": "python3"
  },
  "language_info": {
   "codemirror_mode": {
    "name": "ipython",
    "version": 3
   },
   "file_extension": ".py",
   "mimetype": "text/x-python",
   "name": "python",
   "nbconvert_exporter": "python",
   "pygments_lexer": "ipython3",
   "version": "3.6.1"
  }
 },
 "nbformat": 4,
 "nbformat_minor": 2
}
