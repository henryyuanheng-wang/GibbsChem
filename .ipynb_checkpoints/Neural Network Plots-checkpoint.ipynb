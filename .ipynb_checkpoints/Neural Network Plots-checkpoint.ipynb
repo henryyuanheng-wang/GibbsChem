{
 "cells": [
  {
   "cell_type": "code",
   "execution_count": 1,
   "metadata": {},
   "outputs": [
    {
     "name": "stdout",
     "output_type": "stream",
     "text": [
      "Populating the interactive namespace from numpy and matplotlib\n"
     ]
    }
   ],
   "source": [
    "%pylab inline"
   ]
  },
  {
   "cell_type": "markdown",
   "metadata": {},
   "source": [
    "### Plot network errrors for 3-sigma width test dataset"
   ]
  },
  {
   "cell_type": "code",
   "execution_count": 2,
   "metadata": {
    "collapsed": true
   },
   "outputs": [],
   "source": [
    "from matplotlib import cm\n",
    "from Chempy.neural import neural_output\n",
    "from Chempy.parameter import ModelParameters\n",
    "\n",
    "a=ModelParameters()\n",
    "\n",
    "# Load datasets\n",
    "data_tr = np.load('/home/philcox/Save/Nomoto_net/training_param_grid.npy')\n",
    "data_v = np.load('/home/philcox/Save/Nomoto_net/3.0_sigma_param_grid.npy') # Use 3 sigma width training dataset"
   ]
  },
  {
   "cell_type": "code",
   "execution_count": 3,
   "metadata": {
    "scrolled": true
   },
   "outputs": [
    {
     "name": "stdout",
     "output_type": "stream",
     "text": [
      "0\n",
      "1000\n",
      "2000\n"
     ]
    }
   ],
   "source": [
    "def neural_errors():\n",
    "    \"\"\" Calculate median absolute error between Chempy and neural network for each set of parameters.\n",
    "    \"\"\"\n",
    "    # Load abundances\n",
    "    model_abundances = np.load('/home/philcox/Save/Nomoto_net/3.0_sigma_abundances.npy')\n",
    "    # Calculate absolute model error\n",
    "    error=[]\n",
    "    for i in range(len(data_v)):\n",
    "        if i % 1000 == 0:\n",
    "            print(i)\n",
    "        predicted_abundances = neural_output(data_v[i])\n",
    "        error.append(np.absolute(predicted_abundances-model_abundances[i]))\n",
    "    return np.std(error,axis=1)\n",
    "\n",
    "param_error = neural_errors()"
   ]
  },
  {
   "cell_type": "code",
   "execution_count": 4,
   "metadata": {},
   "outputs": [
    {
     "data": {
      "text/plain": [
       "<matplotlib.figure.Figure at 0x7fa136f5f9b0>"
      ]
     },
     "metadata": {},
     "output_type": "display_data"
    }
   ],
   "source": [
    "# Initialize plot\n",
    "plt.clf()\n",
    "text_size = 16\n",
    "axis_size = 12\n",
    "plt.rc('font', family='serif',size = text_size)\n",
    "plt.rc('xtick', labelsize=axis_size)\n",
    "plt.rc('ytick', labelsize=axis_size)\n",
    "plt.rc('axes', labelsize=text_size, lw=1.0)\n",
    "plt.rc('lines', linewidth = 1)\n",
    "plt.rcParams['ytick.major.pad']='8'\n",
    "plt.rcParams['text.latex.preamble']=[r\"\\usepackage{libertine}\"]\n",
    "params = {'text.usetex' : True,\n",
    "      'font.family' : 'libertine',\n",
    "      'text.latex.unicode': True,\n",
    "      }\n",
    "plt.rcParams.update(params)\n",
    "parameter_names = [r'$\\alpha_\\mathrm{IMF}$',r'$\\log_{10}(\\mathrm{N_{Ia}})$',\n",
    "               r'$\\log_{10}(\\mathrm{SFE})$',\n",
    "               r'$\\log_{10}(\\mathrm{SFR_{peak}})$',r'x_{out}']\n",
    "\n",
    "# Compute priors\n",
    "priors = []\n",
    "prior_widths = []\n",
    "for i,param_name in enumerate(a.to_optimize):\n",
    "    priors.append(a.priors.get(param_name)[0])\n",
    "    prior_widths.append(a.priors.get(param_name)[1])\n",
    "\n"
   ]
  },
  {
   "cell_type": "code",
   "execution_count": null,
   "metadata": {},
   "outputs": [],
   "source": [
    "# Plot settings\n",
    "fig,axes = plt.subplots(nrows = len(a.p0)-1, ncols = len(a.p0)-1,figsize=(14.69,8.0),dpi=100)\n",
    "alpha = 0.5\n",
    "lw=2 # Linewidth\n",
    "lwprior = 1\n",
    "left = 0.1 # Left side of subplots\n",
    "right = 0.8 # Right side\n",
    "bottom = 0.075\n",
    "top = 0.97\n",
    "wspace = 0.0 # blankspace width between subplots\n",
    "hspace = 0.0 # blankspace height between subplots\n",
    "color_max = 0.025\n",
    "plt.subplots_adjust(left=left,bottom=bottom,right=right,top=top,wspace=wspace,hspace=hspace)\n",
    "\n",
    "# Create plot\n",
    "for i in range(len(a.p0)-1):\n",
    "    for j in range(len(a.p0)-1):\n",
    "        axes[i,j].locator_params(nbins=4)\n",
    "        if j==1:\n",
    "            axes[i,j].locator_params(nbins=4)\n",
    "        if i==j:\n",
    "            counts,edges = np.histogram(np.asarray(data_v[:,j]),bins=20)\n",
    "            max_count = float(np.max(counts))\n",
    "            counts = np.divide(counts,max_count)\n",
    "            median = np.zeros(len(edges)-1)\n",
    "            for k in range(len(edges)-1):\n",
    "                choice = np.logical_and(np.greater(data_v[:,j],edges[k]),np.less(data_v[:,j],edges[k+1]))\n",
    "                error=np.extract(choice,param_error)\n",
    "                if len(error) != 0:\n",
    "                    median[k] = np.median(error)\n",
    "            colors = cm.coolwarm(median/color_max)\n",
    "            axes[i,j].bar(left = edges[:-1], height=counts, width = edges[1]-edges[0],\n",
    "                                color=colors,alpha=alpha, linewidth=0,align='edge')\n",
    "            axes[i,j].set_xlim(min(data_v[:,j]),max(data_v[:,j]))\n",
    "            axes[i,j].set_ylim(0,1.05)\n",
    "            if j !=0:\n",
    "                plt.setp(axes[i,j].get_yticklabels(), visible=False)\n",
    "            axes[i,j].vlines(prior_widths[i]+priors[i],axes[i,j].get_ylim()[0],axes[i,j].get_ylim()[1], color = 'k',alpha=alpha,linewidth = lw,linestyle = 'dashed')\n",
    "\n",
    "                        axes[i,j].vlines(np.percentile(data_v[:,j],100-15.865),axes[i,j].get_ylim()[0],axes[i,j].get_ylim()[1], color = 'k',alpha=alpha,linewidth = lw,linestyle = 'dashed')\n",
    "            axes[i,j].vlines(np.percentile(data_v[:,j],50),axes[i,j].get_ylim()[0],axes[i,j].get_ylim()[1], color = 'k',alpha=alpha,linewidth = lw)\n",
    "        if i>j:\n",
    "            if j !=0:\n",
    "                plt.setp(axes[i,j].get_yticklabels(), visible=False)\n",
    "            P2 = axes[i,j].scatter(data_tr[:,j],data_tr[:,i],c='k',marker='+',s=30,lw=2)\n",
    "            P1 = axes[i,j].scatter(data_v[:,j],data_v[:,i],marker='x',alpha=alpha,\n",
    "                                            c=param_error,vmin=0,vmax=color_max,cmap=cm.coolwarm,s=3)\n",
    "            axes[i,j].set_xlim(min(data_v[:,j]),max(data_v[:,j]))\n",
    "            axes[i,j].set_ylim(min(data_v[:,i]),max(data_v[:,i]))\n",
    "        if j>i:\n",
    "            axes[i,j].axis('off')\n",
    "        if i == len(a.p0)-1:\n",
    "            axes[i,j].set_xlabel(parameter_names[j])\n",
    "        if j ==0:\n",
    "            axes[i,j].set_ylabel(parameter_names[i])\n",
    "        if i==2 and j == 1:\n",
    "            cplot = axes[i,j].scatter(data_v[:,j],data_v[:,i],marker='.',alpha=alpha,\n",
    "                                                c=param_error,vmin=0,vmax=color_max,cmap=cm.coolwarm,s=3)\n",
    "            axes[i,j].set_xlim(min(data_v[:,j]),max(data_v[:,j]))\n",
    "            axes[i,j].set_ylim(min(data_v[:,i]),max(data_v[:,i]))\n",
    "cax=fig.add_axes([0.82,0.06,0.02,0.9])\n",
    "plt.colorbar(cplot,cax=cax)\n",
    "\n",
    "plt.show()\n",
    "fig.savefig('PaperPlots/Neural_error_plot.pdf',bbox_inches='tight')\n",
    "# One plot is different...."
   ]
  },
  {
   "cell_type": "code",
   "execution_count": null,
   "metadata": {},
   "outputs": [],
   "source": [
    "counts,edges = np.histogram(np.asarray(data_v[:,j]),bins=20)"
   ]
  },
  {
   "cell_type": "code",
   "execution_count": null,
   "metadata": {},
   "outputs": [],
   "source": [
    "edges"
   ]
  },
  {
   "cell_type": "code",
   "execution_count": null,
   "metadata": {},
   "outputs": [],
   "source": [
    "max(edges)"
   ]
  },
  {
   "cell_type": "code",
   "execution_count": null,
   "metadata": {
    "collapsed": true
   },
   "outputs": [],
   "source": []
  }
 ],
 "metadata": {
  "kernelspec": {
   "display_name": "Python 3",
   "language": "python",
   "name": "python3"
  },
  "language_info": {
   "codemirror_mode": {
    "name": "ipython",
    "version": 3
   },
   "file_extension": ".py",
   "mimetype": "text/x-python",
   "name": "python",
   "nbconvert_exporter": "python",
   "pygments_lexer": "ipython3",
   "version": "3.6.1"
  }
 },
 "nbformat": 4,
 "nbformat_minor": 2
}
