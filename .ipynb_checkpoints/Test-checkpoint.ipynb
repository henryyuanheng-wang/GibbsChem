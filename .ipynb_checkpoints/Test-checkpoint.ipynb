{
 "cells": [
  {
   "cell_type": "markdown",
   "metadata": {},
   "source": [
    "## Plotting abundances (with model errors)\n",
    "This routine calculates the posterior and plots abundances from both the model (stopped at 9 Gyr) and proto-solar predictions."
   ]
  },
  {
   "cell_type": "code",
   "execution_count": null,
   "metadata": {
    "collapsed": true
   },
   "outputs": [],
   "source": []
  },
  {
   "cell_type": "code",
   "execution_count": null,
   "metadata": {
    "collapsed": true
   },
   "outputs": [],
   "source": []
  },
  {
   "cell_type": "code",
   "execution_count": null,
   "metadata": {
    "collapsed": true
   },
   "outputs": [],
   "source": []
  },
  {
   "cell_type": "code",
   "execution_count": null,
   "metadata": {
    "collapsed": true
   },
   "outputs": [],
   "source": []
  },
  {
   "cell_type": "code",
   "execution_count": null,
   "metadata": {
    "collapsed": true
   },
   "outputs": [],
   "source": []
  },
  {
   "cell_type": "code",
   "execution_count": null,
   "metadata": {},
   "outputs": [],
   "source": [
    "%pylab inline\n",
    "\n",
    "from Chempy.cem_function import cem2, extract_parameters_and_priors\n",
    "from Chempy.parameter import ModelParameters\n",
    "a=ModelParameters()\n",
    "a.p0 = np.array([-2.63,-2.81,-0.83,-0.29,0.55,0.50]) # Parameters found by model\n",
    "a = extract_parameters_and_priors(a.p0, a) # To update to new model\n",
    "abundances, names = cem2(a) # predict abundances"
   ]
  },
  {
   "cell_type": "code",
   "execution_count": null,
   "metadata": {
    "collapsed": true
   },
   "outputs": [],
   "source": [
    "# Load in proto-sun abundances and errors (remove last value (solar age))\n",
    "proto_sun = np.load('Chempy/input/stars/Proto-sun.npy')\n",
    "proto_sun_abundance = []\n",
    "proto_sun_error = []\n",
    "model_abundance = []\n",
    "#names = np.asarray(names) # For compatibility\n",
    "\n",
    "# Calculate model abundance in same order as proto-sun\n",
    "for i,item in enumerate(proto_sun.dtype.names[:-1]):\n",
    "    for j,jtem in enumerate(names):\n",
    "        if jtem == item:\n",
    "            model_abundance.append(abundances[j])\n",
    "    #model_abundance.append(abundances[np.where(names==item)])\n",
    "    proto_sun_abundance.append(proto_sun[0][i])\n",
    "    proto_sun_error.append(proto_sun[1][i])\n",
    "    \n",
    "# Load abundance names ([X/Fe]) in correct order\n",
    "abundance_names = []\n",
    "for item in proto_sun.dtype.names[:-1]:\n",
    "    if item != 'Fe':\n",
    "        abundance_names.append('[%s/Fe]' %(item))\n",
    "    else:\n",
    "        abundance_names.append('[Fe/H]')"
   ]
  },
  {
   "cell_type": "code",
   "execution_count": null,
   "metadata": {},
   "outputs": [],
   "source": [
    "# Plot figure\n",
    "fig = plt.figure(figsize=(30.69,8.27), dpi=100)\n",
    "plt.clf()\n",
    "text_size = 20\n",
    "plt.rc('font', family='serif',size = text_size)\n",
    "plt.rc('xtick', labelsize=text_size)\n",
    "plt.rc('ytick', labelsize=text_size)\n",
    "plt.rc('axes', labelsize=text_size, lw=1.)\n",
    "plt.rc('lines', linewidth = 1.)\n",
    "plt.rcParams['ytick.major.pad']='8'\n",
    "plt.rcParams['text.latex.preamble']=[r\"\\usepackage{libertine}\"]\n",
    "params = {'text.usetex' : True,'font.size' : 16,'font.family' : 'libertine','text.latex.unicode': True}\n",
    "ax = fig.add_subplot(111)\n",
    "plt.plot(np.arange(len(abundance_names)),model_abundance,label='Final model abundances',linestyle='-') # Plot model data\n",
    "plt.errorbar(np.arange(len(abundance_names)),proto_sun_abundance,xerr=None,yerr=proto_sun_error,linestyle = '',mew=3,marker='x',capthick =3,capsize = 20, ms = 10,elinewidth=3,label='proto-solar')\n",
    "plt.ylim((-0.5,0.5))\n",
    "plt.xticks(np.arange(len(a.element_names)),abundance_names)\n",
    "plt.ylabel(\"abundance relative to solar in dex\")\n",
    "plt.xlabel(\"Element\")\n",
    "plt.title(\"Comparing proto-solar model and predicted abundances\")\n",
    "plt.legend()\n",
    "savefig('karakas10/AbundancePlot')"
   ]
  },
  {
   "cell_type": "markdown",
   "metadata": {},
   "source": [
    "## SAVE THIS PLOT"
   ]
  },
  {
   "cell_type": "code",
   "execution_count": null,
   "metadata": {
    "collapsed": true
   },
   "outputs": [],
   "source": []
  },
  {
   "cell_type": "code",
   "execution_count": null,
   "metadata": {
    "collapsed": true
   },
   "outputs": [],
   "source": []
  },
  {
   "cell_type": "code",
   "execution_count": null,
   "metadata": {},
   "outputs": [],
   "source": [
    "## Now restructure the chain\n",
    "\n",
    "from Chempy.plot_mcmc import restructure_chain\n",
    "restructure_chain('karakas10_neural/')"
   ]
  },
  {
   "cell_type": "code",
   "execution_count": null,
   "metadata": {},
   "outputs": [],
   "source": [
    "## Plot the posterior and prior values and correlation grid\n",
    "from Chempy.plot_mcmc import plot_mcmc_chain_with_prior\n",
    "plot_mcmc_chain_with_prior('karakas10_neural/',use_prior = True, only_first_star = False,plot_true_parameters = False,plot_only_SSP_parameter = False)"
   ]
  },
  {
   "cell_type": "code",
   "execution_count": null,
   "metadata": {
    "collapsed": true
   },
   "outputs": [],
   "source": []
  },
  {
   "cell_type": "code",
   "execution_count": null,
   "metadata": {},
   "outputs": [],
   "source": [
    "%pylab inline"
   ]
  },
  {
   "cell_type": "code",
   "execution_count": null,
   "metadata": {
    "collapsed": true
   },
   "outputs": [],
   "source": [
    "from Chempy.cem_function import cem2\n",
    "from Chempy.parameter import ModelParameters\n",
    "a = ModelParameters()"
   ]
  },
  {
   "cell_type": "code",
   "execution_count": null,
   "metadata": {},
   "outputs": [],
   "source": [
    "a.UseNeural = False\n",
    "abundances,names = cem2(a)"
   ]
  },
  {
   "cell_type": "code",
   "execution_count": null,
   "metadata": {
    "collapsed": true
   },
   "outputs": [],
   "source": [
    "a.UseNeural = True\n",
    "abundances2,names2 = cem2(a)"
   ]
  },
  {
   "cell_type": "code",
   "execution_count": null,
   "metadata": {},
   "outputs": [],
   "source": [
    "np.array(abundances)-np.array(abundances2)"
   ]
  },
  {
   "cell_type": "code",
   "execution_count": null,
   "metadata": {},
   "outputs": [],
   "source": [
    "a = ModelParameters()\n",
    "param = a.p0 + np.random.rand(6)*0.1\n",
    "a.UseNeural = False\n",
    "from Chempy.cem_function import posterior_function_predictions\n",
    "post,abun,name = posterior_function_predictions(param,a)"
   ]
  },
  {
   "cell_type": "code",
   "execution_count": null,
   "metadata": {},
   "outputs": [],
   "source": [
    "a = ModelParameters()\n",
    "a.UseNeural = True\n",
    "from Chempy.cem_function import posterior_function_predictions\n",
    "post2,abun2,name2 = posterior_function_predictions(param,a)"
   ]
  },
  {
   "cell_type": "code",
   "execution_count": null,
   "metadata": {},
   "outputs": [],
   "source": [
    "post2"
   ]
  },
  {
   "cell_type": "code",
   "execution_count": null,
   "metadata": {},
   "outputs": [],
   "source": [
    "N = 20\n",
    "error = np.zeros((N,22))\n",
    "for i in range(N):\n",
    "    a = ModelParameters()\n",
    "    a.UseNeural = False\n",
    "    param = a.p0*(1+np.random.rand(6)*0.1)\n",
    "    post,abun,_ = posterior_function_predictions(param,a)\n",
    "    a.UseNeural = True\n",
    "    post2,abun2,_ = posterior_function_predictions(param,a)\n",
    "    for j in range(22):\n",
    "        error[i,j] = (abun[j]-abun2[j])\n",
    "    if i % 10 == 0:\n",
    "        print(i)"
   ]
  },
  {
   "cell_type": "code",
   "execution_count": null,
   "metadata": {},
   "outputs": [],
   "source": [
    "element_err = np.zeros(22)\n",
    "err_err = np.zeros(22)\n",
    "for i in range(22):\n",
    "    element_err[i] = np.mean(error[:,i])\n",
    "    err_err[i] = np.std(error[:,i])"
   ]
  },
  {
   "cell_type": "code",
   "execution_count": null,
   "metadata": {
    "scrolled": true
   },
   "outputs": [],
   "source": [
    "element_err"
   ]
  },
  {
   "cell_type": "markdown",
   "metadata": {},
   "source": [
    "We expect average errors of zero - no modulus here"
   ]
  },
  {
   "cell_type": "code",
   "execution_count": null,
   "metadata": {},
   "outputs": [],
   "source": [
    "err_err"
   ]
  },
  {
   "cell_type": "code",
   "execution_count": null,
   "metadata": {},
   "outputs": [],
   "source": [
    "plt.figure()\n",
    "plt.errorbar(range(22),element_err,err_err)"
   ]
  },
  {
   "cell_type": "code",
   "execution_count": null,
   "metadata": {
    "collapsed": true
   },
   "outputs": [],
   "source": []
  },
  {
   "cell_type": "code",
   "execution_count": null,
   "metadata": {
    "collapsed": true
   },
   "outputs": [],
   "source": []
  },
  {
   "cell_type": "code",
   "execution_count": null,
   "metadata": {},
   "outputs": [],
   "source": [
    "a = ModelParameters()\n",
    "from Chempy.cem_function import cem_real2\n",
    "a.UseNeural = False\n",
    "est,names = cem_real2(a)"
   ]
  },
  {
   "cell_type": "code",
   "execution_count": null,
   "metadata": {},
   "outputs": [],
   "source": [
    "a.UseNeural = True\n",
    "a = ModelParameters()\n",
    "est2,names2 = cem_real2(a)"
   ]
  },
  {
   "cell_type": "code",
   "execution_count": null,
   "metadata": {},
   "outputs": [],
   "source": [
    "print(est)\n",
    "print(est2)"
   ]
  },
  {
   "cell_type": "code",
   "execution_count": null,
   "metadata": {},
   "outputs": [],
   "source": [
    "len(est)"
   ]
  },
  {
   "cell_type": "code",
   "execution_count": null,
   "metadata": {},
   "outputs": [],
   "source": [
    "len(est2)"
   ]
  },
  {
   "cell_type": "code",
   "execution_count": null,
   "metadata": {},
   "outputs": [],
   "source": [
    "names==names2"
   ]
  },
  {
   "cell_type": "code",
   "execution_count": null,
   "metadata": {},
   "outputs": [],
   "source": [
    "from Chempy.plot_mcmc import restructure_chain\n",
    "restructure_chain('elements/All/')"
   ]
  },
  {
   "cell_type": "code",
   "execution_count": null,
   "metadata": {
    "collapsed": true
   },
   "outputs": [],
   "source": []
  },
  {
   "cell_type": "code",
   "execution_count": null,
   "metadata": {
    "collapsed": true
   },
   "outputs": [],
   "source": []
  },
  {
   "cell_type": "code",
   "execution_count": null,
   "metadata": {
    "collapsed": true
   },
   "outputs": [],
   "source": []
  },
  {
   "cell_type": "code",
   "execution_count": null,
   "metadata": {
    "collapsed": true
   },
   "outputs": [],
   "source": []
  },
  {
   "cell_type": "code",
   "execution_count": null,
   "metadata": {
    "collapsed": true
   },
   "outputs": [],
   "source": []
  },
  {
   "cell_type": "markdown",
   "metadata": {},
   "source": [
    "## Swap to 5^6 size training sample and retest"
   ]
  },
  {
   "cell_type": "code",
   "execution_count": null,
   "metadata": {},
   "outputs": [
    {
     "name": "stdout",
     "output_type": "stream",
     "text": [
      "Populating the interactive namespace from numpy and matplotlib\n",
      "Training epoch 0 of 5000 complete\n",
      "Training epoch 1000 of 5000 complete\n"
     ]
    }
   ],
   "source": [
    "%pylab inline\n",
    "from Chempy.neural import create_network\n",
    "learning_rate = 0.003\n",
    "epoch, loss = create_network(learning_rate=learning_rate)"
   ]
  },
  {
   "cell_type": "code",
   "execution_count": null,
   "metadata": {
    "collapsed": true
   },
   "outputs": [],
   "source": [
    "N = 50\n",
    "from Chempy.parameter import ModelParameters()\n",
    "from Chempy.cem_function import posterior_function_predictions\n",
    "error = np.zeros((N,22))\n",
    "for i in range(N):\n",
    "    a = ModelParameters()\n",
    "    a.UseNeural = False\n",
    "    param = a.p0*(1+np.random.rand(6)*0.1)\n",
    "    post,abun,_ = posterior_function_predictions(param,a)\n",
    "    a.UseNeural = True\n",
    "    post2,abun2,_ = posterior_function_predictions(param,a)\n",
    "    for j in range(22):\n",
    "        error[i,j] = (abun[j]-abun2[j])\n",
    "    if i % 10 == 0:\n",
    "        print(i)"
   ]
  }
 ],
 "metadata": {
  "kernelspec": {
   "display_name": "Python 3",
   "language": "python",
   "name": "python3"
  },
  "language_info": {
   "codemirror_mode": {
    "name": "ipython",
    "version": 3
   },
   "file_extension": ".py",
   "mimetype": "text/x-python",
   "name": "python",
   "nbconvert_exporter": "python",
   "pygments_lexer": "ipython3",
   "version": "3.6.1"
  }
 },
 "nbformat": 4,
 "nbformat_minor": 2
}
