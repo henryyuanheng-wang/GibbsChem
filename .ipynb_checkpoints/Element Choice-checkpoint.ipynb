{
 "cells": [
  {
   "cell_type": "code",
   "execution_count": 1,
   "metadata": {},
   "outputs": [
    {
     "name": "stdout",
     "output_type": "stream",
     "text": [
      "Populating the interactive namespace from numpy and matplotlib\n"
     ]
    }
   ],
   "source": [
    "%pylab inline"
   ]
  },
  {
   "cell_type": "code",
   "execution_count": 2,
   "metadata": {
    "collapsed": true
   },
   "outputs": [],
   "source": [
    "from Chempy.parameter import ModelParameters\n",
    "a = ModelParameters()"
   ]
  },
  {
   "cell_type": "code",
   "execution_count": 3,
   "metadata": {},
   "outputs": [
    {
     "data": {
      "text/plain": [
       "['Mn']"
      ]
     },
     "execution_count": 3,
     "metadata": {},
     "output_type": "execute_result"
    }
   ],
   "source": [
    "a.elements_to_trace"
   ]
  },
  {
   "cell_type": "code",
   "execution_count": null,
   "metadata": {},
   "outputs": [
    {
     "name": "stdout",
     "output_type": "stream",
     "text": [
      "['Proto-sun']\n",
      "first minimization for each star separately took:  1 seconds\n",
      "[2.3539038293932619]\n",
      "step 1 global minimization took:  3 seconds\n",
      "step 1 local minimization took:  0 seconds\n",
      "[2.3539038293932619, 2.3959021510176908]\n",
      "step 2 global minimization took:  3 seconds\n",
      "step 2 local minimization took:  0 seconds\n",
      "[array([[-2.54706817, -2.57255334, -0.78783501, -0.32051299,  0.53376218,\n",
      "         0.49662872]]), 'initial minimization', (array([-2.54706817, -2.57255334, -0.78783501]), 2.3539038293932619), 'step 1 global minimization', array([[-2.54706817, -2.57255334, -0.78783501, -0.32051299,  0.53376218,\n",
      "         0.52146016]]), 'step 1 local minimization', (array([-2.56568968, -2.58983933, -0.80200408]), 2.3959021510176908), 'step 2 global minimization', array([[-2.56568968, -2.58983933, -0.80200408, -0.33119676,  0.55155425,\n",
      "         0.49538715]]), 'step 2 local minimization', [2.3539038293932619, 2.3959021510176908]]\n",
      "step  1 of  1000\n",
      "5.43874141976 5.43728709828\n",
      "calculation so far took 3.109358549118042  seconds\n",
      "step  2 of  1000\n",
      "5.43874141976 5.43527729847\n",
      "calculation so far took 3.828272581100464  seconds\n",
      "step  3 of  1000\n",
      "5.43874141976 5.42869173204\n",
      "calculation so far took 4.470101833343506  seconds\n",
      "step  4 of  1000\n",
      "5.43874141976 5.41986740692\n",
      "calculation so far took 5.101515293121338  seconds\n",
      "step  5 of  1000\n",
      "5.43874141976 5.40986092388\n",
      "calculation so far took 5.717532634735107  seconds\n",
      "step  6 of  1000\n",
      "5.43874141976 5.38843169565\n",
      "calculation so far took 6.331881046295166  seconds\n",
      "step  7 of  1000\n",
      "5.43874141976 5.31313994893\n",
      "calculation so far took 7.066730737686157  seconds\n",
      "step  8 of  1000\n",
      "5.43874141976 5.18246805369\n",
      "calculation so far took 7.811498403549194  seconds\n",
      "step  9 of  1000\n",
      "5.43874141976 5.08081778313\n",
      "calculation so far took 8.435876846313477  seconds\n",
      "step  10 of  1000\n",
      "5.43874141976 4.9637241866\n",
      "calculation so far took 9.057522535324097  seconds\n",
      "step  11 of  1000\n",
      "5.43874141976 4.72899767888\n",
      "calculation so far took 9.672544240951538  seconds\n",
      "step  12 of  1000\n",
      "5.43874141976 4.24786116318\n",
      "calculation so far took 10.28983211517334  seconds\n",
      "step  13 of  1000\n",
      "5.43874141976 4.04388672628\n",
      "calculation so far took 10.909985780715942  seconds\n",
      "step  14 of  1000\n",
      "5.43874141976 3.83933653936\n",
      "calculation so far took 11.553905725479126  seconds\n",
      "step  15 of  1000\n",
      "5.43874141976 3.84655082029\n",
      "calculation so far took 12.33624815940857  seconds\n",
      "step  16 of  1000\n"
     ]
    },
    {
     "name": "stderr",
     "output_type": "stream",
     "text": [
      "Traceback (most recent call last):\n",
      "  File \"/home/philcox/Chempy/Chempy/cem_function.py\", line 882, in posterior_function_many_stars\n",
      "    posterior, blobs = posterior_function_many_stars_real(changing_parameter,error_list,elements)\n",
      "  File \"/home/philcox/Chempy/Chempy/cem_function.py\", line 920, in posterior_function_many_stars_real\n",
      "    abundance_list,element_list = posterior_function_returning_predictions(args)\n",
      "  File \"/home/philcox/Chempy/Chempy/cem_function.py\", line 482, in posterior_function_returning_predictions\n",
      "    posterior, abundance_list, element_list = posterior_function_predictions(changing_parameter,a)\n",
      "  File \"/home/philcox/Chempy/Chempy/cem_function.py\", line 492, in posterior_function_predictions\n",
      "    a = extract_parameters_and_priors(changing_parameter, a)\n",
      "  File \"/home/philcox/Chempy/Chempy/cem_function.py\", line 717, in extract_parameters_and_priors\n",
      "    assert False, '%s lower border is violated' %(name)\n",
      "AssertionError: outflow_feedback_fraction lower border is violated\n"
     ]
    },
    {
     "name": "stdout",
     "output_type": "stream",
     "text": [
      "5.43874141976 3.55133713173\n",
      "calculation so far took 13.04759430885315  seconds\n",
      "step  17 of  1000\n",
      "5.43874141976 3.61526198713\n",
      "calculation so far took 13.976424932479858  seconds\n",
      "step  18 of  1000\n",
      "5.43874141976 3.72664478426\n",
      "calculation so far took 14.700756549835205  seconds\n",
      "step  19 of  1000\n"
     ]
    },
    {
     "name": "stderr",
     "output_type": "stream",
     "text": [
      "Traceback (most recent call last):\n",
      "  File \"/home/philcox/Chempy/Chempy/cem_function.py\", line 882, in posterior_function_many_stars\n",
      "    posterior, blobs = posterior_function_many_stars_real(changing_parameter,error_list,elements)\n",
      "  File \"/home/philcox/Chempy/Chempy/cem_function.py\", line 920, in posterior_function_many_stars_real\n",
      "    abundance_list,element_list = posterior_function_returning_predictions(args)\n",
      "  File \"/home/philcox/Chempy/Chempy/cem_function.py\", line 482, in posterior_function_returning_predictions\n",
      "    posterior, abundance_list, element_list = posterior_function_predictions(changing_parameter,a)\n",
      "  File \"/home/philcox/Chempy/Chempy/cem_function.py\", line 492, in posterior_function_predictions\n",
      "    a = extract_parameters_and_priors(changing_parameter, a)\n",
      "  File \"/home/philcox/Chempy/Chempy/cem_function.py\", line 719, in extract_parameters_and_priors\n",
      "    assert False, '%s upper border is violated' %(name)\n",
      "AssertionError: log10_sfr_scale upper border is violated\n"
     ]
    },
    {
     "name": "stdout",
     "output_type": "stream",
     "text": [
      "5.43874141976 3.7871741016\n",
      "calculation so far took 15.419048070907593  seconds\n",
      "step  20 of  1000\n"
     ]
    },
    {
     "name": "stderr",
     "output_type": "stream",
     "text": [
      "Traceback (most recent call last):\n",
      "  File \"/home/philcox/Chempy/Chempy/cem_function.py\", line 882, in posterior_function_many_stars\n",
      "    posterior, blobs = posterior_function_many_stars_real(changing_parameter,error_list,elements)\n",
      "  File \"/home/philcox/Chempy/Chempy/cem_function.py\", line 920, in posterior_function_many_stars_real\n",
      "    abundance_list,element_list = posterior_function_returning_predictions(args)\n",
      "  File \"/home/philcox/Chempy/Chempy/cem_function.py\", line 482, in posterior_function_returning_predictions\n",
      "    posterior, abundance_list, element_list = posterior_function_predictions(changing_parameter,a)\n",
      "  File \"/home/philcox/Chempy/Chempy/cem_function.py\", line 492, in posterior_function_predictions\n",
      "    a = extract_parameters_and_priors(changing_parameter, a)\n",
      "  File \"/home/philcox/Chempy/Chempy/cem_function.py\", line 717, in extract_parameters_and_priors\n",
      "    assert False, '%s lower border is violated' %(name)\n",
      "AssertionError: outflow_feedback_fraction lower border is violated\n"
     ]
    },
    {
     "name": "stdout",
     "output_type": "stream",
     "text": [
      "5.43874141976 3.65803595173\n",
      "calculation so far took 16.11169719696045  seconds\n",
      "step  21 of  1000\n",
      "5.43874141976 3.61956333389\n",
      "calculation so far took 16.936521768569946  seconds\n",
      "step  22 of  1000\n"
     ]
    },
    {
     "name": "stderr",
     "output_type": "stream",
     "text": [
      "Traceback (most recent call last):\n",
      "  File \"/home/philcox/Chempy/Chempy/cem_function.py\", line 882, in posterior_function_many_stars\n",
      "    posterior, blobs = posterior_function_many_stars_real(changing_parameter,error_list,elements)\n",
      "  File \"/home/philcox/Chempy/Chempy/cem_function.py\", line 920, in posterior_function_many_stars_real\n",
      "    abundance_list,element_list = posterior_function_returning_predictions(args)\n",
      "  File \"/home/philcox/Chempy/Chempy/cem_function.py\", line 482, in posterior_function_returning_predictions\n",
      "    posterior, abundance_list, element_list = posterior_function_predictions(changing_parameter,a)\n",
      "  File \"/home/philcox/Chempy/Chempy/cem_function.py\", line 492, in posterior_function_predictions\n",
      "    a = extract_parameters_and_priors(changing_parameter, a)\n",
      "  File \"/home/philcox/Chempy/Chempy/cem_function.py\", line 719, in extract_parameters_and_priors\n",
      "    assert False, '%s upper border is violated' %(name)\n",
      "AssertionError: log10_sfr_scale upper border is violated\n"
     ]
    },
    {
     "name": "stdout",
     "output_type": "stream",
     "text": [
      "5.43874141976 3.59001358258\n",
      "calculation so far took 17.608659982681274  seconds\n",
      "step  23 of  1000\n",
      "5.43874141976 3.34995048095\n",
      "calculation so far took 18.246536016464233  seconds\n",
      "step  24 of  1000\n",
      "5.43874141976 3.41872558646\n",
      "calculation so far took 18.952791690826416  seconds\n",
      "step  25 of  1000\n"
     ]
    },
    {
     "name": "stderr",
     "output_type": "stream",
     "text": [
      "Traceback (most recent call last):\n",
      "  File \"/home/philcox/Chempy/Chempy/cem_function.py\", line 882, in posterior_function_many_stars\n",
      "    posterior, blobs = posterior_function_many_stars_real(changing_parameter,error_list,elements)\n",
      "  File \"/home/philcox/Chempy/Chempy/cem_function.py\", line 920, in posterior_function_many_stars_real\n",
      "    abundance_list,element_list = posterior_function_returning_predictions(args)\n",
      "  File \"/home/philcox/Chempy/Chempy/cem_function.py\", line 482, in posterior_function_returning_predictions\n",
      "    posterior, abundance_list, element_list = posterior_function_predictions(changing_parameter,a)\n",
      "  File \"/home/philcox/Chempy/Chempy/cem_function.py\", line 507, in posterior_function_predictions\n",
      "    abundance_list,elements_to_trace = cem_real2(a)\n",
      "  File \"/home/philcox/Chempy/Chempy/cem_function.py\", line 337, in cem_real2\n",
      "    a = shorten_sfr(a)\n",
      "  File \"/home/philcox/Chempy/Chempy/cem_function.py\", line 130, in shorten_sfr\n",
      "    assert fraction_of_mean_sfr > 0.05, ('The total SFR of the last age bin is below 5% of the mean SFR', 'stellar identifier = ', a.stellar_identifier, 'star time = ', star_time, 'model time = ', time_model )\n",
      "AssertionError: ('The total SFR of the last age bin is below 5% of the mean SFR', 'stellar identifier = ', 'Proto-sun', 'star time = ', 8.9400000000000013, 'model time = ', 9.0)\n"
     ]
    },
    {
     "name": "stdout",
     "output_type": "stream",
     "text": [
      "5.43874141976 3.26583100668\n",
      "calculation so far took 19.70894765853882  seconds\n",
      "step  26 of  1000\n"
     ]
    },
    {
     "name": "stderr",
     "output_type": "stream",
     "text": [
      "Traceback (most recent call last):\n",
      "  File \"/home/philcox/Chempy/Chempy/cem_function.py\", line 882, in posterior_function_many_stars\n",
      "    posterior, blobs = posterior_function_many_stars_real(changing_parameter,error_list,elements)\n",
      "  File \"/home/philcox/Chempy/Chempy/cem_function.py\", line 920, in posterior_function_many_stars_real\n",
      "    abundance_list,element_list = posterior_function_returning_predictions(args)\n",
      "  File \"/home/philcox/Chempy/Chempy/cem_function.py\", line 482, in posterior_function_returning_predictions\n",
      "    posterior, abundance_list, element_list = posterior_function_predictions(changing_parameter,a)\n",
      "  File \"/home/philcox/Chempy/Chempy/cem_function.py\", line 492, in posterior_function_predictions\n",
      "    a = extract_parameters_and_priors(changing_parameter, a)\n",
      "  File \"/home/philcox/Chempy/Chempy/cem_function.py\", line 719, in extract_parameters_and_priors\n",
      "    assert False, '%s upper border is violated' %(name)\n",
      "AssertionError: log10_sfr_scale upper border is violated\n"
     ]
    },
    {
     "name": "stdout",
     "output_type": "stream",
     "text": [
      "5.43874141976 3.31181123958\n",
      "calculation so far took 20.555873155593872  seconds\n",
      "step  27 of  1000\n",
      "5.43874141976 3.00335690528\n",
      "calculation so far took 21.339616537094116  seconds\n",
      "step  28 of  1000\n"
     ]
    },
    {
     "name": "stderr",
     "output_type": "stream",
     "text": [
      "Traceback (most recent call last):\n",
      "  File \"/home/philcox/Chempy/Chempy/cem_function.py\", line 882, in posterior_function_many_stars\n",
      "    posterior, blobs = posterior_function_many_stars_real(changing_parameter,error_list,elements)\n",
      "  File \"/home/philcox/Chempy/Chempy/cem_function.py\", line 920, in posterior_function_many_stars_real\n",
      "    abundance_list,element_list = posterior_function_returning_predictions(args)\n",
      "  File \"/home/philcox/Chempy/Chempy/cem_function.py\", line 482, in posterior_function_returning_predictions\n",
      "    posterior, abundance_list, element_list = posterior_function_predictions(changing_parameter,a)\n",
      "  File \"/home/philcox/Chempy/Chempy/cem_function.py\", line 507, in posterior_function_predictions\n",
      "    abundance_list,elements_to_trace = cem_real2(a)\n",
      "  File \"/home/philcox/Chempy/Chempy/cem_function.py\", line 337, in cem_real2\n",
      "    a = shorten_sfr(a)\n",
      "  File \"/home/philcox/Chempy/Chempy/cem_function.py\", line 130, in shorten_sfr\n",
      "    assert fraction_of_mean_sfr > 0.05, ('The total SFR of the last age bin is below 5% of the mean SFR', 'stellar identifier = ', a.stellar_identifier, 'star time = ', star_time, 'model time = ', time_model )\n",
      "AssertionError: ('The total SFR of the last age bin is below 5% of the mean SFR', 'stellar identifier = ', 'Proto-sun', 'star time = ', 8.9400000000000013, 'model time = ', 9.0)\n",
      "Traceback (most recent call last):\n",
      "  File \"/home/philcox/Chempy/Chempy/cem_function.py\", line 882, in posterior_function_many_stars\n",
      "    posterior, blobs = posterior_function_many_stars_real(changing_parameter,error_list,elements)\n",
      "  File \"/home/philcox/Chempy/Chempy/cem_function.py\", line 920, in posterior_function_many_stars_real\n",
      "    abundance_list,element_list = posterior_function_returning_predictions(args)\n",
      "  File \"/home/philcox/Chempy/Chempy/cem_function.py\", line 482, in posterior_function_returning_predictions\n",
      "    posterior, abundance_list, element_list = posterior_function_predictions(changing_parameter,a)\n",
      "  File \"/home/philcox/Chempy/Chempy/cem_function.py\", line 492, in posterior_function_predictions\n",
      "    a = extract_parameters_and_priors(changing_parameter, a)\n",
      "  File \"/home/philcox/Chempy/Chempy/cem_function.py\", line 719, in extract_parameters_and_priors\n",
      "    assert False, '%s upper border is violated' %(name)\n",
      "AssertionError: log10_sfr_scale upper border is violated\n"
     ]
    },
    {
     "name": "stdout",
     "output_type": "stream",
     "text": [
      "5.43874141976 3.02031458468\n",
      "calculation so far took 22.08082127571106  seconds\n",
      "step  29 of  1000\n"
     ]
    },
    {
     "name": "stderr",
     "output_type": "stream",
     "text": [
      "Traceback (most recent call last):\n",
      "  File \"/home/philcox/Chempy/Chempy/cem_function.py\", line 882, in posterior_function_many_stars\n",
      "    posterior, blobs = posterior_function_many_stars_real(changing_parameter,error_list,elements)\n",
      "  File \"/home/philcox/Chempy/Chempy/cem_function.py\", line 920, in posterior_function_many_stars_real\n",
      "    abundance_list,element_list = posterior_function_returning_predictions(args)\n"
     ]
    },
    {
     "name": "stdout",
     "output_type": "stream",
     "text": [
      "5.43874141976 2.92633226322\n",
      "calculation so far took 22.84145951271057  seconds\n",
      "step  30 of  1000\n"
     ]
    },
    {
     "name": "stderr",
     "output_type": "stream",
     "text": [
      "  File \"/home/philcox/Chempy/Chempy/cem_function.py\", line 482, in posterior_function_returning_predictions\n",
      "    posterior, abundance_list, element_list = posterior_function_predictions(changing_parameter,a)\n",
      "  File \"/home/philcox/Chempy/Chempy/cem_function.py\", line 507, in posterior_function_predictions\n",
      "    abundance_list,elements_to_trace = cem_real2(a)\n",
      "  File \"/home/philcox/Chempy/Chempy/cem_function.py\", line 337, in cem_real2\n",
      "    a = shorten_sfr(a)\n",
      "  File \"/home/philcox/Chempy/Chempy/cem_function.py\", line 130, in shorten_sfr\n",
      "    assert fraction_of_mean_sfr > 0.05, ('The total SFR of the last age bin is below 5% of the mean SFR', 'stellar identifier = ', a.stellar_identifier, 'star time = ', star_time, 'model time = ', time_model )\n",
      "AssertionError: ('The total SFR of the last age bin is below 5% of the mean SFR', 'stellar identifier = ', 'Proto-sun', 'star time = ', 8.9400000000000013, 'model time = ', 9.0)\n",
      "Traceback (most recent call last):\n",
      "  File \"/home/philcox/Chempy/Chempy/cem_function.py\", line 882, in posterior_function_many_stars\n",
      "    posterior, blobs = posterior_function_many_stars_real(changing_parameter,error_list,elements)\n",
      "  File \"/home/philcox/Chempy/Chempy/cem_function.py\", line 920, in posterior_function_many_stars_real\n",
      "    abundance_list,element_list = posterior_function_returning_predictions(args)\n",
      "  File \"/home/philcox/Chempy/Chempy/cem_function.py\", line 482, in posterior_function_returning_predictions\n",
      "    posterior, abundance_list, element_list = posterior_function_predictions(changing_parameter,a)\n",
      "  File \"/home/philcox/Chempy/Chempy/cem_function.py\", line 507, in posterior_function_predictions\n",
      "    abundance_list,elements_to_trace = cem_real2(a)\n",
      "  File \"/home/philcox/Chempy/Chempy/cem_function.py\", line 337, in cem_real2\n",
      "    a = shorten_sfr(a)\n",
      "  File \"/home/philcox/Chempy/Chempy/cem_function.py\", line 130, in shorten_sfr\n",
      "    assert fraction_of_mean_sfr > 0.05, ('The total SFR of the last age bin is below 5% of the mean SFR', 'stellar identifier = ', a.stellar_identifier, 'star time = ', star_time, 'model time = ', time_model )\n",
      "AssertionError: ('The total SFR of the last age bin is below 5% of the mean SFR', 'stellar identifier = ', 'Proto-sun', 'star time = ', 8.9400000000000013, 'model time = ', 9.0)\n"
     ]
    },
    {
     "name": "stdout",
     "output_type": "stream",
     "text": [
      "5.43874141976 2.98507728261\n",
      "calculation so far took 23.96559190750122  seconds\n",
      "step  31 of  1000\n",
      "5.43874141976 2.73316491042\n",
      "calculation so far took 24.588577032089233  seconds\n",
      "step  32 of  1000\n"
     ]
    },
    {
     "name": "stderr",
     "output_type": "stream",
     "text": [
      "Traceback (most recent call last):\n",
      "  File \"/home/philcox/Chempy/Chempy/cem_function.py\", line 882, in posterior_function_many_stars\n",
      "    posterior, blobs = posterior_function_many_stars_real(changing_parameter,error_list,elements)\n",
      "  File \"/home/philcox/Chempy/Chempy/cem_function.py\", line 920, in posterior_function_many_stars_real\n",
      "    abundance_list,element_list = posterior_function_returning_predictions(args)\n",
      "  File \"/home/philcox/Chempy/Chempy/cem_function.py\", line 482, in posterior_function_returning_predictions\n",
      "    posterior, abundance_list, element_list = posterior_function_predictions(changing_parameter,a)\n",
      "  File \"/home/philcox/Chempy/Chempy/cem_function.py\", line 507, in posterior_function_predictions\n",
      "    abundance_list,elements_to_trace = cem_real2(a)\n",
      "  File \"/home/philcox/Chempy/Chempy/cem_function.py\", line 337, in cem_real2\n",
      "    a = shorten_sfr(a)\n",
      "  File \"/home/philcox/Chempy/Chempy/cem_function.py\", line 130, in shorten_sfr\n",
      "    assert fraction_of_mean_sfr > 0.05, ('The total SFR of the last age bin is below 5% of the mean SFR', 'stellar identifier = ', a.stellar_identifier, 'star time = ', star_time, 'model time = ', time_model )\n",
      "AssertionError: ('The total SFR of the last age bin is below 5% of the mean SFR', 'stellar identifier = ', 'Proto-sun', 'star time = ', 8.9400000000000013, 'model time = ', 9.0)\n"
     ]
    },
    {
     "name": "stdout",
     "output_type": "stream",
     "text": [
      "5.43874141976 2.86743476986\n",
      "calculation so far took 25.306944847106934  seconds\n",
      "step  33 of  1000\n"
     ]
    },
    {
     "name": "stderr",
     "output_type": "stream",
     "text": [
      "Traceback (most recent call last):\n",
      "  File \"/home/philcox/Chempy/Chempy/cem_function.py\", line 882, in posterior_function_many_stars\n",
      "    posterior, blobs = posterior_function_many_stars_real(changing_parameter,error_list,elements)\n",
      "  File \"/home/philcox/Chempy/Chempy/cem_function.py\", line 920, in posterior_function_many_stars_real\n",
      "    abundance_list,element_list = posterior_function_returning_predictions(args)\n",
      "  File \"/home/philcox/Chempy/Chempy/cem_function.py\", line 482, in posterior_function_returning_predictions\n",
      "    posterior, abundance_list, element_list = posterior_function_predictions(changing_parameter,a)\n",
      "  File \"/home/philcox/Chempy/Chempy/cem_function.py\", line 507, in posterior_function_predictions\n",
      "    abundance_list,elements_to_trace = cem_real2(a)\n",
      "  File \"/home/philcox/Chempy/Chempy/cem_function.py\", line 337, in cem_real2\n",
      "    a = shorten_sfr(a)\n",
      "  File \"/home/philcox/Chempy/Chempy/cem_function.py\", line 130, in shorten_sfr\n",
      "    assert fraction_of_mean_sfr > 0.05, ('The total SFR of the last age bin is below 5% of the mean SFR', 'stellar identifier = ', a.stellar_identifier, 'star time = ', star_time, 'model time = ', time_model )\n",
      "AssertionError: ('The total SFR of the last age bin is below 5% of the mean SFR', 'stellar identifier = ', 'Proto-sun', 'star time = ', 8.9400000000000013, 'model time = ', 9.0)\n"
     ]
    },
    {
     "name": "stdout",
     "output_type": "stream",
     "text": [
      "5.43874141976 2.74015996758\n",
      "calculation so far took 26.135576725006104  seconds\n",
      "step  34 of  1000\n"
     ]
    },
    {
     "name": "stderr",
     "output_type": "stream",
     "text": [
      "Traceback (most recent call last):\n",
      "  File \"/home/philcox/Chempy/Chempy/cem_function.py\", line 882, in posterior_function_many_stars\n",
      "    posterior, blobs = posterior_function_many_stars_real(changing_parameter,error_list,elements)\n",
      "  File \"/home/philcox/Chempy/Chempy/cem_function.py\", line 920, in posterior_function_many_stars_real\n",
      "    abundance_list,element_list = posterior_function_returning_predictions(args)\n",
      "  File \"/home/philcox/Chempy/Chempy/cem_function.py\", line 482, in posterior_function_returning_predictions\n",
      "    posterior, abundance_list, element_list = posterior_function_predictions(changing_parameter,a)\n",
      "  File \"/home/philcox/Chempy/Chempy/cem_function.py\", line 507, in posterior_function_predictions\n",
      "    abundance_list,elements_to_trace = cem_real2(a)\n",
      "  File \"/home/philcox/Chempy/Chempy/cem_function.py\", line 337, in cem_real2\n",
      "    a = shorten_sfr(a)\n",
      "  File \"/home/philcox/Chempy/Chempy/cem_function.py\", line 130, in shorten_sfr\n",
      "    assert fraction_of_mean_sfr > 0.05, ('The total SFR of the last age bin is below 5% of the mean SFR', 'stellar identifier = ', a.stellar_identifier, 'star time = ', star_time, 'model time = ', time_model )\n",
      "AssertionError: ('The total SFR of the last age bin is below 5% of the mean SFR', 'stellar identifier = ', 'Proto-sun', 'star time = ', 8.9400000000000013, 'model time = ', 9.0)\n",
      "Traceback (most recent call last):\n",
      "  File \"/home/philcox/Chempy/Chempy/cem_function.py\", line 882, in posterior_function_many_stars\n",
      "    posterior, blobs = posterior_function_many_stars_real(changing_parameter,error_list,elements)\n",
      "  File \"/home/philcox/Chempy/Chempy/cem_function.py\", line 920, in posterior_function_many_stars_real\n",
      "    abundance_list,element_list = posterior_function_returning_predictions(args)\n",
      "  File \"/home/philcox/Chempy/Chempy/cem_function.py\", line 482, in posterior_function_returning_predictions\n",
      "    posterior, abundance_list, element_list = posterior_function_predictions(changing_parameter,a)\n",
      "  File \"/home/philcox/Chempy/Chempy/cem_function.py\", line 492, in posterior_function_predictions\n",
      "    a = extract_parameters_and_priors(changing_parameter, a)\n",
      "  File \"/home/philcox/Chempy/Chempy/cem_function.py\", line 719, in extract_parameters_and_priors\n",
      "    assert False, '%s upper border is violated' %(name)\n",
      "AssertionError: outflow_feedback_fraction upper border is violated\n"
     ]
    },
    {
     "name": "stdout",
     "output_type": "stream",
     "text": [
      "5.43874141976 2.55007183663\n",
      "calculation so far took 26.8293297290802  seconds\n",
      "step  35 of  1000\n"
     ]
    },
    {
     "name": "stderr",
     "output_type": "stream",
     "text": [
      "Traceback (most recent call last):\n",
      "  File \"/home/philcox/Chempy/Chempy/cem_function.py\", line 882, in posterior_function_many_stars\n",
      "    posterior, blobs = posterior_function_many_stars_real(changing_parameter,error_list,elements)\n",
      "  File \"/home/philcox/Chempy/Chempy/cem_function.py\", line 920, in posterior_function_many_stars_real\n",
      "    abundance_list,element_list = posterior_function_returning_predictions(args)\n",
      "  File \"/home/philcox/Chempy/Chempy/cem_function.py\", line 482, in posterior_function_returning_predictions\n",
      "    posterior, abundance_list, element_list = posterior_function_predictions(changing_parameter,a)\n",
      "  File \"/home/philcox/Chempy/Chempy/cem_function.py\", line 492, in posterior_function_predictions\n",
      "    a = extract_parameters_and_priors(changing_parameter, a)\n",
      "  File \"/home/philcox/Chempy/Chempy/cem_function.py\", line 719, in extract_parameters_and_priors\n",
      "    assert False, '%s upper border is violated' %(name)\n",
      "AssertionError: outflow_feedback_fraction upper border is violated\n"
     ]
    },
    {
     "name": "stdout",
     "output_type": "stream",
     "text": [
      "5.43874141976 2.61189845335\n",
      "calculation so far took 27.531339406967163  seconds\n",
      "step  36 of  1000\n"
     ]
    },
    {
     "name": "stderr",
     "output_type": "stream",
     "text": [
      "Traceback (most recent call last):\n",
      "  File \"/home/philcox/Chempy/Chempy/cem_function.py\", line 882, in posterior_function_many_stars\n",
      "    posterior, blobs = posterior_function_many_stars_real(changing_parameter,error_list,elements)\n",
      "  File \"/home/philcox/Chempy/Chempy/cem_function.py\", line 920, in posterior_function_many_stars_real\n",
      "    abundance_list,element_list = posterior_function_returning_predictions(args)\n",
      "  File \"/home/philcox/Chempy/Chempy/cem_function.py\", line 482, in posterior_function_returning_predictions\n",
      "    posterior, abundance_list, element_list = posterior_function_predictions(changing_parameter,a)\n",
      "  File \"/home/philcox/Chempy/Chempy/cem_function.py\", line 507, in posterior_function_predictions\n",
      "    abundance_list,elements_to_trace = cem_real2(a)\n",
      "  File \"/home/philcox/Chempy/Chempy/cem_function.py\", line 337, in cem_real2\n",
      "    a = shorten_sfr(a)\n",
      "  File \"/home/philcox/Chempy/Chempy/cem_function.py\", line 130, in shorten_sfr\n",
      "    assert fraction_of_mean_sfr > 0.05, ('The total SFR of the last age bin is below 5% of the mean SFR', 'stellar identifier = ', a.stellar_identifier, 'star time = ', star_time, 'model time = ', time_model )\n",
      "AssertionError: ('The total SFR of the last age bin is below 5% of the mean SFR', 'stellar identifier = ', 'Proto-sun', 'star time = ', 8.9400000000000013, 'model time = ', 9.0)\n",
      "Traceback (most recent call last):\n",
      "  File \"/home/philcox/Chempy/Chempy/cem_function.py\", line 882, in posterior_function_many_stars\n",
      "    posterior, blobs = posterior_function_many_stars_real(changing_parameter,error_list,elements)\n",
      "  File \"/home/philcox/Chempy/Chempy/cem_function.py\", line 920, in posterior_function_many_stars_real\n",
      "    abundance_list,element_list = posterior_function_returning_predictions(args)\n",
      "  File \"/home/philcox/Chempy/Chempy/cem_function.py\", line 482, in posterior_function_returning_predictions\n",
      "    posterior, abundance_list, element_list = posterior_function_predictions(changing_parameter,a)\n",
      "  File \"/home/philcox/Chempy/Chempy/cem_function.py\", line 492, in posterior_function_predictions\n",
      "    a = extract_parameters_and_priors(changing_parameter, a)\n",
      "  File \"/home/philcox/Chempy/Chempy/cem_function.py\", line 717, in extract_parameters_and_priors\n",
      "    assert False, '%s lower border is violated' %(name)\n",
      "AssertionError: outflow_feedback_fraction lower border is violated\n"
     ]
    },
    {
     "name": "stdout",
     "output_type": "stream",
     "text": [
      "5.43874141976 3.05678685971\n",
      "calculation so far took 28.238534450531006  seconds\n",
      "step  37 of  1000\n"
     ]
    },
    {
     "name": "stderr",
     "output_type": "stream",
     "text": [
      "Traceback (most recent call last):\n",
      "  File \"/home/philcox/Chempy/Chempy/cem_function.py\", line 882, in posterior_function_many_stars\n",
      "    posterior, blobs = posterior_function_many_stars_real(changing_parameter,error_list,elements)\n",
      "  File \"/home/philcox/Chempy/Chempy/cem_function.py\", line 920, in posterior_function_many_stars_real\n",
      "    abundance_list,element_list = posterior_function_returning_predictions(args)\n",
      "  File \"/home/philcox/Chempy/Chempy/cem_function.py\", line 482, in posterior_function_returning_predictions\n",
      "    posterior, abundance_list, element_list = posterior_function_predictions(changing_parameter,a)\n",
      "  File \"/home/philcox/Chempy/Chempy/cem_function.py\", line 492, in posterior_function_predictions\n",
      "    a = extract_parameters_and_priors(changing_parameter, a)\n",
      "  File \"/home/philcox/Chempy/Chempy/cem_function.py\", line 719, in extract_parameters_and_priors\n",
      "    assert False, '%s upper border is violated' %(name)\n",
      "AssertionError: log10_sfr_scale upper border is violated\n"
     ]
    },
    {
     "name": "stdout",
     "output_type": "stream",
     "text": [
      "5.43874141976 3.46984758269\n",
      "calculation so far took 28.97019052505493  seconds\n",
      "step  38 of  1000\n",
      "5.43874141976 3.24664773944\n",
      "calculation so far took 29.818006992340088  seconds\n",
      "step  39 of  1000\n",
      "5.43874141976 3.23793172233\n",
      "calculation so far took 30.496315479278564  seconds\n",
      "step  40 of  1000\n",
      "5.43874141976 3.09168888633\n",
      "calculation so far took 31.15339159965515  seconds\n",
      "step  41 of  1000\n"
     ]
    },
    {
     "name": "stderr",
     "output_type": "stream",
     "text": [
      "Traceback (most recent call last):\n",
      "  File \"/home/philcox/Chempy/Chempy/cem_function.py\", line 882, in posterior_function_many_stars\n",
      "    posterior, blobs = posterior_function_many_stars_real(changing_parameter,error_list,elements)\n",
      "  File \"/home/philcox/Chempy/Chempy/cem_function.py\", line 920, in posterior_function_many_stars_real\n",
      "    abundance_list,element_list = posterior_function_returning_predictions(args)\n",
      "  File \"/home/philcox/Chempy/Chempy/cem_function.py\", line 482, in posterior_function_returning_predictions\n",
      "    posterior, abundance_list, element_list = posterior_function_predictions(changing_parameter,a)\n",
      "  File \"/home/philcox/Chempy/Chempy/cem_function.py\", line 492, in posterior_function_predictions\n",
      "    a = extract_parameters_and_priors(changing_parameter, a)\n",
      "  File \"/home/philcox/Chempy/Chempy/cem_function.py\", line 719, in extract_parameters_and_priors\n",
      "    assert False, '%s upper border is violated' %(name)\n",
      "AssertionError: log10_sfr_scale upper border is violated\n"
     ]
    },
    {
     "name": "stdout",
     "output_type": "stream",
     "text": [
      "5.43874141976 2.85514451588\n",
      "calculation so far took 31.79887557029724  seconds\n",
      "step  42 of  1000\n"
     ]
    },
    {
     "name": "stderr",
     "output_type": "stream",
     "text": [
      "Traceback (most recent call last):\n",
      "  File \"/home/philcox/Chempy/Chempy/cem_function.py\", line 882, in posterior_function_many_stars\n",
      "    posterior, blobs = posterior_function_many_stars_real(changing_parameter,error_list,elements)\n",
      "  File \"/home/philcox/Chempy/Chempy/cem_function.py\", line 920, in posterior_function_many_stars_real\n",
      "    abundance_list,element_list = posterior_function_returning_predictions(args)\n",
      "  File \"/home/philcox/Chempy/Chempy/cem_function.py\", line 482, in posterior_function_returning_predictions\n",
      "    posterior, abundance_list, element_list = posterior_function_predictions(changing_parameter,a)\n",
      "  File \"/home/philcox/Chempy/Chempy/cem_function.py\", line 507, in posterior_function_predictions\n",
      "    abundance_list,elements_to_trace = cem_real2(a)\n",
      "  File \"/home/philcox/Chempy/Chempy/cem_function.py\", line 337, in cem_real2\n",
      "    a = shorten_sfr(a)\n",
      "  File \"/home/philcox/Chempy/Chempy/cem_function.py\", line 130, in shorten_sfr\n",
      "    assert fraction_of_mean_sfr > 0.05, ('The total SFR of the last age bin is below 5% of the mean SFR', 'stellar identifier = ', a.stellar_identifier, 'star time = ', star_time, 'model time = ', time_model )\n",
      "AssertionError: ('The total SFR of the last age bin is below 5% of the mean SFR', 'stellar identifier = ', 'Proto-sun', 'star time = ', 8.9400000000000013, 'model time = ', 9.0)\n"
     ]
    },
    {
     "name": "stdout",
     "output_type": "stream",
     "text": [
      "5.43874141976 2.72258642564\n",
      "calculation so far took 32.46480917930603  seconds\n",
      "step  43 of  1000\n",
      "5.43874141976 2.76686214243\n",
      "calculation so far took 33.16166806221008  seconds\n",
      "step  44 of  1000\n"
     ]
    },
    {
     "name": "stderr",
     "output_type": "stream",
     "text": [
      "Traceback (most recent call last):\n",
      "  File \"/home/philcox/Chempy/Chempy/cem_function.py\", line 882, in posterior_function_many_stars\n",
      "    posterior, blobs = posterior_function_many_stars_real(changing_parameter,error_list,elements)\n",
      "  File \"/home/philcox/Chempy/Chempy/cem_function.py\", line 920, in posterior_function_many_stars_real\n",
      "    abundance_list,element_list = posterior_function_returning_predictions(args)\n",
      "  File \"/home/philcox/Chempy/Chempy/cem_function.py\", line 482, in posterior_function_returning_predictions\n",
      "    posterior, abundance_list, element_list = posterior_function_predictions(changing_parameter,a)\n",
      "  File \"/home/philcox/Chempy/Chempy/cem_function.py\", line 492, in posterior_function_predictions\n",
      "    a = extract_parameters_and_priors(changing_parameter, a)\n",
      "  File \"/home/philcox/Chempy/Chempy/cem_function.py\", line 719, in extract_parameters_and_priors\n",
      "    assert False, '%s upper border is violated' %(name)\n",
      "AssertionError: log10_sfr_scale upper border is violated\n"
     ]
    },
    {
     "name": "stdout",
     "output_type": "stream",
     "text": [
      "5.43874141976 2.75821143689\n",
      "calculation so far took 33.80947518348694  seconds\n",
      "step  45 of  1000\n"
     ]
    },
    {
     "name": "stderr",
     "output_type": "stream",
     "text": [
      "Traceback (most recent call last):\n",
      "  File \"/home/philcox/Chempy/Chempy/cem_function.py\", line 882, in posterior_function_many_stars\n",
      "    posterior, blobs = posterior_function_many_stars_real(changing_parameter,error_list,elements)\n",
      "  File \"/home/philcox/Chempy/Chempy/cem_function.py\", line 920, in posterior_function_many_stars_real\n",
      "    abundance_list,element_list = posterior_function_returning_predictions(args)\n",
      "  File \"/home/philcox/Chempy/Chempy/cem_function.py\", line 482, in posterior_function_returning_predictions\n",
      "    posterior, abundance_list, element_list = posterior_function_predictions(changing_parameter,a)\n",
      "  File \"/home/philcox/Chempy/Chempy/cem_function.py\", line 492, in posterior_function_predictions\n",
      "    a = extract_parameters_and_priors(changing_parameter, a)\n",
      "  File \"/home/philcox/Chempy/Chempy/cem_function.py\", line 719, in extract_parameters_and_priors\n",
      "    assert False, '%s upper border is violated' %(name)\n",
      "AssertionError: log10_sfr_scale upper border is violated\n",
      "Traceback (most recent call last):\n",
      "  File \"/home/philcox/Chempy/Chempy/cem_function.py\", line 882, in posterior_function_many_stars\n",
      "    posterior, blobs = posterior_function_many_stars_real(changing_parameter,error_list,elements)\n",
      "  File \"/home/philcox/Chempy/Chempy/cem_function.py\", line 920, in posterior_function_many_stars_real\n",
      "    abundance_list,element_list = posterior_function_returning_predictions(args)\n",
      "  File \"/home/philcox/Chempy/Chempy/cem_function.py\", line 482, in posterior_function_returning_predictions\n",
      "    posterior, abundance_list, element_list = posterior_function_predictions(changing_parameter,a)\n",
      "  File \"/home/philcox/Chempy/Chempy/cem_function.py\", line 507, in posterior_function_predictions\n",
      "    abundance_list,elements_to_trace = cem_real2(a)\n",
      "  File \"/home/philcox/Chempy/Chempy/cem_function.py\", line 337, in cem_real2\n",
      "    a = shorten_sfr(a)\n",
      "  File \"/home/philcox/Chempy/Chempy/cem_function.py\", line 130, in shorten_sfr\n",
      "    assert fraction_of_mean_sfr > 0.05, ('The total SFR of the last age bin is below 5% of the mean SFR', 'stellar identifier = ', a.stellar_identifier, 'star time = ', star_time, 'model time = ', time_model )\n",
      "AssertionError: ('The total SFR of the last age bin is below 5% of the mean SFR', 'stellar identifier = ', 'Proto-sun', 'star time = ', 8.9400000000000013, 'model time = ', 9.0)\n"
     ]
    },
    {
     "name": "stdout",
     "output_type": "stream",
     "text": [
      "5.43874141976 2.62310581157\n",
      "calculation so far took 34.44799017906189  seconds\n",
      "step  46 of  1000\n"
     ]
    },
    {
     "name": "stderr",
     "output_type": "stream",
     "text": [
      "Traceback (most recent call last):\n",
      "  File \"/home/philcox/Chempy/Chempy/cem_function.py\", line 882, in posterior_function_many_stars\n",
      "    posterior, blobs = posterior_function_many_stars_real(changing_parameter,error_list,elements)\n",
      "  File \"/home/philcox/Chempy/Chempy/cem_function.py\", line 920, in posterior_function_many_stars_real\n",
      "    abundance_list,element_list = posterior_function_returning_predictions(args)\n",
      "  File \"/home/philcox/Chempy/Chempy/cem_function.py\", line 482, in posterior_function_returning_predictions\n",
      "    posterior, abundance_list, element_list = posterior_function_predictions(changing_parameter,a)\n",
      "  File \"/home/philcox/Chempy/Chempy/cem_function.py\", line 507, in posterior_function_predictions\n",
      "    abundance_list,elements_to_trace = cem_real2(a)\n",
      "  File \"/home/philcox/Chempy/Chempy/cem_function.py\", line 337, in cem_real2\n",
      "    a = shorten_sfr(a)\n",
      "  File \"/home/philcox/Chempy/Chempy/cem_function.py\", line 130, in shorten_sfr\n",
      "    assert fraction_of_mean_sfr > 0.05, ('The total SFR of the last age bin is below 5% of the mean SFR', 'stellar identifier = ', a.stellar_identifier, 'star time = ', star_time, 'model time = ', time_model )\n",
      "AssertionError: ('The total SFR of the last age bin is below 5% of the mean SFR', 'stellar identifier = ', 'Proto-sun', 'star time = ', 8.9400000000000013, 'model time = ', 9.0)\n",
      "Traceback (most recent call last):\n",
      "  File \"/home/philcox/Chempy/Chempy/cem_function.py\", line 882, in posterior_function_many_stars\n",
      "    posterior, blobs = posterior_function_many_stars_real(changing_parameter,error_list,elements)\n",
      "  File \"/home/philcox/Chempy/Chempy/cem_function.py\", line 920, in posterior_function_many_stars_real\n",
      "    abundance_list,element_list = posterior_function_returning_predictions(args)\n",
      "  File \"/home/philcox/Chempy/Chempy/cem_function.py\", line 482, in posterior_function_returning_predictions\n",
      "    posterior, abundance_list, element_list = posterior_function_predictions(changing_parameter,a)\n",
      "  File \"/home/philcox/Chempy/Chempy/cem_function.py\", line 492, in posterior_function_predictions\n",
      "    a = extract_parameters_and_priors(changing_parameter, a)\n",
      "  File \"/home/philcox/Chempy/Chempy/cem_function.py\", line 717, in extract_parameters_and_priors\n",
      "    assert False, '%s lower border is violated' %(name)\n",
      "AssertionError: outflow_feedback_fraction lower border is violated\n",
      "Traceback (most recent call last):\n",
      "  File \"/home/philcox/Chempy/Chempy/cem_function.py\", line 882, in posterior_function_many_stars\n",
      "    posterior, blobs = posterior_function_many_stars_real(changing_parameter,error_list,elements)\n",
      "  File \"/home/philcox/Chempy/Chempy/cem_function.py\", line 920, in posterior_function_many_stars_real\n",
      "    abundance_list,element_list = posterior_function_returning_predictions(args)\n",
      "  File \"/home/philcox/Chempy/Chempy/cem_function.py\", line 482, in posterior_function_returning_predictions\n",
      "    posterior, abundance_list, element_list = posterior_function_predictions(changing_parameter,a)\n",
      "  File \"/home/philcox/Chempy/Chempy/cem_function.py\", line 492, in posterior_function_predictions\n",
      "    a = extract_parameters_and_priors(changing_parameter, a)\n",
      "  File \"/home/philcox/Chempy/Chempy/cem_function.py\", line 719, in extract_parameters_and_priors\n",
      "    assert False, '%s upper border is violated' %(name)\n",
      "AssertionError: outflow_feedback_fraction upper border is violated\n"
     ]
    },
    {
     "name": "stdout",
     "output_type": "stream",
     "text": [
      "5.43874141976 2.87314285047\n",
      "calculation so far took 35.14109754562378  seconds\n",
      "step  47 of  1000\n",
      "5.43874141976 3.05959897263\n",
      "calculation so far took 35.76940631866455  seconds\n",
      "step  48 of  1000\n",
      "5.43874141976 3.08413128129\n",
      "calculation so far took 36.38516116142273  seconds\n",
      "step  49 of  1000\n",
      "5.43874141976 3.23701520213\n",
      "calculation so far took 37.00266718864441  seconds\n",
      "step  50 of  1000\n",
      "5.43874141976 2.82528419878\n",
      "calculation so far took 37.632890462875366  seconds\n",
      "step  51 of  1000\n"
     ]
    },
    {
     "name": "stderr",
     "output_type": "stream",
     "text": [
      "Traceback (most recent call last):\n",
      "  File \"/home/philcox/Chempy/Chempy/cem_function.py\", line 882, in posterior_function_many_stars\n",
      "    posterior, blobs = posterior_function_many_stars_real(changing_parameter,error_list,elements)\n",
      "  File \"/home/philcox/Chempy/Chempy/cem_function.py\", line 920, in posterior_function_many_stars_real\n",
      "    abundance_list,element_list = posterior_function_returning_predictions(args)\n",
      "  File \"/home/philcox/Chempy/Chempy/cem_function.py\", line 482, in posterior_function_returning_predictions\n",
      "    posterior, abundance_list, element_list = posterior_function_predictions(changing_parameter,a)\n",
      "  File \"/home/philcox/Chempy/Chempy/cem_function.py\", line 492, in posterior_function_predictions\n",
      "    a = extract_parameters_and_priors(changing_parameter, a)\n",
      "  File \"/home/philcox/Chempy/Chempy/cem_function.py\", line 719, in extract_parameters_and_priors\n",
      "    assert False, '%s upper border is violated' %(name)\n",
      "AssertionError: log10_sfr_scale upper border is violated\n"
     ]
    },
    {
     "name": "stdout",
     "output_type": "stream",
     "text": [
      "5.43874141976 2.53207255936\n",
      "calculation so far took 38.275211572647095  seconds\n",
      "step  52 of  1000\n"
     ]
    },
    {
     "name": "stderr",
     "output_type": "stream",
     "text": [
      "Traceback (most recent call last):\n",
      "  File \"/home/philcox/Chempy/Chempy/cem_function.py\", line 882, in posterior_function_many_stars\n",
      "    posterior, blobs = posterior_function_many_stars_real(changing_parameter,error_list,elements)\n",
      "  File \"/home/philcox/Chempy/Chempy/cem_function.py\", line 920, in posterior_function_many_stars_real\n",
      "    abundance_list,element_list = posterior_function_returning_predictions(args)\n",
      "  File \"/home/philcox/Chempy/Chempy/cem_function.py\", line 482, in posterior_function_returning_predictions\n",
      "    posterior, abundance_list, element_list = posterior_function_predictions(changing_parameter,a)\n",
      "  File \"/home/philcox/Chempy/Chempy/cem_function.py\", line 507, in posterior_function_predictions\n",
      "    abundance_list,elements_to_trace = cem_real2(a)\n",
      "  File \"/home/philcox/Chempy/Chempy/cem_function.py\", line 337, in cem_real2\n",
      "    a = shorten_sfr(a)\n",
      "  File \"/home/philcox/Chempy/Chempy/cem_function.py\", line 130, in shorten_sfr\n",
      "    assert fraction_of_mean_sfr > 0.05, ('The total SFR of the last age bin is below 5% of the mean SFR', 'stellar identifier = ', a.stellar_identifier, 'star time = ', star_time, 'model time = ', time_model )\n",
      "AssertionError: ('The total SFR of the last age bin is below 5% of the mean SFR', 'stellar identifier = ', 'Proto-sun', 'star time = ', 8.9400000000000013, 'model time = ', 9.0)\n"
     ]
    },
    {
     "name": "stdout",
     "output_type": "stream",
     "text": [
      "5.43874141976 2.61397725872\n",
      "calculation so far took 38.98287868499756  seconds\n",
      "step  53 of  1000\n"
     ]
    },
    {
     "name": "stderr",
     "output_type": "stream",
     "text": [
      "Traceback (most recent call last):\n",
      "  File \"/home/philcox/Chempy/Chempy/cem_function.py\", line 882, in posterior_function_many_stars\n",
      "    posterior, blobs = posterior_function_many_stars_real(changing_parameter,error_list,elements)\n",
      "  File \"/home/philcox/Chempy/Chempy/cem_function.py\", line 920, in posterior_function_many_stars_real\n",
      "    abundance_list,element_list = posterior_function_returning_predictions(args)\n",
      "  File \"/home/philcox/Chempy/Chempy/cem_function.py\", line 482, in posterior_function_returning_predictions\n",
      "    posterior, abundance_list, element_list = posterior_function_predictions(changing_parameter,a)\n",
      "  File \"/home/philcox/Chempy/Chempy/cem_function.py\", line 492, in posterior_function_predictions\n",
      "    a = extract_parameters_and_priors(changing_parameter, a)\n",
      "  File \"/home/philcox/Chempy/Chempy/cem_function.py\", line 719, in extract_parameters_and_priors\n",
      "    assert False, '%s upper border is violated' %(name)\n",
      "AssertionError: log10_sfr_scale upper border is violated\n"
     ]
    },
    {
     "name": "stdout",
     "output_type": "stream",
     "text": [
      "5.43874141976 2.49335007378\n",
      "calculation so far took 39.72699952125549  seconds\n",
      "step  54 of  1000\n"
     ]
    },
    {
     "name": "stderr",
     "output_type": "stream",
     "text": [
      "Traceback (most recent call last):\n",
      "  File \"/home/philcox/Chempy/Chempy/cem_function.py\", line 882, in posterior_function_many_stars\n",
      "    posterior, blobs = posterior_function_many_stars_real(changing_parameter,error_list,elements)\n",
      "  File \"/home/philcox/Chempy/Chempy/cem_function.py\", line 920, in posterior_function_many_stars_real\n",
      "    abundance_list,element_list = posterior_function_returning_predictions(args)\n",
      "  File \"/home/philcox/Chempy/Chempy/cem_function.py\", line 482, in posterior_function_returning_predictions\n",
      "    posterior, abundance_list, element_list = posterior_function_predictions(changing_parameter,a)\n",
      "  File \"/home/philcox/Chempy/Chempy/cem_function.py\", line 492, in posterior_function_predictions\n",
      "    a = extract_parameters_and_priors(changing_parameter, a)\n",
      "  File \"/home/philcox/Chempy/Chempy/cem_function.py\", line 719, in extract_parameters_and_priors\n",
      "    assert False, '%s upper border is violated' %(name)\n",
      "AssertionError: log10_sfr_scale upper border is violated\n",
      "Traceback (most recent call last):\n",
      "  File \"/home/philcox/Chempy/Chempy/cem_function.py\", line 882, in posterior_function_many_stars\n",
      "    posterior, blobs = posterior_function_many_stars_real(changing_parameter,error_list,elements)\n",
      "  File \"/home/philcox/Chempy/Chempy/cem_function.py\", line 920, in posterior_function_many_stars_real\n",
      "    abundance_list,element_list = posterior_function_returning_predictions(args)\n",
      "  File \"/home/philcox/Chempy/Chempy/cem_function.py\", line 482, in posterior_function_returning_predictions\n",
      "    posterior, abundance_list, element_list = posterior_function_predictions(changing_parameter,a)\n",
      "  File \"/home/philcox/Chempy/Chempy/cem_function.py\", line 492, in posterior_function_predictions\n",
      "    a = extract_parameters_and_priors(changing_parameter, a)\n",
      "  File \"/home/philcox/Chempy/Chempy/cem_function.py\", line 717, in extract_parameters_and_priors\n",
      "    assert False, '%s lower border is violated' %(name)\n",
      "AssertionError: outflow_feedback_fraction lower border is violated\n",
      "Traceback (most recent call last):\n",
      "  File \"/home/philcox/Chempy/Chempy/cem_function.py\", line 882, in posterior_function_many_stars\n",
      "    posterior, blobs = posterior_function_many_stars_real(changing_parameter,error_list,elements)\n",
      "  File \"/home/philcox/Chempy/Chempy/cem_function.py\", line 920, in posterior_function_many_stars_real\n",
      "    abundance_list,element_list = posterior_function_returning_predictions(args)\n",
      "  File \"/home/philcox/Chempy/Chempy/cem_function.py\", line 482, in posterior_function_returning_predictions\n",
      "    posterior, abundance_list, element_list = posterior_function_predictions(changing_parameter,a)\n",
      "  File \"/home/philcox/Chempy/Chempy/cem_function.py\", line 492, in posterior_function_predictions\n",
      "    a = extract_parameters_and_priors(changing_parameter, a)\n",
      "  File \"/home/philcox/Chempy/Chempy/cem_function.py\", line 719, in extract_parameters_and_priors\n",
      "    assert False, '%s upper border is violated' %(name)\n",
      "AssertionError: log10_sfr_scale upper border is violated\n",
      "Traceback (most recent call last):\n",
      "  File \"/home/philcox/Chempy/Chempy/cem_function.py\", line 882, in posterior_function_many_stars\n",
      "    posterior, blobs = posterior_function_many_stars_real(changing_parameter,error_list,elements)\n",
      "  File \"/home/philcox/Chempy/Chempy/cem_function.py\", line 920, in posterior_function_many_stars_real\n",
      "    abundance_list,element_list = posterior_function_returning_predictions(args)\n",
      "  File \"/home/philcox/Chempy/Chempy/cem_function.py\", line 482, in posterior_function_returning_predictions\n",
      "    posterior, abundance_list, element_list = posterior_function_predictions(changing_parameter,a)\n",
      "  File \"/home/philcox/Chempy/Chempy/cem_function.py\", line 507, in posterior_function_predictions\n",
      "    abundance_list,elements_to_trace = cem_real2(a)\n",
      "  File \"/home/philcox/Chempy/Chempy/cem_function.py\", line 337, in cem_real2\n",
      "    a = shorten_sfr(a)\n",
      "  File \"/home/philcox/Chempy/Chempy/cem_function.py\", line 130, in shorten_sfr\n",
      "    assert fraction_of_mean_sfr > 0.05, ('The total SFR of the last age bin is below 5% of the mean SFR', 'stellar identifier = ', a.stellar_identifier, 'star time = ', star_time, 'model time = ', time_model )\n",
      "AssertionError: ('The total SFR of the last age bin is below 5% of the mean SFR', 'stellar identifier = ', 'Proto-sun', 'star time = ', 8.9400000000000013, 'model time = ', 9.0)\n"
     ]
    },
    {
     "name": "stdout",
     "output_type": "stream",
     "text": [
      "5.43874141976 2.5357745426\n",
      "calculation so far took 40.40683889389038  seconds\n",
      "step  55 of  1000\n"
     ]
    },
    {
     "name": "stderr",
     "output_type": "stream",
     "text": [
      "Traceback (most recent call last):\n",
      "  File \"/home/philcox/Chempy/Chempy/cem_function.py\", line 882, in posterior_function_many_stars\n",
      "    posterior, blobs = posterior_function_many_stars_real(changing_parameter,error_list,elements)\n",
      "  File \"/home/philcox/Chempy/Chempy/cem_function.py\", line 920, in posterior_function_many_stars_real\n",
      "    abundance_list,element_list = posterior_function_returning_predictions(args)\n",
      "  File \"/home/philcox/Chempy/Chempy/cem_function.py\", line 482, in posterior_function_returning_predictions\n",
      "    posterior, abundance_list, element_list = posterior_function_predictions(changing_parameter,a)\n",
      "  File \"/home/philcox/Chempy/Chempy/cem_function.py\", line 492, in posterior_function_predictions\n",
      "    a = extract_parameters_and_priors(changing_parameter, a)\n",
      "  File \"/home/philcox/Chempy/Chempy/cem_function.py\", line 717, in extract_parameters_and_priors\n",
      "    assert False, '%s lower border is violated' %(name)\n",
      "AssertionError: outflow_feedback_fraction lower border is violated\n",
      "Traceback (most recent call last):\n",
      "  File \"/home/philcox/Chempy/Chempy/cem_function.py\", line 882, in posterior_function_many_stars\n",
      "    posterior, blobs = posterior_function_many_stars_real(changing_parameter,error_list,elements)\n",
      "  File \"/home/philcox/Chempy/Chempy/cem_function.py\", line 920, in posterior_function_many_stars_real\n",
      "    abundance_list,element_list = posterior_function_returning_predictions(args)\n",
      "  File \"/home/philcox/Chempy/Chempy/cem_function.py\", line 482, in posterior_function_returning_predictions\n",
      "    posterior, abundance_list, element_list = posterior_function_predictions(changing_parameter,a)\n",
      "  File \"/home/philcox/Chempy/Chempy/cem_function.py\", line 507, in posterior_function_predictions\n",
      "    abundance_list,elements_to_trace = cem_real2(a)\n",
      "  File \"/home/philcox/Chempy/Chempy/cem_function.py\", line 337, in cem_real2\n",
      "    a = shorten_sfr(a)\n",
      "  File \"/home/philcox/Chempy/Chempy/cem_function.py\", line 130, in shorten_sfr\n",
      "    assert fraction_of_mean_sfr > 0.05, ('The total SFR of the last age bin is below 5% of the mean SFR', 'stellar identifier = ', a.stellar_identifier, 'star time = ', star_time, 'model time = ', time_model )\n",
      "AssertionError: ('The total SFR of the last age bin is below 5% of the mean SFR', 'stellar identifier = ', 'Proto-sun', 'star time = ', 8.9400000000000013, 'model time = ', 9.0)\n"
     ]
    },
    {
     "name": "stdout",
     "output_type": "stream",
     "text": [
      "5.43874141976 2.75451250939\n",
      "calculation so far took 41.109177112579346  seconds\n",
      "step  56 of  1000\n",
      "5.43874141976 2.8929052259\n",
      "calculation so far took 41.84399056434631  seconds\n",
      "step  57 of  1000\n",
      "5.43874141976 2.87244625562\n",
      "calculation so far took 42.51902461051941  seconds\n",
      "step  58 of  1000\n"
     ]
    },
    {
     "name": "stderr",
     "output_type": "stream",
     "text": [
      "Traceback (most recent call last):\n",
      "  File \"/home/philcox/Chempy/Chempy/cem_function.py\", line 882, in posterior_function_many_stars\n",
      "    posterior, blobs = posterior_function_many_stars_real(changing_parameter,error_list,elements)\n",
      "  File \"/home/philcox/Chempy/Chempy/cem_function.py\", line 920, in posterior_function_many_stars_real\n",
      "    abundance_list,element_list = posterior_function_returning_predictions(args)\n",
      "  File \"/home/philcox/Chempy/Chempy/cem_function.py\", line 482, in posterior_function_returning_predictions\n",
      "    posterior, abundance_list, element_list = posterior_function_predictions(changing_parameter,a)\n",
      "  File \"/home/philcox/Chempy/Chempy/cem_function.py\", line 492, in posterior_function_predictions\n",
      "    a = extract_parameters_and_priors(changing_parameter, a)\n",
      "  File \"/home/philcox/Chempy/Chempy/cem_function.py\", line 719, in extract_parameters_and_priors\n",
      "    assert False, '%s upper border is violated' %(name)\n",
      "AssertionError: log10_sfr_scale upper border is violated\n"
     ]
    },
    {
     "name": "stdout",
     "output_type": "stream",
     "text": [
      "5.43874141976 3.01629117857\n",
      "calculation so far took 43.215957164764404  seconds\n",
      "step  59 of  1000\n"
     ]
    },
    {
     "name": "stderr",
     "output_type": "stream",
     "text": [
      "Traceback (most recent call last):\n",
      "  File \"/home/philcox/Chempy/Chempy/cem_function.py\", line 882, in posterior_function_many_stars\n",
      "    posterior, blobs = posterior_function_many_stars_real(changing_parameter,error_list,elements)\n",
      "  File \"/home/philcox/Chempy/Chempy/cem_function.py\", line 920, in posterior_function_many_stars_real\n",
      "    abundance_list,element_list = posterior_function_returning_predictions(args)\n",
      "  File \"/home/philcox/Chempy/Chempy/cem_function.py\", line 482, in posterior_function_returning_predictions\n",
      "    posterior, abundance_list, element_list = posterior_function_predictions(changing_parameter,a)\n",
      "  File \"/home/philcox/Chempy/Chempy/cem_function.py\", line 507, in posterior_function_predictions\n",
      "    abundance_list,elements_to_trace = cem_real2(a)\n",
      "  File \"/home/philcox/Chempy/Chempy/cem_function.py\", line 337, in cem_real2\n",
      "    a = shorten_sfr(a)\n",
      "  File \"/home/philcox/Chempy/Chempy/cem_function.py\", line 130, in shorten_sfr\n",
      "    assert fraction_of_mean_sfr > 0.05, ('The total SFR of the last age bin is below 5% of the mean SFR', 'stellar identifier = ', a.stellar_identifier, 'star time = ', star_time, 'model time = ', time_model )\n",
      "AssertionError: ('The total SFR of the last age bin is below 5% of the mean SFR', 'stellar identifier = ', 'Proto-sun', 'star time = ', 8.9400000000000013, 'model time = ', 9.0)\n",
      "Traceback (most recent call last):\n",
      "  File \"/home/philcox/Chempy/Chempy/cem_function.py\", line 882, in posterior_function_many_stars\n",
      "    posterior, blobs = posterior_function_many_stars_real(changing_parameter,error_list,elements)\n",
      "  File \"/home/philcox/Chempy/Chempy/cem_function.py\", line 920, in posterior_function_many_stars_real\n",
      "    abundance_list,element_list = posterior_function_returning_predictions(args)\n"
     ]
    },
    {
     "name": "stdout",
     "output_type": "stream",
     "text": [
      "5.43874141976 2.95398573836\n",
      "calculation so far took 43.85155940055847  seconds\n",
      "step  60 of  1000\n"
     ]
    },
    {
     "name": "stderr",
     "output_type": "stream",
     "text": [
      "  File \"/home/philcox/Chempy/Chempy/cem_function.py\", line 482, in posterior_function_returning_predictions\n",
      "    posterior, abundance_list, element_list = posterior_function_predictions(changing_parameter,a)\n",
      "  File \"/home/philcox/Chempy/Chempy/cem_function.py\", line 492, in posterior_function_predictions\n",
      "    a = extract_parameters_and_priors(changing_parameter, a)\n",
      "  File \"/home/philcox/Chempy/Chempy/cem_function.py\", line 719, in extract_parameters_and_priors\n",
      "    assert False, '%s upper border is violated' %(name)\n",
      "AssertionError: log10_sfr_scale upper border is violated\n"
     ]
    },
    {
     "name": "stdout",
     "output_type": "stream",
     "text": [
      "5.43874141976 2.87022947461\n",
      "calculation so far took 44.565348625183105  seconds\n",
      "step  61 of  1000\n"
     ]
    },
    {
     "name": "stderr",
     "output_type": "stream",
     "text": [
      "Traceback (most recent call last):\n",
      "  File \"/home/philcox/Chempy/Chempy/cem_function.py\", line 882, in posterior_function_many_stars\n",
      "    posterior, blobs = posterior_function_many_stars_real(changing_parameter,error_list,elements)\n",
      "  File \"/home/philcox/Chempy/Chempy/cem_function.py\", line 920, in posterior_function_many_stars_real\n",
      "    abundance_list,element_list = posterior_function_returning_predictions(args)\n",
      "  File \"/home/philcox/Chempy/Chempy/cem_function.py\", line 482, in posterior_function_returning_predictions\n",
      "    posterior, abundance_list, element_list = posterior_function_predictions(changing_parameter,a)\n",
      "  File \"/home/philcox/Chempy/Chempy/cem_function.py\", line 507, in posterior_function_predictions\n",
      "    abundance_list,elements_to_trace = cem_real2(a)\n",
      "  File \"/home/philcox/Chempy/Chempy/cem_function.py\", line 337, in cem_real2\n",
      "    a = shorten_sfr(a)\n",
      "  File \"/home/philcox/Chempy/Chempy/cem_function.py\", line 130, in shorten_sfr\n",
      "    assert fraction_of_mean_sfr > 0.05, ('The total SFR of the last age bin is below 5% of the mean SFR', 'stellar identifier = ', a.stellar_identifier, 'star time = ', star_time, 'model time = ', time_model )\n",
      "AssertionError: ('The total SFR of the last age bin is below 5% of the mean SFR', 'stellar identifier = ', 'Proto-sun', 'star time = ', 8.9400000000000013, 'model time = ', 9.0)\n"
     ]
    },
    {
     "name": "stdout",
     "output_type": "stream",
     "text": [
      "5.43874141976 2.96294004807\n",
      "calculation so far took 45.205063343048096  seconds\n",
      "step  62 of  1000\n",
      "5.43874141976 2.88640578749\n",
      "calculation so far took 45.924569845199585  seconds\n",
      "step  63 of  1000\n",
      "5.43874141976 2.91126568213\n",
      "calculation so far took 46.55241274833679  seconds\n",
      "step  64 of  1000\n",
      "5.43874141976 2.88321344198\n",
      "calculation so far took 47.17936086654663  seconds\n",
      "step  65 of  1000\n",
      "5.43874141976 2.78430105015\n",
      "calculation so far took 47.85284662246704  seconds\n",
      "step  66 of  1000\n"
     ]
    },
    {
     "name": "stderr",
     "output_type": "stream",
     "text": [
      "Traceback (most recent call last):\n",
      "  File \"/home/philcox/Chempy/Chempy/cem_function.py\", line 882, in posterior_function_many_stars\n",
      "    posterior, blobs = posterior_function_many_stars_real(changing_parameter,error_list,elements)\n",
      "  File \"/home/philcox/Chempy/Chempy/cem_function.py\", line 920, in posterior_function_many_stars_real\n",
      "    abundance_list,element_list = posterior_function_returning_predictions(args)\n",
      "  File \"/home/philcox/Chempy/Chempy/cem_function.py\", line 482, in posterior_function_returning_predictions\n",
      "    posterior, abundance_list, element_list = posterior_function_predictions(changing_parameter,a)\n",
      "  File \"/home/philcox/Chempy/Chempy/cem_function.py\", line 492, in posterior_function_predictions\n",
      "    a = extract_parameters_and_priors(changing_parameter, a)\n",
      "  File \"/home/philcox/Chempy/Chempy/cem_function.py\", line 719, in extract_parameters_and_priors\n",
      "    assert False, '%s upper border is violated' %(name)\n",
      "AssertionError: log10_sfr_scale upper border is violated\n"
     ]
    },
    {
     "name": "stdout",
     "output_type": "stream",
     "text": [
      "5.43874141976 2.97822098071\n",
      "calculation so far took 48.50995635986328  seconds\n",
      "step  67 of  1000\n"
     ]
    },
    {
     "name": "stderr",
     "output_type": "stream",
     "text": [
      "Traceback (most recent call last):\n",
      "  File \"/home/philcox/Chempy/Chempy/cem_function.py\", line 882, in posterior_function_many_stars\n",
      "    posterior, blobs = posterior_function_many_stars_real(changing_parameter,error_list,elements)\n",
      "  File \"/home/philcox/Chempy/Chempy/cem_function.py\", line 920, in posterior_function_many_stars_real\n",
      "    abundance_list,element_list = posterior_function_returning_predictions(args)\n",
      "  File \"/home/philcox/Chempy/Chempy/cem_function.py\", line 482, in posterior_function_returning_predictions\n",
      "    posterior, abundance_list, element_list = posterior_function_predictions(changing_parameter,a)\n",
      "  File \"/home/philcox/Chempy/Chempy/cem_function.py\", line 507, in posterior_function_predictions\n",
      "    abundance_list,elements_to_trace = cem_real2(a)\n",
      "  File \"/home/philcox/Chempy/Chempy/cem_function.py\", line 337, in cem_real2\n",
      "    a = shorten_sfr(a)\n",
      "  File \"/home/philcox/Chempy/Chempy/cem_function.py\", line 130, in shorten_sfr\n",
      "    assert fraction_of_mean_sfr > 0.05, ('The total SFR of the last age bin is below 5% of the mean SFR', 'stellar identifier = ', a.stellar_identifier, 'star time = ', star_time, 'model time = ', time_model )\n",
      "AssertionError: ('The total SFR of the last age bin is below 5% of the mean SFR', 'stellar identifier = ', 'Proto-sun', 'star time = ', 8.9400000000000013, 'model time = ', 9.0)\n"
     ]
    },
    {
     "name": "stdout",
     "output_type": "stream",
     "text": [
      "5.43874141976 2.84252413831\n",
      "calculation so far took 49.18589186668396  seconds\n",
      "step  68 of  1000\n",
      "5.43874141976 2.71676368893\n",
      "calculation so far took 49.85676670074463  seconds\n",
      "step  69 of  1000\n",
      "5.43874141976 2.84975074553\n",
      "calculation so far took 50.49563479423523  seconds\n",
      "step  70 of  1000\n",
      "5.43874141976 2.84014239146\n",
      "calculation so far took 51.11267280578613  seconds\n",
      "step  71 of  1000\n",
      "5.43874141976 2.59385001044\n",
      "calculation so far took 51.91225218772888  seconds\n",
      "step  72 of  1000\n"
     ]
    },
    {
     "name": "stderr",
     "output_type": "stream",
     "text": [
      "Traceback (most recent call last):\n",
      "  File \"/home/philcox/Chempy/Chempy/cem_function.py\", line 882, in posterior_function_many_stars\n",
      "    posterior, blobs = posterior_function_many_stars_real(changing_parameter,error_list,elements)\n",
      "  File \"/home/philcox/Chempy/Chempy/cem_function.py\", line 920, in posterior_function_many_stars_real\n",
      "    abundance_list,element_list = posterior_function_returning_predictions(args)\n",
      "  File \"/home/philcox/Chempy/Chempy/cem_function.py\", line 482, in posterior_function_returning_predictions\n",
      "    posterior, abundance_list, element_list = posterior_function_predictions(changing_parameter,a)\n",
      "  File \"/home/philcox/Chempy/Chempy/cem_function.py\", line 507, in posterior_function_predictions\n",
      "    abundance_list,elements_to_trace = cem_real2(a)\n",
      "  File \"/home/philcox/Chempy/Chempy/cem_function.py\", line 337, in cem_real2\n",
      "    a = shorten_sfr(a)\n",
      "  File \"/home/philcox/Chempy/Chempy/cem_function.py\", line 130, in shorten_sfr\n",
      "    assert fraction_of_mean_sfr > 0.05, ('The total SFR of the last age bin is below 5% of the mean SFR', 'stellar identifier = ', a.stellar_identifier, 'star time = ', star_time, 'model time = ', time_model )\n",
      "AssertionError: ('The total SFR of the last age bin is below 5% of the mean SFR', 'stellar identifier = ', 'Proto-sun', 'star time = ', 8.9400000000000013, 'model time = ', 9.0)\n"
     ]
    },
    {
     "name": "stdout",
     "output_type": "stream",
     "text": [
      "5.43874141976 2.51176255664\n",
      "calculation so far took 52.547932147979736  seconds\n",
      "step  73 of  1000\n"
     ]
    },
    {
     "name": "stderr",
     "output_type": "stream",
     "text": [
      "Traceback (most recent call last):\n",
      "  File \"/home/philcox/Chempy/Chempy/cem_function.py\", line 882, in posterior_function_many_stars\n",
      "    posterior, blobs = posterior_function_many_stars_real(changing_parameter,error_list,elements)\n",
      "  File \"/home/philcox/Chempy/Chempy/cem_function.py\", line 920, in posterior_function_many_stars_real\n",
      "    abundance_list,element_list = posterior_function_returning_predictions(args)\n",
      "  File \"/home/philcox/Chempy/Chempy/cem_function.py\", line 482, in posterior_function_returning_predictions\n",
      "    posterior, abundance_list, element_list = posterior_function_predictions(changing_parameter,a)\n",
      "  File \"/home/philcox/Chempy/Chempy/cem_function.py\", line 492, in posterior_function_predictions\n",
      "    a = extract_parameters_and_priors(changing_parameter, a)\n",
      "  File \"/home/philcox/Chempy/Chempy/cem_function.py\", line 717, in extract_parameters_and_priors\n",
      "    assert False, '%s lower border is violated' %(name)\n",
      "AssertionError: outflow_feedback_fraction lower border is violated\n"
     ]
    },
    {
     "name": "stdout",
     "output_type": "stream",
     "text": [
      "5.43874141976 2.53431232037\n",
      "calculation so far took 53.35805034637451  seconds\n",
      "step  74 of  1000\n",
      "5.43874141976 2.37066417724\n",
      "calculation so far took 54.036760091781616  seconds\n",
      "step  75 of  1000\n",
      "5.43874141976 2.52998974186\n",
      "calculation so far took 54.68969988822937  seconds\n",
      "step  76 of  1000\n",
      "5.43874141976 2.45440584881\n",
      "calculation so far took 55.32064986228943  seconds\n",
      "step  77 of  1000\n"
     ]
    },
    {
     "name": "stderr",
     "output_type": "stream",
     "text": [
      "Traceback (most recent call last):\n",
      "  File \"/home/philcox/Chempy/Chempy/cem_function.py\", line 882, in posterior_function_many_stars\n",
      "    posterior, blobs = posterior_function_many_stars_real(changing_parameter,error_list,elements)\n",
      "  File \"/home/philcox/Chempy/Chempy/cem_function.py\", line 920, in posterior_function_many_stars_real\n",
      "    abundance_list,element_list = posterior_function_returning_predictions(args)\n",
      "  File \"/home/philcox/Chempy/Chempy/cem_function.py\", line 482, in posterior_function_returning_predictions\n",
      "    posterior, abundance_list, element_list = posterior_function_predictions(changing_parameter,a)\n",
      "  File \"/home/philcox/Chempy/Chempy/cem_function.py\", line 507, in posterior_function_predictions\n",
      "    abundance_list,elements_to_trace = cem_real2(a)\n",
      "  File \"/home/philcox/Chempy/Chempy/cem_function.py\", line 337, in cem_real2\n",
      "    a = shorten_sfr(a)\n",
      "  File \"/home/philcox/Chempy/Chempy/cem_function.py\", line 130, in shorten_sfr\n",
      "    assert fraction_of_mean_sfr > 0.05, ('The total SFR of the last age bin is below 5% of the mean SFR', 'stellar identifier = ', a.stellar_identifier, 'star time = ', star_time, 'model time = ', time_model )\n",
      "AssertionError: ('The total SFR of the last age bin is below 5% of the mean SFR', 'stellar identifier = ', 'Proto-sun', 'star time = ', 8.9400000000000013, 'model time = ', 9.0)\n",
      "Traceback (most recent call last):\n",
      "  File \"/home/philcox/Chempy/Chempy/cem_function.py\", line 882, in posterior_function_many_stars\n",
      "    posterior, blobs = posterior_function_many_stars_real(changing_parameter,error_list,elements)\n",
      "  File \"/home/philcox/Chempy/Chempy/cem_function.py\", line 920, in posterior_function_many_stars_real\n",
      "    abundance_list,element_list = posterior_function_returning_predictions(args)\n",
      "  File \"/home/philcox/Chempy/Chempy/cem_function.py\", line 482, in posterior_function_returning_predictions\n",
      "    posterior, abundance_list, element_list = posterior_function_predictions(changing_parameter,a)\n",
      "  File \"/home/philcox/Chempy/Chempy/cem_function.py\", line 507, in posterior_function_predictions\n",
      "    abundance_list,elements_to_trace = cem_real2(a)\n",
      "  File \"/home/philcox/Chempy/Chempy/cem_function.py\", line 337, in cem_real2\n",
      "    a = shorten_sfr(a)\n",
      "  File \"/home/philcox/Chempy/Chempy/cem_function.py\", line 130, in shorten_sfr\n",
      "    assert fraction_of_mean_sfr > 0.05, ('The total SFR of the last age bin is below 5% of the mean SFR', 'stellar identifier = ', a.stellar_identifier, 'star time = ', star_time, 'model time = ', time_model )\n",
      "AssertionError: ('The total SFR of the last age bin is below 5% of the mean SFR', 'stellar identifier = ', 'Proto-sun', 'star time = ', 8.9400000000000013, 'model time = ', 9.0)\n"
     ]
    },
    {
     "name": "stdout",
     "output_type": "stream",
     "text": [
      "5.43874141976 2.62170546932\n",
      "calculation so far took 55.933497190475464  seconds\n",
      "step  78 of  1000\n"
     ]
    },
    {
     "name": "stderr",
     "output_type": "stream",
     "text": [
      "Traceback (most recent call last):\n",
      "  File \"/home/philcox/Chempy/Chempy/cem_function.py\", line 882, in posterior_function_many_stars\n",
      "    posterior, blobs = posterior_function_many_stars_real(changing_parameter,error_list,elements)\n",
      "  File \"/home/philcox/Chempy/Chempy/cem_function.py\", line 920, in posterior_function_many_stars_real\n",
      "    abundance_list,element_list = posterior_function_returning_predictions(args)\n",
      "  File \"/home/philcox/Chempy/Chempy/cem_function.py\", line 482, in posterior_function_returning_predictions\n",
      "    posterior, abundance_list, element_list = posterior_function_predictions(changing_parameter,a)\n",
      "  File \"/home/philcox/Chempy/Chempy/cem_function.py\", line 507, in posterior_function_predictions\n",
      "    abundance_list,elements_to_trace = cem_real2(a)\n",
      "  File \"/home/philcox/Chempy/Chempy/cem_function.py\", line 337, in cem_real2\n",
      "    a = shorten_sfr(a)\n",
      "  File \"/home/philcox/Chempy/Chempy/cem_function.py\", line 130, in shorten_sfr\n",
      "    assert fraction_of_mean_sfr > 0.05, ('The total SFR of the last age bin is below 5% of the mean SFR', 'stellar identifier = ', a.stellar_identifier, 'star time = ', star_time, 'model time = ', time_model )\n",
      "AssertionError: ('The total SFR of the last age bin is below 5% of the mean SFR', 'stellar identifier = ', 'Proto-sun', 'star time = ', 8.9400000000000013, 'model time = ', 9.0)\n"
     ]
    },
    {
     "name": "stdout",
     "output_type": "stream",
     "text": [
      "5.43874141976 2.52559042876\n",
      "calculation so far took 56.586193561553955  seconds\n",
      "step  79 of  1000\n"
     ]
    },
    {
     "name": "stderr",
     "output_type": "stream",
     "text": [
      "Traceback (most recent call last):\n",
      "  File \"/home/philcox/Chempy/Chempy/cem_function.py\", line 882, in posterior_function_many_stars\n",
      "    posterior, blobs = posterior_function_many_stars_real(changing_parameter,error_list,elements)\n",
      "  File \"/home/philcox/Chempy/Chempy/cem_function.py\", line 920, in posterior_function_many_stars_real\n",
      "    abundance_list,element_list = posterior_function_returning_predictions(args)\n",
      "  File \"/home/philcox/Chempy/Chempy/cem_function.py\", line 482, in posterior_function_returning_predictions\n",
      "    posterior, abundance_list, element_list = posterior_function_predictions(changing_parameter,a)\n",
      "  File \"/home/philcox/Chempy/Chempy/cem_function.py\", line 507, in posterior_function_predictions\n",
      "    abundance_list,elements_to_trace = cem_real2(a)\n",
      "  File \"/home/philcox/Chempy/Chempy/cem_function.py\", line 337, in cem_real2\n",
      "    a = shorten_sfr(a)\n",
      "  File \"/home/philcox/Chempy/Chempy/cem_function.py\", line 130, in shorten_sfr\n",
      "    assert fraction_of_mean_sfr > 0.05, ('The total SFR of the last age bin is below 5% of the mean SFR', 'stellar identifier = ', a.stellar_identifier, 'star time = ', star_time, 'model time = ', time_model )\n",
      "AssertionError: ('The total SFR of the last age bin is below 5% of the mean SFR', 'stellar identifier = ', 'Proto-sun', 'star time = ', 8.9400000000000013, 'model time = ', 9.0)\n"
     ]
    },
    {
     "name": "stdout",
     "output_type": "stream",
     "text": [
      "5.43874141976 2.59908585139\n",
      "calculation so far took 57.237258434295654  seconds\n",
      "step  80 of  1000\n",
      "5.43874141976 2.54953300771\n",
      "calculation so far took 57.90148735046387  seconds\n",
      "step  81 of  1000\n"
     ]
    },
    {
     "name": "stderr",
     "output_type": "stream",
     "text": [
      "Traceback (most recent call last):\n",
      "  File \"/home/philcox/Chempy/Chempy/cem_function.py\", line 882, in posterior_function_many_stars\n",
      "    posterior, blobs = posterior_function_many_stars_real(changing_parameter,error_list,elements)\n",
      "  File \"/home/philcox/Chempy/Chempy/cem_function.py\", line 920, in posterior_function_many_stars_real\n",
      "    abundance_list,element_list = posterior_function_returning_predictions(args)\n",
      "  File \"/home/philcox/Chempy/Chempy/cem_function.py\", line 482, in posterior_function_returning_predictions\n",
      "    posterior, abundance_list, element_list = posterior_function_predictions(changing_parameter,a)\n",
      "  File \"/home/philcox/Chempy/Chempy/cem_function.py\", line 507, in posterior_function_predictions\n",
      "    abundance_list,elements_to_trace = cem_real2(a)\n",
      "  File \"/home/philcox/Chempy/Chempy/cem_function.py\", line 337, in cem_real2\n",
      "    a = shorten_sfr(a)\n",
      "  File \"/home/philcox/Chempy/Chempy/cem_function.py\", line 130, in shorten_sfr\n",
      "    assert fraction_of_mean_sfr > 0.05, ('The total SFR of the last age bin is below 5% of the mean SFR', 'stellar identifier = ', a.stellar_identifier, 'star time = ', star_time, 'model time = ', time_model )\n",
      "AssertionError: ('The total SFR of the last age bin is below 5% of the mean SFR', 'stellar identifier = ', 'Proto-sun', 'star time = ', 8.9400000000000013, 'model time = ', 9.0)\n"
     ]
    },
    {
     "name": "stdout",
     "output_type": "stream",
     "text": [
      "5.43874141976 2.53602313538\n",
      "calculation so far took 58.596691846847534  seconds\n",
      "step  82 of  1000\n",
      "5.43874141976 2.49221233917\n",
      "calculation so far took 59.32662010192871  seconds\n",
      "step  83 of  1000\n",
      "5.43874141976 2.52491646094\n",
      "calculation so far took 60.107825756073  seconds\n",
      "step  84 of  1000\n",
      "5.43874141976 2.5606827863\n",
      "calculation so far took 60.93975567817688  seconds\n",
      "step  85 of  1000\n",
      "5.43874141976 2.60925643266\n",
      "calculation so far took 61.7315878868103  seconds\n",
      "step  86 of  1000\n"
     ]
    },
    {
     "name": "stderr",
     "output_type": "stream",
     "text": [
      "Traceback (most recent call last):\n",
      "  File \"/home/philcox/Chempy/Chempy/cem_function.py\", line 882, in posterior_function_many_stars\n",
      "    posterior, blobs = posterior_function_many_stars_real(changing_parameter,error_list,elements)\n",
      "  File \"/home/philcox/Chempy/Chempy/cem_function.py\", line 920, in posterior_function_many_stars_real\n",
      "    abundance_list,element_list = posterior_function_returning_predictions(args)\n",
      "  File \"/home/philcox/Chempy/Chempy/cem_function.py\", line 482, in posterior_function_returning_predictions\n",
      "    posterior, abundance_list, element_list = posterior_function_predictions(changing_parameter,a)\n",
      "  File \"/home/philcox/Chempy/Chempy/cem_function.py\", line 492, in posterior_function_predictions\n",
      "    a = extract_parameters_and_priors(changing_parameter, a)\n",
      "  File \"/home/philcox/Chempy/Chempy/cem_function.py\", line 719, in extract_parameters_and_priors\n",
      "    assert False, '%s upper border is violated' %(name)\n",
      "AssertionError: outflow_feedback_fraction upper border is violated\n"
     ]
    },
    {
     "name": "stdout",
     "output_type": "stream",
     "text": [
      "5.43874141976 2.66730496197\n",
      "calculation so far took 62.51519823074341  seconds\n",
      "step  87 of  1000\n"
     ]
    },
    {
     "name": "stderr",
     "output_type": "stream",
     "text": [
      "Traceback (most recent call last):\n",
      "  File \"/home/philcox/Chempy/Chempy/cem_function.py\", line 882, in posterior_function_many_stars\n",
      "    posterior, blobs = posterior_function_many_stars_real(changing_parameter,error_list,elements)\n",
      "  File \"/home/philcox/Chempy/Chempy/cem_function.py\", line 920, in posterior_function_many_stars_real\n",
      "    abundance_list,element_list = posterior_function_returning_predictions(args)\n",
      "  File \"/home/philcox/Chempy/Chempy/cem_function.py\", line 482, in posterior_function_returning_predictions\n",
      "    posterior, abundance_list, element_list = posterior_function_predictions(changing_parameter,a)\n",
      "  File \"/home/philcox/Chempy/Chempy/cem_function.py\", line 492, in posterior_function_predictions\n",
      "    a = extract_parameters_and_priors(changing_parameter, a)\n",
      "  File \"/home/philcox/Chempy/Chempy/cem_function.py\", line 719, in extract_parameters_and_priors\n",
      "    assert False, '%s upper border is violated' %(name)\n",
      "AssertionError: outflow_feedback_fraction upper border is violated\n"
     ]
    },
    {
     "name": "stdout",
     "output_type": "stream",
     "text": [
      "5.43874141976 2.58928941334\n",
      "calculation so far took 63.29826736450195  seconds\n",
      "step  88 of  1000\n",
      "5.43874141976 2.76593956101\n",
      "calculation so far took 63.97678565979004  seconds\n",
      "step  89 of  1000\n",
      "5.43874141976 2.64174103418\n",
      "calculation so far took 64.7080512046814  seconds\n",
      "step  90 of  1000\n",
      "5.43874141976 2.35076070427\n",
      "calculation so far took 65.46842455863953  seconds\n",
      "step  91 of  1000\n",
      "5.43874141976 2.64340104758\n",
      "calculation so far took 66.1005392074585  seconds\n",
      "step  92 of  1000\n",
      "5.43874141976 2.52121699927\n",
      "calculation so far took 66.7157347202301  seconds\n",
      "step  93 of  1000\n",
      "5.43874141976 2.55386054614\n",
      "calculation so far took 67.33818793296814  seconds\n",
      "step  94 of  1000\n",
      "5.43874141976 2.47350901354\n",
      "calculation so far took 67.96127271652222  seconds\n",
      "step  95 of  1000\n"
     ]
    },
    {
     "name": "stderr",
     "output_type": "stream",
     "text": [
      "Traceback (most recent call last):\n",
      "  File \"/home/philcox/Chempy/Chempy/cem_function.py\", line 882, in posterior_function_many_stars\n",
      "    posterior, blobs = posterior_function_many_stars_real(changing_parameter,error_list,elements)\n",
      "  File \"/home/philcox/Chempy/Chempy/cem_function.py\", line 920, in posterior_function_many_stars_real\n",
      "    abundance_list,element_list = posterior_function_returning_predictions(args)\n",
      "  File \"/home/philcox/Chempy/Chempy/cem_function.py\", line 482, in posterior_function_returning_predictions\n",
      "    posterior, abundance_list, element_list = posterior_function_predictions(changing_parameter,a)\n",
      "  File \"/home/philcox/Chempy/Chempy/cem_function.py\", line 507, in posterior_function_predictions\n",
      "    abundance_list,elements_to_trace = cem_real2(a)\n",
      "  File \"/home/philcox/Chempy/Chempy/cem_function.py\", line 337, in cem_real2\n",
      "    a = shorten_sfr(a)\n",
      "  File \"/home/philcox/Chempy/Chempy/cem_function.py\", line 130, in shorten_sfr\n",
      "    assert fraction_of_mean_sfr > 0.05, ('The total SFR of the last age bin is below 5% of the mean SFR', 'stellar identifier = ', a.stellar_identifier, 'star time = ', star_time, 'model time = ', time_model )\n",
      "AssertionError: ('The total SFR of the last age bin is below 5% of the mean SFR', 'stellar identifier = ', 'Proto-sun', 'star time = ', 8.9400000000000013, 'model time = ', 9.0)\n"
     ]
    },
    {
     "name": "stdout",
     "output_type": "stream",
     "text": [
      "5.43874141976 2.21433281584\n",
      "calculation so far took 68.70329141616821  seconds\n",
      "step  96 of  1000\n",
      "5.43874141976 2.38831369853\n",
      "calculation so far took 69.4744963645935  seconds\n",
      "step  97 of  1000\n",
      "5.43874141976 2.51178901254\n",
      "calculation so far took 70.13039708137512  seconds\n",
      "step  98 of  1000\n",
      "5.43874141976 2.29891026069\n",
      "calculation so far took 70.88487982749939  seconds\n",
      "step  99 of  1000\n"
     ]
    },
    {
     "name": "stderr",
     "output_type": "stream",
     "text": [
      "Traceback (most recent call last):\n",
      "  File \"/home/philcox/Chempy/Chempy/cem_function.py\", line 882, in posterior_function_many_stars\n",
      "    posterior, blobs = posterior_function_many_stars_real(changing_parameter,error_list,elements)\n",
      "  File \"/home/philcox/Chempy/Chempy/cem_function.py\", line 920, in posterior_function_many_stars_real\n",
      "    abundance_list,element_list = posterior_function_returning_predictions(args)\n",
      "  File \"/home/philcox/Chempy/Chempy/cem_function.py\", line 482, in posterior_function_returning_predictions\n",
      "    posterior, abundance_list, element_list = posterior_function_predictions(changing_parameter,a)\n",
      "  File \"/home/philcox/Chempy/Chempy/cem_function.py\", line 492, in posterior_function_predictions\n",
      "    a = extract_parameters_and_priors(changing_parameter, a)\n",
      "  File \"/home/philcox/Chempy/Chempy/cem_function.py\", line 719, in extract_parameters_and_priors\n",
      "    assert False, '%s upper border is violated' %(name)\n",
      "AssertionError: log10_sfr_scale upper border is violated\n"
     ]
    },
    {
     "name": "stdout",
     "output_type": "stream",
     "text": [
      "5.43874141976 2.35102845422\n",
      "calculation so far took 71.51727795600891  seconds\n",
      "step  100 of  1000\n",
      "5.43874141976 2.64540259277\n",
      "calculation so far took 72.40951466560364  seconds\n",
      "step  101 of  1000\n"
     ]
    },
    {
     "name": "stderr",
     "output_type": "stream",
     "text": [
      "Traceback (most recent call last):\n",
      "  File \"/home/philcox/Chempy/Chempy/cem_function.py\", line 882, in posterior_function_many_stars\n",
      "    posterior, blobs = posterior_function_many_stars_real(changing_parameter,error_list,elements)\n",
      "  File \"/home/philcox/Chempy/Chempy/cem_function.py\", line 920, in posterior_function_many_stars_real\n",
      "    abundance_list,element_list = posterior_function_returning_predictions(args)\n",
      "  File \"/home/philcox/Chempy/Chempy/cem_function.py\", line 482, in posterior_function_returning_predictions\n",
      "    posterior, abundance_list, element_list = posterior_function_predictions(changing_parameter,a)\n",
      "  File \"/home/philcox/Chempy/Chempy/cem_function.py\", line 492, in posterior_function_predictions\n",
      "    a = extract_parameters_and_priors(changing_parameter, a)\n",
      "  File \"/home/philcox/Chempy/Chempy/cem_function.py\", line 719, in extract_parameters_and_priors\n",
      "    assert False, '%s upper border is violated' %(name)\n",
      "AssertionError: log10_sfr_scale upper border is violated\n"
     ]
    },
    {
     "name": "stdout",
     "output_type": "stream",
     "text": [
      "5.43874141976 2.71130721018\n",
      "calculation so far took 73.14986753463745  seconds\n",
      "step  102 of  1000\n",
      "5.43874141976 2.70039371942\n",
      "calculation so far took 73.92858695983887  seconds\n",
      "step  103 of  1000\n",
      "5.43874141976 2.74695574033\n",
      "calculation so far took 74.57712745666504  seconds\n",
      "step  104 of  1000\n",
      "5.43874141976 2.60731898295\n",
      "calculation so far took 75.24954605102539  seconds\n",
      "step  105 of  1000\n",
      "5.43874141976 2.64653758681\n",
      "calculation so far took 75.94307947158813  seconds\n",
      "step  106 of  1000\n",
      "5.43874141976 2.55862234374\n",
      "calculation so far took 76.64731287956238  seconds\n",
      "step  107 of  1000\n"
     ]
    },
    {
     "name": "stderr",
     "output_type": "stream",
     "text": [
      "Traceback (most recent call last):\n",
      "  File \"/home/philcox/Chempy/Chempy/cem_function.py\", line 882, in posterior_function_many_stars\n",
      "    posterior, blobs = posterior_function_many_stars_real(changing_parameter,error_list,elements)\n",
      "  File \"/home/philcox/Chempy/Chempy/cem_function.py\", line 920, in posterior_function_many_stars_real\n",
      "    abundance_list,element_list = posterior_function_returning_predictions(args)\n",
      "  File \"/home/philcox/Chempy/Chempy/cem_function.py\", line 482, in posterior_function_returning_predictions\n",
      "    posterior, abundance_list, element_list = posterior_function_predictions(changing_parameter,a)\n",
      "  File \"/home/philcox/Chempy/Chempy/cem_function.py\", line 492, in posterior_function_predictions\n",
      "    a = extract_parameters_and_priors(changing_parameter, a)\n",
      "  File \"/home/philcox/Chempy/Chempy/cem_function.py\", line 719, in extract_parameters_and_priors\n",
      "    assert False, '%s upper border is violated' %(name)\n",
      "AssertionError: outflow_feedback_fraction upper border is violated\n"
     ]
    },
    {
     "name": "stdout",
     "output_type": "stream",
     "text": [
      "5.43874141976 2.65940274887\n",
      "calculation so far took 77.36416673660278  seconds\n",
      "step  108 of  1000\n",
      "5.43874141976 2.59367394878\n",
      "calculation so far took 78.13670563697815  seconds\n",
      "step  109 of  1000\n",
      "5.43874141976 2.36889060629\n",
      "calculation so far took 78.92172813415527  seconds\n",
      "step  110 of  1000\n"
     ]
    },
    {
     "name": "stderr",
     "output_type": "stream",
     "text": [
      "Traceback (most recent call last):\n",
      "  File \"/home/philcox/Chempy/Chempy/cem_function.py\", line 882, in posterior_function_many_stars\n",
      "    posterior, blobs = posterior_function_many_stars_real(changing_parameter,error_list,elements)\n",
      "  File \"/home/philcox/Chempy/Chempy/cem_function.py\", line 920, in posterior_function_many_stars_real\n",
      "    abundance_list,element_list = posterior_function_returning_predictions(args)\n",
      "  File \"/home/philcox/Chempy/Chempy/cem_function.py\", line 482, in posterior_function_returning_predictions\n",
      "    posterior, abundance_list, element_list = posterior_function_predictions(changing_parameter,a)\n",
      "  File \"/home/philcox/Chempy/Chempy/cem_function.py\", line 492, in posterior_function_predictions\n",
      "    a = extract_parameters_and_priors(changing_parameter, a)\n",
      "  File \"/home/philcox/Chempy/Chempy/cem_function.py\", line 719, in extract_parameters_and_priors\n",
      "    assert False, '%s upper border is violated' %(name)\n",
      "AssertionError: log10_N_0 upper border is violated\n"
     ]
    },
    {
     "name": "stdout",
     "output_type": "stream",
     "text": [
      "5.43874141976 2.40793490314\n",
      "calculation so far took 79.65614581108093  seconds\n",
      "step  111 of  1000\n",
      "5.43874141976 2.49730988242\n",
      "calculation so far took 80.29666519165039  seconds\n",
      "step  112 of  1000\n",
      "5.43874141976 2.47427905916\n",
      "calculation so far took 81.03409671783447  seconds\n",
      "step  113 of  1000\n"
     ]
    },
    {
     "name": "stderr",
     "output_type": "stream",
     "text": [
      "Traceback (most recent call last):\n",
      "  File \"/home/philcox/Chempy/Chempy/cem_function.py\", line 882, in posterior_function_many_stars\n",
      "    posterior, blobs = posterior_function_many_stars_real(changing_parameter,error_list,elements)\n",
      "  File \"/home/philcox/Chempy/Chempy/cem_function.py\", line 920, in posterior_function_many_stars_real\n",
      "    abundance_list,element_list = posterior_function_returning_predictions(args)\n",
      "  File \"/home/philcox/Chempy/Chempy/cem_function.py\", line 482, in posterior_function_returning_predictions\n",
      "    posterior, abundance_list, element_list = posterior_function_predictions(changing_parameter,a)\n",
      "  File \"/home/philcox/Chempy/Chempy/cem_function.py\", line 492, in posterior_function_predictions\n",
      "    a = extract_parameters_and_priors(changing_parameter, a)\n",
      "  File \"/home/philcox/Chempy/Chempy/cem_function.py\", line 719, in extract_parameters_and_priors\n",
      "    assert False, '%s upper border is violated' %(name)\n",
      "AssertionError: outflow_feedback_fraction upper border is violated\n"
     ]
    },
    {
     "name": "stdout",
     "output_type": "stream",
     "text": [
      "5.43874141976 2.39659622326\n",
      "calculation so far took 81.68361353874207  seconds\n",
      "step  114 of  1000\n",
      "5.43874141976 2.22866497852\n",
      "calculation so far took 82.35376048088074  seconds\n",
      "step  115 of  1000\n"
     ]
    },
    {
     "name": "stderr",
     "output_type": "stream",
     "text": [
      "Traceback (most recent call last):\n",
      "  File \"/home/philcox/Chempy/Chempy/cem_function.py\", line 882, in posterior_function_many_stars\n",
      "    posterior, blobs = posterior_function_many_stars_real(changing_parameter,error_list,elements)\n",
      "  File \"/home/philcox/Chempy/Chempy/cem_function.py\", line 920, in posterior_function_many_stars_real\n",
      "    abundance_list,element_list = posterior_function_returning_predictions(args)\n",
      "  File \"/home/philcox/Chempy/Chempy/cem_function.py\", line 482, in posterior_function_returning_predictions\n",
      "    posterior, abundance_list, element_list = posterior_function_predictions(changing_parameter,a)\n",
      "  File \"/home/philcox/Chempy/Chempy/cem_function.py\", line 492, in posterior_function_predictions\n",
      "    a = extract_parameters_and_priors(changing_parameter, a)\n",
      "  File \"/home/philcox/Chempy/Chempy/cem_function.py\", line 719, in extract_parameters_and_priors\n",
      "    assert False, '%s upper border is violated' %(name)\n",
      "AssertionError: outflow_feedback_fraction upper border is violated\n"
     ]
    },
    {
     "name": "stdout",
     "output_type": "stream",
     "text": [
      "5.43874141976 2.3607571657\n",
      "calculation so far took 82.99921011924744  seconds\n",
      "step  116 of  1000\n",
      "5.43874141976 2.33770008272\n",
      "calculation so far took 83.64421486854553  seconds\n",
      "step  117 of  1000\n",
      "5.43874141976 2.03360818245\n",
      "calculation so far took 84.3462061882019  seconds\n",
      "step  118 of  1000\n"
     ]
    },
    {
     "name": "stderr",
     "output_type": "stream",
     "text": [
      "Traceback (most recent call last):\n",
      "  File \"/home/philcox/Chempy/Chempy/cem_function.py\", line 882, in posterior_function_many_stars\n",
      "    posterior, blobs = posterior_function_many_stars_real(changing_parameter,error_list,elements)\n",
      "  File \"/home/philcox/Chempy/Chempy/cem_function.py\", line 920, in posterior_function_many_stars_real\n",
      "    abundance_list,element_list = posterior_function_returning_predictions(args)\n",
      "  File \"/home/philcox/Chempy/Chempy/cem_function.py\", line 482, in posterior_function_returning_predictions\n",
      "    posterior, abundance_list, element_list = posterior_function_predictions(changing_parameter,a)\n",
      "  File \"/home/philcox/Chempy/Chempy/cem_function.py\", line 492, in posterior_function_predictions\n",
      "    a = extract_parameters_and_priors(changing_parameter, a)\n",
      "  File \"/home/philcox/Chempy/Chempy/cem_function.py\", line 717, in extract_parameters_and_priors\n",
      "    assert False, '%s lower border is violated' %(name)\n",
      "AssertionError: log10_sn1a_time_delay lower border is violated\n"
     ]
    },
    {
     "name": "stdout",
     "output_type": "stream",
     "text": [
      "5.43874141976 1.81747552447\n",
      "calculation so far took 85.14683175086975  seconds\n",
      "step  119 of  1000\n"
     ]
    },
    {
     "name": "stderr",
     "output_type": "stream",
     "text": [
      "Traceback (most recent call last):\n",
      "  File \"/home/philcox/Chempy/Chempy/cem_function.py\", line 882, in posterior_function_many_stars\n",
      "    posterior, blobs = posterior_function_many_stars_real(changing_parameter,error_list,elements)\n",
      "  File \"/home/philcox/Chempy/Chempy/cem_function.py\", line 920, in posterior_function_many_stars_real\n",
      "    abundance_list,element_list = posterior_function_returning_predictions(args)\n",
      "  File \"/home/philcox/Chempy/Chempy/cem_function.py\", line 482, in posterior_function_returning_predictions\n",
      "    posterior, abundance_list, element_list = posterior_function_predictions(changing_parameter,a)\n",
      "  File \"/home/philcox/Chempy/Chempy/cem_function.py\", line 492, in posterior_function_predictions\n",
      "    a = extract_parameters_and_priors(changing_parameter, a)\n",
      "  File \"/home/philcox/Chempy/Chempy/cem_function.py\", line 717, in extract_parameters_and_priors\n",
      "    assert False, '%s lower border is violated' %(name)\n",
      "AssertionError: log10_sn1a_time_delay lower border is violated\n"
     ]
    },
    {
     "name": "stdout",
     "output_type": "stream",
     "text": [
      "5.43874141976 1.86583015915\n",
      "calculation so far took 85.90395212173462  seconds\n",
      "step  120 of  1000\n",
      "5.43874141976 2.24102741634\n",
      "calculation so far took 86.7439501285553  seconds\n",
      "step  121 of  1000\n"
     ]
    },
    {
     "name": "stderr",
     "output_type": "stream",
     "text": [
      "Traceback (most recent call last):\n",
      "  File \"/home/philcox/Chempy/Chempy/cem_function.py\", line 882, in posterior_function_many_stars\n",
      "    posterior, blobs = posterior_function_many_stars_real(changing_parameter,error_list,elements)\n",
      "  File \"/home/philcox/Chempy/Chempy/cem_function.py\", line 920, in posterior_function_many_stars_real\n",
      "    abundance_list,element_list = posterior_function_returning_predictions(args)\n",
      "  File \"/home/philcox/Chempy/Chempy/cem_function.py\", line 482, in posterior_function_returning_predictions\n",
      "    posterior, abundance_list, element_list = posterior_function_predictions(changing_parameter,a)\n",
      "  File \"/home/philcox/Chempy/Chempy/cem_function.py\", line 492, in posterior_function_predictions\n",
      "    a = extract_parameters_and_priors(changing_parameter, a)\n",
      "  File \"/home/philcox/Chempy/Chempy/cem_function.py\", line 717, in extract_parameters_and_priors\n",
      "    assert False, '%s lower border is violated' %(name)\n",
      "AssertionError: log10_sn1a_time_delay lower border is violated\n",
      "Traceback (most recent call last):\n",
      "  File \"/home/philcox/Chempy/Chempy/cem_function.py\", line 882, in posterior_function_many_stars\n",
      "    posterior, blobs = posterior_function_many_stars_real(changing_parameter,error_list,elements)\n",
      "  File \"/home/philcox/Chempy/Chempy/cem_function.py\", line 920, in posterior_function_many_stars_real\n",
      "    abundance_list,element_list = posterior_function_returning_predictions(args)\n",
      "  File \"/home/philcox/Chempy/Chempy/cem_function.py\", line 482, in posterior_function_returning_predictions\n",
      "    posterior, abundance_list, element_list = posterior_function_predictions(changing_parameter,a)\n",
      "  File \"/home/philcox/Chempy/Chempy/cem_function.py\", line 492, in posterior_function_predictions\n",
      "    a = extract_parameters_and_priors(changing_parameter, a)\n",
      "  File \"/home/philcox/Chempy/Chempy/cem_function.py\", line 719, in extract_parameters_and_priors\n",
      "    assert False, '%s upper border is violated' %(name)\n",
      "AssertionError: log10_sn1a_time_delay upper border is violated\n"
     ]
    },
    {
     "name": "stdout",
     "output_type": "stream",
     "text": [
      "5.43874141976 2.30674233372\n",
      "calculation so far took 87.48166704177856  seconds\n",
      "step  122 of  1000\n"
     ]
    },
    {
     "name": "stderr",
     "output_type": "stream",
     "text": [
      "Traceback (most recent call last):\n",
      "  File \"/home/philcox/Chempy/Chempy/cem_function.py\", line 882, in posterior_function_many_stars\n",
      "    posterior, blobs = posterior_function_many_stars_real(changing_parameter,error_list,elements)\n",
      "  File \"/home/philcox/Chempy/Chempy/cem_function.py\", line 920, in posterior_function_many_stars_real\n",
      "    abundance_list,element_list = posterior_function_returning_predictions(args)\n",
      "  File \"/home/philcox/Chempy/Chempy/cem_function.py\", line 482, in posterior_function_returning_predictions\n",
      "    posterior, abundance_list, element_list = posterior_function_predictions(changing_parameter,a)\n",
      "  File \"/home/philcox/Chempy/Chempy/cem_function.py\", line 492, in posterior_function_predictions\n",
      "    a = extract_parameters_and_priors(changing_parameter, a)\n",
      "  File \"/home/philcox/Chempy/Chempy/cem_function.py\", line 717, in extract_parameters_and_priors\n",
      "    assert False, '%s lower border is violated' %(name)\n",
      "AssertionError: outflow_feedback_fraction lower border is violated\n"
     ]
    },
    {
     "name": "stdout",
     "output_type": "stream",
     "text": [
      "5.43874141976 2.36422711669\n",
      "calculation so far took 88.11972212791443  seconds\n",
      "step  123 of  1000\n",
      "5.43874141976 2.29656381499\n",
      "calculation so far took 88.74588179588318  seconds\n",
      "step  124 of  1000\n",
      "5.43874141976 2.33095170932\n",
      "calculation so far took 89.38052034378052  seconds\n",
      "step  125 of  1000\n",
      "5.43874141976 2.44021553608\n",
      "calculation so far took 90.1246862411499  seconds\n",
      "step  126 of  1000\n"
     ]
    },
    {
     "name": "stderr",
     "output_type": "stream",
     "text": [
      "Traceback (most recent call last):\n",
      "  File \"/home/philcox/Chempy/Chempy/cem_function.py\", line 882, in posterior_function_many_stars\n",
      "    posterior, blobs = posterior_function_many_stars_real(changing_parameter,error_list,elements)\n",
      "  File \"/home/philcox/Chempy/Chempy/cem_function.py\", line 920, in posterior_function_many_stars_real\n",
      "    abundance_list,element_list = posterior_function_returning_predictions(args)\n"
     ]
    },
    {
     "name": "stdout",
     "output_type": "stream",
     "text": [
      "5.43874141976 2.46124525552\n",
      "calculation so far took 90.84765815734863  seconds\n",
      "step  127 of  1000\n"
     ]
    },
    {
     "name": "stderr",
     "output_type": "stream",
     "text": [
      "  File \"/home/philcox/Chempy/Chempy/cem_function.py\", line 482, in posterior_function_returning_predictions\n",
      "    posterior, abundance_list, element_list = posterior_function_predictions(changing_parameter,a)\n",
      "  File \"/home/philcox/Chempy/Chempy/cem_function.py\", line 492, in posterior_function_predictions\n",
      "    a = extract_parameters_and_priors(changing_parameter, a)\n",
      "  File \"/home/philcox/Chempy/Chempy/cem_function.py\", line 717, in extract_parameters_and_priors\n",
      "    assert False, '%s lower border is violated' %(name)\n",
      "AssertionError: outflow_feedback_fraction lower border is violated\n"
     ]
    },
    {
     "name": "stdout",
     "output_type": "stream",
     "text": [
      "5.43874141976 2.35985416122\n",
      "calculation so far took 91.64393711090088  seconds\n",
      "step  128 of  1000\n"
     ]
    },
    {
     "name": "stderr",
     "output_type": "stream",
     "text": [
      "Traceback (most recent call last):\n",
      "  File \"/home/philcox/Chempy/Chempy/cem_function.py\", line 882, in posterior_function_many_stars\n",
      "    posterior, blobs = posterior_function_many_stars_real(changing_parameter,error_list,elements)\n",
      "  File \"/home/philcox/Chempy/Chempy/cem_function.py\", line 920, in posterior_function_many_stars_real\n",
      "    abundance_list,element_list = posterior_function_returning_predictions(args)\n",
      "  File \"/home/philcox/Chempy/Chempy/cem_function.py\", line 482, in posterior_function_returning_predictions\n",
      "    posterior, abundance_list, element_list = posterior_function_predictions(changing_parameter,a)\n",
      "  File \"/home/philcox/Chempy/Chempy/cem_function.py\", line 492, in posterior_function_predictions\n",
      "    a = extract_parameters_and_priors(changing_parameter, a)\n",
      "  File \"/home/philcox/Chempy/Chempy/cem_function.py\", line 719, in extract_parameters_and_priors\n",
      "    assert False, '%s upper border is violated' %(name)\n",
      "AssertionError: log10_sfr_scale upper border is violated\n"
     ]
    },
    {
     "name": "stdout",
     "output_type": "stream",
     "text": [
      "5.43874141976 2.28572053529\n",
      "calculation so far took 92.31366062164307  seconds\n",
      "step  129 of  1000\n",
      "5.43874141976 2.34322028682\n",
      "calculation so far took 93.12086343765259  seconds\n",
      "step  130 of  1000\n"
     ]
    },
    {
     "name": "stderr",
     "output_type": "stream",
     "text": [
      "Traceback (most recent call last):\n",
      "  File \"/home/philcox/Chempy/Chempy/cem_function.py\", line 882, in posterior_function_many_stars\n",
      "    posterior, blobs = posterior_function_many_stars_real(changing_parameter,error_list,elements)\n",
      "  File \"/home/philcox/Chempy/Chempy/cem_function.py\", line 920, in posterior_function_many_stars_real\n",
      "    abundance_list,element_list = posterior_function_returning_predictions(args)\n",
      "  File \"/home/philcox/Chempy/Chempy/cem_function.py\", line 482, in posterior_function_returning_predictions\n",
      "    posterior, abundance_list, element_list = posterior_function_predictions(changing_parameter,a)\n",
      "  File \"/home/philcox/Chempy/Chempy/cem_function.py\", line 492, in posterior_function_predictions\n",
      "    a = extract_parameters_and_priors(changing_parameter, a)\n",
      "  File \"/home/philcox/Chempy/Chempy/cem_function.py\", line 719, in extract_parameters_and_priors\n",
      "    assert False, '%s upper border is violated' %(name)\n",
      "AssertionError: log10_sn1a_time_delay upper border is violated\n"
     ]
    },
    {
     "name": "stdout",
     "output_type": "stream",
     "text": [
      "5.43874141976 2.33746439988\n",
      "calculation so far took 93.86427688598633  seconds\n",
      "step  131 of  1000\n",
      "5.43874141976 2.32487334949\n",
      "calculation so far took 94.5230484008789  seconds\n",
      "step  132 of  1000\n",
      "5.43874141976 2.32473274085\n",
      "calculation so far took 95.16645193099976  seconds\n",
      "step  133 of  1000\n"
     ]
    },
    {
     "name": "stderr",
     "output_type": "stream",
     "text": [
      "Traceback (most recent call last):\n",
      "  File \"/home/philcox/Chempy/Chempy/cem_function.py\", line 882, in posterior_function_many_stars\n",
      "    posterior, blobs = posterior_function_many_stars_real(changing_parameter,error_list,elements)\n",
      "  File \"/home/philcox/Chempy/Chempy/cem_function.py\", line 920, in posterior_function_many_stars_real\n",
      "    abundance_list,element_list = posterior_function_returning_predictions(args)\n",
      "  File \"/home/philcox/Chempy/Chempy/cem_function.py\", line 482, in posterior_function_returning_predictions\n",
      "    posterior, abundance_list, element_list = posterior_function_predictions(changing_parameter,a)\n",
      "  File \"/home/philcox/Chempy/Chempy/cem_function.py\", line 492, in posterior_function_predictions\n",
      "    a = extract_parameters_and_priors(changing_parameter, a)\n",
      "  File \"/home/philcox/Chempy/Chempy/cem_function.py\", line 719, in extract_parameters_and_priors\n",
      "    assert False, '%s upper border is violated' %(name)\n",
      "AssertionError: log10_sfr_scale upper border is violated\n",
      "Traceback (most recent call last):\n",
      "  File \"/home/philcox/Chempy/Chempy/cem_function.py\", line 882, in posterior_function_many_stars\n",
      "    posterior, blobs = posterior_function_many_stars_real(changing_parameter,error_list,elements)\n",
      "  File \"/home/philcox/Chempy/Chempy/cem_function.py\", line 920, in posterior_function_many_stars_real\n",
      "    abundance_list,element_list = posterior_function_returning_predictions(args)\n",
      "  File \"/home/philcox/Chempy/Chempy/cem_function.py\", line 482, in posterior_function_returning_predictions\n",
      "    posterior, abundance_list, element_list = posterior_function_predictions(changing_parameter,a)\n",
      "  File \"/home/philcox/Chempy/Chempy/cem_function.py\", line 492, in posterior_function_predictions\n",
      "    a = extract_parameters_and_priors(changing_parameter, a)\n",
      "  File \"/home/philcox/Chempy/Chempy/cem_function.py\", line 717, in extract_parameters_and_priors\n",
      "    assert False, '%s lower border is violated' %(name)\n",
      "AssertionError: outflow_feedback_fraction lower border is violated\n"
     ]
    },
    {
     "name": "stdout",
     "output_type": "stream",
     "text": [
      "5.43874141976 2.33935006318\n",
      "calculation so far took 95.847980260849  seconds\n",
      "step  134 of  1000\n",
      "5.43874141976 2.49246569886\n",
      "calculation so far took 96.80435156822205  seconds\n",
      "step  135 of  1000\n"
     ]
    },
    {
     "name": "stderr",
     "output_type": "stream",
     "text": [
      "Traceback (most recent call last):\n",
      "  File \"/home/philcox/Chempy/Chempy/cem_function.py\", line 882, in posterior_function_many_stars\n",
      "    posterior, blobs = posterior_function_many_stars_real(changing_parameter,error_list,elements)\n",
      "  File \"/home/philcox/Chempy/Chempy/cem_function.py\", line 920, in posterior_function_many_stars_real\n",
      "    abundance_list,element_list = posterior_function_returning_predictions(args)\n",
      "  File \"/home/philcox/Chempy/Chempy/cem_function.py\", line 482, in posterior_function_returning_predictions\n",
      "    posterior, abundance_list, element_list = posterior_function_predictions(changing_parameter,a)\n",
      "  File \"/home/philcox/Chempy/Chempy/cem_function.py\", line 492, in posterior_function_predictions\n",
      "    a = extract_parameters_and_priors(changing_parameter, a)\n",
      "  File \"/home/philcox/Chempy/Chempy/cem_function.py\", line 717, in extract_parameters_and_priors\n",
      "    assert False, '%s lower border is violated' %(name)\n",
      "AssertionError: outflow_feedback_fraction lower border is violated\n"
     ]
    },
    {
     "name": "stdout",
     "output_type": "stream",
     "text": [
      "5.43874141976 2.69258934226\n",
      "calculation so far took 97.59810328483582  seconds\n",
      "step  136 of  1000\n",
      "5.43874141976 2.56739650308\n",
      "calculation so far took 98.24391055107117  seconds\n",
      "step  137 of  1000\n",
      "5.43874141976 2.53335355778\n",
      "calculation so far took 98.86793684959412  seconds\n",
      "step  138 of  1000\n",
      "5.43874141976 2.83190332131\n",
      "calculation so far took 99.48554396629333  seconds\n",
      "step  139 of  1000\n",
      "5.43874141976 2.73846935131\n",
      "calculation so far took 100.1282377243042  seconds\n",
      "step  140 of  1000\n"
     ]
    },
    {
     "name": "stderr",
     "output_type": "stream",
     "text": [
      "Traceback (most recent call last):\n",
      "  File \"/home/philcox/Chempy/Chempy/cem_function.py\", line 882, in posterior_function_many_stars\n",
      "    posterior, blobs = posterior_function_many_stars_real(changing_parameter,error_list,elements)\n",
      "  File \"/home/philcox/Chempy/Chempy/cem_function.py\", line 920, in posterior_function_many_stars_real\n",
      "    abundance_list,element_list = posterior_function_returning_predictions(args)\n",
      "  File \"/home/philcox/Chempy/Chempy/cem_function.py\", line 482, in posterior_function_returning_predictions\n",
      "    posterior, abundance_list, element_list = posterior_function_predictions(changing_parameter,a)\n",
      "  File \"/home/philcox/Chempy/Chempy/cem_function.py\", line 507, in posterior_function_predictions\n",
      "    abundance_list,elements_to_trace = cem_real2(a)\n",
      "  File \"/home/philcox/Chempy/Chempy/cem_function.py\", line 337, in cem_real2\n",
      "    a = shorten_sfr(a)\n",
      "  File \"/home/philcox/Chempy/Chempy/cem_function.py\", line 130, in shorten_sfr\n",
      "    assert fraction_of_mean_sfr > 0.05, ('The total SFR of the last age bin is below 5% of the mean SFR', 'stellar identifier = ', a.stellar_identifier, 'star time = ', star_time, 'model time = ', time_model )\n",
      "AssertionError: ('The total SFR of the last age bin is below 5% of the mean SFR', 'stellar identifier = ', 'Proto-sun', 'star time = ', 8.9400000000000013, 'model time = ', 9.0)\n"
     ]
    },
    {
     "name": "stdout",
     "output_type": "stream",
     "text": [
      "5.43874141976 2.60675609932\n",
      "calculation so far took 100.79507780075073  seconds\n",
      "step  141 of  1000\n"
     ]
    },
    {
     "name": "stderr",
     "output_type": "stream",
     "text": [
      "Traceback (most recent call last):\n",
      "  File \"/home/philcox/Chempy/Chempy/cem_function.py\", line 882, in posterior_function_many_stars\n",
      "    posterior, blobs = posterior_function_many_stars_real(changing_parameter,error_list,elements)\n",
      "  File \"/home/philcox/Chempy/Chempy/cem_function.py\", line 920, in posterior_function_many_stars_real\n",
      "    abundance_list,element_list = posterior_function_returning_predictions(args)\n",
      "  File \"/home/philcox/Chempy/Chempy/cem_function.py\", line 482, in posterior_function_returning_predictions\n",
      "    posterior, abundance_list, element_list = posterior_function_predictions(changing_parameter,a)\n",
      "  File \"/home/philcox/Chempy/Chempy/cem_function.py\", line 492, in posterior_function_predictions\n",
      "    a = extract_parameters_and_priors(changing_parameter, a)\n",
      "  File \"/home/philcox/Chempy/Chempy/cem_function.py\", line 719, in extract_parameters_and_priors\n",
      "    assert False, '%s upper border is violated' %(name)\n",
      "AssertionError: log10_sfr_scale upper border is violated\n"
     ]
    },
    {
     "name": "stdout",
     "output_type": "stream",
     "text": [
      "5.43874141976 2.34139425822\n",
      "calculation so far took 101.48885035514832  seconds\n",
      "step  142 of  1000\n"
     ]
    },
    {
     "name": "stderr",
     "output_type": "stream",
     "text": [
      "Traceback (most recent call last):\n",
      "  File \"/home/philcox/Chempy/Chempy/cem_function.py\", line 882, in posterior_function_many_stars\n",
      "    posterior, blobs = posterior_function_many_stars_real(changing_parameter,error_list,elements)\n",
      "  File \"/home/philcox/Chempy/Chempy/cem_function.py\", line 920, in posterior_function_many_stars_real\n",
      "    abundance_list,element_list = posterior_function_returning_predictions(args)\n",
      "  File \"/home/philcox/Chempy/Chempy/cem_function.py\", line 482, in posterior_function_returning_predictions\n",
      "    posterior, abundance_list, element_list = posterior_function_predictions(changing_parameter,a)\n",
      "  File \"/home/philcox/Chempy/Chempy/cem_function.py\", line 492, in posterior_function_predictions\n",
      "    a = extract_parameters_and_priors(changing_parameter, a)\n",
      "  File \"/home/philcox/Chempy/Chempy/cem_function.py\", line 717, in extract_parameters_and_priors\n",
      "    assert False, '%s lower border is violated' %(name)\n",
      "AssertionError: outflow_feedback_fraction lower border is violated\n"
     ]
    },
    {
     "name": "stdout",
     "output_type": "stream",
     "text": [
      "5.43874141976 2.3250161364\n",
      "calculation so far took 102.16988396644592  seconds\n",
      "step  143 of  1000\n",
      "5.43874141976 2.26802796829\n",
      "calculation so far took 102.97425127029419  seconds\n",
      "step  144 of  1000\n",
      "5.43874141976 2.1663168925\n",
      "calculation so far took 103.65145921707153  seconds\n",
      "step  145 of  1000\n",
      "5.43874141976 2.14635351219\n",
      "calculation so far took 104.27383279800415  seconds\n",
      "step  146 of  1000\n",
      "5.43874141976 2.07903134582\n",
      "calculation so far took 104.91899585723877  seconds\n",
      "step  147 of  1000\n"
     ]
    },
    {
     "name": "stderr",
     "output_type": "stream",
     "text": [
      "Traceback (most recent call last):\n",
      "  File \"/home/philcox/Chempy/Chempy/cem_function.py\", line 882, in posterior_function_many_stars\n",
      "    posterior, blobs = posterior_function_many_stars_real(changing_parameter,error_list,elements)\n",
      "  File \"/home/philcox/Chempy/Chempy/cem_function.py\", line 920, in posterior_function_many_stars_real\n",
      "    abundance_list,element_list = posterior_function_returning_predictions(args)\n",
      "  File \"/home/philcox/Chempy/Chempy/cem_function.py\", line 482, in posterior_function_returning_predictions\n",
      "    posterior, abundance_list, element_list = posterior_function_predictions(changing_parameter,a)\n",
      "  File \"/home/philcox/Chempy/Chempy/cem_function.py\", line 492, in posterior_function_predictions\n",
      "    a = extract_parameters_and_priors(changing_parameter, a)\n",
      "  File \"/home/philcox/Chempy/Chempy/cem_function.py\", line 717, in extract_parameters_and_priors\n",
      "    assert False, '%s lower border is violated' %(name)\n",
      "AssertionError: outflow_feedback_fraction lower border is violated\n"
     ]
    },
    {
     "name": "stdout",
     "output_type": "stream",
     "text": [
      "5.43874141976 2.107184168\n",
      "calculation so far took 105.66609716415405  seconds\n",
      "step  148 of  1000\n",
      "5.43874141976 2.15997961775\n",
      "calculation so far took 106.32260346412659  seconds\n",
      "step  149 of  1000\n",
      "5.43874141976 2.10215557174\n",
      "calculation so far took 106.94221687316895  seconds\n",
      "step  150 of  1000\n"
     ]
    },
    {
     "name": "stderr",
     "output_type": "stream",
     "text": [
      "Traceback (most recent call last):\n",
      "  File \"/home/philcox/Chempy/Chempy/cem_function.py\", line 882, in posterior_function_many_stars\n",
      "    posterior, blobs = posterior_function_many_stars_real(changing_parameter,error_list,elements)\n",
      "  File \"/home/philcox/Chempy/Chempy/cem_function.py\", line 920, in posterior_function_many_stars_real\n",
      "    abundance_list,element_list = posterior_function_returning_predictions(args)\n",
      "  File \"/home/philcox/Chempy/Chempy/cem_function.py\", line 482, in posterior_function_returning_predictions\n",
      "    posterior, abundance_list, element_list = posterior_function_predictions(changing_parameter,a)\n",
      "  File \"/home/philcox/Chempy/Chempy/cem_function.py\", line 492, in posterior_function_predictions\n",
      "    a = extract_parameters_and_priors(changing_parameter, a)\n",
      "  File \"/home/philcox/Chempy/Chempy/cem_function.py\", line 717, in extract_parameters_and_priors\n",
      "    assert False, '%s lower border is violated' %(name)\n",
      "AssertionError: outflow_feedback_fraction lower border is violated\n"
     ]
    },
    {
     "name": "stdout",
     "output_type": "stream",
     "text": [
      "5.43874141976 2.2104536055\n",
      "calculation so far took 107.65411138534546  seconds\n",
      "step  151 of  1000\n"
     ]
    },
    {
     "name": "stderr",
     "output_type": "stream",
     "text": [
      "Traceback (most recent call last):\n",
      "  File \"/home/philcox/Chempy/Chempy/cem_function.py\", line 882, in posterior_function_many_stars\n",
      "    posterior, blobs = posterior_function_many_stars_real(changing_parameter,error_list,elements)\n",
      "  File \"/home/philcox/Chempy/Chempy/cem_function.py\", line 920, in posterior_function_many_stars_real\n",
      "    abundance_list,element_list = posterior_function_returning_predictions(args)\n",
      "  File \"/home/philcox/Chempy/Chempy/cem_function.py\", line 482, in posterior_function_returning_predictions\n",
      "    posterior, abundance_list, element_list = posterior_function_predictions(changing_parameter,a)\n",
      "  File \"/home/philcox/Chempy/Chempy/cem_function.py\", line 492, in posterior_function_predictions\n",
      "    a = extract_parameters_and_priors(changing_parameter, a)\n",
      "  File \"/home/philcox/Chempy/Chempy/cem_function.py\", line 717, in extract_parameters_and_priors\n",
      "    assert False, '%s lower border is violated' %(name)\n",
      "AssertionError: outflow_feedback_fraction lower border is violated\n"
     ]
    },
    {
     "name": "stdout",
     "output_type": "stream",
     "text": [
      "5.43874141976 2.16480995258\n",
      "calculation so far took 108.34472584724426  seconds\n",
      "step  152 of  1000\n",
      "5.43874141976 2.30430469707\n",
      "calculation so far took 108.98173832893372  seconds\n",
      "step  153 of  1000\n"
     ]
    },
    {
     "name": "stderr",
     "output_type": "stream",
     "text": [
      "Traceback (most recent call last):\n",
      "  File \"/home/philcox/Chempy/Chempy/cem_function.py\", line 882, in posterior_function_many_stars\n",
      "    posterior, blobs = posterior_function_many_stars_real(changing_parameter,error_list,elements)\n",
      "  File \"/home/philcox/Chempy/Chempy/cem_function.py\", line 920, in posterior_function_many_stars_real\n",
      "    abundance_list,element_list = posterior_function_returning_predictions(args)\n",
      "  File \"/home/philcox/Chempy/Chempy/cem_function.py\", line 482, in posterior_function_returning_predictions\n",
      "    posterior, abundance_list, element_list = posterior_function_predictions(changing_parameter,a)\n",
      "  File \"/home/philcox/Chempy/Chempy/cem_function.py\", line 492, in posterior_function_predictions\n",
      "    a = extract_parameters_and_priors(changing_parameter, a)\n",
      "  File \"/home/philcox/Chempy/Chempy/cem_function.py\", line 717, in extract_parameters_and_priors\n",
      "    assert False, '%s lower border is violated' %(name)\n",
      "AssertionError: outflow_feedback_fraction lower border is violated\n"
     ]
    },
    {
     "name": "stdout",
     "output_type": "stream",
     "text": [
      "5.43874141976 2.43138857028\n",
      "calculation so far took 109.60006046295166  seconds\n",
      "step  154 of  1000\n"
     ]
    },
    {
     "name": "stderr",
     "output_type": "stream",
     "text": [
      "Traceback (most recent call last):\n",
      "  File \"/home/philcox/Chempy/Chempy/cem_function.py\", line 882, in posterior_function_many_stars\n",
      "    posterior, blobs = posterior_function_many_stars_real(changing_parameter,error_list,elements)\n",
      "  File \"/home/philcox/Chempy/Chempy/cem_function.py\", line 920, in posterior_function_many_stars_real\n",
      "    abundance_list,element_list = posterior_function_returning_predictions(args)\n",
      "  File \"/home/philcox/Chempy/Chempy/cem_function.py\", line 482, in posterior_function_returning_predictions\n",
      "    posterior, abundance_list, element_list = posterior_function_predictions(changing_parameter,a)\n",
      "  File \"/home/philcox/Chempy/Chempy/cem_function.py\", line 492, in posterior_function_predictions\n",
      "    a = extract_parameters_and_priors(changing_parameter, a)\n",
      "  File \"/home/philcox/Chempy/Chempy/cem_function.py\", line 717, in extract_parameters_and_priors\n",
      "    assert False, '%s lower border is violated' %(name)\n",
      "AssertionError: outflow_feedback_fraction lower border is violated\n"
     ]
    },
    {
     "name": "stdout",
     "output_type": "stream",
     "text": [
      "5.43874141976 2.23852472152\n",
      "calculation so far took 110.23831152915955  seconds\n",
      "step  155 of  1000\n"
     ]
    },
    {
     "name": "stderr",
     "output_type": "stream",
     "text": [
      "Traceback (most recent call last):\n",
      "  File \"/home/philcox/Chempy/Chempy/cem_function.py\", line 882, in posterior_function_many_stars\n",
      "    posterior, blobs = posterior_function_many_stars_real(changing_parameter,error_list,elements)\n",
      "  File \"/home/philcox/Chempy/Chempy/cem_function.py\", line 920, in posterior_function_many_stars_real\n",
      "    abundance_list,element_list = posterior_function_returning_predictions(args)\n",
      "  File \"/home/philcox/Chempy/Chempy/cem_function.py\", line 482, in posterior_function_returning_predictions\n",
      "    posterior, abundance_list, element_list = posterior_function_predictions(changing_parameter,a)\n",
      "  File \"/home/philcox/Chempy/Chempy/cem_function.py\", line 492, in posterior_function_predictions\n",
      "    a = extract_parameters_and_priors(changing_parameter, a)\n",
      "  File \"/home/philcox/Chempy/Chempy/cem_function.py\", line 719, in extract_parameters_and_priors\n",
      "    assert False, '%s upper border is violated' %(name)\n",
      "AssertionError: log10_sfr_scale upper border is violated\n",
      "Traceback (most recent call last):\n",
      "  File \"/home/philcox/Chempy/Chempy/cem_function.py\", line 882, in posterior_function_many_stars\n",
      "    posterior, blobs = posterior_function_many_stars_real(changing_parameter,error_list,elements)\n",
      "  File \"/home/philcox/Chempy/Chempy/cem_function.py\", line 920, in posterior_function_many_stars_real\n",
      "    abundance_list,element_list = posterior_function_returning_predictions(args)\n",
      "  File \"/home/philcox/Chempy/Chempy/cem_function.py\", line 482, in posterior_function_returning_predictions\n",
      "    posterior, abundance_list, element_list = posterior_function_predictions(changing_parameter,a)\n",
      "  File \"/home/philcox/Chempy/Chempy/cem_function.py\", line 507, in posterior_function_predictions\n",
      "    abundance_list,elements_to_trace = cem_real2(a)\n",
      "  File \"/home/philcox/Chempy/Chempy/cem_function.py\", line 337, in cem_real2\n",
      "    a = shorten_sfr(a)\n",
      "  File \"/home/philcox/Chempy/Chempy/cem_function.py\", line 130, in shorten_sfr\n",
      "    assert fraction_of_mean_sfr > 0.05, ('The total SFR of the last age bin is below 5% of the mean SFR', 'stellar identifier = ', a.stellar_identifier, 'star time = ', star_time, 'model time = ', time_model )\n",
      "AssertionError: ('The total SFR of the last age bin is below 5% of the mean SFR', 'stellar identifier = ', 'Proto-sun', 'star time = ', 8.9400000000000013, 'model time = ', 9.0)\n",
      "Traceback (most recent call last):\n",
      "  File \"/home/philcox/Chempy/Chempy/cem_function.py\", line 882, in posterior_function_many_stars\n",
      "    posterior, blobs = posterior_function_many_stars_real(changing_parameter,error_list,elements)\n",
      "  File \"/home/philcox/Chempy/Chempy/cem_function.py\", line 920, in posterior_function_many_stars_real\n",
      "    abundance_list,element_list = posterior_function_returning_predictions(args)\n",
      "  File \"/home/philcox/Chempy/Chempy/cem_function.py\", line 482, in posterior_function_returning_predictions\n",
      "    posterior, abundance_list, element_list = posterior_function_predictions(changing_parameter,a)\n",
      "  File \"/home/philcox/Chempy/Chempy/cem_function.py\", line 492, in posterior_function_predictions\n",
      "    a = extract_parameters_and_priors(changing_parameter, a)\n",
      "  File \"/home/philcox/Chempy/Chempy/cem_function.py\", line 719, in extract_parameters_and_priors\n",
      "    assert False, '%s upper border is violated' %(name)\n",
      "AssertionError: log10_sfr_scale upper border is violated\n"
     ]
    },
    {
     "name": "stdout",
     "output_type": "stream",
     "text": [
      "5.43874141976 2.14638568483\n",
      "calculation so far took 110.96342968940735  seconds\n",
      "step  156 of  1000\n",
      "5.43874141976 2.20687183927\n",
      "calculation so far took 111.95561456680298  seconds\n",
      "step  157 of  1000\n",
      "5.43874141976 2.30931153044\n",
      "calculation so far took 112.57263994216919  seconds\n",
      "step  158 of  1000\n",
      "5.43874141976 2.37232705799\n",
      "calculation so far took 113.18995976448059  seconds\n",
      "step  159 of  1000\n",
      "5.43874141976 2.44446585362\n",
      "calculation so far took 113.83913707733154  seconds\n",
      "step  160 of  1000\n",
      "5.43874141976 2.55741383095\n",
      "calculation so far took 114.52680468559265  seconds\n",
      "step  161 of  1000\n",
      "5.43874141976 2.54192387418\n",
      "calculation so far took 115.21509289741516  seconds\n",
      "step  162 of  1000\n",
      "5.43874141976 2.55636591174\n",
      "calculation so far took 115.85776901245117  seconds\n",
      "step  163 of  1000\n",
      "5.43874141976 2.79793956235\n",
      "calculation so far took 116.47336196899414  seconds\n",
      "step  164 of  1000\n",
      "5.43874141976 2.8444810241\n",
      "calculation so far took 117.0873167514801  seconds\n",
      "step  165 of  1000\n",
      "5.43874141976 2.79874330997\n",
      "calculation so far took 117.70932531356812  seconds\n",
      "step  166 of  1000\n",
      "5.43874141976 2.96969286332\n",
      "calculation so far took 118.37276983261108  seconds\n",
      "step  167 of  1000\n",
      "5.43874141976 2.55342627294\n",
      "calculation so far took 119.01548933982849  seconds\n",
      "step  168 of  1000\n",
      "5.43874141976 2.58945292062\n",
      "calculation so far took 119.68249583244324  seconds\n",
      "step  169 of  1000\n"
     ]
    },
    {
     "name": "stderr",
     "output_type": "stream",
     "text": [
      "Traceback (most recent call last):\n",
      "  File \"/home/philcox/Chempy/Chempy/cem_function.py\", line 882, in posterior_function_many_stars\n",
      "    posterior, blobs = posterior_function_many_stars_real(changing_parameter,error_list,elements)\n",
      "  File \"/home/philcox/Chempy/Chempy/cem_function.py\", line 920, in posterior_function_many_stars_real\n",
      "    abundance_list,element_list = posterior_function_returning_predictions(args)\n",
      "  File \"/home/philcox/Chempy/Chempy/cem_function.py\", line 482, in posterior_function_returning_predictions\n",
      "    posterior, abundance_list, element_list = posterior_function_predictions(changing_parameter,a)\n",
      "  File \"/home/philcox/Chempy/Chempy/cem_function.py\", line 492, in posterior_function_predictions\n",
      "    a = extract_parameters_and_priors(changing_parameter, a)\n",
      "  File \"/home/philcox/Chempy/Chempy/cem_function.py\", line 717, in extract_parameters_and_priors\n",
      "    assert False, '%s lower border is violated' %(name)\n",
      "AssertionError: outflow_feedback_fraction lower border is violated\n"
     ]
    },
    {
     "name": "stdout",
     "output_type": "stream",
     "text": [
      "5.43874141976 2.63671436974\n",
      "calculation so far took 120.39512348175049  seconds\n",
      "step  170 of  1000\n",
      "5.43874141976 2.59323626461\n",
      "calculation so far took 121.03458952903748  seconds\n",
      "step  171 of  1000\n",
      "5.43874141976 2.635604142\n",
      "calculation so far took 121.64912271499634  seconds\n",
      "step  172 of  1000\n",
      "5.43874141976 2.62260576035\n",
      "calculation so far took 122.27877068519592  seconds\n",
      "step  173 of  1000\n"
     ]
    },
    {
     "name": "stderr",
     "output_type": "stream",
     "text": [
      "Traceback (most recent call last):\n",
      "  File \"/home/philcox/Chempy/Chempy/cem_function.py\", line 882, in posterior_function_many_stars\n",
      "    posterior, blobs = posterior_function_many_stars_real(changing_parameter,error_list,elements)\n",
      "  File \"/home/philcox/Chempy/Chempy/cem_function.py\", line 920, in posterior_function_many_stars_real\n",
      "    abundance_list,element_list = posterior_function_returning_predictions(args)\n",
      "  File \"/home/philcox/Chempy/Chempy/cem_function.py\", line 482, in posterior_function_returning_predictions\n",
      "    posterior, abundance_list, element_list = posterior_function_predictions(changing_parameter,a)\n",
      "  File \"/home/philcox/Chempy/Chempy/cem_function.py\", line 492, in posterior_function_predictions\n",
      "    a = extract_parameters_and_priors(changing_parameter, a)\n",
      "  File \"/home/philcox/Chempy/Chempy/cem_function.py\", line 719, in extract_parameters_and_priors\n",
      "    assert False, '%s upper border is violated' %(name)\n",
      "AssertionError: log10_N_0 upper border is violated\n"
     ]
    },
    {
     "name": "stdout",
     "output_type": "stream",
     "text": [
      "5.43874141976 2.54144955437\n",
      "calculation so far took 123.02886462211609  seconds\n",
      "step  174 of  1000\n"
     ]
    },
    {
     "name": "stderr",
     "output_type": "stream",
     "text": [
      "Traceback (most recent call last):\n",
      "  File \"/home/philcox/Chempy/Chempy/cem_function.py\", line 882, in posterior_function_many_stars\n",
      "    posterior, blobs = posterior_function_many_stars_real(changing_parameter,error_list,elements)\n",
      "  File \"/home/philcox/Chempy/Chempy/cem_function.py\", line 920, in posterior_function_many_stars_real\n",
      "    abundance_list,element_list = posterior_function_returning_predictions(args)\n",
      "  File \"/home/philcox/Chempy/Chempy/cem_function.py\", line 482, in posterior_function_returning_predictions\n",
      "    posterior, abundance_list, element_list = posterior_function_predictions(changing_parameter,a)\n",
      "  File \"/home/philcox/Chempy/Chempy/cem_function.py\", line 492, in posterior_function_predictions\n",
      "    a = extract_parameters_and_priors(changing_parameter, a)\n",
      "  File \"/home/philcox/Chempy/Chempy/cem_function.py\", line 717, in extract_parameters_and_priors\n",
      "    assert False, '%s lower border is violated' %(name)\n",
      "AssertionError: outflow_feedback_fraction lower border is violated\n",
      "Traceback (most recent call last):\n",
      "  File \"/home/philcox/Chempy/Chempy/cem_function.py\", line 882, in posterior_function_many_stars\n",
      "    posterior, blobs = posterior_function_many_stars_real(changing_parameter,error_list,elements)\n",
      "  File \"/home/philcox/Chempy/Chempy/cem_function.py\", line 920, in posterior_function_many_stars_real\n",
      "    abundance_list,element_list = posterior_function_returning_predictions(args)\n",
      "  File \"/home/philcox/Chempy/Chempy/cem_function.py\", line 482, in posterior_function_returning_predictions\n",
      "    posterior, abundance_list, element_list = posterior_function_predictions(changing_parameter,a)\n",
      "  File \"/home/philcox/Chempy/Chempy/cem_function.py\", line 492, in posterior_function_predictions\n",
      "    a = extract_parameters_and_priors(changing_parameter, a)\n",
      "  File \"/home/philcox/Chempy/Chempy/cem_function.py\", line 719, in extract_parameters_and_priors\n",
      "    assert False, '%s upper border is violated' %(name)\n",
      "AssertionError: log10_N_0 upper border is violated\n"
     ]
    },
    {
     "name": "stdout",
     "output_type": "stream",
     "text": [
      "5.43874141976 2.78371251426\n",
      "calculation so far took 123.79040002822876  seconds\n",
      "step  175 of  1000\n",
      "5.43874141976 2.83035951999\n",
      "calculation so far took 124.50012230873108  seconds\n",
      "step  176 of  1000\n",
      "5.43874141976 2.64687835163\n",
      "calculation so far took 125.32538294792175  seconds\n",
      "step  177 of  1000\n"
     ]
    },
    {
     "name": "stderr",
     "output_type": "stream",
     "text": [
      "Traceback (most recent call last):\n",
      "  File \"/home/philcox/Chempy/Chempy/cem_function.py\", line 882, in posterior_function_many_stars\n",
      "    posterior, blobs = posterior_function_many_stars_real(changing_parameter,error_list,elements)\n",
      "  File \"/home/philcox/Chempy/Chempy/cem_function.py\", line 920, in posterior_function_many_stars_real\n",
      "    abundance_list,element_list = posterior_function_returning_predictions(args)\n",
      "  File \"/home/philcox/Chempy/Chempy/cem_function.py\", line 482, in posterior_function_returning_predictions\n",
      "    posterior, abundance_list, element_list = posterior_function_predictions(changing_parameter,a)\n",
      "  File \"/home/philcox/Chempy/Chempy/cem_function.py\", line 492, in posterior_function_predictions\n",
      "    a = extract_parameters_and_priors(changing_parameter, a)\n",
      "  File \"/home/philcox/Chempy/Chempy/cem_function.py\", line 717, in extract_parameters_and_priors\n",
      "    assert False, '%s lower border is violated' %(name)\n",
      "AssertionError: outflow_feedback_fraction lower border is violated\n"
     ]
    },
    {
     "name": "stdout",
     "output_type": "stream",
     "text": [
      "5.43874141976 2.55678191827\n",
      "calculation so far took 126.22117757797241  seconds\n",
      "step  178 of  1000\n"
     ]
    },
    {
     "name": "stderr",
     "output_type": "stream",
     "text": [
      "Traceback (most recent call last):\n",
      "  File \"/home/philcox/Chempy/Chempy/cem_function.py\", line 882, in posterior_function_many_stars\n",
      "    posterior, blobs = posterior_function_many_stars_real(changing_parameter,error_list,elements)\n",
      "  File \"/home/philcox/Chempy/Chempy/cem_function.py\", line 920, in posterior_function_many_stars_real\n",
      "    abundance_list,element_list = posterior_function_returning_predictions(args)\n",
      "  File \"/home/philcox/Chempy/Chempy/cem_function.py\", line 482, in posterior_function_returning_predictions\n",
      "    posterior, abundance_list, element_list = posterior_function_predictions(changing_parameter,a)\n",
      "  File \"/home/philcox/Chempy/Chempy/cem_function.py\", line 492, in posterior_function_predictions\n",
      "    a = extract_parameters_and_priors(changing_parameter, a)\n",
      "  File \"/home/philcox/Chempy/Chempy/cem_function.py\", line 719, in extract_parameters_and_priors\n",
      "    assert False, '%s upper border is violated' %(name)\n",
      "AssertionError: outflow_feedback_fraction upper border is violated\n"
     ]
    },
    {
     "name": "stdout",
     "output_type": "stream",
     "text": [
      "5.43874141976 2.16190416444\n",
      "calculation so far took 127.03787803649902  seconds\n",
      "step  179 of  1000\n"
     ]
    },
    {
     "name": "stderr",
     "output_type": "stream",
     "text": [
      "Traceback (most recent call last):\n",
      "  File \"/home/philcox/Chempy/Chempy/cem_function.py\", line 882, in posterior_function_many_stars\n",
      "    posterior, blobs = posterior_function_many_stars_real(changing_parameter,error_list,elements)\n",
      "  File \"/home/philcox/Chempy/Chempy/cem_function.py\", line 920, in posterior_function_many_stars_real\n",
      "    abundance_list,element_list = posterior_function_returning_predictions(args)\n",
      "  File \"/home/philcox/Chempy/Chempy/cem_function.py\", line 482, in posterior_function_returning_predictions\n",
      "    posterior, abundance_list, element_list = posterior_function_predictions(changing_parameter,a)\n",
      "  File \"/home/philcox/Chempy/Chempy/cem_function.py\", line 492, in posterior_function_predictions\n",
      "    a = extract_parameters_and_priors(changing_parameter, a)\n",
      "  File \"/home/philcox/Chempy/Chempy/cem_function.py\", line 719, in extract_parameters_and_priors\n",
      "    assert False, '%s upper border is violated' %(name)\n",
      "AssertionError: outflow_feedback_fraction upper border is violated\n",
      "Traceback (most recent call last):\n",
      "  File \"/home/philcox/Chempy/Chempy/cem_function.py\", line 882, in posterior_function_many_stars\n",
      "    posterior, blobs = posterior_function_many_stars_real(changing_parameter,error_list,elements)\n",
      "  File \"/home/philcox/Chempy/Chempy/cem_function.py\", line 920, in posterior_function_many_stars_real\n",
      "    abundance_list,element_list = posterior_function_returning_predictions(args)\n",
      "  File \"/home/philcox/Chempy/Chempy/cem_function.py\", line 482, in posterior_function_returning_predictions\n",
      "    posterior, abundance_list, element_list = posterior_function_predictions(changing_parameter,a)\n",
      "  File \"/home/philcox/Chempy/Chempy/cem_function.py\", line 507, in posterior_function_predictions\n",
      "    abundance_list,elements_to_trace = cem_real2(a)\n",
      "  File \"/home/philcox/Chempy/Chempy/cem_function.py\", line 337, in cem_real2\n",
      "    a = shorten_sfr(a)\n",
      "  File \"/home/philcox/Chempy/Chempy/cem_function.py\", line 130, in shorten_sfr\n",
      "    assert fraction_of_mean_sfr > 0.05, ('The total SFR of the last age bin is below 5% of the mean SFR', 'stellar identifier = ', a.stellar_identifier, 'star time = ', star_time, 'model time = ', time_model )\n",
      "AssertionError: ('The total SFR of the last age bin is below 5% of the mean SFR', 'stellar identifier = ', 'Proto-sun', 'star time = ', 8.9400000000000013, 'model time = ', 9.0)\n"
     ]
    },
    {
     "name": "stdout",
     "output_type": "stream",
     "text": [
      "5.43874141976 2.10807754339\n",
      "calculation so far took 127.81845426559448  seconds\n",
      "step  180 of  1000\n",
      "5.43874141976 2.1355004213\n",
      "calculation so far took 128.5421347618103  seconds\n",
      "step  181 of  1000\n"
     ]
    },
    {
     "name": "stderr",
     "output_type": "stream",
     "text": [
      "Traceback (most recent call last):\n",
      "  File \"/home/philcox/Chempy/Chempy/cem_function.py\", line 882, in posterior_function_many_stars\n",
      "    posterior, blobs = posterior_function_many_stars_real(changing_parameter,error_list,elements)\n",
      "  File \"/home/philcox/Chempy/Chempy/cem_function.py\", line 920, in posterior_function_many_stars_real\n",
      "    abundance_list,element_list = posterior_function_returning_predictions(args)\n",
      "  File \"/home/philcox/Chempy/Chempy/cem_function.py\", line 482, in posterior_function_returning_predictions\n",
      "    posterior, abundance_list, element_list = posterior_function_predictions(changing_parameter,a)\n",
      "  File \"/home/philcox/Chempy/Chempy/cem_function.py\", line 492, in posterior_function_predictions\n",
      "    a = extract_parameters_and_priors(changing_parameter, a)\n",
      "  File \"/home/philcox/Chempy/Chempy/cem_function.py\", line 719, in extract_parameters_and_priors\n",
      "    assert False, '%s upper border is violated' %(name)\n",
      "AssertionError: log10_N_0 upper border is violated\n",
      "Traceback (most recent call last):\n",
      "  File \"/home/philcox/Chempy/Chempy/cem_function.py\", line 882, in posterior_function_many_stars\n",
      "    posterior, blobs = posterior_function_many_stars_real(changing_parameter,error_list,elements)\n",
      "  File \"/home/philcox/Chempy/Chempy/cem_function.py\", line 920, in posterior_function_many_stars_real\n",
      "    abundance_list,element_list = posterior_function_returning_predictions(args)\n",
      "  File \"/home/philcox/Chempy/Chempy/cem_function.py\", line 482, in posterior_function_returning_predictions\n",
      "    posterior, abundance_list, element_list = posterior_function_predictions(changing_parameter,a)\n",
      "Traceback (most recent call last):\n",
      "  File \"/home/philcox/Chempy/Chempy/cem_function.py\", line 492, in posterior_function_predictions\n",
      "    a = extract_parameters_and_priors(changing_parameter, a)\n",
      "  File \"/home/philcox/Chempy/Chempy/cem_function.py\", line 717, in extract_parameters_and_priors\n",
      "    assert False, '%s lower border is violated' %(name)\n",
      "  File \"/home/philcox/Chempy/Chempy/cem_function.py\", line 882, in posterior_function_many_stars\n",
      "    posterior, blobs = posterior_function_many_stars_real(changing_parameter,error_list,elements)\n",
      "  File \"/home/philcox/Chempy/Chempy/cem_function.py\", line 920, in posterior_function_many_stars_real\n",
      "    abundance_list,element_list = posterior_function_returning_predictions(args)\n"
     ]
    },
    {
     "name": "stdout",
     "output_type": "stream",
     "text": [
      "5.43874141976 2.16524892129\n",
      "calculation so far took 129.2172932624817  seconds\n",
      "step  182 of  1000\n"
     ]
    },
    {
     "name": "stderr",
     "output_type": "stream",
     "text": [
      "  File \"/home/philcox/Chempy/Chempy/cem_function.py\", line 482, in posterior_function_returning_predictions\n",
      "    posterior, abundance_list, element_list = posterior_function_predictions(changing_parameter,a)\n",
      "  File \"/home/philcox/Chempy/Chempy/cem_function.py\", line 492, in posterior_function_predictions\n",
      "    a = extract_parameters_and_priors(changing_parameter, a)\n",
      "AssertionError: outflow_feedback_fraction lower border is violated\n",
      "  File \"/home/philcox/Chempy/Chempy/cem_function.py\", line 719, in extract_parameters_and_priors\n",
      "    assert False, '%s upper border is violated' %(name)\n",
      "AssertionError: outflow_feedback_fraction upper border is violated\n",
      "Traceback (most recent call last):\n",
      "  File \"/home/philcox/Chempy/Chempy/cem_function.py\", line 882, in posterior_function_many_stars\n",
      "    posterior, blobs = posterior_function_many_stars_real(changing_parameter,error_list,elements)\n",
      "  File \"/home/philcox/Chempy/Chempy/cem_function.py\", line 920, in posterior_function_many_stars_real\n",
      "    abundance_list,element_list = posterior_function_returning_predictions(args)\n",
      "  File \"/home/philcox/Chempy/Chempy/cem_function.py\", line 482, in posterior_function_returning_predictions\n",
      "    posterior, abundance_list, element_list = posterior_function_predictions(changing_parameter,a)\n",
      "  File \"/home/philcox/Chempy/Chempy/cem_function.py\", line 507, in posterior_function_predictions\n",
      "    abundance_list,elements_to_trace = cem_real2(a)\n",
      "  File \"/home/philcox/Chempy/Chempy/cem_function.py\", line 337, in cem_real2\n",
      "    a = shorten_sfr(a)\n",
      "  File \"/home/philcox/Chempy/Chempy/cem_function.py\", line 130, in shorten_sfr\n",
      "    assert fraction_of_mean_sfr > 0.05, ('The total SFR of the last age bin is below 5% of the mean SFR', 'stellar identifier = ', a.stellar_identifier, 'star time = ', star_time, 'model time = ', time_model )\n",
      "AssertionError: ('The total SFR of the last age bin is below 5% of the mean SFR', 'stellar identifier = ', 'Proto-sun', 'star time = ', 8.9400000000000013, 'model time = ', 9.0)\n"
     ]
    },
    {
     "name": "stdout",
     "output_type": "stream",
     "text": [
      "5.43874141976 2.14449509772\n",
      "calculation so far took 129.9738416671753  seconds\n",
      "step  183 of  1000\n",
      "5.43874141976 2.19242293918\n",
      "calculation so far took 130.7058925628662  seconds\n",
      "step  184 of  1000\n",
      "5.43874141976 2.54672485421\n",
      "calculation so far took 131.49653935432434  seconds\n",
      "step  185 of  1000\n",
      "5.43874141976 2.67241265283\n",
      "calculation so far took 132.22060537338257  seconds\n",
      "step  186 of  1000\n",
      "5.43874141976 2.6794813198\n",
      "calculation so far took 132.86161971092224  seconds\n",
      "step  187 of  1000\n",
      "5.43874141976 2.58676908036\n",
      "calculation so far took 133.60625433921814  seconds\n",
      "step  188 of  1000\n",
      "5.43874141976 2.5727586365\n",
      "calculation so far took 134.45664811134338  seconds\n",
      "step  189 of  1000\n",
      "5.43874141976 2.6560276483\n",
      "calculation so far took 135.511088848114  seconds\n",
      "step  190 of  1000\n",
      "5.43874141976 2.71756452536\n",
      "calculation so far took 136.3264079093933  seconds\n",
      "step  191 of  1000\n"
     ]
    },
    {
     "name": "stderr",
     "output_type": "stream",
     "text": [
      "Traceback (most recent call last):\n",
      "  File \"/home/philcox/Chempy/Chempy/cem_function.py\", line 882, in posterior_function_many_stars\n",
      "    posterior, blobs = posterior_function_many_stars_real(changing_parameter,error_list,elements)\n",
      "  File \"/home/philcox/Chempy/Chempy/cem_function.py\", line 920, in posterior_function_many_stars_real\n",
      "    abundance_list,element_list = posterior_function_returning_predictions(args)\n",
      "  File \"/home/philcox/Chempy/Chempy/cem_function.py\", line 482, in posterior_function_returning_predictions\n",
      "    posterior, abundance_list, element_list = posterior_function_predictions(changing_parameter,a)\n",
      "  File \"/home/philcox/Chempy/Chempy/cem_function.py\", line 507, in posterior_function_predictions\n",
      "    abundance_list,elements_to_trace = cem_real2(a)\n",
      "  File \"/home/philcox/Chempy/Chempy/cem_function.py\", line 337, in cem_real2\n",
      "    a = shorten_sfr(a)\n",
      "  File \"/home/philcox/Chempy/Chempy/cem_function.py\", line 130, in shorten_sfr\n",
      "    assert fraction_of_mean_sfr > 0.05, ('The total SFR of the last age bin is below 5% of the mean SFR', 'stellar identifier = ', a.stellar_identifier, 'star time = ', star_time, 'model time = ', time_model )\n",
      "AssertionError: ('The total SFR of the last age bin is below 5% of the mean SFR', 'stellar identifier = ', 'Proto-sun', 'star time = ', 8.9400000000000013, 'model time = ', 9.0)\n"
     ]
    }
   ],
   "source": [
    "from Chempy.wrapper import multi_star_optimization\n",
    "from Chempy.plot_mcmc import plot_mcmc_chain_with_prior,restructure_chain\n",
    "abundances = multi_star_optimization()\n",
    "restructure_chain('mcmc/')\n",
    "plot_mcmc_chain_with_prior('mcmc/',use_prior=True,only_first_star = False,plot_true_parameters=False,plot_only_SSP_parameter=False)"
   ]
  },
  {
   "cell_type": "code",
   "execution_count": null,
   "metadata": {
    "collapsed": true
   },
   "outputs": [],
   "source": []
  },
  {
   "cell_type": "code",
   "execution_count": null,
   "metadata": {
    "collapsed": true
   },
   "outputs": [],
   "source": []
  },
  {
   "cell_type": "code",
   "execution_count": null,
   "metadata": {
    "collapsed": true
   },
   "outputs": [],
   "source": []
  },
  {
   "cell_type": "code",
   "execution_count": null,
   "metadata": {
    "collapsed": true
   },
   "outputs": [],
   "source": []
  },
  {
   "cell_type": "code",
   "execution_count": null,
   "metadata": {
    "collapsed": true
   },
   "outputs": [],
   "source": []
  }
 ],
 "metadata": {
  "kernelspec": {
   "display_name": "Python 3",
   "language": "python",
   "name": "python3"
  },
  "language_info": {
   "codemirror_mode": {
    "name": "ipython",
    "version": 3
   },
   "file_extension": ".py",
   "mimetype": "text/x-python",
   "name": "python",
   "nbconvert_exporter": "python",
   "pygments_lexer": "ipython3",
   "version": "3.6.1"
  }
 },
 "nbformat": 4,
 "nbformat_minor": 2
}
