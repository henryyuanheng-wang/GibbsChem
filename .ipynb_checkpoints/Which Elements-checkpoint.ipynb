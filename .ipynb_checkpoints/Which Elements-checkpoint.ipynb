{
 "cells": [
  {
   "cell_type": "markdown",
   "metadata": {},
   "source": [
    "## Create wildcard for new elements\n",
    "- Use all available elements (i.e. CC-SN and SN-Ia have elements up to Ge loaded)\n",
    "- Exclude H (since normalizing element), Li,Be,B since modified in atmosphere\n",
    "- This gives 28 elements"
   ]
  },
  {
   "cell_type": "code",
   "execution_count": null,
   "metadata": {
    "collapsed": true
   },
   "outputs": [],
   "source": [
    "%pylab inline"
   ]
  },
  {
   "cell_type": "code",
   "execution_count": null,
   "metadata": {
    "collapsed": true
   },
   "outputs": [],
   "source": [
    "list_of_elements = ['He','C', 'N', 'O', 'F','Ne','Na', 'Mg', 'Al', 'Si', 'P','S', 'Cl','Ar','K', 'Ca','Sc','Ti', 'V', 'Cr', 'Mn', 'Fe', 'Co', 'Ni','Cu','Zn','Ga','Ge']#, 'Zn','Y', 'Ba']# Runs with sun\n"
   ]
  },
  {
   "cell_type": "code",
   "execution_count": null,
   "metadata": {
    "collapsed": true
   },
   "outputs": [],
   "source": [
    "basic_solar.table['Symbol'][0]"
   ]
  },
  {
   "cell_type": "code",
   "execution_count": null,
   "metadata": {
    "collapsed": true
   },
   "outputs": [],
   "source": [
    "from Chempy.solar_abundance import solar_abundances\n",
    "basic_solar = solar_abundances()\n",
    "basic_solar.Asplund09()\n",
    "age = 4.56\n",
    "age_error = 0.01\n",
    "scaled_abun = [] # Produce proto-solar abundance data for all elements (cut down later)\n",
    "solar_err = []\n",
    "for item in list_of_elements:\n",
    "    if item =='He':\n",
    "        scaled_abun.append(0.01)\n",
    "    elif item =='Fe':\n",
    "        scaled_abun.append(0.04)\n",
    "    else:\n",
    "        scaled_abun.append(0.)\n",
    "    for i in range(len(basic_solar.table['Symbol'])):\n",
    "        if basic_solar.table['Symbol'][i] == item:\n",
    "            temp = basic_solar.table['error'][i]\n",
    "            break\n",
    "    solar_err.append(temp+0.01) # add correction for proto-solar data"
   ]
  },
  {
   "cell_type": "code",
   "execution_count": null,
   "metadata": {
    "collapsed": true
   },
   "outputs": [],
   "source": [
    "from Chempy.data_to_test import produce_wildcard_stellar_abundances\n",
    "\n",
    "produce_wildcard_stellar_abundances(stellar_identifier = 'Proto-sun_all', \n",
    "                                     age_of_star = age,\n",
    "                                     sigma_age = age_error,\n",
    "                                     element_symbols = list_of_elements,\n",
    "                                     element_abundances = scaled_abun,\n",
    "                                     element_errors = solar_err)"
   ]
  },
  {
   "cell_type": "code",
   "execution_count": null,
   "metadata": {
    "collapsed": true
   },
   "outputs": [],
   "source": [
    "proto_sun_new = np.load('Proto-sun_all.npy')"
   ]
  },
  {
   "cell_type": "code",
   "execution_count": null,
   "metadata": {
    "collapsed": true
   },
   "outputs": [],
   "source": [
    "proto_sun_new"
   ]
  },
  {
   "cell_type": "code",
   "execution_count": null,
   "metadata": {},
   "outputs": [],
   "source": [
    "%pylab inline"
   ]
  },
  {
   "cell_type": "code",
   "execution_count": null,
   "metadata": {
    "collapsed": true
   },
   "outputs": [],
   "source": [
    "proto_sun = np.load('Chempy/input/stars/Proto-sun_all.npy')"
   ]
  },
  {
   "cell_type": "code",
   "execution_count": null,
   "metadata": {},
   "outputs": [],
   "source": [
    "len(proto_sun[0])"
   ]
  },
  {
   "cell_type": "code",
   "execution_count": null,
   "metadata": {
    "collapsed": true
   },
   "outputs": [],
   "source": []
  },
  {
   "cell_type": "code",
   "execution_count": null,
   "metadata": {
    "collapsed": true
   },
   "outputs": [],
   "source": []
  },
  {
   "cell_type": "code",
   "execution_count": 10,
   "metadata": {},
   "outputs": [
    {
     "name": "stdout",
     "output_type": "stream",
     "text": [
      "The line_profiler extension is already loaded. To reload it, use:\n",
      "  %reload_ext line_profiler\n"
     ]
    }
   ],
   "source": [
    "from Chempy.cem_function import posterior_function_predictions, cem_real2, extract_parameters_and_priors\n",
    "from Chempy.wrapper import Chempy, SSP_wrap\n",
    "from SSP_wrap import __init__\n",
    "from Chempy.parameter import ModelParameters\n",
    "changing_parameter = [-3.,-3.,-0.81,-0.6,0.54,0.51]\n",
    "a = ModelParameters()\n",
    "a = extract_parameters_and_priors(changing_parameter,a)\n",
    "%load_ext line_profiler"
   ]
  },
  {
   "cell_type": "code",
   "execution_count": 16,
   "metadata": {},
   "outputs": [
    {
     "name": "stderr",
     "output_type": "stream",
     "text": [
      "/home/philcox/anaconda3/lib/python3.6/site-packages/line_profiler.py:294: UserWarning: Could not extract a code object for the object <class 'Chempy.wrapper.SSP_wrap'>\n",
      "  profile = LineProfiler(*funcs)\n",
      "/home/philcox/anaconda3/lib/python3.6/site-packages/numpy/core/records.py:507: FutureWarning: Numpy has detected that you may be viewing or writing to an array returned by selecting multiple fields in a structured array. \n",
      "\n",
      "This code may break in numpy 1.13 because this will return a view instead of a copy -- see release notes for details.\n",
      "  return obj.view(dtype=(self.dtype.type, obj.dtype))\n"
     ]
    }
   ],
   "source": [
    "%lprun -f SSP_wrap SSP_wrap(a)"
   ]
  },
  {
   "cell_type": "code",
   "execution_count": 15,
   "metadata": {},
   "outputs": [
    {
     "name": "stderr",
     "output_type": "stream",
     "text": [
      "/home/philcox/anaconda3/lib/python3.6/site-packages/numpy/core/records.py:507: FutureWarning: Numpy has detected that you may be viewing or writing to an array returned by selecting multiple fields in a structured array. \n",
      "\n",
      "This code may break in numpy 1.13 because this will return a view instead of a copy -- see release notes for details.\n",
      "  return obj.view(dtype=(self.dtype.type, obj.dtype))\n"
     ]
    },
    {
     "name": "stdout",
     "output_type": "stream",
     "text": [
      "1 loop, best of 1: 266 ms per loop\n"
     ]
    }
   ],
   "source": [
    "%timeit -n 1 -r 1 SSP_wrap(a)"
   ]
  },
  {
   "cell_type": "code",
   "execution_count": null,
   "metadata": {
    "collapsed": true
   },
   "outputs": [],
   "source": []
  }
 ],
 "metadata": {
  "kernelspec": {
   "display_name": "Python 3",
   "language": "python",
   "name": "python3"
  },
  "language_info": {
   "codemirror_mode": {
    "name": "ipython",
    "version": 3
   },
   "file_extension": ".py",
   "mimetype": "text/x-python",
   "name": "python",
   "nbconvert_exporter": "python",
   "pygments_lexer": "ipython3",
   "version": "3.6.1"
  }
 },
 "nbformat": 4,
 "nbformat_minor": 2
}
