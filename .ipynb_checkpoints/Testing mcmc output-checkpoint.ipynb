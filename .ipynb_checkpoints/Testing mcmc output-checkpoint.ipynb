{
 "cells": [
  {
   "cell_type": "code",
   "execution_count": null,
   "metadata": {
    "collapsed": true
   },
   "outputs": [],
   "source": [
    "%pylab inline\n",
    "from Chempy.wrapper import mcmc_multi,mcmc_quick\n",
    "from Chempy.parameter import ModelParameters\n",
    "a = ModelParameters()\n",
    "changing_parameter = a.p0\n",
    "error_list = []\n",
    "from Chempy.score_function import preload_params_mcmc\n",
    "preload = preload_params_mcmc\n",
    "\n",
    "elements = []\n",
    "for item in a.elements_to_trace:\n",
    "    if item in preload_params_mcmc:\n",
    "        elements.append(item)"
   ]
  }
 ],
 "metadata": {
  "kernelspec": {
   "display_name": "Python 3",
   "language": "python",
   "name": "python3"
  },
  "language_info": {
   "codemirror_mode": {
    "name": "ipython",
    "version": 3
   },
   "file_extension": ".py",
   "mimetype": "text/x-python",
   "name": "python",
   "nbconvert_exporter": "python",
   "pygments_lexer": "ipython3",
   "version": "3.6.1"
  }
 },
 "nbformat": 4,
 "nbformat_minor": 2
}
