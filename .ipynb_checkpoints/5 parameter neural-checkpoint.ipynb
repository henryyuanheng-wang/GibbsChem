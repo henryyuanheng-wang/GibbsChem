{
 "cells": [
  {
   "cell_type": "markdown",
   "metadata": {},
   "source": [
    "## Compute best errors from all 28 elements at once"
   ]
  },
  {
   "cell_type": "code",
   "execution_count": 7,
   "metadata": {},
   "outputs": [
    {
     "name": "stdout",
     "output_type": "stream",
     "text": [
      "Populating the interactive namespace from numpy and matplotlib\n"
     ]
    },
    {
     "ename": "ValueError",
     "evalue": "operands could not be broadcast together with shapes (6,) (5,) ",
     "output_type": "error",
     "traceback": [
      "\u001b[0;31m---------------------------------------------------------------------------\u001b[0m",
      "\u001b[0;31mValueError\u001b[0m                                Traceback (most recent call last)",
      "\u001b[0;32m<ipython-input-7-3e0b12b95263>\u001b[0m in \u001b[0;36m<module>\u001b[0;34m()\u001b[0m\n\u001b[1;32m     18\u001b[0m     \u001b[0merr\u001b[0m \u001b[0;34m=\u001b[0m \u001b[0;34m[\u001b[0m\u001b[0;34m]\u001b[0m\u001b[0;34m\u001b[0m\u001b[0m\n\u001b[1;32m     19\u001b[0m     \u001b[0;32mfor\u001b[0m \u001b[0mi\u001b[0m\u001b[0;34m,\u001b[0m\u001b[0mparam\u001b[0m \u001b[0;32min\u001b[0m \u001b[0menumerate\u001b[0m\u001b[0;34m(\u001b[0m\u001b[0mtr_param\u001b[0m\u001b[0;34m)\u001b[0m\u001b[0;34m:\u001b[0m\u001b[0;34m\u001b[0m\u001b[0m\n\u001b[0;32m---> 20\u001b[0;31m         \u001b[0mneural_abun\u001b[0m \u001b[0;34m=\u001b[0m \u001b[0mneural_output\u001b[0m\u001b[0;34m(\u001b[0m\u001b[0mparam\u001b[0m\u001b[0;34m)\u001b[0m\u001b[0;34m\u001b[0m\u001b[0m\n\u001b[0m\u001b[1;32m     21\u001b[0m         \u001b[0mtemp_err\u001b[0m \u001b[0;34m=\u001b[0m \u001b[0;34m(\u001b[0m\u001b[0mnp\u001b[0m\u001b[0;34m.\u001b[0m\u001b[0mabsolute\u001b[0m\u001b[0;34m(\u001b[0m\u001b[0mneural_abun\u001b[0m\u001b[0;34m-\u001b[0m\u001b[0mtr_abun\u001b[0m\u001b[0;34m[\u001b[0m\u001b[0mi\u001b[0m\u001b[0;34m]\u001b[0m\u001b[0;34m)\u001b[0m\u001b[0;34m)\u001b[0m\u001b[0;34m\u001b[0m\u001b[0m\n\u001b[1;32m     22\u001b[0m         \u001b[0merr\u001b[0m\u001b[0;34m.\u001b[0m\u001b[0mappend\u001b[0m\u001b[0;34m(\u001b[0m\u001b[0mtemp_err\u001b[0m\u001b[0;34m)\u001b[0m\u001b[0;34m\u001b[0m\u001b[0m\n",
      "\u001b[0;32m/home/philcox/Chempy/Chempy/neural.py\u001b[0m in \u001b[0;36mneural_output\u001b[0;34m(test_input)\u001b[0m\n\u001b[1;32m    261\u001b[0m \u001b[0;34m\u001b[0m\u001b[0m\n\u001b[1;32m    262\u001b[0m         \u001b[0;31m# Normalize data for input into network\u001b[0m\u001b[0;34m\u001b[0m\u001b[0;34m\u001b[0m\u001b[0m\n\u001b[0;32m--> 263\u001b[0;31m         \u001b[0mnorm_data\u001b[0m \u001b[0;34m=\u001b[0m \u001b[0;34m(\u001b[0m\u001b[0mtest_input\u001b[0m \u001b[0;34m-\u001b[0m \u001b[0ma\u001b[0m\u001b[0;34m.\u001b[0m\u001b[0mp0\u001b[0m\u001b[0;34m)\u001b[0m\u001b[0;34m/\u001b[0m\u001b[0mnp\u001b[0m\u001b[0;34m.\u001b[0m\u001b[0marray\u001b[0m\u001b[0;34m(\u001b[0m\u001b[0ma\u001b[0m\u001b[0;34m.\u001b[0m\u001b[0mtraining_widths\u001b[0m\u001b[0;34m)\u001b[0m\u001b[0;34m\u001b[0m\u001b[0m\n\u001b[0m\u001b[1;32m    264\u001b[0m \u001b[0;34m\u001b[0m\u001b[0m\n\u001b[1;32m    265\u001b[0m         \u001b[0;31m# Calculate neural network output\u001b[0m\u001b[0;34m\u001b[0m\u001b[0;34m\u001b[0m\u001b[0m\n",
      "\u001b[0;31mValueError\u001b[0m: operands could not be broadcast together with shapes (6,) (5,) "
     ]
    }
   ],
   "source": [
    "%pylab inline\n",
    "from Chempy.neural import create_network\n",
    "from Chempy.neural import neural_output\n",
    "\n",
    "# Create neural network\n",
    "\n",
    "#create_network(learning_rate=0.007,Plot=False)\n",
    "\n",
    "widths = [1,2,3,4,4.3]\n",
    "err_median = []\n",
    "err_up = []\n",
    "err_low = []\n",
    "for width in widths:\n",
    "    # Use training data of restricted sigma ranges\n",
    "    tr_abun = np.load('Neural/'+str(width)+'_sigma_abundances.npy')[:]\n",
    "    tr_param = np.load('Neural/'+str(width)+'_sigma_param_grid.npy')\n",
    "    \n",
    "    err = []\n",
    "    for i,param in enumerate(tr_param):\n",
    "        neural_abun = neural_output(param)\n",
    "        temp_err = (np.absolute(neural_abun-tr_abun[i]))\n",
    "        err.append(temp_err)\n",
    "    err_median.append(np.percentile(err,50,axis=0))\n",
    "    err_up.append(np.percentile(err,100-15.865,axis=0))\n",
    "    err_low.append(np.percentile(err,15.865,axis=0))\n",
    "\n",
    "j=0 # Element index                \n",
    "\n",
    "errorbar_widths = [np.array(err_median)[:,j]-np.array(err_low)[:,j],np.array(err_up)[:,j]-np.array(err_median)[:,j]]\n",
    "plt.errorbar(widths,np.array(err_median)[:,j],yerr = errorbar_widths,fmt='o')\n",
    "plt.ylabel('Mean network error across all elements')\n",
    "plt.xlabel('Width of dataset (sigma)')\n",
    "plt.title('Network for all 28 elements')\n",
    "print(np.array(err_median)[:,j])"
   ]
  },
  {
   "cell_type": "code",
   "execution_count": null,
   "metadata": {
    "collapsed": true
   },
   "outputs": [],
   "source": []
  },
  {
   "cell_type": "code",
   "execution_count": 9,
   "metadata": {},
   "outputs": [
    {
     "name": "stdout",
     "output_type": "stream",
     "text": [
      "Populating the interactive namespace from numpy and matplotlib\n",
      "Using all elements simultaneously\n",
      "Training epoch 0 of 1000 complete\n"
     ]
    },
    {
     "data": {
      "image/png": "[encoded data removed]",
      "text/plain": [
       "<matplotlib.figure.Figure at 0x7f335e361da0>"
      ]
     },
     "metadata": {},
     "output_type": "display_data"
    },
    {
     "data": {
      "text/plain": [
       "<matplotlib.legend.Legend at 0x7f335e51f0b8>"
      ]
     },
     "execution_count": 9,
     "metadata": {},
     "output_type": "execute_result"
    },
    {
     "data": {
      "image/png": "[encoded data removed]",
      "text/plain": [
       "<matplotlib.figure.Figure at 0x7f335e5204e0>"
      ]
     },
     "metadata": {},
     "output_type": "display_data"
    }
   ],
   "source": [
    "%pylab inline\n",
    "print('Using all elements simultaneously')\n",
    "from Chempy.neural import create_network\n",
    "from Chempy.neural import neural_output\n",
    "from Chempy.parameter import ModelParameters\n",
    "a = ModelParameters()\n",
    "create_network(learning_rate=0.1,Plot=True)\n",
    "\n",
    "from Chempy.score_function import preload_params_mcmc\n",
    "preload=preload_params_mcmc()\n",
    "\n",
    "\n",
    "elements = []\n",
    "for item in a.elements_to_trace:\n",
    "    if item in preload.wildcard.dtype.names:\n",
    "        elements.append(item)\n",
    "\n",
    "width=3.\n",
    "# Use training data of restricted sigma ranges\n",
    "tr_abun = np.load('Neural/'+str(width)+'_sigma_abundances.npy')[:]\n",
    "tr_param = np.load('Neural/'+str(width)+'_sigma_param_grid.npy')\n",
    "  \n",
    "err = []\n",
    "for j,param in enumerate(tr_param):\n",
    "    neural_abun = neural_output(param)\n",
    "    temp_err = (np.absolute(neural_abun-tr_abun[j]))\n",
    "    err.append(temp_err)\n",
    "err_med2=(np.percentile(err,50,axis=0))\n",
    "up_bar2=(np.percentile(err,100-15.865,axis=0)-np.percentile(err,50,axis=0))\n",
    "low_bar2=(np.percentile(err,50,axis=0)-np.percentile(err,15.865,axis=0))\n",
    "\n",
    "# Plot for each element\n",
    "x = range(len(elements))\n",
    "plt.clf()\n",
    "errorbars2 = [low_bar2,up_bar2]\n",
    "plt.errorbar(x,err_med2,yerr=errorbars2,c='b',fmt='x',label='All together')\n",
    "plt.xlabel('Element number')\n",
    "plt.ylabel('Neural network error')\n",
    "plt.legend()"
   ]
  },
  {
   "cell_type": "code",
   "execution_count": null,
   "metadata": {
    "collapsed": true
   },
   "outputs": [],
   "source": []
  },
  {
   "cell_type": "code",
   "execution_count": null,
   "metadata": {
    "collapsed": true
   },
   "outputs": [],
   "source": []
  }
 ],
 "metadata": {
  "kernelspec": {
   "display_name": "Python 3",
   "language": "python",
   "name": "python3"
  },
  "language_info": {
   "codemirror_mode": {
    "name": "ipython",
    "version": 3
   },
   "file_extension": ".py",
   "mimetype": "text/x-python",
   "name": "python",
   "nbconvert_exporter": "python",
   "pygments_lexer": "ipython3",
   "version": "3.6.1"
  }
 },
 "nbformat": 4,
 "nbformat_minor": 2
}
