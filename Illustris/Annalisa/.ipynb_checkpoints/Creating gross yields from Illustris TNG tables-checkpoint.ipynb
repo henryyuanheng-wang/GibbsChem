{
 "cells": [
  {
   "cell_type": "code",
   "execution_count": 1,
   "metadata": {},
   "outputs": [
    {
     "name": "stdout",
     "output_type": "stream",
     "text": [
      "Populating the interactive namespace from numpy and matplotlib\n"
     ]
    }
   ],
   "source": [
    "%pylab inline"
   ]
  },
  {
   "cell_type": "code",
   "execution_count": 11,
   "metadata": {
    "collapsed": true
   },
   "outputs": [],
   "source": [
    "import copy\n",
    "from Chempy.yields import AGB_feedback\n",
    "basic_agb = AGB_feedback()"
   ]
  },
  {
   "cell_type": "code",
   "execution_count": 23,
   "metadata": {},
   "outputs": [
    {
     "data": {
      "text/plain": [
       "array([ 1.  ,  1.25,  1.5 ,  1.75,  1.9 ,  2.  ,  2.25,  2.5 ,  3.  ,\n",
       "        3.5 ,  4.  ,  4.5 ,  5.  ,  5.5 ,  6.  ,  6.5 ])"
      ]
     },
     "execution_count": 23,
     "metadata": {},
     "output_type": "execute_result"
    }
   ],
   "source": [
    "getattr(basic_agb,'Karakas')()\n",
    "basic_agb.masses"
   ]
  },
  {
   "cell_type": "code",
   "execution_count": 13,
   "metadata": {},
   "outputs": [],
   "source": [
    "tng_agb = copy.copy(basic_agb)"
   ]
  },
  {
   "cell_type": "code",
   "execution_count": 20,
   "metadata": {},
   "outputs": [
    {
     "data": {
      "text/plain": [
       "array([ 1.  ,  1.25,  1.5 ,  1.75,  1.9 ,  2.  ,  2.25,  2.5 ,  3.  ,\n",
       "        3.5 ,  4.  ,  4.5 ,  5.  ,  5.5 ,  6.  ,  6.5 ])"
      ]
     },
     "execution_count": 20,
     "metadata": {},
     "output_type": "execute_result"
    }
   ],
   "source": [
    "tng_agb.masses"
   ]
  },
  {
   "cell_type": "code",
   "execution_count": 16,
   "metadata": {},
   "outputs": [
    {
     "name": "stdout",
     "output_type": "stream",
     "text": [
      "Masses\n",
      "Metallicities\n",
      "Number_of_masses\n",
      "Number_of_metallicities\n",
      "Number_of_species\n",
      "Reference\n",
      "Species_names\n",
      "Yield_names\n",
      "Yields\n"
     ]
    }
   ],
   "source": [
    "import h5py as h5\n",
    "filename = 'AGB.hdf5'\n",
    "# Read H5 file\n",
    "f = h5.File(filename, \"r\")\n",
    "# Get and print list of datasets within the H5 file\n",
    "datasetNames = [n for n in f.keys()]\n",
    "for n in datasetNames:\n",
    "    print(n)"
   ]
  },
  {
   "cell_type": "code",
   "execution_count": 39,
   "metadata": {},
   "outputs": [],
   "source": [
    "tng_agb.masses = f['Masses'][:].astype(float)"
   ]
  },
  {
   "cell_type": "code",
   "execution_count": 40,
   "metadata": {},
   "outputs": [
    {
     "data": {
      "text/plain": [
       "array([ 1.        ,  1.25      ,  1.5       ,  1.75      ,  1.89999998,\n",
       "        2.        ,  2.25      ,  2.5       ,  3.        ,  3.5       ,\n",
       "        4.        ,  4.5       ,  5.        ,  5.5       ,  6.        ,\n",
       "        7.        ,  7.5       ])"
      ]
     },
     "execution_count": 40,
     "metadata": {},
     "output_type": "execute_result"
    }
   ],
   "source": [
    "tng_agb.masses"
   ]
  },
  {
   "cell_type": "code",
   "execution_count": null,
   "metadata": {
    "collapsed": true
   },
   "outputs": [],
   "source": []
  }
 ],
 "metadata": {
  "kernelspec": {
   "display_name": "Python 3",
   "language": "python",
   "name": "python3"
  },
  "language_info": {
   "codemirror_mode": {
    "name": "ipython",
    "version": 3
   },
   "file_extension": ".py",
   "mimetype": "text/x-python",
   "name": "python",
   "nbconvert_exporter": "python",
   "pygments_lexer": "ipython3",
   "version": "3.6.1"
  }
 },
 "nbformat": 4,
 "nbformat_minor": 2
}
