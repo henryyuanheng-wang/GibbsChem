{
 "cells": [
  {
   "cell_type": "code",
   "execution_count": 1,
   "metadata": {},
   "outputs": [
    {
     "name": "stdout",
     "output_type": "stream",
     "text": [
      "Populating the interactive namespace from numpy and matplotlib\n"
     ]
    }
   ],
   "source": [
    "%pylab inline"
   ]
  },
  {
   "cell_type": "code",
   "execution_count": 65,
   "metadata": {},
   "outputs": [
    {
     "name": "stdout",
     "output_type": "stream",
     "text": [
      "Masses\n",
      "Metallicities\n",
      "Number_of_masses\n",
      "Number_of_metallicities\n",
      "Number_of_species\n",
      "Reference\n",
      "Species_names\n",
      "Yield_names\n",
      "Yields\n"
     ]
    }
   ],
   "source": [
    "import h5py as h5\n",
    "filename = 'SNII.hdf5'\n",
    "# Read H5 file\n",
    "f = h5.File(filename, \"r\")\n",
    "# Get and print list of datasets within the H5 file\n",
    "datasetNames = [n for n in f.keys()]\n",
    "for n in datasetNames:\n",
    "    print(n)"
   ]
  },
  {
   "cell_type": "code",
   "execution_count": 66,
   "metadata": {
    "collapsed": true
   },
   "outputs": [],
   "source": [
    "Masses = f['Masses'][:]"
   ]
  },
  {
   "cell_type": "code",
   "execution_count": 67,
   "metadata": {},
   "outputs": [
    {
     "data": {
      "text/plain": [
       "array([   8.,    9.,   12.,   13.,   15.,   18.,   20.,   25.,   30.,\n",
       "         40.,   60.,  100.,  120.], dtype=float32)"
      ]
     },
     "execution_count": 67,
     "metadata": {},
     "output_type": "execute_result"
    }
   ],
   "source": [
    "Masses"
   ]
  },
  {
   "cell_type": "code",
   "execution_count": 68,
   "metadata": {
    "collapsed": true
   },
   "outputs": [],
   "source": [
    "Metallicities = f['Metallicities'][:]"
   ]
  },
  {
   "cell_type": "code",
   "execution_count": 69,
   "metadata": {},
   "outputs": [
    {
     "data": {
      "text/plain": [
       "array([ 0.   ,  0.001,  0.004,  0.02 ], dtype=float32)"
      ]
     },
     "execution_count": 69,
     "metadata": {},
     "output_type": "execute_result"
    }
   ],
   "source": [
    "Metallicities"
   ]
  },
  {
   "cell_type": "code",
   "execution_count": 70,
   "metadata": {
    "collapsed": true
   },
   "outputs": [],
   "source": [
    "elements = f['Species_names'][:]"
   ]
  },
  {
   "cell_type": "code",
   "execution_count": 71,
   "metadata": {},
   "outputs": [
    {
     "data": {
      "text/plain": [
       "array([b'Hydrogen', b'Helium', b'Carbon', b'Nitrogen', b'Oxygen', b'Neon',\n",
       "       b'Magnesium', b'Silicon', b'Sulphur', b'Calcium', b'Iron'], dtype=object)"
      ]
     },
     "execution_count": 71,
     "metadata": {},
     "output_type": "execute_result"
    }
   ],
   "source": [
    "elements"
   ]
  },
  {
   "cell_type": "code",
   "execution_count": 72,
   "metadata": {},
   "outputs": [
    {
     "data": {
      "text/plain": [
       "array([b'Z_0.00', b'Z_0.001', b'Z_0.004', b'Z_0.02'], dtype=object)"
      ]
     },
     "execution_count": 72,
     "metadata": {},
     "output_type": "execute_result"
    }
   ],
   "source": [
    "f['Yield_names'][:]"
   ]
  },
  {
   "cell_type": "code",
   "execution_count": 75,
   "metadata": {},
   "outputs": [
    {
     "data": {
      "text/plain": [
       "array([  4.89106178,   5.70875597,   8.1308527 ,   8.69053936,\n",
       "        10.25411034,  12.44572258,  14.89804363,  19.54817581,\n",
       "        24.06858063,  31.77251053,  30.46581078,  51.58944321,  65.626091  ], dtype=float32)"
      ]
     },
     "execution_count": 75,
     "metadata": {},
     "output_type": "execute_result"
    }
   ],
   "source": [
    "f['Yields/Z_0.001/Ejected_mass'][:]"
   ]
  },
  {
   "cell_type": "code",
   "execution_count": 76,
   "metadata": {},
   "outputs": [
    {
     "data": {
      "text/plain": [
       "array([[ -7.79314339e-01,  -1.09488809e+00,  -2.09181118e+00,\n",
       "         -1.88346457e+00,  -2.33148146e+00,  -3.21717787e+00,\n",
       "         -5.03216553e+00,  -7.40000820e+00,  -9.68176746e+00,\n",
       "         -1.35367889e+01,  -9.20366573e+00,  -1.87171211e+01,\n",
       "         -2.64444199e+01],\n",
       "       [  6.58688664e-01,   7.08719432e-01,   7.67138720e-01,\n",
       "          9.03589010e-01,   1.53014314e+00,   2.08124375e+00,\n",
       "          1.05877852e+00,   7.95940995e-01,   8.68318021e-01,\n",
       "          1.19272101e+00,   4.31708527e+00,   7.75668573e+00,\n",
       "          2.19261875e+01],\n",
       "       [  2.45482605e-02,   5.08369617e-02,   9.85278487e-02,\n",
       "          5.86317927e-02,   4.36407141e-02,   6.95605502e-02,\n",
       "          6.62355274e-02,   1.16094023e-01,   5.43745980e-02,\n",
       "          1.93091854e-02,   2.14126989e-01,   2.22935289e-01,\n",
       "          2.12273151e-01],\n",
       "       [  2.07313290e-03,   2.34984350e-03,   3.08062322e-03,\n",
       "          2.57529248e-03,  -4.24361875e-04,  -4.47877275e-04,\n",
       "          3.14351288e-03,   3.89899273e-04,  -1.99352019e-03,\n",
       "         -2.28297454e-03,   2.18114629e-02,   4.02547829e-02,\n",
       "          7.82021508e-02],\n",
       "       [  8.71145353e-02,   1.72541931e-01,   7.95454264e-01,\n",
       "          5.66826344e-01,   3.21197808e-01,   4.65314478e-01,\n",
       "          2.49342942e+00,   4.38146877e+00,   6.11960745e+00,\n",
       "          9.62252617e+00,   3.60133553e+00,   9.31892586e+00,\n",
       "          3.71410537e+00],\n",
       "       [  8.57056491e-03,   1.80556085e-02,   1.57934248e-01,\n",
       "          8.83247927e-02,   2.53099293e-01,   2.35304356e-01,\n",
       "          8.40987742e-01,   1.63834083e+00,   1.94682419e+00,\n",
       "          3.79028022e-01,   7.40567267e-01,   7.89386630e-01,\n",
       "          3.12755227e-01],\n",
       "       [  4.23944613e-04,   8.38935375e-03,   5.05848788e-02,\n",
       "          8.92179683e-02,   8.89387652e-02,   8.25634226e-02,\n",
       "          3.35928023e-01,   2.48041421e-01,   3.99426013e-01,\n",
       "          9.63622808e-01,   3.10537517e-01,   5.90680957e-01,\n",
       "          2.01275840e-01],\n",
       "       [ -7.16462615e-04,   3.82112823e-02,   9.67012420e-02,\n",
       "          9.87378731e-02,   4.56473678e-02,   1.63563043e-01,\n",
       "          1.37364402e-01,   1.27077848e-01,   1.75866663e-01,\n",
       "          9.56621051e-01,   6.82452344e-04,   2.02568807e-03,\n",
       "          2.93678581e-03],\n",
       "       [ -3.43200809e-04,   1.84000526e-02,   4.22413871e-02,\n",
       "          3.88993360e-02,   1.66129228e-02,   8.17444324e-02,\n",
       "          5.76512218e-02,   5.60768470e-02,   7.97690600e-02,\n",
       "          3.41713071e-01,   3.84745275e-04,   1.15289073e-03,\n",
       "          1.66057900e-03],\n",
       "       [ -7.16652285e-05,   3.06205451e-03,   6.14448404e-03,\n",
       "          4.12743818e-03,   1.44638831e-03,   7.03801448e-03,\n",
       "          8.00143648e-03,   6.84377132e-03,   1.01300525e-02,\n",
       "          3.21250670e-02,  -6.43335261e-06,   5.59389628e-05,\n",
       "          9.18066798e-05],\n",
       "       [ -9.73427668e-04,   7.43216127e-02,   7.40032792e-02,\n",
       "          3.25345807e-02,   3.11794244e-02,   3.12936231e-02,\n",
       "          3.06457486e-02,   2.97331903e-02,   2.94452813e-02,\n",
       "          3.14059481e-02,  -2.85885017e-03,  -4.98328777e-03,\n",
       "         -5.06879156e-03]], dtype=float32)"
      ]
     },
     "execution_count": 76,
     "metadata": {},
     "output_type": "execute_result"
    }
   ],
   "source": [
    "f['Yields/Z_0.001/Yield'][:]"
   ]
  },
  {
   "cell_type": "code",
   "execution_count": 77,
   "metadata": {},
   "outputs": [
    {
     "data": {
      "text/plain": [
       "array([  0.13855194,   0.40709192,   1.35447276,   1.01172721,\n",
       "         0.83892071,   1.18154895,   4.02799034,   6.67571306,\n",
       "         8.90166378,  12.46051788,   4.99824095,  11.14951515,   4.75875854], dtype=float32)"
      ]
     },
     "execution_count": 77,
     "metadata": {},
     "output_type": "execute_result"
    }
   ],
   "source": [
    "f['Yields/Z_0.001/Total_Metals'][:]"
   ]
  },
  {
   "cell_type": "code",
   "execution_count": 78,
   "metadata": {
    "collapsed": true
   },
   "outputs": [],
   "source": [
    "names = [n for n in f['Yields/Z_0.02'].keys()]"
   ]
  },
  {
   "cell_type": "code",
   "execution_count": 79,
   "metadata": {},
   "outputs": [
    {
     "data": {
      "text/plain": [
       "['Ejected_mass', 'Total_Metals', 'Yield']"
      ]
     },
     "execution_count": 79,
     "metadata": {},
     "output_type": "execute_result"
    }
   ],
   "source": [
    "names"
   ]
  },
  {
   "cell_type": "code",
   "execution_count": null,
   "metadata": {
    "collapsed": true
   },
   "outputs": [],
   "source": []
  },
  {
   "cell_type": "code",
   "execution_count": null,
   "metadata": {
    "collapsed": true
   },
   "outputs": [],
   "source": []
  },
  {
   "cell_type": "markdown",
   "metadata": {},
   "source": [
    "## CC-SN YIELDS\n"
   ]
  },
  {
   "cell_type": "code",
   "execution_count": 262,
   "metadata": {},
   "outputs": [],
   "source": [
    "indexing = {}\n",
    "indexing['H'] = 'Hydrogen'\n",
    "indexing['He'] = 'Helium'\n",
    "indexing['C'] = 'Carbon'\n",
    "indexing['N']= 'Nitrogen'\n",
    "indexing['O'] = 'Oxygen'\n",
    "indexing['Ne'] = 'Neon'\n",
    "indexing['Mg'] = 'Magnesium'\n",
    "indexing['Si'] = 'Silicon'\n",
    "indexing['S'] = 'Sulphur' # Not used by TNG simulation\n",
    "indexing['Ca'] = 'Calcium' # Not used by TNG simulation\n",
    "indexing['Fe'] = 'Iron'\n",
    "\n",
    "table = {}\n",
    "\n",
    "metallicities = list(f['Metallicities'].value)\n",
    "masses = f['Masses'].value\n",
    "\n",
    "\n",
    "for z_index,z in enumerate(metallicities):\n",
    "    \n",
    "    yield_subtable = {}\n",
    "    \n",
    "    z_name = f['Yield_names'].value[z_index].decode('utf-8')\n",
    "    z_data = f['Yields/'+z_name+'/Yield']\n",
    "     \n",
    "    ejecta_mass = f['Yields/'+z_name+'/Ejected_mass'].value\n",
    "    \n",
    "    yield_subtable['Mass'] = masses\n",
    "    remnants = masses-ejecta_mass\n",
    "    yield_subtable['mass_in_remnants'] = np.divide(remnants,masses)\n",
    "    for el in list(indexing.keys()):\n",
    "        yield_subtable[el] = np.zeros(len(masses))\n",
    "     \n",
    "    summed_yields = np.zeros(len(masses))\n",
    "        \n",
    "    for m_index,mass in enumerate(masses):\n",
    "        for el_index,el in enumerate(list(indexing.keys())):\n",
    "            el_yield = z_data[el_index][m_index]\n",
    "            el_yield_fraction = el_yield/(mass-remnants[m_index])\n",
    "            yield_subtable[el][m_index] = el_yield_fraction\n",
    "            summed_yields[m_index]+=el_yield_fraction\n",
    "         \n",
    "    yield_subtable['unprocessed_mass_in_winds'] = 1.-summed_yields-yield_subtable['mass_in_remnants']\n",
    "    \n",
    "    \n",
    "    table[z.astype(float)] = yield_subtable\n",
    "        "
   ]
  },
  {
   "cell_type": "code",
   "execution_count": 260,
   "metadata": {},
   "outputs": [
    {
     "data": {
      "text/plain": [
       "array([-0.00293091,  0.03912527,  0.08836205,  0.06088875,  0.06144132,\n",
       "        0.06154377,  0.06059964,  0.05961807,  0.06298885,  0.05271165,\n",
       "        0.1383028 ,  0.11733098,  0.1448456 ], dtype=float32)"
      ]
     },
     "execution_count": 260,
     "metadata": {},
     "output_type": "execute_result"
    }
   ],
   "source": [
    "z_data[10]"
   ]
  },
  {
   "cell_type": "code",
   "execution_count": 252,
   "metadata": {},
   "outputs": [
    {
     "data": {
      "text/plain": [
       "['H', 'He', 'C', 'N', 'O', 'Ne', 'Mg', 'Si', 'S', 'Ca', 'Fe']"
      ]
     },
     "execution_count": 252,
     "metadata": {},
     "output_type": "execute_result"
    }
   ],
   "source": [
    "list(indexing.keys())"
   ]
  },
  {
   "cell_type": "code",
   "execution_count": 222,
   "metadata": {},
   "outputs": [
    {
     "data": {
      "text/plain": [
       "dtype('float64')"
      ]
     },
     "execution_count": 222,
     "metadata": {},
     "output_type": "execute_result"
    }
   ],
   "source": [
    "keys = list(table.keys())\n",
    "keys[2].dtype\n"
   ]
  },
  {
   "cell_type": "code",
   "execution_count": 223,
   "metadata": {},
   "outputs": [
    {
     "data": {
      "text/plain": [
       "False"
      ]
     },
     "execution_count": 223,
     "metadata": {},
     "output_type": "execute_result"
    }
   ],
   "source": [
    "metallicities[-1] == 0.02"
   ]
  },
  {
   "cell_type": "code",
   "execution_count": 239,
   "metadata": {},
   "outputs": [
    {
     "data": {
      "text/plain": [
       "{'C': array([ -3.71730166e-05,   8.98001366e-04,   5.44621027e-04,\n",
       "          2.14743384e-04,   1.31738954e-04,   1.16998221e-04,\n",
       "          7.07614454e-05,   1.15786504e-04,   2.83673435e-04,\n",
       "          1.94323395e-04,   1.44584352e-04,   7.91846905e-05,\n",
       "          6.35472243e-05]),\n",
       " 'Ca': array([ -3.71730166e-05,   8.98001366e-04,   5.44621027e-04,\n",
       "          2.14743384e-04,   1.31738954e-04,   1.16998221e-04,\n",
       "          7.07614454e-05,   1.15786504e-04,   2.83673435e-04,\n",
       "          1.94323395e-04,   1.44584352e-04,   7.91846905e-05,\n",
       "          6.35472243e-05]),\n",
       " 'Fe': array([ -3.71730166e-05,   8.98001366e-04,   5.44621027e-04,\n",
       "          2.14743384e-04,   1.31738954e-04,   1.16998221e-04,\n",
       "          7.07614454e-05,   1.15786504e-04,   2.83673435e-04,\n",
       "          1.94323395e-04,   1.44584352e-04,   7.91846905e-05,\n",
       "          6.35472243e-05]),\n",
       " 'H': array([ -3.71730166e-05,   8.98001366e-04,   5.44621027e-04,\n",
       "          2.14743384e-04,   1.31738954e-04,   1.16998221e-04,\n",
       "          7.07614454e-05,   1.15786504e-04,   2.83673435e-04,\n",
       "          1.94323395e-04,   1.44584352e-04,   7.91846905e-05,\n",
       "          6.35472243e-05]),\n",
       " 'He': array([ -3.71730166e-05,   8.98001366e-04,   5.44621027e-04,\n",
       "          2.14743384e-04,   1.31738954e-04,   1.16998221e-04,\n",
       "          7.07614454e-05,   1.15786504e-04,   2.83673435e-04,\n",
       "          1.94323395e-04,   1.44584352e-04,   7.91846905e-05,\n",
       "          6.35472243e-05]),\n",
       " 'Mass': array([   8.,    9.,   12.,   13.,   15.,   18.,   20.,   25.,   30.,\n",
       "          40.,   60.,  100.,  120.], dtype=float32),\n",
       " 'Mg': array([ -3.71730166e-05,   8.98001366e-04,   5.44621027e-04,\n",
       "          2.14743384e-04,   1.31738954e-04,   1.16998221e-04,\n",
       "          7.07614454e-05,   1.15786504e-04,   2.83673435e-04,\n",
       "          1.94323395e-04,   1.44584352e-04,   7.91846905e-05,\n",
       "          6.35472243e-05]),\n",
       " 'N': array([ -3.71730166e-05,   8.98001366e-04,   5.44621027e-04,\n",
       "          2.14743384e-04,   1.31738954e-04,   1.16998221e-04,\n",
       "          7.07614454e-05,   1.15786504e-04,   2.83673435e-04,\n",
       "          1.94323395e-04,   1.44584352e-04,   7.91846905e-05,\n",
       "          6.35472243e-05]),\n",
       " 'Ne': array([ -3.71730166e-05,   8.98001366e-04,   5.44621027e-04,\n",
       "          2.14743384e-04,   1.31738954e-04,   1.16998221e-04,\n",
       "          7.07614454e-05,   1.15786504e-04,   2.83673435e-04,\n",
       "          1.94323395e-04,   1.44584352e-04,   7.91846905e-05,\n",
       "          6.35472243e-05]),\n",
       " 'O': array([ -3.71730166e-05,   8.98001366e-04,   5.44621027e-04,\n",
       "          2.14743384e-04,   1.31738954e-04,   1.16998221e-04,\n",
       "          7.07614454e-05,   1.15786504e-04,   2.83673435e-04,\n",
       "          1.94323395e-04,   1.44584352e-04,   7.91846905e-05,\n",
       "          6.35472243e-05]),\n",
       " 'Si': array([ -3.71730166e-05,   8.98001366e-04,   5.44621027e-04,\n",
       "          2.14743384e-04,   1.31738954e-04,   1.16998221e-04,\n",
       "          7.07614454e-05,   1.15786504e-04,   2.83673435e-04,\n",
       "          1.94323395e-04,   1.44584352e-04,   7.91846905e-05,\n",
       "          6.35472243e-05]),\n",
       " 'mass_in_remnants': array([ 0.35942191,  0.33912018,  0.30720448,  0.32168815,  0.30451724,\n",
       "         0.28380913,  0.26973778,  0.2443383 ,  0.24305223,  0.20080443,\n",
       "         0.26020387,  0.25432488,  0.24964885], dtype=float32),\n",
       " 'unprocessed_mass_in_winds': array([ 0.64094982,  0.65189981,  0.6873493 ,  0.67616442,  0.69416537,\n",
       "         0.71502089,  0.72955461,  0.75450383,  0.75411104,  0.79725234,\n",
       "         0.73835029,  0.74488327,  0.74971567])}"
      ]
     },
     "execution_count": 239,
     "metadata": {},
     "output_type": "execute_result"
    }
   ],
   "source": [
    "table[0.019999999552965164]"
   ]
  },
  {
   "cell_type": "code",
   "execution_count": 241,
   "metadata": {},
   "outputs": [
    {
     "name": "stdout",
     "output_type": "stream",
     "text": [
      "[  1.61962816e-08  -1.39698386e-09  -7.12461770e-08  -1.26892701e-07\n",
      "  -9.37143341e-08  -3.53902578e-08   3.95812094e-08  -1.83004886e-07\n",
      "   1.52271241e-07  -5.59724867e-07  -4.25148755e-07   5.78816980e-07\n",
      "   5.29922545e-07]\n"
     ]
    }
   ],
   "source": [
    "dat=f['Yields/Z_0.02/Yield']\n",
    "#remnants = f['Yields/Z_0.02/Mass']\n",
    "tot = np.zeros(len(dat[0]))\n",
    "for i in range(len(dat)):\n",
    "    tot+=dat[i]\n",
    "print(tot)"
   ]
  },
  {
   "cell_type": "code",
   "execution_count": 242,
   "metadata": {},
   "outputs": [
    {
     "data": {
      "text/plain": [
       "10"
      ]
     },
     "execution_count": 242,
     "metadata": {},
     "output_type": "execute_result"
    }
   ],
   "source": [
    "len(indexing)"
   ]
  },
  {
   "cell_type": "code",
   "execution_count": 243,
   "metadata": {},
   "outputs": [
    {
     "data": {
      "text/plain": [
       "13"
      ]
     },
     "execution_count": 243,
     "metadata": {},
     "output_type": "execute_result"
    }
   ],
   "source": [
    "len(dat[0])"
   ]
  },
  {
   "cell_type": "code",
   "execution_count": 244,
   "metadata": {},
   "outputs": [
    {
     "data": {
      "text/plain": [
       "10"
      ]
     },
     "execution_count": 244,
     "metadata": {},
     "output_type": "execute_result"
    }
   ],
   "source": [
    "i"
   ]
  },
  {
   "cell_type": "code",
   "execution_count": 245,
   "metadata": {},
   "outputs": [
    {
     "ename": "NameError",
     "evalue": "name 'Number_of_masses' is not defined",
     "output_type": "error",
     "traceback": [
      "\u001b[0;31m---------------------------------------------------------------------------\u001b[0m",
      "\u001b[0;31mNameError\u001b[0m                                 Traceback (most recent call last)",
      "\u001b[0;32m<ipython-input-245-0ed5d1896d0d>\u001b[0m in \u001b[0;36m<module>\u001b[0;34m()\u001b[0m\n\u001b[0;32m----> 1\u001b[0;31m \u001b[0mNumber_of_masses\u001b[0m\u001b[0;34m\u001b[0m\u001b[0m\n\u001b[0m\u001b[1;32m      2\u001b[0m \u001b[0mNumber_of_metallicities\u001b[0m\u001b[0;34m\u001b[0m\u001b[0m\n\u001b[1;32m      3\u001b[0m \u001b[0mNumber_of_species\u001b[0m\u001b[0;34m\u001b[0m\u001b[0m\n\u001b[1;32m      4\u001b[0m \u001b[0mReference\u001b[0m\u001b[0;34m\u001b[0m\u001b[0m\n\u001b[1;32m      5\u001b[0m \u001b[0mSpecies_names\u001b[0m\u001b[0;34m\u001b[0m\u001b[0m\n",
      "\u001b[0;31mNameError\u001b[0m: name 'Number_of_masses' is not defined"
     ]
    }
   ],
   "source": [
    "Number_of_masses\n",
    "Number_of_metallicities\n",
    "Number_of_species\n",
    "Reference\n",
    "Species_names\n",
    "Yield_names"
   ]
  },
  {
   "cell_type": "code",
   "execution_count": 250,
   "metadata": {},
   "outputs": [
    {
     "data": {
      "text/plain": [
       "array([b'Hydrogen', b'Helium', b'Carbon', b'Nitrogen', b'Oxygen', b'Neon',\n",
       "       b'Magnesium', b'Silicon', b'Sulphur', b'Calcium', b'Iron'], dtype=object)"
      ]
     },
     "execution_count": 250,
     "metadata": {},
     "output_type": "execute_result"
    }
   ],
   "source": [
    "f['Species_names'].value"
   ]
  },
  {
   "cell_type": "code",
   "execution_count": null,
   "metadata": {
    "collapsed": true
   },
   "outputs": [],
   "source": []
  }
 ],
 "metadata": {
  "kernelspec": {
   "display_name": "Python 3",
   "language": "python",
   "name": "python3"
  },
  "language_info": {
   "codemirror_mode": {
    "name": "ipython",
    "version": 3
   },
   "file_extension": ".py",
   "mimetype": "text/x-python",
   "name": "python",
   "nbconvert_exporter": "python",
   "pygments_lexer": "ipython3",
   "version": "3.6.1"
  }
 },
 "nbformat": 4,
 "nbformat_minor": 2
}
