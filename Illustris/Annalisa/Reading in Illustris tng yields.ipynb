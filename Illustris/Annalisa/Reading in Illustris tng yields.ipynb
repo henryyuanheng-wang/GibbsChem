{
 "cells": [
  {
   "cell_type": "code",
   "execution_count": 4,
   "metadata": {},
   "outputs": [
    {
     "name": "stdout",
     "output_type": "stream",
     "text": [
      "Populating the interactive namespace from numpy and matplotlib\n"
     ]
    }
   ],
   "source": [
    "%pylab inline"
   ]
  },
  {
   "cell_type": "code",
   "execution_count": 5,
   "metadata": {},
   "outputs": [
    {
     "name": "stdout",
     "output_type": "stream",
     "text": [
      "Masses\n",
      "Metallicities\n",
      "Number_of_masses\n",
      "Number_of_metallicities\n",
      "Number_of_species\n",
      "Reference\n",
      "Species_names\n",
      "Yield_names\n",
      "Yields\n"
     ]
    }
   ],
   "source": [
    "import h5py as h5\n",
    "filename = 'SNII.hdf5'\n",
    "# Read H5 file\n",
    "f = h5.File(filename, \"r\")\n",
    "# Get and print list of datasets within the H5 file\n",
    "datasetNames = [n for n in f.keys()]\n",
    "for n in datasetNames:\n",
    "    print(n)"
   ]
  },
  {
   "cell_type": "code",
   "execution_count": 66,
   "metadata": {
    "collapsed": true
   },
   "outputs": [],
   "source": [
    "Masses = f['Masses'][:]"
   ]
  },
  {
   "cell_type": "code",
   "execution_count": 67,
   "metadata": {},
   "outputs": [
    {
     "data": {
      "text/plain": [
       "array([   8.,    9.,   12.,   13.,   15.,   18.,   20.,   25.,   30.,\n",
       "         40.,   60.,  100.,  120.], dtype=float32)"
      ]
     },
     "execution_count": 67,
     "metadata": {},
     "output_type": "execute_result"
    }
   ],
   "source": [
    "Masses"
   ]
  },
  {
   "cell_type": "code",
   "execution_count": 68,
   "metadata": {
    "collapsed": true
   },
   "outputs": [],
   "source": [
    "Metallicities = f['Metallicities'][:]"
   ]
  },
  {
   "cell_type": "code",
   "execution_count": 69,
   "metadata": {},
   "outputs": [
    {
     "data": {
      "text/plain": [
       "array([ 0.   ,  0.001,  0.004,  0.02 ], dtype=float32)"
      ]
     },
     "execution_count": 69,
     "metadata": {},
     "output_type": "execute_result"
    }
   ],
   "source": [
    "Metallicities"
   ]
  },
  {
   "cell_type": "code",
   "execution_count": 70,
   "metadata": {
    "collapsed": true
   },
   "outputs": [],
   "source": [
    "elements = f['Species_names'][:]"
   ]
  },
  {
   "cell_type": "code",
   "execution_count": 71,
   "metadata": {},
   "outputs": [
    {
     "data": {
      "text/plain": [
       "array([b'Hydrogen', b'Helium', b'Carbon', b'Nitrogen', b'Oxygen', b'Neon',\n",
       "       b'Magnesium', b'Silicon', b'Sulphur', b'Calcium', b'Iron'], dtype=object)"
      ]
     },
     "execution_count": 71,
     "metadata": {},
     "output_type": "execute_result"
    }
   ],
   "source": [
    "elements"
   ]
  },
  {
   "cell_type": "code",
   "execution_count": 72,
   "metadata": {},
   "outputs": [
    {
     "data": {
      "text/plain": [
       "array([b'Z_0.00', b'Z_0.001', b'Z_0.004', b'Z_0.02'], dtype=object)"
      ]
     },
     "execution_count": 72,
     "metadata": {},
     "output_type": "execute_result"
    }
   ],
   "source": [
    "f['Yield_names'][:]"
   ]
  },
  {
   "cell_type": "code",
   "execution_count": 75,
   "metadata": {},
   "outputs": [
    {
     "data": {
      "text/plain": [
       "array([  4.89106178,   5.70875597,   8.1308527 ,   8.69053936,\n",
       "        10.25411034,  12.44572258,  14.89804363,  19.54817581,\n",
       "        24.06858063,  31.77251053,  30.46581078,  51.58944321,  65.626091  ], dtype=float32)"
      ]
     },
     "execution_count": 75,
     "metadata": {},
     "output_type": "execute_result"
    }
   ],
   "source": [
    "f['Yields/Z_0.001/Ejected_mass'][:]"
   ]
  },
  {
   "cell_type": "code",
   "execution_count": 76,
   "metadata": {},
   "outputs": [
    {
     "data": {
      "text/plain": [
       "array([[ -7.79314339e-01,  -1.09488809e+00,  -2.09181118e+00,\n",
       "         -1.88346457e+00,  -2.33148146e+00,  -3.21717787e+00,\n",
       "         -5.03216553e+00,  -7.40000820e+00,  -9.68176746e+00,\n",
       "         -1.35367889e+01,  -9.20366573e+00,  -1.87171211e+01,\n",
       "         -2.64444199e+01],\n",
       "       [  6.58688664e-01,   7.08719432e-01,   7.67138720e-01,\n",
       "          9.03589010e-01,   1.53014314e+00,   2.08124375e+00,\n",
       "          1.05877852e+00,   7.95940995e-01,   8.68318021e-01,\n",
       "          1.19272101e+00,   4.31708527e+00,   7.75668573e+00,\n",
       "          2.19261875e+01],\n",
       "       [  2.45482605e-02,   5.08369617e-02,   9.85278487e-02,\n",
       "          5.86317927e-02,   4.36407141e-02,   6.95605502e-02,\n",
       "          6.62355274e-02,   1.16094023e-01,   5.43745980e-02,\n",
       "          1.93091854e-02,   2.14126989e-01,   2.22935289e-01,\n",
       "          2.12273151e-01],\n",
       "       [  2.07313290e-03,   2.34984350e-03,   3.08062322e-03,\n",
       "          2.57529248e-03,  -4.24361875e-04,  -4.47877275e-04,\n",
       "          3.14351288e-03,   3.89899273e-04,  -1.99352019e-03,\n",
       "         -2.28297454e-03,   2.18114629e-02,   4.02547829e-02,\n",
       "          7.82021508e-02],\n",
       "       [  8.71145353e-02,   1.72541931e-01,   7.95454264e-01,\n",
       "          5.66826344e-01,   3.21197808e-01,   4.65314478e-01,\n",
       "          2.49342942e+00,   4.38146877e+00,   6.11960745e+00,\n",
       "          9.62252617e+00,   3.60133553e+00,   9.31892586e+00,\n",
       "          3.71410537e+00],\n",
       "       [  8.57056491e-03,   1.80556085e-02,   1.57934248e-01,\n",
       "          8.83247927e-02,   2.53099293e-01,   2.35304356e-01,\n",
       "          8.40987742e-01,   1.63834083e+00,   1.94682419e+00,\n",
       "          3.79028022e-01,   7.40567267e-01,   7.89386630e-01,\n",
       "          3.12755227e-01],\n",
       "       [  4.23944613e-04,   8.38935375e-03,   5.05848788e-02,\n",
       "          8.92179683e-02,   8.89387652e-02,   8.25634226e-02,\n",
       "          3.35928023e-01,   2.48041421e-01,   3.99426013e-01,\n",
       "          9.63622808e-01,   3.10537517e-01,   5.90680957e-01,\n",
       "          2.01275840e-01],\n",
       "       [ -7.16462615e-04,   3.82112823e-02,   9.67012420e-02,\n",
       "          9.87378731e-02,   4.56473678e-02,   1.63563043e-01,\n",
       "          1.37364402e-01,   1.27077848e-01,   1.75866663e-01,\n",
       "          9.56621051e-01,   6.82452344e-04,   2.02568807e-03,\n",
       "          2.93678581e-03],\n",
       "       [ -3.43200809e-04,   1.84000526e-02,   4.22413871e-02,\n",
       "          3.88993360e-02,   1.66129228e-02,   8.17444324e-02,\n",
       "          5.76512218e-02,   5.60768470e-02,   7.97690600e-02,\n",
       "          3.41713071e-01,   3.84745275e-04,   1.15289073e-03,\n",
       "          1.66057900e-03],\n",
       "       [ -7.16652285e-05,   3.06205451e-03,   6.14448404e-03,\n",
       "          4.12743818e-03,   1.44638831e-03,   7.03801448e-03,\n",
       "          8.00143648e-03,   6.84377132e-03,   1.01300525e-02,\n",
       "          3.21250670e-02,  -6.43335261e-06,   5.59389628e-05,\n",
       "          9.18066798e-05],\n",
       "       [ -9.73427668e-04,   7.43216127e-02,   7.40032792e-02,\n",
       "          3.25345807e-02,   3.11794244e-02,   3.12936231e-02,\n",
       "          3.06457486e-02,   2.97331903e-02,   2.94452813e-02,\n",
       "          3.14059481e-02,  -2.85885017e-03,  -4.98328777e-03,\n",
       "         -5.06879156e-03]], dtype=float32)"
      ]
     },
     "execution_count": 76,
     "metadata": {},
     "output_type": "execute_result"
    }
   ],
   "source": [
    "f['Yields/Z_0.001/Yield'][:]"
   ]
  },
  {
   "cell_type": "code",
   "execution_count": 77,
   "metadata": {},
   "outputs": [
    {
     "data": {
      "text/plain": [
       "array([  0.13855194,   0.40709192,   1.35447276,   1.01172721,\n",
       "         0.83892071,   1.18154895,   4.02799034,   6.67571306,\n",
       "         8.90166378,  12.46051788,   4.99824095,  11.14951515,   4.75875854], dtype=float32)"
      ]
     },
     "execution_count": 77,
     "metadata": {},
     "output_type": "execute_result"
    }
   ],
   "source": [
    "f['Yields/Z_0.001/Total_Metals'][:]"
   ]
  },
  {
   "cell_type": "code",
   "execution_count": 78,
   "metadata": {
    "collapsed": true
   },
   "outputs": [],
   "source": [
    "names = [n for n in f['Yields/Z_0.02'].keys()]"
   ]
  },
  {
   "cell_type": "code",
   "execution_count": 79,
   "metadata": {},
   "outputs": [
    {
     "data": {
      "text/plain": [
       "['Ejected_mass', 'Total_Metals', 'Yield']"
      ]
     },
     "execution_count": 79,
     "metadata": {},
     "output_type": "execute_result"
    }
   ],
   "source": [
    "names"
   ]
  },
  {
   "cell_type": "code",
   "execution_count": null,
   "metadata": {
    "collapsed": true
   },
   "outputs": [],
   "source": []
  },
  {
   "cell_type": "code",
   "execution_count": null,
   "metadata": {
    "collapsed": true
   },
   "outputs": [],
   "source": []
  },
  {
   "cell_type": "markdown",
   "metadata": {},
   "source": [
    "## CC-SN YIELDS\n"
   ]
  },
  {
   "cell_type": "code",
   "execution_count": 267,
   "metadata": {},
   "outputs": [],
   "source": [
    "indexing = {}\n",
    "indexing['H'] = 'Hydrogen'\n",
    "indexing['He'] = 'Helium'\n",
    "indexing['C'] = 'Carbon'\n",
    "indexing['N']= 'Nitrogen'\n",
    "indexing['O'] = 'Oxygen'\n",
    "indexing['Ne'] = 'Neon'\n",
    "indexing['Mg'] = 'Magnesium'\n",
    "indexing['Si'] = 'Silicon'\n",
    "indexing['S'] = 'Sulphur' # Not used by TNG simulation\n",
    "indexing['Ca'] = 'Calcium' # Not used by TNG simulation\n",
    "indexing['Fe'] = 'Iron'\n",
    "\n",
    "elements = list(indexing.keys())\n",
    "\n",
    "table = {}\n",
    "\n",
    "metallicities = list(f['Metallicities'].value)\n",
    "masses = f['Masses'].value\n",
    "\n",
    "\n",
    "for z_index,z in enumerate(metallicities):\n",
    "    \n",
    "    yield_subtable = {}\n",
    "    \n",
    "    z_name = f['Yield_names'].value[z_index].decode('utf-8')\n",
    "    z_data = f['Yields/'+z_name+'/Yield']\n",
    "     \n",
    "    ejecta_mass = f['Yields/'+z_name+'/Ejected_mass'].value\n",
    "    \n",
    "    yield_subtable['Mass'] = masses\n",
    "    remnants = masses-ejecta_mass\n",
    "    yield_subtable['mass_in_remnants'] = np.divide(remnants,masses)\n",
    "    for el in list(indexing.keys()):\n",
    "        yield_subtable[el] = np.zeros(len(masses))\n",
    "     \n",
    "    summed_yields = np.zeros(len(masses))\n",
    "        \n",
    "    for m_index,mass in enumerate(masses):\n",
    "        for el_index,el in enumerate(elements):\n",
    "            el_yield = z_data[el_index][m_index]\n",
    "            el_yield_fraction = el_yield/(mass-remnants[m_index])\n",
    "            yield_subtable[el][m_index] = el_yield_fraction\n",
    "            summed_yields[m_index]+=el_yield_fraction\n",
    "         \n",
    "    yield_subtable['unprocessed_mass_in_winds'] = 1.-summed_yields-yield_subtable['mass_in_remnants']\n",
    "    \n",
    "    \n",
    "    table[z.astype(float)] = yield_subtable\n",
    "    \n",
    "    # Restructure table\n",
    "    all_keys = ['Mass','mass_in_remnants','unprocessed_mass_in_winds']+elements\n",
    "\n",
    "    list_of_arrays = [yield_subtable[key] for key in all_keys]\n",
    "    restructure_subtable = np.core.records.fromarrays(list_of_arrays,names=all_keys)\n",
    "\n",
    "    table[z] = restructure_subtable\n",
    "\n",
    "        "
   ]
  },
  {
   "cell_type": "code",
   "execution_count": null,
   "metadata": {
    "collapsed": true
   },
   "outputs": [],
   "source": []
  },
  {
   "cell_type": "code",
   "execution_count": 268,
   "metadata": {},
   "outputs": [
    {
     "data": {
      "text/plain": [
       "rec.array([ (   8.,  0.35942191,  0.64057808, -0.12350683,  0.1029522 ,  0.00032646,  0.00321482,  0.01195691,  0.00103193,  0.00114013,  0.00356276,  -6.92857648e-05,  -3.71730166e-05, -0.00057193),\n",
       " (   9.,  0.33912018,  0.66087982, -0.15501787,  0.10385986,  0.00233874,  0.00333841,  0.01976553,  0.00271937,  0.00102403,  0.00852475,   5.97119192e-03,   8.98001366e-04,  0.00657798),\n",
       " (  12.,  0.30720448,  0.69279552, -0.21484816,  0.08282538,  0.00722998,  0.00320906,  0.07619383,  0.01721282,  0.0040116 ,  0.00891201,   4.08016983e-03,   5.44621027e-04,  0.01062868),\n",
       " (  13.,  0.32168815,  0.67831188, -0.14169773,  0.09888977,  0.00231689,  0.00247367,  0.01482159,  0.00397462,  0.00409992,  0.00568473,   2.31677154e-03,   2.14743384e-04,  0.00690501),\n",
       " (  15.,  0.30451724,  0.69548277, -0.15058133,  0.12184691, -0.00104081,  0.0028229 ,  0.00606428,  0.00276856,  0.00486294,  0.0054797 ,   1.75553362e-03,   1.31738954e-04,  0.00588956),\n",
       " (  18.,  0.28380913,  0.71619087, -0.19482197,  0.10243692,  0.00156708,  0.00231469,  0.05097624,  0.01371858,  0.01165392,  0.00577009,   1.49345933e-03,   1.16998221e-04,  0.004774  ),\n",
       " (  20.,  0.26973778,  0.73026221, -0.21796803,  0.09739482,  0.00532106,  0.0021897 ,  0.06346585,  0.0334619 ,  0.00830979,  0.00271852,   8.86459835e-04,   7.07614454e-05,  0.00414917),\n",
       " (  25.,  0.2443383 ,  0.7556617 , -0.25789607,  0.05076784,  0.00236075,  0.00193326,  0.11734425,  0.05681309,  0.01927672,  0.00478642,   1.34213280e-03,   1.15786504e-04,  0.00315581),\n",
       " (  30.,  0.24305223,  0.75694776, -0.27160254,  0.05211003,  0.00225844,  0.00200365,  0.13561349,  0.05201016,  0.01427802,  0.00759726,   2.67403037e-03,   2.83673435e-04,  0.00277381),\n",
       " (  40.,  0.20080443,  0.79919558, -0.30549344, -0.0460032 ,  0.00776313,  0.00046937,  0.22774656,  0.08729676,  0.01902683,  0.00545627,   1.89449394e-03,   1.94323395e-04,  0.0016489 ),\n",
       " (  60.,  0.26020387,  0.73979616, -0.41148058,  0.27269211,  0.06118881,  0.00399416,  0.05014854,  0.01173154,  0.00121884,  0.00515666,   2.08950834e-03,   1.44584352e-04,  0.00311579),\n",
       " ( 100.,  0.25432488,  0.74567511, -0.45022476,  0.28790563,  0.08611434,  0.00495456,  0.04745167,  0.01632586,  0.00186498,  0.00291049,   1.04456116e-03,   7.91846905e-05,  0.00157349),\n",
       " ( 120.,  0.24964885,  0.75035115, -0.45215389,  0.34751725,  0.05212093,  0.00635645,  0.02904894,  0.01074402,  0.00120993,  0.00254452,   9.39658494e-04,   6.35472243e-05,  0.00160864)], \n",
       "          dtype=[('Mass', '<f4'), ('mass_in_remnants', '<f4'), ('unprocessed_mass_in_winds', '<f8'), ('H', '<f8'), ('He', '<f8'), ('C', '<f8'), ('N', '<f8'), ('O', '<f8'), ('Ne', '<f8'), ('Mg', '<f8'), ('Si', '<f8'), ('S', '<f8'), ('Ca', '<f8'), ('Fe', '<f8')])"
      ]
     },
     "execution_count": 268,
     "metadata": {},
     "output_type": "execute_result"
    }
   ],
   "source": [
    "table[metallicities[3]]"
   ]
  },
  {
   "cell_type": "code",
   "execution_count": null,
   "metadata": {
    "collapsed": true
   },
   "outputs": [],
   "source": []
  },
  {
   "cell_type": "code",
   "execution_count": 19,
   "metadata": {},
   "outputs": [
    {
     "data": {
      "text/plain": [
       "0.15777491746376046"
      ]
     },
     "execution_count": 19,
     "metadata": {},
     "output_type": "execute_result"
    }
   ],
   "source": [
    "f['Yields/Z_0.004/Yield'][1][5]/(12.588024)"
   ]
  },
  {
   "cell_type": "code",
   "execution_count": 15,
   "metadata": {},
   "outputs": [
    {
     "data": {
      "text/plain": [
       "12.588024"
      ]
     },
     "execution_count": 15,
     "metadata": {},
     "output_type": "execute_result"
    }
   ],
   "source": [
    "f['Yields/Z_0.004/Ejected_mass'][5]"
   ]
  },
  {
   "cell_type": "code",
   "execution_count": 18,
   "metadata": {},
   "outputs": [
    {
     "data": {
      "text/plain": [
       "18.0"
      ]
     },
     "execution_count": 18,
     "metadata": {},
     "output_type": "execute_result"
    }
   ],
   "source": [
    "f['Masses'][5]"
   ]
  },
  {
   "cell_type": "code",
   "execution_count": null,
   "metadata": {
    "collapsed": true
   },
   "outputs": [],
   "source": []
  }
 ],
 "metadata": {
  "kernelspec": {
   "display_name": "Python 3",
   "language": "python",
   "name": "python3"
  },
  "language_info": {
   "codemirror_mode": {
    "name": "ipython",
    "version": 3
   },
   "file_extension": ".py",
   "mimetype": "text/x-python",
   "name": "python",
   "nbconvert_exporter": "python",
   "pygments_lexer": "ipython3",
   "version": "3.6.1"
  }
 },
 "nbformat": 4,
 "nbformat_minor": 2
}
