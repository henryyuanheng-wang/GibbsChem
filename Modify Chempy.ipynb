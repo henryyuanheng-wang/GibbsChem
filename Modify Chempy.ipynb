{
 "cells": [
  {
   "cell_type": "markdown",
   "metadata": {},
   "source": [
    "**Yield Tables**\n",
    "- CL18 = Prantzos+18/Limongi&Chieffi18 for CC-SN\n",
    "- Seitenzahl+13 for SNIa\n",
    "- Karakas+10 for AGB"
   ]
  },
  {
   "cell_type": "markdown",
   "metadata": {},
   "source": [
    "**Used elements**:\n",
    "\n",
    "['Al', 'C', 'Ca', 'Fe', 'H', 'K', 'Mg', 'Mn', 'N', 'Na', 'Ne', 'Ni', 'O', 'S', 'Si', 'Ti', 'V']\n",
    "to match APOGEE dataset. We must also track H in the code to get [X/Fe] and [Fe/H] abundances as outputs."
   ]
  },
  {
   "cell_type": "markdown",
   "metadata": {},
   "source": [
    "** Other parameters **\n",
    "- Asplund09 solar abundances\n",
    "- 100Msun IMF limit"
   ]
  },
  {
   "cell_type": "markdown",
   "metadata": {},
   "source": [
    "## NB: Ordering is different between APOGEE and Chempy at the moment!!"
   ]
  },
  {
   "cell_type": "markdown",
   "metadata": {},
   "source": [
    "## Define the function to create the dataset:"
   ]
  },
  {
   "cell_type": "code",
   "execution_count": 7,
   "metadata": {},
   "outputs": [
    {
     "name": "stdout",
     "output_type": "stream",
     "text": [
      "Populating the interactive namespace from numpy and matplotlib\n"
     ]
    }
   ],
   "source": [
    "%pylab inline\n",
    "# Load norm_dataset:\n",
    "datset=np.load(\"APOGEE_dataset.npz\")\n",
    "training_params=np.load(\"APOGEE Training Data.npz\")\n",
    "param_grid=training_params['param_grid']"
   ]
  },
  {
   "cell_type": "code",
   "execution_count": 8,
   "metadata": {},
   "outputs": [],
   "source": [
    "from Chempy.cem_function import extract_parameters_and_priors,run_Chempy_sample\n",
    "from Chempy.parameter import ModelParameters\n",
    "a=ModelParameters()"
   ]
  },
  {
   "cell_type": "code",
   "execution_count": 10,
   "metadata": {},
   "outputs": [
    {
     "name": "stderr",
     "output_type": "stream",
     "text": [
      "/home/oliver/anaconda2/lib/python2.7/site-packages/numpy/core/records.py:513: FutureWarning: Numpy has detected that you may be viewing or writing to an array returned by selecting multiple fields in a structured array. \n",
      "\n",
      "This code may break in numpy 1.15 because this will return a view instead of a copy -- see release notes for details.\n",
      "  return obj.view(dtype=(self.dtype.type, obj.dtype))\n",
      "Chempy/time_integration.py:279: RuntimeWarning: divide by zero encountered in double_scalars\n",
      "  self.gas_reservoir['Z'][index] = self.gas_reservoir['Z'][index] / float(self.gas_reservoir['gas'][index])\n",
      "Chempy/time_integration.py:279: RuntimeWarning: invalid value encountered in double_scalars\n",
      "  self.gas_reservoir['Z'][index] = self.gas_reservoir['Z'][index] / float(self.gas_reservoir['gas'][index])\n",
      "Chempy/wrapper.py:167: RuntimeWarning: invalid value encountered in subtract\n",
      "  abundances[element] -= abundances['Fe']\n"
     ]
    }
   ],
   "source": [
    "abundances,els=run_Chempy_sample(param_grid[3],a)"
   ]
  },
  {
   "cell_type": "code",
   "execution_count": null,
   "metadata": {},
   "outputs": [],
   "source": []
  },
  {
   "cell_type": "code",
   "execution_count": null,
   "metadata": {},
   "outputs": [],
   "source": []
  },
  {
   "cell_type": "code",
   "execution_count": null,
   "metadata": {},
   "outputs": [],
   "source": []
  },
  {
   "cell_type": "code",
   "execution_count": 21,
   "metadata": {},
   "outputs": [
    {
     "data": {
      "text/plain": [
       "['Al',\n",
       " 'C',\n",
       " 'Ca',\n",
       " 'Fe',\n",
       " 'H',\n",
       " 'K',\n",
       " 'Mg',\n",
       " 'Mn',\n",
       " 'N',\n",
       " 'Na',\n",
       " 'Ne',\n",
       " 'Ni',\n",
       " 'O',\n",
       " 'S',\n",
       " 'Si',\n",
       " 'Ti',\n",
       " 'V']"
      ]
     },
     "execution_count": 21,
     "metadata": {},
     "output_type": "execute_result"
    }
   ],
   "source": [
    "from Chempy.neural import create_dataset\n",
    "a.elements_to_trace"
   ]
  },
  {
   "cell_type": "code",
   "execution_count": 20,
   "metadata": {},
   "outputs": [
    {
     "data": {
      "text/plain": [
       "16"
      ]
     },
     "execution_count": 20,
     "metadata": {},
     "output_type": "execute_result"
    }
   ],
   "source": [
    "p,np,ab=create_dataset(param_grid[4,:-1])\n",
    "len(ab)"
   ]
  },
  {
   "cell_type": "code",
   "execution_count": null,
   "metadata": {},
   "outputs": [],
   "source": []
  }
 ],
 "metadata": {
  "kernelspec": {
   "display_name": "Python 2",
   "language": "python",
   "name": "python2"
  },
  "language_info": {
   "codemirror_mode": {
    "name": "ipython",
    "version": 2
   },
   "file_extension": ".py",
   "mimetype": "text/x-python",
   "name": "python",
   "nbconvert_exporter": "python",
   "pygments_lexer": "ipython2",
   "version": "2.7.15"
  }
 },
 "nbformat": 4,
 "nbformat_minor": 2
}
