{
 "cells": [
  {
   "cell_type": "markdown",
   "metadata": {},
   "source": [
    "**Yield Tables**\n",
    "- CL18 = Prantzos+18/Limongi&Chieffi18 for CC-SN\n",
    "- Seitenzahl+13 for SNIa\n",
    "- Karakas+10 for AGB"
   ]
  },
  {
   "cell_type": "markdown",
   "metadata": {},
   "source": [
    "**Used elements**:\n",
    "\n",
    "['Al', 'C', 'Ca', 'Fe', 'H', 'K', 'Mg', 'Mn', 'N', 'Na', 'Ne', 'Ni', 'O', 'S', 'Si', 'Ti', 'V']\n",
    "to match APOGEE dataset. We must also track H in the code to get [X/Fe] and [Fe/H] abundances as outputs."
   ]
  },
  {
   "cell_type": "markdown",
   "metadata": {},
   "source": [
    "** Other parameters **\n",
    "- Asplund09 solar abundances\n",
    "- 100Msun IMF limit"
   ]
  },
  {
   "cell_type": "code",
   "execution_count": null,
   "metadata": {},
   "outputs": [],
   "source": []
  },
  {
   "cell_type": "code",
   "execution_count": null,
   "metadata": {},
   "outputs": [],
   "source": []
  },
  {
   "cell_type": "markdown",
   "metadata": {},
   "source": [
    "- Abundance training grid is currently being made on Bob.\n",
    "\n",
    "- This has $8^6$ elements - with parameters drawn uniformly from the prior Gaussian (of 1$\\sigma$) width only and time drawn uniformly from $(0.5,2.5)$ ln(Gyr) range."
   ]
  },
  {
   "cell_type": "code",
   "execution_count": null,
   "metadata": {},
   "outputs": [],
   "source": []
  }
 ],
 "metadata": {
  "kernelspec": {
   "display_name": "Python 2",
   "language": "python",
   "name": "python2"
  },
  "language_info": {
   "codemirror_mode": {
    "name": "ipython",
    "version": 2
   },
   "file_extension": ".py",
   "mimetype": "text/x-python",
   "name": "python",
   "nbconvert_exporter": "python",
   "pygments_lexer": "ipython2",
   "version": "2.7.15"
  }
 },
 "nbformat": 4,
 "nbformat_minor": 2
}
