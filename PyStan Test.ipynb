{
 "cells": [
  {
   "cell_type": "code",
   "execution_count": 2,
   "metadata": {},
   "outputs": [],
   "source": [
    "import pystan\n",
    "\n",
    "schools_code = \"\"\"\n",
    "data {\n",
    "    int<lower=0> J; // number of schools\n",
    "    vector[J] y; // estimated treatment effects\n",
    "    vector<lower=0>[J] sigma; // s.e. of effect estimates\n",
    "}\n",
    "parameters {\n",
    "    real mu;\n",
    "    real<lower=0> tau;\n",
    "    vector[J] eta;\n",
    "}\n",
    "transformed parameters {\n",
    "    vector[J] theta;\n",
    "    theta = mu + tau * eta;\n",
    "}\n",
    "model {\n",
    "    eta ~ normal(0, 1);\n",
    "    y ~ normal(theta, sigma);\n",
    "}\n",
    "\"\"\"\n",
    "\n",
    "schools_dat = {'J': 8,\n",
    "               'y': [28,  8, -3,  7, -1,  1, 18, 12],\n",
    "               'sigma': [15, 10, 16, 11,  9, 11, 10, 18]}"
   ]
  },
  {
   "cell_type": "code",
   "execution_count": 3,
   "metadata": {},
   "outputs": [
    {
     "name": "stderr",
     "output_type": "stream",
     "text": [
      "INFO:pystan:COMPILING THE C++ CODE FOR MODEL anon_model_19a09b474d1901f191444eaf8a6b8ce2 NOW.\n"
     ]
    }
   ],
   "source": [
    "sm = pystan.StanModel(model_code=schools_code)"
   ]
  },
  {
   "cell_type": "code",
   "execution_count": 4,
   "metadata": {},
   "outputs": [],
   "source": [
    "fit = sm.sampling(data=schools_dat, iter=1000, chains=4)"
   ]
  },
  {
   "cell_type": "code",
   "execution_count": 5,
   "metadata": {},
   "outputs": [
    {
     "data": {
      "text/plain": [
       "Inference for Stan model: anon_model_19a09b474d1901f191444eaf8a6b8ce2.\n",
       "4 chains, each with iter=1000; warmup=500; thin=1; \n",
       "post-warmup draws per chain=500, total post-warmup draws=2000.\n",
       "\n",
       "           mean se_mean     sd   2.5%    25%    50%    75%  97.5%  n_eff   Rhat\n",
       "mu         7.68    0.13   4.84  -1.71   4.59   7.72  10.97  16.71   1424    1.0\n",
       "tau        6.61    0.34   6.46   0.24   2.29   5.05   8.88  21.75    353   1.01\n",
       "eta[1]     0.38    0.02   0.93  -1.46  -0.24   0.41   0.98   2.19   2333    1.0\n",
       "eta[2]     0.02    0.02   0.87  -1.78  -0.52   0.05   0.57   1.74   2397    1.0\n",
       "eta[3]     -0.2    0.02   0.96  -2.07  -0.85  -0.21   0.44   1.69   2456    1.0\n",
       "eta[4]    -0.05    0.02   0.86  -1.76  -0.62  -0.07   0.51   1.64   2079    1.0\n",
       "eta[5]    -0.32    0.02    0.9  -2.09  -0.88  -0.33   0.24   1.54   1920    1.0\n",
       "eta[6]    -0.21    0.02   0.93  -2.04  -0.81  -0.22   0.39   1.68   2343    1.0\n",
       "eta[7]     0.31    0.02   0.91  -1.59  -0.24   0.32   0.94   2.03   2286    1.0\n",
       "eta[8]     0.08    0.02   0.92  -1.76  -0.53   0.05   0.72   1.87   2409    1.0\n",
       "theta[1]  11.22    0.27   8.56  -2.81   5.75  10.09  15.23   32.5   1023   1.01\n",
       "theta[2]   7.93    0.15   6.23   -4.1    4.2   7.82  11.53  21.07   1643    1.0\n",
       "theta[3]   5.93    0.17   7.79 -12.35    1.6    6.6  10.77  20.41   2078    1.0\n",
       "theta[4]   7.47    0.13   6.38  -5.83   3.78   7.68  11.43  20.11   2416    1.0\n",
       "theta[5]   5.08    0.15   6.43  -9.21   1.12   5.64   9.39  16.63   1871    1.0\n",
       "theta[6]   6.06    0.14   6.55  -8.49   2.43   6.56  10.07  17.88   2306    1.0\n",
       "theta[7]  10.57    0.16   6.81  -1.39   5.79   9.97  14.79  25.71   1730    1.0\n",
       "theta[8]    8.3    0.18   7.86   -6.8   3.98   7.94  12.42  25.08   1947    1.0\n",
       "lp__      -4.94    0.12   2.66 -10.93  -6.58   -4.8  -3.06  -0.05    482   1.01\n",
       "\n",
       "Samples were drawn using NUTS at Thu Nov 29 16:13:19 2018.\n",
       "For each parameter, n_eff is a crude measure of effective sample size,\n",
       "and Rhat is the potential scale reduction factor on split chains (at \n",
       "convergence, Rhat=1)."
      ]
     },
     "execution_count": 5,
     "metadata": {},
     "output_type": "execute_result"
    }
   ],
   "source": [
    "fit"
   ]
  },
  {
   "cell_type": "code",
   "execution_count": null,
   "metadata": {},
   "outputs": [],
   "source": [
    "model_code = \"\"\"\n",
    "data {\n",
    "    int<lower=0> n_stars; // number of stars\n",
    "    vector[n_stars] abundance_data; // estimated treatment effects\n",
    "    vector<lower=0>[n_stars] abundance_errors; // s.e. of effect estimates\n",
    "}\n",
    "parameters {\n",
    "    vector[2] Lambda;\n",
    "    vector[3] Theta;\n",
    "    real mu;\n",
    "    real<lower=0> tau;\n",
    "    vector[J] eta;\n",
    "}\n",
    "transformed parameters {\n",
    "    vector[J] theta;\n",
    "    theta = mu + tau * eta;\n",
    "}\n",
    "model {\n",
    "    eta ~ normal(0, 1);\n",
    "    y ~ normal(theta, sigma);\n",
    "}\n",
    "\"\"\""
   ]
  }
 ],
 "metadata": {
  "kernelspec": {
   "display_name": "Python 3",
   "language": "python",
   "name": "python3"
  },
  "language_info": {
   "codemirror_mode": {
    "name": "ipython",
    "version": 3
   },
   "file_extension": ".py",
   "mimetype": "text/x-python",
   "name": "python",
   "nbconvert_exporter": "python",
   "pygments_lexer": "ipython3",
   "version": "3.7.0"
  }
 },
 "nbformat": 4,
 "nbformat_minor": 2
}
