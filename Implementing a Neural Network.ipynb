{
 "cells": [
  {
   "cell_type": "markdown",
   "metadata": {},
   "source": [
    "## Create sample grid for training data - USING KARAKAS 10"
   ]
  },
  {
   "cell_type": "code",
   "execution_count": 1,
   "metadata": {},
   "outputs": [
    {
     "name": "stdout",
     "output_type": "stream",
     "text": [
      "Populating the interactive namespace from numpy and matplotlib\n"
     ]
    }
   ],
   "source": [
    "%pylab inline"
   ]
  },
  {
   "cell_type": "code",
   "execution_count": 13,
   "metadata": {
    "collapsed": true
   },
   "outputs": [],
   "source": [
    "from Chempy.parameter import ModelParameters\n",
    "from Chempy.cem_function import extract_parameters_and_priors, posterior_function_returning_predictions\n",
    "a = ModelParameters()"
   ]
  },
  {
   "cell_type": "code",
   "execution_count": 3,
   "metadata": {
    "collapsed": true
   },
   "outputs": [],
   "source": [
    "## This calculates a list of 7 trial values for each parameter around the prior value, as an array of 6 lists which will be combined\n",
    "# Set the desired Gaussian sigma values in the widths parameter (values > prior sigma are used to fully explore parameter space)\n",
    "# Parameter values are chosen that are evenly distributed in the Gaussian probability space (e.g. 12.5, 25, 37.5 etc. percentile points)\n",
    "\n",
    "from scipy.stats import norm # Gaussian function\n",
    "test_size = 7\n",
    "grid1d = np.zeros((test_size,len(a.p0)))\n",
    "widths = np.array([0.6,0.3,0.3,0.3,0.2,0.2])\n",
    "for i in range(test_size):\n",
    "    prob = (i+1)/(test_size+1) \n",
    "    grid1d[i]=  norm.ppf(prob,loc = a.p0, scale = widths)\n",
    "grid1d = grid1d.T "
   ]
  },
  {
   "cell_type": "markdown",
   "metadata": {},
   "source": [
    "**Can we find a nicer way of doing the below - i.e. for any number of parameters**"
   ]
  },
  {
   "cell_type": "code",
   "execution_count": 11,
   "metadata": {},
   "outputs": [],
   "source": [
    "## Now combine lists to make list of all possible combinations (test_size^len(a.p0) = 7^6 ~ 10,000)\n",
    "grid = np.array(np.meshgrid(grid1d[0],grid1d[1],grid1d[2],grid1d[3],grid1d[4],grid1d[5])).T.reshape(-1,6)\n",
    "np.save('Neural/training_grid.npy',grid) # Save for future use"
   ]
  },
  {
   "cell_type": "code",
   "execution_count": 5,
   "metadata": {
    "collapsed": true
   },
   "outputs": [],
   "source": [
    "import warnings\n",
    "warnings.filterwarnings(\"ignore\")"
   ]
  },
  {
   "cell_type": "code",
   "execution_count": 23,
   "metadata": {},
   "outputs": [
    {
     "name": "stdout",
     "output_type": "stream",
     "text": [
      "0\n"
     ]
    }
   ],
   "source": [
    "# USING Karakas 10 yields for now\n",
    "grid = grid[:2] # USE THIS FOR TESTING\n",
    "training_abundances = np.zeros((len(grid),22)) # 22 is number of traceable elements - automate this??\n",
    "for i,item in enumerate(grid):\n",
    "    abundances,_ = posterior_function_returning_predictions((item,a)) # Send new parameters from grid\n",
    "    training_abundances[i] = abundances\n",
    "    if i%10 == 0: # For testing\n",
    "        print(i)\n",
    "        \n",
    "np.save('Neural/training_abundances.npy', training_abundances)"
   ]
  },
  {
   "cell_type": "markdown",
   "metadata": {},
   "source": [
    "**Automate no. traceable elements **"
   ]
  },
  {
   "cell_type": "markdown",
   "metadata": {},
   "source": [
    "## NOTES\n",
    "- All code is now in neural.py file\n",
    "- Should put changeable parameters e.g. number of choices for each parameter in parameter.py file\n",
    "- Find nicer way of using all rows from grid\n",
    "- Check whether to use Karakas 10 or Karakas 16\n",
    "- Automate number of traceable elements - just copy that from code"
   ]
  },
  {
   "cell_type": "code",
   "execution_count": null,
   "metadata": {
    "collapsed": true
   },
   "outputs": [],
   "source": []
  }
 ],
 "metadata": {
  "kernelspec": {
   "display_name": "Python 3",
   "language": "python",
   "name": "python3"
  },
  "language_info": {
   "codemirror_mode": {
    "name": "ipython",
    "version": 3
   },
   "file_extension": ".py",
   "mimetype": "text/x-python",
   "name": "python",
   "nbconvert_exporter": "python",
   "pygments_lexer": "ipython3",
   "version": "3.6.1"
  }
 },
 "nbformat": 4,
 "nbformat_minor": 2
}
