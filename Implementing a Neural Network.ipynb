{
 "cells": [
  {
   "cell_type": "markdown",
   "metadata": {},
   "source": [
    "## Create sample grid for training data - USING KARAKAS 10"
   ]
  },
  {
   "cell_type": "code",
   "execution_count": 1,
   "metadata": {},
   "outputs": [
    {
     "name": "stdout",
     "output_type": "stream",
     "text": [
      "Populating the interactive namespace from numpy and matplotlib\n"
     ]
    }
   ],
   "source": [
    "%pylab inline"
   ]
  },
  {
   "cell_type": "code",
   "execution_count": 2,
   "metadata": {
    "collapsed": true
   },
   "outputs": [],
   "source": [
    "from Chempy.parameter import ModelParameters\n",
    "from Chempy.cem_function import extract_parameters_and_priors, posterior_function_returning_predictions\n",
    "a = ModelParameters()"
   ]
  },
  {
   "cell_type": "code",
   "execution_count": 31,
   "metadata": {},
   "outputs": [],
   "source": [
    "## This calculates a list of 7 trial values for each parameter around the prior value, as an array of 6 lists which will be combined\n",
    "# Set the desired Gaussian sigma values in the widths parameter (values > prior sigma are used to fully explore parameter space)\n",
    "# Parameter values are chosen that are evenly distributed in the Gaussian probability space (e.g. 12.5, 25, 37.5 etc. percentile points)\n",
    "\n",
    "# Create normalized (mean = 0, sigma = 1) grid and associated parameter space output\n",
    "from scipy.stats import norm as gaussian # Gaussian function (strange import to avoid clash with numpy)\n",
    "N = a.training_size\n",
    "widths = a.neural_widths\n",
    "prob = np.arange(1/(N+1),1-1/(N+1),1/(N+1)) # Create uniform grid of probability\n",
    "grids_1d = [gaussian.ppf(prob) for _ in range(N+1)] # Create 1d intervals in normalized parameter space\n",
    "\n",
    "# Create normalized grids of all possible combinations (5^6 ~ 16,000)\n",
    "norm_param_grid = np.array(np.meshgrid(*grids_1d)).T.reshape(-1,len(a.p0)) # Create list of all arrays\n",
    "np.save('Neural/norm_training_grid.npy',norm_param_grid) \n",
    "\n",
    "# Create grids in parameter space\n",
    "param_grid = [item*widths+a.p0 for item in norm_param_grid]\n",
    "np.save('Neural/param_grid.npy',param_grid)"
   ]
  },
  {
   "cell_type": "code",
   "execution_count": 32,
   "metadata": {
    "collapsed": true
   },
   "outputs": [],
   "source": [
    "import warnings\n",
    "warnings.filterwarnings(\"ignore\")"
   ]
  },
  {
   "cell_type": "code",
   "execution_count": null,
   "metadata": {},
   "outputs": [
    {
     "name": "stdout",
     "output_type": "stream",
     "text": [
      "Calculating abundance 0 of 15625\n",
      "Calculating abundance 10 of 15625\n",
      "Calculating abundance 20 of 15625\n",
      "Calculating abundance 30 of 15625\n",
      "Calculating abundance 40 of 15625\n",
      "Calculating abundance 50 of 15625\n",
      "Calculating abundance 60 of 15625\n",
      "Calculating abundance 70 of 15625\n",
      "Calculating abundance 80 of 15625\n",
      "Calculating abundance 90 of 15625\n",
      "Calculating abundance 100 of 15625\n",
      "Calculating abundance 110 of 15625\n",
      "Calculating abundance 120 of 15625\n",
      "Calculating abundance 130 of 15625\n",
      "Calculating abundance 140 of 15625\n",
      "Calculating abundance 150 of 15625\n",
      "Calculating abundance 160 of 15625\n",
      "Calculating abundance 170 of 15625\n",
      "Calculating abundance 180 of 15625\n",
      "Calculating abundance 190 of 15625\n",
      "Calculating abundance 200 of 15625\n",
      "Calculating abundance 210 of 15625\n",
      "Calculating abundance 220 of 15625\n",
      "Calculating abundance 230 of 15625\n",
      "Calculating abundance 240 of 15625\n",
      "Calculating abundance 250 of 15625\n",
      "Calculating abundance 260 of 15625\n",
      "Calculating abundance 270 of 15625\n",
      "Calculating abundance 280 of 15625\n",
      "Calculating abundance 290 of 15625\n",
      "Calculating abundance 300 of 15625\n",
      "Calculating abundance 310 of 15625\n",
      "Calculating abundance 320 of 15625\n",
      "Calculating abundance 330 of 15625\n",
      "Calculating abundance 340 of 15625\n",
      "Calculating abundance 350 of 15625\n",
      "Calculating abundance 360 of 15625\n",
      "Calculating abundance 370 of 15625\n",
      "Calculating abundance 380 of 15625\n",
      "Calculating abundance 390 of 15625\n",
      "Calculating abundance 400 of 15625\n",
      "Calculating abundance 410 of 15625\n",
      "Calculating abundance 420 of 15625\n",
      "Calculating abundance 430 of 15625\n",
      "Calculating abundance 440 of 15625\n",
      "Calculating abundance 450 of 15625\n",
      "Calculating abundance 460 of 15625\n",
      "Calculating abundance 470 of 15625\n",
      "Calculating abundance 480 of 15625\n",
      "Calculating abundance 490 of 15625\n",
      "Calculating abundance 500 of 15625\n",
      "Calculating abundance 510 of 15625\n",
      "Calculating abundance 520 of 15625\n",
      "Calculating abundance 530 of 15625\n",
      "Calculating abundance 540 of 15625\n",
      "Calculating abundance 550 of 15625\n",
      "Calculating abundance 560 of 15625\n",
      "Calculating abundance 570 of 15625\n",
      "Calculating abundance 580 of 15625\n",
      "Calculating abundance 590 of 15625\n",
      "Calculating abundance 600 of 15625\n",
      "Calculating abundance 610 of 15625\n",
      "Calculating abundance 620 of 15625\n",
      "Calculating abundance 630 of 15625\n",
      "Calculating abundance 640 of 15625\n",
      "Calculating abundance 650 of 15625\n",
      "Calculating abundance 660 of 15625\n",
      "Calculating abundance 670 of 15625\n",
      "Calculating abundance 680 of 15625\n",
      "Calculating abundance 690 of 15625\n",
      "Calculating abundance 700 of 15625\n",
      "Calculating abundance 710 of 15625\n",
      "Calculating abundance 720 of 15625\n",
      "Calculating abundance 730 of 15625\n",
      "Calculating abundance 740 of 15625\n",
      "Calculating abundance 750 of 15625\n",
      "Calculating abundance 760 of 15625\n",
      "Calculating abundance 770 of 15625\n",
      "Calculating abundance 780 of 15625\n",
      "Calculating abundance 790 of 15625\n",
      "Calculating abundance 800 of 15625\n",
      "Calculating abundance 810 of 15625\n",
      "Calculating abundance 820 of 15625\n",
      "Calculating abundance 830 of 15625\n",
      "Calculating abundance 840 of 15625\n",
      "Calculating abundance 850 of 15625\n",
      "Calculating abundance 860 of 15625\n",
      "Calculating abundance 870 of 15625\n",
      "Calculating abundance 880 of 15625\n",
      "Calculating abundance 890 of 15625\n",
      "Calculating abundance 900 of 15625\n",
      "Calculating abundance 910 of 15625\n",
      "Calculating abundance 920 of 15625\n",
      "Calculating abundance 930 of 15625\n",
      "Calculating abundance 940 of 15625\n",
      "Calculating abundance 950 of 15625\n",
      "Calculating abundance 960 of 15625\n",
      "Calculating abundance 970 of 15625\n",
      "Calculating abundance 980 of 15625\n",
      "Calculating abundance 990 of 15625\n",
      "Calculating abundance 1000 of 15625\n",
      "Calculating abundance 1010 of 15625\n",
      "Calculating abundance 1020 of 15625\n",
      "Calculating abundance 1030 of 15625\n",
      "Calculating abundance 1040 of 15625\n",
      "Calculating abundance 1050 of 15625\n",
      "Calculating abundance 1060 of 15625\n",
      "Calculating abundance 1070 of 15625\n",
      "Calculating abundance 1080 of 15625\n",
      "Calculating abundance 1090 of 15625\n",
      "Calculating abundance 1100 of 15625\n",
      "Calculating abundance 1110 of 15625\n",
      "Calculating abundance 1120 of 15625\n",
      "Calculating abundance 1130 of 15625\n",
      "Calculating abundance 1140 of 15625\n",
      "Calculating abundance 1150 of 15625\n",
      "Calculating abundance 1160 of 15625\n",
      "Calculating abundance 1170 of 15625\n",
      "Calculating abundance 1180 of 15625\n",
      "Calculating abundance 1190 of 15625\n",
      "Calculating abundance 1200 of 15625\n",
      "Calculating abundance 1210 of 15625\n",
      "Calculating abundance 1220 of 15625\n",
      "Calculating abundance 1230 of 15625\n",
      "Calculating abundance 1240 of 15625\n",
      "Calculating abundance 1250 of 15625\n",
      "Calculating abundance 1260 of 15625\n",
      "Calculating abundance 1270 of 15625\n",
      "Calculating abundance 1280 of 15625\n",
      "Calculating abundance 1290 of 15625\n",
      "Calculating abundance 1300 of 15625\n",
      "Calculating abundance 1310 of 15625\n",
      "Calculating abundance 1320 of 15625\n",
      "Calculating abundance 1330 of 15625\n",
      "Calculating abundance 1340 of 15625\n",
      "Calculating abundance 1350 of 15625\n",
      "Calculating abundance 1360 of 15625\n",
      "Calculating abundance 1370 of 15625\n",
      "Calculating abundance 1380 of 15625\n",
      "Calculating abundance 1390 of 15625\n",
      "Calculating abundance 1400 of 15625\n",
      "Calculating abundance 1410 of 15625\n",
      "Calculating abundance 1420 of 15625\n",
      "Calculating abundance 1430 of 15625\n",
      "Calculating abundance 1440 of 15625\n",
      "Calculating abundance 1450 of 15625\n",
      "Calculating abundance 1460 of 15625\n",
      "Calculating abundance 1470 of 15625\n",
      "Calculating abundance 1480 of 15625\n",
      "Calculating abundance 1490 of 15625\n",
      "Calculating abundance 1500 of 15625\n",
      "Calculating abundance 1510 of 15625\n",
      "Calculating abundance 1520 of 15625\n",
      "Calculating abundance 1530 of 15625\n",
      "Calculating abundance 1540 of 15625\n",
      "Calculating abundance 1550 of 15625\n",
      "Calculating abundance 1560 of 15625\n",
      "Calculating abundance 1570 of 15625\n",
      "Calculating abundance 1580 of 15625\n",
      "Calculating abundance 1590 of 15625\n",
      "Calculating abundance 1600 of 15625\n",
      "Calculating abundance 1610 of 15625\n",
      "Calculating abundance 1620 of 15625\n"
     ]
    }
   ],
   "source": [
    "# USING Karakas 10 yields for now\n",
    "#param_grid = param_grid[:4] # USE THIS FOR TESTING\n",
    "training_abundances = np.zeros((len(param_grid),22)) # 22 is number of traceable elements - automate this??\n",
    "for i,item in enumerate(param_grid):\n",
    "    abundances,_ = posterior_function_returning_predictions((item,a)) # Send new parameters from grid\n",
    "    training_abundances[i] = abundances\n",
    "    if i%10 == 0: # For testing\n",
    "        print(\"Calculating abundance %d of %d\" %(i,len(param_grid)))\n",
    "        \n",
    "np.save('Neural/training_abundances.npy', training_abundances)"
   ]
  },
  {
   "cell_type": "markdown",
   "metadata": {},
   "source": [
    "**Automate no. traceable elements **"
   ]
  },
  {
   "cell_type": "markdown",
   "metadata": {},
   "source": [
    "## NOTES\n",
    "- All code is now in neural.py file\n",
    "- Should put changeable parameters e.g. number of choices for each parameter in parameter.py file - DONE\n",
    "- Find nicer way of using all rows from grid - DONE\n",
    "- Check whether to use Karakas 10 or Karakas 16 - USE KARAKAS 16\n",
    "- Automate number of traceable elements - just copy that from code"
   ]
  },
  {
   "cell_type": "code",
   "execution_count": null,
   "metadata": {
    "collapsed": true
   },
   "outputs": [],
   "source": []
  }
 ],
 "metadata": {
  "kernelspec": {
   "display_name": "Python 3",
   "language": "python",
   "name": "python3"
  },
  "language_info": {
   "codemirror_mode": {
    "name": "ipython",
    "version": 3
   },
   "file_extension": ".py",
   "mimetype": "text/x-python",
   "name": "python",
   "nbconvert_exporter": "python",
   "pygments_lexer": "ipython3",
   "version": "3.6.1"
  }
 },
 "nbformat": 4,
 "nbformat_minor": 2
}
